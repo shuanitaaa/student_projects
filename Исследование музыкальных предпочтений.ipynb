{
 "cells": [
  {
   "cell_type": "markdown",
   "metadata": {
    "id": "E0vqbgi9ay0H"
   },
   "source": [
    "# Исследование сервиса Яндекс.Музыка"
   ]
  },
  {
   "cell_type": "markdown",
   "metadata": {
    "id": "VUC88oWjTJw2"
   },
   "source": [
    "<div style=\"border:solid green 2px; padding: 10px\">\n",
    "\n",
    "Сравнение Москвы и Петербурга окружено мифами. Например:\n",
    " * Москва — мегаполис, подчинённый жёсткому ритму рабочей недели;\n",
    " * Петербург — культурная столица, со своими вкусами.\n",
    "\n",
    "На основе данных Яндекс.Музыки необходимо сравнить поведение пользователей из этих городов.\n",
    "\n",
    "**Цель исследования** — проверьте три гипотезы:\n",
    "1. Активность пользователей зависит от дня недели. Причём в Москве и Петербурге это проявляется по-разному.\n",
    "2. В понедельник утром в Москве преобладают одни жанры, а в Петербурге — другие. Так же и вечером пятницы преобладают разные жанры — в зависимости от города. \n",
    "3. Москва и Петербург предпочитают разные жанры музыки. В Москве чаще слушают поп-музыку, в Петербурге — русский рэп.\n",
    "\n",
    "**Ход исследования**\n",
    "\n",
    "Для исследования взяты данные о треках, прослушанных жителями Москвы и Санкт-Петербурга. О качестве данных ничего не известно. Поэтому перед проверкой гипотез обязательный этап - обзор данных.\n",
    "\n",
    "Данные будут проверены на ошибки, а так же будет дана оценка их влияния на исследование. На этапе предобработки будут приняты решения, как поступить с выявленными ошибками.\n",
    "    \n",
    "    \n",
    "Таким образом, исследование пройдёт в три этапа:\n",
    " 1. Обзор данных.\n",
    " 2. Предобработка данных.\n",
    " 3. Проверка гипотез.\n",
    "\n",
    "---\n",
    "_Основная цель работы - применить базовые навыки библиотеки Pandas, приобретенные при первичном знакомстве с Python._\n"
   ]
  },
  {
   "cell_type": "markdown",
   "metadata": {
    "id": "Ml1hmfXC_Zcs"
   },
   "source": [
    "## Обзор данных\n",
    "\n",
    "В данном разделе будет сформировно первичное предстваление о данных, предоставленных для исследования.\n",
    "\n",
    "\n"
   ]
  },
  {
   "cell_type": "code",
   "execution_count": 1,
   "metadata": {
    "id": "AXN7PHPN_Zcs"
   },
   "outputs": [],
   "source": [
    "import pandas as pd # импорт библиотеки pandas"
   ]
  },
  {
   "cell_type": "code",
   "execution_count": 2,
   "metadata": {
    "id": "fFVu7vqh_Zct"
   },
   "outputs": [],
   "source": [
    "df = pd.read_csv('/datasets/yandex_music_project.csv')  # чтение файла с данными и сохранение в df\n",
    "df.to_csv('file_name.csv', index=False)"
   ]
  },
  {
   "cell_type": "markdown",
   "metadata": {
    "id": "rDoOMd3uTqnZ"
   },
   "source": [
    "Выведу на экран первые десять строк исследуемой таблицы:"
   ]
  },
  {
   "cell_type": "code",
   "execution_count": 3,
   "metadata": {
    "id": "oWTVX3gW_Zct",
    "scrolled": true
   },
   "outputs": [
    {
     "data": {
      "text/html": [
       "<div>\n",
       "<style scoped>\n",
       "    .dataframe tbody tr th:only-of-type {\n",
       "        vertical-align: middle;\n",
       "    }\n",
       "\n",
       "    .dataframe tbody tr th {\n",
       "        vertical-align: top;\n",
       "    }\n",
       "\n",
       "    .dataframe thead th {\n",
       "        text-align: right;\n",
       "    }\n",
       "</style>\n",
       "<table border=\"1\" class=\"dataframe\">\n",
       "  <thead>\n",
       "    <tr style=\"text-align: right;\">\n",
       "      <th></th>\n",
       "      <th>userID</th>\n",
       "      <th>Track</th>\n",
       "      <th>artist</th>\n",
       "      <th>genre</th>\n",
       "      <th>City</th>\n",
       "      <th>time</th>\n",
       "      <th>Day</th>\n",
       "    </tr>\n",
       "  </thead>\n",
       "  <tbody>\n",
       "    <tr>\n",
       "      <th>0</th>\n",
       "      <td>FFB692EC</td>\n",
       "      <td>Kamigata To Boots</td>\n",
       "      <td>The Mass Missile</td>\n",
       "      <td>rock</td>\n",
       "      <td>Saint-Petersburg</td>\n",
       "      <td>20:28:33</td>\n",
       "      <td>Wednesday</td>\n",
       "    </tr>\n",
       "    <tr>\n",
       "      <th>1</th>\n",
       "      <td>55204538</td>\n",
       "      <td>Delayed Because of Accident</td>\n",
       "      <td>Andreas Rönnberg</td>\n",
       "      <td>rock</td>\n",
       "      <td>Moscow</td>\n",
       "      <td>14:07:09</td>\n",
       "      <td>Friday</td>\n",
       "    </tr>\n",
       "    <tr>\n",
       "      <th>2</th>\n",
       "      <td>20EC38</td>\n",
       "      <td>Funiculì funiculà</td>\n",
       "      <td>Mario Lanza</td>\n",
       "      <td>pop</td>\n",
       "      <td>Saint-Petersburg</td>\n",
       "      <td>20:58:07</td>\n",
       "      <td>Wednesday</td>\n",
       "    </tr>\n",
       "    <tr>\n",
       "      <th>3</th>\n",
       "      <td>A3DD03C9</td>\n",
       "      <td>Dragons in the Sunset</td>\n",
       "      <td>Fire + Ice</td>\n",
       "      <td>folk</td>\n",
       "      <td>Saint-Petersburg</td>\n",
       "      <td>08:37:09</td>\n",
       "      <td>Monday</td>\n",
       "    </tr>\n",
       "    <tr>\n",
       "      <th>4</th>\n",
       "      <td>E2DC1FAE</td>\n",
       "      <td>Soul People</td>\n",
       "      <td>Space Echo</td>\n",
       "      <td>dance</td>\n",
       "      <td>Moscow</td>\n",
       "      <td>08:34:34</td>\n",
       "      <td>Monday</td>\n",
       "    </tr>\n",
       "    <tr>\n",
       "      <th>5</th>\n",
       "      <td>842029A1</td>\n",
       "      <td>Преданная</td>\n",
       "      <td>IMPERVTOR</td>\n",
       "      <td>rusrap</td>\n",
       "      <td>Saint-Petersburg</td>\n",
       "      <td>13:09:41</td>\n",
       "      <td>Friday</td>\n",
       "    </tr>\n",
       "    <tr>\n",
       "      <th>6</th>\n",
       "      <td>4CB90AA5</td>\n",
       "      <td>True</td>\n",
       "      <td>Roman Messer</td>\n",
       "      <td>dance</td>\n",
       "      <td>Moscow</td>\n",
       "      <td>13:00:07</td>\n",
       "      <td>Wednesday</td>\n",
       "    </tr>\n",
       "    <tr>\n",
       "      <th>7</th>\n",
       "      <td>F03E1C1F</td>\n",
       "      <td>Feeling This Way</td>\n",
       "      <td>Polina Griffith</td>\n",
       "      <td>dance</td>\n",
       "      <td>Moscow</td>\n",
       "      <td>20:47:49</td>\n",
       "      <td>Wednesday</td>\n",
       "    </tr>\n",
       "    <tr>\n",
       "      <th>8</th>\n",
       "      <td>8FA1D3BE</td>\n",
       "      <td>И вновь продолжается бой</td>\n",
       "      <td>NaN</td>\n",
       "      <td>ruspop</td>\n",
       "      <td>Moscow</td>\n",
       "      <td>09:17:40</td>\n",
       "      <td>Friday</td>\n",
       "    </tr>\n",
       "    <tr>\n",
       "      <th>9</th>\n",
       "      <td>E772D5C0</td>\n",
       "      <td>Pessimist</td>\n",
       "      <td>NaN</td>\n",
       "      <td>dance</td>\n",
       "      <td>Saint-Petersburg</td>\n",
       "      <td>21:20:49</td>\n",
       "      <td>Wednesday</td>\n",
       "    </tr>\n",
       "  </tbody>\n",
       "</table>\n",
       "</div>"
      ],
      "text/plain": [
       "     userID                        Track            artist   genre  \\\n",
       "0  FFB692EC            Kamigata To Boots  The Mass Missile    rock   \n",
       "1  55204538  Delayed Because of Accident  Andreas Rönnberg    rock   \n",
       "2    20EC38            Funiculì funiculà       Mario Lanza     pop   \n",
       "3  A3DD03C9        Dragons in the Sunset        Fire + Ice    folk   \n",
       "4  E2DC1FAE                  Soul People        Space Echo   dance   \n",
       "5  842029A1                    Преданная         IMPERVTOR  rusrap   \n",
       "6  4CB90AA5                         True      Roman Messer   dance   \n",
       "7  F03E1C1F             Feeling This Way   Polina Griffith   dance   \n",
       "8  8FA1D3BE     И вновь продолжается бой               NaN  ruspop   \n",
       "9  E772D5C0                    Pessimist               NaN   dance   \n",
       "\n",
       "             City        time        Day  \n",
       "0  Saint-Petersburg  20:28:33  Wednesday  \n",
       "1            Moscow  14:07:09     Friday  \n",
       "2  Saint-Petersburg  20:58:07  Wednesday  \n",
       "3  Saint-Petersburg  08:37:09     Monday  \n",
       "4            Moscow  08:34:34     Monday  \n",
       "5  Saint-Petersburg  13:09:41     Friday  \n",
       "6            Moscow  13:00:07  Wednesday  \n",
       "7            Moscow  20:47:49  Wednesday  \n",
       "8            Moscow  09:17:40     Friday  \n",
       "9  Saint-Petersburg  21:20:49  Wednesday  "
      ]
     },
     "execution_count": 3,
     "metadata": {},
     "output_type": "execute_result"
    }
   ],
   "source": [
    "df.head(10)  # получение первых 10 строк таблицы df"
   ]
  },
  {
   "cell_type": "code",
   "execution_count": 4,
   "metadata": {
    "id": "DSf2kIb-_Zct"
   },
   "outputs": [
    {
     "name": "stdout",
     "output_type": "stream",
     "text": [
      "<class 'pandas.core.frame.DataFrame'>\n",
      "RangeIndex: 65079 entries, 0 to 65078\n",
      "Data columns (total 7 columns):\n",
      " #   Column    Non-Null Count  Dtype \n",
      "---  ------    --------------  ----- \n",
      " 0     userID  65079 non-null  object\n",
      " 1   Track     63848 non-null  object\n",
      " 2   artist    57876 non-null  object\n",
      " 3   genre     63881 non-null  object\n",
      " 4     City    65079 non-null  object\n",
      " 5   time      65079 non-null  object\n",
      " 6   Day       65079 non-null  object\n",
      "dtypes: object(7)\n",
      "memory usage: 3.5+ MB\n"
     ]
    }
   ],
   "source": [
    "df.info()  # получение общей информации о данных в таблице df"
   ]
  },
  {
   "cell_type": "markdown",
   "metadata": {
    "id": "TaQ2Iwbr_Zct"
   },
   "source": [
    "Итак, в таблице семь столбцов. Тип данных во всех столбцах — `object`.\n",
    "\n",
    "Согласно документации к данным:\n",
    "* `userID` — идентификатор пользователя;\n",
    "* `Track` — название трека;  \n",
    "* `artist` — имя исполнителя;\n",
    "* `genre` — название жанра;\n",
    "* `City` — город пользователя;\n",
    "* `time` — время начала прослушивания;\n",
    "* `Day` — день недели.\n",
    "\n",
    "В названиях колонок видны три нарушения стиля:\n",
    "1. Строчные буквы сочетаются с прописными.\n",
    "2. Встречаются пробелы.\n",
    "3. Имеются названия колонок, указанные не на змеином регистре.\n",
    "\n",
    "\n",
    "\n",
    "Количество значений в столбцах различается. Значит, в данных есть пропущенные значения.\n"
   ]
  },
  {
   "cell_type": "markdown",
   "metadata": {
    "id": "MCB6-dXG_Zct"
   },
   "source": [
    "**Выводы**\n",
    "\n",
    "В каждой строке таблицы — данные о прослушанном треке. \n",
    "Часть колонок описывает саму композицию: название, исполнителя и жанр. Остальные данные рассказывают о пользователе: из какого он города, когда он слушал музыку. \n",
    "\n",
    "Предварительно можно утверждать, что данных достаточно для проверки гипотез. Но встречаются пропуски, а в названиях колонок — расхождения с хорошим стилем.\n",
    "\n",
    "Чтобы двигаться дальше, нужно устранить проблемы в данных."
   ]
  },
  {
   "cell_type": "markdown",
   "metadata": {
    "id": "SjYF6Ub9_Zct"
   },
   "source": [
    "## Предобработка данных\n",
    "\n",
    "\n",
    "На данном этапе будет изменен стиль в заголовках столбцов, исключены пропуски. Затем проведена проверка данных на дубликаты."
   ]
  },
  {
   "cell_type": "markdown",
   "metadata": {
    "id": "dIaKXr29_Zct"
   },
   "source": [
    "### Стиль заголовков\n",
    "Выведу на экран названия столбцов:"
   ]
  },
  {
   "cell_type": "code",
   "execution_count": 5,
   "metadata": {
    "id": "oKOTdF_Q_Zct"
   },
   "outputs": [
    {
     "data": {
      "text/plain": [
       "Index(['  userID', 'Track', 'artist', 'genre', '  City  ', 'time', 'Day'], dtype='object')"
      ]
     },
     "execution_count": 5,
     "metadata": {},
     "output_type": "execute_result"
    }
   ],
   "source": [
    "df.columns  # перечень названий столбцов таблицы df"
   ]
  },
  {
   "cell_type": "markdown",
   "metadata": {
    "id": "zj5534cv_Zct"
   },
   "source": [
    "Приведу названия в соответствие с хорошим стилем:\n",
    "* несколько слов в названии ззапишу в «змеином_регистре»,\n",
    "* все символы сделаю строчными,\n",
    "* устраню пробелы.\n",
    "\n",
    "Для этого переименую колонки так:\n",
    "* `'  userID'` → `'user_id'`;\n",
    "* `'Track'` → `'track'`;\n",
    "* `'  City  '` → `'city'`;\n",
    "* `'Day'` → `'day'`."
   ]
  },
  {
   "cell_type": "code",
   "execution_count": 6,
   "metadata": {
    "id": "ISlFqs5y_Zct"
   },
   "outputs": [],
   "source": [
    "df = df.rename(columns={'  userID': 'user_id', 'Track': 'track', '  City  ': 'city', 'Day': 'day'})  # переименование столбцов"
   ]
  },
  {
   "cell_type": "markdown",
   "metadata": {
    "id": "1dqbh00J_Zct"
   },
   "source": [
    "Проверка результата. Для этого ещё раз выведуна экран названия столбцов:"
   ]
  },
  {
   "cell_type": "code",
   "execution_count": 7,
   "metadata": {
    "id": "d4NOAmTW_Zct"
   },
   "outputs": [
    {
     "data": {
      "text/plain": [
       "Index(['user_id', 'track', 'artist', 'genre', 'city', 'time', 'day'], dtype='object')"
      ]
     },
     "execution_count": 7,
     "metadata": {},
     "output_type": "execute_result"
    }
   ],
   "source": [
    "df.columns  # проверка результатов - перечень названий столбцов"
   ]
  },
  {
   "cell_type": "markdown",
   "metadata": {
    "id": "5ISfbcfY_Zct"
   },
   "source": [
    "### Пропуски значений\n",
    "\n",
    "Сначала посчитаю, сколько в таблице пропущенных значений. Для этого достаточно двух методов `pandas`:"
   ]
  },
  {
   "cell_type": "code",
   "execution_count": 8,
   "metadata": {
    "id": "RskX29qr_Zct"
   },
   "outputs": [
    {
     "data": {
      "text/plain": [
       "user_id       0\n",
       "track      1231\n",
       "artist     7203\n",
       "genre      1198\n",
       "city          0\n",
       "time          0\n",
       "day           0\n",
       "dtype: int64"
      ]
     },
     "execution_count": 8,
     "metadata": {},
     "output_type": "execute_result"
    }
   ],
   "source": [
    "df.isna().sum()  # подсчёт пропусков"
   ]
  },
  {
   "cell_type": "markdown",
   "metadata": {
    "id": "qubhgnlO_Zct"
   },
   "source": [
    "Не все пропущенные значения влияют на исследование. Так в `track` и `artist` пропуски не важны для выполняемой работы. Достаточно заменить их явными обозначениями.\n",
    "\n",
    "Но пропуски в `genre` могут помешать сравнению музыкальных вкусов в Москве и Санкт-Петербурге. На практике было бы правильно установить причину пропусков и восстановить данные. Такой возможности нет в учебном проекте. Придётся:\n",
    "* заполнить и эти пропуски явными обозначениями,\n",
    "* оценить, насколько они повредят расчётам. "
   ]
  },
  {
   "cell_type": "markdown",
   "metadata": {
    "id": "fSv2laPA_Zct"
   },
   "source": [
    "Заменю пропущенные значения в столбцах `track`, `artist` и `genre` на строку `'unknown'`. Для этого создам список `columns_to_replace`, переберу его элементы циклом `for` и для каждого столбца выполню замену пропущенных значений:"
   ]
  },
  {
   "cell_type": "code",
   "execution_count": 9,
   "metadata": {
    "id": "KplB5qWs_Zct"
   },
   "outputs": [],
   "source": [
    "columns_to_replace = ['track', 'artist', 'genre']  # перебор названий столбцов в цикле и замена пропущенных значений на 'unknown'\n",
    "\n",
    "for column in columns_to_replace:\n",
    "    df[column] = df[column].fillna('unknown')\n"
   ]
  },
  {
   "cell_type": "markdown",
   "metadata": {
    "id": "Ilsm-MZo_Zct"
   },
   "source": [
    "Необходимо убедиться, что в таблице не осталось пропусков. Для этого ещё раз посчитаю пропущенные значения."
   ]
  },
  {
   "cell_type": "code",
   "execution_count": 10,
   "metadata": {
    "id": "Tq4nYRX4_Zct"
   },
   "outputs": [
    {
     "data": {
      "text/plain": [
       "user_id    0\n",
       "track      0\n",
       "artist     0\n",
       "genre      0\n",
       "city       0\n",
       "time       0\n",
       "day        0\n",
       "dtype: int64"
      ]
     },
     "execution_count": 10,
     "metadata": {},
     "output_type": "execute_result"
    }
   ],
   "source": [
    "df.isna().sum()  # подсчёт пропусков"
   ]
  },
  {
   "cell_type": "markdown",
   "metadata": {
    "id": "BWKRtBJ3_Zct"
   },
   "source": [
    "### Дубликаты\n",
    "\n",
    "Посчитаю явные дубликаты в таблице одной командой:"
   ]
  },
  {
   "cell_type": "code",
   "execution_count": 11,
   "metadata": {
    "id": "36eES_S0_Zct"
   },
   "outputs": [
    {
     "data": {
      "text/plain": [
       "3826"
      ]
     },
     "execution_count": 11,
     "metadata": {},
     "output_type": "execute_result"
    }
   ],
   "source": [
    "df.duplicated().sum()  # подсчёт явных дубликатов "
   ]
  },
  {
   "cell_type": "markdown",
   "metadata": {
    "id": "Ot25h6XR_Zct"
   },
   "source": [
    "Вызову специальный метод `pandas`, чтобы удалить явные дубликаты:"
   ]
  },
  {
   "cell_type": "code",
   "execution_count": 12,
   "metadata": {
    "id": "exFHq6tt_Zct"
   },
   "outputs": [],
   "source": [
    "df = df.drop_duplicates().reset_index(drop=True)  # удаление явных дубликатов (с удалением старых индексов и формированием новых)"
   ]
  },
  {
   "cell_type": "markdown",
   "metadata": {
    "id": "Im2YwBEG_Zct"
   },
   "source": [
    "Ещё раз посчитаю явные дубликаты в таблице — это необходимо, чтобы убедиться, что полностью от них избавились:"
   ]
  },
  {
   "cell_type": "code",
   "execution_count": 13,
   "metadata": {
    "id": "-8PuNWQ0_Zct"
   },
   "outputs": [
    {
     "data": {
      "text/plain": [
       "0"
      ]
     },
     "execution_count": 13,
     "metadata": {},
     "output_type": "execute_result"
    }
   ],
   "source": [
    "df.duplicated().sum()  # проверка на отсутствие дубликатов \n",
    "\n"
   ]
  },
  {
   "cell_type": "markdown",
   "metadata": {
    "id": "QlFBsxAr_Zct"
   },
   "source": [
    "Теперь избавимся от неявных дубликатов в колонке `genre`. Например, название одного и того же жанра может быть записано немного по-разному. Такие ошибки тоже повлияют на результат исследования."
   ]
  },
  {
   "cell_type": "markdown",
   "metadata": {
    "id": "eSjWwsOh_Zct"
   },
   "source": [
    "Выведу на экран список уникальных названий жанров, отсортированный в алфавитном порядке. Для этого:\n",
    "* извлеку нужный столбец датафрейма, \n",
    "* применю к нему метод сортировки,\n",
    "* для отсортированного столбца вызову метод, который вернёт уникальные значения из столбца."
   ]
  },
  {
   "cell_type": "code",
   "execution_count": 14,
   "metadata": {
    "id": "JIUcqzZN_Zct"
   },
   "outputs": [
    {
     "data": {
      "text/plain": [
       "array(['acid', 'acoustic', 'action', 'adult', 'africa', 'afrikaans',\n",
       "       'alternative', 'alternativepunk', 'ambient', 'americana',\n",
       "       'animated', 'anime', 'arabesk', 'arabic', 'arena',\n",
       "       'argentinetango', 'art', 'audiobook', 'author', 'avantgarde',\n",
       "       'axé', 'baile', 'balkan', 'beats', 'bigroom', 'black', 'bluegrass',\n",
       "       'blues', 'bollywood', 'bossa', 'brazilian', 'breakbeat', 'breaks',\n",
       "       'broadway', 'cantautori', 'cantopop', 'canzone', 'caribbean',\n",
       "       'caucasian', 'celtic', 'chamber', 'chanson', 'children', 'chill',\n",
       "       'chinese', 'choral', 'christian', 'christmas', 'classical',\n",
       "       'classicmetal', 'club', 'colombian', 'comedy', 'conjazz',\n",
       "       'contemporary', 'country', 'cuban', 'dance', 'dancehall',\n",
       "       'dancepop', 'dark', 'death', 'deep', 'deutschrock', 'deutschspr',\n",
       "       'dirty', 'disco', 'dnb', 'documentary', 'downbeat', 'downtempo',\n",
       "       'drum', 'dub', 'dubstep', 'eastern', 'easy', 'electronic',\n",
       "       'electropop', 'emo', 'entehno', 'epicmetal', 'estrada', 'ethnic',\n",
       "       'eurofolk', 'european', 'experimental', 'extrememetal', 'fado',\n",
       "       'fairytail', 'film', 'fitness', 'flamenco', 'folk', 'folklore',\n",
       "       'folkmetal', 'folkrock', 'folktronica', 'forró', 'frankreich',\n",
       "       'französisch', 'french', 'funk', 'future', 'gangsta', 'garage',\n",
       "       'german', 'ghazal', 'gitarre', 'glitch', 'gospel', 'gothic',\n",
       "       'grime', 'grunge', 'gypsy', 'handsup', \"hard'n'heavy\", 'hardcore',\n",
       "       'hardstyle', 'hardtechno', 'hip', 'hip-hop', 'hiphop',\n",
       "       'historisch', 'holiday', 'hop', 'horror', 'house', 'hymn', 'idm',\n",
       "       'independent', 'indian', 'indie', 'indipop', 'industrial',\n",
       "       'inspirational', 'instrumental', 'international', 'irish', 'jam',\n",
       "       'japanese', 'jazz', 'jewish', 'jpop', 'jungle', 'k-pop',\n",
       "       'karadeniz', 'karaoke', 'kayokyoku', 'korean', 'laiko', 'latin',\n",
       "       'latino', 'leftfield', 'local', 'lounge', 'loungeelectronic',\n",
       "       'lovers', 'malaysian', 'mandopop', 'marschmusik', 'meditative',\n",
       "       'mediterranean', 'melodic', 'metal', 'metalcore', 'mexican',\n",
       "       'middle', 'minimal', 'miscellaneous', 'modern', 'mood', 'mpb',\n",
       "       'muslim', 'native', 'neoklassik', 'neue', 'new', 'newage',\n",
       "       'newwave', 'nu', 'nujazz', 'numetal', 'oceania', 'old', 'opera',\n",
       "       'orchestral', 'other', 'piano', 'podcasts', 'pop', 'popdance',\n",
       "       'popelectronic', 'popeurodance', 'poprussian', 'post',\n",
       "       'posthardcore', 'postrock', 'power', 'progmetal', 'progressive',\n",
       "       'psychedelic', 'punjabi', 'punk', 'quebecois', 'ragga', 'ram',\n",
       "       'rancheras', 'rap', 'rave', 'reggae', 'reggaeton', 'regional',\n",
       "       'relax', 'religious', 'retro', 'rhythm', 'rnb', 'rnr', 'rock',\n",
       "       'rockabilly', 'rockalternative', 'rockindie', 'rockother',\n",
       "       'romance', 'roots', 'ruspop', 'rusrap', 'rusrock', 'russian',\n",
       "       'salsa', 'samba', 'scenic', 'schlager', 'self', 'sertanejo',\n",
       "       'shanson', 'shoegazing', 'showtunes', 'singer', 'ska', 'skarock',\n",
       "       'slow', 'smooth', 'soft', 'soul', 'soulful', 'sound', 'soundtrack',\n",
       "       'southern', 'specialty', 'speech', 'spiritual', 'sport',\n",
       "       'stonerrock', 'surf', 'swing', 'synthpop', 'synthrock',\n",
       "       'sängerportrait', 'tango', 'tanzorchester', 'taraftar', 'tatar',\n",
       "       'tech', 'techno', 'teen', 'thrash', 'top', 'traditional',\n",
       "       'tradjazz', 'trance', 'tribal', 'trip', 'triphop', 'tropical',\n",
       "       'türk', 'türkçe', 'ukrrock', 'unknown', 'urban', 'uzbek',\n",
       "       'variété', 'vi', 'videogame', 'vocal', 'western', 'world',\n",
       "       'worldbeat', 'ïîï', 'электроника'], dtype=object)"
      ]
     },
     "execution_count": 14,
     "metadata": {},
     "output_type": "execute_result"
    }
   ],
   "source": [
    "df['genre'].sort_values().unique()  # Просмотр уникальных названий жанров"
   ]
  },
  {
   "cell_type": "markdown",
   "metadata": {
    "id": "qej-Qmuo_Zct"
   },
   "source": [
    "Просмотрю список, чтобы найти неявные дубликаты названия. Это могут быть названия с ошибками или альтернативные названия того же жанра.\n",
    "\n",
    "Выявлены следующие неявные дубликаты: \n",
    "* *hip*,\n",
    "* *hop*,\n",
    "* *hip-hop*,\n",
    "* *hiphop*, \n",
    "* *africa*, \n",
    "* *afrikaans*, \n",
    "* *electronic*,\n",
    "* *электроника*, \n",
    "* *türk*, \n",
    "* *türkçe*, \n",
    "* *latin*, \n",
    "* *latino*, \n",
    "* *tango*,\n",
    "* *argentinetango*,\n",
    "* *tech*, \n",
    "* *techno*.\n",
    "\n",
    "Чтобы очистить от них таблицу, объявлю функцию `replace_wrong_genres()` с двумя параметрами: \n",
    "* `wrong_genres` — список дубликатов,\n",
    "* `correct_genre` — строка с правильным значением.\n",
    "\n",
    "Функция должна исправить колонку `genre` в таблице `df`: заменить каждое значение из списка `wrong_genres` на значение из `correct_genre`."
   ]
  },
  {
   "cell_type": "code",
   "execution_count": 15,
   "metadata": {
    "id": "ErNDkmns_Zct"
   },
   "outputs": [],
   "source": [
    "# Функция для замены неявных дубликатов\n",
    "\n",
    "def replace_wrong_genres(wrong_genres, correct_genre):  \n",
    "    for wrong_genre in wrong_genres:\n",
    "        df['genre'] = df['genre'].replace(wrong_genre, correct_genre) "
   ]
  },
  {
   "cell_type": "markdown",
   "metadata": {
    "id": "aDoBJxbA_Zct"
   },
   "source": [
    "Вызову `replace_wrong_genres()` и передам ей такие аргументы, чтобы она устранила неявные дубликаты: например вместо `hip`, `hop` и `hip-hop` в таблице должно быть значение `hiphop`:"
   ]
  },
  {
   "cell_type": "code",
   "execution_count": 16,
   "metadata": {
    "id": "YN5i2hpmSo09"
   },
   "outputs": [],
   "source": [
    "# Устранение неявных дубликатов\n",
    "duplicates_hiphop = ['hip', 'hop', 'hip-hop'] \n",
    "name_hiphop = 'hiphop' \n",
    "\n",
    "duplicates_african = ['africa', 'afrikaans']\n",
    "name_african = 'african'\n",
    "\n",
    "duplicates_electronic = ['электроника']\n",
    "name_electronic = 'electronic'\n",
    "\n",
    "duplicates_turk = ['türk', 'türkçe']\n",
    "name_turk = 'turk'\n",
    "\n",
    "duplicates_tango = ['argentinetango']\n",
    "name_tango = 'tango'\n",
    "\n",
    "duplicates_techno = ['tech']\n",
    "name_techno = 'techno'\n",
    "\n",
    "replace_wrong_genres(duplicates_hiphop, name_hiphop)\n",
    "replace_wrong_genres(duplicates_african, name_african)\n",
    "replace_wrong_genres(duplicates_electronic, name_electronic)\n",
    "replace_wrong_genres(duplicates_turk, name_turk)\n",
    "replace_wrong_genres(duplicates_tango, name_tango)\n",
    "replace_wrong_genres(duplicates_techno, name_techno)"
   ]
  },
  {
   "cell_type": "markdown",
   "metadata": {
    "id": "zQKF16_RG15m"
   },
   "source": [
    "Выполню проверку, что заменила неправильные названия:\n",
    "\n",
    "* *hip*,\n",
    "* *hop*,\n",
    "* *hip-hop*,\n",
    "* *hiphop*, \n",
    "* *africa*, \n",
    "* *afrikaans*, \n",
    "* *electronic*,\n",
    "* *электроника*, \n",
    "* *türk*, \n",
    "* *türkçe*, \n",
    "* *latin*, \n",
    "* *latino*, \n",
    "* *tango*,\n",
    "* *argentinetango*,\n",
    "* *tech*, \n",
    "* *techno*.\n",
    "\n",
    "Выведу отсортированный список уникальных значений столбца `genre`:"
   ]
  },
  {
   "cell_type": "code",
   "execution_count": 17,
   "metadata": {
    "id": "wvixALnFG15m"
   },
   "outputs": [
    {
     "data": {
      "text/plain": [
       "array(['acid', 'acoustic', 'action', 'adult', 'african', 'alternative',\n",
       "       'alternativepunk', 'ambient', 'americana', 'animated', 'anime',\n",
       "       'arabesk', 'arabic', 'arena', 'art', 'audiobook', 'author',\n",
       "       'avantgarde', 'axé', 'baile', 'balkan', 'beats', 'bigroom',\n",
       "       'black', 'bluegrass', 'blues', 'bollywood', 'bossa', 'brazilian',\n",
       "       'breakbeat', 'breaks', 'broadway', 'cantautori', 'cantopop',\n",
       "       'canzone', 'caribbean', 'caucasian', 'celtic', 'chamber',\n",
       "       'chanson', 'children', 'chill', 'chinese', 'choral', 'christian',\n",
       "       'christmas', 'classical', 'classicmetal', 'club', 'colombian',\n",
       "       'comedy', 'conjazz', 'contemporary', 'country', 'cuban', 'dance',\n",
       "       'dancehall', 'dancepop', 'dark', 'death', 'deep', 'deutschrock',\n",
       "       'deutschspr', 'dirty', 'disco', 'dnb', 'documentary', 'downbeat',\n",
       "       'downtempo', 'drum', 'dub', 'dubstep', 'eastern', 'easy',\n",
       "       'electronic', 'electropop', 'emo', 'entehno', 'epicmetal',\n",
       "       'estrada', 'ethnic', 'eurofolk', 'european', 'experimental',\n",
       "       'extrememetal', 'fado', 'fairytail', 'film', 'fitness', 'flamenco',\n",
       "       'folk', 'folklore', 'folkmetal', 'folkrock', 'folktronica',\n",
       "       'forró', 'frankreich', 'französisch', 'french', 'funk', 'future',\n",
       "       'gangsta', 'garage', 'german', 'ghazal', 'gitarre', 'glitch',\n",
       "       'gospel', 'gothic', 'grime', 'grunge', 'gypsy', 'handsup',\n",
       "       \"hard'n'heavy\", 'hardcore', 'hardstyle', 'hardtechno', 'hiphop',\n",
       "       'historisch', 'holiday', 'horror', 'house', 'hymn', 'idm',\n",
       "       'independent', 'indian', 'indie', 'indipop', 'industrial',\n",
       "       'inspirational', 'instrumental', 'international', 'irish', 'jam',\n",
       "       'japanese', 'jazz', 'jewish', 'jpop', 'jungle', 'k-pop',\n",
       "       'karadeniz', 'karaoke', 'kayokyoku', 'korean', 'laiko', 'latin',\n",
       "       'latino', 'leftfield', 'local', 'lounge', 'loungeelectronic',\n",
       "       'lovers', 'malaysian', 'mandopop', 'marschmusik', 'meditative',\n",
       "       'mediterranean', 'melodic', 'metal', 'metalcore', 'mexican',\n",
       "       'middle', 'minimal', 'miscellaneous', 'modern', 'mood', 'mpb',\n",
       "       'muslim', 'native', 'neoklassik', 'neue', 'new', 'newage',\n",
       "       'newwave', 'nu', 'nujazz', 'numetal', 'oceania', 'old', 'opera',\n",
       "       'orchestral', 'other', 'piano', 'podcasts', 'pop', 'popdance',\n",
       "       'popelectronic', 'popeurodance', 'poprussian', 'post',\n",
       "       'posthardcore', 'postrock', 'power', 'progmetal', 'progressive',\n",
       "       'psychedelic', 'punjabi', 'punk', 'quebecois', 'ragga', 'ram',\n",
       "       'rancheras', 'rap', 'rave', 'reggae', 'reggaeton', 'regional',\n",
       "       'relax', 'religious', 'retro', 'rhythm', 'rnb', 'rnr', 'rock',\n",
       "       'rockabilly', 'rockalternative', 'rockindie', 'rockother',\n",
       "       'romance', 'roots', 'ruspop', 'rusrap', 'rusrock', 'russian',\n",
       "       'salsa', 'samba', 'scenic', 'schlager', 'self', 'sertanejo',\n",
       "       'shanson', 'shoegazing', 'showtunes', 'singer', 'ska', 'skarock',\n",
       "       'slow', 'smooth', 'soft', 'soul', 'soulful', 'sound', 'soundtrack',\n",
       "       'southern', 'specialty', 'speech', 'spiritual', 'sport',\n",
       "       'stonerrock', 'surf', 'swing', 'synthpop', 'synthrock',\n",
       "       'sängerportrait', 'tango', 'tanzorchester', 'taraftar', 'tatar',\n",
       "       'techno', 'teen', 'thrash', 'top', 'traditional', 'tradjazz',\n",
       "       'trance', 'tribal', 'trip', 'triphop', 'tropical', 'turk',\n",
       "       'ukrrock', 'unknown', 'urban', 'uzbek', 'variété', 'vi',\n",
       "       'videogame', 'vocal', 'western', 'world', 'worldbeat', 'ïîï'],\n",
       "      dtype=object)"
      ]
     },
     "execution_count": 17,
     "metadata": {},
     "output_type": "execute_result"
    }
   ],
   "source": [
    "df['genre'].sort_values().unique()  # Проверка на неявные дубликаты "
   ]
  },
  {
   "cell_type": "markdown",
   "metadata": {
    "id": "jz6a9-7HQUDd"
   },
   "source": [
    "**Выводы**\n",
    "\n",
    "Предобработка обнаружила три проблемы в данных:\n",
    "\n",
    "- нарушения в стиле заголовков,\n",
    "- пропущенные значения,\n",
    "- дубликаты — явные и неявные.\n",
    "\n",
    "Вы исправили заголовки, чтобы упростить работу с таблицей. Без дубликатов исследование станет более точным.\n",
    "\n",
    "Пропущенные значения вы заменили на `'unknown'`. Ещё предстоит увидеть, не повредят ли исследованию пропуски в колонке `genre`.\n",
    "\n",
    "Теперь можно перейти к проверке гипотез. "
   ]
  },
  {
   "cell_type": "markdown",
   "metadata": {
    "id": "WttZHXH0SqKk"
   },
   "source": [
    "## Проверка гипотез"
   ]
  },
  {
   "cell_type": "markdown",
   "metadata": {
    "id": "Im936VVi_Zcu"
   },
   "source": [
    "### Сравнение поведения пользователей двух столиц"
   ]
  },
  {
   "cell_type": "markdown",
   "metadata": {
    "id": "nwt_MuaL_Zcu"
   },
   "source": [
    "Первая гипотеза утверждает, что пользователи по-разному слушают музыку в Москве и Санкт-Петербурге. Проверю это предположение по данным о трёх днях недели — понедельнике, среде и пятнице. Для этого:\n",
    "\n",
    "* Разделю пользователей Москвы и Санкт-Петербурга\n",
    "* Сравню, сколько треков послушала каждая группа пользователей в понедельник, среду и пятницу.\n"
   ]
  },
  {
   "cell_type": "code",
   "execution_count": 18,
   "metadata": {
    "id": "0_Qs96oh_Zcu"
   },
   "outputs": [
    {
     "data": {
      "text/plain": [
       "city\n",
       "Moscow              42741\n",
       "Saint-Petersburg    18512\n",
       "Name: user_id, dtype: int64"
      ]
     },
     "execution_count": 18,
     "metadata": {},
     "output_type": "execute_result"
    }
   ],
   "source": [
    "df.groupby('city')['user_id'].count()  # Подсчёт прослушиваний в каждом городе\n"
   ]
  },
  {
   "cell_type": "markdown",
   "metadata": {
    "id": "dzli3w8o_Zcu"
   },
   "source": [
    "В Москве прослушиваний больше, чем в Петербурге. Из этого не следует, что московские пользователи чаще слушают музыку. Просто самих пользователей в Москве больше.\n",
    "\n",
    "Теперь сгруппирую данные по дню недели и подсчитаю прослушивания в понедельник, среду и пятницу. _Необходимо учесть, что в данных есть информация о прослушиваниях только за эти дни._\n"
   ]
  },
  {
   "cell_type": "code",
   "execution_count": 19,
   "metadata": {
    "id": "uZMKjiJz_Zcu"
   },
   "outputs": [
    {
     "data": {
      "text/plain": [
       "day\n",
       "Friday       21840\n",
       "Monday       21354\n",
       "Wednesday    18059\n",
       "Name: time, dtype: int64"
      ]
     },
     "execution_count": 19,
     "metadata": {},
     "output_type": "execute_result"
    }
   ],
   "source": [
    "df.groupby('day')['time'].count()"
   ]
  },
  {
   "cell_type": "markdown",
   "metadata": {
    "id": "cC2tNrlL_Zcu"
   },
   "source": [
    "В среднем пользователи из двух городов менее активны по средам. Но картина может измениться, если рассмотреть каждый город в отдельности."
   ]
  },
  {
   "cell_type": "markdown",
   "metadata": {
    "id": "POzs8bGa_Zcu"
   },
   "source": [
    "Ранее было показано, как работает группировка по городу и по дням недели. Теперь необходимо задать функцию, которая объединит два эти расчёта.\n",
    "\n",
    "Создам функцию `number_tracks()`, которая посчитает прослушивания для заданного дня и города. Ей понадобятся два параметра:\n",
    "* день недели,\n",
    "* название города.\n",
    "\n",
    "В функции сохраню в переменную строки исходной таблицы, у которых значение:\n",
    "  * в колонке `day` равно параметру `day`,\n",
    "  * в колонке `city` равно параметру `city`.\n",
    "\n",
    "Для этого применю последовательную фильтрацию с логической индексацией.\n",
    "\n",
    "Затем посчитаю значения в столбце `user_id` получившейся таблицы. Результат сохраню в новую переменную и верну эту переменную из функции."
   ]
  },
  {
   "cell_type": "code",
   "execution_count": 20,
   "metadata": {
    "id": "Nz3GdQB1_Zcu"
   },
   "outputs": [],
   "source": [
    "# <создание функции number_tracks()>\n",
    "def number_tracks(day, city):  \n",
    "    track_list = df[df['day'] == day] \n",
    "    track_list = track_list[track_list['city'] == city]\n",
    "    track_list_count = track_list['user_id'].count()\n",
    "    return track_list_count\n",
    "# Объявляется функция с двумя параметрами: day, city.\n",
    "# В переменной track_list сохраняются те строки таблицы df, для которых \n",
    "# значение в столбце 'day' равно параметру day и одновременно значение\n",
    "# в столбце 'city' равно параметру city (используйте последовательную фильтрацию\n",
    "# с помощью логической индексации).\n",
    "# В переменной track_list_count сохраняется число значений столбца 'user_id',\n",
    "# рассчитанное методом count() для таблицы track_list.\n",
    "# Функция возвращает число - значение track_list_count.\n",
    "\n",
    "# Функция для подсчёта прослушиваний для конкретного города и дня.\n",
    "# С помощью последовательной фильтрации с логической индексацией она \n",
    "# сначала получит из исходной таблицы строки с нужным днём,\n",
    "# затем из результата отфильтрует строки с нужным городом,\n",
    "# методом count() посчитает количество значений в колонке user_id. \n",
    "# Это количество функция вернёт в качестве результата"
   ]
  },
  {
   "cell_type": "markdown",
   "metadata": {
    "id": "ytf7xFrFJQ2r"
   },
   "source": [
    "Вызову `number_tracks()` шесть раз, меняя значение параметров — так, чтобы получить данные для каждого города в каждый из трёх дней."
   ]
  },
  {
   "cell_type": "code",
   "execution_count": 21,
   "metadata": {
    "id": "rJcRATNQ_Zcu"
   },
   "outputs": [
    {
     "data": {
      "text/plain": [
       "15740"
      ]
     },
     "metadata": {},
     "output_type": "display_data"
    }
   ],
   "source": [
    "mos_mon = number_tracks('Monday', 'Moscow')\n",
    "display(mos_mon)  # количество прослушиваний в Москве по понедельникам"
   ]
  },
  {
   "cell_type": "code",
   "execution_count": 22,
   "metadata": {
    "id": "hq_ncZ5T_Zcu"
   },
   "outputs": [
    {
     "data": {
      "text/plain": [
       "5614"
      ]
     },
     "metadata": {},
     "output_type": "display_data"
    }
   ],
   "source": [
    "spb_mon = number_tracks('Monday', 'Saint-Petersburg')\n",
    "display(spb_mon)  # количество прослушиваний в Санкт-Петербурге по понедельникам"
   ]
  },
  {
   "cell_type": "code",
   "execution_count": 23,
   "metadata": {
    "id": "_NTy2VPU_Zcu"
   },
   "outputs": [
    {
     "data": {
      "text/plain": [
       "11056"
      ]
     },
     "metadata": {},
     "output_type": "display_data"
    }
   ],
   "source": [
    "mos_wed = number_tracks('Wednesday', 'Moscow')\n",
    "display(mos_wed)  # количество прослушиваний в Москве по средам"
   ]
  },
  {
   "cell_type": "code",
   "execution_count": 24,
   "metadata": {
    "id": "j2y3TAwo_Zcu"
   },
   "outputs": [
    {
     "data": {
      "text/plain": [
       "7003"
      ]
     },
     "metadata": {},
     "output_type": "display_data"
    }
   ],
   "source": [
    "spb_wed = number_tracks('Wednesday', 'Saint-Petersburg')\n",
    "display(spb_wed)  # количество прослушиваний в Санкт-Петербурге по средам"
   ]
  },
  {
   "cell_type": "code",
   "execution_count": 25,
   "metadata": {
    "id": "vYDw5u_K_Zcu"
   },
   "outputs": [
    {
     "data": {
      "text/plain": [
       "15945"
      ]
     },
     "metadata": {},
     "output_type": "display_data"
    }
   ],
   "source": [
    "mos_fri = number_tracks('Friday', 'Moscow')\n",
    "display(mos_fri)  # количество прослушиваний в Москве по пятницам"
   ]
  },
  {
   "cell_type": "code",
   "execution_count": 26,
   "metadata": {
    "id": "8_yzFtW3_Zcu"
   },
   "outputs": [
    {
     "data": {
      "text/plain": [
       "5895"
      ]
     },
     "metadata": {},
     "output_type": "display_data"
    }
   ],
   "source": [
    "spb_fri = number_tracks('Friday', 'Saint-Petersburg')\n",
    "display(spb_fri)  # количество прослушиваний в Санкт-Петербурге по пятницам"
   ]
  },
  {
   "cell_type": "markdown",
   "metadata": {
    "id": "7QXffbO-_Zcu"
   },
   "source": [
    "Создам c помощью конструктора `pd.DataFrame` таблицу, где\n",
    "* названия колонок — `['city', 'monday', 'wednesday', 'friday']`;\n",
    "* данные — результаты, которые вы получили с помощью `number_tracks`."
   ]
  },
  {
   "cell_type": "code",
   "execution_count": 27,
   "metadata": {
    "id": "APAcLpOr_Zcu"
   },
   "outputs": [
    {
     "data": {
      "text/html": [
       "<div>\n",
       "<style scoped>\n",
       "    .dataframe tbody tr th:only-of-type {\n",
       "        vertical-align: middle;\n",
       "    }\n",
       "\n",
       "    .dataframe tbody tr th {\n",
       "        vertical-align: top;\n",
       "    }\n",
       "\n",
       "    .dataframe thead th {\n",
       "        text-align: right;\n",
       "    }\n",
       "</style>\n",
       "<table border=\"1\" class=\"dataframe\">\n",
       "  <thead>\n",
       "    <tr style=\"text-align: right;\">\n",
       "      <th></th>\n",
       "      <th>city</th>\n",
       "      <th>monday</th>\n",
       "      <th>wednesday</th>\n",
       "      <th>friday</th>\n",
       "    </tr>\n",
       "  </thead>\n",
       "  <tbody>\n",
       "    <tr>\n",
       "      <th>0</th>\n",
       "      <td>Moscow</td>\n",
       "      <td>15740</td>\n",
       "      <td>11056</td>\n",
       "      <td>15945</td>\n",
       "    </tr>\n",
       "    <tr>\n",
       "      <th>1</th>\n",
       "      <td>Saint-Petersburg</td>\n",
       "      <td>5614</td>\n",
       "      <td>7003</td>\n",
       "      <td>5895</td>\n",
       "    </tr>\n",
       "  </tbody>\n",
       "</table>\n",
       "</div>"
      ],
      "text/plain": [
       "               city  monday  wednesday  friday\n",
       "0            Moscow   15740      11056   15945\n",
       "1  Saint-Petersburg    5614       7003    5895"
      ]
     },
     "metadata": {},
     "output_type": "display_data"
    }
   ],
   "source": [
    "data = [\n",
    "    ['Moscow', mos_mon, mos_wed, mos_fri], \n",
    "    ['Saint-Petersburg', spb_mon, spb_wed, spb_fri]  # Таблица с результатами\n",
    "]\n",
    "columns = ['city', 'monday', 'wednesday', 'friday']\n",
    "display(pd.DataFrame(data = data, columns = columns))"
   ]
  },
  {
   "cell_type": "markdown",
   "metadata": {
    "id": "-EgPIHYu_Zcu"
   },
   "source": [
    "**Выводы**\n",
    "\n",
    "Данные показывают разницу поведения пользователей:\n",
    "\n",
    "- В Москве пик прослушиваний приходится на понедельник и пятницу, а в среду заметен спад.\n",
    "- В Петербурге, наоборот, больше слушают музыку по средам. Активность в понедельник и пятницу здесь почти в равной мере уступает среде.\n",
    "\n",
    "Значит, данные говорят в пользу первой гипотезы."
   ]
  },
  {
   "cell_type": "markdown",
   "metadata": {
    "id": "atZAxtq4_Zcu"
   },
   "source": [
    "### Музыка в начале и в конце недели"
   ]
  },
  {
   "cell_type": "markdown",
   "metadata": {
    "id": "eXrQqXFH_Zcu"
   },
   "source": [
    "Согласно второй гипотезе, утром в понедельник в Москве преобладают одни жанры, а в Петербурге — другие. Так же и вечером пятницы преобладают разные жанры — в зависимости от города."
   ]
  },
  {
   "cell_type": "markdown",
   "metadata": {
    "id": "S8UcW6Hw_Zcu"
   },
   "source": [
    "Сохраню таблицы с данными в две переменные:\n",
    "* по Москве — в `moscow_general`;\n",
    "* по Санкт-Петербургу — в `spb_general`."
   ]
  },
  {
   "cell_type": "code",
   "execution_count": 28,
   "metadata": {
    "id": "qeaFfM_P_Zcu"
   },
   "outputs": [
    {
     "data": {
      "text/html": [
       "<div>\n",
       "<style scoped>\n",
       "    .dataframe tbody tr th:only-of-type {\n",
       "        vertical-align: middle;\n",
       "    }\n",
       "\n",
       "    .dataframe tbody tr th {\n",
       "        vertical-align: top;\n",
       "    }\n",
       "\n",
       "    .dataframe thead th {\n",
       "        text-align: right;\n",
       "    }\n",
       "</style>\n",
       "<table border=\"1\" class=\"dataframe\">\n",
       "  <thead>\n",
       "    <tr style=\"text-align: right;\">\n",
       "      <th></th>\n",
       "      <th>user_id</th>\n",
       "      <th>track</th>\n",
       "      <th>artist</th>\n",
       "      <th>genre</th>\n",
       "      <th>city</th>\n",
       "      <th>time</th>\n",
       "      <th>day</th>\n",
       "    </tr>\n",
       "  </thead>\n",
       "  <tbody>\n",
       "    <tr>\n",
       "      <th>1</th>\n",
       "      <td>55204538</td>\n",
       "      <td>Delayed Because of Accident</td>\n",
       "      <td>Andreas Rönnberg</td>\n",
       "      <td>rock</td>\n",
       "      <td>Moscow</td>\n",
       "      <td>14:07:09</td>\n",
       "      <td>Friday</td>\n",
       "    </tr>\n",
       "    <tr>\n",
       "      <th>4</th>\n",
       "      <td>E2DC1FAE</td>\n",
       "      <td>Soul People</td>\n",
       "      <td>Space Echo</td>\n",
       "      <td>dance</td>\n",
       "      <td>Moscow</td>\n",
       "      <td>08:34:34</td>\n",
       "      <td>Monday</td>\n",
       "    </tr>\n",
       "    <tr>\n",
       "      <th>6</th>\n",
       "      <td>4CB90AA5</td>\n",
       "      <td>True</td>\n",
       "      <td>Roman Messer</td>\n",
       "      <td>dance</td>\n",
       "      <td>Moscow</td>\n",
       "      <td>13:00:07</td>\n",
       "      <td>Wednesday</td>\n",
       "    </tr>\n",
       "    <tr>\n",
       "      <th>7</th>\n",
       "      <td>F03E1C1F</td>\n",
       "      <td>Feeling This Way</td>\n",
       "      <td>Polina Griffith</td>\n",
       "      <td>dance</td>\n",
       "      <td>Moscow</td>\n",
       "      <td>20:47:49</td>\n",
       "      <td>Wednesday</td>\n",
       "    </tr>\n",
       "    <tr>\n",
       "      <th>8</th>\n",
       "      <td>8FA1D3BE</td>\n",
       "      <td>И вновь продолжается бой</td>\n",
       "      <td>unknown</td>\n",
       "      <td>ruspop</td>\n",
       "      <td>Moscow</td>\n",
       "      <td>09:17:40</td>\n",
       "      <td>Friday</td>\n",
       "    </tr>\n",
       "    <tr>\n",
       "      <th>...</th>\n",
       "      <td>...</td>\n",
       "      <td>...</td>\n",
       "      <td>...</td>\n",
       "      <td>...</td>\n",
       "      <td>...</td>\n",
       "      <td>...</td>\n",
       "      <td>...</td>\n",
       "    </tr>\n",
       "    <tr>\n",
       "      <th>61247</th>\n",
       "      <td>83A474E7</td>\n",
       "      <td>I Worship Only What You Bleed</td>\n",
       "      <td>The Black Dahlia Murder</td>\n",
       "      <td>extrememetal</td>\n",
       "      <td>Moscow</td>\n",
       "      <td>21:07:12</td>\n",
       "      <td>Monday</td>\n",
       "    </tr>\n",
       "    <tr>\n",
       "      <th>61248</th>\n",
       "      <td>729CBB09</td>\n",
       "      <td>My Name</td>\n",
       "      <td>McLean</td>\n",
       "      <td>rnb</td>\n",
       "      <td>Moscow</td>\n",
       "      <td>13:32:28</td>\n",
       "      <td>Wednesday</td>\n",
       "    </tr>\n",
       "    <tr>\n",
       "      <th>61250</th>\n",
       "      <td>C5E3A0D5</td>\n",
       "      <td>Jalopiina</td>\n",
       "      <td>unknown</td>\n",
       "      <td>industrial</td>\n",
       "      <td>Moscow</td>\n",
       "      <td>20:09:26</td>\n",
       "      <td>Friday</td>\n",
       "    </tr>\n",
       "    <tr>\n",
       "      <th>61251</th>\n",
       "      <td>321D0506</td>\n",
       "      <td>Freight Train</td>\n",
       "      <td>Chas McDevitt</td>\n",
       "      <td>rock</td>\n",
       "      <td>Moscow</td>\n",
       "      <td>21:43:59</td>\n",
       "      <td>Friday</td>\n",
       "    </tr>\n",
       "    <tr>\n",
       "      <th>61252</th>\n",
       "      <td>3A64EF84</td>\n",
       "      <td>Tell Me Sweet Little Lies</td>\n",
       "      <td>Monica Lopez</td>\n",
       "      <td>country</td>\n",
       "      <td>Moscow</td>\n",
       "      <td>21:59:46</td>\n",
       "      <td>Friday</td>\n",
       "    </tr>\n",
       "  </tbody>\n",
       "</table>\n",
       "<p>42741 rows × 7 columns</p>\n",
       "</div>"
      ],
      "text/plain": [
       "        user_id                          track                   artist  \\\n",
       "1      55204538    Delayed Because of Accident         Andreas Rönnberg   \n",
       "4      E2DC1FAE                    Soul People               Space Echo   \n",
       "6      4CB90AA5                           True             Roman Messer   \n",
       "7      F03E1C1F               Feeling This Way          Polina Griffith   \n",
       "8      8FA1D3BE       И вновь продолжается бой                  unknown   \n",
       "...         ...                            ...                      ...   \n",
       "61247  83A474E7  I Worship Only What You Bleed  The Black Dahlia Murder   \n",
       "61248  729CBB09                        My Name                   McLean   \n",
       "61250  C5E3A0D5                      Jalopiina                  unknown   \n",
       "61251  321D0506                  Freight Train            Chas McDevitt   \n",
       "61252  3A64EF84      Tell Me Sweet Little Lies             Monica Lopez   \n",
       "\n",
       "              genre    city      time        day  \n",
       "1              rock  Moscow  14:07:09     Friday  \n",
       "4             dance  Moscow  08:34:34     Monday  \n",
       "6             dance  Moscow  13:00:07  Wednesday  \n",
       "7             dance  Moscow  20:47:49  Wednesday  \n",
       "8            ruspop  Moscow  09:17:40     Friday  \n",
       "...             ...     ...       ...        ...  \n",
       "61247  extrememetal  Moscow  21:07:12     Monday  \n",
       "61248           rnb  Moscow  13:32:28  Wednesday  \n",
       "61250    industrial  Moscow  20:09:26     Friday  \n",
       "61251          rock  Moscow  21:43:59     Friday  \n",
       "61252       country  Moscow  21:59:46     Friday  \n",
       "\n",
       "[42741 rows x 7 columns]"
      ]
     },
     "metadata": {},
     "output_type": "display_data"
    }
   ],
   "source": [
    "moscow_general = df[df['city'] == 'Moscow']  # получение таблицы moscow_general из тех строк таблицы df, \n",
    "display(moscow_general)  # для которых значение в столбце 'city' равно 'Moscow'\n"
   ]
  },
  {
   "cell_type": "code",
   "execution_count": 29,
   "metadata": {
    "id": "ORaVRKto_Zcu"
   },
   "outputs": [
    {
     "data": {
      "text/html": [
       "<div>\n",
       "<style scoped>\n",
       "    .dataframe tbody tr th:only-of-type {\n",
       "        vertical-align: middle;\n",
       "    }\n",
       "\n",
       "    .dataframe tbody tr th {\n",
       "        vertical-align: top;\n",
       "    }\n",
       "\n",
       "    .dataframe thead th {\n",
       "        text-align: right;\n",
       "    }\n",
       "</style>\n",
       "<table border=\"1\" class=\"dataframe\">\n",
       "  <thead>\n",
       "    <tr style=\"text-align: right;\">\n",
       "      <th></th>\n",
       "      <th>user_id</th>\n",
       "      <th>track</th>\n",
       "      <th>artist</th>\n",
       "      <th>genre</th>\n",
       "      <th>city</th>\n",
       "      <th>time</th>\n",
       "      <th>day</th>\n",
       "    </tr>\n",
       "  </thead>\n",
       "  <tbody>\n",
       "    <tr>\n",
       "      <th>0</th>\n",
       "      <td>FFB692EC</td>\n",
       "      <td>Kamigata To Boots</td>\n",
       "      <td>The Mass Missile</td>\n",
       "      <td>rock</td>\n",
       "      <td>Saint-Petersburg</td>\n",
       "      <td>20:28:33</td>\n",
       "      <td>Wednesday</td>\n",
       "    </tr>\n",
       "    <tr>\n",
       "      <th>2</th>\n",
       "      <td>20EC38</td>\n",
       "      <td>Funiculì funiculà</td>\n",
       "      <td>Mario Lanza</td>\n",
       "      <td>pop</td>\n",
       "      <td>Saint-Petersburg</td>\n",
       "      <td>20:58:07</td>\n",
       "      <td>Wednesday</td>\n",
       "    </tr>\n",
       "    <tr>\n",
       "      <th>3</th>\n",
       "      <td>A3DD03C9</td>\n",
       "      <td>Dragons in the Sunset</td>\n",
       "      <td>Fire + Ice</td>\n",
       "      <td>folk</td>\n",
       "      <td>Saint-Petersburg</td>\n",
       "      <td>08:37:09</td>\n",
       "      <td>Monday</td>\n",
       "    </tr>\n",
       "    <tr>\n",
       "      <th>5</th>\n",
       "      <td>842029A1</td>\n",
       "      <td>Преданная</td>\n",
       "      <td>IMPERVTOR</td>\n",
       "      <td>rusrap</td>\n",
       "      <td>Saint-Petersburg</td>\n",
       "      <td>13:09:41</td>\n",
       "      <td>Friday</td>\n",
       "    </tr>\n",
       "    <tr>\n",
       "      <th>9</th>\n",
       "      <td>E772D5C0</td>\n",
       "      <td>Pessimist</td>\n",
       "      <td>unknown</td>\n",
       "      <td>dance</td>\n",
       "      <td>Saint-Petersburg</td>\n",
       "      <td>21:20:49</td>\n",
       "      <td>Wednesday</td>\n",
       "    </tr>\n",
       "    <tr>\n",
       "      <th>...</th>\n",
       "      <td>...</td>\n",
       "      <td>...</td>\n",
       "      <td>...</td>\n",
       "      <td>...</td>\n",
       "      <td>...</td>\n",
       "      <td>...</td>\n",
       "      <td>...</td>\n",
       "    </tr>\n",
       "    <tr>\n",
       "      <th>61239</th>\n",
       "      <td>D94F810B</td>\n",
       "      <td>Theme from the Walking Dead</td>\n",
       "      <td>Proyecto Halloween</td>\n",
       "      <td>film</td>\n",
       "      <td>Saint-Petersburg</td>\n",
       "      <td>21:14:40</td>\n",
       "      <td>Monday</td>\n",
       "    </tr>\n",
       "    <tr>\n",
       "      <th>61240</th>\n",
       "      <td>BC8EC5CF</td>\n",
       "      <td>Red Lips: Gta (Rover Rework)</td>\n",
       "      <td>Rover</td>\n",
       "      <td>electronic</td>\n",
       "      <td>Saint-Petersburg</td>\n",
       "      <td>21:06:50</td>\n",
       "      <td>Monday</td>\n",
       "    </tr>\n",
       "    <tr>\n",
       "      <th>61241</th>\n",
       "      <td>29E04611</td>\n",
       "      <td>Bre Petrunko</td>\n",
       "      <td>Perunika Trio</td>\n",
       "      <td>world</td>\n",
       "      <td>Saint-Petersburg</td>\n",
       "      <td>13:56:00</td>\n",
       "      <td>Monday</td>\n",
       "    </tr>\n",
       "    <tr>\n",
       "      <th>61242</th>\n",
       "      <td>1B91C621</td>\n",
       "      <td>(Hello) Cloud Mountain</td>\n",
       "      <td>sleepmakeswaves</td>\n",
       "      <td>postrock</td>\n",
       "      <td>Saint-Petersburg</td>\n",
       "      <td>09:22:13</td>\n",
       "      <td>Monday</td>\n",
       "    </tr>\n",
       "    <tr>\n",
       "      <th>61249</th>\n",
       "      <td>D08D4A55</td>\n",
       "      <td>Maybe One Day (feat. Black Spade)</td>\n",
       "      <td>Blu &amp; Exile</td>\n",
       "      <td>hiphop</td>\n",
       "      <td>Saint-Petersburg</td>\n",
       "      <td>10:00:00</td>\n",
       "      <td>Monday</td>\n",
       "    </tr>\n",
       "  </tbody>\n",
       "</table>\n",
       "<p>18512 rows × 7 columns</p>\n",
       "</div>"
      ],
      "text/plain": [
       "        user_id                              track              artist  \\\n",
       "0      FFB692EC                  Kamigata To Boots    The Mass Missile   \n",
       "2        20EC38                  Funiculì funiculà         Mario Lanza   \n",
       "3      A3DD03C9              Dragons in the Sunset          Fire + Ice   \n",
       "5      842029A1                          Преданная           IMPERVTOR   \n",
       "9      E772D5C0                          Pessimist             unknown   \n",
       "...         ...                                ...                 ...   \n",
       "61239  D94F810B        Theme from the Walking Dead  Proyecto Halloween   \n",
       "61240  BC8EC5CF       Red Lips: Gta (Rover Rework)               Rover   \n",
       "61241  29E04611                       Bre Petrunko       Perunika Trio   \n",
       "61242  1B91C621             (Hello) Cloud Mountain     sleepmakeswaves   \n",
       "61249  D08D4A55  Maybe One Day (feat. Black Spade)         Blu & Exile   \n",
       "\n",
       "            genre              city      time        day  \n",
       "0            rock  Saint-Petersburg  20:28:33  Wednesday  \n",
       "2             pop  Saint-Petersburg  20:58:07  Wednesday  \n",
       "3            folk  Saint-Petersburg  08:37:09     Monday  \n",
       "5          rusrap  Saint-Petersburg  13:09:41     Friday  \n",
       "9           dance  Saint-Petersburg  21:20:49  Wednesday  \n",
       "...           ...               ...       ...        ...  \n",
       "61239        film  Saint-Petersburg  21:14:40     Monday  \n",
       "61240  electronic  Saint-Petersburg  21:06:50     Monday  \n",
       "61241       world  Saint-Petersburg  13:56:00     Monday  \n",
       "61242    postrock  Saint-Petersburg  09:22:13     Monday  \n",
       "61249      hiphop  Saint-Petersburg  10:00:00     Monday  \n",
       "\n",
       "[18512 rows x 7 columns]"
      ]
     },
     "metadata": {},
     "output_type": "display_data"
    }
   ],
   "source": [
    "spb_general =  df[df['city'] == 'Saint-Petersburg'] # получение таблицы spb_general из тех строк таблицы df,\n",
    "display(spb_general)  # для которых значение в столбце 'city' равно 'Saint-Petersburg'\n"
   ]
  },
  {
   "cell_type": "markdown",
   "metadata": {
    "id": "MEJV-CX2_Zcu"
   },
   "source": [
    "Объявлю функцию `genre_weekday()` с четырьмя параметрами:\n",
    "* таблица (датафрейм) с данными,\n",
    "* день недели,\n",
    "* начальная временная метка в формате 'hh:mm', \n",
    "* последняя временная метка в формате 'hh:mm'.\n",
    "\n",
    "Функция должна вернуть информацию о топ-10 жанров тех треков, которые прослушивали в указанный день, в промежутке между двумя отметками времени."
   ]
  },
  {
   "cell_type": "code",
   "execution_count": 30,
   "metadata": {
    "id": "laJT9BYl_Zcu"
   },
   "outputs": [],
   "source": [
    "def genre_weekday(table, day, time1, time2):   # Объявление функции genre_weekday() с параметрами table, day, time1, time2,\n",
    "    genre_df = table[(table['day'] == day) & (table['time'] > time1) & (table['time'] < time2)]\n",
    "    genre_df_count = genre_df.groupby('genre')['time'].count()\n",
    "    genre_df_sorted = genre_df_count.sort_values(ascending=False).head(10)\n",
    "    return genre_df_sorted\n",
    "\n",
    "    \n",
    "  # функция, которая возвращает информацию о самых популярных жанрах в указанный день в\n",
    "  # заданное время:\n",
    "  # 1) в переменную genre_df сохраняются те строки переданного датафрейма table, для\n",
    "  #    которых одновременно:\n",
    "  #    - значение в столбце day равно значению аргумента day\n",
    "  #    - значение в столбце time больше значения аргумента time1\n",
    "  #    - значение в столбце time меньше значения аргумента time2\n",
    "  #    Используйте последовательную фильтрацию с помощью логической индексации.\n",
    "  # 2) сгруппировать датафрейм genre_df по столбцу genre, взять один из его\n",
    "  #    столбцов и посчитать методом count() количество записей для каждого из\n",
    "  #    присутствующих жанров, получившийся Series записать в переменную\n",
    "  #    genre_df_count\n",
    "  # 3) отсортировать genre_df_count по убыванию встречаемости и сохранить\n",
    "  #    в переменную genre_df_sorted\n",
    "  # 4) вернуть Series из 10 первых значений genre_df_sorted, это будут топ-10\n",
    "  #    популярных жанров (в указанный день, в заданное время)"
   ]
  },
  {
   "cell_type": "markdown",
   "metadata": {
    "id": "la2s2_PF_Zcu"
   },
   "source": [
    "Cравню результаты функции `genre_weekday()` для Москвы и Санкт-Петербурга в понедельник утром (с 7:00 до 11:00) и в пятницу вечером (с 17:00 до 23:00):"
   ]
  },
  {
   "cell_type": "code",
   "execution_count": 31,
   "metadata": {
    "id": "yz7itPUQ_Zcu"
   },
   "outputs": [
    {
     "data": {
      "text/plain": [
       "genre\n",
       "pop            781\n",
       "dance          549\n",
       "electronic     480\n",
       "rock           474\n",
       "hiphop         286\n",
       "ruspop         186\n",
       "world          181\n",
       "rusrap         175\n",
       "alternative    164\n",
       "unknown        161\n",
       "Name: time, dtype: int64"
      ]
     },
     "metadata": {},
     "output_type": "display_data"
    }
   ],
   "source": [
    "display(genre_weekday(moscow_general, 'Monday', '07:00', '11:00'))  # вызов функции для утра понедельника в Москве (вместо df — таблица moscow_general)\n",
    "  # объекты, хранящие время, являются строками и сравниваются как строки\n",
    "  # пример вызова: genre_weekday(moscow_general, 'Monday', '07:00', '11:00')"
   ]
  },
  {
   "cell_type": "code",
   "execution_count": 32,
   "metadata": {
    "id": "kwUcHPdy_Zcu"
   },
   "outputs": [
    {
     "data": {
      "text/plain": [
       "genre\n",
       "pop            218\n",
       "dance          182\n",
       "rock           162\n",
       "electronic     147\n",
       "hiphop          80\n",
       "ruspop          64\n",
       "alternative     58\n",
       "rusrap          55\n",
       "jazz            44\n",
       "classical       40\n",
       "Name: time, dtype: int64"
      ]
     },
     "metadata": {},
     "output_type": "display_data"
    }
   ],
   "source": [
    "display(genre_weekday(spb_general, 'Monday', '07:00', '11:00'))  # вызов функции для утра понедельника в Петербурге (вместо df — таблица spb_general)"
   ]
  },
  {
   "cell_type": "code",
   "execution_count": 33,
   "metadata": {
    "id": "EzXVRE1o_Zcu"
   },
   "outputs": [
    {
     "data": {
      "text/plain": [
       "genre\n",
       "pop            713\n",
       "rock           517\n",
       "dance          495\n",
       "electronic     482\n",
       "hiphop         273\n",
       "world          208\n",
       "ruspop         170\n",
       "alternative    163\n",
       "classical      163\n",
       "rusrap         142\n",
       "Name: time, dtype: int64"
      ]
     },
     "metadata": {},
     "output_type": "display_data"
    }
   ],
   "source": [
    "display(genre_weekday(moscow_general, 'Friday', '17:00', '23:00'))  # вызов функции для вечера пятницы в Москве"
   ]
  },
  {
   "cell_type": "code",
   "execution_count": 34,
   "metadata": {
    "id": "JZaEKu5v_Zcu"
   },
   "outputs": [
    {
     "data": {
      "text/plain": [
       "genre\n",
       "pop            256\n",
       "rock           216\n",
       "electronic     216\n",
       "dance          210\n",
       "hiphop          97\n",
       "alternative     63\n",
       "jazz            61\n",
       "classical       60\n",
       "rusrap          59\n",
       "world           54\n",
       "Name: time, dtype: int64"
      ]
     },
     "metadata": {},
     "output_type": "display_data"
    }
   ],
   "source": [
    "display(genre_weekday(spb_general, 'Friday', '17:00', '23:00'))  # вызов функции для вечера пятницы в Петербурге"
   ]
  },
  {
   "cell_type": "markdown",
   "metadata": {
    "id": "wrCe4MNX_Zcu"
   },
   "source": [
    "**Выводы**\n",
    "\n",
    "Если сравнить топ-10 жанров в понедельник утром, можно сделать такие выводы:\n",
    "\n",
    "1. В Москве и Петербурге слушают похожую музыку. Единственное отличие — в московский рейтинг вошёл жанр “world”, а в петербургский — джаз и классика.\n",
    "\n",
    "2. В Москве пропущенных значений оказалось так много, что значение `'unknown'` заняло десятое место среди самых популярных жанров. Значит, пропущенные значения занимают существенную долю в данных и угрожают достоверности исследования.\n",
    "\n",
    "Вечер пятницы не меняет эту картину. Некоторые жанры поднимаются немного выше, другие спускаются, но в целом топ-10 остаётся тем же самым.\n",
    "\n",
    "Таким образом, вторая гипотеза подтвердилась лишь частично:\n",
    "* Пользователи слушают похожую музыку в начале недели и в конце.\n",
    "* Разница между Москвой и Петербургом не слишком выражена. В Москве чаще слушают русскую популярную музыку, в Петербурге — джаз.\n",
    "\n",
    "Однако пропуски в данных ставят под сомнение этот результат. В Москве их так много, что рейтинг топ-10 мог бы выглядеть иначе, если бы не утерянные  данные о жанрах."
   ]
  },
  {
   "cell_type": "markdown",
   "metadata": {
    "id": "JolODAqr_Zcu"
   },
   "source": [
    "### Жанровые предпочтения в Москве и Петербурге\n",
    "\n",
    "Гипотеза: Петербург — столица рэпа, музыку этого жанра там слушают чаще, чем в Москве.  А Москва — город контрастов, в котором, тем не менее, преобладает поп-музыка."
   ]
  },
  {
   "cell_type": "markdown",
   "metadata": {
    "id": "DlegSvaT_Zcu"
   },
   "source": [
    "Сгруппирую таблицу `moscow_general` по жанру и посчитайте прослушивания треков каждого жанра методом `count()`. Затем отсортирую результат в порядке убывания и сохраню его в таблице `moscow_genres`."
   ]
  },
  {
   "cell_type": "code",
   "execution_count": 35,
   "metadata": {
    "id": "r19lIPke_Zcu"
   },
   "outputs": [],
   "source": [
    "moscow_general = moscow_general.groupby('genre')['time'].count()  # одной строкой: группировка таблицы moscow_general по столбцу 'genre', \n",
    "moscow_genres = moscow_general.sort_values(ascending=False)  # подсчёт числа значений 'genre' в этой группировке методом count(), \n",
    "  # сортировка получившегося Series в порядке убывания и сохранение в moscow_genres"
   ]
  },
  {
   "cell_type": "markdown",
   "metadata": {
    "id": "6kMuomxTiIr8"
   },
   "source": [
    "Выведу на экран первые десять строк `moscow_genres`:"
   ]
  },
  {
   "cell_type": "code",
   "execution_count": 36,
   "metadata": {
    "id": "WhCSooF8_Zcv"
   },
   "outputs": [
    {
     "data": {
      "text/plain": [
       "genre\n",
       "pop            5892\n",
       "dance          4435\n",
       "rock           3965\n",
       "electronic     3786\n",
       "hiphop         2096\n",
       "classical      1616\n",
       "world          1432\n",
       "alternative    1379\n",
       "ruspop         1372\n",
       "rusrap         1161\n",
       "Name: time, dtype: int64"
      ]
     },
     "metadata": {},
     "output_type": "display_data"
    }
   ],
   "source": [
    "display(moscow_genres.head(10))  # просмотр первых 10 строк moscow_genres"
   ]
  },
  {
   "cell_type": "markdown",
   "metadata": {
    "id": "cnPG2vnN_Zcv"
   },
   "source": [
    "Теперь повторюто же и для Санкт-Петербурга.\n",
    "\n",
    "Сгруппирую таблицу `spb_general` по жанру. Посчитаю прослушивания треков каждого жанра. Результат отсортирую в порядке убывания и сохраню в таблице `spb_genres`:\n"
   ]
  },
  {
   "cell_type": "code",
   "execution_count": 37,
   "metadata": {
    "id": "gluLIpE7_Zcv"
   },
   "outputs": [],
   "source": [
    "spb_general = spb_general.groupby('genre')['time'].count()  # одной строкой: группировка таблицы spb_general по столбцу 'genre', \n",
    "spb_genres = spb_general.sort_values(ascending=False)  # подсчёт числа значений 'genre' в этой группировке методом count(), \n",
    "  # сортировка получившегося Series в порядке убывания и сохранение в spb_genres"
   ]
  },
  {
   "cell_type": "markdown",
   "metadata": {
    "id": "5Doha_ODgyQ8"
   },
   "source": [
    "Выведу на экран первые десять строк `spb_genres`:"
   ]
  },
  {
   "cell_type": "code",
   "execution_count": 38,
   "metadata": {
    "id": "uaGJHjVU_Zcv"
   },
   "outputs": [
    {
     "data": {
      "text/plain": [
       "genre\n",
       "pop            2431\n",
       "dance          1932\n",
       "rock           1879\n",
       "electronic     1737\n",
       "hiphop          960\n",
       "alternative     649\n",
       "classical       646\n",
       "rusrap          564\n",
       "ruspop          538\n",
       "world           515\n",
       "Name: time, dtype: int64"
      ]
     },
     "metadata": {},
     "output_type": "display_data"
    }
   ],
   "source": [
    "display(spb_genres.head(10))  # просмотр первых 10 строк spb_genres"
   ]
  },
  {
   "cell_type": "markdown",
   "metadata": {
    "id": "RY51YJYu_Zcv"
   },
   "source": [
    "**Выводы**"
   ]
  },
  {
   "cell_type": "markdown",
   "metadata": {
    "id": "nVhnJEm__Zcv"
   },
   "source": [
    "Гипотеза частично подтвердилась:\n",
    "* Поп-музыка — самый популярный жанр в Москве, как и предполагала гипотеза. Более того, в топ-10 жанров встречается близкий жанр — русская популярная музыка.\n",
    "* Вопреки ожиданиям, рэп одинаково популярен в Москве и Петербурге. \n"
   ]
  },
  {
   "cell_type": "markdown",
   "metadata": {
    "id": "ykKQ0N65_Zcv"
   },
   "source": [
    "## Итоги исследования"
   ]
  },
  {
   "cell_type": "markdown",
   "metadata": {
    "id": "tjUwbHb3_Zcv"
   },
   "source": [
    "<div style=\"border:solid black 2px; padding: 10px\">\n",
    "\n",
    "Были проверены три гипотезы и установлено:\n",
    "\n",
    "1. День недели по-разному влияет на активность пользователей в Москве и Петербурге. \n",
    "\n",
    "Первая гипотеза полностью подтвердилась.\n",
    "\n",
    "2. Музыкальные предпочтения не сильно меняются в течение недели — будь то Москва или Петербург. Небольшие различия заметны в начале недели, по понедельникам:\n",
    "* в Москве слушают музыку жанра “world”,\n",
    "* в Петербурге — джаз и классику.\n",
    "\n",
    "Таким образом, вторая гипотеза подтвердилась лишь отчасти. Этот результат мог оказаться иным, если бы не пропуски в данных.\n",
    "\n",
    "3. Во вкусах пользователей Москвы и Петербурга больше общего чем различий. Вопреки ожиданиям, предпочтения жанров в Петербурге напоминают московские.\n",
    "\n",
    "Третья гипотеза не подтвердилась. Если различия в предпочтениях и существуют, на основной массе пользователей они незаметны.\n",
    "\n",
    "**На практике исследования содержат проверки статистических гипотез.**\n",
    "Из данных одного сервиса не всегда можно сделать вывод о всех жителях города.\n",
    "Проверки статистических гипотез показали, насколько они достоверны, исходя из имеющихся данных. Но это предмет следующих исследований.\n"
   ]
  }
 ],
 "metadata": {
  "ExecuteTimeLog": [
   {
    "duration": 374,
    "start_time": "2022-04-12T19:30:38.751Z"
   },
   {
    "duration": 138,
    "start_time": "2022-04-12T19:32:41.528Z"
   },
   {
    "duration": 17,
    "start_time": "2022-04-12T19:33:34.631Z"
   },
   {
    "duration": 27,
    "start_time": "2022-04-12T19:34:48.495Z"
   },
   {
    "duration": 5,
    "start_time": "2022-04-12T19:41:20.014Z"
   },
   {
    "duration": 12,
    "start_time": "2022-04-12T19:44:00.546Z"
   },
   {
    "duration": 4,
    "start_time": "2022-04-12T19:44:19.337Z"
   },
   {
    "duration": 10,
    "start_time": "2022-04-12T19:46:13.088Z"
   },
   {
    "duration": 4,
    "start_time": "2022-04-12T19:46:17.096Z"
   },
   {
    "duration": 24,
    "start_time": "2022-04-12T19:50:55.013Z"
   },
   {
    "duration": 56,
    "start_time": "2022-04-12T20:15:07.848Z"
   },
   {
    "duration": 7,
    "start_time": "2022-04-12T20:16:27.613Z"
   },
   {
    "duration": 7,
    "start_time": "2022-04-12T20:16:47.765Z"
   },
   {
    "duration": 837,
    "start_time": "2022-04-12T20:17:19.791Z"
   },
   {
    "duration": 15,
    "start_time": "2022-04-12T20:18:48.322Z"
   },
   {
    "duration": 15,
    "start_time": "2022-04-12T20:18:51.818Z"
   },
   {
    "duration": 23,
    "start_time": "2022-04-12T20:19:19.213Z"
   },
   {
    "duration": 58,
    "start_time": "2022-04-12T20:20:27.474Z"
   },
   {
    "duration": 66,
    "start_time": "2022-04-12T20:21:20.830Z"
   },
   {
    "duration": 52,
    "start_time": "2022-04-12T20:21:34.506Z"
   },
   {
    "duration": 10,
    "start_time": "2022-04-12T20:23:23.978Z"
   },
   {
    "duration": 3,
    "start_time": "2022-04-12T21:11:46.368Z"
   },
   {
    "duration": 12,
    "start_time": "2022-04-12T21:12:17.418Z"
   },
   {
    "duration": 3,
    "start_time": "2022-04-12T21:14:21.218Z"
   },
   {
    "duration": 3,
    "start_time": "2022-04-12T21:19:04.072Z"
   },
   {
    "duration": 20,
    "start_time": "2022-04-12T21:19:07.034Z"
   },
   {
    "duration": 7,
    "start_time": "2022-04-12T21:21:28.215Z"
   },
   {
    "duration": 31,
    "start_time": "2022-04-12T21:22:45.757Z"
   },
   {
    "duration": 9,
    "start_time": "2022-04-12T21:24:22.119Z"
   },
   {
    "duration": 10,
    "start_time": "2022-04-12T21:24:33.820Z"
   },
   {
    "duration": 9,
    "start_time": "2022-04-12T21:25:47.976Z"
   },
   {
    "duration": 10,
    "start_time": "2022-04-12T21:26:40.239Z"
   },
   {
    "duration": 13,
    "start_time": "2022-04-12T21:28:52.695Z"
   },
   {
    "duration": 68,
    "start_time": "2022-04-12T21:29:03.850Z"
   },
   {
    "duration": 13,
    "start_time": "2022-04-12T21:30:14.223Z"
   },
   {
    "duration": 75,
    "start_time": "2022-04-12T21:30:47.068Z"
   },
   {
    "duration": 69,
    "start_time": "2022-04-12T21:33:09.853Z"
   },
   {
    "duration": 74,
    "start_time": "2022-04-13T18:53:54.948Z"
   },
   {
    "duration": 10,
    "start_time": "2022-04-13T18:54:14.399Z"
   },
   {
    "duration": 518,
    "start_time": "2022-04-13T18:54:26.368Z"
   },
   {
    "duration": 42,
    "start_time": "2022-04-13T18:54:28.495Z"
   },
   {
    "duration": 221,
    "start_time": "2022-04-13T18:54:30.672Z"
   },
   {
    "duration": 29,
    "start_time": "2022-04-13T18:54:32.880Z"
   },
   {
    "duration": 42,
    "start_time": "2022-04-13T18:54:35.929Z"
   },
   {
    "duration": 6,
    "start_time": "2022-04-13T18:54:40.032Z"
   },
   {
    "duration": 7,
    "start_time": "2022-04-13T18:54:44.200Z"
   },
   {
    "duration": 35,
    "start_time": "2022-04-13T18:54:47.506Z"
   },
   {
    "duration": 2218,
    "start_time": "2022-04-13T18:54:50.858Z"
   },
   {
    "duration": 3351,
    "start_time": "2022-04-13T18:54:57.324Z"
   },
   {
    "duration": 34,
    "start_time": "2022-04-13T18:55:06.095Z"
   },
   {
    "duration": 2247,
    "start_time": "2022-04-13T18:55:10.456Z"
   },
   {
    "duration": 108,
    "start_time": "2022-04-13T18:55:24.160Z"
   },
   {
    "duration": 120,
    "start_time": "2022-04-13T18:55:27.663Z"
   },
   {
    "duration": 103,
    "start_time": "2022-04-13T18:55:30.171Z"
   },
   {
    "duration": 11,
    "start_time": "2022-04-13T18:55:34.363Z"
   },
   {
    "duration": 4,
    "start_time": "2022-04-13T18:55:39.508Z"
   },
   {
    "duration": 73,
    "start_time": "2022-04-13T18:55:45.791Z"
   },
   {
    "duration": 61,
    "start_time": "2022-04-13T18:57:39.556Z"
   },
   {
    "duration": 5,
    "start_time": "2022-04-13T18:57:45.959Z"
   },
   {
    "duration": 11,
    "start_time": "2022-04-13T18:57:51.662Z"
   },
   {
    "duration": 5,
    "start_time": "2022-04-13T18:57:54.951Z"
   },
   {
    "duration": 54,
    "start_time": "2022-04-13T18:58:00.581Z"
   },
   {
    "duration": 24,
    "start_time": "2022-04-13T18:58:04.752Z"
   },
   {
    "duration": 33,
    "start_time": "2022-04-13T18:58:09.672Z"
   },
   {
    "duration": 99,
    "start_time": "2022-04-13T18:58:14.670Z"
   },
   {
    "duration": 4,
    "start_time": "2022-04-13T19:01:30.606Z"
   },
   {
    "duration": 225,
    "start_time": "2022-04-13T19:01:34.677Z"
   },
   {
    "duration": 24,
    "start_time": "2022-04-13T19:01:43.098Z"
   },
   {
    "duration": 70,
    "start_time": "2022-04-13T19:01:48.648Z"
   },
   {
    "duration": 7,
    "start_time": "2022-04-13T19:01:58.705Z"
   },
   {
    "duration": 23,
    "start_time": "2022-04-13T19:02:05.297Z"
   },
   {
    "duration": 8,
    "start_time": "2022-04-13T19:02:07.373Z"
   },
   {
    "duration": 37,
    "start_time": "2022-04-13T19:02:21.236Z"
   },
   {
    "duration": 43,
    "start_time": "2022-04-13T19:02:41.970Z"
   },
   {
    "duration": 36,
    "start_time": "2022-04-13T19:02:45.581Z"
   },
   {
    "duration": 4,
    "start_time": "2022-04-13T19:59:44.057Z"
   },
   {
    "duration": 209,
    "start_time": "2022-04-13T19:59:47.449Z"
   },
   {
    "duration": 17,
    "start_time": "2022-04-13T19:59:50.379Z"
   },
   {
    "duration": 40,
    "start_time": "2022-04-13T19:59:57.785Z"
   },
   {
    "duration": 6,
    "start_time": "2022-04-13T20:00:03.934Z"
   },
   {
    "duration": 12,
    "start_time": "2022-04-13T20:00:08.114Z"
   },
   {
    "duration": 33,
    "start_time": "2022-04-13T20:00:14.609Z"
   },
   {
    "duration": 24,
    "start_time": "2022-04-13T20:00:22.739Z"
   },
   {
    "duration": 34,
    "start_time": "2022-04-13T20:00:25.853Z"
   },
   {
    "duration": 101,
    "start_time": "2022-04-13T20:00:31.489Z"
   },
   {
    "duration": 965,
    "start_time": "2022-04-13T20:02:15.412Z"
   },
   {
    "duration": 4,
    "start_time": "2022-04-13T20:11:20.991Z"
   },
   {
    "duration": 867,
    "start_time": "2022-04-13T20:11:24.479Z"
   },
   {
    "duration": 19,
    "start_time": "2022-04-13T20:11:27.081Z"
   },
   {
    "duration": 40,
    "start_time": "2022-04-13T20:11:30.804Z"
   },
   {
    "duration": 7,
    "start_time": "2022-04-13T20:11:37.506Z"
   },
   {
    "duration": 12,
    "start_time": "2022-04-13T20:11:41.309Z"
   },
   {
    "duration": 6,
    "start_time": "2022-04-13T20:11:43.827Z"
   },
   {
    "duration": 34,
    "start_time": "2022-04-13T20:11:47.165Z"
   },
   {
    "duration": 25,
    "start_time": "2022-04-13T20:11:54.937Z"
   },
   {
    "duration": 36,
    "start_time": "2022-04-13T20:11:57.392Z"
   },
   {
    "duration": 103,
    "start_time": "2022-04-13T20:12:08.061Z"
   },
   {
    "duration": 111,
    "start_time": "2022-04-13T20:12:11.214Z"
   },
   {
    "duration": 94,
    "start_time": "2022-04-13T20:12:14.274Z"
   },
   {
    "duration": 12,
    "start_time": "2022-04-13T20:12:22.312Z"
   },
   {
    "duration": 5,
    "start_time": "2022-04-13T20:13:00.178Z"
   },
   {
    "duration": 35,
    "start_time": "2022-04-13T20:13:04.089Z"
   },
   {
    "duration": 71,
    "start_time": "2022-04-13T20:13:08.432Z"
   },
   {
    "duration": 4,
    "start_time": "2022-04-13T20:13:24.605Z"
   },
   {
    "duration": 6,
    "start_time": "2022-04-13T20:13:49.497Z"
   },
   {
    "duration": 51,
    "start_time": "2022-04-13T20:30:34.169Z"
   },
   {
    "duration": 25,
    "start_time": "2022-04-13T20:52:21.673Z"
   },
   {
    "duration": 19,
    "start_time": "2022-04-13T20:54:15.600Z"
   },
   {
    "duration": 18,
    "start_time": "2022-04-13T20:58:54.530Z"
   },
   {
    "duration": 15,
    "start_time": "2022-04-13T21:02:35.698Z"
   },
   {
    "duration": 41,
    "start_time": "2022-04-13T21:07:09.729Z"
   },
   {
    "duration": 1337,
    "start_time": "2022-04-13T21:07:59.272Z"
   },
   {
    "duration": 1308,
    "start_time": "2022-04-13T21:08:54.328Z"
   },
   {
    "duration": 6,
    "start_time": "2022-04-13T21:09:56.267Z"
   },
   {
    "duration": 20,
    "start_time": "2022-04-13T21:10:03.033Z"
   },
   {
    "duration": 28,
    "start_time": "2022-04-13T21:10:21.474Z"
   },
   {
    "duration": 21,
    "start_time": "2022-04-13T21:11:44.064Z"
   },
   {
    "duration": 21,
    "start_time": "2022-04-13T21:12:10.845Z"
   },
   {
    "duration": 15,
    "start_time": "2022-04-13T21:12:35.445Z"
   },
   {
    "duration": 21,
    "start_time": "2022-04-13T21:16:17.745Z"
   },
   {
    "duration": 24,
    "start_time": "2022-04-13T21:16:25.232Z"
   },
   {
    "duration": 18,
    "start_time": "2022-04-13T21:17:09.660Z"
   },
   {
    "duration": 17,
    "start_time": "2022-04-13T21:17:29.087Z"
   },
   {
    "duration": 32,
    "start_time": "2022-04-13T21:18:37.248Z"
   },
   {
    "duration": 46,
    "start_time": "2022-04-13T21:18:46.685Z"
   },
   {
    "duration": 1080,
    "start_time": "2022-04-13T21:19:17.652Z"
   },
   {
    "duration": 19,
    "start_time": "2022-04-13T21:19:33.265Z"
   },
   {
    "duration": 598,
    "start_time": "2022-04-13T21:19:41.230Z"
   },
   {
    "duration": 158,
    "start_time": "2022-04-13T21:20:31.501Z"
   },
   {
    "duration": 134,
    "start_time": "2022-04-13T21:20:41.988Z"
   },
   {
    "duration": 179,
    "start_time": "2022-04-13T21:23:55.022Z"
   },
   {
    "duration": 152,
    "start_time": "2022-04-13T21:24:10.393Z"
   },
   {
    "duration": 49,
    "start_time": "2022-04-13T21:24:21.665Z"
   },
   {
    "duration": 83,
    "start_time": "2022-04-13T21:24:25.370Z"
   },
   {
    "duration": 86,
    "start_time": "2022-04-13T21:26:11.243Z"
   },
   {
    "duration": 20,
    "start_time": "2022-04-13T21:26:49.117Z"
   },
   {
    "duration": 159,
    "start_time": "2022-04-13T21:28:34.332Z"
   },
   {
    "duration": 7,
    "start_time": "2022-04-13T21:28:41.285Z"
   },
   {
    "duration": 6,
    "start_time": "2022-04-13T21:28:47.889Z"
   },
   {
    "duration": 6,
    "start_time": "2022-04-13T21:29:42.006Z"
   },
   {
    "duration": 26,
    "start_time": "2022-04-13T21:29:55.638Z"
   },
   {
    "duration": 11,
    "start_time": "2022-04-13T21:30:21.852Z"
   },
   {
    "duration": 17,
    "start_time": "2022-04-13T21:34:57.629Z"
   },
   {
    "duration": 32,
    "start_time": "2022-04-13T21:39:09.775Z"
   },
   {
    "duration": 37,
    "start_time": "2022-04-13T21:39:21.049Z"
   },
   {
    "duration": 28,
    "start_time": "2022-04-13T21:39:59.177Z"
   },
   {
    "duration": 169,
    "start_time": "2022-04-13T21:42:56.446Z"
   },
   {
    "duration": 138,
    "start_time": "2022-04-13T21:46:31.789Z"
   },
   {
    "duration": 149,
    "start_time": "2022-04-13T21:49:02.378Z"
   },
   {
    "duration": 155,
    "start_time": "2022-04-13T21:49:34.252Z"
   },
   {
    "duration": 94,
    "start_time": "2022-04-13T21:49:39.961Z"
   },
   {
    "duration": 80,
    "start_time": "2022-04-13T21:52:43.601Z"
   },
   {
    "duration": 108,
    "start_time": "2022-04-13T21:54:40.820Z"
   },
   {
    "duration": 122,
    "start_time": "2022-04-13T21:55:01.400Z"
   },
   {
    "duration": 69,
    "start_time": "2022-04-13T21:55:16.352Z"
   },
   {
    "duration": 123,
    "start_time": "2022-04-13T21:59:38.480Z"
   },
   {
    "duration": 68,
    "start_time": "2022-04-13T22:01:02.356Z"
   },
   {
    "duration": 63,
    "start_time": "2022-04-13T22:01:13.647Z"
   },
   {
    "duration": 50,
    "start_time": "2022-04-13T22:05:08.819Z"
   },
   {
    "duration": 19,
    "start_time": "2022-04-13T22:05:27.465Z"
   },
   {
    "duration": 81,
    "start_time": "2022-04-13T22:05:52.984Z"
   },
   {
    "duration": 93,
    "start_time": "2022-04-13T22:06:20.319Z"
   },
   {
    "duration": 538,
    "start_time": "2022-04-14T18:38:22.847Z"
   },
   {
    "duration": 764,
    "start_time": "2022-04-14T18:38:25.366Z"
   },
   {
    "duration": 26,
    "start_time": "2022-04-14T18:38:28.206Z"
   },
   {
    "duration": 39,
    "start_time": "2022-04-14T18:38:33.929Z"
   },
   {
    "duration": 6,
    "start_time": "2022-04-14T18:38:38.681Z"
   },
   {
    "duration": 15,
    "start_time": "2022-04-14T18:38:42.478Z"
   },
   {
    "duration": 6,
    "start_time": "2022-04-14T18:38:46.352Z"
   },
   {
    "duration": 33,
    "start_time": "2022-04-14T18:38:49.122Z"
   },
   {
    "duration": 23,
    "start_time": "2022-04-14T18:38:53.426Z"
   },
   {
    "duration": 34,
    "start_time": "2022-04-14T18:38:55.784Z"
   },
   {
    "duration": 90,
    "start_time": "2022-04-14T18:38:59.900Z"
   },
   {
    "duration": 110,
    "start_time": "2022-04-14T18:39:02.515Z"
   },
   {
    "duration": 84,
    "start_time": "2022-04-14T18:39:04.906Z"
   },
   {
    "duration": 11,
    "start_time": "2022-04-14T18:39:07.982Z"
   },
   {
    "duration": 5,
    "start_time": "2022-04-14T18:40:52.017Z"
   },
   {
    "duration": 33,
    "start_time": "2022-04-14T18:40:55.714Z"
   },
   {
    "duration": 67,
    "start_time": "2022-04-14T18:41:03.319Z"
   },
   {
    "duration": 44,
    "start_time": "2022-04-14T18:41:10.721Z"
   },
   {
    "duration": 47,
    "start_time": "2022-04-14T18:41:14.892Z"
   },
   {
    "duration": 110,
    "start_time": "2022-04-14T18:41:36.061Z"
   },
   {
    "duration": 43,
    "start_time": "2022-04-14T18:43:22.629Z"
   },
   {
    "duration": 51,
    "start_time": "2022-04-14T18:43:30.394Z"
   },
   {
    "duration": 20,
    "start_time": "2022-04-14T18:43:39.461Z"
   },
   {
    "duration": 5,
    "start_time": "2022-04-14T18:48:43.582Z"
   },
   {
    "duration": 193,
    "start_time": "2022-04-14T18:50:21.817Z"
   },
   {
    "duration": 125,
    "start_time": "2022-04-14T18:50:45.185Z"
   },
   {
    "duration": 8,
    "start_time": "2022-04-14T18:50:50.017Z"
   },
   {
    "duration": 31,
    "start_time": "2022-04-14T18:51:21.211Z"
   },
   {
    "duration": 9,
    "start_time": "2022-04-14T18:55:09.817Z"
   },
   {
    "duration": 21,
    "start_time": "2022-04-14T18:58:14.359Z"
   },
   {
    "duration": 19,
    "start_time": "2022-04-14T18:59:51.659Z"
   },
   {
    "duration": 22,
    "start_time": "2022-04-14T19:00:23.515Z"
   },
   {
    "duration": 128,
    "start_time": "2022-04-14T19:01:44.786Z"
   },
   {
    "duration": 5,
    "start_time": "2022-04-14T19:01:56.768Z"
   },
   {
    "duration": 28,
    "start_time": "2022-04-14T19:02:00.644Z"
   },
   {
    "duration": 5,
    "start_time": "2022-04-14T19:02:55.241Z"
   },
   {
    "duration": 81,
    "start_time": "2022-04-14T19:02:57.661Z"
   },
   {
    "duration": 124,
    "start_time": "2022-04-14T19:06:02.255Z"
   },
   {
    "duration": 4,
    "start_time": "2022-04-14T19:06:07.179Z"
   },
   {
    "duration": 22,
    "start_time": "2022-04-14T19:06:12.342Z"
   },
   {
    "duration": 22,
    "start_time": "2022-04-14T19:06:25.557Z"
   },
   {
    "duration": 19,
    "start_time": "2022-04-14T19:07:58.399Z"
   },
   {
    "duration": 19,
    "start_time": "2022-04-14T19:08:00.873Z"
   },
   {
    "duration": 20,
    "start_time": "2022-04-14T19:08:03.306Z"
   },
   {
    "duration": 18,
    "start_time": "2022-04-14T19:08:06.150Z"
   },
   {
    "duration": 19,
    "start_time": "2022-04-14T19:08:08.667Z"
   },
   {
    "duration": 18,
    "start_time": "2022-04-14T19:08:50.179Z"
   },
   {
    "duration": 33,
    "start_time": "2022-04-14T19:16:01.537Z"
   },
   {
    "duration": 27,
    "start_time": "2022-04-14T19:16:03.836Z"
   },
   {
    "duration": 20,
    "start_time": "2022-04-14T19:16:04.534Z"
   },
   {
    "duration": 20,
    "start_time": "2022-04-14T19:16:05.169Z"
   },
   {
    "duration": 20,
    "start_time": "2022-04-14T19:16:05.787Z"
   },
   {
    "duration": 20,
    "start_time": "2022-04-14T19:16:06.450Z"
   },
   {
    "duration": 24,
    "start_time": "2022-04-14T19:19:26.541Z"
   },
   {
    "duration": 130,
    "start_time": "2022-04-14T19:23:41.936Z"
   },
   {
    "duration": 13,
    "start_time": "2022-04-14T19:24:12.573Z"
   },
   {
    "duration": 22,
    "start_time": "2022-04-14T19:26:55.650Z"
   },
   {
    "duration": 20,
    "start_time": "2022-04-14T19:26:57.514Z"
   },
   {
    "duration": 19,
    "start_time": "2022-04-14T19:26:59.358Z"
   },
   {
    "duration": 29,
    "start_time": "2022-04-14T19:27:01.127Z"
   },
   {
    "duration": 21,
    "start_time": "2022-04-14T19:27:15.562Z"
   },
   {
    "duration": 21,
    "start_time": "2022-04-14T19:27:35.204Z"
   },
   {
    "duration": 28,
    "start_time": "2022-04-14T19:27:38.979Z"
   },
   {
    "duration": 11,
    "start_time": "2022-04-14T19:27:42.664Z"
   },
   {
    "duration": 13,
    "start_time": "2022-04-14T19:30:18.533Z"
   },
   {
    "duration": 47,
    "start_time": "2022-04-14T19:30:30.916Z"
   },
   {
    "duration": 13,
    "start_time": "2022-04-14T19:30:55.503Z"
   },
   {
    "duration": 30,
    "start_time": "2022-04-14T19:31:21.288Z"
   },
   {
    "duration": 39,
    "start_time": "2022-04-14T19:32:00.318Z"
   },
   {
    "duration": 6,
    "start_time": "2022-04-14T19:50:26.276Z"
   },
   {
    "duration": 34,
    "start_time": "2022-04-14T19:52:24.180Z"
   },
   {
    "duration": 120,
    "start_time": "2022-04-14T19:52:40.519Z"
   },
   {
    "duration": 6,
    "start_time": "2022-04-14T19:52:49.901Z"
   },
   {
    "duration": 28,
    "start_time": "2022-04-14T19:52:53.403Z"
   },
   {
    "duration": 36,
    "start_time": "2022-04-14T19:54:47.877Z"
   },
   {
    "duration": 39,
    "start_time": "2022-04-14T19:54:51.195Z"
   },
   {
    "duration": 35,
    "start_time": "2022-04-14T19:54:54.689Z"
   },
   {
    "duration": 35,
    "start_time": "2022-04-14T19:55:24.587Z"
   },
   {
    "duration": 42,
    "start_time": "2022-04-14T19:55:40.570Z"
   },
   {
    "duration": 48,
    "start_time": "2022-04-14T19:56:49.569Z"
   },
   {
    "duration": 35,
    "start_time": "2022-04-14T19:56:53.623Z"
   },
   {
    "duration": 6,
    "start_time": "2022-04-14T19:57:26.506Z"
   },
   {
    "duration": 26,
    "start_time": "2022-04-14T19:57:30.403Z"
   },
   {
    "duration": 17,
    "start_time": "2022-04-14T19:57:33.771Z"
   },
   {
    "duration": 23,
    "start_time": "2022-04-14T19:57:36.633Z"
   },
   {
    "duration": 17,
    "start_time": "2022-04-14T19:57:41.685Z"
   },
   {
    "duration": 10,
    "start_time": "2022-04-14T20:01:29.308Z"
   },
   {
    "duration": 13,
    "start_time": "2022-04-14T20:01:33.272Z"
   },
   {
    "duration": 10,
    "start_time": "2022-04-14T20:01:50.127Z"
   },
   {
    "duration": 15,
    "start_time": "2022-04-14T20:04:51.599Z"
   },
   {
    "duration": 14,
    "start_time": "2022-04-14T20:06:00.484Z"
   },
   {
    "duration": 11,
    "start_time": "2022-04-14T20:07:21.316Z"
   },
   {
    "duration": 30,
    "start_time": "2022-04-14T20:09:47.572Z"
   },
   {
    "duration": 16,
    "start_time": "2022-04-14T20:09:54.391Z"
   },
   {
    "duration": 12,
    "start_time": "2022-04-14T20:10:04.639Z"
   },
   {
    "duration": 29,
    "start_time": "2022-04-14T20:10:28.979Z"
   },
   {
    "duration": 20,
    "start_time": "2022-04-14T20:10:36.346Z"
   },
   {
    "duration": 12,
    "start_time": "2022-04-14T20:10:46.849Z"
   },
   {
    "duration": 30,
    "start_time": "2022-04-14T20:10:56.081Z"
   },
   {
    "duration": 16,
    "start_time": "2022-04-14T20:11:07.403Z"
   },
   {
    "duration": 7,
    "start_time": "2022-04-14T20:11:11.999Z"
   },
   {
    "duration": 28,
    "start_time": "2022-04-14T20:13:12.243Z"
   },
   {
    "duration": 11,
    "start_time": "2022-04-14T20:14:11.001Z"
   },
   {
    "duration": 7,
    "start_time": "2022-04-14T20:14:32.407Z"
   },
   {
    "duration": 4,
    "start_time": "2022-04-14T20:16:08.482Z"
   },
   {
    "duration": 868,
    "start_time": "2022-04-14T20:16:10.942Z"
   },
   {
    "duration": 17,
    "start_time": "2022-04-14T20:16:13.653Z"
   },
   {
    "duration": 41,
    "start_time": "2022-04-14T20:16:17.037Z"
   },
   {
    "duration": 6,
    "start_time": "2022-04-14T20:16:23.329Z"
   },
   {
    "duration": 18,
    "start_time": "2022-04-14T20:16:28.264Z"
   },
   {
    "duration": 6,
    "start_time": "2022-04-14T20:16:31.063Z"
   },
   {
    "duration": 33,
    "start_time": "2022-04-14T20:16:34.167Z"
   },
   {
    "duration": 23,
    "start_time": "2022-04-14T20:16:38.322Z"
   },
   {
    "duration": 32,
    "start_time": "2022-04-14T20:16:41.210Z"
   },
   {
    "duration": 91,
    "start_time": "2022-04-14T20:16:43.933Z"
   },
   {
    "duration": 101,
    "start_time": "2022-04-14T20:16:47.221Z"
   },
   {
    "duration": 91,
    "start_time": "2022-04-14T20:16:49.676Z"
   },
   {
    "duration": 13,
    "start_time": "2022-04-14T20:16:54.455Z"
   },
   {
    "duration": 4,
    "start_time": "2022-04-14T20:17:01.061Z"
   },
   {
    "duration": 34,
    "start_time": "2022-04-14T20:17:03.523Z"
   },
   {
    "duration": 66,
    "start_time": "2022-04-14T20:17:07.995Z"
   },
   {
    "duration": 47,
    "start_time": "2022-04-14T20:17:12.806Z"
   },
   {
    "duration": 19,
    "start_time": "2022-04-14T20:17:16.146Z"
   },
   {
    "duration": 6,
    "start_time": "2022-04-14T20:17:20.321Z"
   },
   {
    "duration": 22,
    "start_time": "2022-04-14T20:17:26.900Z"
   },
   {
    "duration": 21,
    "start_time": "2022-04-14T20:17:29.039Z"
   },
   {
    "duration": 19,
    "start_time": "2022-04-14T20:17:31.037Z"
   },
   {
    "duration": 19,
    "start_time": "2022-04-14T20:17:33.006Z"
   },
   {
    "duration": 21,
    "start_time": "2022-04-14T20:17:34.963Z"
   },
   {
    "duration": 22,
    "start_time": "2022-04-14T20:17:36.801Z"
   },
   {
    "duration": 15,
    "start_time": "2022-04-14T20:17:39.979Z"
   },
   {
    "duration": 29,
    "start_time": "2022-04-14T20:17:43.575Z"
   },
   {
    "duration": 28,
    "start_time": "2022-04-14T20:17:46.389Z"
   },
   {
    "duration": 6,
    "start_time": "2022-04-14T20:17:50.282Z"
   },
   {
    "duration": 24,
    "start_time": "2022-04-14T20:17:55.182Z"
   },
   {
    "duration": 16,
    "start_time": "2022-04-14T20:17:58.110Z"
   },
   {
    "duration": 66,
    "start_time": "2022-04-14T20:18:15.703Z"
   },
   {
    "duration": 7,
    "start_time": "2022-04-14T20:18:28.595Z"
   },
   {
    "duration": 24,
    "start_time": "2022-04-14T20:18:30.925Z"
   },
   {
    "duration": 17,
    "start_time": "2022-04-14T20:18:37.388Z"
   },
   {
    "duration": 22,
    "start_time": "2022-04-14T20:18:43.033Z"
   },
   {
    "duration": 33,
    "start_time": "2022-04-14T20:21:04.848Z"
   },
   {
    "duration": 73,
    "start_time": "2022-04-14T20:21:10.368Z"
   },
   {
    "duration": 15,
    "start_time": "2022-04-14T20:25:03.484Z"
   },
   {
    "duration": 121,
    "start_time": "2022-04-14T20:25:36.810Z"
   },
   {
    "duration": 15,
    "start_time": "2022-04-14T20:25:44.776Z"
   },
   {
    "duration": 33,
    "start_time": "2022-04-14T20:25:55.236Z"
   },
   {
    "duration": 23,
    "start_time": "2022-04-14T20:26:00.286Z"
   },
   {
    "duration": 35,
    "start_time": "2022-04-14T20:26:54.435Z"
   },
   {
    "duration": 21,
    "start_time": "2022-04-14T20:27:00.103Z"
   },
   {
    "duration": 3,
    "start_time": "2022-04-14T20:27:20.181Z"
   },
   {
    "duration": 972,
    "start_time": "2022-04-14T20:27:22.197Z"
   },
   {
    "duration": 17,
    "start_time": "2022-04-14T20:27:24.478Z"
   },
   {
    "duration": 44,
    "start_time": "2022-04-14T20:27:27.881Z"
   },
   {
    "duration": 6,
    "start_time": "2022-04-14T20:27:32.013Z"
   },
   {
    "duration": 16,
    "start_time": "2022-04-14T20:27:35.871Z"
   },
   {
    "duration": 6,
    "start_time": "2022-04-14T20:27:38.431Z"
   },
   {
    "duration": 36,
    "start_time": "2022-04-14T20:27:41.123Z"
   },
   {
    "duration": 24,
    "start_time": "2022-04-14T20:27:44.723Z"
   },
   {
    "duration": 37,
    "start_time": "2022-04-14T20:27:48.022Z"
   },
   {
    "duration": 95,
    "start_time": "2022-04-14T20:27:50.862Z"
   },
   {
    "duration": 106,
    "start_time": "2022-04-14T20:27:54.195Z"
   },
   {
    "duration": 89,
    "start_time": "2022-04-14T20:27:56.606Z"
   },
   {
    "duration": 15,
    "start_time": "2022-04-14T20:28:00.670Z"
   },
   {
    "duration": 4,
    "start_time": "2022-04-14T20:28:15.849Z"
   },
   {
    "duration": 37,
    "start_time": "2022-04-14T20:28:22.111Z"
   },
   {
    "duration": 15,
    "start_time": "2022-04-14T20:28:30.130Z"
   },
   {
    "duration": 38,
    "start_time": "2022-04-14T20:28:50.570Z"
   },
   {
    "duration": 15,
    "start_time": "2022-04-14T20:28:55.221Z"
   },
   {
    "duration": 52,
    "start_time": "2022-04-14T20:29:04.325Z"
   },
   {
    "duration": 19,
    "start_time": "2022-04-14T20:29:05.496Z"
   },
   {
    "duration": 8,
    "start_time": "2022-04-14T20:29:07.105Z"
   },
   {
    "duration": 22,
    "start_time": "2022-04-14T20:29:08.395Z"
   },
   {
    "duration": 32,
    "start_time": "2022-04-14T20:29:08.992Z"
   },
   {
    "duration": 21,
    "start_time": "2022-04-14T20:29:09.582Z"
   },
   {
    "duration": 21,
    "start_time": "2022-04-14T20:29:10.195Z"
   },
   {
    "duration": 23,
    "start_time": "2022-04-14T20:29:10.902Z"
   },
   {
    "duration": 22,
    "start_time": "2022-04-14T20:29:11.496Z"
   },
   {
    "duration": 12,
    "start_time": "2022-04-14T20:29:13.064Z"
   },
   {
    "duration": 34,
    "start_time": "2022-04-14T20:29:17.208Z"
   },
   {
    "duration": 32,
    "start_time": "2022-04-14T20:29:18.481Z"
   },
   {
    "duration": 6,
    "start_time": "2022-04-14T20:29:20.823Z"
   },
   {
    "duration": 24,
    "start_time": "2022-04-14T20:29:24.235Z"
   },
   {
    "duration": 16,
    "start_time": "2022-04-14T20:29:25.721Z"
   },
   {
    "duration": 22,
    "start_time": "2022-04-14T20:29:27.650Z"
   },
   {
    "duration": 16,
    "start_time": "2022-04-14T20:29:28.799Z"
   },
   {
    "duration": 15,
    "start_time": "2022-04-14T20:29:35.501Z"
   },
   {
    "duration": 9,
    "start_time": "2022-04-14T20:29:40.618Z"
   },
   {
    "duration": 12,
    "start_time": "2022-04-14T20:29:43.182Z"
   },
   {
    "duration": 7,
    "start_time": "2022-04-14T20:29:45.574Z"
   },
   {
    "duration": 409,
    "start_time": "2022-04-24T07:52:28.080Z"
   },
   {
    "duration": 683,
    "start_time": "2022-04-24T07:52:28.492Z"
   },
   {
    "duration": 17,
    "start_time": "2022-04-24T07:52:29.177Z"
   },
   {
    "duration": 71,
    "start_time": "2022-04-24T07:52:29.196Z"
   },
   {
    "duration": 4,
    "start_time": "2022-04-24T07:52:29.269Z"
   },
   {
    "duration": 12,
    "start_time": "2022-04-24T07:52:29.275Z"
   },
   {
    "duration": 9,
    "start_time": "2022-04-24T07:52:29.289Z"
   },
   {
    "duration": 26,
    "start_time": "2022-04-24T07:52:29.299Z"
   },
   {
    "duration": 16,
    "start_time": "2022-04-24T07:52:29.327Z"
   },
   {
    "duration": 23,
    "start_time": "2022-04-24T07:52:29.345Z"
   },
   {
    "duration": 77,
    "start_time": "2022-04-24T07:52:29.369Z"
   },
   {
    "duration": 78,
    "start_time": "2022-04-24T07:52:29.448Z"
   },
   {
    "duration": 56,
    "start_time": "2022-04-24T07:52:29.528Z"
   },
   {
    "duration": 9,
    "start_time": "2022-04-24T07:52:29.600Z"
   },
   {
    "duration": 3,
    "start_time": "2022-04-24T07:52:29.610Z"
   },
   {
    "duration": 69,
    "start_time": "2022-04-24T07:52:29.615Z"
   },
   {
    "duration": 0,
    "start_time": "2022-04-24T07:52:29.685Z"
   },
   {
    "duration": 0,
    "start_time": "2022-04-24T07:52:29.700Z"
   },
   {
    "duration": 0,
    "start_time": "2022-04-24T07:52:29.701Z"
   },
   {
    "duration": 0,
    "start_time": "2022-04-24T07:52:29.702Z"
   },
   {
    "duration": 0,
    "start_time": "2022-04-24T07:52:29.703Z"
   },
   {
    "duration": 0,
    "start_time": "2022-04-24T07:52:29.705Z"
   },
   {
    "duration": 0,
    "start_time": "2022-04-24T07:52:29.706Z"
   },
   {
    "duration": 0,
    "start_time": "2022-04-24T07:52:29.706Z"
   },
   {
    "duration": 0,
    "start_time": "2022-04-24T07:52:29.709Z"
   },
   {
    "duration": 0,
    "start_time": "2022-04-24T07:52:29.710Z"
   },
   {
    "duration": 0,
    "start_time": "2022-04-24T07:52:29.712Z"
   },
   {
    "duration": 0,
    "start_time": "2022-04-24T07:52:29.713Z"
   },
   {
    "duration": 0,
    "start_time": "2022-04-24T07:52:29.714Z"
   },
   {
    "duration": 0,
    "start_time": "2022-04-24T07:52:29.716Z"
   },
   {
    "duration": 0,
    "start_time": "2022-04-24T07:52:29.717Z"
   },
   {
    "duration": 0,
    "start_time": "2022-04-24T07:52:29.718Z"
   },
   {
    "duration": 0,
    "start_time": "2022-04-24T07:52:29.721Z"
   },
   {
    "duration": 0,
    "start_time": "2022-04-24T07:52:29.722Z"
   },
   {
    "duration": 0,
    "start_time": "2022-04-24T07:52:29.723Z"
   },
   {
    "duration": 0,
    "start_time": "2022-04-24T07:52:29.724Z"
   },
   {
    "duration": 0,
    "start_time": "2022-04-24T07:52:29.725Z"
   },
   {
    "duration": 0,
    "start_time": "2022-04-24T07:52:29.726Z"
   },
   {
    "duration": 9,
    "start_time": "2022-04-24T07:53:32.058Z"
   },
   {
    "duration": 29,
    "start_time": "2022-04-24T07:53:32.922Z"
   },
   {
    "duration": 12,
    "start_time": "2022-04-24T07:53:33.245Z"
   },
   {
    "duration": 3,
    "start_time": "2022-04-24T07:53:33.768Z"
   },
   {
    "duration": 15,
    "start_time": "2022-04-24T07:53:34.118Z"
   },
   {
    "duration": 14,
    "start_time": "2022-04-24T07:53:34.286Z"
   },
   {
    "duration": 15,
    "start_time": "2022-04-24T07:53:34.456Z"
   },
   {
    "duration": 14,
    "start_time": "2022-04-24T07:53:34.621Z"
   },
   {
    "duration": 16,
    "start_time": "2022-04-24T07:53:34.797Z"
   },
   {
    "duration": 14,
    "start_time": "2022-04-24T07:53:34.976Z"
   },
   {
    "duration": 8,
    "start_time": "2022-04-24T07:53:35.318Z"
   },
   {
    "duration": 18,
    "start_time": "2022-04-24T07:53:36.177Z"
   },
   {
    "duration": 16,
    "start_time": "2022-04-24T07:53:36.351Z"
   },
   {
    "duration": 4,
    "start_time": "2022-04-24T07:53:36.699Z"
   },
   {
    "duration": 17,
    "start_time": "2022-04-24T07:53:37.043Z"
   },
   {
    "duration": 11,
    "start_time": "2022-04-24T07:53:37.215Z"
   },
   {
    "duration": 15,
    "start_time": "2022-04-24T07:53:37.388Z"
   },
   {
    "duration": 11,
    "start_time": "2022-04-24T07:53:37.566Z"
   },
   {
    "duration": 10,
    "start_time": "2022-04-24T07:53:38.298Z"
   },
   {
    "duration": 4,
    "start_time": "2022-04-24T07:53:38.766Z"
   },
   {
    "duration": 7,
    "start_time": "2022-04-24T07:53:39.130Z"
   },
   {
    "duration": 5,
    "start_time": "2022-04-24T07:53:39.483Z"
   },
   {
    "duration": 89,
    "start_time": "2022-04-25T09:56:35.112Z"
   },
   {
    "duration": 557,
    "start_time": "2022-04-25T09:56:41.814Z"
   },
   {
    "duration": 1105,
    "start_time": "2022-04-25T09:56:46.598Z"
   },
   {
    "duration": 38,
    "start_time": "2022-04-25T09:57:08.406Z"
   },
   {
    "duration": 16,
    "start_time": "2022-04-25T09:57:21.381Z"
   },
   {
    "duration": 18,
    "start_time": "2022-04-25T09:57:34.751Z"
   },
   {
    "duration": 46,
    "start_time": "2022-04-25T09:58:03.359Z"
   },
   {
    "duration": 10,
    "start_time": "2022-04-25T09:58:16.946Z"
   },
   {
    "duration": 13,
    "start_time": "2022-04-25T09:58:27.902Z"
   },
   {
    "duration": 12,
    "start_time": "2022-04-25T09:58:30.758Z"
   },
   {
    "duration": 6,
    "start_time": "2022-04-25T09:58:41.457Z"
   },
   {
    "duration": 34,
    "start_time": "2022-04-25T09:58:48.661Z"
   },
   {
    "duration": 40,
    "start_time": "2022-04-25T09:59:03.421Z"
   },
   {
    "duration": 40,
    "start_time": "2022-04-25T09:59:10.315Z"
   },
   {
    "duration": 122,
    "start_time": "2022-04-25T09:59:17.418Z"
   },
   {
    "duration": 128,
    "start_time": "2022-04-25T09:59:24.385Z"
   },
   {
    "duration": 132,
    "start_time": "2022-04-25T09:59:33.350Z"
   },
   {
    "duration": 107,
    "start_time": "2022-04-25T09:59:46.246Z"
   },
   {
    "duration": 53,
    "start_time": "2022-04-25T10:00:10.658Z"
   },
   {
    "duration": 71,
    "start_time": "2022-04-25T10:00:48.300Z"
   },
   {
    "duration": 6,
    "start_time": "2022-04-25T10:00:53.022Z"
   },
   {
    "duration": 39,
    "start_time": "2022-04-25T10:01:05.579Z"
   },
   {
    "duration": 45,
    "start_time": "2022-04-25T10:01:10.122Z"
   },
   {
    "duration": 53,
    "start_time": "2022-04-25T10:01:23.564Z"
   },
   {
    "duration": 60,
    "start_time": "2022-04-25T10:01:51.426Z"
   },
   {
    "duration": 25,
    "start_time": "2022-04-25T10:02:10.815Z"
   },
   {
    "duration": 20,
    "start_time": "2022-04-25T10:02:33.949Z"
   },
   {
    "duration": 8,
    "start_time": "2022-04-25T10:02:43.850Z"
   },
   {
    "duration": 29,
    "start_time": "2022-04-25T10:02:48.504Z"
   },
   {
    "duration": 29,
    "start_time": "2022-04-25T10:02:50.642Z"
   },
   {
    "duration": 30,
    "start_time": "2022-04-25T10:02:51.357Z"
   },
   {
    "duration": 28,
    "start_time": "2022-04-25T10:02:52.018Z"
   },
   {
    "duration": 31,
    "start_time": "2022-04-25T10:02:52.682Z"
   },
   {
    "duration": 31,
    "start_time": "2022-04-25T10:02:53.427Z"
   },
   {
    "duration": 17,
    "start_time": "2022-04-25T10:03:09.559Z"
   },
   {
    "duration": 38,
    "start_time": "2022-04-25T10:03:25.357Z"
   },
   {
    "duration": 29,
    "start_time": "2022-04-25T10:03:30.856Z"
   },
   {
    "duration": 13,
    "start_time": "2022-04-25T10:03:36.319Z"
   },
   {
    "duration": 5,
    "start_time": "2022-04-25T10:06:42.513Z"
   },
   {
    "duration": 45,
    "start_time": "2022-04-25T10:06:50.342Z"
   },
   {
    "duration": 18,
    "start_time": "2022-04-25T10:06:53.347Z"
   },
   {
    "duration": 34,
    "start_time": "2022-04-25T10:06:57.913Z"
   },
   {
    "duration": 21,
    "start_time": "2022-04-25T10:07:00.966Z"
   },
   {
    "duration": 21,
    "start_time": "2022-04-25T10:07:10.151Z"
   },
   {
    "duration": 8,
    "start_time": "2022-04-25T10:07:12.774Z"
   },
   {
    "duration": 12,
    "start_time": "2022-04-25T10:07:16.962Z"
   },
   {
    "duration": 9,
    "start_time": "2022-04-25T10:07:19.618Z"
   },
   {
    "duration": 24,
    "start_time": "2022-04-25T10:10:19.984Z"
   },
   {
    "duration": 38,
    "start_time": "2022-04-25T10:10:23.613Z"
   },
   {
    "duration": 5,
    "start_time": "2022-04-25T10:10:30.868Z"
   },
   {
    "duration": 35,
    "start_time": "2022-04-25T10:10:33.310Z"
   },
   {
    "duration": 44,
    "start_time": "2022-04-25T10:10:33.819Z"
   },
   {
    "duration": 31,
    "start_time": "2022-04-25T10:10:34.350Z"
   },
   {
    "duration": 21,
    "start_time": "2022-04-25T10:10:34.871Z"
   },
   {
    "duration": 34,
    "start_time": "2022-04-25T10:10:35.358Z"
   },
   {
    "duration": 32,
    "start_time": "2022-04-25T10:10:35.899Z"
   },
   {
    "duration": 24,
    "start_time": "2022-04-25T10:10:39.534Z"
   },
   {
    "duration": 41,
    "start_time": "2022-04-25T10:10:44.173Z"
   },
   {
    "duration": 52,
    "start_time": "2022-04-25T10:10:44.787Z"
   },
   {
    "duration": 6,
    "start_time": "2022-04-25T10:10:48.014Z"
   },
   {
    "duration": 46,
    "start_time": "2022-04-25T10:12:00.219Z"
   },
   {
    "duration": 17,
    "start_time": "2022-04-25T10:12:00.499Z"
   },
   {
    "duration": 28,
    "start_time": "2022-04-25T10:12:01.168Z"
   },
   {
    "duration": 33,
    "start_time": "2022-04-25T10:12:01.723Z"
   },
   {
    "duration": 20,
    "start_time": "2022-04-25T10:12:04.349Z"
   },
   {
    "duration": 9,
    "start_time": "2022-04-25T10:12:05.423Z"
   },
   {
    "duration": 529,
    "start_time": "2022-04-25T10:17:42.151Z"
   },
   {
    "duration": 902,
    "start_time": "2022-04-25T10:17:42.683Z"
   },
   {
    "duration": 27,
    "start_time": "2022-04-25T10:17:43.587Z"
   },
   {
    "duration": 85,
    "start_time": "2022-04-25T10:17:43.616Z"
   },
   {
    "duration": 6,
    "start_time": "2022-04-25T10:17:43.704Z"
   },
   {
    "duration": 33,
    "start_time": "2022-04-25T10:17:43.712Z"
   },
   {
    "duration": 12,
    "start_time": "2022-04-25T10:17:43.749Z"
   },
   {
    "duration": 79,
    "start_time": "2022-04-25T10:17:43.764Z"
   },
   {
    "duration": 31,
    "start_time": "2022-04-25T10:17:43.846Z"
   },
   {
    "duration": 51,
    "start_time": "2022-04-25T10:17:43.879Z"
   },
   {
    "duration": 132,
    "start_time": "2022-04-25T10:17:43.933Z"
   },
   {
    "duration": 144,
    "start_time": "2022-04-25T10:17:44.067Z"
   },
   {
    "duration": 116,
    "start_time": "2022-04-25T10:17:44.214Z"
   },
   {
    "duration": 69,
    "start_time": "2022-04-25T10:17:44.335Z"
   },
   {
    "duration": 9,
    "start_time": "2022-04-25T10:17:44.439Z"
   },
   {
    "duration": 44,
    "start_time": "2022-04-25T10:17:44.453Z"
   },
   {
    "duration": 89,
    "start_time": "2022-04-25T10:17:44.500Z"
   },
   {
    "duration": 35,
    "start_time": "2022-04-25T10:17:44.591Z"
   },
   {
    "duration": 27,
    "start_time": "2022-04-25T10:17:44.631Z"
   },
   {
    "duration": 9,
    "start_time": "2022-04-25T10:17:44.661Z"
   },
   {
    "duration": 77,
    "start_time": "2022-04-25T10:17:44.672Z"
   },
   {
    "duration": 25,
    "start_time": "2022-04-25T10:17:44.752Z"
   },
   {
    "duration": 53,
    "start_time": "2022-04-25T10:17:44.780Z"
   },
   {
    "duration": 30,
    "start_time": "2022-04-25T10:17:44.835Z"
   },
   {
    "duration": 23,
    "start_time": "2022-04-25T10:17:44.867Z"
   },
   {
    "duration": 61,
    "start_time": "2022-04-25T10:17:44.893Z"
   },
   {
    "duration": 13,
    "start_time": "2022-04-25T10:17:44.957Z"
   },
   {
    "duration": 72,
    "start_time": "2022-04-25T10:17:44.972Z"
   },
   {
    "duration": 32,
    "start_time": "2022-04-25T10:17:45.047Z"
   },
   {
    "duration": 7,
    "start_time": "2022-04-25T10:17:45.081Z"
   },
   {
    "duration": 70,
    "start_time": "2022-04-25T10:17:45.090Z"
   },
   {
    "duration": 20,
    "start_time": "2022-04-25T10:17:45.163Z"
   },
   {
    "duration": 51,
    "start_time": "2022-04-25T10:17:45.186Z"
   },
   {
    "duration": 22,
    "start_time": "2022-04-25T10:17:45.241Z"
   },
   {
    "duration": 20,
    "start_time": "2022-04-25T10:17:45.266Z"
   },
   {
    "duration": 54,
    "start_time": "2022-04-25T10:17:45.289Z"
   },
   {
    "duration": 27,
    "start_time": "2022-04-25T10:17:45.346Z"
   },
   {
    "duration": 6,
    "start_time": "2022-04-25T10:17:45.376Z"
   },
   {
    "duration": 74,
    "start_time": "2022-04-25T10:18:19.210Z"
   },
   {
    "duration": 72,
    "start_time": "2022-04-25T10:18:46.616Z"
   },
   {
    "duration": 50,
    "start_time": "2022-04-25T10:18:58.022Z"
   },
   {
    "duration": 32,
    "start_time": "2022-04-25T10:19:18.988Z"
   },
   {
    "duration": 536,
    "start_time": "2022-04-25T10:19:26.954Z"
   },
   {
    "duration": 1031,
    "start_time": "2022-04-25T10:19:27.493Z"
   },
   {
    "duration": 37,
    "start_time": "2022-04-25T10:19:28.530Z"
   },
   {
    "duration": 75,
    "start_time": "2022-04-25T10:19:28.569Z"
   },
   {
    "duration": 23,
    "start_time": "2022-04-25T10:19:28.649Z"
   },
   {
    "duration": 17,
    "start_time": "2022-04-25T10:19:28.675Z"
   },
   {
    "duration": 11,
    "start_time": "2022-04-25T10:19:28.695Z"
   },
   {
    "duration": 74,
    "start_time": "2022-04-25T10:19:28.709Z"
   },
   {
    "duration": 28,
    "start_time": "2022-04-25T10:19:28.786Z"
   },
   {
    "duration": 49,
    "start_time": "2022-04-25T10:19:28.816Z"
   },
   {
    "duration": 150,
    "start_time": "2022-04-25T10:19:28.867Z"
   },
   {
    "duration": 177,
    "start_time": "2022-04-25T10:19:29.019Z"
   },
   {
    "duration": 147,
    "start_time": "2022-04-25T10:19:29.199Z"
   },
   {
    "duration": 61,
    "start_time": "2022-04-25T10:19:29.352Z"
   },
   {
    "duration": 11,
    "start_time": "2022-04-25T10:19:29.438Z"
   },
   {
    "duration": 56,
    "start_time": "2022-04-25T10:19:29.452Z"
   },
   {
    "duration": 81,
    "start_time": "2022-04-25T10:19:29.511Z"
   },
   {
    "duration": 48,
    "start_time": "2022-04-25T10:19:29.595Z"
   },
   {
    "duration": 29,
    "start_time": "2022-04-25T10:19:29.645Z"
   },
   {
    "duration": 6,
    "start_time": "2022-04-25T10:19:29.677Z"
   },
   {
    "duration": 61,
    "start_time": "2022-04-25T10:19:29.686Z"
   },
   {
    "duration": 26,
    "start_time": "2022-04-25T10:19:29.750Z"
   },
   {
    "duration": 54,
    "start_time": "2022-04-25T10:19:29.779Z"
   },
   {
    "duration": 32,
    "start_time": "2022-04-25T10:19:29.835Z"
   },
   {
    "duration": 27,
    "start_time": "2022-04-25T10:19:29.870Z"
   },
   {
    "duration": 32,
    "start_time": "2022-04-25T10:19:29.936Z"
   },
   {
    "duration": 15,
    "start_time": "2022-04-25T10:19:29.971Z"
   },
   {
    "duration": 96,
    "start_time": "2022-04-25T10:19:29.989Z"
   },
   {
    "duration": 33,
    "start_time": "2022-04-25T10:19:30.088Z"
   },
   {
    "duration": 80,
    "start_time": "2022-04-25T10:19:30.123Z"
   },
   {
    "duration": 82,
    "start_time": "2022-04-25T10:19:30.206Z"
   },
   {
    "duration": 85,
    "start_time": "2022-04-25T10:19:30.291Z"
   },
   {
    "duration": 37,
    "start_time": "2022-04-25T10:19:30.379Z"
   },
   {
    "duration": 58,
    "start_time": "2022-04-25T10:19:30.418Z"
   },
   {
    "duration": 26,
    "start_time": "2022-04-25T10:19:30.478Z"
   },
   {
    "duration": 50,
    "start_time": "2022-04-25T10:19:30.506Z"
   },
   {
    "duration": 26,
    "start_time": "2022-04-25T10:19:30.559Z"
   },
   {
    "duration": 15,
    "start_time": "2022-04-25T10:19:30.588Z"
   },
   {
    "duration": 18,
    "start_time": "2022-04-25T10:20:14.557Z"
   },
   {
    "duration": 18,
    "start_time": "2022-04-25T10:20:29.903Z"
   },
   {
    "duration": 509,
    "start_time": "2022-04-25T10:22:07.780Z"
   },
   {
    "duration": 2561,
    "start_time": "2022-04-25T10:22:08.292Z"
   },
   {
    "duration": 28,
    "start_time": "2022-04-25T10:22:10.856Z"
   },
   {
    "duration": 105,
    "start_time": "2022-04-25T10:22:10.887Z"
   },
   {
    "duration": 9,
    "start_time": "2022-04-25T10:22:10.995Z"
   },
   {
    "duration": 25,
    "start_time": "2022-04-25T10:22:11.007Z"
   },
   {
    "duration": 29,
    "start_time": "2022-04-25T10:22:11.035Z"
   },
   {
    "duration": 37,
    "start_time": "2022-04-25T10:22:11.067Z"
   },
   {
    "duration": 43,
    "start_time": "2022-04-25T10:22:11.107Z"
   },
   {
    "duration": 35,
    "start_time": "2022-04-25T10:22:11.156Z"
   },
   {
    "duration": 148,
    "start_time": "2022-04-25T10:22:11.193Z"
   },
   {
    "duration": 151,
    "start_time": "2022-04-25T10:22:11.343Z"
   },
   {
    "duration": 124,
    "start_time": "2022-04-25T10:22:11.497Z"
   },
   {
    "duration": 75,
    "start_time": "2022-04-25T10:22:11.623Z"
   },
   {
    "duration": 30,
    "start_time": "2022-04-25T10:22:11.700Z"
   },
   {
    "duration": 70,
    "start_time": "2022-04-25T10:22:11.733Z"
   },
   {
    "duration": 78,
    "start_time": "2022-04-25T10:22:11.805Z"
   },
   {
    "duration": 21,
    "start_time": "2022-04-25T10:22:11.887Z"
   },
   {
    "duration": 35,
    "start_time": "2022-04-25T10:22:11.929Z"
   },
   {
    "duration": 8,
    "start_time": "2022-04-25T10:22:11.968Z"
   },
   {
    "duration": 63,
    "start_time": "2022-04-25T10:22:11.979Z"
   },
   {
    "duration": 28,
    "start_time": "2022-04-25T10:22:12.049Z"
   },
   {
    "duration": 24,
    "start_time": "2022-04-25T10:22:12.080Z"
   },
   {
    "duration": 31,
    "start_time": "2022-04-25T10:22:12.133Z"
   },
   {
    "duration": 27,
    "start_time": "2022-04-25T10:22:12.166Z"
   },
   {
    "duration": 65,
    "start_time": "2022-04-25T10:22:12.196Z"
   },
   {
    "duration": 13,
    "start_time": "2022-04-25T10:22:12.263Z"
   },
   {
    "duration": 75,
    "start_time": "2022-04-25T10:22:12.281Z"
   },
   {
    "duration": 35,
    "start_time": "2022-04-25T10:22:12.358Z"
   },
   {
    "duration": 40,
    "start_time": "2022-04-25T10:22:12.396Z"
   },
   {
    "duration": 46,
    "start_time": "2022-04-25T10:22:12.440Z"
   },
   {
    "duration": 17,
    "start_time": "2022-04-25T10:22:12.488Z"
   },
   {
    "duration": 49,
    "start_time": "2022-04-25T10:22:12.507Z"
   },
   {
    "duration": 18,
    "start_time": "2022-04-25T10:22:12.559Z"
   },
   {
    "duration": 50,
    "start_time": "2022-04-25T10:22:12.579Z"
   },
   {
    "duration": 8,
    "start_time": "2022-04-25T10:22:12.635Z"
   },
   {
    "duration": 34,
    "start_time": "2022-04-25T10:22:12.646Z"
   },
   {
    "duration": 9,
    "start_time": "2022-04-25T10:22:12.682Z"
   },
   {
    "duration": 2010,
    "start_time": "2022-04-25T15:26:03.853Z"
   },
   {
    "duration": 2383,
    "start_time": "2022-04-25T15:26:05.869Z"
   },
   {
    "duration": 110,
    "start_time": "2022-04-25T15:26:08.257Z"
   },
   {
    "duration": 200,
    "start_time": "2022-04-25T15:26:08.373Z"
   },
   {
    "duration": 6,
    "start_time": "2022-04-25T15:26:08.654Z"
   },
   {
    "duration": 91,
    "start_time": "2022-04-25T15:26:08.666Z"
   },
   {
    "duration": 6,
    "start_time": "2022-04-25T15:26:08.763Z"
   },
   {
    "duration": 116,
    "start_time": "2022-04-25T15:26:08.853Z"
   },
   {
    "duration": 115,
    "start_time": "2022-04-25T15:26:09.051Z"
   },
   {
    "duration": 103,
    "start_time": "2022-04-25T15:26:09.168Z"
   },
   {
    "duration": 398,
    "start_time": "2022-04-25T15:26:09.274Z"
   },
   {
    "duration": 490,
    "start_time": "2022-04-25T15:26:09.674Z"
   },
   {
    "duration": 388,
    "start_time": "2022-04-25T15:26:10.167Z"
   },
   {
    "duration": 227,
    "start_time": "2022-04-25T15:26:10.558Z"
   },
   {
    "duration": 5,
    "start_time": "2022-04-25T15:26:10.788Z"
   },
   {
    "duration": 165,
    "start_time": "2022-04-25T15:26:10.796Z"
   },
   {
    "duration": 215,
    "start_time": "2022-04-25T15:26:10.964Z"
   },
   {
    "duration": 19,
    "start_time": "2022-04-25T15:26:11.181Z"
   },
   {
    "duration": 54,
    "start_time": "2022-04-25T15:26:11.202Z"
   },
   {
    "duration": 8,
    "start_time": "2022-04-25T15:26:11.259Z"
   },
   {
    "duration": 93,
    "start_time": "2022-04-25T15:26:11.270Z"
   },
   {
    "duration": 28,
    "start_time": "2022-04-25T15:26:11.365Z"
   },
   {
    "duration": 37,
    "start_time": "2022-04-25T15:26:11.395Z"
   },
   {
    "duration": 23,
    "start_time": "2022-04-25T15:26:11.434Z"
   },
   {
    "duration": 23,
    "start_time": "2022-04-25T15:26:11.459Z"
   },
   {
    "duration": 30,
    "start_time": "2022-04-25T15:26:11.485Z"
   },
   {
    "duration": 72,
    "start_time": "2022-04-25T15:26:11.518Z"
   },
   {
    "duration": 81,
    "start_time": "2022-04-25T15:26:11.592Z"
   },
   {
    "duration": 78,
    "start_time": "2022-04-25T15:26:11.675Z"
   },
   {
    "duration": 7,
    "start_time": "2022-04-25T15:26:11.756Z"
   },
   {
    "duration": 190,
    "start_time": "2022-04-25T15:26:11.764Z"
   },
   {
    "duration": 36,
    "start_time": "2022-04-25T15:26:11.956Z"
   },
   {
    "duration": 30,
    "start_time": "2022-04-25T15:26:11.994Z"
   },
   {
    "duration": 36,
    "start_time": "2022-04-25T15:26:12.027Z"
   },
   {
    "duration": 36,
    "start_time": "2022-04-25T15:26:12.065Z"
   },
   {
    "duration": 7,
    "start_time": "2022-04-25T15:26:12.103Z"
   },
   {
    "duration": 29,
    "start_time": "2022-04-25T15:26:12.112Z"
   },
   {
    "duration": 9,
    "start_time": "2022-04-25T15:26:12.144Z"
   },
   {
    "duration": 44,
    "start_time": "2023-03-31T14:11:36.426Z"
   },
   {
    "duration": 418,
    "start_time": "2023-03-31T14:30:24.942Z"
   },
   {
    "duration": 1078,
    "start_time": "2023-03-31T14:30:25.362Z"
   },
   {
    "duration": 17,
    "start_time": "2023-03-31T14:30:26.442Z"
   },
   {
    "duration": 37,
    "start_time": "2023-03-31T14:30:26.461Z"
   },
   {
    "duration": 7,
    "start_time": "2023-03-31T14:30:26.502Z"
   },
   {
    "duration": 13,
    "start_time": "2023-03-31T14:30:26.511Z"
   },
   {
    "duration": 4,
    "start_time": "2023-03-31T14:30:26.534Z"
   },
   {
    "duration": 26,
    "start_time": "2023-03-31T14:30:26.539Z"
   },
   {
    "duration": 26,
    "start_time": "2023-03-31T14:30:26.567Z"
   },
   {
    "duration": 39,
    "start_time": "2023-03-31T14:30:26.595Z"
   },
   {
    "duration": 68,
    "start_time": "2023-03-31T14:30:26.636Z"
   },
   {
    "duration": 97,
    "start_time": "2023-03-31T14:30:26.705Z"
   },
   {
    "duration": 85,
    "start_time": "2023-03-31T14:30:26.803Z"
   },
   {
    "duration": 65,
    "start_time": "2023-03-31T14:30:26.892Z"
   },
   {
    "duration": 4,
    "start_time": "2023-03-31T14:30:26.959Z"
   },
   {
    "duration": 38,
    "start_time": "2023-03-31T14:30:26.965Z"
   },
   {
    "duration": 60,
    "start_time": "2023-03-31T14:30:27.005Z"
   },
   {
    "duration": 17,
    "start_time": "2023-03-31T14:30:27.067Z"
   },
   {
    "duration": 18,
    "start_time": "2023-03-31T14:30:27.085Z"
   },
   {
    "duration": 11,
    "start_time": "2023-03-31T14:30:27.105Z"
   },
   {
    "duration": 43,
    "start_time": "2023-03-31T14:30:27.117Z"
   },
   {
    "duration": 15,
    "start_time": "2023-03-31T14:30:27.162Z"
   },
   {
    "duration": 18,
    "start_time": "2023-03-31T14:30:27.179Z"
   },
   {
    "duration": 15,
    "start_time": "2023-03-31T14:30:27.198Z"
   },
   {
    "duration": 26,
    "start_time": "2023-03-31T14:30:27.214Z"
   },
   {
    "duration": 14,
    "start_time": "2023-03-31T14:30:27.242Z"
   },
   {
    "duration": 8,
    "start_time": "2023-03-31T14:30:27.258Z"
   },
   {
    "duration": 22,
    "start_time": "2023-03-31T14:30:27.267Z"
   },
   {
    "duration": 47,
    "start_time": "2023-03-31T14:30:27.291Z"
   },
   {
    "duration": 5,
    "start_time": "2023-03-31T14:30:27.340Z"
   },
   {
    "duration": 27,
    "start_time": "2023-03-31T14:30:27.346Z"
   },
   {
    "duration": 14,
    "start_time": "2023-03-31T14:30:27.374Z"
   },
   {
    "duration": 19,
    "start_time": "2023-03-31T14:30:27.390Z"
   },
   {
    "duration": 35,
    "start_time": "2023-03-31T14:30:27.411Z"
   },
   {
    "duration": 31,
    "start_time": "2023-03-31T14:30:27.448Z"
   },
   {
    "duration": 5,
    "start_time": "2023-03-31T14:30:27.482Z"
   },
   {
    "duration": 24,
    "start_time": "2023-03-31T14:30:27.489Z"
   },
   {
    "duration": 5,
    "start_time": "2023-03-31T14:30:27.515Z"
   },
   {
    "duration": 431,
    "start_time": "2023-03-31T14:32:50.637Z"
   },
   {
    "duration": 601,
    "start_time": "2023-03-31T14:32:51.070Z"
   },
   {
    "duration": 17,
    "start_time": "2023-03-31T14:32:51.673Z"
   },
   {
    "duration": 31,
    "start_time": "2023-03-31T14:32:51.693Z"
   },
   {
    "duration": 4,
    "start_time": "2023-03-31T14:32:51.726Z"
   },
   {
    "duration": 15,
    "start_time": "2023-03-31T14:32:51.731Z"
   },
   {
    "duration": 10,
    "start_time": "2023-03-31T14:32:51.748Z"
   },
   {
    "duration": 29,
    "start_time": "2023-03-31T14:32:51.760Z"
   },
   {
    "duration": 30,
    "start_time": "2023-03-31T14:32:51.791Z"
   },
   {
    "duration": 33,
    "start_time": "2023-03-31T14:32:51.824Z"
   },
   {
    "duration": 84,
    "start_time": "2023-03-31T14:32:51.858Z"
   },
   {
    "duration": 97,
    "start_time": "2023-03-31T14:32:51.944Z"
   },
   {
    "duration": 66,
    "start_time": "2023-03-31T14:32:52.043Z"
   },
   {
    "duration": 57,
    "start_time": "2023-03-31T14:32:52.111Z"
   },
   {
    "duration": 4,
    "start_time": "2023-03-31T14:32:52.170Z"
   },
   {
    "duration": 32,
    "start_time": "2023-03-31T14:32:52.176Z"
   },
   {
    "duration": 57,
    "start_time": "2023-03-31T14:32:52.209Z"
   },
   {
    "duration": 14,
    "start_time": "2023-03-31T14:32:52.267Z"
   },
   {
    "duration": 12,
    "start_time": "2023-03-31T14:32:52.283Z"
   },
   {
    "duration": 4,
    "start_time": "2023-03-31T14:32:52.296Z"
   },
   {
    "duration": 54,
    "start_time": "2023-03-31T14:32:52.301Z"
   },
   {
    "duration": 18,
    "start_time": "2023-03-31T14:32:52.357Z"
   },
   {
    "duration": 25,
    "start_time": "2023-03-31T14:32:52.377Z"
   },
   {
    "duration": 15,
    "start_time": "2023-03-31T14:32:52.404Z"
   },
   {
    "duration": 28,
    "start_time": "2023-03-31T14:32:52.421Z"
   },
   {
    "duration": 16,
    "start_time": "2023-03-31T14:32:52.451Z"
   },
   {
    "duration": 9,
    "start_time": "2023-03-31T14:32:52.468Z"
   },
   {
    "duration": 28,
    "start_time": "2023-03-31T14:32:52.480Z"
   },
   {
    "duration": 20,
    "start_time": "2023-03-31T14:32:52.533Z"
   },
   {
    "duration": 4,
    "start_time": "2023-03-31T14:32:52.555Z"
   },
   {
    "duration": 24,
    "start_time": "2023-03-31T14:32:52.561Z"
   },
   {
    "duration": 19,
    "start_time": "2023-03-31T14:32:52.587Z"
   },
   {
    "duration": 36,
    "start_time": "2023-03-31T14:32:52.608Z"
   },
   {
    "duration": 24,
    "start_time": "2023-03-31T14:32:52.646Z"
   },
   {
    "duration": 24,
    "start_time": "2023-03-31T14:32:52.672Z"
   },
   {
    "duration": 7,
    "start_time": "2023-03-31T14:32:52.698Z"
   },
   {
    "duration": 16,
    "start_time": "2023-03-31T14:32:52.706Z"
   },
   {
    "duration": 5,
    "start_time": "2023-03-31T14:32:52.724Z"
   }
  ],
  "colab": {
   "collapsed_sections": [
    "E0vqbgi9ay0H",
    "VUC88oWjTJw2"
   ],
   "name": "yandex_music_project.ipynb",
   "provenance": []
  },
  "kernelspec": {
   "display_name": "Python 3 (ipykernel)",
   "language": "python",
   "name": "python3"
  },
  "language_info": {
   "codemirror_mode": {
    "name": "ipython",
    "version": 3
   },
   "file_extension": ".py",
   "mimetype": "text/x-python",
   "name": "python",
   "nbconvert_exporter": "python",
   "pygments_lexer": "ipython3",
   "version": "3.9.5"
  },
  "toc": {
   "base_numbering": 1,
   "nav_menu": {},
   "number_sections": true,
   "sideBar": true,
   "skip_h1_title": true,
   "title_cell": "Table of Contents",
   "title_sidebar": "Contents",
   "toc_cell": false,
   "toc_position": {},
   "toc_section_display": true,
   "toc_window_display": true
  }
 },
 "nbformat": 4,
 "nbformat_minor": 1
}
