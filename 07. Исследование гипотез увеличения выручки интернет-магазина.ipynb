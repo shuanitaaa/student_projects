{
 "cells": [
  {
   "cell_type": "markdown",
   "metadata": {},
   "source": [
    "# Исследование гипотез увеличения выручки интернет-магазина\n",
    "\n",
    "<div style=\"border:solid green 2px; padding: 20px\">\n",
    "\n",
    "\n",
    "<b>Закачик</b> - Интернет-магазин\n",
    "    \n",
    "<b>Описание исследования:</b>\n",
    "\n",
    "<b>Цель</b> - Исследовать гипотезы увеличения выручки, сформированные отделом маркетинга, в целях их принятия или опровержения. Формирование рекомендаций для планирования дальнейшей деятельности заказчика.\n",
    "    \n",
    "<b>Задачи исследования:</b> \n",
    "- Приоритизация сформированных гипотез;\n",
    "- Анализ результатов A/B теста;\n",
    "- Формирование рекомендаций.\n",
    "    \n",
    "<b>Данные</b> - Для исследования заказчиком предоставлены следующие данные:\n",
    "\n",
    "_Таблица hypothesis (сформированные гипотезы):_\n",
    "- Hypothesis — краткое описание гипотезы;\n",
    "- Reach — охват пользователей по 10-балльной шкале;\n",
    "- Impact — влияние на пользователей по 10-балльной шкале;\n",
    "- Confidence — уверенность в гипотезе по 10-балльной шкале;\n",
    "- Efforts — затраты ресурсов на проверку гипотезы по 10-балльной шкале.\n",
    "\n",
    "_Таблица orders (информация о заказах):_\n",
    "- transactionId — идентификатор заказа;\n",
    "- visitorId — идентификатор пользователя, совершившего заказ;\n",
    "- date — дата, когда был совершён заказ;\n",
    "- revenue — выручка заказа;\n",
    "- group — группа A/B-теста, в которую попал заказ.\n",
    "\n",
    "_Таблица visitors (информация о посетителях):_\n",
    "- date — дата;\n",
    "- group — группа A/B-теста;\n",
    "- visitors — количество пользователей в указанную дату в указанной группе A/B-теста"
   ]
  },
  {
   "cell_type": "markdown",
   "metadata": {},
   "source": [
    "## Подготовка к исследованию"
   ]
  },
  {
   "cell_type": "code",
   "execution_count": 1,
   "metadata": {},
   "outputs": [],
   "source": [
    "# импортирую все библиотеки, которые могут понадобиться в ходе исследования\n",
    "import pandas as pd\n",
    "import matplotlib.pyplot as plt\n",
    "import numpy as np\n",
    "import seaborn as sns\n",
    "from scipy import stats as st\n",
    "import math\n",
    "from math import factorial\n",
    "import statsmodels.api as sm\n",
    "from datetime import datetime, timedelta\n",
    "import scipy.stats as stats"
   ]
  },
  {
   "cell_type": "code",
   "execution_count": 2,
   "metadata": {},
   "outputs": [],
   "source": [
    "# отключаю системные предупреждения\n",
    "import warnings\n",
    "warnings.filterwarnings('ignore')"
   ]
  },
  {
   "cell_type": "code",
   "execution_count": 3,
   "metadata": {},
   "outputs": [],
   "source": [
    "# помощь в отображении данных\n",
    "pd.set_option('display.max_columns', None) # отображение всех столбцов\n",
    "pd.set_option('display.max_colwidth', None) # отображение данных в столбцах, даже если они слишком длинные\n",
    "pd.set_option(\"display.float_format\", \"{:.2f}\".format) # избавляюсь от экспоненциальной записи"
   ]
  },
  {
   "cell_type": "code",
   "execution_count": 4,
   "metadata": {},
   "outputs": [],
   "source": [
    "# загружаю исследуемые таблицы\n",
    "# использую try / except для оптимизации перехода с работы на платформе на локальный режим\n",
    "try:\n",
    "    hypothesis, orders, visitors = (pd.read_csv('/datasets/hypothesis.csv'),\n",
    "                                    pd.read_csv('/datasets/orders.csv'),\n",
    "                                    pd.read_csv('/datasets/visitors.csv'))\n",
    "except:\n",
    "    hypothesis, orders, visitors  = (pd.read_csv('../Downloads/hypothesis.csv'),\n",
    "                                     pd.read_csv('../Downloads/orders.csv'),\n",
    "                                     pd.read_csv('../Downloads/visitors.csv'))"
   ]
  },
  {
   "cell_type": "markdown",
   "metadata": {},
   "source": [
    "## Знаконство с данными и их предобработка\n",
    "### Таблица гипотез"
   ]
  },
  {
   "cell_type": "code",
   "execution_count": 5,
   "metadata": {},
   "outputs": [
    {
     "name": "stdout",
     "output_type": "stream",
     "text": [
      "<class 'pandas.core.frame.DataFrame'>\n",
      "RangeIndex: 9 entries, 0 to 8\n",
      "Data columns (total 5 columns):\n",
      " #   Column      Non-Null Count  Dtype \n",
      "---  ------      --------------  ----- \n",
      " 0   Hypothesis  9 non-null      object\n",
      " 1   Reach       9 non-null      int64 \n",
      " 2   Impact      9 non-null      int64 \n",
      " 3   Confidence  9 non-null      int64 \n",
      " 4   Efforts     9 non-null      int64 \n",
      "dtypes: int64(4), object(1)\n",
      "memory usage: 488.0+ bytes\n"
     ]
    }
   ],
   "source": [
    "# знакомство с таблицей hypothesis\n",
    "hypothesis.info()"
   ]
  },
  {
   "cell_type": "markdown",
   "metadata": {},
   "source": [
    "Все столбцы имеют корректный формат данных. В целях избежания ошибок о опечаток в последующей работе приведу название столбцов к нижнему регистру."
   ]
  },
  {
   "cell_type": "code",
   "execution_count": 6,
   "metadata": {},
   "outputs": [
    {
     "data": {
      "text/html": [
       "<div>\n",
       "<style scoped>\n",
       "    .dataframe tbody tr th:only-of-type {\n",
       "        vertical-align: middle;\n",
       "    }\n",
       "\n",
       "    .dataframe tbody tr th {\n",
       "        vertical-align: top;\n",
       "    }\n",
       "\n",
       "    .dataframe thead th {\n",
       "        text-align: right;\n",
       "    }\n",
       "</style>\n",
       "<table border=\"1\" class=\"dataframe\">\n",
       "  <thead>\n",
       "    <tr style=\"text-align: right;\">\n",
       "      <th></th>\n",
       "      <th>hypothesis</th>\n",
       "      <th>reach</th>\n",
       "      <th>impact</th>\n",
       "      <th>confidence</th>\n",
       "      <th>efforts</th>\n",
       "    </tr>\n",
       "  </thead>\n",
       "  <tbody>\n",
       "    <tr>\n",
       "      <th>0</th>\n",
       "      <td>Добавить два новых канала привлечения трафика, что позволит привлекать на 30% больше пользователей</td>\n",
       "      <td>3</td>\n",
       "      <td>10</td>\n",
       "      <td>8</td>\n",
       "      <td>6</td>\n",
       "    </tr>\n",
       "    <tr>\n",
       "      <th>1</th>\n",
       "      <td>Запустить собственную службу доставки, что сократит срок доставки заказов</td>\n",
       "      <td>2</td>\n",
       "      <td>5</td>\n",
       "      <td>4</td>\n",
       "      <td>10</td>\n",
       "    </tr>\n",
       "    <tr>\n",
       "      <th>2</th>\n",
       "      <td>Добавить блоки рекомендаций товаров на сайт интернет магазина, чтобы повысить конверсию и средний чек заказа</td>\n",
       "      <td>8</td>\n",
       "      <td>3</td>\n",
       "      <td>7</td>\n",
       "      <td>3</td>\n",
       "    </tr>\n",
       "    <tr>\n",
       "      <th>3</th>\n",
       "      <td>Изменить структура категорий, что увеличит конверсию, т.к. пользователи быстрее найдут нужный товар</td>\n",
       "      <td>8</td>\n",
       "      <td>3</td>\n",
       "      <td>3</td>\n",
       "      <td>8</td>\n",
       "    </tr>\n",
       "    <tr>\n",
       "      <th>4</th>\n",
       "      <td>Изменить цвет фона главной страницы, чтобы увеличить вовлеченность пользователей</td>\n",
       "      <td>3</td>\n",
       "      <td>1</td>\n",
       "      <td>1</td>\n",
       "      <td>1</td>\n",
       "    </tr>\n",
       "    <tr>\n",
       "      <th>5</th>\n",
       "      <td>Добавить страницу отзывов клиентов о магазине, что позволит увеличить количество заказов</td>\n",
       "      <td>3</td>\n",
       "      <td>2</td>\n",
       "      <td>2</td>\n",
       "      <td>3</td>\n",
       "    </tr>\n",
       "    <tr>\n",
       "      <th>6</th>\n",
       "      <td>Показать на главной странице баннеры с актуальными акциями и распродажами, чтобы увеличить конверсию</td>\n",
       "      <td>5</td>\n",
       "      <td>3</td>\n",
       "      <td>8</td>\n",
       "      <td>3</td>\n",
       "    </tr>\n",
       "    <tr>\n",
       "      <th>7</th>\n",
       "      <td>Добавить форму подписки на все основные страницы, чтобы собрать базу клиентов для email-рассылок</td>\n",
       "      <td>10</td>\n",
       "      <td>7</td>\n",
       "      <td>8</td>\n",
       "      <td>5</td>\n",
       "    </tr>\n",
       "    <tr>\n",
       "      <th>8</th>\n",
       "      <td>Запустить акцию, дающую скидку на товар в день рождения</td>\n",
       "      <td>1</td>\n",
       "      <td>9</td>\n",
       "      <td>9</td>\n",
       "      <td>5</td>\n",
       "    </tr>\n",
       "  </tbody>\n",
       "</table>\n",
       "</div>"
      ],
      "text/plain": [
       "                                                                                                     hypothesis  \\\n",
       "0            Добавить два новых канала привлечения трафика, что позволит привлекать на 30% больше пользователей   \n",
       "1                                     Запустить собственную службу доставки, что сократит срок доставки заказов   \n",
       "2  Добавить блоки рекомендаций товаров на сайт интернет магазина, чтобы повысить конверсию и средний чек заказа   \n",
       "3           Изменить структура категорий, что увеличит конверсию, т.к. пользователи быстрее найдут нужный товар   \n",
       "4                              Изменить цвет фона главной страницы, чтобы увеличить вовлеченность пользователей   \n",
       "5                      Добавить страницу отзывов клиентов о магазине, что позволит увеличить количество заказов   \n",
       "6          Показать на главной странице баннеры с актуальными акциями и распродажами, чтобы увеличить конверсию   \n",
       "7              Добавить форму подписки на все основные страницы, чтобы собрать базу клиентов для email-рассылок   \n",
       "8                                                       Запустить акцию, дающую скидку на товар в день рождения   \n",
       "\n",
       "   reach  impact  confidence  efforts  \n",
       "0      3      10           8        6  \n",
       "1      2       5           4       10  \n",
       "2      8       3           7        3  \n",
       "3      8       3           3        8  \n",
       "4      3       1           1        1  \n",
       "5      3       2           2        3  \n",
       "6      5       3           8        3  \n",
       "7     10       7           8        5  \n",
       "8      1       9           9        5  "
      ]
     },
     "execution_count": 6,
     "metadata": {},
     "output_type": "execute_result"
    }
   ],
   "source": [
    "hypothesis.columns = hypothesis.columns.str.lower()\n",
    "hypothesis"
   ]
  },
  {
   "cell_type": "markdown",
   "metadata": {},
   "source": [
    "### Таблица заказов"
   ]
  },
  {
   "cell_type": "code",
   "execution_count": 7,
   "metadata": {},
   "outputs": [
    {
     "data": {
      "text/html": [
       "<div>\n",
       "<style scoped>\n",
       "    .dataframe tbody tr th:only-of-type {\n",
       "        vertical-align: middle;\n",
       "    }\n",
       "\n",
       "    .dataframe tbody tr th {\n",
       "        vertical-align: top;\n",
       "    }\n",
       "\n",
       "    .dataframe thead th {\n",
       "        text-align: right;\n",
       "    }\n",
       "</style>\n",
       "<table border=\"1\" class=\"dataframe\">\n",
       "  <thead>\n",
       "    <tr style=\"text-align: right;\">\n",
       "      <th></th>\n",
       "      <th>transactionId</th>\n",
       "      <th>visitorId</th>\n",
       "      <th>date</th>\n",
       "      <th>revenue</th>\n",
       "      <th>group</th>\n",
       "    </tr>\n",
       "  </thead>\n",
       "  <tbody>\n",
       "    <tr>\n",
       "      <th>0</th>\n",
       "      <td>3667963787</td>\n",
       "      <td>3312258926</td>\n",
       "      <td>2019-08-15</td>\n",
       "      <td>1650</td>\n",
       "      <td>B</td>\n",
       "    </tr>\n",
       "    <tr>\n",
       "      <th>1</th>\n",
       "      <td>2804400009</td>\n",
       "      <td>3642806036</td>\n",
       "      <td>2019-08-15</td>\n",
       "      <td>730</td>\n",
       "      <td>B</td>\n",
       "    </tr>\n",
       "    <tr>\n",
       "      <th>2</th>\n",
       "      <td>2961555356</td>\n",
       "      <td>4069496402</td>\n",
       "      <td>2019-08-15</td>\n",
       "      <td>400</td>\n",
       "      <td>A</td>\n",
       "    </tr>\n",
       "    <tr>\n",
       "      <th>3</th>\n",
       "      <td>3797467345</td>\n",
       "      <td>1196621759</td>\n",
       "      <td>2019-08-15</td>\n",
       "      <td>9759</td>\n",
       "      <td>B</td>\n",
       "    </tr>\n",
       "    <tr>\n",
       "      <th>4</th>\n",
       "      <td>2282983706</td>\n",
       "      <td>2322279887</td>\n",
       "      <td>2019-08-15</td>\n",
       "      <td>2308</td>\n",
       "      <td>B</td>\n",
       "    </tr>\n",
       "    <tr>\n",
       "      <th>5</th>\n",
       "      <td>182168103</td>\n",
       "      <td>935554773</td>\n",
       "      <td>2019-08-15</td>\n",
       "      <td>2210</td>\n",
       "      <td>B</td>\n",
       "    </tr>\n",
       "    <tr>\n",
       "      <th>6</th>\n",
       "      <td>398296753</td>\n",
       "      <td>2900797465</td>\n",
       "      <td>2019-08-15</td>\n",
       "      <td>1860</td>\n",
       "      <td>B</td>\n",
       "    </tr>\n",
       "    <tr>\n",
       "      <th>7</th>\n",
       "      <td>2626614568</td>\n",
       "      <td>78758296</td>\n",
       "      <td>2019-08-15</td>\n",
       "      <td>1044</td>\n",
       "      <td>A</td>\n",
       "    </tr>\n",
       "    <tr>\n",
       "      <th>8</th>\n",
       "      <td>1576988021</td>\n",
       "      <td>295230930</td>\n",
       "      <td>2019-08-15</td>\n",
       "      <td>13710</td>\n",
       "      <td>A</td>\n",
       "    </tr>\n",
       "    <tr>\n",
       "      <th>9</th>\n",
       "      <td>1506739906</td>\n",
       "      <td>1882260405</td>\n",
       "      <td>2019-08-15</td>\n",
       "      <td>1855</td>\n",
       "      <td>B</td>\n",
       "    </tr>\n",
       "  </tbody>\n",
       "</table>\n",
       "</div>"
      ],
      "text/plain": [
       "   transactionId   visitorId        date  revenue group\n",
       "0     3667963787  3312258926  2019-08-15     1650     B\n",
       "1     2804400009  3642806036  2019-08-15      730     B\n",
       "2     2961555356  4069496402  2019-08-15      400     A\n",
       "3     3797467345  1196621759  2019-08-15     9759     B\n",
       "4     2282983706  2322279887  2019-08-15     2308     B\n",
       "5      182168103   935554773  2019-08-15     2210     B\n",
       "6      398296753  2900797465  2019-08-15     1860     B\n",
       "7     2626614568    78758296  2019-08-15     1044     A\n",
       "8     1576988021   295230930  2019-08-15    13710     A\n",
       "9     1506739906  1882260405  2019-08-15     1855     B"
      ]
     },
     "execution_count": 7,
     "metadata": {},
     "output_type": "execute_result"
    }
   ],
   "source": [
    "orders.head(10)"
   ]
  },
  {
   "cell_type": "code",
   "execution_count": 8,
   "metadata": {},
   "outputs": [
    {
     "name": "stdout",
     "output_type": "stream",
     "text": [
      "<class 'pandas.core.frame.DataFrame'>\n",
      "RangeIndex: 1197 entries, 0 to 1196\n",
      "Data columns (total 5 columns):\n",
      " #   Column         Non-Null Count  Dtype \n",
      "---  ------         --------------  ----- \n",
      " 0   transactionId  1197 non-null   int64 \n",
      " 1   visitorId      1197 non-null   int64 \n",
      " 2   date           1197 non-null   object\n",
      " 3   revenue        1197 non-null   int64 \n",
      " 4   group          1197 non-null   object\n",
      "dtypes: int64(3), object(2)\n",
      "memory usage: 46.9+ KB\n"
     ]
    },
    {
     "data": {
      "text/plain": [
       "Index(['transactionId', 'visitorId', 'date', 'revenue', 'group'], dtype='object')"
      ]
     },
     "execution_count": 8,
     "metadata": {},
     "output_type": "execute_result"
    }
   ],
   "source": [
    "# вызов информации о таблице orders\n",
    "orders.info()\n",
    "orders.columns"
   ]
  },
  {
   "cell_type": "code",
   "execution_count": 9,
   "metadata": {},
   "outputs": [
    {
     "name": "stdout",
     "output_type": "stream",
     "text": [
      "Информация о пропусках в данных о заказах\n"
     ]
    },
    {
     "data": {
      "text/plain": [
       "transactionId    0\n",
       "visitorId        0\n",
       "date             0\n",
       "revenue          0\n",
       "group            0\n",
       "dtype: int64"
      ]
     },
     "execution_count": 9,
     "metadata": {},
     "output_type": "execute_result"
    }
   ],
   "source": [
    "# вызов информации о пропусках в таблице orders\n",
    "print('Информация о пропусках в данных о заказах')\n",
    "orders.isna().sum()"
   ]
  },
  {
   "cell_type": "markdown",
   "metadata": {},
   "source": [
    "В целом, с таблицей тоже все в порядке, пропусков нет, но необходимо привести к нужному формату столбец с информацией о дате заказа (date), и привести название колонок нижнему регистру."
   ]
  },
  {
   "cell_type": "code",
   "execution_count": 10,
   "metadata": {},
   "outputs": [
    {
     "data": {
      "text/html": [
       "<div>\n",
       "<style scoped>\n",
       "    .dataframe tbody tr th:only-of-type {\n",
       "        vertical-align: middle;\n",
       "    }\n",
       "\n",
       "    .dataframe tbody tr th {\n",
       "        vertical-align: top;\n",
       "    }\n",
       "\n",
       "    .dataframe thead th {\n",
       "        text-align: right;\n",
       "    }\n",
       "</style>\n",
       "<table border=\"1\" class=\"dataframe\">\n",
       "  <thead>\n",
       "    <tr style=\"text-align: right;\">\n",
       "      <th></th>\n",
       "      <th>count</th>\n",
       "      <th>mean</th>\n",
       "      <th>std</th>\n",
       "      <th>min</th>\n",
       "      <th>25%</th>\n",
       "      <th>50%</th>\n",
       "      <th>75%</th>\n",
       "      <th>max</th>\n",
       "    </tr>\n",
       "  </thead>\n",
       "  <tbody>\n",
       "    <tr>\n",
       "      <th>transactionid</th>\n",
       "      <td>1197.00</td>\n",
       "      <td>2155621385.53</td>\n",
       "      <td>1229084904.76</td>\n",
       "      <td>1062393.00</td>\n",
       "      <td>1166775572.00</td>\n",
       "      <td>2145193898.00</td>\n",
       "      <td>3237740112.00</td>\n",
       "      <td>4293855558.00</td>\n",
       "    </tr>\n",
       "    <tr>\n",
       "      <th>visitorid</th>\n",
       "      <td>1197.00</td>\n",
       "      <td>2165960143.10</td>\n",
       "      <td>1236014192.15</td>\n",
       "      <td>5114589.00</td>\n",
       "      <td>1111826046.00</td>\n",
       "      <td>2217984702.00</td>\n",
       "      <td>3177606451.00</td>\n",
       "      <td>4283872382.00</td>\n",
       "    </tr>\n",
       "    <tr>\n",
       "      <th>revenue</th>\n",
       "      <td>1197.00</td>\n",
       "      <td>8348.01</td>\n",
       "      <td>39191.13</td>\n",
       "      <td>50.00</td>\n",
       "      <td>1220.00</td>\n",
       "      <td>2978.00</td>\n",
       "      <td>8290.00</td>\n",
       "      <td>1294500.00</td>\n",
       "    </tr>\n",
       "  </tbody>\n",
       "</table>\n",
       "</div>"
      ],
      "text/plain": [
       "                count          mean           std        min           25%  \\\n",
       "transactionid 1197.00 2155621385.53 1229084904.76 1062393.00 1166775572.00   \n",
       "visitorid     1197.00 2165960143.10 1236014192.15 5114589.00 1111826046.00   \n",
       "revenue       1197.00       8348.01      39191.13      50.00       1220.00   \n",
       "\n",
       "                        50%           75%           max  \n",
       "transactionid 2145193898.00 3237740112.00 4293855558.00  \n",
       "visitorid     2217984702.00 3177606451.00 4283872382.00  \n",
       "revenue             2978.00       8290.00    1294500.00  "
      ]
     },
     "execution_count": 10,
     "metadata": {},
     "output_type": "execute_result"
    }
   ],
   "source": [
    "orders['date'] = pd.to_datetime(orders['date'])\n",
    "orders.columns = orders.columns.str.lower()\n",
    "orders.describe().T"
   ]
  },
  {
   "cell_type": "markdown",
   "metadata": {},
   "source": [
    "При ближайшем рассмотрении таблицы с данными о заказах, в глаза бросается разброс выручки: минимальное значение 50, а максимальное свыше 1 млн., что, также, в несколько раз превышает медианное значение. В данных есть выбросы и этот момент нужно будет учитывать при анализе A/B-теста.\n",
    "\n",
    "Согласно описанию данных, в таблице содержится информация о принадлежности к группе А или В. Для верности дальнейшего исследования, проверю, есть ли пользователи, которые попали в обе группы, перед этим проверив на наличие явных дубликатов."
   ]
  },
  {
   "cell_type": "code",
   "execution_count": 11,
   "metadata": {},
   "outputs": [
    {
     "data": {
      "text/plain": [
       "0"
      ]
     },
     "execution_count": 11,
     "metadata": {},
     "output_type": "execute_result"
    }
   ],
   "source": [
    "orders.duplicated().sum()  # подсчёт явных дубликатов "
   ]
  },
  {
   "cell_type": "code",
   "execution_count": 12,
   "metadata": {},
   "outputs": [
    {
     "name": "stdout",
     "output_type": "stream",
     "text": [
      "Количество совпадений: 58\n"
     ]
    }
   ],
   "source": [
    "double_users = np.intersect1d(orders.query('group == \"A\"')['visitorid'].unique(),\n",
    "               orders.query('group == \"B\"')['visitorid'].unique()) \n",
    "print('Количество совпадений:', len(double_users))"
   ]
  },
  {
   "cell_type": "markdown",
   "metadata": {},
   "source": [
    "58 пользователей попали в обе группы теста. Чтобы избежать ошибок в анализе его результатов, избавлюсь от пересечений."
   ]
  },
  {
   "cell_type": "code",
   "execution_count": 13,
   "metadata": {},
   "outputs": [
    {
     "name": "stdout",
     "output_type": "stream",
     "text": [
      "Количество совпадений после очистки: 0\n"
     ]
    }
   ],
   "source": [
    "# избавление о пересечений\n",
    "orders = orders[~orders['visitorid'].isin(double_users)]  \n",
    "\n",
    "# проверка результатов очистки\n",
    "double_users_2 = np.intersect1d(orders.query('group == \"A\"')['visitorid'].unique(),\n",
    "                                  orders.query('group == \"B\"')['visitorid'].unique()) \n",
    "print('Количество совпадений после очистки:', len(double_users_2))"
   ]
  },
  {
   "cell_type": "markdown",
   "metadata": {},
   "source": [
    "Данные очищены от задвоений. Дубликатов нет, посмотрю как распределяются группы."
   ]
  },
  {
   "cell_type": "code",
   "execution_count": 14,
   "metadata": {},
   "outputs": [
    {
     "data": {
      "text/html": [
       "<div>\n",
       "<style scoped>\n",
       "    .dataframe tbody tr th:only-of-type {\n",
       "        vertical-align: middle;\n",
       "    }\n",
       "\n",
       "    .dataframe tbody tr th {\n",
       "        vertical-align: top;\n",
       "    }\n",
       "\n",
       "    .dataframe thead th {\n",
       "        text-align: right;\n",
       "    }\n",
       "</style>\n",
       "<table border=\"1\" class=\"dataframe\">\n",
       "  <thead>\n",
       "    <tr style=\"text-align: right;\">\n",
       "      <th></th>\n",
       "      <th>visitorid</th>\n",
       "    </tr>\n",
       "    <tr>\n",
       "      <th>group</th>\n",
       "      <th></th>\n",
       "    </tr>\n",
       "  </thead>\n",
       "  <tbody>\n",
       "    <tr>\n",
       "      <th>A</th>\n",
       "      <td>468</td>\n",
       "    </tr>\n",
       "    <tr>\n",
       "      <th>B</th>\n",
       "      <td>548</td>\n",
       "    </tr>\n",
       "  </tbody>\n",
       "</table>\n",
       "</div>"
      ],
      "text/plain": [
       "       visitorid\n",
       "group           \n",
       "A            468\n",
       "B            548"
      ]
     },
     "metadata": {},
     "output_type": "display_data"
    },
    {
     "data": {
      "text/html": [
       "<div>\n",
       "<style scoped>\n",
       "    .dataframe tbody tr th:only-of-type {\n",
       "        vertical-align: middle;\n",
       "    }\n",
       "\n",
       "    .dataframe tbody tr th {\n",
       "        vertical-align: top;\n",
       "    }\n",
       "\n",
       "    .dataframe thead th {\n",
       "        text-align: right;\n",
       "    }\n",
       "</style>\n",
       "<table border=\"1\" class=\"dataframe\">\n",
       "  <thead>\n",
       "    <tr style=\"text-align: right;\">\n",
       "      <th></th>\n",
       "      <th>mean</th>\n",
       "      <th>median</th>\n",
       "    </tr>\n",
       "    <tr>\n",
       "      <th>group</th>\n",
       "      <th></th>\n",
       "      <th></th>\n",
       "    </tr>\n",
       "  </thead>\n",
       "  <tbody>\n",
       "    <tr>\n",
       "      <th>A</th>\n",
       "      <td>7189.44</td>\n",
       "      <td>3090.00</td>\n",
       "    </tr>\n",
       "    <tr>\n",
       "      <th>B</th>\n",
       "      <td>9249.95</td>\n",
       "      <td>2898.50</td>\n",
       "    </tr>\n",
       "  </tbody>\n",
       "</table>\n",
       "</div>"
      ],
      "text/plain": [
       "         mean  median\n",
       "group                \n",
       "A     7189.44 3090.00\n",
       "B     9249.95 2898.50"
      ]
     },
     "execution_count": 14,
     "metadata": {},
     "output_type": "execute_result"
    }
   ],
   "source": [
    "display(orders.groupby('group').agg({'visitorid': 'count'}))\n",
    "orders.pivot_table(index = 'group', values = 'revenue', aggfunc = ('mean','median'))"
   ]
  },
  {
   "cell_type": "markdown",
   "metadata": {},
   "source": [
    "Численность группы B выше, чем численность группы A.\n",
    "\n",
    "Если опираться на средние показатели выручки, то в группе B она выше, но если же смотреть на медианное значение, то выше выручка по группе A. Возможно в группе B большее число выбросов со сверхдорогими покупками. Проверю предположение графически."
   ]
  },
  {
   "cell_type": "code",
   "execution_count": 15,
   "metadata": {},
   "outputs": [
    {
     "data": {
      "image/png": "[encoded data removed]",
      "text/plain": [
       "<Figure size 1296x504 with 1 Axes>"
      ]
     },
     "metadata": {
      "needs_background": "light"
     },
     "output_type": "display_data"
    }
   ],
   "source": [
    "ax = orders.query('group == \"A\"').plot(kind='scatter', x='date', y='revenue', color='green', \n",
    "                 alpha = 0.5, grid=True, figsize=(18, 7), label='A');\n",
    "\n",
    "\n",
    "orders.query('group == \"B\"').plot(kind='scatter', x='date', y='revenue', color='blue', \n",
    "            alpha = 0.5, grid=True, figsize=(18, 7), label='B', ax=ax);\n"
   ]
  },
  {
   "cell_type": "markdown",
   "metadata": {},
   "source": [
    "Действительно, 2 выброса (один из которых - это внушительная покупка на 1,2 млн) принадлежат группе B.\n",
    "\n",
    "На данном этапе завершу знакомство и обработку таблицы с данными о заказах."
   ]
  },
  {
   "cell_type": "markdown",
   "metadata": {},
   "source": [
    "### Таблица поселитетей"
   ]
  },
  {
   "cell_type": "code",
   "execution_count": 16,
   "metadata": {},
   "outputs": [
    {
     "data": {
      "text/html": [
       "<div>\n",
       "<style scoped>\n",
       "    .dataframe tbody tr th:only-of-type {\n",
       "        vertical-align: middle;\n",
       "    }\n",
       "\n",
       "    .dataframe tbody tr th {\n",
       "        vertical-align: top;\n",
       "    }\n",
       "\n",
       "    .dataframe thead th {\n",
       "        text-align: right;\n",
       "    }\n",
       "</style>\n",
       "<table border=\"1\" class=\"dataframe\">\n",
       "  <thead>\n",
       "    <tr style=\"text-align: right;\">\n",
       "      <th></th>\n",
       "      <th>date</th>\n",
       "      <th>group</th>\n",
       "      <th>visitors</th>\n",
       "    </tr>\n",
       "  </thead>\n",
       "  <tbody>\n",
       "    <tr>\n",
       "      <th>0</th>\n",
       "      <td>2019-08-01</td>\n",
       "      <td>A</td>\n",
       "      <td>719</td>\n",
       "    </tr>\n",
       "    <tr>\n",
       "      <th>1</th>\n",
       "      <td>2019-08-02</td>\n",
       "      <td>A</td>\n",
       "      <td>619</td>\n",
       "    </tr>\n",
       "    <tr>\n",
       "      <th>2</th>\n",
       "      <td>2019-08-03</td>\n",
       "      <td>A</td>\n",
       "      <td>507</td>\n",
       "    </tr>\n",
       "    <tr>\n",
       "      <th>3</th>\n",
       "      <td>2019-08-04</td>\n",
       "      <td>A</td>\n",
       "      <td>717</td>\n",
       "    </tr>\n",
       "    <tr>\n",
       "      <th>4</th>\n",
       "      <td>2019-08-05</td>\n",
       "      <td>A</td>\n",
       "      <td>756</td>\n",
       "    </tr>\n",
       "    <tr>\n",
       "      <th>5</th>\n",
       "      <td>2019-08-06</td>\n",
       "      <td>A</td>\n",
       "      <td>667</td>\n",
       "    </tr>\n",
       "    <tr>\n",
       "      <th>6</th>\n",
       "      <td>2019-08-07</td>\n",
       "      <td>A</td>\n",
       "      <td>644</td>\n",
       "    </tr>\n",
       "    <tr>\n",
       "      <th>7</th>\n",
       "      <td>2019-08-08</td>\n",
       "      <td>A</td>\n",
       "      <td>610</td>\n",
       "    </tr>\n",
       "    <tr>\n",
       "      <th>8</th>\n",
       "      <td>2019-08-09</td>\n",
       "      <td>A</td>\n",
       "      <td>617</td>\n",
       "    </tr>\n",
       "    <tr>\n",
       "      <th>9</th>\n",
       "      <td>2019-08-10</td>\n",
       "      <td>A</td>\n",
       "      <td>406</td>\n",
       "    </tr>\n",
       "  </tbody>\n",
       "</table>\n",
       "</div>"
      ],
      "text/plain": [
       "         date group  visitors\n",
       "0  2019-08-01     A       719\n",
       "1  2019-08-02     A       619\n",
       "2  2019-08-03     A       507\n",
       "3  2019-08-04     A       717\n",
       "4  2019-08-05     A       756\n",
       "5  2019-08-06     A       667\n",
       "6  2019-08-07     A       644\n",
       "7  2019-08-08     A       610\n",
       "8  2019-08-09     A       617\n",
       "9  2019-08-10     A       406"
      ]
     },
     "execution_count": 16,
     "metadata": {},
     "output_type": "execute_result"
    }
   ],
   "source": [
    "visitors.head(10)"
   ]
  },
  {
   "cell_type": "code",
   "execution_count": 17,
   "metadata": {},
   "outputs": [
    {
     "name": "stdout",
     "output_type": "stream",
     "text": [
      "<class 'pandas.core.frame.DataFrame'>\n",
      "RangeIndex: 62 entries, 0 to 61\n",
      "Data columns (total 3 columns):\n",
      " #   Column    Non-Null Count  Dtype \n",
      "---  ------    --------------  ----- \n",
      " 0   date      62 non-null     object\n",
      " 1   group     62 non-null     object\n",
      " 2   visitors  62 non-null     int64 \n",
      "dtypes: int64(1), object(2)\n",
      "memory usage: 1.6+ KB\n"
     ]
    }
   ],
   "source": [
    "# вызов информации о таблице visitors\n",
    "visitors.info()"
   ]
  },
  {
   "cell_type": "code",
   "execution_count": 18,
   "metadata": {},
   "outputs": [
    {
     "name": "stdout",
     "output_type": "stream",
     "text": [
      "Информация о пропусках в данных о посетителях\n"
     ]
    },
    {
     "data": {
      "text/plain": [
       "date        0\n",
       "group       0\n",
       "visitors    0\n",
       "dtype: int64"
      ]
     },
     "execution_count": 18,
     "metadata": {},
     "output_type": "execute_result"
    }
   ],
   "source": [
    "# вызов информации о пропусках в таицебл visitors\n",
    "print('Информация о пропусках в данных о посетителях')\n",
    "visitors.isna().sum()"
   ]
  },
  {
   "cell_type": "markdown",
   "metadata": {},
   "source": [
    "С данными также все в порядке, но необходимо изменить формат столбца с данными о дате посещения интернет-магазина."
   ]
  },
  {
   "cell_type": "code",
   "execution_count": 19,
   "metadata": {},
   "outputs": [
    {
     "name": "stdout",
     "output_type": "stream",
     "text": [
      "<class 'pandas.core.frame.DataFrame'>\n",
      "RangeIndex: 62 entries, 0 to 61\n",
      "Data columns (total 3 columns):\n",
      " #   Column    Non-Null Count  Dtype         \n",
      "---  ------    --------------  -----         \n",
      " 0   date      62 non-null     datetime64[ns]\n",
      " 1   group     62 non-null     object        \n",
      " 2   visitors  62 non-null     int64         \n",
      "dtypes: datetime64[ns](1), int64(1), object(1)\n",
      "memory usage: 1.6+ KB\n"
     ]
    }
   ],
   "source": [
    "visitors['date'] = pd.to_datetime(visitors['date'])\n",
    "visitors.info()"
   ]
  },
  {
   "cell_type": "code",
   "execution_count": 20,
   "metadata": {},
   "outputs": [
    {
     "data": {
      "text/plain": [
       "0"
      ]
     },
     "execution_count": 20,
     "metadata": {},
     "output_type": "execute_result"
    }
   ],
   "source": [
    "visitors.duplicated().sum()  # подсчёт явных дубликатов "
   ]
  },
  {
   "cell_type": "markdown",
   "metadata": {},
   "source": [
    "Явные дубликаты отсутсвуют. Проверю распределение по группам."
   ]
  },
  {
   "cell_type": "code",
   "execution_count": 21,
   "metadata": {},
   "outputs": [
    {
     "data": {
      "text/html": [
       "<div>\n",
       "<style scoped>\n",
       "    .dataframe tbody tr th:only-of-type {\n",
       "        vertical-align: middle;\n",
       "    }\n",
       "\n",
       "    .dataframe tbody tr th {\n",
       "        vertical-align: top;\n",
       "    }\n",
       "\n",
       "    .dataframe thead th {\n",
       "        text-align: right;\n",
       "    }\n",
       "</style>\n",
       "<table border=\"1\" class=\"dataframe\">\n",
       "  <thead>\n",
       "    <tr style=\"text-align: right;\">\n",
       "      <th></th>\n",
       "      <th>visitors</th>\n",
       "    </tr>\n",
       "    <tr>\n",
       "      <th>group</th>\n",
       "      <th></th>\n",
       "    </tr>\n",
       "  </thead>\n",
       "  <tbody>\n",
       "    <tr>\n",
       "      <th>A</th>\n",
       "      <td>18736</td>\n",
       "    </tr>\n",
       "    <tr>\n",
       "      <th>B</th>\n",
       "      <td>18916</td>\n",
       "    </tr>\n",
       "  </tbody>\n",
       "</table>\n",
       "</div>"
      ],
      "text/plain": [
       "       visitors\n",
       "group          \n",
       "A         18736\n",
       "B         18916"
      ]
     },
     "execution_count": 21,
     "metadata": {},
     "output_type": "execute_result"
    }
   ],
   "source": [
    "visitors.groupby('group').agg({'visitors': 'sum'})"
   ]
  },
  {
   "cell_type": "code",
   "execution_count": 22,
   "metadata": {},
   "outputs": [
    {
     "name": "stdout",
     "output_type": "stream",
     "text": [
      "Разница между группами А и В составляет: 180\n"
     ]
    }
   ],
   "source": [
    "total_a = visitors.query('group == \"A\"')['visitors'].sum()\n",
    "total_b = visitors.query('group == \"B\"')['visitors'].sum()\n",
    "print('Разница между группами А и В составляет:', abs(total_a - total_b))"
   ]
  },
  {
   "cell_type": "markdown",
   "metadata": {},
   "source": [
    "Число посетителей по группам разделены примерно одинаково, группа B больше на 180 посетителей."
   ]
  },
  {
   "cell_type": "markdown",
   "metadata": {},
   "source": [
    "### Вывод по этапу\n",
    "<div style=\"border:solid DeepSkyBlue 0.5px; padding: 10px\">\n",
    "Я внимательно ознакомилась с данными и провела следующие этапы их предобработки:\n",
    "    \n",
    "- столбцы с датами приведены к нужному формату\n",
    "- названия столбцов теперь указаны в нижнем регистре\n",
    "- проведена проверка на явные дубликаты\n",
    "- таблица с заказами очищена от пользователей, попавших в обе группы.\n",
    "- познакомилась с данными поближе, изучив данные о выбросах.\n",
    "    \n",
    "На данном этапе работа по знакомству с данными завершена, приступаю к непосредственному анализу для заказчика.    "
   ]
  },
  {
   "cell_type": "markdown",
   "metadata": {},
   "source": [
    "## Приоретизация гипотез"
   ]
  },
  {
   "cell_type": "markdown",
   "metadata": {},
   "source": [
    "### Приоретизация гипотез с использованием фреймворка ICE"
   ]
  },
  {
   "cell_type": "code",
   "execution_count": 23,
   "metadata": {},
   "outputs": [
    {
     "data": {
      "text/html": [
       "<div>\n",
       "<style scoped>\n",
       "    .dataframe tbody tr th:only-of-type {\n",
       "        vertical-align: middle;\n",
       "    }\n",
       "\n",
       "    .dataframe tbody tr th {\n",
       "        vertical-align: top;\n",
       "    }\n",
       "\n",
       "    .dataframe thead th {\n",
       "        text-align: right;\n",
       "    }\n",
       "</style>\n",
       "<table border=\"1\" class=\"dataframe\">\n",
       "  <thead>\n",
       "    <tr style=\"text-align: right;\">\n",
       "      <th></th>\n",
       "      <th>hypothesis</th>\n",
       "      <th>reach</th>\n",
       "      <th>impact</th>\n",
       "      <th>confidence</th>\n",
       "      <th>efforts</th>\n",
       "      <th>ICE</th>\n",
       "    </tr>\n",
       "  </thead>\n",
       "  <tbody>\n",
       "    <tr>\n",
       "      <th>8</th>\n",
       "      <td>Запустить акцию, дающую скидку на товар в день рождения</td>\n",
       "      <td>1</td>\n",
       "      <td>9</td>\n",
       "      <td>9</td>\n",
       "      <td>5</td>\n",
       "      <td>16.20</td>\n",
       "    </tr>\n",
       "    <tr>\n",
       "      <th>0</th>\n",
       "      <td>Добавить два новых канала привлечения трафика, что позволит привлекать на 30% больше пользователей</td>\n",
       "      <td>3</td>\n",
       "      <td>10</td>\n",
       "      <td>8</td>\n",
       "      <td>6</td>\n",
       "      <td>13.30</td>\n",
       "    </tr>\n",
       "    <tr>\n",
       "      <th>7</th>\n",
       "      <td>Добавить форму подписки на все основные страницы, чтобы собрать базу клиентов для email-рассылок</td>\n",
       "      <td>10</td>\n",
       "      <td>7</td>\n",
       "      <td>8</td>\n",
       "      <td>5</td>\n",
       "      <td>11.20</td>\n",
       "    </tr>\n",
       "    <tr>\n",
       "      <th>6</th>\n",
       "      <td>Показать на главной странице баннеры с актуальными акциями и распродажами, чтобы увеличить конверсию</td>\n",
       "      <td>5</td>\n",
       "      <td>3</td>\n",
       "      <td>8</td>\n",
       "      <td>3</td>\n",
       "      <td>8.00</td>\n",
       "    </tr>\n",
       "    <tr>\n",
       "      <th>2</th>\n",
       "      <td>Добавить блоки рекомендаций товаров на сайт интернет магазина, чтобы повысить конверсию и средний чек заказа</td>\n",
       "      <td>8</td>\n",
       "      <td>3</td>\n",
       "      <td>7</td>\n",
       "      <td>3</td>\n",
       "      <td>7.00</td>\n",
       "    </tr>\n",
       "    <tr>\n",
       "      <th>1</th>\n",
       "      <td>Запустить собственную службу доставки, что сократит срок доставки заказов</td>\n",
       "      <td>2</td>\n",
       "      <td>5</td>\n",
       "      <td>4</td>\n",
       "      <td>10</td>\n",
       "      <td>2.00</td>\n",
       "    </tr>\n",
       "    <tr>\n",
       "      <th>5</th>\n",
       "      <td>Добавить страницу отзывов клиентов о магазине, что позволит увеличить количество заказов</td>\n",
       "      <td>3</td>\n",
       "      <td>2</td>\n",
       "      <td>2</td>\n",
       "      <td>3</td>\n",
       "      <td>1.30</td>\n",
       "    </tr>\n",
       "    <tr>\n",
       "      <th>3</th>\n",
       "      <td>Изменить структура категорий, что увеличит конверсию, т.к. пользователи быстрее найдут нужный товар</td>\n",
       "      <td>8</td>\n",
       "      <td>3</td>\n",
       "      <td>3</td>\n",
       "      <td>8</td>\n",
       "      <td>1.10</td>\n",
       "    </tr>\n",
       "    <tr>\n",
       "      <th>4</th>\n",
       "      <td>Изменить цвет фона главной страницы, чтобы увеличить вовлеченность пользователей</td>\n",
       "      <td>3</td>\n",
       "      <td>1</td>\n",
       "      <td>1</td>\n",
       "      <td>1</td>\n",
       "      <td>1.00</td>\n",
       "    </tr>\n",
       "  </tbody>\n",
       "</table>\n",
       "</div>"
      ],
      "text/plain": [
       "                                                                                                     hypothesis  \\\n",
       "8                                                       Запустить акцию, дающую скидку на товар в день рождения   \n",
       "0            Добавить два новых канала привлечения трафика, что позволит привлекать на 30% больше пользователей   \n",
       "7              Добавить форму подписки на все основные страницы, чтобы собрать базу клиентов для email-рассылок   \n",
       "6          Показать на главной странице баннеры с актуальными акциями и распродажами, чтобы увеличить конверсию   \n",
       "2  Добавить блоки рекомендаций товаров на сайт интернет магазина, чтобы повысить конверсию и средний чек заказа   \n",
       "1                                     Запустить собственную службу доставки, что сократит срок доставки заказов   \n",
       "5                      Добавить страницу отзывов клиентов о магазине, что позволит увеличить количество заказов   \n",
       "3           Изменить структура категорий, что увеличит конверсию, т.к. пользователи быстрее найдут нужный товар   \n",
       "4                              Изменить цвет фона главной страницы, чтобы увеличить вовлеченность пользователей   \n",
       "\n",
       "   reach  impact  confidence  efforts   ICE  \n",
       "8      1       9           9        5 16.20  \n",
       "0      3      10           8        6 13.30  \n",
       "7     10       7           8        5 11.20  \n",
       "6      5       3           8        3  8.00  \n",
       "2      8       3           7        3  7.00  \n",
       "1      2       5           4       10  2.00  \n",
       "5      3       2           2        3  1.30  \n",
       "3      8       3           3        8  1.10  \n",
       "4      3       1           1        1  1.00  "
      ]
     },
     "execution_count": 23,
     "metadata": {},
     "output_type": "execute_result"
    }
   ],
   "source": [
    "hypothesis['ICE'] = round((hypothesis['impact'] * hypothesis['confidence']) / hypothesis['efforts'], 1)\n",
    "hypothesis.sort_values(by='ICE', ascending=False)"
   ]
  },
  {
   "cell_type": "markdown",
   "metadata": {},
   "source": [
    "<b>Вывод:</b>\n",
    "\n",
    "Согласно выполненным рассчетам лидируют 3 гипотезы:\n",
    "- Запустить акцию, дающую скидку на товар в день рождения - 16,2\n",
    "- Добавить два новых канала привлечения трафика, что позволит привлекать на 30% больше пользователей - 13,3\n",
    "- Добавить форму подписки на все основные страницы, чтобы собрать базу клиентов для email-рассылок - 11,2\n",
    "\n",
    "Немного отстают от них, но все равно имеют больший показатель по ICE еще 2 гипотезы:\n",
    "- Показать на главной странице баннеры с актуальными акциями и распродажами, чтобы увеличить конверсию - 8,0\n",
    "- Добавить блоки рекомендаций товаров на сайт интернет магазина, чтобы повысить конверсию и средний чек заказа - 7,0\n",
    "\n",
    "При этом интересно отметить, что гипотеза **_Добавить два новых канала привлечения трафика, что позволит привлекать на 30% больше пользователей_**, в свою очередь, согласно impact повлияет на всех пользователей, их опыт и удовлетворение от продукта.\n",
    "\n",
    "Лидирующая гипотеза **_Запустить акцию, дающую скидку на товар в день рождения_** имеет очень высокие значения impact и confidence - 9, и с точки зрения уверенности в том, что данная гипотеза увеличит выручку, имеет наивысший бал из лидеров.\n",
    "\n",
    "Все три лидирующие гипотезы примерно одинаково тестировать."
   ]
  },
  {
   "cell_type": "markdown",
   "metadata": {},
   "source": [
    "### Приоретизация гипотез с использованием фреймворка RICE"
   ]
  },
  {
   "cell_type": "code",
   "execution_count": 24,
   "metadata": {},
   "outputs": [
    {
     "data": {
      "text/html": [
       "<div>\n",
       "<style scoped>\n",
       "    .dataframe tbody tr th:only-of-type {\n",
       "        vertical-align: middle;\n",
       "    }\n",
       "\n",
       "    .dataframe tbody tr th {\n",
       "        vertical-align: top;\n",
       "    }\n",
       "\n",
       "    .dataframe thead th {\n",
       "        text-align: right;\n",
       "    }\n",
       "</style>\n",
       "<table border=\"1\" class=\"dataframe\">\n",
       "  <thead>\n",
       "    <tr style=\"text-align: right;\">\n",
       "      <th></th>\n",
       "      <th>hypothesis</th>\n",
       "      <th>reach</th>\n",
       "      <th>impact</th>\n",
       "      <th>confidence</th>\n",
       "      <th>efforts</th>\n",
       "      <th>ICE</th>\n",
       "      <th>RICE</th>\n",
       "    </tr>\n",
       "  </thead>\n",
       "  <tbody>\n",
       "    <tr>\n",
       "      <th>7</th>\n",
       "      <td>Добавить форму подписки на все основные страницы, чтобы собрать базу клиентов для email-рассылок</td>\n",
       "      <td>10</td>\n",
       "      <td>7</td>\n",
       "      <td>8</td>\n",
       "      <td>5</td>\n",
       "      <td>11.20</td>\n",
       "      <td>112.00</td>\n",
       "    </tr>\n",
       "    <tr>\n",
       "      <th>2</th>\n",
       "      <td>Добавить блоки рекомендаций товаров на сайт интернет магазина, чтобы повысить конверсию и средний чек заказа</td>\n",
       "      <td>8</td>\n",
       "      <td>3</td>\n",
       "      <td>7</td>\n",
       "      <td>3</td>\n",
       "      <td>7.00</td>\n",
       "      <td>56.00</td>\n",
       "    </tr>\n",
       "    <tr>\n",
       "      <th>0</th>\n",
       "      <td>Добавить два новых канала привлечения трафика, что позволит привлекать на 30% больше пользователей</td>\n",
       "      <td>3</td>\n",
       "      <td>10</td>\n",
       "      <td>8</td>\n",
       "      <td>6</td>\n",
       "      <td>13.30</td>\n",
       "      <td>40.00</td>\n",
       "    </tr>\n",
       "    <tr>\n",
       "      <th>6</th>\n",
       "      <td>Показать на главной странице баннеры с актуальными акциями и распродажами, чтобы увеличить конверсию</td>\n",
       "      <td>5</td>\n",
       "      <td>3</td>\n",
       "      <td>8</td>\n",
       "      <td>3</td>\n",
       "      <td>8.00</td>\n",
       "      <td>40.00</td>\n",
       "    </tr>\n",
       "    <tr>\n",
       "      <th>8</th>\n",
       "      <td>Запустить акцию, дающую скидку на товар в день рождения</td>\n",
       "      <td>1</td>\n",
       "      <td>9</td>\n",
       "      <td>9</td>\n",
       "      <td>5</td>\n",
       "      <td>16.20</td>\n",
       "      <td>16.20</td>\n",
       "    </tr>\n",
       "    <tr>\n",
       "      <th>3</th>\n",
       "      <td>Изменить структура категорий, что увеличит конверсию, т.к. пользователи быстрее найдут нужный товар</td>\n",
       "      <td>8</td>\n",
       "      <td>3</td>\n",
       "      <td>3</td>\n",
       "      <td>8</td>\n",
       "      <td>1.10</td>\n",
       "      <td>9.00</td>\n",
       "    </tr>\n",
       "    <tr>\n",
       "      <th>1</th>\n",
       "      <td>Запустить собственную службу доставки, что сократит срок доставки заказов</td>\n",
       "      <td>2</td>\n",
       "      <td>5</td>\n",
       "      <td>4</td>\n",
       "      <td>10</td>\n",
       "      <td>2.00</td>\n",
       "      <td>4.00</td>\n",
       "    </tr>\n",
       "    <tr>\n",
       "      <th>5</th>\n",
       "      <td>Добавить страницу отзывов клиентов о магазине, что позволит увеличить количество заказов</td>\n",
       "      <td>3</td>\n",
       "      <td>2</td>\n",
       "      <td>2</td>\n",
       "      <td>3</td>\n",
       "      <td>1.30</td>\n",
       "      <td>4.00</td>\n",
       "    </tr>\n",
       "    <tr>\n",
       "      <th>4</th>\n",
       "      <td>Изменить цвет фона главной страницы, чтобы увеличить вовлеченность пользователей</td>\n",
       "      <td>3</td>\n",
       "      <td>1</td>\n",
       "      <td>1</td>\n",
       "      <td>1</td>\n",
       "      <td>1.00</td>\n",
       "      <td>3.00</td>\n",
       "    </tr>\n",
       "  </tbody>\n",
       "</table>\n",
       "</div>"
      ],
      "text/plain": [
       "                                                                                                     hypothesis  \\\n",
       "7              Добавить форму подписки на все основные страницы, чтобы собрать базу клиентов для email-рассылок   \n",
       "2  Добавить блоки рекомендаций товаров на сайт интернет магазина, чтобы повысить конверсию и средний чек заказа   \n",
       "0            Добавить два новых канала привлечения трафика, что позволит привлекать на 30% больше пользователей   \n",
       "6          Показать на главной странице баннеры с актуальными акциями и распродажами, чтобы увеличить конверсию   \n",
       "8                                                       Запустить акцию, дающую скидку на товар в день рождения   \n",
       "3           Изменить структура категорий, что увеличит конверсию, т.к. пользователи быстрее найдут нужный товар   \n",
       "1                                     Запустить собственную службу доставки, что сократит срок доставки заказов   \n",
       "5                      Добавить страницу отзывов клиентов о магазине, что позволит увеличить количество заказов   \n",
       "4                              Изменить цвет фона главной страницы, чтобы увеличить вовлеченность пользователей   \n",
       "\n",
       "   reach  impact  confidence  efforts   ICE   RICE  \n",
       "7     10       7           8        5 11.20 112.00  \n",
       "2      8       3           7        3  7.00  56.00  \n",
       "0      3      10           8        6 13.30  40.00  \n",
       "6      5       3           8        3  8.00  40.00  \n",
       "8      1       9           9        5 16.20  16.20  \n",
       "3      8       3           3        8  1.10   9.00  \n",
       "1      2       5           4       10  2.00   4.00  \n",
       "5      3       2           2        3  1.30   4.00  \n",
       "4      3       1           1        1  1.00   3.00  "
      ]
     },
     "execution_count": 24,
     "metadata": {},
     "output_type": "execute_result"
    }
   ],
   "source": [
    "hypothesis['RICE'] = round((hypothesis['reach'] * hypothesis['impact'] * hypothesis['confidence']) / hypothesis['efforts'], 1)\n",
    "hypothesis.sort_values(by='RICE', ascending=False)"
   ]
  },
  {
   "cell_type": "markdown",
   "metadata": {},
   "source": [
    "<b>Вывод:</b>\n",
    "\n",
    "Ситуация иная, по отношению к предыдущему выводу. На фоне остальных явно можно выделить 4 гипотезы:\n",
    "- Добавить форму подписки на все основные страницы, чтобы собрать базу клиентов для email-рассылок - 112,0\n",
    "- Добавить блоки рекомендаций товаров на сайт интернет магазина, чтобы повысить конверсию и средний чек заказа - 56,0\n",
    "- Добавить два новых канала привлечения трафика, что позволит привлекать на 30% больше пользователей - 40,0\n",
    "- Показать на главной странице баннеры с актуальными акциями и распродажами, чтобы увеличить конверсию - 40,0\n",
    "\n",
    "Лидер предыдещего расчета **_Запустить акцию, дающую скидку на товар в день рождения_** занимает лишь 5 позицию со значением RICE 16,0\n",
    "\n",
    "3 из 4-х лидирующих гипотез были в топ-4 при испрользовании фреймворка ICE:\n",
    "- Добавить форму подписки на все основные страницы, чтобы собрать базу клиентов для email-рассылок - занимала 3 позицию\n",
    "- Добавить два новых канала привлечения трафика, что позволит привлекать на 30% больше пользователей - занимала 2 позицию\n",
    "- Показать на главной странице баннеры с актуальными акциями и распродажами, чтобы увеличить конверсию - сохранила ту же 4 позицию.\n",
    "\n",
    "Гипотеза **_Добавить блоки рекомендаций товаров на сайт интернет магазина, чтобы повысить конверсию и средний чек заказа_**, что сейчас на второй позиции была на 5 и не критически отставала от топ-4."
   ]
  },
  {
   "cell_type": "markdown",
   "metadata": {},
   "source": [
    "### Вывод по этапу\n",
    "<div style=\"border:solid DeepSkyBlue 0.5px; padding: 10px\">\n",
    "    \n",
    "На основании выполненных расчетов можно следать выводы, что самыми перспективными с точки зрения влияния на увеличение выручки заказчика, будут следующие гипотезы:\n",
    "- Добавить форму подписки на все основные страницы, чтобы собрать базу клиентов для email-рассылок \n",
    "- Добавить два новых канала привлечения трафика, что позволит привлекать на 30% больше пользователей \n",
    "- Показать на главной странице баннеры с актуальными акциями и распродажами, чтобы увеличить конверсию \n",
    "    \n",
    "Легче всего протестировать вторую гипотезу в этом списке (efforts - 3). Оставшиеся гипотезы тестировать примерно одинаково - 5 и 6 efforts для первой и третьей позиций соответсвенно.     \n",
    "    \n",
    "Основные отличия рейтингов можно объяснить следующими моментами:\n",
    "- Гипотезе _Запустить акцию, дающую скидку на товар в день рождения_ не удалось сохранить высокие показатели перспективности по фреймворкe RICE  из-за низкого показателя reach - изменение охватывает минимальное число пользователей.    \n",
    "- Гипотеле _Добавить форму подписки на все основные страницы, чтобы собрать базу клиентов для email-рассылок_ напротив из-за максимального значения reach - 10 - удалось занять первую позицию. Эта же гипотеза, по мнению отдела маркетинга, с большой долей уверенности (confidence - 8) повлиет на рост выручки.\n",
    "- Гипотеза _Добавить два новых канала привлечения трафика, что позволит привлекать на 30% больше пользователей_ держит место в обоих рейтингах наиболее перспективных гипотез за счет максимального значения impact, что означает, что по мнению маркетологов, введение этого изменения максимально повлияет на пользователей, их опыт и удовлетворение от продукта.\n",
    "\n",
    "**Самые не перспективные гипотезы и почему:**\n",
    "- _Изменить цвет фона главной страницы, чтобы увеличить вовлеченность пользователей_ - затрагивает минимальное число пользователей, практически не влияет на пользовательский опыт и удовлетворенность от продукта и совсем не внушает уверенности, хоть и имеет наименьшую стоимость для тестирования.   \n",
    "- _Добавить страницу отзывов клиентов о магазине, что позволит увеличить количество заказов_ - ситуация примерно такая же, как и с гипотезой о смене цвета, но показатели совсем немного выше.  \n",
    "- _Запустить собственную службу доставки, что сократит срок доставки заказов_ - самая дорогая для тестирования гипотеза - 10 по confidence -  при этом имеет весьма низкий покатель уверенности в том, что изменение повлияет на увеличение выручки, к тому же, охватыввает минимальное число пользователей.\n",
    "- _Изменить структуру категорий, что увеличит конверсию, т.к. пользователи быстрее найдут нужный товар_ - гипотеза дорогая для тестирования, не внушает особой уверенности у маркетологов, и имеет невысокий показатель влияния на пользовательские опыт  "
   ]
  },
  {
   "cell_type": "markdown",
   "metadata": {},
   "source": [
    "## Анализ A/B-теста"
   ]
  },
  {
   "cell_type": "markdown",
   "metadata": {},
   "source": [
    "### Кумулятивная выручка по группам"
   ]
  },
  {
   "cell_type": "code",
   "execution_count": 25,
   "metadata": {},
   "outputs": [
    {
     "data": {
      "text/html": [
       "<div>\n",
       "<style scoped>\n",
       "    .dataframe tbody tr th:only-of-type {\n",
       "        vertical-align: middle;\n",
       "    }\n",
       "\n",
       "    .dataframe tbody tr th {\n",
       "        vertical-align: top;\n",
       "    }\n",
       "\n",
       "    .dataframe thead th {\n",
       "        text-align: right;\n",
       "    }\n",
       "</style>\n",
       "<table border=\"1\" class=\"dataframe\">\n",
       "  <thead>\n",
       "    <tr style=\"text-align: right;\">\n",
       "      <th></th>\n",
       "      <th>date</th>\n",
       "      <th>group</th>\n",
       "      <th>orders</th>\n",
       "      <th>buyers</th>\n",
       "      <th>revenue</th>\n",
       "      <th>visitors</th>\n",
       "    </tr>\n",
       "  </thead>\n",
       "  <tbody>\n",
       "    <tr>\n",
       "      <th>0</th>\n",
       "      <td>2019-08-01</td>\n",
       "      <td>A</td>\n",
       "      <td>23</td>\n",
       "      <td>19</td>\n",
       "      <td>142779</td>\n",
       "      <td>719</td>\n",
       "    </tr>\n",
       "    <tr>\n",
       "      <th>1</th>\n",
       "      <td>2019-08-01</td>\n",
       "      <td>B</td>\n",
       "      <td>17</td>\n",
       "      <td>17</td>\n",
       "      <td>59758</td>\n",
       "      <td>713</td>\n",
       "    </tr>\n",
       "    <tr>\n",
       "      <th>2</th>\n",
       "      <td>2019-08-02</td>\n",
       "      <td>A</td>\n",
       "      <td>42</td>\n",
       "      <td>36</td>\n",
       "      <td>234381</td>\n",
       "      <td>1338</td>\n",
       "    </tr>\n",
       "    <tr>\n",
       "      <th>3</th>\n",
       "      <td>2019-08-02</td>\n",
       "      <td>B</td>\n",
       "      <td>40</td>\n",
       "      <td>39</td>\n",
       "      <td>221801</td>\n",
       "      <td>1294</td>\n",
       "    </tr>\n",
       "    <tr>\n",
       "      <th>4</th>\n",
       "      <td>2019-08-03</td>\n",
       "      <td>A</td>\n",
       "      <td>66</td>\n",
       "      <td>60</td>\n",
       "      <td>346854</td>\n",
       "      <td>1845</td>\n",
       "    </tr>\n",
       "  </tbody>\n",
       "</table>\n",
       "</div>"
      ],
      "text/plain": [
       "        date group  orders  buyers  revenue  visitors\n",
       "0 2019-08-01     A      23      19   142779       719\n",
       "1 2019-08-01     B      17      17    59758       713\n",
       "2 2019-08-02     A      42      36   234381      1338\n",
       "3 2019-08-02     B      40      39   221801      1294\n",
       "4 2019-08-03     A      66      60   346854      1845"
      ]
     },
     "execution_count": 25,
     "metadata": {},
     "output_type": "execute_result"
    }
   ],
   "source": [
    "# создаю массив уникальных пар значений дат и групп теста\n",
    "datesGroups = orders[['date','group']].drop_duplicates()\n",
    "\n",
    "# получаю агрегированные кумулятивные по дням данные о заказах \n",
    "ordersAggregated = (\n",
    "    datesGroups.apply(lambda x: orders[np.logical_and\n",
    "                                       (orders['date'] <= x['date'],orders['group'] == x['group'])]\n",
    "                                        .agg({'date' : 'max', 'group' : 'max', 'transactionid' : 'nunique'\n",
    "                                        , 'visitorid' : 'nunique', 'revenue' : 'sum'}), axis=1)\n",
    "                                        .sort_values(by=['date','group'])\n",
    ")\n",
    "\n",
    "# получаю агрегированные кумулятивные по дням данные о посетителях интернет-магазина \n",
    "visitorsAggregated = (\n",
    "    datesGroups.apply(lambda x: visitors[np.logical_and\n",
    "                                         (visitors['date'] <= x['date'],visitors['group'] == x['group'])]\n",
    "                                          .agg({'date' : 'max', 'group' : 'max', 'visitors' : 'sum'}), axis=1)\n",
    "                                          .sort_values(by=['date','group'])\n",
    ")\n",
    "\n",
    "# объединяю кумулятивные данные в одной таблице и присваиваем ее столбцам понятные названия\n",
    "cumulativeData = ordersAggregated.merge(visitorsAggregated, left_on=['date', 'group'], right_on=['date', 'group'])\n",
    "cumulativeData.columns = ['date', 'group', 'orders', 'buyers', 'revenue', 'visitors']\n",
    "\n",
    "cumulativeData.head(5)\n",
    "\n"
   ]
  },
  {
   "cell_type": "markdown",
   "metadata": {},
   "source": [
    "Необходимый для построения графиков датафрейм собран. Построю график кумулятивной выручки по группам."
   ]
  },
  {
   "cell_type": "code",
   "execution_count": 26,
   "metadata": {},
   "outputs": [
    {
     "data": {
      "image/png": "[encoded data removed]",
      "text/plain": [
       "<Figure size 1296x504 with 1 Axes>"
      ]
     },
     "metadata": {
      "needs_background": "light"
     },
     "output_type": "display_data"
    }
   ],
   "source": [
    "# датафрейм с кумулятивным количеством заказов и кумулятивной выручкой по дням в группе А\n",
    "cumulativeRevenueA = cumulativeData[cumulativeData['group']=='A'][['date','revenue', 'orders']]\n",
    "\n",
    "# датафрейм с кумулятивным количеством заказов и кумулятивной выручкой по дням в группе B\n",
    "cumulativeRevenueB = cumulativeData[cumulativeData['group']=='B'][['date','revenue', 'orders']]\n",
    "\n",
    "# Строим графики\n",
    "plt.figure(figsize=(18, 7))\n",
    "#  график выручки группы А\n",
    "plt.plot(cumulativeRevenueA['date'], cumulativeRevenueA['revenue'], 'o-', label='A')\n",
    "\n",
    "# график выручки группы B\n",
    "\n",
    "plt.plot(cumulativeRevenueB['date'], cumulativeRevenueB['revenue'], 'o-', label='B')\n",
    "\n",
    "\n",
    "plt.grid()\n",
    "plt.xticks(rotation=45)\n",
    "plt.xlabel('Дата проводиомого теста')\n",
    "plt.ylabel('Кумулятивная выручка')\n",
    "plt.title('График кумулятивной выручки по группам')\n",
    "plt.legend()\n",
    "plt.show();"
   ]
  },
  {
   "cell_type": "markdown",
   "metadata": {},
   "source": [
    "На графиках наблюдается постепенный и регулярный рост выручки, однако в середине графика по группе теста В наблюдается резкий скачок выручки. Ранее я уже определила, что в районе 19 числа был сделан сверхдорогой (аномальный) заказ. Вероятнее всего на графике кумулятивной выручки скачок связан именно с ним.\n"
   ]
  },
  {
   "cell_type": "markdown",
   "metadata": {},
   "source": [
    "### Кумулятивный средний чек"
   ]
  },
  {
   "cell_type": "code",
   "execution_count": 27,
   "metadata": {},
   "outputs": [
    {
     "data": {
      "image/png": "[encoded data removed]",
      "text/plain": [
       "<Figure size 1296x504 with 1 Axes>"
      ]
     },
     "metadata": {
      "needs_background": "light"
     },
     "output_type": "display_data"
    }
   ],
   "source": [
    "plt.figure(figsize=(18, 7))\n",
    "# график кумулятивного среднего чека по группе А\n",
    "plt.plot(cumulativeRevenueA['date'], cumulativeRevenueA['revenue']/cumulativeRevenueA['orders'], 'o-', label='A')\n",
    "\n",
    "# график кумулятивного среднего чека по группе В\n",
    "plt.plot(cumulativeRevenueB['date'], cumulativeRevenueB['revenue']/cumulativeRevenueB['orders'], 'o-', label='B')\n",
    "\n",
    "plt.grid()\n",
    "plt.xticks(rotation=45)\n",
    "plt.xlabel('Дата проводиомого теста')\n",
    "plt.ylabel('Кумулятивный средний чек')\n",
    "plt.title('График кумулятивного среднего чека по группам')\n",
    "plt.legend()\n",
    "plt.show();"
   ]
  },
  {
   "cell_type": "markdown",
   "metadata": {},
   "source": [
    "**Группа А**\n",
    "\n",
    "Начиная с 13 числа,средний чек по группе А держится на одном уровне, примерно 7000 у.е. При этом с 1 по 6 наблюдается снижение размера среднего чека. После 6 числа стабильный рост и выравнивание на отметке +-7000 от 18 числа и до конца теста.\n",
    "\n",
    "**Группа В**\n",
    "\n",
    "В самом начале графика реский рост размера среднего чека. После 9 числа заметен \"ломаный\" рост до 18-го и 19-го резкий взлет значения среднего чека. После 19 наблюдается плавное снижение. В данном случае, предполагаю, скачок связан с заказам на 1,2 млн. у.е."
   ]
  },
  {
   "cell_type": "markdown",
   "metadata": {},
   "source": [
    "### Относительное изменение кумулятивного среднего чека группы B к группе A"
   ]
  },
  {
   "cell_type": "code",
   "execution_count": 28,
   "metadata": {},
   "outputs": [
    {
     "data": {
      "image/png": "[encoded data removed]",
      "text/plain": [
       "<Figure size 1296x576 with 1 Axes>"
      ]
     },
     "metadata": {
      "needs_background": "light"
     },
     "output_type": "display_data"
    }
   ],
   "source": [
    "# собираю данные в одном датафрейме\n",
    "mergedCumulativeRevenue = cumulativeRevenueA.merge(cumulativeRevenueB, left_on='date', right_on='date', how='left', suffixes=['A', 'B'])\n",
    "\n",
    "# cтрою отношение средних чеков\n",
    "plt.figure(figsize=(18, 8))\n",
    "plt.plot(mergedCumulativeRevenue['date']\n",
    "         , ((mergedCumulativeRevenue['revenueB']/mergedCumulativeRevenue['ordersB'])\n",
    "         /(mergedCumulativeRevenue['revenueA']/mergedCumulativeRevenue['ordersA'])-1) * 100, 'o-')\n",
    "\n",
    "# добавляем ось X\n",
    "plt.axhline(y=0, color='black', linestyle='--') \n",
    "\n",
    "plt.grid()\n",
    "plt.xticks(rotation=45)\n",
    "plt.xlabel('Дата проводиомого теста')\n",
    "plt.ylabel('Изменение, %')\n",
    "plt.title('Относительное изменение кумулятивного среднего чека группы B к группе A')\n",
    "plt.show();"
   ]
  },
  {
   "cell_type": "markdown",
   "metadata": {},
   "source": [
    "Резкие скачки говорят о наличии выбросов, таких, как заказ, оформленный 19-го числа пользователем, включенным в группу В. После данного скачка, кумулятивный средний чек по группе В выше, чем по группе А почти на 40%."
   ]
  },
  {
   "cell_type": "markdown",
   "metadata": {},
   "source": [
    "### Кумулятивная конверсия по группам"
   ]
  },
  {
   "cell_type": "code",
   "execution_count": 29,
   "metadata": {},
   "outputs": [
    {
     "data": {
      "image/png": "[encoded data removed]",
      "text/plain": [
       "<Figure size 1296x576 with 1 Axes>"
      ]
     },
     "metadata": {
      "needs_background": "light"
     },
     "output_type": "display_data"
    }
   ],
   "source": [
    "# расчет кумулятивной конверсии\n",
    "cumulativeData['conversion'] = cumulativeData['orders']/cumulativeData['visitors']\n",
    "\n",
    "# отделяю данные по группе A\n",
    "cumulativeDataA = cumulativeData[cumulativeData['group']=='A']\n",
    "\n",
    "# отделяю данные по группе B\n",
    "cumulativeDataB = cumulativeData[cumulativeData['group']=='B']\n",
    "\n",
    "# строю графики\n",
    "plt.figure(figsize=(18, 8))\n",
    "plt.plot(cumulativeDataA['date'], cumulativeDataA['conversion'], 'o-', label='A')\n",
    "plt.plot(cumulativeDataB['date'], cumulativeDataB['conversion'], 'o-', label='B')\n",
    "\n",
    "plt.grid()\n",
    "plt.xticks(rotation=45)\n",
    "plt.xlabel('Дата проводимого теста')\n",
    "plt.ylabel('Конверсия')\n",
    "plt.title('График кумулятивной конверсии')\n",
    "plt.legend()\n",
    "plt.show();"
   ]
  },
  {
   "cell_type": "markdown",
   "metadata": {},
   "source": [
    "Несмотря на скачки в первые дни теста и явное преимущество конверсии группы А перед группой В примерно к 9-му числу она выровнялась и уже до самого конца теста конверсия по группе В была выше конверсии по группе А."
   ]
  },
  {
   "cell_type": "markdown",
   "metadata": {},
   "source": [
    "### Относительное изменение кумулятивной конверсии группы B к группе A"
   ]
  },
  {
   "cell_type": "code",
   "execution_count": 30,
   "metadata": {},
   "outputs": [
    {
     "data": {
      "image/png": "[encoded data removed]",
      "text/plain": [
       "<Figure size 1296x576 with 1 Axes>"
      ]
     },
     "metadata": {
      "needs_background": "light"
     },
     "output_type": "display_data"
    }
   ],
   "source": [
    "mergedCumulativeConversions = cumulativeDataA[['date','conversion']].merge(cumulativeDataB[['date','conversion']]\n",
    "                                                                           , left_on='date'\n",
    "                                                                           , right_on='date'\n",
    "                                                                           , how='left'\n",
    "                                                                           , suffixes=['A', 'B'])\n",
    "plt.figure(figsize=(18, 8))\n",
    "plt.plot(mergedCumulativeConversions['date'], (mergedCumulativeConversions['conversionB']\n",
    "         /mergedCumulativeConversions['conversionA']-1)*100, 'o-'\n",
    "         , label=\"Относительный прирост конверсии группы B относительно группы A\")\n",
    "\n",
    "plt.grid()\n",
    "plt.xticks(rotation=45)\n",
    "plt.xlabel('Дата проводимого теста')\n",
    "plt.ylabel('Изменение, %')\n",
    "plt.title('График относительного изменения кумулятивной конверсии группы B к группе A')\n",
    "plt.legend()\n",
    "\n",
    "plt.axhline(y=0, color='black', linestyle='--')\n",
    "plt.axhline(y=-0.1, color='grey', linestyle='--')\n",
    "plt.show();"
   ]
  },
  {
   "cell_type": "markdown",
   "metadata": {},
   "source": [
    "Как видно на графике относительного изменения кумулятивной конверсии, в самом начале конверсия группы B (несмотря на скачок 2го числа) проигрывала конверсии группы А. Уже после 6го числа конверсия по группе В стала показывать стабильный рост, обойдя конверсию группы А, и примерно с 14 числа выровнялась и показывала стабильно лучший показатель. Превосходство над конверсией по группе А примерно 12-19%."
   ]
  },
  {
   "cell_type": "markdown",
   "metadata": {},
   "source": [
    "### Количества заказов по пользователям"
   ]
  },
  {
   "cell_type": "code",
   "execution_count": 31,
   "metadata": {},
   "outputs": [
    {
     "data": {
      "text/html": [
       "<div>\n",
       "<style scoped>\n",
       "    .dataframe tbody tr th:only-of-type {\n",
       "        vertical-align: middle;\n",
       "    }\n",
       "\n",
       "    .dataframe tbody tr th {\n",
       "        vertical-align: top;\n",
       "    }\n",
       "\n",
       "    .dataframe thead th {\n",
       "        text-align: right;\n",
       "    }\n",
       "</style>\n",
       "<table border=\"1\" class=\"dataframe\">\n",
       "  <thead>\n",
       "    <tr style=\"text-align: right;\">\n",
       "      <th></th>\n",
       "      <th>user_id</th>\n",
       "      <th>orders</th>\n",
       "    </tr>\n",
       "  </thead>\n",
       "  <tbody>\n",
       "    <tr>\n",
       "      <th>908</th>\n",
       "      <td>3967698036</td>\n",
       "      <td>3</td>\n",
       "    </tr>\n",
       "    <tr>\n",
       "      <th>55</th>\n",
       "      <td>249864742</td>\n",
       "      <td>3</td>\n",
       "    </tr>\n",
       "    <tr>\n",
       "      <th>478</th>\n",
       "      <td>2108163459</td>\n",
       "      <td>3</td>\n",
       "    </tr>\n",
       "    <tr>\n",
       "      <th>687</th>\n",
       "      <td>2988190573</td>\n",
       "      <td>3</td>\n",
       "    </tr>\n",
       "    <tr>\n",
       "      <th>890</th>\n",
       "      <td>3908431265</td>\n",
       "      <td>3</td>\n",
       "    </tr>\n",
       "    <tr>\n",
       "      <th>138</th>\n",
       "      <td>611059232</td>\n",
       "      <td>3</td>\n",
       "    </tr>\n",
       "    <tr>\n",
       "      <th>632</th>\n",
       "      <td>2742574263</td>\n",
       "      <td>3</td>\n",
       "    </tr>\n",
       "    <tr>\n",
       "      <th>157</th>\n",
       "      <td>678354126</td>\n",
       "      <td>2</td>\n",
       "    </tr>\n",
       "    <tr>\n",
       "      <th>323</th>\n",
       "      <td>1404560065</td>\n",
       "      <td>2</td>\n",
       "    </tr>\n",
       "    <tr>\n",
       "      <th>452</th>\n",
       "      <td>1985475298</td>\n",
       "      <td>2</td>\n",
       "    </tr>\n",
       "  </tbody>\n",
       "</table>\n",
       "</div>"
      ],
      "text/plain": [
       "        user_id  orders\n",
       "908  3967698036       3\n",
       "55    249864742       3\n",
       "478  2108163459       3\n",
       "687  2988190573       3\n",
       "890  3908431265       3\n",
       "138   611059232       3\n",
       "632  2742574263       3\n",
       "157   678354126       2\n",
       "323  1404560065       2\n",
       "452  1985475298       2"
      ]
     },
     "execution_count": 31,
     "metadata": {},
     "output_type": "execute_result"
    }
   ],
   "source": [
    "ordersByUsers = (\n",
    "    orders.groupby('visitorid', as_index=False)\n",
    "    .agg({'transactionid': 'nunique'})\n",
    ")\n",
    "\n",
    "ordersByUsers.columns = ['user_id', 'orders']\n",
    "\n",
    "ordersByUsers.sort_values(by='orders', ascending=False).head(10)"
   ]
  },
  {
   "cell_type": "markdown",
   "metadata": {},
   "source": [
    "_Максимальное число заказов на 1 пользователя_ - 3. Таких пользователей всего 7. \n",
    "\n",
    "Для того чтобы лучше понимать самое популярное число заказов на 1 пользователя, построю гистограмму.\n",
    "\n"
   ]
  },
  {
   "cell_type": "code",
   "execution_count": 32,
   "metadata": {},
   "outputs": [
    {
     "data": {
      "image/png": "[encoded data removed]",
      "text/plain": [
       "<Figure size 720x576 with 1 Axes>"
      ]
     },
     "metadata": {
      "needs_background": "light"
     },
     "output_type": "display_data"
    }
   ],
   "source": [
    "plt.figure(figsize=(10, 8))\n",
    "plt.hist(ordersByUsers['orders'], color='MediumPurple')\n",
    "\n",
    "plt.grid()\n",
    "plt.xticks([1, 2, 3])\n",
    "plt.yticks([0, 25, 50, 100, 200, 300, 400, 500, 600, 700, 800, 900, 1000])\n",
    "plt.xlabel('Число заказов')\n",
    "plt.ylabel('Пользователи')\n",
    "plt.title('Гистограмма числа заказов на 1 пользователя')\n",
    "plt.show(); "
   ]
  },
  {
   "cell_type": "markdown",
   "metadata": {},
   "source": [
    "- Свыше 900 пользователей за время теста сделали тольй 1 заказ\n",
    "- Примерно 25 пользователей сделали 2 заказа\n",
    "- 7 пользователей сделали 3 заказа.\n",
    "\n",
    "Изучу распределение числа заказов на точечном графике."
   ]
  },
  {
   "cell_type": "code",
   "execution_count": 33,
   "metadata": {},
   "outputs": [
    {
     "data": {
      "image/png": "[encoded data removed]",
      "text/plain": [
       "<Figure size 1224x360 with 1 Axes>"
      ]
     },
     "metadata": {
      "needs_background": "light"
     },
     "output_type": "display_data"
    }
   ],
   "source": [
    "x_values = pd.Series(range(0,len(ordersByUsers)))\n",
    "\n",
    "plt.figure(figsize=(17, 5))\n",
    "plt.scatter(x_values, ordersByUsers['orders'], color='MediumPurple', alpha=0.7)\n",
    "\n",
    "plt.grid()\n",
    "plt.yticks([1, 2, 3])\n",
    "plt.xlabel('Число пользователей')\n",
    "plt.ylabel('Число заказов')\n",
    "plt.title('График распределения числа заказов')\n",
    "plt.show(); "
   ]
  },
  {
   "cell_type": "markdown",
   "metadata": {},
   "source": [
    "График хорошо отображает распределение, визуально видно какую долю от общего числа занимают пользователи, совершившие по 2 или 3 заказа.\n",
    "\n",
    "Для того чтобы принять решение являются ли, выпадающие из общей массы пользователей, покупатели, совершившие по 2 и 3 покупки, аномалиями, необходимо посчитать перцентили количества заказов на пользователя."
   ]
  },
  {
   "cell_type": "markdown",
   "metadata": {},
   "source": [
    "### Перцентили количества заказов на пользователя"
   ]
  },
  {
   "cell_type": "code",
   "execution_count": 34,
   "metadata": {},
   "outputs": [
    {
     "name": "stdout",
     "output_type": "stream",
     "text": [
      "[1. 2.]\n"
     ]
    }
   ],
   "source": [
    "print(np.percentile(ordersByUsers['orders'], [95, 99])) "
   ]
  },
  {
   "cell_type": "markdown",
   "metadata": {},
   "source": [
    "Число пользователей, совершавших 2 заказа составляет не более 1%. На этом основании, пользователей, сделавших более 1 заказа, можно принять за аномалии."
   ]
  },
  {
   "cell_type": "markdown",
   "metadata": {},
   "source": [
    "### Распределение стоимостей заказов"
   ]
  },
  {
   "cell_type": "markdown",
   "metadata": {},
   "source": [
    "На этапе предобработки и знакомства с данными, я уже строила график подобный распределения стоимости заказов. Построю его еще раз, но уже после предобработки."
   ]
  },
  {
   "cell_type": "code",
   "execution_count": 35,
   "metadata": {},
   "outputs": [
    {
     "data": {
      "image/png": "[encoded data removed]",
      "text/plain": [
       "<Figure size 576x720 with 1 Axes>"
      ]
     },
     "metadata": {
      "needs_background": "light"
     },
     "output_type": "display_data"
    }
   ],
   "source": [
    "plt.figure(figsize=(8, 10))\n",
    "plt.hist(orders['revenue'], color='DeepSkyBlue')\n",
    "\n",
    "plt.grid()\n",
    "plt.xlabel('Стоимость заказов')\n",
    "plt.ylabel('Число пользователей')\n",
    "plt.title('Гистограмма числа стоимости заказов')\n",
    "plt.show(); "
   ]
  },
  {
   "cell_type": "markdown",
   "metadata": {},
   "source": [
    "Очень слабо и затруднительно, но все же можно увидеть, что есть 2 выбивающихся значения стоимости заказов.\n",
    "\n",
    "Построю точечный график распределения."
   ]
  },
  {
   "cell_type": "code",
   "execution_count": 36,
   "metadata": {},
   "outputs": [
    {
     "data": {
      "image/png": "[encoded data removed]",
      "text/plain": [
       "<Figure size 1224x360 with 1 Axes>"
      ]
     },
     "metadata": {
      "needs_background": "light"
     },
     "output_type": "display_data"
    }
   ],
   "source": [
    "x_values = pd.Series(range(0,len(orders)))\n",
    "\n",
    "plt.figure(figsize=(17, 5))\n",
    "plt.scatter(x_values, orders['revenue'], color='DeepSkyBlue', alpha=0.5)\n",
    "\n",
    "plt.grid()\n",
    "plt.xlabel('Число пользователей')\n",
    "plt.ylabel('Стоимость заказов, млн. у.е.')\n",
    "plt.title('График распределения стоимости заказов')\n",
    "plt.show(); "
   ]
  },
  {
   "cell_type": "code",
   "execution_count": 37,
   "metadata": {},
   "outputs": [
    {
     "data": {
      "image/png": "[encoded data removed]",
      "text/plain": [
       "<Figure size 1224x360 with 1 Axes>"
      ]
     },
     "metadata": {
      "needs_background": "light"
     },
     "output_type": "display_data"
    }
   ],
   "source": [
    "orders.query('revenue < 500000').plot(x = 'visitorid', y = 'revenue', style='o'\n",
    "                                      , color='DeepSkyBlue', figsize=(17, 5), alpha=0.5)\n",
    "\n",
    "plt.grid()\n",
    "plt.xlabel('Число пользователей')\n",
    "plt.ylabel('Стоимость заказов, млн. у.е.')\n",
    "plt.title('График распределения стоимости заказов (без выброса)')\n",
    "plt.show(); "
   ]
  },
  {
   "cell_type": "markdown",
   "metadata": {},
   "source": [
    "Заказ в 1,2 млн. у.е.так сильно повлияли на график, что, например, заказ стоимостью в 200 тыс. слился с остальными. Согласно приближенному графику, чаще всего совершают заказы примерно на 10 - 15 тысяч у.е.\n",
    "\n",
    "Как и в случае с числом заказов, для того чтобы принять уверенное решение об аномалиях в данных, необходимо посчитать перцентили."
   ]
  },
  {
   "cell_type": "markdown",
   "metadata": {},
   "source": [
    "### Перцентили стоимости заказов"
   ]
  },
  {
   "cell_type": "code",
   "execution_count": 38,
   "metadata": {},
   "outputs": [
    {
     "name": "stdout",
     "output_type": "stream",
     "text": [
      "[26785. 53904.]\n"
     ]
    }
   ],
   "source": [
    "print(np.percentile(orders['revenue'], [95, 99])) "
   ]
  },
  {
   "cell_type": "markdown",
   "metadata": {},
   "source": [
    "Менее 5% пользователей совершают заказы, стоимостью 26785 у.е. и выше. И всего 1% совершают заказы стоимостью 53904 у.е.\n",
    "Приму за нижнюю границу заказы стоимостью до 26 000 у.е. Все что выше - аномальные данные на выброс."
   ]
  },
  {
   "cell_type": "markdown",
   "metadata": {},
   "source": [
    "### Статистическая значимость различий в конверсии между группами по «сырым» данным"
   ]
  },
  {
   "cell_type": "markdown",
   "metadata": {},
   "source": [
    "Подготовка данных к исследованию."
   ]
  },
  {
   "cell_type": "code",
   "execution_count": 39,
   "metadata": {},
   "outputs": [],
   "source": [
    "# ПОСЕТИТЕЛИ\n",
    "\n",
    "# дневное число посетителей в группе А\n",
    "visitorsADaily = visitors[visitors['group'] == 'A'][['date', 'visitors']]\n",
    "visitorsADaily.columns = ['date', 'visitorsPerDateA']\n",
    "\n",
    "# дневное кумулятивное число посетителей в группе А\n",
    "visitorsACummulative = visitorsADaily.apply(\n",
    "    lambda x: visitorsADaily[visitorsADaily['date'] <= x['date']].agg(\n",
    "        {'date': 'max', 'visitorsPerDateA': 'sum'}\n",
    "    ),\n",
    "    axis=1,\n",
    ")\n",
    "\n",
    "# присвоение корректных названий столбцам\n",
    "visitorsACummulative.columns = ['date', 'visitorsCummulativeA']\n",
    "\n",
    "\n",
    "# дневное число посетителей в группе В\n",
    "visitorsBDaily = visitors[visitors['group'] == 'B'][['date', 'visitors']]\n",
    "visitorsBDaily.columns = ['date', 'visitorsPerDateB']\n",
    "\n",
    "# дневное кумулятивное число посетителей в группе В\n",
    "visitorsBCummulative = visitorsBDaily.apply(\n",
    "    lambda x: visitorsBDaily[visitorsBDaily['date'] <= x['date']].agg(\n",
    "        {'date': 'max', 'visitorsPerDateB': 'sum'}\n",
    "    ),\n",
    "    axis=1,\n",
    ")\n",
    "\n",
    "# присвоение корректных названий столбцам\n",
    "visitorsBCummulative.columns = ['date', 'visitorsCummulativeB']"
   ]
  },
  {
   "cell_type": "code",
   "execution_count": 40,
   "metadata": {},
   "outputs": [],
   "source": [
    "# ЗАКАЗЫ\n",
    "\n",
    "# дневное число заказов в группе А\n",
    "ordersADaily = (\n",
    "    orders[orders['group'] == 'A'][['date', 'transactionid', 'visitorid', 'revenue']]\n",
    "    .groupby('date', as_index=False)\n",
    "    .agg({'transactionid': pd.Series.nunique, 'revenue': 'sum'})\n",
    ")\n",
    "\n",
    "# присвоение наименований столбцам\n",
    "ordersADaily.columns = ['date', 'ordersPerDateA', 'revenuePerDateA']\n",
    "\n",
    "# кумулятивное число заказов в группе А\n",
    "ordersACummulative = ordersADaily.apply(\n",
    "    lambda x: ordersADaily[ordersADaily['date'] <= x['date']].agg(\n",
    "        {'date': 'max', 'ordersPerDateA': 'sum', 'revenuePerDateA': 'sum'}\n",
    "    ),\n",
    "    axis=1,\n",
    ").sort_values(by=['date'])\n",
    "\n",
    "# присвоение наименований столбцам\n",
    "ordersACummulative.columns = ['date','ordersCummulativeA', 'revenueCummulativeA']\n",
    "\n",
    "# дневное число заказов в группе В\n",
    "ordersBDaily = (\n",
    "    orders[orders['group'] == 'B'][['date', 'transactionid', 'visitorid', 'revenue']]\n",
    "    .groupby('date', as_index=False)\n",
    "    .agg({'transactionid': pd.Series.nunique, 'revenue': 'sum'})\n",
    ")\n",
    "\n",
    "# присвоение названий столбцам\n",
    "ordersBDaily.columns = ['date', 'ordersPerDateB', 'revenuePerDateB']\n",
    "\n",
    "# кумулятивное число заказов в группе В\n",
    "ordersBCummulative = ordersBDaily.apply(\n",
    "    lambda x: ordersBDaily[ordersBDaily['date'] <= x['date']].agg(\n",
    "        {'date': 'max', 'ordersPerDateB': 'sum', 'revenuePerDateB': 'sum'}\n",
    "    ),\n",
    "    axis=1,\n",
    ").sort_values(by=['date'])\n",
    "\n",
    "# присвоение наименований столбцам\n",
    "ordersBCummulative.columns = ['date', 'ordersCummulativeB', 'revenueCummulativeB']"
   ]
  },
  {
   "cell_type": "code",
   "execution_count": 41,
   "metadata": {},
   "outputs": [
    {
     "data": {
      "text/html": [
       "<div>\n",
       "<style scoped>\n",
       "    .dataframe tbody tr th:only-of-type {\n",
       "        vertical-align: middle;\n",
       "    }\n",
       "\n",
       "    .dataframe tbody tr th {\n",
       "        vertical-align: top;\n",
       "    }\n",
       "\n",
       "    .dataframe thead th {\n",
       "        text-align: right;\n",
       "    }\n",
       "</style>\n",
       "<table border=\"1\" class=\"dataframe\">\n",
       "  <thead>\n",
       "    <tr style=\"text-align: right;\">\n",
       "      <th></th>\n",
       "      <th>date</th>\n",
       "      <th>ordersPerDateA</th>\n",
       "      <th>revenuePerDateA</th>\n",
       "      <th>ordersPerDateB</th>\n",
       "      <th>revenuePerDateB</th>\n",
       "      <th>ordersCummulativeA</th>\n",
       "      <th>revenueCummulativeA</th>\n",
       "      <th>ordersCummulativeB</th>\n",
       "      <th>revenueCummulativeB</th>\n",
       "      <th>visitorsPerDateA</th>\n",
       "      <th>visitorsPerDateB</th>\n",
       "      <th>visitorsCummulativeA</th>\n",
       "      <th>visitorsCummulativeB</th>\n",
       "    </tr>\n",
       "  </thead>\n",
       "  <tbody>\n",
       "    <tr>\n",
       "      <th>0</th>\n",
       "      <td>2019-08-01</td>\n",
       "      <td>23</td>\n",
       "      <td>142779</td>\n",
       "      <td>17</td>\n",
       "      <td>59758</td>\n",
       "      <td>23</td>\n",
       "      <td>142779</td>\n",
       "      <td>17</td>\n",
       "      <td>59758</td>\n",
       "      <td>719</td>\n",
       "      <td>713</td>\n",
       "      <td>719</td>\n",
       "      <td>713</td>\n",
       "    </tr>\n",
       "    <tr>\n",
       "      <th>1</th>\n",
       "      <td>2019-08-02</td>\n",
       "      <td>19</td>\n",
       "      <td>91602</td>\n",
       "      <td>23</td>\n",
       "      <td>162043</td>\n",
       "      <td>42</td>\n",
       "      <td>234381</td>\n",
       "      <td>40</td>\n",
       "      <td>221801</td>\n",
       "      <td>619</td>\n",
       "      <td>581</td>\n",
       "      <td>1338</td>\n",
       "      <td>1294</td>\n",
       "    </tr>\n",
       "    <tr>\n",
       "      <th>2</th>\n",
       "      <td>2019-08-03</td>\n",
       "      <td>24</td>\n",
       "      <td>112473</td>\n",
       "      <td>14</td>\n",
       "      <td>67049</td>\n",
       "      <td>66</td>\n",
       "      <td>346854</td>\n",
       "      <td>54</td>\n",
       "      <td>288850</td>\n",
       "      <td>507</td>\n",
       "      <td>509</td>\n",
       "      <td>1845</td>\n",
       "      <td>1803</td>\n",
       "    </tr>\n",
       "    <tr>\n",
       "      <th>3</th>\n",
       "      <td>2019-08-04</td>\n",
       "      <td>11</td>\n",
       "      <td>41176</td>\n",
       "      <td>14</td>\n",
       "      <td>96890</td>\n",
       "      <td>77</td>\n",
       "      <td>388030</td>\n",
       "      <td>68</td>\n",
       "      <td>385740</td>\n",
       "      <td>717</td>\n",
       "      <td>770</td>\n",
       "      <td>2562</td>\n",
       "      <td>2573</td>\n",
       "    </tr>\n",
       "    <tr>\n",
       "      <th>4</th>\n",
       "      <td>2019-08-05</td>\n",
       "      <td>22</td>\n",
       "      <td>86383</td>\n",
       "      <td>21</td>\n",
       "      <td>89908</td>\n",
       "      <td>99</td>\n",
       "      <td>474413</td>\n",
       "      <td>89</td>\n",
       "      <td>475648</td>\n",
       "      <td>756</td>\n",
       "      <td>707</td>\n",
       "      <td>3318</td>\n",
       "      <td>3280</td>\n",
       "    </tr>\n",
       "  </tbody>\n",
       "</table>\n",
       "</div>"
      ],
      "text/plain": [
       "        date  ordersPerDateA  revenuePerDateA  ordersPerDateB  \\\n",
       "0 2019-08-01              23           142779              17   \n",
       "1 2019-08-02              19            91602              23   \n",
       "2 2019-08-03              24           112473              14   \n",
       "3 2019-08-04              11            41176              14   \n",
       "4 2019-08-05              22            86383              21   \n",
       "\n",
       "   revenuePerDateB  ordersCummulativeA  revenueCummulativeA  \\\n",
       "0            59758                  23               142779   \n",
       "1           162043                  42               234381   \n",
       "2            67049                  66               346854   \n",
       "3            96890                  77               388030   \n",
       "4            89908                  99               474413   \n",
       "\n",
       "   ordersCummulativeB  revenueCummulativeB  visitorsPerDateA  \\\n",
       "0                  17                59758               719   \n",
       "1                  40               221801               619   \n",
       "2                  54               288850               507   \n",
       "3                  68               385740               717   \n",
       "4                  89               475648               756   \n",
       "\n",
       "   visitorsPerDateB  visitorsCummulativeA  visitorsCummulativeB  \n",
       "0               713                   719                   713  \n",
       "1               581                  1338                  1294  \n",
       "2               509                  1845                  1803  \n",
       "3               770                  2562                  2573  \n",
       "4               707                  3318                  3280  "
      ]
     },
     "execution_count": 41,
     "metadata": {},
     "output_type": "execute_result"
    }
   ],
   "source": [
    "# Формирование данных для исследования\n",
    "data = (\n",
    "    ordersADaily.merge(\n",
    "        ordersBDaily, left_on='date', right_on='date', how='left'\n",
    "    )\n",
    "    .merge(ordersACummulative, left_on='date', right_on='date', how='left')\n",
    "    .merge(ordersBCummulative, left_on='date', right_on='date', how='left')\n",
    "    .merge(visitorsADaily, left_on='date', right_on='date', how='left')\n",
    "    .merge(visitorsBDaily, left_on='date', right_on='date', how='left')\n",
    "    .merge(visitorsACummulative, left_on='date', right_on='date', how='left')\n",
    "    .merge(visitorsBCummulative, left_on='date', right_on='date', how='left')\n",
    ")\n",
    "\n",
    "data.head(5)"
   ]
  },
  {
   "cell_type": "markdown",
   "metadata": {},
   "source": [
    "Получившаяся таблица имеет следующие столбцы:\n",
    "- date — дата;\n",
    "- ordersPerDateA — количество заказов в выбранную дату в группе A;\n",
    "- revenuePerDateA — суммарная выручка в выбранную дату в группе A;\n",
    "- ordersPerDateB — количество заказов в выбранную дату в группе B;\n",
    "- revenuePerDateB — суммарная выручка в выбранную дату в группе B;\n",
    "- ordersCummulativeA — суммарное число заказов до выбранной даты включительно в группе A;\n",
    "- revenueCummulativeA — суммарная выручка до выбранной даты включительно в группе A;\n",
    "- ordersCummulativeB — суммарное количество заказов до выбранной даты включительно в группе B;\n",
    "- revenueCummulativeB — суммарная выручка до выбранной даты включительно в группе B;\n",
    "- visitorsPerDateA — количество пользователей в выбранную дату в группе A;\n",
    "- visitorsPerDateB — количество пользователей в выбранную дату в группе B;\n",
    "- visitorsCummulativeA — количество пользователей до выбранной даты включительно в группе A;\n",
    "- visitorsCummulativeB — количество пользователей до выбранной даты включительно в группе B."
   ]
  },
  {
   "cell_type": "markdown",
   "metadata": {},
   "source": [
    "Далее, для того чтобы посчитать статистическую значимость различия в среднем количестве заказов между группами, создам переменные ordersByUsersA и ordersByUsersB со столбцами `['user_id', 'orders']`. В них для пользователей, которые заказывали хотя бы 1 раз, будет указано число совершённых заказов в каждой из групп."
   ]
  },
  {
   "cell_type": "code",
   "execution_count": 42,
   "metadata": {},
   "outputs": [
    {
     "data": {
      "text/html": [
       "<div>\n",
       "<style scoped>\n",
       "    .dataframe tbody tr th:only-of-type {\n",
       "        vertical-align: middle;\n",
       "    }\n",
       "\n",
       "    .dataframe tbody tr th {\n",
       "        vertical-align: top;\n",
       "    }\n",
       "\n",
       "    .dataframe thead th {\n",
       "        text-align: right;\n",
       "    }\n",
       "</style>\n",
       "<table border=\"1\" class=\"dataframe\">\n",
       "  <thead>\n",
       "    <tr style=\"text-align: right;\">\n",
       "      <th></th>\n",
       "      <th>user_id</th>\n",
       "      <th>orders</th>\n",
       "    </tr>\n",
       "  </thead>\n",
       "  <tbody>\n",
       "    <tr>\n",
       "      <th>0</th>\n",
       "      <td>5114589</td>\n",
       "      <td>1</td>\n",
       "    </tr>\n",
       "    <tr>\n",
       "      <th>1</th>\n",
       "      <td>6958315</td>\n",
       "      <td>1</td>\n",
       "    </tr>\n",
       "    <tr>\n",
       "      <th>2</th>\n",
       "      <td>39475350</td>\n",
       "      <td>1</td>\n",
       "    </tr>\n",
       "    <tr>\n",
       "      <th>3</th>\n",
       "      <td>47206413</td>\n",
       "      <td>1</td>\n",
       "    </tr>\n",
       "    <tr>\n",
       "      <th>4</th>\n",
       "      <td>48147722</td>\n",
       "      <td>1</td>\n",
       "    </tr>\n",
       "  </tbody>\n",
       "</table>\n",
       "</div>"
      ],
      "text/plain": [
       "    user_id  orders\n",
       "0   5114589       1\n",
       "1   6958315       1\n",
       "2  39475350       1\n",
       "3  47206413       1\n",
       "4  48147722       1"
      ]
     },
     "execution_count": 42,
     "metadata": {},
     "output_type": "execute_result"
    }
   ],
   "source": [
    "ordersByUsersA = (\n",
    "    orders[orders['group'] == 'A']\n",
    "    .groupby('visitorid', as_index=False)\n",
    "    .agg({'transactionid': pd.Series.nunique})\n",
    ")\n",
    "ordersByUsersA.columns = ['user_id', 'orders']\n",
    "\n",
    "ordersByUsersB = (\n",
    "    orders[orders['group'] == 'B']\n",
    "    .groupby('visitorid', as_index=False)\n",
    "    .agg({'transactionid': pd.Series.nunique})\n",
    ")\n",
    "\n",
    "ordersByUsersB.columns = ['user_id', 'orders'] \n",
    "\n",
    "ordersByUsersB.head()"
   ]
  },
  {
   "cell_type": "markdown",
   "metadata": {},
   "source": [
    "Готово. \n",
    "\n",
    "Далее необходимо объвить переменные `sampleA` и `sampleB`, в которых пользователям из разных групп будет соответствовать количество заказов. Тем, кто ничего не заказал, будут соответствовать нули. Это нужно, чтобы выполненить проверку критерием Манна-Уитни.\n",
    "\n",
    "При проведении проверки критерием Манна-Уитни буду использовать уровень статистической значимости 0.05.\n",
    "\n",
    "Сформирую нулевые гипотезы, которые необходимо подтвердить или опровергнуть (гипотезы сформированы от равенства):\n",
    "1. Различий между конверсиями в группах А и В нет.\n",
    "2. Разницы между размерами средних чекаов в группах А и В нет.\n",
    "\n",
    "Альтернативные гипотезы звучат так:\n",
    "1. Конверсии групп А и В различны.\n",
    "2. Средний чек в группах А и В различны.\n"
   ]
  },
  {
   "cell_type": "code",
   "execution_count": 43,
   "metadata": {},
   "outputs": [
    {
     "name": "stdout",
     "output_type": "stream",
     "text": [
      "0.011\n",
      "0.160\n"
     ]
    }
   ],
   "source": [
    "[ordersByUsersA['orders'],pd.Series(0\n",
    "                                    , index=np.arange(data['visitorsPerDateA']\n",
    "                                                      .sum() - len(ordersByUsersA['orders'])), name='orders')] \n",
    "\n",
    "sampleA = pd.concat([ordersByUsersA['orders']\n",
    "                     ,pd.Series(0, index=np.arange(data['visitorsPerDateA']\n",
    "                                                   .sum() - len(ordersByUsersA['orders'])), name='orders')],axis=0)\n",
    "\n",
    "sampleB = pd.concat([ordersByUsersB['orders']\n",
    "                     ,pd.Series(0, index=np.arange(data['visitorsPerDateB']\n",
    "                                                   .sum() - len(ordersByUsersB['orders'])), name='orders')],axis=0)\n",
    "\n",
    "print(\"{0:.3f}\".format(stats.mannwhitneyu(sampleA, sampleB)[1]))\n",
    "\n",
    "print(\"{0:.3f}\".format(sampleB.mean() / sampleA.mean() - 1))"
   ]
  },
  {
   "cell_type": "markdown",
   "metadata": {},
   "source": [
    "**Промежуточный вывод**\n",
    "<div style=\"border:solid DeepSkyBlue 0.5px; padding: 10px\">\n",
    "\n",
    "По «сырым» данным различия в среднем числе заказов групп A и B есть.\n",
    "Первое число — p-value = 0.011 меньше 0.05. Значит, нулевую гипотезу о том, что статистически значимых различий в среднем числе заказов между группами нет, _отвергаем_. \n",
    "\n",
    "Также, согласно сырым данным, конверсия группы В больше конверсии по группе А на 16%."
   ]
  },
  {
   "cell_type": "markdown",
   "metadata": {},
   "source": [
    "### Статистическая значимость различий в среднем чеке заказа между группами по «сырым» данным"
   ]
  },
  {
   "cell_type": "code",
   "execution_count": 44,
   "metadata": {},
   "outputs": [
    {
     "name": "stdout",
     "output_type": "stream",
     "text": [
      "0.829\n",
      "0.287\n"
     ]
    }
   ],
   "source": [
    "print('{0:.3f}'.format(stats.mannwhitneyu(orders[orders['group']=='A']['revenue']\n",
    "                                          , orders[orders['group']=='B']['revenue'])[1]))\n",
    "\n",
    "print('{0:.3f}'.format(orders[orders['group']=='B']['revenue'].mean()\n",
    "                       /orders[orders['group']=='A']['revenue'].mean()-1)) "
   ]
  },
  {
   "cell_type": "markdown",
   "metadata": {},
   "source": [
    "**Промежуточный вывод**\n",
    "<div style=\"border:solid DeepSkyBlue 0.5px; padding: 10px\">\n",
    "\n",
    "P-value значительно больше 0.05 и составляет 0.829. Это говорит о том, что  причин отвергать нулевую гипотезу и считать, что в среднем чеке есть различия, нет. Но при этом, средний чек по группе В выше, чем средний чек по группе А почти на 29%.\n",
    "\n",
    "Для того чтобы лучше понимать полученные результаты теста, нужно повторить расчеты по данным, очищенным от выбросов."
   ]
  },
  {
   "cell_type": "markdown",
   "metadata": {},
   "source": [
    "### Статистическая значимость различий в конверсии между группами по «очищенным» данным"
   ]
  },
  {
   "cell_type": "markdown",
   "metadata": {},
   "source": [
    "Ранее, в ходе исследования, я определила нижние границы \"хороших\" данных:\n",
    "- пользователи выболнившие **_не более 1 заказа_**, то есть меньше 2 заказов\n",
    "- заказы стоимостью **_не более 26 000 у.е._**"
   ]
  },
  {
   "cell_type": "code",
   "execution_count": 45,
   "metadata": {},
   "outputs": [
    {
     "data": {
      "text/plain": [
       "568     113298937\n",
       "1099    148427295\n",
       "461     154576532\n",
       "928     204675465\n",
       "33      249864742\n",
       "dtype: int64"
      ]
     },
     "metadata": {},
     "output_type": "display_data"
    },
    {
     "name": "stdout",
     "output_type": "stream",
     "text": [
      "61\n"
     ]
    }
   ],
   "source": [
    "usersWithManyOrders = pd.concat(\n",
    "    [\n",
    "        ordersByUsersA[ordersByUsersA['orders'] > 2]['user_id'],\n",
    "        ordersByUsersB[ordersByUsersB['orders'] > 2]['user_id'],\n",
    "    ],\n",
    "    axis=0,\n",
    ")\n",
    "usersWithExpensiveOrders = orders[orders['revenue'] > 26000]['visitorid']\n",
    "abnormalUsers = (\n",
    "    pd.concat([usersWithManyOrders, usersWithExpensiveOrders], axis=0)\n",
    "    .drop_duplicates()\n",
    "    .sort_values()\n",
    ")\n",
    "\n",
    "display(abnormalUsers.head(5))\n",
    "print(abnormalUsers.shape[0]) "
   ]
  },
  {
   "cell_type": "markdown",
   "metadata": {},
   "source": [
    "Всего в данных 61 аномалия - менее 1%, казалось бы немного, но тот же же заказ на 1,2 млн. сильно влиял на ранее выполненные расчеты. Теперь можно проверить, как выбросы действиетльно повлияли на статистические значимости.\n",
    "\n",
    "Как и в этапе ранее, необходимо подготовить выборки по группам теста, но уже с очищенными данными. Выборки задам в переменных `sampleAFiltered` и `sampleBFiltered`."
   ]
  },
  {
   "cell_type": "code",
   "execution_count": 46,
   "metadata": {},
   "outputs": [],
   "source": [
    "sampleAFiltered = pd.concat(\n",
    "    [\n",
    "        ordersByUsersA[\n",
    "            np.logical_not(ordersByUsersA['user_id'].isin(abnormalUsers))\n",
    "        ]['orders'],\n",
    "        pd.Series(\n",
    "            0,\n",
    "            index=np.arange(\n",
    "                data['visitorsPerDateA'].sum() - len(ordersByUsersA['orders'])\n",
    "            ),\n",
    "            name='orders',\n",
    "        ),\n",
    "    ],\n",
    "    axis=0,\n",
    ")\n",
    "\n",
    "sampleBFiltered = pd.concat(\n",
    "    [\n",
    "        ordersByUsersB[\n",
    "            np.logical_not(ordersByUsersB['user_id'].isin(abnormalUsers))\n",
    "        ]['orders'],\n",
    "        pd.Series(\n",
    "            0,\n",
    "            index=np.arange(\n",
    "                data['visitorsPerDateB'].sum() - len(ordersByUsersB['orders'])\n",
    "            ),\n",
    "            name='orders',\n",
    "        ),\n",
    "    ],\n",
    "    axis=0,\n",
    ")"
   ]
  },
  {
   "cell_type": "markdown",
   "metadata": {},
   "source": [
    "Теперь можно применить к выборкам статистический критерий Манна-Уитни."
   ]
  },
  {
   "cell_type": "code",
   "execution_count": 47,
   "metadata": {},
   "outputs": [
    {
     "name": "stdout",
     "output_type": "stream",
     "text": [
      "0.013\n",
      "0.180\n"
     ]
    }
   ],
   "source": [
    "print('{0:.3f}'.format(stats.mannwhitneyu(sampleAFiltered, sampleBFiltered)[1]))\n",
    "print('{0:.3f}'.format(sampleBFiltered.mean()/sampleAFiltered.mean()-1)) "
   ]
  },
  {
   "cell_type": "markdown",
   "metadata": {},
   "source": [
    "**Промежуточный вывод**\n",
    "<div style=\"border:solid DeepSkyBlue 0.5px; padding: 10px\">\n",
    "    \n",
    "Ощутимых изменений нет. p-value все еще меньше 0.05, следовательно и в этот раз нулевую гипотезу о том, что статистически значимых различий в среднем числе заказов между группами нет, _отвергаем_. \n",
    "\n",
    "А по очищенным данным конверсия группы В еще больше больше конверсии по группе А - в этот раз уже на 18%."
   ]
  },
  {
   "cell_type": "markdown",
   "metadata": {},
   "source": [
    "### Статистическая значимость различий в среднем чеке заказа между группами по «очищенным» данным"
   ]
  },
  {
   "cell_type": "code",
   "execution_count": 48,
   "metadata": {},
   "outputs": [
    {
     "name": "stdout",
     "output_type": "stream",
     "text": [
      "0.615\n",
      "-0.056\n"
     ]
    }
   ],
   "source": [
    "print(\n",
    "    '{0:.3f}'.format(\n",
    "        stats.mannwhitneyu(\n",
    "            orders[\n",
    "                np.logical_and(\n",
    "                    orders['group'] == 'A',\n",
    "                    np.logical_not(orders['visitorid'].isin(abnormalUsers)),\n",
    "                )\n",
    "            ]['revenue'],\n",
    "            orders[\n",
    "                np.logical_and(\n",
    "                    orders['group'] == 'B',\n",
    "                    np.logical_not(orders['visitorid'].isin(abnormalUsers)),\n",
    "                )\n",
    "            ]['revenue'],\n",
    "        )[1]\n",
    "    )\n",
    ")\n",
    "\n",
    "print(\n",
    "    \"{0:.3f}\".format(\n",
    "        orders[\n",
    "            np.logical_and(\n",
    "                orders['group'] == 'B',\n",
    "                np.logical_not(orders['visitorid'].isin(abnormalUsers)),\n",
    "            )\n",
    "        ]['revenue'].mean()\n",
    "        / orders[\n",
    "            np.logical_and(\n",
    "                orders['group'] == 'A',\n",
    "                np.logical_not(orders['visitorid'].isin(abnormalUsers)),\n",
    "            )\n",
    "        ]['revenue'].mean()\n",
    "        - 1\n",
    "    )\n",
    ")"
   ]
  },
  {
   "cell_type": "markdown",
   "metadata": {},
   "source": [
    "**Промежуточный вывод**\n",
    "<div style=\"border:solid DeepSkyBlue 0.5px; padding: 10px\">\n",
    "    \n",
    "По по среднему чеку ситуация уже другая.\n",
    "\n",
    "P-value снова значительно больше 0.05, но меньше, чем по \"сырым\" данным - 0.615. Это снова говорит о том, что отвергать нулевую гипотезу и считать, что в среднем чеке есть различия, нет. \n",
    "\n",
    "Но интересная ситуация по среднему чеку. По очищенным данным, средний чек по группе В меньше среднего чека по группе А примерно на 5,5%, хотя ранее лидировал почти на 29%. Это хорошо отобразает как сверхдорогая покупка влияла на всю картину в целом.\n"
   ]
  },
  {
   "cell_type": "markdown",
   "metadata": {},
   "source": [
    "### Принятие решений по итогу анализа теста"
   ]
  },
  {
   "cell_type": "markdown",
   "metadata": {},
   "source": [
    "<div style=\"border:solid DeepSkyBlue 0.5px; padding: 10px\">\n",
    "\n",
    "**Число заказов**\n",
    "\n",
    "_Сырые данные_\n",
    "- p-value - 0.011. Отвергнуть гипотезу, что статистически значимых различий в среднем числе заказов между группами можно.\n",
    "- конверсия группы В больше конверсии группы А на 16%.\n",
    "\n",
    "_Очищенные данные_\n",
    "- p-value - 0.013. Гипотезу о том, что статистически значимых различий в среднем числе заказов между группами нет, отвергаем.\n",
    "- конверсия группы В больше конверсии группы А на 18%.\n",
    "\n",
    "**Стоимость заказов**\n",
    "\n",
    "_Сырые данные_\n",
    "- p-value - 0.829. Отвергнуть гипотезу, то в среднем чеке по группам есть различия, нельзя.\n",
    "- средний чек по группе В больше среднего чека по группе А почти на 29%.\n",
    "\n",
    "_Очищенные данные_\n",
    "- p-value - 0.615. Отвергнуть гипотезу, то в среднем чеке по группам есть различия, нельзя.\n",
    "- средний чек по группе В меньше среднего чека по группе А почти на 6%.\n",
    "\n",
    "**Общий вывод по итогу анализа теста**\n",
    "Тест необходимо остановить и призназнать успешным. \n",
    "\n",
    "- Статистически значимое различие по среднему количеству заказов между группами по «сырым» данным есть.\n",
    "- После фильтрации от аномалий статистически значимое различие по среднему количеству заказов между группами есть.\n",
    "- Нет статистически значимого различия по среднему чеку между группами ни по «сырым», ни по данным после фильтрации аномалий.\n",
    "- После фильтрации средний чек по группе А стал выше среднего чека по группе В.\n",
    "\n",
    "Группа В лучше конвертируется, но несколько уступает по среднему чеку, при этом изменение незначительное. Также стоит отметить, что аномально дорогие заказы (как показывал график), в основном принадлежат пользователям из группы В."
   ]
  },
  {
   "cell_type": "markdown",
   "metadata": {},
   "source": [
    "## Общий вывод\n",
    "\n",
    "<div style=\"border:solid green 0.5px; padding: 10px\">\n",
    "\n",
    "<font color='Indigo'>**Приритезация гипотез**</font>\n",
    "\n",
    "В рамках выполнения работы по приоритезации гипотез уведичения выручки, сформированных отделом маркетинга заказчика (интеренет-магазина), были выполнены расчеты с применением фреймворка `ICE` и фреймворка `RICE`. По итогам обеих расчетов были сформированы перечни самых перспективных и самых не перспективных гипотез, с объяснением причин, влияющих на место в рейтинге.\n",
    "\n",
    "_**Самые перспективные гипотезы**_\n",
    "\n",
    "- _Добавить форму подписки на все основные страницы, чтобы собрать базу клиентов для email-рассылок_ (максимальный охват пользователей, дает высокий показатель уверенности в положительном влиянии на выручку, имеет среднюю стоимость теста и довольно высокий показатель влияния на пользовательский опыт).\n",
    "- _Добавить два новых канала привлечения трафика, что позволит привлекать на 30% больше пользователей_ (максимальное влияние на пользовательский опыт, высокий уровень уверенности в том, что гипотеза сработает, средняя стоимость теста)\n",
    "- _Показать на главной странице баннеры с актуальными акциями и распродажами, чтобы увеличить конверсию_ (высокий уровень уверенности и низкая стоимость теста).\n",
    "\n",
    "_**Самые не перспективные гипотезы**_\n",
    "\n",
    "- _Изменить цвет фона главной страницы, чтобы увеличить вовлеченность пользователей_ (затрагивает минимальное число пользователей, практически не влияет на пользовательский опыт и удовлетворенность от продукта и совсем не внушает уверенности, хоть и имеет наименьшую стоимость для тестирования)   \n",
    "- _Добавить страницу отзывов клиентов о магазине, что позволит увеличить количество заказов_ (затрагивает небольшое число пользователей, мало влияет на пользовательский опыт и удовлетворенность от продукта и не внушает уверенности, хоть и имеет наименьшую стоимость для тестирования) \n",
    "- _Запустить собственную службу доставки, что сократит срок доставки заказов_ ( максимальная стоимость тестирования гипотеза, имеет весьма низкий покатель уверенности в том, что изменение повлияет на увеличение выручки, охватывает минимальное число пользователей).\n",
    "- _Изменить структуру категорий, что увеличит конверсию, т.к. пользователи быстрее найдут нужный товар_ (дорогая для тестирования, не внушает особой уверенности , и имеет невысокий показатель влияния на пользовательские опыт).\n",
    "\n",
    "<font color='Indigo'>**Анализ А/В - теста**</font>\n",
    "\n",
    "_**Данные**_\n",
    "\n",
    "Перед анализом данные были изучены и предобрапотаны. Для корректного анализа теста были удалены пользователи, попавшие в обе группы теста.\n",
    "\n",
    "_**Расчеты по \"сырым\" и отлильтрованным данным**_\n",
    "\n",
    "- Статистически значимое различие по среднему количеству заказов между группами по «сырым» данным есть.\n",
    "- После фильтрации от аномалий статистически значимое различие по среднему количеству заказов между группами есть.\n",
    "- Нет статистически значимого различия по среднему чеку между группами ни по «сырым», ни по данным после фильтрации аномалий.\n",
    "- После фильтрации средний чек по группе А стал выше среднего чека по группе В.\n",
    "\n",
    "_**Предложение по итогу анализа A/B теста**_\n",
    "\n",
    "Тест остановить и признать успешным. Анализ показал, что группа В конвертируется лучше, при этом по отфильтрованным данным, превосходсво среднего чека по группе А незначительное. Но превосходство среднего чека по группе В при \"сырых\" данных - 29%. По результатам теста можно зафиксировать превосходство группы В."
   ]
  }
 ],
 "metadata": {
  "ExecuteTimeLog": [
   {
    "duration": 63,
    "start_time": "2022-08-02T20:49:02.608Z"
   },
   {
    "duration": 0,
    "start_time": "2022-08-02T20:49:02.672Z"
   },
   {
    "duration": 0,
    "start_time": "2022-08-02T20:49:02.673Z"
   },
   {
    "duration": 0,
    "start_time": "2022-08-02T20:49:02.675Z"
   },
   {
    "duration": 0,
    "start_time": "2022-08-02T20:49:02.676Z"
   },
   {
    "duration": 1638,
    "start_time": "2022-08-02T20:49:26.293Z"
   },
   {
    "duration": 4,
    "start_time": "2022-08-02T20:49:27.934Z"
   },
   {
    "duration": 19,
    "start_time": "2022-08-02T20:49:27.940Z"
   },
   {
    "duration": 308,
    "start_time": "2022-08-02T20:49:27.963Z"
   },
   {
    "duration": 1696,
    "start_time": "2022-08-04T14:15:14.378Z"
   },
   {
    "duration": 4,
    "start_time": "2022-08-04T14:15:16.082Z"
   },
   {
    "duration": 10,
    "start_time": "2022-08-04T14:15:16.088Z"
   },
   {
    "duration": 205,
    "start_time": "2022-08-04T14:15:16.101Z"
   },
   {
    "duration": 16,
    "start_time": "2022-08-04T14:15:16.308Z"
   },
   {
    "duration": 13,
    "start_time": "2022-08-04T14:15:40.127Z"
   },
   {
    "duration": 11,
    "start_time": "2022-08-04T14:28:41.577Z"
   },
   {
    "duration": 9,
    "start_time": "2022-08-04T14:35:38.572Z"
   },
   {
    "duration": 9,
    "start_time": "2022-08-04T14:37:39.335Z"
   },
   {
    "duration": 12,
    "start_time": "2022-08-04T14:37:46.689Z"
   },
   {
    "duration": 12,
    "start_time": "2022-08-04T14:46:11.730Z"
   },
   {
    "duration": 12,
    "start_time": "2022-08-04T14:46:18.677Z"
   },
   {
    "duration": 6,
    "start_time": "2022-08-04T14:49:13.525Z"
   },
   {
    "duration": 6,
    "start_time": "2022-08-04T14:50:19.648Z"
   },
   {
    "duration": 9,
    "start_time": "2022-08-04T14:52:00.291Z"
   },
   {
    "duration": 1356,
    "start_time": "2022-08-04T14:53:00.054Z"
   },
   {
    "duration": 3,
    "start_time": "2022-08-04T14:53:01.412Z"
   },
   {
    "duration": 6,
    "start_time": "2022-08-04T14:53:01.416Z"
   },
   {
    "duration": 98,
    "start_time": "2022-08-04T14:53:01.424Z"
   },
   {
    "duration": 16,
    "start_time": "2022-08-04T14:53:01.525Z"
   },
   {
    "duration": 23,
    "start_time": "2022-08-04T14:53:01.543Z"
   },
   {
    "duration": 9,
    "start_time": "2022-08-04T14:53:01.570Z"
   },
   {
    "duration": 13,
    "start_time": "2022-08-04T14:53:01.581Z"
   },
   {
    "duration": 8,
    "start_time": "2022-08-04T14:53:01.595Z"
   },
   {
    "duration": 15,
    "start_time": "2022-08-04T14:53:01.605Z"
   },
   {
    "duration": 13,
    "start_time": "2022-08-04T14:53:01.622Z"
   },
   {
    "duration": 14,
    "start_time": "2022-08-04T14:53:01.655Z"
   },
   {
    "duration": 13,
    "start_time": "2022-08-04T14:53:01.673Z"
   },
   {
    "duration": 10,
    "start_time": "2022-08-04T14:54:25.727Z"
   },
   {
    "duration": 1283,
    "start_time": "2022-08-04T15:00:25.047Z"
   },
   {
    "duration": 3,
    "start_time": "2022-08-04T15:00:26.332Z"
   },
   {
    "duration": 6,
    "start_time": "2022-08-04T15:00:26.337Z"
   },
   {
    "duration": 90,
    "start_time": "2022-08-04T15:00:26.345Z"
   },
   {
    "duration": 11,
    "start_time": "2022-08-04T15:00:26.436Z"
   },
   {
    "duration": 20,
    "start_time": "2022-08-04T15:00:26.449Z"
   },
   {
    "duration": 9,
    "start_time": "2022-08-04T15:00:26.471Z"
   },
   {
    "duration": 12,
    "start_time": "2022-08-04T15:00:26.481Z"
   },
   {
    "duration": 10,
    "start_time": "2022-08-04T15:00:26.494Z"
   },
   {
    "duration": 14,
    "start_time": "2022-08-04T15:00:26.506Z"
   },
   {
    "duration": 9,
    "start_time": "2022-08-04T15:00:26.521Z"
   },
   {
    "duration": 33,
    "start_time": "2022-08-04T15:00:26.532Z"
   },
   {
    "duration": 15,
    "start_time": "2022-08-04T15:00:26.567Z"
   },
   {
    "duration": 17,
    "start_time": "2022-08-04T15:00:26.584Z"
   },
   {
    "duration": 78,
    "start_time": "2022-08-04T15:05:24.825Z"
   },
   {
    "duration": 191,
    "start_time": "2022-08-04T15:05:36.576Z"
   },
   {
    "duration": 125,
    "start_time": "2022-08-04T15:05:49.378Z"
   },
   {
    "duration": 3,
    "start_time": "2022-08-04T15:06:20.284Z"
   },
   {
    "duration": 1286,
    "start_time": "2022-08-04T15:06:29.606Z"
   },
   {
    "duration": 3,
    "start_time": "2022-08-04T15:06:30.895Z"
   },
   {
    "duration": 15,
    "start_time": "2022-08-04T15:06:30.900Z"
   },
   {
    "duration": 89,
    "start_time": "2022-08-04T15:06:30.917Z"
   },
   {
    "duration": 12,
    "start_time": "2022-08-04T15:06:31.008Z"
   },
   {
    "duration": 19,
    "start_time": "2022-08-04T15:06:31.021Z"
   },
   {
    "duration": 10,
    "start_time": "2022-08-04T15:06:31.043Z"
   },
   {
    "duration": 29,
    "start_time": "2022-08-04T15:06:31.058Z"
   },
   {
    "duration": 7,
    "start_time": "2022-08-04T15:06:31.089Z"
   },
   {
    "duration": 13,
    "start_time": "2022-08-04T15:06:31.098Z"
   },
   {
    "duration": 7,
    "start_time": "2022-08-04T15:06:31.114Z"
   },
   {
    "duration": 11,
    "start_time": "2022-08-04T15:06:31.122Z"
   },
   {
    "duration": 22,
    "start_time": "2022-08-04T15:06:31.135Z"
   },
   {
    "duration": 20,
    "start_time": "2022-08-04T15:06:31.162Z"
   },
   {
    "duration": 1368,
    "start_time": "2022-08-04T15:06:31.184Z"
   },
   {
    "duration": 1317,
    "start_time": "2022-08-04T15:07:02.843Z"
   },
   {
    "duration": 5,
    "start_time": "2022-08-04T15:07:04.166Z"
   },
   {
    "duration": 5,
    "start_time": "2022-08-04T15:07:04.172Z"
   },
   {
    "duration": 74,
    "start_time": "2022-08-04T15:07:04.179Z"
   },
   {
    "duration": 14,
    "start_time": "2022-08-04T15:07:04.256Z"
   },
   {
    "duration": 16,
    "start_time": "2022-08-04T15:07:04.272Z"
   },
   {
    "duration": 8,
    "start_time": "2022-08-04T15:07:04.290Z"
   },
   {
    "duration": 13,
    "start_time": "2022-08-04T15:07:04.299Z"
   },
   {
    "duration": 7,
    "start_time": "2022-08-04T15:07:04.314Z"
   },
   {
    "duration": 43,
    "start_time": "2022-08-04T15:07:04.324Z"
   },
   {
    "duration": 11,
    "start_time": "2022-08-04T15:07:04.372Z"
   },
   {
    "duration": 14,
    "start_time": "2022-08-04T15:07:04.385Z"
   },
   {
    "duration": 9,
    "start_time": "2022-08-04T15:07:04.401Z"
   },
   {
    "duration": 12,
    "start_time": "2022-08-04T15:07:04.411Z"
   },
   {
    "duration": 1476,
    "start_time": "2022-08-04T15:07:04.425Z"
   },
   {
    "duration": 1272,
    "start_time": "2022-08-04T15:08:41.910Z"
   },
   {
    "duration": 3,
    "start_time": "2022-08-04T15:08:43.184Z"
   },
   {
    "duration": 6,
    "start_time": "2022-08-04T15:08:43.189Z"
   },
   {
    "duration": 84,
    "start_time": "2022-08-04T15:08:43.197Z"
   },
   {
    "duration": 12,
    "start_time": "2022-08-04T15:08:43.283Z"
   },
   {
    "duration": 13,
    "start_time": "2022-08-04T15:08:43.296Z"
   },
   {
    "duration": 8,
    "start_time": "2022-08-04T15:08:43.311Z"
   },
   {
    "duration": 18,
    "start_time": "2022-08-04T15:08:43.321Z"
   },
   {
    "duration": 12,
    "start_time": "2022-08-04T15:08:43.341Z"
   },
   {
    "duration": 32,
    "start_time": "2022-08-04T15:08:43.355Z"
   },
   {
    "duration": 15,
    "start_time": "2022-08-04T15:08:43.389Z"
   },
   {
    "duration": 13,
    "start_time": "2022-08-04T15:08:43.406Z"
   },
   {
    "duration": 9,
    "start_time": "2022-08-04T15:08:43.420Z"
   },
   {
    "duration": 12,
    "start_time": "2022-08-04T15:08:43.430Z"
   },
   {
    "duration": 1930,
    "start_time": "2022-08-04T15:08:43.443Z"
   },
   {
    "duration": 150,
    "start_time": "2022-08-04T15:10:48.933Z"
   },
   {
    "duration": 15,
    "start_time": "2022-08-04T15:10:53.955Z"
   },
   {
    "duration": 13,
    "start_time": "2022-08-04T15:11:52.093Z"
   },
   {
    "duration": 43,
    "start_time": "2022-08-04T15:12:46.176Z"
   },
   {
    "duration": 9,
    "start_time": "2022-08-04T15:12:53.227Z"
   },
   {
    "duration": 10,
    "start_time": "2022-08-04T15:12:59.370Z"
   },
   {
    "duration": 15,
    "start_time": "2022-08-04T15:13:04.770Z"
   },
   {
    "duration": 13,
    "start_time": "2022-08-04T15:13:27.132Z"
   },
   {
    "duration": 11,
    "start_time": "2022-08-04T15:14:40.029Z"
   },
   {
    "duration": 1279,
    "start_time": "2022-08-04T15:18:32.294Z"
   },
   {
    "duration": 4,
    "start_time": "2022-08-04T15:18:33.575Z"
   },
   {
    "duration": 6,
    "start_time": "2022-08-04T15:18:33.581Z"
   },
   {
    "duration": 82,
    "start_time": "2022-08-04T15:18:33.589Z"
   },
   {
    "duration": 12,
    "start_time": "2022-08-04T15:18:33.674Z"
   },
   {
    "duration": 13,
    "start_time": "2022-08-04T15:18:33.687Z"
   },
   {
    "duration": 10,
    "start_time": "2022-08-04T15:18:33.702Z"
   },
   {
    "duration": 12,
    "start_time": "2022-08-04T15:18:33.713Z"
   },
   {
    "duration": 8,
    "start_time": "2022-08-04T15:18:33.726Z"
   },
   {
    "duration": 16,
    "start_time": "2022-08-04T15:18:33.760Z"
   },
   {
    "duration": 9,
    "start_time": "2022-08-04T15:18:33.778Z"
   },
   {
    "duration": 16,
    "start_time": "2022-08-04T15:18:33.789Z"
   },
   {
    "duration": 10,
    "start_time": "2022-08-04T15:18:33.807Z"
   },
   {
    "duration": 37,
    "start_time": "2022-08-04T15:18:33.819Z"
   },
   {
    "duration": 48,
    "start_time": "2022-08-04T15:18:33.859Z"
   },
   {
    "duration": 9,
    "start_time": "2022-08-04T15:18:33.909Z"
   },
   {
    "duration": 10,
    "start_time": "2022-08-04T15:19:20.125Z"
   },
   {
    "duration": 14,
    "start_time": "2022-08-04T15:19:28.255Z"
   },
   {
    "duration": 1359,
    "start_time": "2022-08-04T15:20:11.122Z"
   },
   {
    "duration": 3,
    "start_time": "2022-08-04T15:20:12.483Z"
   },
   {
    "duration": 9,
    "start_time": "2022-08-04T15:20:12.489Z"
   },
   {
    "duration": 78,
    "start_time": "2022-08-04T15:20:12.500Z"
   },
   {
    "duration": 14,
    "start_time": "2022-08-04T15:20:12.580Z"
   },
   {
    "duration": 14,
    "start_time": "2022-08-04T15:20:12.596Z"
   },
   {
    "duration": 8,
    "start_time": "2022-08-04T15:20:12.612Z"
   },
   {
    "duration": 16,
    "start_time": "2022-08-04T15:20:12.622Z"
   },
   {
    "duration": 13,
    "start_time": "2022-08-04T15:20:12.657Z"
   },
   {
    "duration": 28,
    "start_time": "2022-08-04T15:20:12.672Z"
   },
   {
    "duration": 7,
    "start_time": "2022-08-04T15:20:12.702Z"
   },
   {
    "duration": 16,
    "start_time": "2022-08-04T15:20:12.712Z"
   },
   {
    "duration": 27,
    "start_time": "2022-08-04T15:20:12.731Z"
   },
   {
    "duration": 15,
    "start_time": "2022-08-04T15:20:12.763Z"
   },
   {
    "duration": 46,
    "start_time": "2022-08-04T15:20:12.780Z"
   },
   {
    "duration": 99,
    "start_time": "2022-08-04T15:20:12.828Z"
   },
   {
    "duration": 10,
    "start_time": "2022-08-04T15:20:41.206Z"
   },
   {
    "duration": 15,
    "start_time": "2022-08-04T15:20:46.174Z"
   },
   {
    "duration": 17,
    "start_time": "2022-08-04T15:21:04.681Z"
   },
   {
    "duration": 1480,
    "start_time": "2022-08-04T15:21:16.440Z"
   },
   {
    "duration": 3,
    "start_time": "2022-08-04T15:21:17.921Z"
   },
   {
    "duration": 9,
    "start_time": "2022-08-04T15:21:17.925Z"
   },
   {
    "duration": 83,
    "start_time": "2022-08-04T15:21:17.935Z"
   },
   {
    "duration": 10,
    "start_time": "2022-08-04T15:21:18.020Z"
   },
   {
    "duration": 14,
    "start_time": "2022-08-04T15:21:18.032Z"
   },
   {
    "duration": 9,
    "start_time": "2022-08-04T15:21:18.048Z"
   },
   {
    "duration": 35,
    "start_time": "2022-08-04T15:21:18.061Z"
   },
   {
    "duration": 9,
    "start_time": "2022-08-04T15:21:18.098Z"
   },
   {
    "duration": 15,
    "start_time": "2022-08-04T15:21:18.109Z"
   },
   {
    "duration": 11,
    "start_time": "2022-08-04T15:21:18.126Z"
   },
   {
    "duration": 11,
    "start_time": "2022-08-04T15:21:18.139Z"
   },
   {
    "duration": 7,
    "start_time": "2022-08-04T15:21:18.157Z"
   },
   {
    "duration": 26,
    "start_time": "2022-08-04T15:21:18.167Z"
   },
   {
    "duration": 21,
    "start_time": "2022-08-04T15:21:18.195Z"
   },
   {
    "duration": 14,
    "start_time": "2022-08-04T15:21:18.217Z"
   },
   {
    "duration": 2680,
    "start_time": "2022-08-04T18:47:01.063Z"
   },
   {
    "duration": 6,
    "start_time": "2022-08-04T18:47:03.746Z"
   },
   {
    "duration": 12,
    "start_time": "2022-08-04T18:47:03.754Z"
   },
   {
    "duration": 268,
    "start_time": "2022-08-04T18:47:03.767Z"
   },
   {
    "duration": 16,
    "start_time": "2022-08-04T18:47:04.038Z"
   },
   {
    "duration": 17,
    "start_time": "2022-08-04T18:47:04.055Z"
   },
   {
    "duration": 9,
    "start_time": "2022-08-04T18:47:04.074Z"
   },
   {
    "duration": 11,
    "start_time": "2022-08-04T18:47:04.085Z"
   },
   {
    "duration": 12,
    "start_time": "2022-08-04T18:47:04.098Z"
   },
   {
    "duration": 13,
    "start_time": "2022-08-04T18:47:04.113Z"
   },
   {
    "duration": 8,
    "start_time": "2022-08-04T18:47:04.128Z"
   },
   {
    "duration": 19,
    "start_time": "2022-08-04T18:47:04.137Z"
   },
   {
    "duration": 15,
    "start_time": "2022-08-04T18:47:04.157Z"
   },
   {
    "duration": 40,
    "start_time": "2022-08-04T18:47:04.176Z"
   },
   {
    "duration": 19,
    "start_time": "2022-08-04T18:47:04.218Z"
   },
   {
    "duration": 13,
    "start_time": "2022-08-04T18:47:04.239Z"
   },
   {
    "duration": 1384,
    "start_time": "2022-08-04T19:44:10.166Z"
   },
   {
    "duration": 3,
    "start_time": "2022-08-04T19:44:11.552Z"
   },
   {
    "duration": 6,
    "start_time": "2022-08-04T19:44:11.557Z"
   },
   {
    "duration": 94,
    "start_time": "2022-08-04T19:44:11.565Z"
   },
   {
    "duration": 10,
    "start_time": "2022-08-04T19:44:11.660Z"
   },
   {
    "duration": 19,
    "start_time": "2022-08-04T19:44:11.672Z"
   },
   {
    "duration": 15,
    "start_time": "2022-08-04T19:44:11.692Z"
   },
   {
    "duration": 45,
    "start_time": "2022-08-04T19:44:11.720Z"
   },
   {
    "duration": 11,
    "start_time": "2022-08-04T19:44:11.766Z"
   },
   {
    "duration": 15,
    "start_time": "2022-08-04T19:44:11.779Z"
   },
   {
    "duration": 41,
    "start_time": "2022-08-04T19:44:11.795Z"
   },
   {
    "duration": 18,
    "start_time": "2022-08-04T19:44:11.838Z"
   },
   {
    "duration": 18,
    "start_time": "2022-08-04T19:44:11.858Z"
   },
   {
    "duration": 17,
    "start_time": "2022-08-04T19:44:11.878Z"
   },
   {
    "duration": 47,
    "start_time": "2022-08-04T19:44:11.896Z"
   },
   {
    "duration": 34,
    "start_time": "2022-08-04T19:44:11.944Z"
   },
   {
    "duration": 4,
    "start_time": "2022-08-04T19:59:36.641Z"
   },
   {
    "duration": 1403,
    "start_time": "2022-08-04T20:08:31.121Z"
   },
   {
    "duration": 4,
    "start_time": "2022-08-04T20:08:32.527Z"
   },
   {
    "duration": 9,
    "start_time": "2022-08-04T20:08:32.533Z"
   },
   {
    "duration": 80,
    "start_time": "2022-08-04T20:08:32.544Z"
   },
   {
    "duration": 14,
    "start_time": "2022-08-04T20:08:32.626Z"
   },
   {
    "duration": 17,
    "start_time": "2022-08-04T20:08:32.642Z"
   },
   {
    "duration": 12,
    "start_time": "2022-08-04T20:08:32.661Z"
   },
   {
    "duration": 13,
    "start_time": "2022-08-04T20:08:32.674Z"
   },
   {
    "duration": 12,
    "start_time": "2022-08-04T20:08:32.708Z"
   },
   {
    "duration": 20,
    "start_time": "2022-08-04T20:08:32.723Z"
   },
   {
    "duration": 12,
    "start_time": "2022-08-04T20:08:32.745Z"
   },
   {
    "duration": 14,
    "start_time": "2022-08-04T20:08:32.759Z"
   },
   {
    "duration": 39,
    "start_time": "2022-08-04T20:08:32.775Z"
   },
   {
    "duration": 21,
    "start_time": "2022-08-04T20:08:32.816Z"
   },
   {
    "duration": 17,
    "start_time": "2022-08-04T20:08:32.839Z"
   },
   {
    "duration": 14,
    "start_time": "2022-08-04T20:08:32.858Z"
   },
   {
    "duration": 48,
    "start_time": "2022-08-04T20:08:32.874Z"
   },
   {
    "duration": 10,
    "start_time": "2022-08-04T20:08:49.566Z"
   },
   {
    "duration": 1355,
    "start_time": "2022-08-04T20:09:19.136Z"
   },
   {
    "duration": 2,
    "start_time": "2022-08-04T20:09:20.493Z"
   },
   {
    "duration": 16,
    "start_time": "2022-08-04T20:09:20.497Z"
   },
   {
    "duration": 78,
    "start_time": "2022-08-04T20:09:20.515Z"
   },
   {
    "duration": 11,
    "start_time": "2022-08-04T20:09:20.595Z"
   },
   {
    "duration": 22,
    "start_time": "2022-08-04T20:09:20.608Z"
   },
   {
    "duration": 8,
    "start_time": "2022-08-04T20:09:20.632Z"
   },
   {
    "duration": 20,
    "start_time": "2022-08-04T20:09:20.642Z"
   },
   {
    "duration": 9,
    "start_time": "2022-08-04T20:09:20.663Z"
   },
   {
    "duration": 38,
    "start_time": "2022-08-04T20:09:20.674Z"
   },
   {
    "duration": 8,
    "start_time": "2022-08-04T20:09:20.714Z"
   },
   {
    "duration": 14,
    "start_time": "2022-08-04T20:09:20.723Z"
   },
   {
    "duration": 8,
    "start_time": "2022-08-04T20:09:20.739Z"
   },
   {
    "duration": 13,
    "start_time": "2022-08-04T20:09:20.748Z"
   },
   {
    "duration": 51,
    "start_time": "2022-08-04T20:09:20.763Z"
   },
   {
    "duration": 15,
    "start_time": "2022-08-04T20:09:20.815Z"
   },
   {
    "duration": 17,
    "start_time": "2022-08-04T20:09:20.831Z"
   },
   {
    "duration": 191,
    "start_time": "2022-08-04T20:12:06.257Z"
   },
   {
    "duration": 15,
    "start_time": "2022-08-04T20:12:27.839Z"
   },
   {
    "duration": 20,
    "start_time": "2022-08-04T20:12:48.405Z"
   },
   {
    "duration": 1450,
    "start_time": "2022-08-04T20:13:08.633Z"
   },
   {
    "duration": 3,
    "start_time": "2022-08-04T20:13:10.086Z"
   },
   {
    "duration": 19,
    "start_time": "2022-08-04T20:13:10.091Z"
   },
   {
    "duration": 129,
    "start_time": "2022-08-04T20:13:10.113Z"
   },
   {
    "duration": 20,
    "start_time": "2022-08-04T20:13:10.245Z"
   },
   {
    "duration": 21,
    "start_time": "2022-08-04T20:13:10.267Z"
   },
   {
    "duration": 11,
    "start_time": "2022-08-04T20:13:10.290Z"
   },
   {
    "duration": 47,
    "start_time": "2022-08-04T20:13:10.303Z"
   },
   {
    "duration": 16,
    "start_time": "2022-08-04T20:13:10.352Z"
   },
   {
    "duration": 29,
    "start_time": "2022-08-04T20:13:10.370Z"
   },
   {
    "duration": 44,
    "start_time": "2022-08-04T20:13:10.402Z"
   },
   {
    "duration": 25,
    "start_time": "2022-08-04T20:13:10.449Z"
   },
   {
    "duration": 11,
    "start_time": "2022-08-04T20:13:10.476Z"
   },
   {
    "duration": 17,
    "start_time": "2022-08-04T20:13:10.491Z"
   },
   {
    "duration": 43,
    "start_time": "2022-08-04T20:13:10.511Z"
   },
   {
    "duration": 16,
    "start_time": "2022-08-04T20:13:10.556Z"
   },
   {
    "duration": 28,
    "start_time": "2022-08-04T20:13:10.575Z"
   },
   {
    "duration": 10,
    "start_time": "2022-08-04T20:28:58.236Z"
   },
   {
    "duration": 12,
    "start_time": "2022-08-04T20:29:54.168Z"
   },
   {
    "duration": 140,
    "start_time": "2022-08-04T20:31:53.770Z"
   },
   {
    "duration": 10,
    "start_time": "2022-08-04T20:32:00.424Z"
   },
   {
    "duration": 1341,
    "start_time": "2022-08-04T20:33:21.254Z"
   },
   {
    "duration": 3,
    "start_time": "2022-08-04T20:33:22.597Z"
   },
   {
    "duration": 10,
    "start_time": "2022-08-04T20:33:22.601Z"
   },
   {
    "duration": 79,
    "start_time": "2022-08-04T20:33:22.613Z"
   },
   {
    "duration": 13,
    "start_time": "2022-08-04T20:33:22.694Z"
   },
   {
    "duration": 15,
    "start_time": "2022-08-04T20:33:22.708Z"
   },
   {
    "duration": 14,
    "start_time": "2022-08-04T20:33:22.725Z"
   },
   {
    "duration": 13,
    "start_time": "2022-08-04T20:33:22.741Z"
   },
   {
    "duration": 13,
    "start_time": "2022-08-04T20:33:22.756Z"
   },
   {
    "duration": 45,
    "start_time": "2022-08-04T20:33:22.772Z"
   },
   {
    "duration": 10,
    "start_time": "2022-08-04T20:33:22.818Z"
   },
   {
    "duration": 23,
    "start_time": "2022-08-04T20:33:22.830Z"
   },
   {
    "duration": 15,
    "start_time": "2022-08-04T20:33:22.856Z"
   },
   {
    "duration": 45,
    "start_time": "2022-08-04T20:33:22.873Z"
   },
   {
    "duration": 18,
    "start_time": "2022-08-04T20:33:22.919Z"
   },
   {
    "duration": 14,
    "start_time": "2022-08-04T20:33:22.939Z"
   },
   {
    "duration": 13,
    "start_time": "2022-08-04T20:33:22.955Z"
   },
   {
    "duration": 47,
    "start_time": "2022-08-04T20:33:22.970Z"
   },
   {
    "duration": 2227,
    "start_time": "2022-08-05T13:40:29.353Z"
   },
   {
    "duration": 3,
    "start_time": "2022-08-05T13:40:31.581Z"
   },
   {
    "duration": 8,
    "start_time": "2022-08-05T13:40:31.588Z"
   },
   {
    "duration": 192,
    "start_time": "2022-08-05T13:40:31.598Z"
   },
   {
    "duration": 11,
    "start_time": "2022-08-05T13:40:31.792Z"
   },
   {
    "duration": 18,
    "start_time": "2022-08-05T13:40:31.805Z"
   },
   {
    "duration": 14,
    "start_time": "2022-08-05T13:40:31.824Z"
   },
   {
    "duration": 120,
    "start_time": "2022-08-05T13:40:31.840Z"
   },
   {
    "duration": 0,
    "start_time": "2022-08-05T13:40:31.962Z"
   },
   {
    "duration": 0,
    "start_time": "2022-08-05T13:40:31.963Z"
   },
   {
    "duration": 0,
    "start_time": "2022-08-05T13:40:31.964Z"
   },
   {
    "duration": 0,
    "start_time": "2022-08-05T13:40:31.965Z"
   },
   {
    "duration": 0,
    "start_time": "2022-08-05T13:40:31.966Z"
   },
   {
    "duration": 0,
    "start_time": "2022-08-05T13:40:31.966Z"
   },
   {
    "duration": 0,
    "start_time": "2022-08-05T13:40:31.968Z"
   },
   {
    "duration": 0,
    "start_time": "2022-08-05T13:40:31.968Z"
   },
   {
    "duration": 0,
    "start_time": "2022-08-05T13:40:31.969Z"
   },
   {
    "duration": 0,
    "start_time": "2022-08-05T13:40:31.970Z"
   },
   {
    "duration": 13,
    "start_time": "2022-08-05T13:40:39.926Z"
   },
   {
    "duration": 1518,
    "start_time": "2022-08-05T18:18:56.874Z"
   },
   {
    "duration": 3,
    "start_time": "2022-08-05T18:18:58.394Z"
   },
   {
    "duration": 8,
    "start_time": "2022-08-05T18:18:58.399Z"
   },
   {
    "duration": 200,
    "start_time": "2022-08-05T18:18:58.409Z"
   },
   {
    "duration": 11,
    "start_time": "2022-08-05T18:18:58.612Z"
   },
   {
    "duration": 16,
    "start_time": "2022-08-05T18:18:58.625Z"
   },
   {
    "duration": 9,
    "start_time": "2022-08-05T18:18:58.643Z"
   },
   {
    "duration": 14,
    "start_time": "2022-08-05T18:18:58.654Z"
   },
   {
    "duration": 7,
    "start_time": "2022-08-05T18:18:58.670Z"
   },
   {
    "duration": 17,
    "start_time": "2022-08-05T18:18:58.700Z"
   },
   {
    "duration": 25,
    "start_time": "2022-08-05T18:18:58.719Z"
   },
   {
    "duration": 13,
    "start_time": "2022-08-05T18:18:58.746Z"
   },
   {
    "duration": 12,
    "start_time": "2022-08-05T18:18:58.762Z"
   },
   {
    "duration": 28,
    "start_time": "2022-08-05T18:18:58.777Z"
   },
   {
    "duration": 27,
    "start_time": "2022-08-05T18:18:58.807Z"
   },
   {
    "duration": 22,
    "start_time": "2022-08-05T18:18:58.836Z"
   },
   {
    "duration": 11,
    "start_time": "2022-08-05T18:18:58.861Z"
   },
   {
    "duration": 10,
    "start_time": "2022-08-05T18:18:58.899Z"
   },
   {
    "duration": 4,
    "start_time": "2022-08-05T18:23:15.342Z"
   },
   {
    "duration": 10,
    "start_time": "2022-08-05T18:25:58.875Z"
   },
   {
    "duration": 21,
    "start_time": "2022-08-05T18:40:11.225Z"
   },
   {
    "duration": 1403,
    "start_time": "2022-08-05T18:40:23.718Z"
   },
   {
    "duration": 3,
    "start_time": "2022-08-05T18:40:25.124Z"
   },
   {
    "duration": 5,
    "start_time": "2022-08-05T18:40:25.130Z"
   },
   {
    "duration": 83,
    "start_time": "2022-08-05T18:40:25.137Z"
   },
   {
    "duration": 15,
    "start_time": "2022-08-05T18:40:25.222Z"
   },
   {
    "duration": 17,
    "start_time": "2022-08-05T18:40:25.239Z"
   },
   {
    "duration": 11,
    "start_time": "2022-08-05T18:40:25.258Z"
   },
   {
    "duration": 15,
    "start_time": "2022-08-05T18:40:25.271Z"
   },
   {
    "duration": 9,
    "start_time": "2022-08-05T18:40:25.299Z"
   },
   {
    "duration": 21,
    "start_time": "2022-08-05T18:40:25.311Z"
   },
   {
    "duration": 8,
    "start_time": "2022-08-05T18:40:25.334Z"
   },
   {
    "duration": 10,
    "start_time": "2022-08-05T18:40:25.344Z"
   },
   {
    "duration": 48,
    "start_time": "2022-08-05T18:40:25.355Z"
   },
   {
    "duration": 15,
    "start_time": "2022-08-05T18:40:25.404Z"
   },
   {
    "duration": 14,
    "start_time": "2022-08-05T18:40:25.421Z"
   },
   {
    "duration": 14,
    "start_time": "2022-08-05T18:40:25.437Z"
   },
   {
    "duration": 47,
    "start_time": "2022-08-05T18:40:25.453Z"
   },
   {
    "duration": 12,
    "start_time": "2022-08-05T18:40:25.502Z"
   },
   {
    "duration": 10,
    "start_time": "2022-08-05T18:40:25.515Z"
   },
   {
    "duration": 23,
    "start_time": "2022-08-05T18:41:43.629Z"
   },
   {
    "duration": 40,
    "start_time": "2022-08-05T18:42:42.268Z"
   },
   {
    "duration": 39,
    "start_time": "2022-08-05T18:42:51.457Z"
   },
   {
    "duration": 13,
    "start_time": "2022-08-05T18:43:31.957Z"
   },
   {
    "duration": 25,
    "start_time": "2022-08-05T18:44:12.448Z"
   },
   {
    "duration": 12,
    "start_time": "2022-08-05T18:44:35.134Z"
   },
   {
    "duration": 20,
    "start_time": "2022-08-05T18:46:44.647Z"
   },
   {
    "duration": 23,
    "start_time": "2022-08-05T18:47:00.571Z"
   },
   {
    "duration": 13,
    "start_time": "2022-08-05T18:48:03.445Z"
   },
   {
    "duration": 19,
    "start_time": "2022-08-05T18:48:18.998Z"
   },
   {
    "duration": 15,
    "start_time": "2022-08-05T18:48:36.177Z"
   },
   {
    "duration": 24,
    "start_time": "2022-08-05T18:49:14.785Z"
   },
   {
    "duration": 30,
    "start_time": "2022-08-05T18:49:21.080Z"
   },
   {
    "duration": 1366,
    "start_time": "2022-08-05T18:49:47.011Z"
   },
   {
    "duration": 3,
    "start_time": "2022-08-05T18:49:48.379Z"
   },
   {
    "duration": 5,
    "start_time": "2022-08-05T18:49:48.383Z"
   },
   {
    "duration": 97,
    "start_time": "2022-08-05T18:49:48.390Z"
   },
   {
    "duration": 13,
    "start_time": "2022-08-05T18:49:48.489Z"
   },
   {
    "duration": 35,
    "start_time": "2022-08-05T18:49:48.504Z"
   },
   {
    "duration": 9,
    "start_time": "2022-08-05T18:49:48.540Z"
   },
   {
    "duration": 22,
    "start_time": "2022-08-05T18:49:48.550Z"
   },
   {
    "duration": 9,
    "start_time": "2022-08-05T18:49:48.573Z"
   },
   {
    "duration": 39,
    "start_time": "2022-08-05T18:49:48.585Z"
   },
   {
    "duration": 11,
    "start_time": "2022-08-05T18:49:48.626Z"
   },
   {
    "duration": 12,
    "start_time": "2022-08-05T18:49:48.639Z"
   },
   {
    "duration": 9,
    "start_time": "2022-08-05T18:49:48.653Z"
   },
   {
    "duration": 43,
    "start_time": "2022-08-05T18:49:48.663Z"
   },
   {
    "duration": 43,
    "start_time": "2022-08-05T18:49:48.709Z"
   },
   {
    "duration": 20,
    "start_time": "2022-08-05T18:49:48.754Z"
   },
   {
    "duration": 12,
    "start_time": "2022-08-05T18:49:48.776Z"
   },
   {
    "duration": 19,
    "start_time": "2022-08-05T18:49:48.790Z"
   },
   {
    "duration": 20,
    "start_time": "2022-08-05T18:49:48.811Z"
   },
   {
    "duration": 53,
    "start_time": "2022-08-05T18:52:54.653Z"
   },
   {
    "duration": 55,
    "start_time": "2022-08-05T18:52:58.245Z"
   },
   {
    "duration": 21,
    "start_time": "2022-08-05T18:53:18.224Z"
   },
   {
    "duration": 20,
    "start_time": "2022-08-05T18:53:22.891Z"
   },
   {
    "duration": 1343,
    "start_time": "2022-08-05T18:53:49.742Z"
   },
   {
    "duration": 3,
    "start_time": "2022-08-05T18:53:51.087Z"
   },
   {
    "duration": 12,
    "start_time": "2022-08-05T18:53:51.091Z"
   },
   {
    "duration": 84,
    "start_time": "2022-08-05T18:53:51.107Z"
   },
   {
    "duration": 14,
    "start_time": "2022-08-05T18:53:51.193Z"
   },
   {
    "duration": 18,
    "start_time": "2022-08-05T18:53:51.209Z"
   },
   {
    "duration": 10,
    "start_time": "2022-08-05T18:53:51.228Z"
   },
   {
    "duration": 15,
    "start_time": "2022-08-05T18:53:51.241Z"
   },
   {
    "duration": 41,
    "start_time": "2022-08-05T18:53:51.258Z"
   },
   {
    "duration": 71,
    "start_time": "2022-08-05T18:53:51.302Z"
   },
   {
    "duration": 33,
    "start_time": "2022-08-05T18:53:51.375Z"
   },
   {
    "duration": 20,
    "start_time": "2022-08-05T18:53:51.410Z"
   },
   {
    "duration": 8,
    "start_time": "2022-08-05T18:53:51.432Z"
   },
   {
    "duration": 13,
    "start_time": "2022-08-05T18:53:51.442Z"
   },
   {
    "duration": 47,
    "start_time": "2022-08-05T18:53:51.457Z"
   },
   {
    "duration": 18,
    "start_time": "2022-08-05T18:53:51.506Z"
   },
   {
    "duration": 10,
    "start_time": "2022-08-05T18:53:51.526Z"
   },
   {
    "duration": 14,
    "start_time": "2022-08-05T18:53:51.538Z"
   },
   {
    "duration": 9,
    "start_time": "2022-08-05T18:53:51.553Z"
   },
   {
    "duration": 186,
    "start_time": "2022-08-05T18:54:48.617Z"
   },
   {
    "duration": 28,
    "start_time": "2022-08-05T18:55:05.903Z"
   },
   {
    "duration": 64,
    "start_time": "2022-08-05T18:55:35.611Z"
   },
   {
    "duration": 20,
    "start_time": "2022-08-05T18:55:38.998Z"
   },
   {
    "duration": 26,
    "start_time": "2022-08-05T18:55:53.635Z"
   },
   {
    "duration": 15,
    "start_time": "2022-08-05T18:56:50.043Z"
   },
   {
    "duration": 36,
    "start_time": "2022-08-05T18:57:05.326Z"
   },
   {
    "duration": 1289,
    "start_time": "2022-08-05T18:58:19.417Z"
   },
   {
    "duration": 3,
    "start_time": "2022-08-05T18:58:20.707Z"
   },
   {
    "duration": 10,
    "start_time": "2022-08-05T18:58:20.711Z"
   },
   {
    "duration": 81,
    "start_time": "2022-08-05T18:58:20.723Z"
   },
   {
    "duration": 11,
    "start_time": "2022-08-05T18:58:20.806Z"
   },
   {
    "duration": 19,
    "start_time": "2022-08-05T18:58:20.818Z"
   },
   {
    "duration": 9,
    "start_time": "2022-08-05T18:58:20.839Z"
   },
   {
    "duration": 23,
    "start_time": "2022-08-05T18:58:20.849Z"
   },
   {
    "duration": 13,
    "start_time": "2022-08-05T18:58:20.874Z"
   },
   {
    "duration": 21,
    "start_time": "2022-08-05T18:58:20.899Z"
   },
   {
    "duration": 7,
    "start_time": "2022-08-05T18:58:20.922Z"
   },
   {
    "duration": 12,
    "start_time": "2022-08-05T18:58:20.930Z"
   },
   {
    "duration": 8,
    "start_time": "2022-08-05T18:58:20.943Z"
   },
   {
    "duration": 10,
    "start_time": "2022-08-05T18:58:20.953Z"
   },
   {
    "duration": 39,
    "start_time": "2022-08-05T18:58:20.965Z"
   },
   {
    "duration": 12,
    "start_time": "2022-08-05T18:58:21.005Z"
   },
   {
    "duration": 10,
    "start_time": "2022-08-05T18:58:21.018Z"
   },
   {
    "duration": 13,
    "start_time": "2022-08-05T18:58:21.030Z"
   },
   {
    "duration": 8,
    "start_time": "2022-08-05T18:58:21.045Z"
   },
   {
    "duration": 8,
    "start_time": "2022-08-05T19:02:37.129Z"
   },
   {
    "duration": 1373,
    "start_time": "2022-08-05T19:03:16.539Z"
   },
   {
    "duration": 2,
    "start_time": "2022-08-05T19:03:17.914Z"
   },
   {
    "duration": 5,
    "start_time": "2022-08-05T19:03:17.918Z"
   },
   {
    "duration": 97,
    "start_time": "2022-08-05T19:03:17.925Z"
   },
   {
    "duration": 11,
    "start_time": "2022-08-05T19:03:18.024Z"
   },
   {
    "duration": 13,
    "start_time": "2022-08-05T19:03:18.037Z"
   },
   {
    "duration": 7,
    "start_time": "2022-08-05T19:03:18.052Z"
   },
   {
    "duration": 12,
    "start_time": "2022-08-05T19:03:18.061Z"
   },
   {
    "duration": 6,
    "start_time": "2022-08-05T19:03:18.074Z"
   },
   {
    "duration": 35,
    "start_time": "2022-08-05T19:03:18.082Z"
   },
   {
    "duration": 10,
    "start_time": "2022-08-05T19:03:18.119Z"
   },
   {
    "duration": 12,
    "start_time": "2022-08-05T19:03:18.130Z"
   },
   {
    "duration": 15,
    "start_time": "2022-08-05T19:03:18.144Z"
   },
   {
    "duration": 37,
    "start_time": "2022-08-05T19:03:18.161Z"
   },
   {
    "duration": 7,
    "start_time": "2022-08-05T19:03:18.200Z"
   },
   {
    "duration": 13,
    "start_time": "2022-08-05T19:03:18.208Z"
   },
   {
    "duration": 12,
    "start_time": "2022-08-05T19:03:18.223Z"
   },
   {
    "duration": 12,
    "start_time": "2022-08-05T19:03:18.237Z"
   },
   {
    "duration": 11,
    "start_time": "2022-08-05T19:03:18.251Z"
   },
   {
    "duration": 42,
    "start_time": "2022-08-05T19:03:18.264Z"
   },
   {
    "duration": 17,
    "start_time": "2022-08-05T19:03:18.307Z"
   },
   {
    "duration": 1368,
    "start_time": "2022-08-05T19:03:55.517Z"
   },
   {
    "duration": 3,
    "start_time": "2022-08-05T19:03:56.887Z"
   },
   {
    "duration": 7,
    "start_time": "2022-08-05T19:03:56.891Z"
   },
   {
    "duration": 81,
    "start_time": "2022-08-05T19:03:56.899Z"
   },
   {
    "duration": 11,
    "start_time": "2022-08-05T19:03:56.982Z"
   },
   {
    "duration": 14,
    "start_time": "2022-08-05T19:03:56.994Z"
   },
   {
    "duration": 15,
    "start_time": "2022-08-05T19:03:57.009Z"
   },
   {
    "duration": 13,
    "start_time": "2022-08-05T19:03:57.026Z"
   },
   {
    "duration": 7,
    "start_time": "2022-08-05T19:03:57.041Z"
   },
   {
    "duration": 26,
    "start_time": "2022-08-05T19:03:57.049Z"
   },
   {
    "duration": 24,
    "start_time": "2022-08-05T19:03:57.077Z"
   },
   {
    "duration": 47,
    "start_time": "2022-08-05T19:03:57.103Z"
   },
   {
    "duration": 0,
    "start_time": "2022-08-05T19:03:57.153Z"
   },
   {
    "duration": 0,
    "start_time": "2022-08-05T19:03:57.154Z"
   },
   {
    "duration": 0,
    "start_time": "2022-08-05T19:03:57.154Z"
   },
   {
    "duration": 0,
    "start_time": "2022-08-05T19:03:57.155Z"
   },
   {
    "duration": 0,
    "start_time": "2022-08-05T19:03:57.156Z"
   },
   {
    "duration": 0,
    "start_time": "2022-08-05T19:03:57.157Z"
   },
   {
    "duration": 0,
    "start_time": "2022-08-05T19:03:57.158Z"
   },
   {
    "duration": 0,
    "start_time": "2022-08-05T19:03:57.159Z"
   },
   {
    "duration": 0,
    "start_time": "2022-08-05T19:03:57.160Z"
   },
   {
    "duration": 10,
    "start_time": "2022-08-05T19:04:07.321Z"
   },
   {
    "duration": 146,
    "start_time": "2022-08-05T19:05:45.784Z"
   },
   {
    "duration": 10,
    "start_time": "2022-08-05T19:05:49.131Z"
   },
   {
    "duration": 7,
    "start_time": "2022-08-05T19:06:22.834Z"
   },
   {
    "duration": 7,
    "start_time": "2022-08-05T19:07:36.194Z"
   },
   {
    "duration": 1339,
    "start_time": "2022-08-05T19:07:41.181Z"
   },
   {
    "duration": 3,
    "start_time": "2022-08-05T19:07:42.521Z"
   },
   {
    "duration": 8,
    "start_time": "2022-08-05T19:07:42.526Z"
   },
   {
    "duration": 84,
    "start_time": "2022-08-05T19:07:42.537Z"
   },
   {
    "duration": 12,
    "start_time": "2022-08-05T19:07:42.622Z"
   },
   {
    "duration": 19,
    "start_time": "2022-08-05T19:07:42.635Z"
   },
   {
    "duration": 9,
    "start_time": "2022-08-05T19:07:42.656Z"
   },
   {
    "duration": 13,
    "start_time": "2022-08-05T19:07:42.666Z"
   },
   {
    "duration": 18,
    "start_time": "2022-08-05T19:07:42.680Z"
   },
   {
    "duration": 19,
    "start_time": "2022-08-05T19:07:42.701Z"
   },
   {
    "duration": 6,
    "start_time": "2022-08-05T19:07:42.722Z"
   },
   {
    "duration": 15,
    "start_time": "2022-08-05T19:07:42.729Z"
   },
   {
    "duration": 14,
    "start_time": "2022-08-05T19:07:42.745Z"
   },
   {
    "duration": 10,
    "start_time": "2022-08-05T19:07:42.761Z"
   },
   {
    "duration": 13,
    "start_time": "2022-08-05T19:07:42.799Z"
   },
   {
    "duration": 8,
    "start_time": "2022-08-05T19:07:42.814Z"
   },
   {
    "duration": 14,
    "start_time": "2022-08-05T19:07:42.824Z"
   },
   {
    "duration": 14,
    "start_time": "2022-08-05T19:07:42.840Z"
   },
   {
    "duration": 46,
    "start_time": "2022-08-05T19:07:42.856Z"
   },
   {
    "duration": 11,
    "start_time": "2022-08-05T19:07:42.903Z"
   },
   {
    "duration": 14,
    "start_time": "2022-08-05T19:07:42.916Z"
   },
   {
    "duration": 9,
    "start_time": "2022-08-05T19:07:42.932Z"
   },
   {
    "duration": 158,
    "start_time": "2022-08-05T19:09:22.473Z"
   },
   {
    "duration": 10,
    "start_time": "2022-08-05T19:09:29.322Z"
   },
   {
    "duration": 10,
    "start_time": "2022-08-05T19:09:41.890Z"
   },
   {
    "duration": 11,
    "start_time": "2022-08-05T19:09:58.704Z"
   },
   {
    "duration": 58,
    "start_time": "2022-08-05T19:10:14.983Z"
   },
   {
    "duration": 9,
    "start_time": "2022-08-05T19:12:06.551Z"
   },
   {
    "duration": 10,
    "start_time": "2022-08-05T19:12:35.367Z"
   },
   {
    "duration": 16,
    "start_time": "2022-08-05T19:12:48.961Z"
   },
   {
    "duration": 10,
    "start_time": "2022-08-05T19:14:57.856Z"
   },
   {
    "duration": 21,
    "start_time": "2022-08-05T19:15:02.138Z"
   },
   {
    "duration": 9,
    "start_time": "2022-08-05T19:20:22.434Z"
   },
   {
    "duration": 283,
    "start_time": "2022-08-05T19:25:55.494Z"
   },
   {
    "duration": 197,
    "start_time": "2022-08-05T19:26:03.605Z"
   },
   {
    "duration": 281,
    "start_time": "2022-08-05T19:26:21.338Z"
   },
   {
    "duration": 216,
    "start_time": "2022-08-05T19:27:01.351Z"
   },
   {
    "duration": 250,
    "start_time": "2022-08-05T19:27:32.098Z"
   },
   {
    "duration": 250,
    "start_time": "2022-08-05T19:27:56.431Z"
   },
   {
    "duration": 247,
    "start_time": "2022-08-05T19:29:48.854Z"
   },
   {
    "duration": 339,
    "start_time": "2022-08-05T19:30:14.549Z"
   },
   {
    "duration": 300,
    "start_time": "2022-08-05T19:30:30.510Z"
   },
   {
    "duration": 251,
    "start_time": "2022-08-05T19:30:46.003Z"
   },
   {
    "duration": 18934,
    "start_time": "2022-08-05T19:31:38.376Z"
   },
   {
    "duration": 8079,
    "start_time": "2022-08-05T19:32:41.416Z"
   },
   {
    "duration": 10161,
    "start_time": "2022-08-05T19:32:53.303Z"
   },
   {
    "duration": 246,
    "start_time": "2022-08-05T19:33:11.262Z"
   },
   {
    "duration": 933,
    "start_time": "2022-08-05T19:33:42.329Z"
   },
   {
    "duration": 886,
    "start_time": "2022-08-05T19:33:59.131Z"
   },
   {
    "duration": 242,
    "start_time": "2022-08-05T19:34:12.967Z"
   },
   {
    "duration": 6,
    "start_time": "2022-08-05T19:37:03.665Z"
   },
   {
    "duration": 45,
    "start_time": "2022-08-05T19:40:17.161Z"
   },
   {
    "duration": 50,
    "start_time": "2022-08-05T19:40:54.206Z"
   },
   {
    "duration": 55,
    "start_time": "2022-08-05T19:42:18.925Z"
   },
   {
    "duration": 56,
    "start_time": "2022-08-05T19:42:33.627Z"
   },
   {
    "duration": 10,
    "start_time": "2022-08-05T19:42:58.294Z"
   },
   {
    "duration": 1376,
    "start_time": "2022-08-05T19:43:27.293Z"
   },
   {
    "duration": 3,
    "start_time": "2022-08-05T19:43:28.671Z"
   },
   {
    "duration": 16,
    "start_time": "2022-08-05T19:43:28.675Z"
   },
   {
    "duration": 86,
    "start_time": "2022-08-05T19:43:28.693Z"
   },
   {
    "duration": 11,
    "start_time": "2022-08-05T19:43:28.781Z"
   },
   {
    "duration": 13,
    "start_time": "2022-08-05T19:43:28.794Z"
   },
   {
    "duration": 8,
    "start_time": "2022-08-05T19:43:28.809Z"
   },
   {
    "duration": 15,
    "start_time": "2022-08-05T19:43:28.818Z"
   },
   {
    "duration": 7,
    "start_time": "2022-08-05T19:43:28.835Z"
   },
   {
    "duration": 53,
    "start_time": "2022-08-05T19:43:28.846Z"
   },
   {
    "duration": 7,
    "start_time": "2022-08-05T19:43:28.901Z"
   },
   {
    "duration": 10,
    "start_time": "2022-08-05T19:43:28.910Z"
   },
   {
    "duration": 9,
    "start_time": "2022-08-05T19:43:28.921Z"
   },
   {
    "duration": 24,
    "start_time": "2022-08-05T19:43:28.931Z"
   },
   {
    "duration": 372,
    "start_time": "2022-08-05T19:43:28.956Z"
   },
   {
    "duration": 8,
    "start_time": "2022-08-05T19:43:29.330Z"
   },
   {
    "duration": 12,
    "start_time": "2022-08-05T19:43:29.340Z"
   },
   {
    "duration": 8,
    "start_time": "2022-08-05T19:43:29.354Z"
   },
   {
    "duration": 42,
    "start_time": "2022-08-05T19:43:29.363Z"
   },
   {
    "duration": 10,
    "start_time": "2022-08-05T19:43:29.407Z"
   },
   {
    "duration": 13,
    "start_time": "2022-08-05T19:43:29.419Z"
   },
   {
    "duration": 18,
    "start_time": "2022-08-05T19:43:29.434Z"
   },
   {
    "duration": 18,
    "start_time": "2022-08-05T19:43:29.454Z"
   },
   {
    "duration": 10,
    "start_time": "2022-08-05T19:43:29.500Z"
   },
   {
    "duration": 13,
    "start_time": "2022-08-05T19:43:29.512Z"
   },
   {
    "duration": 12,
    "start_time": "2022-08-05T19:43:29.526Z"
   },
   {
    "duration": 13,
    "start_time": "2022-08-05T19:43:53.554Z"
   },
   {
    "duration": 7,
    "start_time": "2022-08-05T19:44:09.245Z"
   },
   {
    "duration": 9,
    "start_time": "2022-08-05T19:45:20.693Z"
   },
   {
    "duration": 8,
    "start_time": "2022-08-05T19:45:26.541Z"
   },
   {
    "duration": 8,
    "start_time": "2022-08-05T19:46:01.129Z"
   },
   {
    "duration": 1432,
    "start_time": "2022-08-05T19:50:37.987Z"
   },
   {
    "duration": 3,
    "start_time": "2022-08-05T19:50:39.421Z"
   },
   {
    "duration": 7,
    "start_time": "2022-08-05T19:50:39.425Z"
   },
   {
    "duration": 95,
    "start_time": "2022-08-05T19:50:39.433Z"
   },
   {
    "duration": 12,
    "start_time": "2022-08-05T19:50:39.530Z"
   },
   {
    "duration": 16,
    "start_time": "2022-08-05T19:50:39.543Z"
   },
   {
    "duration": 11,
    "start_time": "2022-08-05T19:50:39.561Z"
   },
   {
    "duration": 16,
    "start_time": "2022-08-05T19:50:39.574Z"
   },
   {
    "duration": 11,
    "start_time": "2022-08-05T19:50:39.592Z"
   },
   {
    "duration": 24,
    "start_time": "2022-08-05T19:50:39.605Z"
   },
   {
    "duration": 6,
    "start_time": "2022-08-05T19:50:39.631Z"
   },
   {
    "duration": 16,
    "start_time": "2022-08-05T19:50:39.638Z"
   },
   {
    "duration": 10,
    "start_time": "2022-08-05T19:50:39.655Z"
   },
   {
    "duration": 45,
    "start_time": "2022-08-05T19:50:39.668Z"
   },
   {
    "duration": 344,
    "start_time": "2022-08-05T19:50:39.714Z"
   },
   {
    "duration": 8,
    "start_time": "2022-08-05T19:50:40.060Z"
   },
   {
    "duration": 24,
    "start_time": "2022-08-05T19:50:40.070Z"
   },
   {
    "duration": 9,
    "start_time": "2022-08-05T19:50:40.096Z"
   },
   {
    "duration": 18,
    "start_time": "2022-08-05T19:50:40.106Z"
   },
   {
    "duration": 9,
    "start_time": "2022-08-05T19:50:40.125Z"
   },
   {
    "duration": 19,
    "start_time": "2022-08-05T19:50:40.136Z"
   },
   {
    "duration": 20,
    "start_time": "2022-08-05T19:50:40.156Z"
   },
   {
    "duration": 18,
    "start_time": "2022-08-05T19:50:40.178Z"
   },
   {
    "duration": 19,
    "start_time": "2022-08-05T19:50:40.197Z"
   },
   {
    "duration": 46,
    "start_time": "2022-08-05T20:17:26.127Z"
   },
   {
    "duration": 52,
    "start_time": "2022-08-05T20:17:50.006Z"
   },
   {
    "duration": 50,
    "start_time": "2022-08-05T20:18:02.384Z"
   },
   {
    "duration": 68,
    "start_time": "2022-08-05T20:19:18.953Z"
   },
   {
    "duration": 53,
    "start_time": "2022-08-05T20:20:04.750Z"
   },
   {
    "duration": 289,
    "start_time": "2022-08-05T20:20:11.985Z"
   },
   {
    "duration": 278,
    "start_time": "2022-08-05T20:20:25.649Z"
   },
   {
    "duration": 338,
    "start_time": "2022-08-05T20:25:18.856Z"
   },
   {
    "duration": 275,
    "start_time": "2022-08-05T20:25:41.697Z"
   },
   {
    "duration": 303,
    "start_time": "2022-08-05T20:26:15.082Z"
   },
   {
    "duration": 188,
    "start_time": "2022-08-05T20:29:33.958Z"
   },
   {
    "duration": 277,
    "start_time": "2022-08-05T20:30:06.241Z"
   },
   {
    "duration": 235,
    "start_time": "2022-08-05T20:30:44.336Z"
   },
   {
    "duration": 202,
    "start_time": "2022-08-05T20:30:55.396Z"
   },
   {
    "duration": 273,
    "start_time": "2022-08-05T20:34:40.523Z"
   },
   {
    "duration": 338,
    "start_time": "2022-08-05T20:35:31.550Z"
   },
   {
    "duration": 343,
    "start_time": "2022-08-05T20:35:55.704Z"
   },
   {
    "duration": 206,
    "start_time": "2022-08-05T20:36:13.255Z"
   },
   {
    "duration": 220,
    "start_time": "2022-08-05T20:37:40.164Z"
   },
   {
    "duration": 221,
    "start_time": "2022-08-05T20:37:51.447Z"
   },
   {
    "duration": 281,
    "start_time": "2022-08-05T20:37:58.714Z"
   },
   {
    "duration": 222,
    "start_time": "2022-08-05T20:38:35.187Z"
   },
   {
    "duration": 321,
    "start_time": "2022-08-05T20:38:43.655Z"
   },
   {
    "duration": 281,
    "start_time": "2022-08-05T20:39:19.866Z"
   },
   {
    "duration": 238,
    "start_time": "2022-08-05T20:47:41.293Z"
   },
   {
    "duration": 244,
    "start_time": "2022-08-05T20:47:45.513Z"
   },
   {
    "duration": 240,
    "start_time": "2022-08-05T20:47:52.677Z"
   },
   {
    "duration": 237,
    "start_time": "2022-08-05T20:48:02.372Z"
   },
   {
    "duration": 1321,
    "start_time": "2022-08-05T20:48:26.173Z"
   },
   {
    "duration": 3,
    "start_time": "2022-08-05T20:48:27.497Z"
   },
   {
    "duration": 7,
    "start_time": "2022-08-05T20:48:27.502Z"
   },
   {
    "duration": 81,
    "start_time": "2022-08-05T20:48:27.511Z"
   },
   {
    "duration": 12,
    "start_time": "2022-08-05T20:48:27.593Z"
   },
   {
    "duration": 14,
    "start_time": "2022-08-05T20:48:27.606Z"
   },
   {
    "duration": 8,
    "start_time": "2022-08-05T20:48:27.622Z"
   },
   {
    "duration": 13,
    "start_time": "2022-08-05T20:48:27.632Z"
   },
   {
    "duration": 10,
    "start_time": "2022-08-05T20:48:27.646Z"
   },
   {
    "duration": 46,
    "start_time": "2022-08-05T20:48:27.659Z"
   },
   {
    "duration": 9,
    "start_time": "2022-08-05T20:48:27.706Z"
   },
   {
    "duration": 10,
    "start_time": "2022-08-05T20:48:27.717Z"
   },
   {
    "duration": 10,
    "start_time": "2022-08-05T20:48:27.728Z"
   },
   {
    "duration": 28,
    "start_time": "2022-08-05T20:48:27.739Z"
   },
   {
    "duration": 396,
    "start_time": "2022-08-05T20:48:27.768Z"
   },
   {
    "duration": 7,
    "start_time": "2022-08-05T20:48:28.166Z"
   },
   {
    "duration": 23,
    "start_time": "2022-08-05T20:48:28.175Z"
   },
   {
    "duration": 6,
    "start_time": "2022-08-05T20:48:28.200Z"
   },
   {
    "duration": 12,
    "start_time": "2022-08-05T20:48:28.208Z"
   },
   {
    "duration": 5,
    "start_time": "2022-08-05T20:48:28.222Z"
   },
   {
    "duration": 13,
    "start_time": "2022-08-05T20:48:28.229Z"
   },
   {
    "duration": 9,
    "start_time": "2022-08-05T20:48:28.244Z"
   },
   {
    "duration": 46,
    "start_time": "2022-08-05T20:48:28.255Z"
   },
   {
    "duration": 20,
    "start_time": "2022-08-05T20:48:28.303Z"
   },
   {
    "duration": 290,
    "start_time": "2022-08-05T20:48:28.325Z"
   },
   {
    "duration": 259,
    "start_time": "2022-08-05T20:48:28.617Z"
   },
   {
    "duration": 259,
    "start_time": "2022-08-05T20:48:54.490Z"
   },
   {
    "duration": 162,
    "start_time": "2022-08-05T20:49:01.650Z"
   },
   {
    "duration": 250,
    "start_time": "2022-08-05T20:51:05.278Z"
   },
   {
    "duration": 259,
    "start_time": "2022-08-05T20:51:38.848Z"
   },
   {
    "duration": 248,
    "start_time": "2022-08-05T20:53:48.529Z"
   },
   {
    "duration": 281,
    "start_time": "2022-08-05T21:03:04.482Z"
   },
   {
    "duration": 299,
    "start_time": "2022-08-05T21:08:30.169Z"
   },
   {
    "duration": 308,
    "start_time": "2022-08-05T21:08:55.370Z"
   },
   {
    "duration": 358,
    "start_time": "2022-08-05T21:09:12.372Z"
   },
   {
    "duration": 345,
    "start_time": "2022-08-05T21:09:20.074Z"
   },
   {
    "duration": 330,
    "start_time": "2022-08-05T21:10:35.606Z"
   },
   {
    "duration": 333,
    "start_time": "2022-08-05T21:12:10.866Z"
   },
   {
    "duration": 48,
    "start_time": "2022-08-05T21:16:45.665Z"
   },
   {
    "duration": 54,
    "start_time": "2022-08-05T21:17:17.176Z"
   },
   {
    "duration": 316,
    "start_time": "2022-08-05T21:17:23.177Z"
   },
   {
    "duration": 259,
    "start_time": "2022-08-05T21:18:10.188Z"
   },
   {
    "duration": 288,
    "start_time": "2022-08-05T21:19:19.578Z"
   },
   {
    "duration": 255,
    "start_time": "2022-08-05T21:20:03.800Z"
   },
   {
    "duration": 52,
    "start_time": "2022-08-05T21:24:48.390Z"
   },
   {
    "duration": 272,
    "start_time": "2022-08-05T21:25:18.828Z"
   },
   {
    "duration": 343,
    "start_time": "2022-08-05T21:26:02.297Z"
   },
   {
    "duration": 343,
    "start_time": "2022-08-05T21:27:03.215Z"
   },
   {
    "duration": 352,
    "start_time": "2022-08-05T21:27:12.210Z"
   },
   {
    "duration": 376,
    "start_time": "2022-08-05T21:27:29.869Z"
   },
   {
    "duration": 359,
    "start_time": "2022-08-05T21:28:05.116Z"
   },
   {
    "duration": 1293,
    "start_time": "2022-08-05T21:28:16.646Z"
   },
   {
    "duration": 3,
    "start_time": "2022-08-05T21:28:17.941Z"
   },
   {
    "duration": 11,
    "start_time": "2022-08-05T21:28:17.945Z"
   },
   {
    "duration": 88,
    "start_time": "2022-08-05T21:28:17.959Z"
   },
   {
    "duration": 12,
    "start_time": "2022-08-05T21:28:18.049Z"
   },
   {
    "duration": 13,
    "start_time": "2022-08-05T21:28:18.062Z"
   },
   {
    "duration": 8,
    "start_time": "2022-08-05T21:28:18.077Z"
   },
   {
    "duration": 12,
    "start_time": "2022-08-05T21:28:18.086Z"
   },
   {
    "duration": 5,
    "start_time": "2022-08-05T21:28:18.100Z"
   },
   {
    "duration": 19,
    "start_time": "2022-08-05T21:28:18.108Z"
   },
   {
    "duration": 6,
    "start_time": "2022-08-05T21:28:18.128Z"
   },
   {
    "duration": 10,
    "start_time": "2022-08-05T21:28:18.135Z"
   },
   {
    "duration": 9,
    "start_time": "2022-08-05T21:28:18.146Z"
   },
   {
    "duration": 58,
    "start_time": "2022-08-05T21:28:18.157Z"
   },
   {
    "duration": 359,
    "start_time": "2022-08-05T21:28:18.216Z"
   },
   {
    "duration": 7,
    "start_time": "2022-08-05T21:28:18.577Z"
   },
   {
    "duration": 10,
    "start_time": "2022-08-05T21:28:18.598Z"
   },
   {
    "duration": 12,
    "start_time": "2022-08-05T21:28:18.610Z"
   },
   {
    "duration": 20,
    "start_time": "2022-08-05T21:28:18.624Z"
   },
   {
    "duration": 16,
    "start_time": "2022-08-05T21:28:18.647Z"
   },
   {
    "duration": 10,
    "start_time": "2022-08-05T21:28:18.664Z"
   },
   {
    "duration": 27,
    "start_time": "2022-08-05T21:28:18.675Z"
   },
   {
    "duration": 11,
    "start_time": "2022-08-05T21:28:18.704Z"
   },
   {
    "duration": 12,
    "start_time": "2022-08-05T21:28:18.717Z"
   },
   {
    "duration": 297,
    "start_time": "2022-08-05T21:28:18.731Z"
   },
   {
    "duration": 322,
    "start_time": "2022-08-05T21:28:19.029Z"
   },
   {
    "duration": 258,
    "start_time": "2022-08-05T21:28:19.353Z"
   },
   {
    "duration": 340,
    "start_time": "2022-08-05T21:28:19.615Z"
   },
   {
    "duration": 270,
    "start_time": "2022-08-05T21:28:19.957Z"
   },
   {
    "duration": 352,
    "start_time": "2022-08-05T21:28:20.229Z"
   },
   {
    "duration": 1141,
    "start_time": "2022-08-05T21:35:14.113Z"
   },
   {
    "duration": 374,
    "start_time": "2022-08-05T21:35:52.771Z"
   },
   {
    "duration": 347,
    "start_time": "2022-08-05T21:37:49.590Z"
   },
   {
    "duration": 1269,
    "start_time": "2022-08-05T21:38:51.936Z"
   },
   {
    "duration": 3,
    "start_time": "2022-08-05T21:38:53.207Z"
   },
   {
    "duration": 6,
    "start_time": "2022-08-05T21:38:53.211Z"
   },
   {
    "duration": 82,
    "start_time": "2022-08-05T21:38:53.219Z"
   },
   {
    "duration": 11,
    "start_time": "2022-08-05T21:38:53.303Z"
   },
   {
    "duration": 23,
    "start_time": "2022-08-05T21:38:53.315Z"
   },
   {
    "duration": 8,
    "start_time": "2022-08-05T21:38:53.340Z"
   },
   {
    "duration": 13,
    "start_time": "2022-08-05T21:38:53.349Z"
   },
   {
    "duration": 10,
    "start_time": "2022-08-05T21:38:53.363Z"
   },
   {
    "duration": 33,
    "start_time": "2022-08-05T21:38:53.375Z"
   },
   {
    "duration": 6,
    "start_time": "2022-08-05T21:38:53.410Z"
   },
   {
    "duration": 13,
    "start_time": "2022-08-05T21:38:53.417Z"
   },
   {
    "duration": 11,
    "start_time": "2022-08-05T21:38:53.431Z"
   },
   {
    "duration": 24,
    "start_time": "2022-08-05T21:38:53.444Z"
   },
   {
    "duration": 377,
    "start_time": "2022-08-05T21:38:53.469Z"
   },
   {
    "duration": 9,
    "start_time": "2022-08-05T21:38:53.847Z"
   },
   {
    "duration": 19,
    "start_time": "2022-08-05T21:38:53.857Z"
   },
   {
    "duration": 8,
    "start_time": "2022-08-05T21:38:53.878Z"
   },
   {
    "duration": 21,
    "start_time": "2022-08-05T21:38:53.887Z"
   },
   {
    "duration": 14,
    "start_time": "2022-08-05T21:38:53.910Z"
   },
   {
    "duration": 9,
    "start_time": "2022-08-05T21:38:53.926Z"
   },
   {
    "duration": 8,
    "start_time": "2022-08-05T21:38:53.937Z"
   },
   {
    "duration": 23,
    "start_time": "2022-08-05T21:38:53.947Z"
   },
   {
    "duration": 31,
    "start_time": "2022-08-05T21:38:53.972Z"
   },
   {
    "duration": 280,
    "start_time": "2022-08-05T21:38:54.005Z"
   },
   {
    "duration": 288,
    "start_time": "2022-08-05T21:38:54.286Z"
   },
   {
    "duration": 320,
    "start_time": "2022-08-05T21:38:54.575Z"
   },
   {
    "duration": 367,
    "start_time": "2022-08-05T21:38:54.897Z"
   },
   {
    "duration": 271,
    "start_time": "2022-08-05T21:38:55.265Z"
   },
   {
    "duration": 335,
    "start_time": "2022-08-05T21:38:55.538Z"
   },
   {
    "duration": 137,
    "start_time": "2022-08-05T21:41:43.518Z"
   },
   {
    "duration": 15,
    "start_time": "2022-08-05T21:41:55.828Z"
   },
   {
    "duration": 201,
    "start_time": "2022-08-05T21:42:10.126Z"
   },
   {
    "duration": 12,
    "start_time": "2022-08-05T21:43:13.559Z"
   },
   {
    "duration": 12,
    "start_time": "2022-08-05T21:45:29.903Z"
   },
   {
    "duration": 12,
    "start_time": "2022-08-05T21:47:00.773Z"
   },
   {
    "duration": 116,
    "start_time": "2022-08-05T21:47:20.076Z"
   },
   {
    "duration": 122,
    "start_time": "2022-08-05T21:47:24.848Z"
   },
   {
    "duration": 119,
    "start_time": "2022-08-05T21:47:47.426Z"
   },
   {
    "duration": 135,
    "start_time": "2022-08-05T21:49:48.111Z"
   },
   {
    "duration": 133,
    "start_time": "2022-08-05T21:49:53.708Z"
   },
   {
    "duration": 135,
    "start_time": "2022-08-05T21:51:13.591Z"
   },
   {
    "duration": 128,
    "start_time": "2022-08-05T21:51:33.271Z"
   },
   {
    "duration": 171,
    "start_time": "2022-08-05T21:52:30.475Z"
   },
   {
    "duration": 235,
    "start_time": "2022-08-05T21:52:45.954Z"
   },
   {
    "duration": 11,
    "start_time": "2022-08-05T21:54:17.006Z"
   },
   {
    "duration": 12,
    "start_time": "2022-08-05T21:54:32.530Z"
   },
   {
    "duration": 11,
    "start_time": "2022-08-05T21:54:39.608Z"
   },
   {
    "duration": 11,
    "start_time": "2022-08-05T21:54:50.954Z"
   },
   {
    "duration": 224,
    "start_time": "2022-08-05T21:59:24.208Z"
   },
   {
    "duration": 216,
    "start_time": "2022-08-05T21:59:35.290Z"
   },
   {
    "duration": 216,
    "start_time": "2022-08-05T21:59:42.416Z"
   },
   {
    "duration": 180,
    "start_time": "2022-08-05T22:00:18.945Z"
   },
   {
    "duration": 184,
    "start_time": "2022-08-05T22:00:29.195Z"
   },
   {
    "duration": 155,
    "start_time": "2022-08-05T22:00:54.103Z"
   },
   {
    "duration": 155,
    "start_time": "2022-08-05T22:03:49.856Z"
   },
   {
    "duration": 129,
    "start_time": "2022-08-05T22:04:15.618Z"
   },
   {
    "duration": 132,
    "start_time": "2022-08-05T22:04:29.036Z"
   },
   {
    "duration": 153,
    "start_time": "2022-08-05T22:05:51.361Z"
   },
   {
    "duration": 222,
    "start_time": "2022-08-05T22:06:15.346Z"
   },
   {
    "duration": 4,
    "start_time": "2022-08-05T22:10:47.608Z"
   },
   {
    "duration": 1318,
    "start_time": "2022-08-05T22:13:37.664Z"
   },
   {
    "duration": 3,
    "start_time": "2022-08-05T22:13:38.984Z"
   },
   {
    "duration": 15,
    "start_time": "2022-08-05T22:13:38.988Z"
   },
   {
    "duration": 82,
    "start_time": "2022-08-05T22:13:39.005Z"
   },
   {
    "duration": 11,
    "start_time": "2022-08-05T22:13:39.089Z"
   },
   {
    "duration": 19,
    "start_time": "2022-08-05T22:13:39.102Z"
   },
   {
    "duration": 7,
    "start_time": "2022-08-05T22:13:39.123Z"
   },
   {
    "duration": 15,
    "start_time": "2022-08-05T22:13:39.132Z"
   },
   {
    "duration": 6,
    "start_time": "2022-08-05T22:13:39.148Z"
   },
   {
    "duration": 18,
    "start_time": "2022-08-05T22:13:39.157Z"
   },
   {
    "duration": 6,
    "start_time": "2022-08-05T22:13:39.199Z"
   },
   {
    "duration": 18,
    "start_time": "2022-08-05T22:13:39.206Z"
   },
   {
    "duration": 9,
    "start_time": "2022-08-05T22:13:39.226Z"
   },
   {
    "duration": 28,
    "start_time": "2022-08-05T22:13:39.236Z"
   },
   {
    "duration": 361,
    "start_time": "2022-08-05T22:13:39.266Z"
   },
   {
    "duration": 8,
    "start_time": "2022-08-05T22:13:39.629Z"
   },
   {
    "duration": 12,
    "start_time": "2022-08-05T22:13:39.638Z"
   },
   {
    "duration": 6,
    "start_time": "2022-08-05T22:13:39.652Z"
   },
   {
    "duration": 12,
    "start_time": "2022-08-05T22:13:39.659Z"
   },
   {
    "duration": 27,
    "start_time": "2022-08-05T22:13:39.672Z"
   },
   {
    "duration": 9,
    "start_time": "2022-08-05T22:13:39.701Z"
   },
   {
    "duration": 16,
    "start_time": "2022-08-05T22:13:39.711Z"
   },
   {
    "duration": 15,
    "start_time": "2022-08-05T22:13:39.729Z"
   },
   {
    "duration": 18,
    "start_time": "2022-08-05T22:13:39.745Z"
   },
   {
    "duration": 312,
    "start_time": "2022-08-05T22:13:39.764Z"
   },
   {
    "duration": 318,
    "start_time": "2022-08-05T22:13:40.078Z"
   },
   {
    "duration": 254,
    "start_time": "2022-08-05T22:13:40.398Z"
   },
   {
    "duration": 334,
    "start_time": "2022-08-05T22:13:40.655Z"
   },
   {
    "duration": 261,
    "start_time": "2022-08-05T22:13:40.991Z"
   },
   {
    "duration": 384,
    "start_time": "2022-08-05T22:13:41.253Z"
   },
   {
    "duration": 10,
    "start_time": "2022-08-05T22:13:41.639Z"
   },
   {
    "duration": 172,
    "start_time": "2022-08-05T22:13:41.651Z"
   },
   {
    "duration": 147,
    "start_time": "2022-08-05T22:13:41.825Z"
   },
   {
    "duration": 4,
    "start_time": "2022-08-05T22:13:41.973Z"
   },
   {
    "duration": 161,
    "start_time": "2022-08-05T22:22:19.841Z"
   },
   {
    "duration": 154,
    "start_time": "2022-08-05T22:22:32.741Z"
   },
   {
    "duration": 180,
    "start_time": "2022-08-05T22:23:06.629Z"
   },
   {
    "duration": 181,
    "start_time": "2022-08-05T22:23:33.707Z"
   },
   {
    "duration": 154,
    "start_time": "2022-08-05T22:24:20.488Z"
   },
   {
    "duration": 134,
    "start_time": "2022-08-05T22:26:29.059Z"
   },
   {
    "duration": 246,
    "start_time": "2022-08-05T22:26:52.934Z"
   },
   {
    "duration": 183,
    "start_time": "2022-08-05T22:27:01.582Z"
   },
   {
    "duration": 189,
    "start_time": "2022-08-05T22:27:07.491Z"
   },
   {
    "duration": 198,
    "start_time": "2022-08-05T22:27:59.518Z"
   },
   {
    "duration": 164,
    "start_time": "2022-08-05T22:28:19.762Z"
   },
   {
    "duration": 167,
    "start_time": "2022-08-05T22:29:07.877Z"
   },
   {
    "duration": 163,
    "start_time": "2022-08-05T22:29:16.540Z"
   },
   {
    "duration": 181,
    "start_time": "2022-08-05T22:33:01.628Z"
   },
   {
    "duration": 168,
    "start_time": "2022-08-05T22:33:17.547Z"
   },
   {
    "duration": 200,
    "start_time": "2022-08-05T22:33:35.394Z"
   },
   {
    "duration": 4,
    "start_time": "2022-08-05T22:38:08.424Z"
   },
   {
    "duration": 1252,
    "start_time": "2022-08-05T22:42:20.033Z"
   },
   {
    "duration": 2,
    "start_time": "2022-08-05T22:42:21.287Z"
   },
   {
    "duration": 9,
    "start_time": "2022-08-05T22:42:21.291Z"
   },
   {
    "duration": 81,
    "start_time": "2022-08-05T22:42:21.302Z"
   },
   {
    "duration": 11,
    "start_time": "2022-08-05T22:42:21.384Z"
   },
   {
    "duration": 20,
    "start_time": "2022-08-05T22:42:21.397Z"
   },
   {
    "duration": 10,
    "start_time": "2022-08-05T22:42:21.419Z"
   },
   {
    "duration": 14,
    "start_time": "2022-08-05T22:42:21.430Z"
   },
   {
    "duration": 17,
    "start_time": "2022-08-05T22:42:21.446Z"
   },
   {
    "duration": 36,
    "start_time": "2022-08-05T22:42:21.467Z"
   },
   {
    "duration": 7,
    "start_time": "2022-08-05T22:42:21.505Z"
   },
   {
    "duration": 11,
    "start_time": "2022-08-05T22:42:21.513Z"
   },
   {
    "duration": 10,
    "start_time": "2022-08-05T22:42:21.526Z"
   },
   {
    "duration": 22,
    "start_time": "2022-08-05T22:42:21.538Z"
   },
   {
    "duration": 375,
    "start_time": "2022-08-05T22:42:21.561Z"
   },
   {
    "duration": 9,
    "start_time": "2022-08-05T22:42:21.937Z"
   },
   {
    "duration": 22,
    "start_time": "2022-08-05T22:42:21.947Z"
   },
   {
    "duration": 33,
    "start_time": "2022-08-05T22:42:21.971Z"
   },
   {
    "duration": 13,
    "start_time": "2022-08-05T22:42:22.005Z"
   },
   {
    "duration": 11,
    "start_time": "2022-08-05T22:42:22.019Z"
   },
   {
    "duration": 11,
    "start_time": "2022-08-05T22:42:22.032Z"
   },
   {
    "duration": 8,
    "start_time": "2022-08-05T22:42:22.045Z"
   },
   {
    "duration": 25,
    "start_time": "2022-08-05T22:42:22.055Z"
   },
   {
    "duration": 16,
    "start_time": "2022-08-05T22:42:22.082Z"
   },
   {
    "duration": 284,
    "start_time": "2022-08-05T22:42:22.100Z"
   },
   {
    "duration": 316,
    "start_time": "2022-08-05T22:42:22.386Z"
   },
   {
    "duration": 263,
    "start_time": "2022-08-05T22:42:22.704Z"
   },
   {
    "duration": 363,
    "start_time": "2022-08-05T22:42:22.970Z"
   },
   {
    "duration": 265,
    "start_time": "2022-08-05T22:42:23.334Z"
   },
   {
    "duration": 360,
    "start_time": "2022-08-05T22:42:23.600Z"
   },
   {
    "duration": 11,
    "start_time": "2022-08-05T22:42:23.962Z"
   },
   {
    "duration": 171,
    "start_time": "2022-08-05T22:42:23.974Z"
   },
   {
    "duration": 144,
    "start_time": "2022-08-05T22:42:24.147Z"
   },
   {
    "duration": 8,
    "start_time": "2022-08-05T22:42:24.292Z"
   },
   {
    "duration": 187,
    "start_time": "2022-08-05T22:42:24.302Z"
   },
   {
    "duration": 263,
    "start_time": "2022-08-05T22:42:24.491Z"
   },
   {
    "duration": 0,
    "start_time": "2022-08-05T22:42:24.756Z"
   },
   {
    "duration": 0,
    "start_time": "2022-08-05T22:42:24.757Z"
   },
   {
    "duration": 1335,
    "start_time": "2022-08-05T22:43:23.848Z"
   },
   {
    "duration": 3,
    "start_time": "2022-08-05T22:43:25.185Z"
   },
   {
    "duration": 10,
    "start_time": "2022-08-05T22:43:25.190Z"
   },
   {
    "duration": 87,
    "start_time": "2022-08-05T22:43:25.203Z"
   },
   {
    "duration": 11,
    "start_time": "2022-08-05T22:43:25.291Z"
   },
   {
    "duration": 15,
    "start_time": "2022-08-05T22:43:25.304Z"
   },
   {
    "duration": 8,
    "start_time": "2022-08-05T22:43:25.321Z"
   },
   {
    "duration": 15,
    "start_time": "2022-08-05T22:43:25.331Z"
   },
   {
    "duration": 7,
    "start_time": "2022-08-05T22:43:25.348Z"
   },
   {
    "duration": 45,
    "start_time": "2022-08-05T22:43:25.358Z"
   },
   {
    "duration": 7,
    "start_time": "2022-08-05T22:43:25.404Z"
   },
   {
    "duration": 10,
    "start_time": "2022-08-05T22:43:25.412Z"
   },
   {
    "duration": 13,
    "start_time": "2022-08-05T22:43:25.423Z"
   },
   {
    "duration": 22,
    "start_time": "2022-08-05T22:43:25.437Z"
   },
   {
    "duration": 394,
    "start_time": "2022-08-05T22:43:25.461Z"
   },
   {
    "duration": 8,
    "start_time": "2022-08-05T22:43:25.857Z"
   },
   {
    "duration": 13,
    "start_time": "2022-08-05T22:43:25.866Z"
   },
   {
    "duration": 19,
    "start_time": "2022-08-05T22:43:25.880Z"
   },
   {
    "duration": 11,
    "start_time": "2022-08-05T22:43:25.901Z"
   },
   {
    "duration": 7,
    "start_time": "2022-08-05T22:43:25.914Z"
   },
   {
    "duration": 11,
    "start_time": "2022-08-05T22:43:25.922Z"
   },
   {
    "duration": 10,
    "start_time": "2022-08-05T22:43:25.935Z"
   },
   {
    "duration": 13,
    "start_time": "2022-08-05T22:43:25.947Z"
   },
   {
    "duration": 44,
    "start_time": "2022-08-05T22:43:25.962Z"
   },
   {
    "duration": 289,
    "start_time": "2022-08-05T22:43:26.007Z"
   },
   {
    "duration": 319,
    "start_time": "2022-08-05T22:43:26.298Z"
   },
   {
    "duration": 254,
    "start_time": "2022-08-05T22:43:26.619Z"
   },
   {
    "duration": 359,
    "start_time": "2022-08-05T22:43:26.877Z"
   },
   {
    "duration": 268,
    "start_time": "2022-08-05T22:43:27.238Z"
   },
   {
    "duration": 352,
    "start_time": "2022-08-05T22:43:27.507Z"
   },
   {
    "duration": 10,
    "start_time": "2022-08-05T22:43:27.861Z"
   },
   {
    "duration": 180,
    "start_time": "2022-08-05T22:43:27.872Z"
   },
   {
    "duration": 145,
    "start_time": "2022-08-05T22:43:28.053Z"
   },
   {
    "duration": 4,
    "start_time": "2022-08-05T22:43:28.200Z"
   },
   {
    "duration": 169,
    "start_time": "2022-08-05T22:43:28.207Z"
   },
   {
    "duration": 177,
    "start_time": "2022-08-05T22:43:28.377Z"
   },
   {
    "duration": 201,
    "start_time": "2022-08-05T22:43:28.555Z"
   },
   {
    "duration": 4,
    "start_time": "2022-08-05T22:43:28.758Z"
   },
   {
    "duration": 1368,
    "start_time": "2022-08-06T10:10:42.928Z"
   },
   {
    "duration": 4,
    "start_time": "2022-08-06T10:10:44.300Z"
   },
   {
    "duration": 10,
    "start_time": "2022-08-06T10:10:44.306Z"
   },
   {
    "duration": 85,
    "start_time": "2022-08-06T10:10:44.319Z"
   },
   {
    "duration": 16,
    "start_time": "2022-08-06T10:10:44.407Z"
   },
   {
    "duration": 26,
    "start_time": "2022-08-06T10:10:44.426Z"
   },
   {
    "duration": 23,
    "start_time": "2022-08-06T10:10:44.455Z"
   },
   {
    "duration": 36,
    "start_time": "2022-08-06T10:10:44.482Z"
   },
   {
    "duration": 29,
    "start_time": "2022-08-06T10:10:44.521Z"
   },
   {
    "duration": 43,
    "start_time": "2022-08-06T10:10:44.554Z"
   },
   {
    "duration": 15,
    "start_time": "2022-08-06T10:10:44.599Z"
   },
   {
    "duration": 19,
    "start_time": "2022-08-06T10:10:44.616Z"
   },
   {
    "duration": 55,
    "start_time": "2022-08-06T10:10:44.637Z"
   },
   {
    "duration": 57,
    "start_time": "2022-08-06T10:10:44.693Z"
   },
   {
    "duration": 432,
    "start_time": "2022-08-06T10:10:44.752Z"
   },
   {
    "duration": 15,
    "start_time": "2022-08-06T10:10:45.186Z"
   },
   {
    "duration": 18,
    "start_time": "2022-08-06T10:10:45.203Z"
   },
   {
    "duration": 10,
    "start_time": "2022-08-06T10:10:45.224Z"
   },
   {
    "duration": 15,
    "start_time": "2022-08-06T10:10:45.236Z"
   },
   {
    "duration": 34,
    "start_time": "2022-08-06T10:10:45.253Z"
   },
   {
    "duration": 16,
    "start_time": "2022-08-06T10:10:45.289Z"
   },
   {
    "duration": 18,
    "start_time": "2022-08-06T10:10:45.307Z"
   },
   {
    "duration": 26,
    "start_time": "2022-08-06T10:10:45.327Z"
   },
   {
    "duration": 20,
    "start_time": "2022-08-06T10:10:45.355Z"
   },
   {
    "duration": 294,
    "start_time": "2022-08-06T10:10:45.377Z"
   },
   {
    "duration": 370,
    "start_time": "2022-08-06T10:10:45.672Z"
   },
   {
    "duration": 351,
    "start_time": "2022-08-06T10:10:46.044Z"
   },
   {
    "duration": 385,
    "start_time": "2022-08-06T10:10:46.399Z"
   },
   {
    "duration": 392,
    "start_time": "2022-08-06T10:10:46.785Z"
   },
   {
    "duration": 519,
    "start_time": "2022-08-06T10:10:47.179Z"
   },
   {
    "duration": 17,
    "start_time": "2022-08-06T10:10:47.701Z"
   },
   {
    "duration": 281,
    "start_time": "2022-08-06T10:10:47.721Z"
   },
   {
    "duration": 200,
    "start_time": "2022-08-06T10:10:48.004Z"
   },
   {
    "duration": 4,
    "start_time": "2022-08-06T10:10:48.206Z"
   },
   {
    "duration": 266,
    "start_time": "2022-08-06T10:10:48.212Z"
   },
   {
    "duration": 220,
    "start_time": "2022-08-06T10:10:48.480Z"
   },
   {
    "duration": 217,
    "start_time": "2022-08-06T10:10:48.701Z"
   },
   {
    "duration": 5,
    "start_time": "2022-08-06T10:10:48.921Z"
   },
   {
    "duration": 1375,
    "start_time": "2022-08-06T10:17:58.249Z"
   },
   {
    "duration": 3,
    "start_time": "2022-08-06T10:17:59.627Z"
   },
   {
    "duration": 29,
    "start_time": "2022-08-06T10:17:59.635Z"
   },
   {
    "duration": 106,
    "start_time": "2022-08-06T10:17:59.666Z"
   },
   {
    "duration": 12,
    "start_time": "2022-08-06T10:17:59.774Z"
   },
   {
    "duration": 37,
    "start_time": "2022-08-06T10:17:59.788Z"
   },
   {
    "duration": 18,
    "start_time": "2022-08-06T10:17:59.827Z"
   },
   {
    "duration": 27,
    "start_time": "2022-08-06T10:17:59.847Z"
   },
   {
    "duration": 8,
    "start_time": "2022-08-06T10:17:59.878Z"
   },
   {
    "duration": 40,
    "start_time": "2022-08-06T10:17:59.888Z"
   },
   {
    "duration": 6,
    "start_time": "2022-08-06T10:17:59.930Z"
   },
   {
    "duration": 18,
    "start_time": "2022-08-06T10:17:59.938Z"
   },
   {
    "duration": 30,
    "start_time": "2022-08-06T10:17:59.958Z"
   },
   {
    "duration": 46,
    "start_time": "2022-08-06T10:17:59.990Z"
   },
   {
    "duration": 357,
    "start_time": "2022-08-06T10:18:00.038Z"
   },
   {
    "duration": 9,
    "start_time": "2022-08-06T10:18:00.396Z"
   },
   {
    "duration": 37,
    "start_time": "2022-08-06T10:18:00.406Z"
   },
   {
    "duration": 32,
    "start_time": "2022-08-06T10:18:00.445Z"
   },
   {
    "duration": 27,
    "start_time": "2022-08-06T10:18:00.479Z"
   },
   {
    "duration": 17,
    "start_time": "2022-08-06T10:18:00.507Z"
   },
   {
    "duration": 34,
    "start_time": "2022-08-06T10:18:00.525Z"
   },
   {
    "duration": 20,
    "start_time": "2022-08-06T10:18:00.561Z"
   },
   {
    "duration": 28,
    "start_time": "2022-08-06T10:18:00.583Z"
   },
   {
    "duration": 32,
    "start_time": "2022-08-06T10:18:00.612Z"
   },
   {
    "duration": 302,
    "start_time": "2022-08-06T10:18:00.645Z"
   },
   {
    "duration": 337,
    "start_time": "2022-08-06T10:18:00.949Z"
   },
   {
    "duration": 269,
    "start_time": "2022-08-06T10:18:01.289Z"
   },
   {
    "duration": 397,
    "start_time": "2022-08-06T10:18:01.560Z"
   },
   {
    "duration": 283,
    "start_time": "2022-08-06T10:18:01.959Z"
   },
   {
    "duration": 406,
    "start_time": "2022-08-06T10:18:02.244Z"
   },
   {
    "duration": 12,
    "start_time": "2022-08-06T10:18:02.651Z"
   },
   {
    "duration": 179,
    "start_time": "2022-08-06T10:18:02.665Z"
   },
   {
    "duration": 154,
    "start_time": "2022-08-06T10:18:02.846Z"
   },
   {
    "duration": 4,
    "start_time": "2022-08-06T10:18:03.002Z"
   },
   {
    "duration": 176,
    "start_time": "2022-08-06T10:18:03.007Z"
   },
   {
    "duration": 196,
    "start_time": "2022-08-06T10:18:03.185Z"
   },
   {
    "duration": 210,
    "start_time": "2022-08-06T10:18:03.382Z"
   },
   {
    "duration": 7,
    "start_time": "2022-08-06T10:18:03.593Z"
   },
   {
    "duration": 214,
    "start_time": "2022-08-06T10:38:29.855Z"
   },
   {
    "duration": 142,
    "start_time": "2022-08-06T10:38:54.978Z"
   },
   {
    "duration": 1386,
    "start_time": "2022-08-06T10:52:25.322Z"
   },
   {
    "duration": 4,
    "start_time": "2022-08-06T10:52:26.711Z"
   },
   {
    "duration": 22,
    "start_time": "2022-08-06T10:52:26.716Z"
   },
   {
    "duration": 81,
    "start_time": "2022-08-06T10:52:26.740Z"
   },
   {
    "duration": 10,
    "start_time": "2022-08-06T10:52:26.823Z"
   },
   {
    "duration": 12,
    "start_time": "2022-08-06T10:52:26.835Z"
   },
   {
    "duration": 9,
    "start_time": "2022-08-06T10:52:26.849Z"
   },
   {
    "duration": 12,
    "start_time": "2022-08-06T10:52:26.860Z"
   },
   {
    "duration": 5,
    "start_time": "2022-08-06T10:52:26.874Z"
   },
   {
    "duration": 21,
    "start_time": "2022-08-06T10:52:26.898Z"
   },
   {
    "duration": 9,
    "start_time": "2022-08-06T10:52:26.921Z"
   },
   {
    "duration": 12,
    "start_time": "2022-08-06T10:52:26.932Z"
   },
   {
    "duration": 10,
    "start_time": "2022-08-06T10:52:26.946Z"
   },
   {
    "duration": 67,
    "start_time": "2022-08-06T10:52:26.958Z"
   },
   {
    "duration": 404,
    "start_time": "2022-08-06T10:52:27.027Z"
   },
   {
    "duration": 8,
    "start_time": "2022-08-06T10:52:27.432Z"
   },
   {
    "duration": 14,
    "start_time": "2022-08-06T10:52:27.441Z"
   },
   {
    "duration": 17,
    "start_time": "2022-08-06T10:52:27.456Z"
   },
   {
    "duration": 15,
    "start_time": "2022-08-06T10:52:27.474Z"
   },
   {
    "duration": 11,
    "start_time": "2022-08-06T10:52:27.500Z"
   },
   {
    "duration": 17,
    "start_time": "2022-08-06T10:52:27.513Z"
   },
   {
    "duration": 9,
    "start_time": "2022-08-06T10:52:27.532Z"
   },
   {
    "duration": 12,
    "start_time": "2022-08-06T10:52:27.543Z"
   },
   {
    "duration": 45,
    "start_time": "2022-08-06T10:52:27.557Z"
   },
   {
    "duration": 296,
    "start_time": "2022-08-06T10:52:27.605Z"
   },
   {
    "duration": 337,
    "start_time": "2022-08-06T10:52:27.903Z"
   },
   {
    "duration": 282,
    "start_time": "2022-08-06T10:52:28.243Z"
   },
   {
    "duration": 340,
    "start_time": "2022-08-06T10:52:28.528Z"
   },
   {
    "duration": 280,
    "start_time": "2022-08-06T10:52:28.870Z"
   },
   {
    "duration": 402,
    "start_time": "2022-08-06T10:52:29.151Z"
   },
   {
    "duration": 12,
    "start_time": "2022-08-06T10:52:29.554Z"
   },
   {
    "duration": 179,
    "start_time": "2022-08-06T10:52:29.567Z"
   },
   {
    "duration": 149,
    "start_time": "2022-08-06T10:52:29.747Z"
   },
   {
    "duration": 5,
    "start_time": "2022-08-06T10:52:29.898Z"
   },
   {
    "duration": 181,
    "start_time": "2022-08-06T10:52:29.905Z"
   },
   {
    "duration": 189,
    "start_time": "2022-08-06T10:52:30.088Z"
   },
   {
    "duration": 209,
    "start_time": "2022-08-06T10:52:30.278Z"
   },
   {
    "duration": 3,
    "start_time": "2022-08-06T10:52:30.489Z"
   },
   {
    "duration": 93,
    "start_time": "2022-08-06T10:52:30.499Z"
   },
   {
    "duration": 141,
    "start_time": "2022-08-06T10:52:30.599Z"
   },
   {
    "duration": 30,
    "start_time": "2022-08-06T10:52:30.742Z"
   },
   {
    "duration": 165,
    "start_time": "2022-08-06T10:52:30.774Z"
   },
   {
    "duration": 6,
    "start_time": "2022-08-06T10:52:30.940Z"
   },
   {
    "duration": 146,
    "start_time": "2022-08-06T10:57:00.353Z"
   },
   {
    "duration": 27,
    "start_time": "2022-08-06T10:57:42.815Z"
   },
   {
    "duration": 1316,
    "start_time": "2022-08-06T10:57:52.201Z"
   },
   {
    "duration": 3,
    "start_time": "2022-08-06T10:57:53.519Z"
   },
   {
    "duration": 5,
    "start_time": "2022-08-06T10:57:53.525Z"
   },
   {
    "duration": 87,
    "start_time": "2022-08-06T10:57:53.531Z"
   },
   {
    "duration": 11,
    "start_time": "2022-08-06T10:57:53.620Z"
   },
   {
    "duration": 12,
    "start_time": "2022-08-06T10:57:53.633Z"
   },
   {
    "duration": 8,
    "start_time": "2022-08-06T10:57:53.647Z"
   },
   {
    "duration": 14,
    "start_time": "2022-08-06T10:57:53.657Z"
   },
   {
    "duration": 7,
    "start_time": "2022-08-06T10:57:53.675Z"
   },
   {
    "duration": 44,
    "start_time": "2022-08-06T10:57:53.683Z"
   },
   {
    "duration": 7,
    "start_time": "2022-08-06T10:57:53.729Z"
   },
   {
    "duration": 11,
    "start_time": "2022-08-06T10:57:53.737Z"
   },
   {
    "duration": 10,
    "start_time": "2022-08-06T10:57:53.749Z"
   },
   {
    "duration": 54,
    "start_time": "2022-08-06T10:57:53.760Z"
   },
   {
    "duration": 370,
    "start_time": "2022-08-06T10:57:53.815Z"
   },
   {
    "duration": 13,
    "start_time": "2022-08-06T10:57:54.187Z"
   },
   {
    "duration": 12,
    "start_time": "2022-08-06T10:57:54.201Z"
   },
   {
    "duration": 15,
    "start_time": "2022-08-06T10:57:54.214Z"
   },
   {
    "duration": 13,
    "start_time": "2022-08-06T10:57:54.231Z"
   },
   {
    "duration": 12,
    "start_time": "2022-08-06T10:57:54.246Z"
   },
   {
    "duration": 14,
    "start_time": "2022-08-06T10:57:54.260Z"
   },
   {
    "duration": 22,
    "start_time": "2022-08-06T10:57:54.276Z"
   },
   {
    "duration": 12,
    "start_time": "2022-08-06T10:57:54.299Z"
   },
   {
    "duration": 13,
    "start_time": "2022-08-06T10:57:54.313Z"
   },
   {
    "duration": 368,
    "start_time": "2022-08-06T10:57:54.328Z"
   },
   {
    "duration": 340,
    "start_time": "2022-08-06T10:57:54.698Z"
   },
   {
    "duration": 281,
    "start_time": "2022-08-06T10:57:55.042Z"
   },
   {
    "duration": 329,
    "start_time": "2022-08-06T10:57:55.325Z"
   },
   {
    "duration": 272,
    "start_time": "2022-08-06T10:57:55.656Z"
   },
   {
    "duration": 358,
    "start_time": "2022-08-06T10:57:55.929Z"
   },
   {
    "duration": 19,
    "start_time": "2022-08-06T10:57:56.288Z"
   },
   {
    "duration": 194,
    "start_time": "2022-08-06T10:57:56.309Z"
   },
   {
    "duration": 157,
    "start_time": "2022-08-06T10:57:56.505Z"
   },
   {
    "duration": 5,
    "start_time": "2022-08-06T10:57:56.663Z"
   },
   {
    "duration": 185,
    "start_time": "2022-08-06T10:57:56.670Z"
   },
   {
    "duration": 180,
    "start_time": "2022-08-06T10:57:56.857Z"
   },
   {
    "duration": 204,
    "start_time": "2022-08-06T10:57:57.039Z"
   },
   {
    "duration": 4,
    "start_time": "2022-08-06T10:57:57.245Z"
   },
   {
    "duration": 102,
    "start_time": "2022-08-06T10:57:57.251Z"
   },
   {
    "duration": 122,
    "start_time": "2022-08-06T10:57:57.355Z"
   },
   {
    "duration": 39,
    "start_time": "2022-08-06T10:57:57.479Z"
   },
   {
    "duration": 139,
    "start_time": "2022-08-06T10:57:57.520Z"
   },
   {
    "duration": 40,
    "start_time": "2022-08-06T10:57:57.661Z"
   },
   {
    "duration": 9,
    "start_time": "2022-08-06T11:09:50.205Z"
   },
   {
    "duration": 904,
    "start_time": "2022-08-06T11:17:48.282Z"
   },
   {
    "duration": 11,
    "start_time": "2022-08-06T11:18:58.679Z"
   },
   {
    "duration": 1372,
    "start_time": "2022-08-06T11:24:30.129Z"
   },
   {
    "duration": 3,
    "start_time": "2022-08-06T11:24:31.503Z"
   },
   {
    "duration": 29,
    "start_time": "2022-08-06T11:24:31.507Z"
   },
   {
    "duration": 116,
    "start_time": "2022-08-06T11:24:31.538Z"
   },
   {
    "duration": 11,
    "start_time": "2022-08-06T11:24:31.656Z"
   },
   {
    "duration": 40,
    "start_time": "2022-08-06T11:24:31.668Z"
   },
   {
    "duration": 21,
    "start_time": "2022-08-06T11:24:31.711Z"
   },
   {
    "duration": 21,
    "start_time": "2022-08-06T11:24:31.734Z"
   },
   {
    "duration": 12,
    "start_time": "2022-08-06T11:24:31.756Z"
   },
   {
    "duration": 30,
    "start_time": "2022-08-06T11:24:31.771Z"
   },
   {
    "duration": 17,
    "start_time": "2022-08-06T11:24:31.803Z"
   },
   {
    "duration": 14,
    "start_time": "2022-08-06T11:24:31.822Z"
   },
   {
    "duration": 9,
    "start_time": "2022-08-06T11:24:31.837Z"
   },
   {
    "duration": 36,
    "start_time": "2022-08-06T11:24:31.847Z"
   },
   {
    "duration": 401,
    "start_time": "2022-08-06T11:24:31.885Z"
   },
   {
    "duration": 11,
    "start_time": "2022-08-06T11:24:32.288Z"
   },
   {
    "duration": 27,
    "start_time": "2022-08-06T11:24:32.301Z"
   },
   {
    "duration": 9,
    "start_time": "2022-08-06T11:24:32.329Z"
   },
   {
    "duration": 49,
    "start_time": "2022-08-06T11:24:32.339Z"
   },
   {
    "duration": 41,
    "start_time": "2022-08-06T11:24:32.389Z"
   },
   {
    "duration": 28,
    "start_time": "2022-08-06T11:24:32.432Z"
   },
   {
    "duration": 19,
    "start_time": "2022-08-06T11:24:32.461Z"
   },
   {
    "duration": 23,
    "start_time": "2022-08-06T11:24:32.481Z"
   },
   {
    "duration": 29,
    "start_time": "2022-08-06T11:24:32.507Z"
   },
   {
    "duration": 297,
    "start_time": "2022-08-06T11:24:32.538Z"
   },
   {
    "duration": 337,
    "start_time": "2022-08-06T11:24:32.837Z"
   },
   {
    "duration": 286,
    "start_time": "2022-08-06T11:24:33.175Z"
   },
   {
    "duration": 378,
    "start_time": "2022-08-06T11:24:33.465Z"
   },
   {
    "duration": 288,
    "start_time": "2022-08-06T11:24:33.844Z"
   },
   {
    "duration": 382,
    "start_time": "2022-08-06T11:24:34.134Z"
   },
   {
    "duration": 17,
    "start_time": "2022-08-06T11:24:34.518Z"
   },
   {
    "duration": 206,
    "start_time": "2022-08-06T11:24:34.537Z"
   },
   {
    "duration": 153,
    "start_time": "2022-08-06T11:24:34.745Z"
   },
   {
    "duration": 5,
    "start_time": "2022-08-06T11:24:34.900Z"
   },
   {
    "duration": 187,
    "start_time": "2022-08-06T11:24:34.906Z"
   },
   {
    "duration": 192,
    "start_time": "2022-08-06T11:24:35.095Z"
   },
   {
    "duration": 216,
    "start_time": "2022-08-06T11:24:35.288Z"
   },
   {
    "duration": 5,
    "start_time": "2022-08-06T11:24:35.506Z"
   },
   {
    "duration": 101,
    "start_time": "2022-08-06T11:24:35.513Z"
   },
   {
    "duration": 117,
    "start_time": "2022-08-06T11:24:35.615Z"
   },
   {
    "duration": 28,
    "start_time": "2022-08-06T11:24:35.733Z"
   },
   {
    "duration": 141,
    "start_time": "2022-08-06T11:24:35.763Z"
   },
   {
    "duration": 25,
    "start_time": "2022-08-06T11:24:35.906Z"
   },
   {
    "duration": 11,
    "start_time": "2022-08-06T11:24:35.933Z"
   },
   {
    "duration": 25,
    "start_time": "2022-08-06T11:24:35.946Z"
   },
   {
    "duration": 23,
    "start_time": "2022-08-06T11:24:35.973Z"
   },
   {
    "duration": 29,
    "start_time": "2022-08-06T11:24:35.997Z"
   },
   {
    "duration": 1090,
    "start_time": "2022-08-06T11:28:55.165Z"
   },
   {
    "duration": 16,
    "start_time": "2022-08-06T11:29:24.886Z"
   },
   {
    "duration": 1398,
    "start_time": "2022-08-06T11:29:35.382Z"
   },
   {
    "duration": 2,
    "start_time": "2022-08-06T11:29:36.782Z"
   },
   {
    "duration": 5,
    "start_time": "2022-08-06T11:29:36.786Z"
   },
   {
    "duration": 93,
    "start_time": "2022-08-06T11:29:36.798Z"
   },
   {
    "duration": 12,
    "start_time": "2022-08-06T11:29:36.893Z"
   },
   {
    "duration": 26,
    "start_time": "2022-08-06T11:29:36.907Z"
   },
   {
    "duration": 15,
    "start_time": "2022-08-06T11:29:36.934Z"
   },
   {
    "duration": 15,
    "start_time": "2022-08-06T11:29:36.951Z"
   },
   {
    "duration": 5,
    "start_time": "2022-08-06T11:29:36.968Z"
   },
   {
    "duration": 26,
    "start_time": "2022-08-06T11:29:36.976Z"
   },
   {
    "duration": 10,
    "start_time": "2022-08-06T11:29:37.004Z"
   },
   {
    "duration": 13,
    "start_time": "2022-08-06T11:29:37.016Z"
   },
   {
    "duration": 10,
    "start_time": "2022-08-06T11:29:37.030Z"
   },
   {
    "duration": 21,
    "start_time": "2022-08-06T11:29:37.041Z"
   },
   {
    "duration": 397,
    "start_time": "2022-08-06T11:29:37.064Z"
   },
   {
    "duration": 8,
    "start_time": "2022-08-06T11:29:37.463Z"
   },
   {
    "duration": 11,
    "start_time": "2022-08-06T11:29:37.472Z"
   },
   {
    "duration": 12,
    "start_time": "2022-08-06T11:29:37.498Z"
   },
   {
    "duration": 19,
    "start_time": "2022-08-06T11:29:37.511Z"
   },
   {
    "duration": 7,
    "start_time": "2022-08-06T11:29:37.532Z"
   },
   {
    "duration": 10,
    "start_time": "2022-08-06T11:29:37.540Z"
   },
   {
    "duration": 13,
    "start_time": "2022-08-06T11:29:37.551Z"
   },
   {
    "duration": 11,
    "start_time": "2022-08-06T11:29:37.566Z"
   },
   {
    "duration": 32,
    "start_time": "2022-08-06T11:29:37.579Z"
   },
   {
    "duration": 304,
    "start_time": "2022-08-06T11:29:37.613Z"
   },
   {
    "duration": 320,
    "start_time": "2022-08-06T11:29:37.919Z"
   },
   {
    "duration": 272,
    "start_time": "2022-08-06T11:29:38.241Z"
   },
   {
    "duration": 341,
    "start_time": "2022-08-06T11:29:38.517Z"
   },
   {
    "duration": 279,
    "start_time": "2022-08-06T11:29:38.860Z"
   },
   {
    "duration": 359,
    "start_time": "2022-08-06T11:29:39.141Z"
   },
   {
    "duration": 14,
    "start_time": "2022-08-06T11:29:39.502Z"
   },
   {
    "duration": 177,
    "start_time": "2022-08-06T11:29:39.517Z"
   },
   {
    "duration": 156,
    "start_time": "2022-08-06T11:29:39.696Z"
   },
   {
    "duration": 5,
    "start_time": "2022-08-06T11:29:39.854Z"
   },
   {
    "duration": 190,
    "start_time": "2022-08-06T11:29:39.860Z"
   },
   {
    "duration": 187,
    "start_time": "2022-08-06T11:29:40.051Z"
   },
   {
    "duration": 239,
    "start_time": "2022-08-06T11:29:40.240Z"
   },
   {
    "duration": 4,
    "start_time": "2022-08-06T11:29:40.481Z"
   },
   {
    "duration": 94,
    "start_time": "2022-08-06T11:29:40.498Z"
   },
   {
    "duration": 118,
    "start_time": "2022-08-06T11:29:40.598Z"
   },
   {
    "duration": 29,
    "start_time": "2022-08-06T11:29:40.718Z"
   },
   {
    "duration": 162,
    "start_time": "2022-08-06T11:29:40.749Z"
   },
   {
    "duration": 26,
    "start_time": "2022-08-06T11:29:40.912Z"
   },
   {
    "duration": 10,
    "start_time": "2022-08-06T11:29:40.940Z"
   },
   {
    "duration": 19,
    "start_time": "2022-08-06T11:29:40.952Z"
   },
   {
    "duration": 33,
    "start_time": "2022-08-06T11:29:40.972Z"
   },
   {
    "duration": 31,
    "start_time": "2022-08-06T11:29:41.006Z"
   },
   {
    "duration": 14,
    "start_time": "2022-08-06T11:29:41.039Z"
   },
   {
    "duration": 1317,
    "start_time": "2022-08-06T12:05:45.653Z"
   },
   {
    "duration": 2,
    "start_time": "2022-08-06T12:05:46.972Z"
   },
   {
    "duration": 6,
    "start_time": "2022-08-06T12:05:46.976Z"
   },
   {
    "duration": 90,
    "start_time": "2022-08-06T12:05:46.985Z"
   },
   {
    "duration": 11,
    "start_time": "2022-08-06T12:05:47.077Z"
   },
   {
    "duration": 14,
    "start_time": "2022-08-06T12:05:47.089Z"
   },
   {
    "duration": 8,
    "start_time": "2022-08-06T12:05:47.104Z"
   },
   {
    "duration": 14,
    "start_time": "2022-08-06T12:05:47.114Z"
   },
   {
    "duration": 8,
    "start_time": "2022-08-06T12:05:47.130Z"
   },
   {
    "duration": 68,
    "start_time": "2022-08-06T12:05:47.142Z"
   },
   {
    "duration": 7,
    "start_time": "2022-08-06T12:05:47.212Z"
   },
   {
    "duration": 10,
    "start_time": "2022-08-06T12:05:47.221Z"
   },
   {
    "duration": 9,
    "start_time": "2022-08-06T12:05:47.232Z"
   },
   {
    "duration": 63,
    "start_time": "2022-08-06T12:05:47.243Z"
   },
   {
    "duration": 353,
    "start_time": "2022-08-06T12:05:47.307Z"
   },
   {
    "duration": 8,
    "start_time": "2022-08-06T12:05:47.662Z"
   },
   {
    "duration": 28,
    "start_time": "2022-08-06T12:05:47.672Z"
   },
   {
    "duration": 6,
    "start_time": "2022-08-06T12:05:47.702Z"
   },
   {
    "duration": 13,
    "start_time": "2022-08-06T12:05:47.709Z"
   },
   {
    "duration": 10,
    "start_time": "2022-08-06T12:05:47.723Z"
   },
   {
    "duration": 9,
    "start_time": "2022-08-06T12:05:47.735Z"
   },
   {
    "duration": 8,
    "start_time": "2022-08-06T12:05:47.746Z"
   },
   {
    "duration": 52,
    "start_time": "2022-08-06T12:05:47.755Z"
   },
   {
    "duration": 14,
    "start_time": "2022-08-06T12:05:47.809Z"
   },
   {
    "duration": 305,
    "start_time": "2022-08-06T12:05:47.824Z"
   },
   {
    "duration": 321,
    "start_time": "2022-08-06T12:05:48.131Z"
   },
   {
    "duration": 256,
    "start_time": "2022-08-06T12:05:48.454Z"
   },
   {
    "duration": 338,
    "start_time": "2022-08-06T12:05:48.715Z"
   },
   {
    "duration": 275,
    "start_time": "2022-08-06T12:05:49.055Z"
   },
   {
    "duration": 355,
    "start_time": "2022-08-06T12:05:49.332Z"
   },
   {
    "duration": 17,
    "start_time": "2022-08-06T12:05:49.689Z"
   },
   {
    "duration": 173,
    "start_time": "2022-08-06T12:05:49.708Z"
   },
   {
    "duration": 154,
    "start_time": "2022-08-06T12:05:49.882Z"
   },
   {
    "duration": 4,
    "start_time": "2022-08-06T12:05:50.038Z"
   },
   {
    "duration": 177,
    "start_time": "2022-08-06T12:05:50.044Z"
   },
   {
    "duration": 177,
    "start_time": "2022-08-06T12:05:50.223Z"
   },
   {
    "duration": 215,
    "start_time": "2022-08-06T12:05:50.402Z"
   },
   {
    "duration": 5,
    "start_time": "2022-08-06T12:05:50.618Z"
   },
   {
    "duration": 115,
    "start_time": "2022-08-06T12:05:50.624Z"
   },
   {
    "duration": 131,
    "start_time": "2022-08-06T12:05:50.740Z"
   },
   {
    "duration": 41,
    "start_time": "2022-08-06T12:05:50.873Z"
   },
   {
    "duration": 194,
    "start_time": "2022-08-06T12:05:50.916Z"
   },
   {
    "duration": 26,
    "start_time": "2022-08-06T12:05:51.112Z"
   },
   {
    "duration": 9,
    "start_time": "2022-08-06T12:05:51.139Z"
   },
   {
    "duration": 10,
    "start_time": "2022-08-06T12:05:51.149Z"
   },
   {
    "duration": 8,
    "start_time": "2022-08-06T12:05:51.160Z"
   },
   {
    "duration": 43,
    "start_time": "2022-08-06T12:05:51.170Z"
   },
   {
    "duration": 12,
    "start_time": "2022-08-06T12:05:51.215Z"
   },
   {
    "duration": 1350,
    "start_time": "2022-08-06T12:27:32.461Z"
   },
   {
    "duration": 2,
    "start_time": "2022-08-06T12:27:33.814Z"
   },
   {
    "duration": 14,
    "start_time": "2022-08-06T12:27:33.818Z"
   },
   {
    "duration": 99,
    "start_time": "2022-08-06T12:27:33.834Z"
   },
   {
    "duration": 11,
    "start_time": "2022-08-06T12:27:33.934Z"
   },
   {
    "duration": 17,
    "start_time": "2022-08-06T12:27:33.947Z"
   },
   {
    "duration": 26,
    "start_time": "2022-08-06T12:27:33.967Z"
   },
   {
    "duration": 31,
    "start_time": "2022-08-06T12:27:33.995Z"
   },
   {
    "duration": 12,
    "start_time": "2022-08-06T12:27:34.028Z"
   },
   {
    "duration": 23,
    "start_time": "2022-08-06T12:27:34.043Z"
   },
   {
    "duration": 13,
    "start_time": "2022-08-06T12:27:34.068Z"
   },
   {
    "duration": 22,
    "start_time": "2022-08-06T12:27:34.082Z"
   },
   {
    "duration": 25,
    "start_time": "2022-08-06T12:27:34.106Z"
   },
   {
    "duration": 30,
    "start_time": "2022-08-06T12:27:34.133Z"
   },
   {
    "duration": 390,
    "start_time": "2022-08-06T12:27:34.164Z"
   },
   {
    "duration": 8,
    "start_time": "2022-08-06T12:27:34.557Z"
   },
   {
    "duration": 32,
    "start_time": "2022-08-06T12:27:34.567Z"
   },
   {
    "duration": 9,
    "start_time": "2022-08-06T12:27:34.602Z"
   },
   {
    "duration": 13,
    "start_time": "2022-08-06T12:27:34.613Z"
   },
   {
    "duration": 8,
    "start_time": "2022-08-06T12:27:34.628Z"
   },
   {
    "duration": 9,
    "start_time": "2022-08-06T12:27:34.637Z"
   },
   {
    "duration": 7,
    "start_time": "2022-08-06T12:27:34.648Z"
   },
   {
    "duration": 11,
    "start_time": "2022-08-06T12:27:34.699Z"
   },
   {
    "duration": 13,
    "start_time": "2022-08-06T12:27:34.711Z"
   },
   {
    "duration": 310,
    "start_time": "2022-08-06T12:27:34.726Z"
   },
   {
    "duration": 326,
    "start_time": "2022-08-06T12:27:35.038Z"
   },
   {
    "duration": 257,
    "start_time": "2022-08-06T12:27:35.365Z"
   },
   {
    "duration": 328,
    "start_time": "2022-08-06T12:27:35.626Z"
   },
   {
    "duration": 264,
    "start_time": "2022-08-06T12:27:35.956Z"
   },
   {
    "duration": 348,
    "start_time": "2022-08-06T12:27:36.222Z"
   },
   {
    "duration": 11,
    "start_time": "2022-08-06T12:27:36.571Z"
   },
   {
    "duration": 180,
    "start_time": "2022-08-06T12:27:36.583Z"
   },
   {
    "duration": 149,
    "start_time": "2022-08-06T12:27:36.765Z"
   },
   {
    "duration": 4,
    "start_time": "2022-08-06T12:27:36.915Z"
   },
   {
    "duration": 177,
    "start_time": "2022-08-06T12:27:36.921Z"
   },
   {
    "duration": 174,
    "start_time": "2022-08-06T12:27:37.100Z"
   },
   {
    "duration": 220,
    "start_time": "2022-08-06T12:27:37.276Z"
   },
   {
    "duration": 5,
    "start_time": "2022-08-06T12:27:37.497Z"
   },
   {
    "duration": 115,
    "start_time": "2022-08-06T12:27:37.504Z"
   },
   {
    "duration": 121,
    "start_time": "2022-08-06T12:27:37.621Z"
   },
   {
    "duration": 32,
    "start_time": "2022-08-06T12:27:37.744Z"
   },
   {
    "duration": 179,
    "start_time": "2022-08-06T12:27:37.778Z"
   },
   {
    "duration": 32,
    "start_time": "2022-08-06T12:27:37.958Z"
   },
   {
    "duration": 12,
    "start_time": "2022-08-06T12:27:37.998Z"
   },
   {
    "duration": 15,
    "start_time": "2022-08-06T12:27:38.012Z"
   },
   {
    "duration": 10,
    "start_time": "2022-08-06T12:27:38.029Z"
   },
   {
    "duration": 60,
    "start_time": "2022-08-06T12:27:38.040Z"
   },
   {
    "duration": 15,
    "start_time": "2022-08-06T12:27:38.102Z"
   },
   {
    "duration": 1352,
    "start_time": "2022-08-06T12:38:32.923Z"
   },
   {
    "duration": 3,
    "start_time": "2022-08-06T12:38:34.277Z"
   },
   {
    "duration": 6,
    "start_time": "2022-08-06T12:38:34.281Z"
   },
   {
    "duration": 86,
    "start_time": "2022-08-06T12:38:34.289Z"
   },
   {
    "duration": 16,
    "start_time": "2022-08-06T12:38:34.376Z"
   },
   {
    "duration": 23,
    "start_time": "2022-08-06T12:38:34.394Z"
   },
   {
    "duration": 11,
    "start_time": "2022-08-06T12:38:34.419Z"
   },
   {
    "duration": 16,
    "start_time": "2022-08-06T12:38:34.432Z"
   },
   {
    "duration": 13,
    "start_time": "2022-08-06T12:38:34.451Z"
   },
   {
    "duration": 48,
    "start_time": "2022-08-06T12:38:34.467Z"
   },
   {
    "duration": 8,
    "start_time": "2022-08-06T12:38:34.517Z"
   },
   {
    "duration": 20,
    "start_time": "2022-08-06T12:38:34.527Z"
   },
   {
    "duration": 15,
    "start_time": "2022-08-06T12:38:34.550Z"
   },
   {
    "duration": 53,
    "start_time": "2022-08-06T12:38:34.567Z"
   },
   {
    "duration": 382,
    "start_time": "2022-08-06T12:38:34.622Z"
   },
   {
    "duration": 9,
    "start_time": "2022-08-06T12:38:35.006Z"
   },
   {
    "duration": 14,
    "start_time": "2022-08-06T12:38:35.017Z"
   },
   {
    "duration": 8,
    "start_time": "2022-08-06T12:38:35.033Z"
   },
   {
    "duration": 12,
    "start_time": "2022-08-06T12:38:35.042Z"
   },
   {
    "duration": 44,
    "start_time": "2022-08-06T12:38:35.056Z"
   },
   {
    "duration": 9,
    "start_time": "2022-08-06T12:38:35.101Z"
   },
   {
    "duration": 10,
    "start_time": "2022-08-06T12:38:35.111Z"
   },
   {
    "duration": 13,
    "start_time": "2022-08-06T12:38:35.123Z"
   },
   {
    "duration": 15,
    "start_time": "2022-08-06T12:38:35.138Z"
   },
   {
    "duration": 328,
    "start_time": "2022-08-06T12:38:35.154Z"
   },
   {
    "duration": 317,
    "start_time": "2022-08-06T12:38:35.484Z"
   },
   {
    "duration": 263,
    "start_time": "2022-08-06T12:38:35.803Z"
   },
   {
    "duration": 378,
    "start_time": "2022-08-06T12:38:36.069Z"
   },
   {
    "duration": 265,
    "start_time": "2022-08-06T12:38:36.448Z"
   },
   {
    "duration": 357,
    "start_time": "2022-08-06T12:38:36.715Z"
   },
   {
    "duration": 24,
    "start_time": "2022-08-06T12:38:37.074Z"
   },
   {
    "duration": 165,
    "start_time": "2022-08-06T12:38:37.100Z"
   },
   {
    "duration": 152,
    "start_time": "2022-08-06T12:38:37.267Z"
   },
   {
    "duration": 4,
    "start_time": "2022-08-06T12:38:37.420Z"
   },
   {
    "duration": 169,
    "start_time": "2022-08-06T12:38:37.425Z"
   },
   {
    "duration": 178,
    "start_time": "2022-08-06T12:38:37.596Z"
   },
   {
    "duration": 213,
    "start_time": "2022-08-06T12:38:37.776Z"
   },
   {
    "duration": 8,
    "start_time": "2022-08-06T12:38:37.991Z"
   },
   {
    "duration": 105,
    "start_time": "2022-08-06T12:38:38.002Z"
   },
   {
    "duration": 121,
    "start_time": "2022-08-06T12:38:38.109Z"
   },
   {
    "duration": 29,
    "start_time": "2022-08-06T12:38:38.232Z"
   },
   {
    "duration": 140,
    "start_time": "2022-08-06T12:38:38.262Z"
   },
   {
    "duration": 24,
    "start_time": "2022-08-06T12:38:38.404Z"
   },
   {
    "duration": 9,
    "start_time": "2022-08-06T12:38:38.429Z"
   },
   {
    "duration": 19,
    "start_time": "2022-08-06T12:38:38.441Z"
   },
   {
    "duration": 8,
    "start_time": "2022-08-06T12:38:38.461Z"
   },
   {
    "duration": 48,
    "start_time": "2022-08-06T12:38:38.471Z"
   },
   {
    "duration": 12,
    "start_time": "2022-08-06T12:38:38.521Z"
   },
   {
    "duration": 1538,
    "start_time": "2022-08-07T02:24:18.933Z"
   },
   {
    "duration": 3,
    "start_time": "2022-08-07T02:24:20.473Z"
   },
   {
    "duration": 7,
    "start_time": "2022-08-07T02:24:20.478Z"
   },
   {
    "duration": 79,
    "start_time": "2022-08-07T02:24:20.486Z"
   },
   {
    "duration": 13,
    "start_time": "2022-08-07T02:24:20.568Z"
   },
   {
    "duration": 16,
    "start_time": "2022-08-07T02:24:20.583Z"
   },
   {
    "duration": 9,
    "start_time": "2022-08-07T02:24:20.601Z"
   },
   {
    "duration": 14,
    "start_time": "2022-08-07T02:24:20.611Z"
   },
   {
    "duration": 30,
    "start_time": "2022-08-07T02:24:20.627Z"
   },
   {
    "duration": 37,
    "start_time": "2022-08-07T02:24:20.659Z"
   },
   {
    "duration": 7,
    "start_time": "2022-08-07T02:24:20.697Z"
   },
   {
    "duration": 12,
    "start_time": "2022-08-07T02:24:20.706Z"
   },
   {
    "duration": 11,
    "start_time": "2022-08-07T02:24:20.719Z"
   },
   {
    "duration": 28,
    "start_time": "2022-08-07T02:24:20.733Z"
   },
   {
    "duration": 443,
    "start_time": "2022-08-07T02:24:20.763Z"
   },
   {
    "duration": 9,
    "start_time": "2022-08-07T02:24:21.208Z"
   },
   {
    "duration": 27,
    "start_time": "2022-08-07T02:24:21.219Z"
   },
   {
    "duration": 19,
    "start_time": "2022-08-07T02:24:21.248Z"
   },
   {
    "duration": 32,
    "start_time": "2022-08-07T02:24:21.268Z"
   },
   {
    "duration": 13,
    "start_time": "2022-08-07T02:24:21.302Z"
   },
   {
    "duration": 32,
    "start_time": "2022-08-07T02:24:21.317Z"
   },
   {
    "duration": 15,
    "start_time": "2022-08-07T02:24:21.351Z"
   },
   {
    "duration": 27,
    "start_time": "2022-08-07T02:24:21.368Z"
   },
   {
    "duration": 18,
    "start_time": "2022-08-07T02:24:21.397Z"
   },
   {
    "duration": 316,
    "start_time": "2022-08-07T02:24:21.417Z"
   },
   {
    "duration": 415,
    "start_time": "2022-08-07T02:24:21.735Z"
   },
   {
    "duration": 279,
    "start_time": "2022-08-07T02:24:22.151Z"
   },
   {
    "duration": 347,
    "start_time": "2022-08-07T02:24:22.432Z"
   },
   {
    "duration": 292,
    "start_time": "2022-08-07T02:24:22.781Z"
   },
   {
    "duration": 394,
    "start_time": "2022-08-07T02:24:23.075Z"
   },
   {
    "duration": 22,
    "start_time": "2022-08-07T02:24:23.471Z"
   },
   {
    "duration": 188,
    "start_time": "2022-08-07T02:24:23.494Z"
   },
   {
    "duration": 154,
    "start_time": "2022-08-07T02:24:23.683Z"
   },
   {
    "duration": 5,
    "start_time": "2022-08-07T02:24:23.839Z"
   },
   {
    "duration": 213,
    "start_time": "2022-08-07T02:24:23.846Z"
   },
   {
    "duration": 199,
    "start_time": "2022-08-07T02:24:24.062Z"
   },
   {
    "duration": 222,
    "start_time": "2022-08-07T02:24:24.263Z"
   },
   {
    "duration": 4,
    "start_time": "2022-08-07T02:24:24.491Z"
   },
   {
    "duration": 104,
    "start_time": "2022-08-07T02:24:24.497Z"
   },
   {
    "duration": 128,
    "start_time": "2022-08-07T02:24:24.603Z"
   },
   {
    "duration": 32,
    "start_time": "2022-08-07T02:24:24.735Z"
   },
   {
    "duration": 175,
    "start_time": "2022-08-07T02:24:24.769Z"
   },
   {
    "duration": 48,
    "start_time": "2022-08-07T02:24:24.946Z"
   },
   {
    "duration": 53,
    "start_time": "2022-08-07T02:24:24.996Z"
   },
   {
    "duration": 55,
    "start_time": "2022-08-07T02:24:25.051Z"
   },
   {
    "duration": 27,
    "start_time": "2022-08-07T02:24:25.107Z"
   },
   {
    "duration": 35,
    "start_time": "2022-08-07T02:24:25.136Z"
   },
   {
    "duration": 50,
    "start_time": "2022-08-07T02:24:25.173Z"
   },
   {
    "duration": 1471,
    "start_time": "2022-08-07T03:08:55.053Z"
   },
   {
    "duration": 3,
    "start_time": "2022-08-07T03:08:56.526Z"
   },
   {
    "duration": 20,
    "start_time": "2022-08-07T03:08:56.530Z"
   },
   {
    "duration": 94,
    "start_time": "2022-08-07T03:08:56.552Z"
   },
   {
    "duration": 12,
    "start_time": "2022-08-07T03:08:56.649Z"
   },
   {
    "duration": 19,
    "start_time": "2022-08-07T03:08:56.662Z"
   },
   {
    "duration": 10,
    "start_time": "2022-08-07T03:08:56.683Z"
   },
   {
    "duration": 20,
    "start_time": "2022-08-07T03:08:56.695Z"
   },
   {
    "duration": 7,
    "start_time": "2022-08-07T03:08:56.717Z"
   },
   {
    "duration": 24,
    "start_time": "2022-08-07T03:08:56.726Z"
   },
   {
    "duration": 8,
    "start_time": "2022-08-07T03:08:56.752Z"
   },
   {
    "duration": 40,
    "start_time": "2022-08-07T03:08:56.762Z"
   },
   {
    "duration": 10,
    "start_time": "2022-08-07T03:08:56.805Z"
   },
   {
    "duration": 32,
    "start_time": "2022-08-07T03:08:56.819Z"
   },
   {
    "duration": 424,
    "start_time": "2022-08-07T03:08:56.853Z"
   },
   {
    "duration": 13,
    "start_time": "2022-08-07T03:08:57.280Z"
   },
   {
    "duration": 12,
    "start_time": "2022-08-07T03:08:57.296Z"
   },
   {
    "duration": 8,
    "start_time": "2022-08-07T03:08:57.310Z"
   },
   {
    "duration": 13,
    "start_time": "2022-08-07T03:08:57.320Z"
   },
   {
    "duration": 7,
    "start_time": "2022-08-07T03:08:57.335Z"
   },
   {
    "duration": 52,
    "start_time": "2022-08-07T03:08:57.344Z"
   },
   {
    "duration": 15,
    "start_time": "2022-08-07T03:08:57.398Z"
   },
   {
    "duration": 15,
    "start_time": "2022-08-07T03:08:57.415Z"
   },
   {
    "duration": 14,
    "start_time": "2022-08-07T03:08:57.432Z"
   },
   {
    "duration": 331,
    "start_time": "2022-08-07T03:08:57.448Z"
   },
   {
    "duration": 369,
    "start_time": "2022-08-07T03:08:57.781Z"
   },
   {
    "duration": 288,
    "start_time": "2022-08-07T03:08:58.153Z"
   },
   {
    "duration": 353,
    "start_time": "2022-08-07T03:08:58.443Z"
   },
   {
    "duration": 280,
    "start_time": "2022-08-07T03:08:58.797Z"
   },
   {
    "duration": 404,
    "start_time": "2022-08-07T03:08:59.079Z"
   },
   {
    "duration": 18,
    "start_time": "2022-08-07T03:08:59.485Z"
   },
   {
    "duration": 190,
    "start_time": "2022-08-07T03:08:59.505Z"
   },
   {
    "duration": 156,
    "start_time": "2022-08-07T03:08:59.697Z"
   },
   {
    "duration": 4,
    "start_time": "2022-08-07T03:08:59.855Z"
   },
   {
    "duration": 192,
    "start_time": "2022-08-07T03:08:59.861Z"
   },
   {
    "duration": 207,
    "start_time": "2022-08-07T03:09:00.055Z"
   },
   {
    "duration": 225,
    "start_time": "2022-08-07T03:09:00.264Z"
   },
   {
    "duration": 5,
    "start_time": "2022-08-07T03:09:00.492Z"
   },
   {
    "duration": 109,
    "start_time": "2022-08-07T03:09:00.498Z"
   },
   {
    "duration": 128,
    "start_time": "2022-08-07T03:09:00.609Z"
   },
   {
    "duration": 30,
    "start_time": "2022-08-07T03:09:00.741Z"
   },
   {
    "duration": 155,
    "start_time": "2022-08-07T03:09:00.772Z"
   },
   {
    "duration": 31,
    "start_time": "2022-08-07T03:09:00.929Z"
   },
   {
    "duration": 34,
    "start_time": "2022-08-07T03:09:00.962Z"
   },
   {
    "duration": 30,
    "start_time": "2022-08-07T03:09:00.998Z"
   },
   {
    "duration": 34,
    "start_time": "2022-08-07T03:09:01.031Z"
   },
   {
    "duration": 58,
    "start_time": "2022-08-07T03:09:01.067Z"
   },
   {
    "duration": 31,
    "start_time": "2022-08-07T03:09:01.127Z"
   },
   {
    "duration": 1522,
    "start_time": "2022-08-07T03:09:16.081Z"
   },
   {
    "duration": 3,
    "start_time": "2022-08-07T03:09:17.605Z"
   },
   {
    "duration": 10,
    "start_time": "2022-08-07T03:09:17.609Z"
   },
   {
    "duration": 82,
    "start_time": "2022-08-07T03:09:17.621Z"
   },
   {
    "duration": 13,
    "start_time": "2022-08-07T03:09:17.704Z"
   },
   {
    "duration": 16,
    "start_time": "2022-08-07T03:09:17.718Z"
   },
   {
    "duration": 9,
    "start_time": "2022-08-07T03:09:17.735Z"
   },
   {
    "duration": 17,
    "start_time": "2022-08-07T03:09:17.745Z"
   },
   {
    "duration": 12,
    "start_time": "2022-08-07T03:09:17.763Z"
   },
   {
    "duration": 23,
    "start_time": "2022-08-07T03:09:17.791Z"
   },
   {
    "duration": 8,
    "start_time": "2022-08-07T03:09:17.815Z"
   },
   {
    "duration": 23,
    "start_time": "2022-08-07T03:09:17.824Z"
   },
   {
    "duration": 12,
    "start_time": "2022-08-07T03:09:17.848Z"
   },
   {
    "duration": 51,
    "start_time": "2022-08-07T03:09:17.862Z"
   },
   {
    "duration": 412,
    "start_time": "2022-08-07T03:09:17.915Z"
   },
   {
    "duration": 8,
    "start_time": "2022-08-07T03:09:18.329Z"
   },
   {
    "duration": 14,
    "start_time": "2022-08-07T03:09:18.339Z"
   },
   {
    "duration": 9,
    "start_time": "2022-08-07T03:09:18.355Z"
   },
   {
    "duration": 32,
    "start_time": "2022-08-07T03:09:18.366Z"
   },
   {
    "duration": 10,
    "start_time": "2022-08-07T03:09:18.400Z"
   },
   {
    "duration": 11,
    "start_time": "2022-08-07T03:09:18.411Z"
   },
   {
    "duration": 10,
    "start_time": "2022-08-07T03:09:18.424Z"
   },
   {
    "duration": 14,
    "start_time": "2022-08-07T03:09:18.436Z"
   },
   {
    "duration": 41,
    "start_time": "2022-08-07T03:09:18.452Z"
   },
   {
    "duration": 335,
    "start_time": "2022-08-07T03:09:18.495Z"
   },
   {
    "duration": 362,
    "start_time": "2022-08-07T03:09:18.832Z"
   },
   {
    "duration": 306,
    "start_time": "2022-08-07T03:09:19.196Z"
   },
   {
    "duration": 375,
    "start_time": "2022-08-07T03:09:19.505Z"
   },
   {
    "duration": 288,
    "start_time": "2022-08-07T03:09:19.882Z"
   },
   {
    "duration": 419,
    "start_time": "2022-08-07T03:09:20.172Z"
   },
   {
    "duration": 12,
    "start_time": "2022-08-07T03:09:20.593Z"
   },
   {
    "duration": 180,
    "start_time": "2022-08-07T03:09:20.607Z"
   },
   {
    "duration": 154,
    "start_time": "2022-08-07T03:09:20.792Z"
   },
   {
    "duration": 4,
    "start_time": "2022-08-07T03:09:20.948Z"
   },
   {
    "duration": 182,
    "start_time": "2022-08-07T03:09:20.954Z"
   },
   {
    "duration": 187,
    "start_time": "2022-08-07T03:09:21.138Z"
   },
   {
    "duration": 222,
    "start_time": "2022-08-07T03:09:21.327Z"
   },
   {
    "duration": 4,
    "start_time": "2022-08-07T03:09:21.551Z"
   },
   {
    "duration": 111,
    "start_time": "2022-08-07T03:09:21.557Z"
   },
   {
    "duration": 122,
    "start_time": "2022-08-07T03:09:21.670Z"
   },
   {
    "duration": 40,
    "start_time": "2022-08-07T03:09:21.795Z"
   },
   {
    "duration": 220,
    "start_time": "2022-08-07T03:09:21.838Z"
   },
   {
    "duration": 45,
    "start_time": "2022-08-07T03:09:22.060Z"
   },
   {
    "duration": 12,
    "start_time": "2022-08-07T03:09:22.107Z"
   },
   {
    "duration": 14,
    "start_time": "2022-08-07T03:09:22.121Z"
   },
   {
    "duration": 12,
    "start_time": "2022-08-07T03:09:22.136Z"
   },
   {
    "duration": 45,
    "start_time": "2022-08-07T03:09:22.149Z"
   },
   {
    "duration": 14,
    "start_time": "2022-08-07T03:09:22.196Z"
   },
   {
    "duration": 1363,
    "start_time": "2022-08-07T07:49:14.925Z"
   },
   {
    "duration": 2,
    "start_time": "2022-08-07T07:49:16.290Z"
   },
   {
    "duration": 31,
    "start_time": "2022-08-07T07:49:16.294Z"
   },
   {
    "duration": 104,
    "start_time": "2022-08-07T07:49:16.328Z"
   },
   {
    "duration": 10,
    "start_time": "2022-08-07T07:49:16.434Z"
   },
   {
    "duration": 17,
    "start_time": "2022-08-07T07:49:16.445Z"
   },
   {
    "duration": 9,
    "start_time": "2022-08-07T07:49:16.463Z"
   },
   {
    "duration": 12,
    "start_time": "2022-08-07T07:49:16.473Z"
   },
   {
    "duration": 6,
    "start_time": "2022-08-07T07:49:16.486Z"
   },
   {
    "duration": 43,
    "start_time": "2022-08-07T07:49:16.495Z"
   },
   {
    "duration": 6,
    "start_time": "2022-08-07T07:49:16.540Z"
   },
   {
    "duration": 10,
    "start_time": "2022-08-07T07:49:16.547Z"
   },
   {
    "duration": 9,
    "start_time": "2022-08-07T07:49:16.559Z"
   },
   {
    "duration": 44,
    "start_time": "2022-08-07T07:49:16.570Z"
   },
   {
    "duration": 404,
    "start_time": "2022-08-07T07:49:16.620Z"
   },
   {
    "duration": 7,
    "start_time": "2022-08-07T07:49:17.026Z"
   },
   {
    "duration": 11,
    "start_time": "2022-08-07T07:49:17.035Z"
   },
   {
    "duration": 6,
    "start_time": "2022-08-07T07:49:17.048Z"
   },
   {
    "duration": 11,
    "start_time": "2022-08-07T07:49:17.056Z"
   },
   {
    "duration": 9,
    "start_time": "2022-08-07T07:49:17.069Z"
   },
   {
    "duration": 49,
    "start_time": "2022-08-07T07:49:17.079Z"
   },
   {
    "duration": 12,
    "start_time": "2022-08-07T07:49:17.130Z"
   },
   {
    "duration": 13,
    "start_time": "2022-08-07T07:49:17.143Z"
   },
   {
    "duration": 11,
    "start_time": "2022-08-07T07:49:17.158Z"
   },
   {
    "duration": 309,
    "start_time": "2022-08-07T07:49:17.171Z"
   },
   {
    "duration": 344,
    "start_time": "2022-08-07T07:49:17.481Z"
   },
   {
    "duration": 267,
    "start_time": "2022-08-07T07:49:17.827Z"
   },
   {
    "duration": 362,
    "start_time": "2022-08-07T07:49:18.097Z"
   },
   {
    "duration": 291,
    "start_time": "2022-08-07T07:49:18.461Z"
   },
   {
    "duration": 394,
    "start_time": "2022-08-07T07:49:18.754Z"
   },
   {
    "duration": 13,
    "start_time": "2022-08-07T07:49:19.150Z"
   },
   {
    "duration": 192,
    "start_time": "2022-08-07T07:49:19.164Z"
   },
   {
    "duration": 170,
    "start_time": "2022-08-07T07:49:19.358Z"
   },
   {
    "duration": 4,
    "start_time": "2022-08-07T07:49:19.530Z"
   },
   {
    "duration": 185,
    "start_time": "2022-08-07T07:49:19.536Z"
   },
   {
    "duration": 196,
    "start_time": "2022-08-07T07:49:19.723Z"
   },
   {
    "duration": 228,
    "start_time": "2022-08-07T07:49:19.920Z"
   },
   {
    "duration": 5,
    "start_time": "2022-08-07T07:49:20.149Z"
   },
   {
    "duration": 100,
    "start_time": "2022-08-07T07:49:20.155Z"
   },
   {
    "duration": 126,
    "start_time": "2022-08-07T07:49:20.257Z"
   },
   {
    "duration": 37,
    "start_time": "2022-08-07T07:49:20.385Z"
   },
   {
    "duration": 162,
    "start_time": "2022-08-07T07:49:20.425Z"
   },
   {
    "duration": 38,
    "start_time": "2022-08-07T07:49:20.588Z"
   },
   {
    "duration": 9,
    "start_time": "2022-08-07T07:49:20.628Z"
   },
   {
    "duration": 17,
    "start_time": "2022-08-07T07:49:20.639Z"
   },
   {
    "duration": 9,
    "start_time": "2022-08-07T07:49:20.657Z"
   },
   {
    "duration": 53,
    "start_time": "2022-08-07T07:49:20.668Z"
   },
   {
    "duration": 14,
    "start_time": "2022-08-07T07:49:20.723Z"
   },
   {
    "duration": 1460,
    "start_time": "2022-08-07T20:44:41.718Z"
   },
   {
    "duration": 2,
    "start_time": "2022-08-07T20:44:43.181Z"
   },
   {
    "duration": 5,
    "start_time": "2022-08-07T20:44:43.186Z"
   },
   {
    "duration": 225,
    "start_time": "2022-08-07T20:44:43.192Z"
   },
   {
    "duration": 11,
    "start_time": "2022-08-07T20:44:43.419Z"
   },
   {
    "duration": 14,
    "start_time": "2022-08-07T20:44:43.431Z"
   },
   {
    "duration": 7,
    "start_time": "2022-08-07T20:44:43.446Z"
   },
   {
    "duration": 11,
    "start_time": "2022-08-07T20:44:43.455Z"
   },
   {
    "duration": 8,
    "start_time": "2022-08-07T20:44:43.467Z"
   },
   {
    "duration": 22,
    "start_time": "2022-08-07T20:44:43.477Z"
   },
   {
    "duration": 5,
    "start_time": "2022-08-07T20:44:43.500Z"
   },
   {
    "duration": 10,
    "start_time": "2022-08-07T20:44:43.506Z"
   },
   {
    "duration": 8,
    "start_time": "2022-08-07T20:44:43.517Z"
   },
   {
    "duration": 21,
    "start_time": "2022-08-07T20:44:43.527Z"
   },
   {
    "duration": 347,
    "start_time": "2022-08-07T20:44:43.550Z"
   },
   {
    "duration": 8,
    "start_time": "2022-08-07T20:44:43.898Z"
   },
   {
    "duration": 12,
    "start_time": "2022-08-07T20:44:43.907Z"
   },
   {
    "duration": 11,
    "start_time": "2022-08-07T20:44:43.920Z"
   },
   {
    "duration": 13,
    "start_time": "2022-08-07T20:44:43.932Z"
   },
   {
    "duration": 11,
    "start_time": "2022-08-07T20:44:43.946Z"
   },
   {
    "duration": 28,
    "start_time": "2022-08-07T20:44:43.959Z"
   },
   {
    "duration": 6,
    "start_time": "2022-08-07T20:44:43.989Z"
   },
   {
    "duration": 15,
    "start_time": "2022-08-07T20:44:43.997Z"
   },
   {
    "duration": 14,
    "start_time": "2022-08-07T20:44:44.014Z"
   },
   {
    "duration": 284,
    "start_time": "2022-08-07T20:44:44.029Z"
   },
   {
    "duration": 290,
    "start_time": "2022-08-07T20:44:44.315Z"
   },
   {
    "duration": 235,
    "start_time": "2022-08-07T20:44:44.607Z"
   },
   {
    "duration": 420,
    "start_time": "2022-08-07T20:44:44.845Z"
   },
   {
    "duration": 265,
    "start_time": "2022-08-07T20:44:45.267Z"
   },
   {
    "duration": 346,
    "start_time": "2022-08-07T20:44:45.534Z"
   },
   {
    "duration": 11,
    "start_time": "2022-08-07T20:44:45.887Z"
   },
   {
    "duration": 196,
    "start_time": "2022-08-07T20:44:45.900Z"
   },
   {
    "duration": 152,
    "start_time": "2022-08-07T20:44:46.099Z"
   },
   {
    "duration": 5,
    "start_time": "2022-08-07T20:44:46.253Z"
   },
   {
    "duration": 205,
    "start_time": "2022-08-07T20:44:46.261Z"
   },
   {
    "duration": 198,
    "start_time": "2022-08-07T20:44:46.468Z"
   },
   {
    "duration": 189,
    "start_time": "2022-08-07T20:44:46.667Z"
   },
   {
    "duration": 4,
    "start_time": "2022-08-07T20:44:46.857Z"
   },
   {
    "duration": 94,
    "start_time": "2022-08-07T20:44:46.863Z"
   },
   {
    "duration": 114,
    "start_time": "2022-08-07T20:44:46.958Z"
   },
   {
    "duration": 37,
    "start_time": "2022-08-07T20:44:47.074Z"
   },
   {
    "duration": 140,
    "start_time": "2022-08-07T20:44:47.112Z"
   },
   {
    "duration": 39,
    "start_time": "2022-08-07T20:44:47.253Z"
   },
   {
    "duration": 15,
    "start_time": "2022-08-07T20:44:47.294Z"
   },
   {
    "duration": 11,
    "start_time": "2022-08-07T20:44:47.310Z"
   },
   {
    "duration": 8,
    "start_time": "2022-08-07T20:44:47.322Z"
   },
   {
    "duration": 21,
    "start_time": "2022-08-07T20:44:47.332Z"
   },
   {
    "duration": 38,
    "start_time": "2022-08-07T20:44:47.355Z"
   },
   {
    "duration": 1330,
    "start_time": "2022-08-07T20:54:23.170Z"
   },
   {
    "duration": 2,
    "start_time": "2022-08-07T20:54:24.502Z"
   },
   {
    "duration": 9,
    "start_time": "2022-08-07T20:54:24.506Z"
   },
   {
    "duration": 79,
    "start_time": "2022-08-07T20:54:24.517Z"
   },
   {
    "duration": 11,
    "start_time": "2022-08-07T20:54:24.598Z"
   },
   {
    "duration": 13,
    "start_time": "2022-08-07T20:54:24.610Z"
   },
   {
    "duration": 8,
    "start_time": "2022-08-07T20:54:24.625Z"
   },
   {
    "duration": 14,
    "start_time": "2022-08-07T20:54:24.635Z"
   },
   {
    "duration": 6,
    "start_time": "2022-08-07T20:54:24.651Z"
   },
   {
    "duration": 41,
    "start_time": "2022-08-07T20:54:24.659Z"
   },
   {
    "duration": 6,
    "start_time": "2022-08-07T20:54:24.701Z"
   },
   {
    "duration": 12,
    "start_time": "2022-08-07T20:54:24.709Z"
   },
   {
    "duration": 9,
    "start_time": "2022-08-07T20:54:24.722Z"
   },
   {
    "duration": 25,
    "start_time": "2022-08-07T20:54:24.733Z"
   },
   {
    "duration": 344,
    "start_time": "2022-08-07T20:54:24.787Z"
   },
   {
    "duration": 8,
    "start_time": "2022-08-07T20:54:25.132Z"
   },
   {
    "duration": 13,
    "start_time": "2022-08-07T20:54:25.141Z"
   },
   {
    "duration": 9,
    "start_time": "2022-08-07T20:54:25.156Z"
   },
   {
    "duration": 27,
    "start_time": "2022-08-07T20:54:25.167Z"
   },
   {
    "duration": 14,
    "start_time": "2022-08-07T20:54:25.195Z"
   },
   {
    "duration": 11,
    "start_time": "2022-08-07T20:54:25.210Z"
   },
   {
    "duration": 12,
    "start_time": "2022-08-07T20:54:25.222Z"
   },
   {
    "duration": 13,
    "start_time": "2022-08-07T20:54:25.236Z"
   },
   {
    "duration": 13,
    "start_time": "2022-08-07T20:54:25.250Z"
   },
   {
    "duration": 286,
    "start_time": "2022-08-07T20:54:25.264Z"
   },
   {
    "duration": 329,
    "start_time": "2022-08-07T20:54:25.551Z"
   },
   {
    "duration": 252,
    "start_time": "2022-08-07T20:54:25.886Z"
   },
   {
    "duration": 372,
    "start_time": "2022-08-07T20:54:26.142Z"
   },
   {
    "duration": 276,
    "start_time": "2022-08-07T20:54:26.516Z"
   },
   {
    "duration": 348,
    "start_time": "2022-08-07T20:54:26.793Z"
   },
   {
    "duration": 11,
    "start_time": "2022-08-07T20:54:27.142Z"
   },
   {
    "duration": 165,
    "start_time": "2022-08-07T20:54:27.155Z"
   },
   {
    "duration": 136,
    "start_time": "2022-08-07T20:54:27.322Z"
   },
   {
    "duration": 4,
    "start_time": "2022-08-07T20:54:27.460Z"
   },
   {
    "duration": 187,
    "start_time": "2022-08-07T20:54:27.465Z"
   },
   {
    "duration": 164,
    "start_time": "2022-08-07T20:54:27.653Z"
   },
   {
    "duration": 195,
    "start_time": "2022-08-07T20:54:27.819Z"
   },
   {
    "duration": 5,
    "start_time": "2022-08-07T20:54:28.016Z"
   },
   {
    "duration": 106,
    "start_time": "2022-08-07T20:54:28.022Z"
   },
   {
    "duration": 107,
    "start_time": "2022-08-07T20:54:28.130Z"
   },
   {
    "duration": 27,
    "start_time": "2022-08-07T20:54:28.239Z"
   },
   {
    "duration": 167,
    "start_time": "2022-08-07T20:54:28.267Z"
   },
   {
    "duration": 27,
    "start_time": "2022-08-07T20:54:28.435Z"
   },
   {
    "duration": 24,
    "start_time": "2022-08-07T20:54:28.463Z"
   },
   {
    "duration": 9,
    "start_time": "2022-08-07T20:54:28.489Z"
   },
   {
    "duration": 9,
    "start_time": "2022-08-07T20:54:28.500Z"
   },
   {
    "duration": 24,
    "start_time": "2022-08-07T20:54:28.510Z"
   },
   {
    "duration": 13,
    "start_time": "2022-08-07T20:54:28.535Z"
   },
   {
    "duration": 1354,
    "start_time": "2022-08-07T21:59:54.789Z"
   },
   {
    "duration": 2,
    "start_time": "2022-08-07T21:59:56.145Z"
   },
   {
    "duration": 46,
    "start_time": "2022-08-07T21:59:56.148Z"
   },
   {
    "duration": 124,
    "start_time": "2022-08-07T21:59:56.196Z"
   },
   {
    "duration": 11,
    "start_time": "2022-08-07T21:59:56.321Z"
   },
   {
    "duration": 18,
    "start_time": "2022-08-07T21:59:56.333Z"
   },
   {
    "duration": 7,
    "start_time": "2022-08-07T21:59:56.353Z"
   },
   {
    "duration": 14,
    "start_time": "2022-08-07T21:59:56.362Z"
   },
   {
    "duration": 7,
    "start_time": "2022-08-07T21:59:56.377Z"
   },
   {
    "duration": 23,
    "start_time": "2022-08-07T21:59:56.387Z"
   },
   {
    "duration": 6,
    "start_time": "2022-08-07T21:59:56.412Z"
   },
   {
    "duration": 9,
    "start_time": "2022-08-07T21:59:56.420Z"
   },
   {
    "duration": 8,
    "start_time": "2022-08-07T21:59:56.431Z"
   },
   {
    "duration": 21,
    "start_time": "2022-08-07T21:59:56.441Z"
   },
   {
    "duration": 384,
    "start_time": "2022-08-07T21:59:56.464Z"
   },
   {
    "duration": 7,
    "start_time": "2022-08-07T21:59:56.850Z"
   },
   {
    "duration": 11,
    "start_time": "2022-08-07T21:59:56.859Z"
   },
   {
    "duration": 8,
    "start_time": "2022-08-07T21:59:56.872Z"
   },
   {
    "duration": 10,
    "start_time": "2022-08-07T21:59:56.899Z"
   },
   {
    "duration": 7,
    "start_time": "2022-08-07T21:59:56.911Z"
   },
   {
    "duration": 12,
    "start_time": "2022-08-07T21:59:56.920Z"
   },
   {
    "duration": 9,
    "start_time": "2022-08-07T21:59:56.934Z"
   },
   {
    "duration": 12,
    "start_time": "2022-08-07T21:59:56.945Z"
   },
   {
    "duration": 13,
    "start_time": "2022-08-07T21:59:56.958Z"
   },
   {
    "duration": 276,
    "start_time": "2022-08-07T21:59:56.999Z"
   },
   {
    "duration": 319,
    "start_time": "2022-08-07T21:59:57.277Z"
   },
   {
    "duration": 253,
    "start_time": "2022-08-07T21:59:57.597Z"
   },
   {
    "duration": 326,
    "start_time": "2022-08-07T21:59:57.854Z"
   },
   {
    "duration": 264,
    "start_time": "2022-08-07T21:59:58.182Z"
   },
   {
    "duration": 398,
    "start_time": "2022-08-07T21:59:58.448Z"
   },
   {
    "duration": 11,
    "start_time": "2022-08-07T21:59:58.848Z"
   },
   {
    "duration": 170,
    "start_time": "2022-08-07T21:59:58.860Z"
   },
   {
    "duration": 145,
    "start_time": "2022-08-07T21:59:59.031Z"
   },
   {
    "duration": 4,
    "start_time": "2022-08-07T21:59:59.178Z"
   },
   {
    "duration": 166,
    "start_time": "2022-08-07T21:59:59.183Z"
   },
   {
    "duration": 178,
    "start_time": "2022-08-07T21:59:59.350Z"
   },
   {
    "duration": 206,
    "start_time": "2022-08-07T21:59:59.530Z"
   },
   {
    "duration": 3,
    "start_time": "2022-08-07T21:59:59.738Z"
   },
   {
    "duration": 95,
    "start_time": "2022-08-07T21:59:59.743Z"
   },
   {
    "duration": 123,
    "start_time": "2022-08-07T21:59:59.840Z"
   },
   {
    "duration": 38,
    "start_time": "2022-08-07T21:59:59.965Z"
   },
   {
    "duration": 144,
    "start_time": "2022-08-07T22:00:00.004Z"
   },
   {
    "duration": 26,
    "start_time": "2022-08-07T22:00:00.149Z"
   },
   {
    "duration": 23,
    "start_time": "2022-08-07T22:00:00.177Z"
   },
   {
    "duration": 10,
    "start_time": "2022-08-07T22:00:00.201Z"
   },
   {
    "duration": 11,
    "start_time": "2022-08-07T22:00:00.212Z"
   },
   {
    "duration": 67,
    "start_time": "2022-08-07T22:00:00.224Z"
   },
   {
    "duration": 12,
    "start_time": "2022-08-07T22:00:00.292Z"
   },
   {
    "duration": 1372,
    "start_time": "2022-08-07T22:02:16.810Z"
   },
   {
    "duration": 2,
    "start_time": "2022-08-07T22:02:18.184Z"
   },
   {
    "duration": 11,
    "start_time": "2022-08-07T22:02:18.187Z"
   },
   {
    "duration": 83,
    "start_time": "2022-08-07T22:02:18.200Z"
   },
   {
    "duration": 10,
    "start_time": "2022-08-07T22:02:18.284Z"
   },
   {
    "duration": 17,
    "start_time": "2022-08-07T22:02:18.296Z"
   },
   {
    "duration": 8,
    "start_time": "2022-08-07T22:02:18.314Z"
   },
   {
    "duration": 23,
    "start_time": "2022-08-07T22:02:18.324Z"
   },
   {
    "duration": 11,
    "start_time": "2022-08-07T22:02:18.348Z"
   },
   {
    "duration": 20,
    "start_time": "2022-08-07T22:02:18.361Z"
   },
   {
    "duration": 17,
    "start_time": "2022-08-07T22:02:18.382Z"
   },
   {
    "duration": 10,
    "start_time": "2022-08-07T22:02:18.401Z"
   },
   {
    "duration": 9,
    "start_time": "2022-08-07T22:02:18.413Z"
   },
   {
    "duration": 20,
    "start_time": "2022-08-07T22:02:18.424Z"
   },
   {
    "duration": 373,
    "start_time": "2022-08-07T22:02:18.445Z"
   },
   {
    "duration": 8,
    "start_time": "2022-08-07T22:02:18.820Z"
   },
   {
    "duration": 11,
    "start_time": "2022-08-07T22:02:18.829Z"
   },
   {
    "duration": 11,
    "start_time": "2022-08-07T22:02:18.841Z"
   },
   {
    "duration": 12,
    "start_time": "2022-08-07T22:02:18.853Z"
   },
   {
    "duration": 6,
    "start_time": "2022-08-07T22:02:18.867Z"
   },
   {
    "duration": 8,
    "start_time": "2022-08-07T22:02:18.898Z"
   },
   {
    "duration": 18,
    "start_time": "2022-08-07T22:02:18.908Z"
   },
   {
    "duration": 12,
    "start_time": "2022-08-07T22:02:18.928Z"
   },
   {
    "duration": 12,
    "start_time": "2022-08-07T22:02:18.942Z"
   },
   {
    "duration": 286,
    "start_time": "2022-08-07T22:02:18.955Z"
   },
   {
    "duration": 324,
    "start_time": "2022-08-07T22:02:19.243Z"
   },
   {
    "duration": 249,
    "start_time": "2022-08-07T22:02:19.569Z"
   },
   {
    "duration": 330,
    "start_time": "2022-08-07T22:02:19.822Z"
   },
   {
    "duration": 261,
    "start_time": "2022-08-07T22:02:20.154Z"
   },
   {
    "duration": 348,
    "start_time": "2022-08-07T22:02:20.417Z"
   },
   {
    "duration": 11,
    "start_time": "2022-08-07T22:02:20.767Z"
   },
   {
    "duration": 177,
    "start_time": "2022-08-07T22:02:20.780Z"
   },
   {
    "duration": 158,
    "start_time": "2022-08-07T22:02:20.959Z"
   },
   {
    "duration": 4,
    "start_time": "2022-08-07T22:02:21.119Z"
   },
   {
    "duration": 171,
    "start_time": "2022-08-07T22:02:21.125Z"
   },
   {
    "duration": 179,
    "start_time": "2022-08-07T22:02:21.298Z"
   },
   {
    "duration": 221,
    "start_time": "2022-08-07T22:02:21.479Z"
   },
   {
    "duration": 5,
    "start_time": "2022-08-07T22:02:21.702Z"
   },
   {
    "duration": 98,
    "start_time": "2022-08-07T22:02:21.709Z"
   },
   {
    "duration": 124,
    "start_time": "2022-08-07T22:02:21.809Z"
   },
   {
    "duration": 32,
    "start_time": "2022-08-07T22:02:21.935Z"
   },
   {
    "duration": 168,
    "start_time": "2022-08-07T22:02:21.969Z"
   },
   {
    "duration": 27,
    "start_time": "2022-08-07T22:02:22.139Z"
   },
   {
    "duration": 9,
    "start_time": "2022-08-07T22:02:22.168Z"
   },
   {
    "duration": 35,
    "start_time": "2022-08-07T22:02:22.178Z"
   },
   {
    "duration": 16,
    "start_time": "2022-08-07T22:02:22.214Z"
   },
   {
    "duration": 39,
    "start_time": "2022-08-07T22:02:22.232Z"
   },
   {
    "duration": 12,
    "start_time": "2022-08-07T22:02:22.273Z"
   },
   {
    "duration": 1563,
    "start_time": "2022-08-08T04:04:46.587Z"
   },
   {
    "duration": 3,
    "start_time": "2022-08-08T04:04:48.152Z"
   },
   {
    "duration": 9,
    "start_time": "2022-08-08T04:04:48.157Z"
   },
   {
    "duration": 227,
    "start_time": "2022-08-08T04:04:48.168Z"
   },
   {
    "duration": 12,
    "start_time": "2022-08-08T04:04:48.396Z"
   },
   {
    "duration": 14,
    "start_time": "2022-08-08T04:04:48.409Z"
   },
   {
    "duration": 8,
    "start_time": "2022-08-08T04:04:48.425Z"
   },
   {
    "duration": 12,
    "start_time": "2022-08-08T04:04:48.435Z"
   },
   {
    "duration": 7,
    "start_time": "2022-08-08T04:04:48.449Z"
   },
   {
    "duration": 42,
    "start_time": "2022-08-08T04:04:48.459Z"
   },
   {
    "duration": 5,
    "start_time": "2022-08-08T04:04:48.502Z"
   },
   {
    "duration": 10,
    "start_time": "2022-08-08T04:04:48.508Z"
   },
   {
    "duration": 8,
    "start_time": "2022-08-08T04:04:48.519Z"
   },
   {
    "duration": 22,
    "start_time": "2022-08-08T04:04:48.529Z"
   },
   {
    "duration": 334,
    "start_time": "2022-08-08T04:04:48.553Z"
   },
   {
    "duration": 12,
    "start_time": "2022-08-08T04:04:48.888Z"
   },
   {
    "duration": 9,
    "start_time": "2022-08-08T04:04:48.902Z"
   },
   {
    "duration": 8,
    "start_time": "2022-08-08T04:04:48.912Z"
   },
   {
    "duration": 11,
    "start_time": "2022-08-08T04:04:48.922Z"
   },
   {
    "duration": 14,
    "start_time": "2022-08-08T04:04:48.934Z"
   },
   {
    "duration": 15,
    "start_time": "2022-08-08T04:04:48.950Z"
   },
   {
    "duration": 14,
    "start_time": "2022-08-08T04:04:48.966Z"
   },
   {
    "duration": 22,
    "start_time": "2022-08-08T04:04:48.981Z"
   },
   {
    "duration": 16,
    "start_time": "2022-08-08T04:04:49.005Z"
   },
   {
    "duration": 263,
    "start_time": "2022-08-08T04:04:49.022Z"
   },
   {
    "duration": 290,
    "start_time": "2022-08-08T04:04:49.286Z"
   },
   {
    "duration": 216,
    "start_time": "2022-08-08T04:04:49.578Z"
   },
   {
    "duration": 374,
    "start_time": "2022-08-08T04:04:49.800Z"
   },
   {
    "duration": 224,
    "start_time": "2022-08-08T04:04:50.175Z"
   },
   {
    "duration": 327,
    "start_time": "2022-08-08T04:04:50.401Z"
   },
   {
    "duration": 10,
    "start_time": "2022-08-08T04:04:50.730Z"
   },
   {
    "duration": 164,
    "start_time": "2022-08-08T04:04:50.742Z"
   },
   {
    "duration": 130,
    "start_time": "2022-08-08T04:04:50.907Z"
   },
   {
    "duration": 4,
    "start_time": "2022-08-08T04:04:51.039Z"
   },
   {
    "duration": 158,
    "start_time": "2022-08-08T04:04:51.044Z"
   },
   {
    "duration": 157,
    "start_time": "2022-08-08T04:04:51.205Z"
   },
   {
    "duration": 218,
    "start_time": "2022-08-08T04:04:51.363Z"
   },
   {
    "duration": 4,
    "start_time": "2022-08-08T04:04:51.583Z"
   },
   {
    "duration": 91,
    "start_time": "2022-08-08T04:04:51.589Z"
   },
   {
    "duration": 116,
    "start_time": "2022-08-08T04:04:51.682Z"
   },
   {
    "duration": 26,
    "start_time": "2022-08-08T04:04:51.800Z"
   },
   {
    "duration": 144,
    "start_time": "2022-08-08T04:04:51.828Z"
   },
   {
    "duration": 33,
    "start_time": "2022-08-08T04:04:51.974Z"
   },
   {
    "duration": 10,
    "start_time": "2022-08-08T04:04:52.008Z"
   },
   {
    "duration": 11,
    "start_time": "2022-08-08T04:04:52.020Z"
   },
   {
    "duration": 6,
    "start_time": "2022-08-08T04:04:52.033Z"
   },
   {
    "duration": 20,
    "start_time": "2022-08-08T04:04:52.041Z"
   },
   {
    "duration": 45,
    "start_time": "2022-08-08T04:04:52.063Z"
   },
   {
    "duration": 1417,
    "start_time": "2023-04-03T14:03:33.178Z"
   },
   {
    "duration": 2,
    "start_time": "2023-04-03T14:03:34.597Z"
   },
   {
    "duration": 22,
    "start_time": "2023-04-03T14:03:34.600Z"
   },
   {
    "duration": 242,
    "start_time": "2023-04-03T14:03:34.624Z"
   },
   {
    "duration": 12,
    "start_time": "2023-04-03T14:03:34.868Z"
   },
   {
    "duration": 21,
    "start_time": "2023-04-03T14:03:34.882Z"
   },
   {
    "duration": 18,
    "start_time": "2023-04-03T14:03:34.905Z"
   },
   {
    "duration": 22,
    "start_time": "2023-04-03T14:03:34.925Z"
   },
   {
    "duration": 22,
    "start_time": "2023-04-03T14:03:34.948Z"
   },
   {
    "duration": 27,
    "start_time": "2023-04-03T14:03:34.972Z"
   },
   {
    "duration": 16,
    "start_time": "2023-04-03T14:03:35.001Z"
   },
   {
    "duration": 47,
    "start_time": "2023-04-03T14:03:35.019Z"
   },
   {
    "duration": 24,
    "start_time": "2023-04-03T14:03:35.068Z"
   },
   {
    "duration": 43,
    "start_time": "2023-04-03T14:03:35.096Z"
   },
   {
    "duration": 381,
    "start_time": "2023-04-03T14:03:35.141Z"
   },
   {
    "duration": 8,
    "start_time": "2023-04-03T14:03:35.524Z"
   },
   {
    "duration": 24,
    "start_time": "2023-04-03T14:03:35.534Z"
   },
   {
    "duration": 11,
    "start_time": "2023-04-03T14:03:35.560Z"
   },
   {
    "duration": 19,
    "start_time": "2023-04-03T14:03:35.573Z"
   },
   {
    "duration": 17,
    "start_time": "2023-04-03T14:03:35.594Z"
   },
   {
    "duration": 16,
    "start_time": "2023-04-03T14:03:35.613Z"
   },
   {
    "duration": 18,
    "start_time": "2023-04-03T14:03:35.630Z"
   },
   {
    "duration": 14,
    "start_time": "2023-04-03T14:03:35.650Z"
   },
   {
    "duration": 85,
    "start_time": "2023-04-03T14:03:35.666Z"
   },
   {
    "duration": 311,
    "start_time": "2023-04-03T14:03:35.752Z"
   },
   {
    "duration": 277,
    "start_time": "2023-04-03T14:03:36.065Z"
   },
   {
    "duration": 277,
    "start_time": "2023-04-03T14:03:36.344Z"
   },
   {
    "duration": 351,
    "start_time": "2023-04-03T14:03:36.623Z"
   },
   {
    "duration": 278,
    "start_time": "2023-04-03T14:03:36.976Z"
   },
   {
    "duration": 389,
    "start_time": "2023-04-03T14:03:37.256Z"
   },
   {
    "duration": 11,
    "start_time": "2023-04-03T14:03:37.647Z"
   },
   {
    "duration": 183,
    "start_time": "2023-04-03T14:03:37.659Z"
   },
   {
    "duration": 176,
    "start_time": "2023-04-03T14:03:37.844Z"
   },
   {
    "duration": 5,
    "start_time": "2023-04-03T14:03:38.023Z"
   },
   {
    "duration": 197,
    "start_time": "2023-04-03T14:03:38.030Z"
   },
   {
    "duration": 201,
    "start_time": "2023-04-03T14:03:38.228Z"
   },
   {
    "duration": 219,
    "start_time": "2023-04-03T14:03:38.434Z"
   },
   {
    "duration": 5,
    "start_time": "2023-04-03T14:03:38.654Z"
   },
   {
    "duration": 113,
    "start_time": "2023-04-03T14:03:38.660Z"
   },
   {
    "duration": 143,
    "start_time": "2023-04-03T14:03:38.775Z"
   },
   {
    "duration": 29,
    "start_time": "2023-04-03T14:03:38.922Z"
   },
   {
    "duration": 170,
    "start_time": "2023-04-03T14:03:38.954Z"
   },
   {
    "duration": 37,
    "start_time": "2023-04-03T14:03:39.126Z"
   },
   {
    "duration": 29,
    "start_time": "2023-04-03T14:03:39.165Z"
   },
   {
    "duration": 15,
    "start_time": "2023-04-03T14:03:39.196Z"
   },
   {
    "duration": 8,
    "start_time": "2023-04-03T14:03:39.212Z"
   },
   {
    "duration": 36,
    "start_time": "2023-04-03T14:03:39.221Z"
   },
   {
    "duration": 29,
    "start_time": "2023-04-03T14:03:39.259Z"
   }
  ],
  "kernelspec": {
   "display_name": "Python 3 (ipykernel)",
   "language": "python",
   "name": "python3"
  },
  "language_info": {
   "codemirror_mode": {
    "name": "ipython",
    "version": 3
   },
   "file_extension": ".py",
   "mimetype": "text/x-python",
   "name": "python",
   "nbconvert_exporter": "python",
   "pygments_lexer": "ipython3",
   "version": "3.9.5"
  },
  "toc": {
   "base_numbering": 1,
   "nav_menu": {},
   "number_sections": true,
   "sideBar": true,
   "skip_h1_title": true,
   "title_cell": "Table of Contents",
   "title_sidebar": "Contents",
   "toc_cell": false,
   "toc_position": {
    "height": "calc(100% - 180px)",
    "left": "10px",
    "top": "150px",
    "width": "282.391px"
   },
   "toc_section_display": true,
   "toc_window_display": true
  }
 },
 "nbformat": 4,
 "nbformat_minor": 2
}
