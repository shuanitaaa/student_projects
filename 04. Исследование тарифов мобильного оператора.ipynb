{
 "cells": [
  {
   "cell_type": "markdown",
   "metadata": {},
   "source": [
    "# Определение перспективного тарифа для телеком-компании"
   ]
  },
  {
   "cell_type": "markdown",
   "metadata": {},
   "source": [
    "<div style=\"border:solid green 2px; padding: 20px\">\n",
    "\n",
    "<b>*Описание проекта*</b>\n",
    "\n",
    "Я аналитик компании «Мегалайн» — федерального оператора сотовой связи. \n",
    "Клиентам предлагают два тарифных плана: «Смарт» и «Ультра». Чтобы скорректировать рекламный бюджет, коммерческий департамент хочет понять, какой тариф приносит больше денег.\n",
    "Вам предстоит сделать предварительный анализ тарифов на небольшой выборке клиентов. В вашем распоряжении данные 500 пользователей «Мегалайна»: кто они, откуда, каким тарифом пользуются, сколько звонков и сообщений каждый отправил за 2018 год. Нужно проанализировать поведение клиентов и сделать вывод — какой тариф лучше.\n",
    "\n",
    "<b>Описание тарифов</b>\n",
    "\n",
    "*Тариф «Смарт»*\n",
    "- Ежемесячная плата: 550 рублей\n",
    "- Включено 500 минут разговора, 50 сообщений и 15 Гб интернет-трафика\n",
    "- Стоимость услуг сверх тарифного пакета:\n",
    "- минута разговора: 3 рубля\n",
    "- сообщение: 3 рубля\n",
    "- 1 Гб интернет-трафика: 200 рублей\n",
    "\n",
    "*Тариф «Ультра»*\n",
    "- Ежемесячная плата: 1950 рублей\n",
    "- Включено 3000 минут разговора, 1000 сообщений и 30 Гб интернет-трафика\n",
    "- Стоимость услуг сверх тарифного пакета:\n",
    "- минута разговора: 1 рубль\n",
    "- сообщение: 1 рубль\n",
    "- 1 Гб интернет-трафика: 150 рублей\n",
    "\n",
    "    ---\n",
    "\n",
    "_**«Мегалайн» всегда округляет *секунды до минут, а мегабайты — до гигабайт.**_\n",
    "\n",
    "**Каждый звонок округляется отдельно:** даже если он длился всего 1 секунду, будет засчитан как 1 минута.\n",
    "Для веб-трафика отдельные сессии не считаются. Вместо этого общая сумма за месяц округляется в бо́льшую сторону. Если абонент использует 1025 мегабайт в этом месяце, с него возьмут плату за 2 гигабайта. Примите, что неиспользованные за предыдущий месяц звонки, смс, интернет на следующий месяц не переносятся."
   ]
  },
  {
   "cell_type": "markdown",
   "metadata": {},
   "source": [
    "## Информация об исследуемых данных\n",
    "\n",
    "<div style=\"border:solid green 2px; padding: 20px\">\n",
    "\n",
    "**Таблица users (информация о пользователях):**\n",
    "    \n",
    "- user_id — уникальный идентификатор пользователя\n",
    "- first_name — имя пользователя\n",
    "- last_name — фамилия пользователя\n",
    "- age — возраст пользователя (годы)\n",
    "- reg_date — дата подключения тарифа (день, месяц, год)\n",
    "- churn_date — дата прекращения пользования тарифом (если значение пропущено, то тариф ещё действовал на момент выгрузки данных)\n",
    "- city — город проживания пользователя\n",
    "- tariff — название тарифного плана\n",
    "\n",
    "---\n",
    "\n",
    "**Таблица calls (информация о звонках):**\n",
    "- id — уникальный номер звонка\n",
    "- call_date — дата звонка\n",
    "- duration — длительность звонка в минутах\n",
    "- user_id — идентификатор пользователя, сделавшего звонок\n",
    "\n",
    "---\n",
    "\n",
    "**Таблица messages (информация о сообщениях):**\n",
    "- id — уникальный номер сообщения\n",
    "- message_date — дата сообщения\n",
    "- user_id — идентификатор пользователя, отправившего сообщение\n",
    "\n",
    "---\n",
    "\n",
    "**Таблица internet (информация об интернет-сессиях):**\n",
    "- id — уникальный номер сессии\n",
    "- mb_used — объём потраченного за сессию интернет-трафика (в мегабайтах)\n",
    "- session_date — дата интернет-сессии\n",
    "- user_id — идентификатор пользователя\n",
    "\n",
    "---\n",
    "\n",
    "**Таблица tariffs (информация о тарифах):**\n",
    "- tariff_name — название тарифа\n",
    "- rub_monthly_fee — ежемесячная абонентская плата в рублях\n",
    "- minutes_included — количество минут разговора в месяц, включённых в абонентскую плату\n",
    "- messages_included — количество сообщений в месяц, включённых в абонентскую плату\n",
    "- mb_per_month_included — объём интернет-трафика, включённого в абонентскую плату (в мегабайтах)\n",
    "- rub_per_minute — стоимость минуты разговора сверх тарифного пакета (например, если в тарифе 100 минут разговора в месяц, то со 101 минуты будет взиматься плата)\n",
    "- rub_per_message — стоимость отправки сообщения сверх тарифного пакета\n",
    "- rub_per_gb — стоимость дополнительного гигабайта интернет-трафика сверх тарифного пакета (1 гигабайт = 1024 мегабайта)\n"
   ]
  },
  {
   "cell_type": "code",
   "execution_count": 1,
   "metadata": {},
   "outputs": [],
   "source": [
    "#импортирую все библиотеки, которые могут понадобиться в ходе исследования\n",
    "import pandas as pd\n",
    "import matplotlib.pyplot as plt\n",
    "import numpy as np\n",
    "import seaborn as sns\n",
    "from scipy import stats as st\n",
    "import math\n",
    "from math import factorial\n",
    "import statsmodels.api as sm "
   ]
  },
  {
   "cell_type": "code",
   "execution_count": 2,
   "metadata": {},
   "outputs": [],
   "source": [
    "#отключаю системные предупреждения\n",
    "import warnings\n",
    "warnings.filterwarnings('ignore')"
   ]
  },
  {
   "cell_type": "markdown",
   "metadata": {},
   "source": [
    "## Знакомство с данными\n",
    "\n",
    "Прочту все датасеты, используемые в работе. Так как проект с равной долей вероятности я буду открывать как на платформе, так и локально, а сменить путь у 5 датасетов - не то же самое, что сменить путь у одного, открывать датасеты я буду через try/except."
   ]
  },
  {
   "cell_type": "code",
   "execution_count": 3,
   "metadata": {},
   "outputs": [],
   "source": [
    "pd.set_option('display.max_columns', 100)"
   ]
  },
  {
   "cell_type": "code",
   "execution_count": 4,
   "metadata": {
    "scrolled": true
   },
   "outputs": [
    {
     "data": {
      "text/html": [
       "<div>\n",
       "<style scoped>\n",
       "    .dataframe tbody tr th:only-of-type {\n",
       "        vertical-align: middle;\n",
       "    }\n",
       "\n",
       "    .dataframe tbody tr th {\n",
       "        vertical-align: top;\n",
       "    }\n",
       "\n",
       "    .dataframe thead th {\n",
       "        text-align: right;\n",
       "    }\n",
       "</style>\n",
       "<table border=\"1\" class=\"dataframe\">\n",
       "  <thead>\n",
       "    <tr style=\"text-align: right;\">\n",
       "      <th></th>\n",
       "      <th>user_id</th>\n",
       "      <th>age</th>\n",
       "      <th>churn_date</th>\n",
       "      <th>city</th>\n",
       "      <th>first_name</th>\n",
       "      <th>last_name</th>\n",
       "      <th>reg_date</th>\n",
       "      <th>tariff</th>\n",
       "    </tr>\n",
       "  </thead>\n",
       "  <tbody>\n",
       "    <tr>\n",
       "      <th>0</th>\n",
       "      <td>1000</td>\n",
       "      <td>52</td>\n",
       "      <td>NaN</td>\n",
       "      <td>Краснодар</td>\n",
       "      <td>Рафаил</td>\n",
       "      <td>Верещагин</td>\n",
       "      <td>2018-05-25</td>\n",
       "      <td>ultra</td>\n",
       "    </tr>\n",
       "    <tr>\n",
       "      <th>1</th>\n",
       "      <td>1001</td>\n",
       "      <td>41</td>\n",
       "      <td>NaN</td>\n",
       "      <td>Москва</td>\n",
       "      <td>Иван</td>\n",
       "      <td>Ежов</td>\n",
       "      <td>2018-11-01</td>\n",
       "      <td>smart</td>\n",
       "    </tr>\n",
       "    <tr>\n",
       "      <th>2</th>\n",
       "      <td>1002</td>\n",
       "      <td>59</td>\n",
       "      <td>NaN</td>\n",
       "      <td>Стерлитамак</td>\n",
       "      <td>Евгений</td>\n",
       "      <td>Абрамович</td>\n",
       "      <td>2018-06-17</td>\n",
       "      <td>smart</td>\n",
       "    </tr>\n",
       "    <tr>\n",
       "      <th>3</th>\n",
       "      <td>1003</td>\n",
       "      <td>23</td>\n",
       "      <td>NaN</td>\n",
       "      <td>Москва</td>\n",
       "      <td>Белла</td>\n",
       "      <td>Белякова</td>\n",
       "      <td>2018-08-17</td>\n",
       "      <td>ultra</td>\n",
       "    </tr>\n",
       "    <tr>\n",
       "      <th>4</th>\n",
       "      <td>1004</td>\n",
       "      <td>68</td>\n",
       "      <td>NaN</td>\n",
       "      <td>Новокузнецк</td>\n",
       "      <td>Татьяна</td>\n",
       "      <td>Авдеенко</td>\n",
       "      <td>2018-05-14</td>\n",
       "      <td>ultra</td>\n",
       "    </tr>\n",
       "    <tr>\n",
       "      <th>5</th>\n",
       "      <td>1005</td>\n",
       "      <td>67</td>\n",
       "      <td>NaN</td>\n",
       "      <td>Набережные Челны</td>\n",
       "      <td>Афанасий</td>\n",
       "      <td>Горлов</td>\n",
       "      <td>2018-01-25</td>\n",
       "      <td>smart</td>\n",
       "    </tr>\n",
       "    <tr>\n",
       "      <th>6</th>\n",
       "      <td>1006</td>\n",
       "      <td>21</td>\n",
       "      <td>NaN</td>\n",
       "      <td>Ульяновск</td>\n",
       "      <td>Леонид</td>\n",
       "      <td>Ермолаев</td>\n",
       "      <td>2018-02-26</td>\n",
       "      <td>smart</td>\n",
       "    </tr>\n",
       "    <tr>\n",
       "      <th>7</th>\n",
       "      <td>1007</td>\n",
       "      <td>65</td>\n",
       "      <td>NaN</td>\n",
       "      <td>Москва</td>\n",
       "      <td>Юна</td>\n",
       "      <td>Березина</td>\n",
       "      <td>2018-04-19</td>\n",
       "      <td>smart</td>\n",
       "    </tr>\n",
       "    <tr>\n",
       "      <th>8</th>\n",
       "      <td>1008</td>\n",
       "      <td>63</td>\n",
       "      <td>NaN</td>\n",
       "      <td>Челябинск</td>\n",
       "      <td>Рустэм</td>\n",
       "      <td>Пономарёв</td>\n",
       "      <td>2018-12-19</td>\n",
       "      <td>smart</td>\n",
       "    </tr>\n",
       "    <tr>\n",
       "      <th>9</th>\n",
       "      <td>1009</td>\n",
       "      <td>24</td>\n",
       "      <td>NaN</td>\n",
       "      <td>Пермь</td>\n",
       "      <td>Василиса</td>\n",
       "      <td>Блинова</td>\n",
       "      <td>2018-03-22</td>\n",
       "      <td>smart</td>\n",
       "    </tr>\n",
       "  </tbody>\n",
       "</table>\n",
       "</div>"
      ],
      "text/plain": [
       "   user_id  age churn_date              city first_name  last_name  \\\n",
       "0     1000   52        NaN         Краснодар     Рафаил  Верещагин   \n",
       "1     1001   41        NaN            Москва       Иван       Ежов   \n",
       "2     1002   59        NaN       Стерлитамак    Евгений  Абрамович   \n",
       "3     1003   23        NaN            Москва      Белла   Белякова   \n",
       "4     1004   68        NaN       Новокузнецк    Татьяна   Авдеенко   \n",
       "5     1005   67        NaN  Набережные Челны   Афанасий     Горлов   \n",
       "6     1006   21        NaN         Ульяновск     Леонид   Ермолаев   \n",
       "7     1007   65        NaN            Москва        Юна   Березина   \n",
       "8     1008   63        NaN         Челябинск     Рустэм  Пономарёв   \n",
       "9     1009   24        NaN             Пермь   Василиса    Блинова   \n",
       "\n",
       "     reg_date tariff  \n",
       "0  2018-05-25  ultra  \n",
       "1  2018-11-01  smart  \n",
       "2  2018-06-17  smart  \n",
       "3  2018-08-17  ultra  \n",
       "4  2018-05-14  ultra  \n",
       "5  2018-01-25  smart  \n",
       "6  2018-02-26  smart  \n",
       "7  2018-04-19  smart  \n",
       "8  2018-12-19  smart  \n",
       "9  2018-03-22  smart  "
      ]
     },
     "metadata": {},
     "output_type": "display_data"
    },
    {
     "name": "stdout",
     "output_type": "stream",
     "text": [
      "<class 'pandas.core.frame.DataFrame'>\n",
      "RangeIndex: 500 entries, 0 to 499\n",
      "Data columns (total 8 columns):\n",
      " #   Column      Non-Null Count  Dtype \n",
      "---  ------      --------------  ----- \n",
      " 0   user_id     500 non-null    int64 \n",
      " 1   age         500 non-null    int64 \n",
      " 2   churn_date  38 non-null     object\n",
      " 3   city        500 non-null    object\n",
      " 4   first_name  500 non-null    object\n",
      " 5   last_name   500 non-null    object\n",
      " 6   reg_date    500 non-null    object\n",
      " 7   tariff      500 non-null    object\n",
      "dtypes: int64(2), object(6)\n",
      "memory usage: 31.4+ KB\n"
     ]
    }
   ],
   "source": [
    "# таблица с информацией о пользователях\n",
    "try:\n",
    "    users = pd.read_csv('/datasets/users.csv')\n",
    "except:\n",
    "    users = pd.read_csv('../Downloads/users.csv')\n",
    "\n",
    "display(users.head(10))\n",
    "users.info()"
   ]
  },
  {
   "cell_type": "markdown",
   "metadata": {},
   "source": [
    "- Пропуски только в столбце с информацией о прекращении пользования тарифом, что логично, если пользователь продолжает пользоваться такрифом, информации о дате прекращения нет.\n",
    "- необходимо сменить тип столбца с датами подключения и датами отказа от тарифа."
   ]
  },
  {
   "cell_type": "code",
   "execution_count": 5,
   "metadata": {},
   "outputs": [
    {
     "data": {
      "text/html": [
       "<div>\n",
       "<style scoped>\n",
       "    .dataframe tbody tr th:only-of-type {\n",
       "        vertical-align: middle;\n",
       "    }\n",
       "\n",
       "    .dataframe tbody tr th {\n",
       "        vertical-align: top;\n",
       "    }\n",
       "\n",
       "    .dataframe thead th {\n",
       "        text-align: right;\n",
       "    }\n",
       "</style>\n",
       "<table border=\"1\" class=\"dataframe\">\n",
       "  <thead>\n",
       "    <tr style=\"text-align: right;\">\n",
       "      <th></th>\n",
       "      <th>id</th>\n",
       "      <th>call_date</th>\n",
       "      <th>duration</th>\n",
       "      <th>user_id</th>\n",
       "    </tr>\n",
       "  </thead>\n",
       "  <tbody>\n",
       "    <tr>\n",
       "      <th>0</th>\n",
       "      <td>1000_0</td>\n",
       "      <td>2018-07-25</td>\n",
       "      <td>0.00</td>\n",
       "      <td>1000</td>\n",
       "    </tr>\n",
       "    <tr>\n",
       "      <th>1</th>\n",
       "      <td>1000_1</td>\n",
       "      <td>2018-08-17</td>\n",
       "      <td>0.00</td>\n",
       "      <td>1000</td>\n",
       "    </tr>\n",
       "    <tr>\n",
       "      <th>2</th>\n",
       "      <td>1000_2</td>\n",
       "      <td>2018-06-11</td>\n",
       "      <td>2.85</td>\n",
       "      <td>1000</td>\n",
       "    </tr>\n",
       "    <tr>\n",
       "      <th>3</th>\n",
       "      <td>1000_3</td>\n",
       "      <td>2018-09-21</td>\n",
       "      <td>13.80</td>\n",
       "      <td>1000</td>\n",
       "    </tr>\n",
       "    <tr>\n",
       "      <th>4</th>\n",
       "      <td>1000_4</td>\n",
       "      <td>2018-12-15</td>\n",
       "      <td>5.18</td>\n",
       "      <td>1000</td>\n",
       "    </tr>\n",
       "    <tr>\n",
       "      <th>5</th>\n",
       "      <td>1000_5</td>\n",
       "      <td>2018-11-02</td>\n",
       "      <td>0.00</td>\n",
       "      <td>1000</td>\n",
       "    </tr>\n",
       "    <tr>\n",
       "      <th>6</th>\n",
       "      <td>1000_6</td>\n",
       "      <td>2018-10-18</td>\n",
       "      <td>0.00</td>\n",
       "      <td>1000</td>\n",
       "    </tr>\n",
       "    <tr>\n",
       "      <th>7</th>\n",
       "      <td>1000_7</td>\n",
       "      <td>2018-08-22</td>\n",
       "      <td>18.31</td>\n",
       "      <td>1000</td>\n",
       "    </tr>\n",
       "    <tr>\n",
       "      <th>8</th>\n",
       "      <td>1000_8</td>\n",
       "      <td>2018-09-15</td>\n",
       "      <td>18.44</td>\n",
       "      <td>1000</td>\n",
       "    </tr>\n",
       "    <tr>\n",
       "      <th>9</th>\n",
       "      <td>1000_9</td>\n",
       "      <td>2018-08-15</td>\n",
       "      <td>0.00</td>\n",
       "      <td>1000</td>\n",
       "    </tr>\n",
       "  </tbody>\n",
       "</table>\n",
       "</div>"
      ],
      "text/plain": [
       "       id   call_date  duration  user_id\n",
       "0  1000_0  2018-07-25      0.00     1000\n",
       "1  1000_1  2018-08-17      0.00     1000\n",
       "2  1000_2  2018-06-11      2.85     1000\n",
       "3  1000_3  2018-09-21     13.80     1000\n",
       "4  1000_4  2018-12-15      5.18     1000\n",
       "5  1000_5  2018-11-02      0.00     1000\n",
       "6  1000_6  2018-10-18      0.00     1000\n",
       "7  1000_7  2018-08-22     18.31     1000\n",
       "8  1000_8  2018-09-15     18.44     1000\n",
       "9  1000_9  2018-08-15      0.00     1000"
      ]
     },
     "metadata": {},
     "output_type": "display_data"
    },
    {
     "name": "stdout",
     "output_type": "stream",
     "text": [
      "<class 'pandas.core.frame.DataFrame'>\n",
      "RangeIndex: 202607 entries, 0 to 202606\n",
      "Data columns (total 4 columns):\n",
      " #   Column     Non-Null Count   Dtype  \n",
      "---  ------     --------------   -----  \n",
      " 0   id         202607 non-null  object \n",
      " 1   call_date  202607 non-null  object \n",
      " 2   duration   202607 non-null  float64\n",
      " 3   user_id    202607 non-null  int64  \n",
      "dtypes: float64(1), int64(1), object(2)\n",
      "memory usage: 6.2+ MB\n"
     ]
    }
   ],
   "source": [
    "# таблица с информацией о звонках\n",
    "try:\n",
    "    calls = pd.read_csv('/datasets/calls.csv')\n",
    "except:\n",
    "    calls = pd.read_csv('../Downloads/calls.csv')\n",
    "\n",
    "display(calls.head(10))\n",
    "calls.info()"
   ]
  },
  {
   "cell_type": "markdown",
   "metadata": {},
   "source": [
    "- Пропуски отсутствуют.\n",
    "- Необходимо сменить тип данных в столбце с датой.\n",
    "- Пока не понятно в каких еденицах указана продолжительность звонка, определюсь в дальнейшем.\n",
    "\n",
    "\n",
    "Помимо этого, условиями тарифного плана обозначено, что все звонки округляются в большую сторону до минут. Поэтому столбец duration необходимо подвергнуть обработке."
   ]
  },
  {
   "cell_type": "code",
   "execution_count": 6,
   "metadata": {},
   "outputs": [
    {
     "data": {
      "text/html": [
       "<div>\n",
       "<style scoped>\n",
       "    .dataframe tbody tr th:only-of-type {\n",
       "        vertical-align: middle;\n",
       "    }\n",
       "\n",
       "    .dataframe tbody tr th {\n",
       "        vertical-align: top;\n",
       "    }\n",
       "\n",
       "    .dataframe thead th {\n",
       "        text-align: right;\n",
       "    }\n",
       "</style>\n",
       "<table border=\"1\" class=\"dataframe\">\n",
       "  <thead>\n",
       "    <tr style=\"text-align: right;\">\n",
       "      <th></th>\n",
       "      <th>id</th>\n",
       "      <th>call_date</th>\n",
       "      <th>duration</th>\n",
       "      <th>user_id</th>\n",
       "    </tr>\n",
       "  </thead>\n",
       "  <tbody>\n",
       "    <tr>\n",
       "      <th>0</th>\n",
       "      <td>1000_0</td>\n",
       "      <td>2018-07-25</td>\n",
       "      <td>0.0</td>\n",
       "      <td>1000</td>\n",
       "    </tr>\n",
       "    <tr>\n",
       "      <th>1</th>\n",
       "      <td>1000_1</td>\n",
       "      <td>2018-08-17</td>\n",
       "      <td>0.0</td>\n",
       "      <td>1000</td>\n",
       "    </tr>\n",
       "    <tr>\n",
       "      <th>2</th>\n",
       "      <td>1000_2</td>\n",
       "      <td>2018-06-11</td>\n",
       "      <td>3.0</td>\n",
       "      <td>1000</td>\n",
       "    </tr>\n",
       "    <tr>\n",
       "      <th>3</th>\n",
       "      <td>1000_3</td>\n",
       "      <td>2018-09-21</td>\n",
       "      <td>14.0</td>\n",
       "      <td>1000</td>\n",
       "    </tr>\n",
       "    <tr>\n",
       "      <th>4</th>\n",
       "      <td>1000_4</td>\n",
       "      <td>2018-12-15</td>\n",
       "      <td>6.0</td>\n",
       "      <td>1000</td>\n",
       "    </tr>\n",
       "  </tbody>\n",
       "</table>\n",
       "</div>"
      ],
      "text/plain": [
       "       id   call_date  duration  user_id\n",
       "0  1000_0  2018-07-25       0.0     1000\n",
       "1  1000_1  2018-08-17       0.0     1000\n",
       "2  1000_2  2018-06-11       3.0     1000\n",
       "3  1000_3  2018-09-21      14.0     1000\n",
       "4  1000_4  2018-12-15       6.0     1000"
      ]
     },
     "execution_count": 6,
     "metadata": {},
     "output_type": "execute_result"
    }
   ],
   "source": [
    "# устранение замечания по округлению звонков\n",
    "calls['duration'] = np.ceil(calls['duration'])\n",
    "calls.head()"
   ]
  },
  {
   "cell_type": "code",
   "execution_count": 7,
   "metadata": {},
   "outputs": [
    {
     "data": {
      "image/png": "[encoded data removed]",
      "text/plain": [
       "<Figure size 432x288 with 1 Axes>"
      ]
     },
     "metadata": {
      "needs_background": "light"
     },
     "output_type": "display_data"
    }
   ],
   "source": [
    "calls['duration'].hist(bins=50)\n",
    "plt.title('Гистогрмма по звонкам абонентов Мегалайн')\n",
    "plt.xlabel('продолжительность')\n",
    "plt.ylabel('число звонков')\n",
    "plt.show()"
   ]
  },
  {
   "cell_type": "markdown",
   "metadata": {},
   "source": [
    "Вывод по гистограмме:\n",
    "- очень высокий процент звонков, продолжительностью 0 минут, возможно это звонки оставшиеся без ответа."
   ]
  },
  {
   "cell_type": "code",
   "execution_count": 8,
   "metadata": {},
   "outputs": [
    {
     "data": {
      "text/html": [
       "<div>\n",
       "<style scoped>\n",
       "    .dataframe tbody tr th:only-of-type {\n",
       "        vertical-align: middle;\n",
       "    }\n",
       "\n",
       "    .dataframe tbody tr th {\n",
       "        vertical-align: top;\n",
       "    }\n",
       "\n",
       "    .dataframe thead th {\n",
       "        text-align: right;\n",
       "    }\n",
       "</style>\n",
       "<table border=\"1\" class=\"dataframe\">\n",
       "  <thead>\n",
       "    <tr style=\"text-align: right;\">\n",
       "      <th></th>\n",
       "      <th>id</th>\n",
       "      <th>message_date</th>\n",
       "      <th>user_id</th>\n",
       "    </tr>\n",
       "  </thead>\n",
       "  <tbody>\n",
       "    <tr>\n",
       "      <th>0</th>\n",
       "      <td>1000_0</td>\n",
       "      <td>2018-06-27</td>\n",
       "      <td>1000</td>\n",
       "    </tr>\n",
       "    <tr>\n",
       "      <th>1</th>\n",
       "      <td>1000_1</td>\n",
       "      <td>2018-10-08</td>\n",
       "      <td>1000</td>\n",
       "    </tr>\n",
       "    <tr>\n",
       "      <th>2</th>\n",
       "      <td>1000_2</td>\n",
       "      <td>2018-08-04</td>\n",
       "      <td>1000</td>\n",
       "    </tr>\n",
       "    <tr>\n",
       "      <th>3</th>\n",
       "      <td>1000_3</td>\n",
       "      <td>2018-06-16</td>\n",
       "      <td>1000</td>\n",
       "    </tr>\n",
       "    <tr>\n",
       "      <th>4</th>\n",
       "      <td>1000_4</td>\n",
       "      <td>2018-12-05</td>\n",
       "      <td>1000</td>\n",
       "    </tr>\n",
       "    <tr>\n",
       "      <th>5</th>\n",
       "      <td>1000_5</td>\n",
       "      <td>2018-06-20</td>\n",
       "      <td>1000</td>\n",
       "    </tr>\n",
       "    <tr>\n",
       "      <th>6</th>\n",
       "      <td>1000_6</td>\n",
       "      <td>2018-11-19</td>\n",
       "      <td>1000</td>\n",
       "    </tr>\n",
       "    <tr>\n",
       "      <th>7</th>\n",
       "      <td>1000_7</td>\n",
       "      <td>2018-10-29</td>\n",
       "      <td>1000</td>\n",
       "    </tr>\n",
       "    <tr>\n",
       "      <th>8</th>\n",
       "      <td>1000_8</td>\n",
       "      <td>2018-06-25</td>\n",
       "      <td>1000</td>\n",
       "    </tr>\n",
       "    <tr>\n",
       "      <th>9</th>\n",
       "      <td>1000_9</td>\n",
       "      <td>2018-12-18</td>\n",
       "      <td>1000</td>\n",
       "    </tr>\n",
       "  </tbody>\n",
       "</table>\n",
       "</div>"
      ],
      "text/plain": [
       "       id message_date  user_id\n",
       "0  1000_0   2018-06-27     1000\n",
       "1  1000_1   2018-10-08     1000\n",
       "2  1000_2   2018-08-04     1000\n",
       "3  1000_3   2018-06-16     1000\n",
       "4  1000_4   2018-12-05     1000\n",
       "5  1000_5   2018-06-20     1000\n",
       "6  1000_6   2018-11-19     1000\n",
       "7  1000_7   2018-10-29     1000\n",
       "8  1000_8   2018-06-25     1000\n",
       "9  1000_9   2018-12-18     1000"
      ]
     },
     "metadata": {},
     "output_type": "display_data"
    },
    {
     "name": "stdout",
     "output_type": "stream",
     "text": [
      "<class 'pandas.core.frame.DataFrame'>\n",
      "RangeIndex: 123036 entries, 0 to 123035\n",
      "Data columns (total 3 columns):\n",
      " #   Column        Non-Null Count   Dtype \n",
      "---  ------        --------------   ----- \n",
      " 0   id            123036 non-null  object\n",
      " 1   message_date  123036 non-null  object\n",
      " 2   user_id       123036 non-null  int64 \n",
      "dtypes: int64(1), object(2)\n",
      "memory usage: 2.8+ MB\n"
     ]
    }
   ],
   "source": [
    "# таблица с информацией о сообщениях\n",
    "try:\n",
    "    messages = pd.read_csv('/datasets/messages.csv')\n",
    "except:\n",
    "    messages = pd.read_csv('../Downloads/messages.csv')\n",
    "\n",
    "display(messages.head(10))\n",
    "messages.info()"
   ]
  },
  {
   "cell_type": "markdown",
   "metadata": {},
   "source": [
    "- Пропуски отсутствуют.\n",
    "- Необходимо сменить тип данных в столбце с датой."
   ]
  },
  {
   "cell_type": "code",
   "execution_count": 9,
   "metadata": {},
   "outputs": [
    {
     "data": {
      "text/html": [
       "<div>\n",
       "<style scoped>\n",
       "    .dataframe tbody tr th:only-of-type {\n",
       "        vertical-align: middle;\n",
       "    }\n",
       "\n",
       "    .dataframe tbody tr th {\n",
       "        vertical-align: top;\n",
       "    }\n",
       "\n",
       "    .dataframe thead th {\n",
       "        text-align: right;\n",
       "    }\n",
       "</style>\n",
       "<table border=\"1\" class=\"dataframe\">\n",
       "  <thead>\n",
       "    <tr style=\"text-align: right;\">\n",
       "      <th></th>\n",
       "      <th>id</th>\n",
       "      <th>mb_used</th>\n",
       "      <th>session_date</th>\n",
       "      <th>user_id</th>\n",
       "    </tr>\n",
       "  </thead>\n",
       "  <tbody>\n",
       "    <tr>\n",
       "      <th>0</th>\n",
       "      <td>1000_0</td>\n",
       "      <td>112.95</td>\n",
       "      <td>2018-11-25</td>\n",
       "      <td>1000</td>\n",
       "    </tr>\n",
       "    <tr>\n",
       "      <th>1</th>\n",
       "      <td>1000_1</td>\n",
       "      <td>1052.81</td>\n",
       "      <td>2018-09-07</td>\n",
       "      <td>1000</td>\n",
       "    </tr>\n",
       "    <tr>\n",
       "      <th>2</th>\n",
       "      <td>1000_2</td>\n",
       "      <td>1197.26</td>\n",
       "      <td>2018-06-25</td>\n",
       "      <td>1000</td>\n",
       "    </tr>\n",
       "    <tr>\n",
       "      <th>3</th>\n",
       "      <td>1000_3</td>\n",
       "      <td>550.27</td>\n",
       "      <td>2018-08-22</td>\n",
       "      <td>1000</td>\n",
       "    </tr>\n",
       "    <tr>\n",
       "      <th>4</th>\n",
       "      <td>1000_4</td>\n",
       "      <td>302.56</td>\n",
       "      <td>2018-09-24</td>\n",
       "      <td>1000</td>\n",
       "    </tr>\n",
       "    <tr>\n",
       "      <th>5</th>\n",
       "      <td>1000_5</td>\n",
       "      <td>399.97</td>\n",
       "      <td>2018-10-02</td>\n",
       "      <td>1000</td>\n",
       "    </tr>\n",
       "    <tr>\n",
       "      <th>6</th>\n",
       "      <td>1000_6</td>\n",
       "      <td>540.08</td>\n",
       "      <td>2018-09-07</td>\n",
       "      <td>1000</td>\n",
       "    </tr>\n",
       "    <tr>\n",
       "      <th>7</th>\n",
       "      <td>1000_7</td>\n",
       "      <td>415.70</td>\n",
       "      <td>2018-07-11</td>\n",
       "      <td>1000</td>\n",
       "    </tr>\n",
       "    <tr>\n",
       "      <th>8</th>\n",
       "      <td>1000_8</td>\n",
       "      <td>505.40</td>\n",
       "      <td>2018-10-08</td>\n",
       "      <td>1000</td>\n",
       "    </tr>\n",
       "    <tr>\n",
       "      <th>9</th>\n",
       "      <td>1000_9</td>\n",
       "      <td>345.54</td>\n",
       "      <td>2018-09-03</td>\n",
       "      <td>1000</td>\n",
       "    </tr>\n",
       "  </tbody>\n",
       "</table>\n",
       "</div>"
      ],
      "text/plain": [
       "       id  mb_used session_date  user_id\n",
       "0  1000_0   112.95   2018-11-25     1000\n",
       "1  1000_1  1052.81   2018-09-07     1000\n",
       "2  1000_2  1197.26   2018-06-25     1000\n",
       "3  1000_3   550.27   2018-08-22     1000\n",
       "4  1000_4   302.56   2018-09-24     1000\n",
       "5  1000_5   399.97   2018-10-02     1000\n",
       "6  1000_6   540.08   2018-09-07     1000\n",
       "7  1000_7   415.70   2018-07-11     1000\n",
       "8  1000_8   505.40   2018-10-08     1000\n",
       "9  1000_9   345.54   2018-09-03     1000"
      ]
     },
     "metadata": {},
     "output_type": "display_data"
    },
    {
     "name": "stdout",
     "output_type": "stream",
     "text": [
      "<class 'pandas.core.frame.DataFrame'>\n",
      "Int64Index: 149396 entries, 0 to 149395\n",
      "Data columns (total 4 columns):\n",
      " #   Column        Non-Null Count   Dtype  \n",
      "---  ------        --------------   -----  \n",
      " 0   id            149396 non-null  object \n",
      " 1   mb_used       149396 non-null  float64\n",
      " 2   session_date  149396 non-null  object \n",
      " 3   user_id       149396 non-null  int64  \n",
      "dtypes: float64(1), int64(1), object(2)\n",
      "memory usage: 5.7+ MB\n"
     ]
    }
   ],
   "source": [
    "try:\n",
    "    internet = pd.read_csv('/datasets/internet.csv', index_col=0)\n",
    "except:\n",
    "    internet = pd.read_csv('../Downloads/internet.csv', index_col=0)\n",
    "\n",
    "display(internet.head(10))\n",
    "internet.info()"
   ]
  },
  {
   "cell_type": "markdown",
   "metadata": {},
   "source": [
    "- Пропуски отсутствуют.\n",
    "- Необходимо сменить тип данных в столбце с датой.\n",
    "- Можно избавиться от столбца Unnamed: 0 так как он полностью дублирует индексы строк.\n",
    "- Информация о потраченном трафике указана в Мб, так как по условию анализа известно, что оператор огругляет в сторону Гб (вообще-то нифига себе!), возможно данные в столбце нужно будет округлить.\n",
    "\n",
    "Зафиксирую идею - возможно стоит исследовать как много переплачивает пользовватель из-за округления Мб в Гб"
   ]
  },
  {
   "cell_type": "code",
   "execution_count": 10,
   "metadata": {},
   "outputs": [
    {
     "data": {
      "text/html": [
       "<div>\n",
       "<style scoped>\n",
       "    .dataframe tbody tr th:only-of-type {\n",
       "        vertical-align: middle;\n",
       "    }\n",
       "\n",
       "    .dataframe tbody tr th {\n",
       "        vertical-align: top;\n",
       "    }\n",
       "\n",
       "    .dataframe thead th {\n",
       "        text-align: right;\n",
       "    }\n",
       "</style>\n",
       "<table border=\"1\" class=\"dataframe\">\n",
       "  <thead>\n",
       "    <tr style=\"text-align: right;\">\n",
       "      <th></th>\n",
       "      <th>messages_included</th>\n",
       "      <th>mb_per_month_included</th>\n",
       "      <th>minutes_included</th>\n",
       "      <th>rub_monthly_fee</th>\n",
       "      <th>rub_per_gb</th>\n",
       "      <th>rub_per_message</th>\n",
       "      <th>rub_per_minute</th>\n",
       "      <th>tariff_name</th>\n",
       "    </tr>\n",
       "  </thead>\n",
       "  <tbody>\n",
       "    <tr>\n",
       "      <th>0</th>\n",
       "      <td>50</td>\n",
       "      <td>15360</td>\n",
       "      <td>500</td>\n",
       "      <td>550</td>\n",
       "      <td>200</td>\n",
       "      <td>3</td>\n",
       "      <td>3</td>\n",
       "      <td>smart</td>\n",
       "    </tr>\n",
       "    <tr>\n",
       "      <th>1</th>\n",
       "      <td>1000</td>\n",
       "      <td>30720</td>\n",
       "      <td>3000</td>\n",
       "      <td>1950</td>\n",
       "      <td>150</td>\n",
       "      <td>1</td>\n",
       "      <td>1</td>\n",
       "      <td>ultra</td>\n",
       "    </tr>\n",
       "  </tbody>\n",
       "</table>\n",
       "</div>"
      ],
      "text/plain": [
       "   messages_included  mb_per_month_included  minutes_included  \\\n",
       "0                 50                  15360               500   \n",
       "1               1000                  30720              3000   \n",
       "\n",
       "   rub_monthly_fee  rub_per_gb  rub_per_message  rub_per_minute tariff_name  \n",
       "0              550         200                3               3       smart  \n",
       "1             1950         150                1               1       ultra  "
      ]
     },
     "metadata": {},
     "output_type": "display_data"
    },
    {
     "name": "stdout",
     "output_type": "stream",
     "text": [
      "<class 'pandas.core.frame.DataFrame'>\n",
      "RangeIndex: 2 entries, 0 to 1\n",
      "Data columns (total 8 columns):\n",
      " #   Column                 Non-Null Count  Dtype \n",
      "---  ------                 --------------  ----- \n",
      " 0   messages_included      2 non-null      int64 \n",
      " 1   mb_per_month_included  2 non-null      int64 \n",
      " 2   minutes_included       2 non-null      int64 \n",
      " 3   rub_monthly_fee        2 non-null      int64 \n",
      " 4   rub_per_gb             2 non-null      int64 \n",
      " 5   rub_per_message        2 non-null      int64 \n",
      " 6   rub_per_minute         2 non-null      int64 \n",
      " 7   tariff_name            2 non-null      object\n",
      "dtypes: int64(7), object(1)\n",
      "memory usage: 256.0+ bytes\n"
     ]
    }
   ],
   "source": [
    "# таблица с информацией о тарифах\n",
    "try:\n",
    "    tariffs = pd.read_csv('/datasets/tariffs.csv')\n",
    "except:\n",
    "    tariffs = pd.read_csv('../Downloads/tariffs.csv')\n",
    "\n",
    "display(tariffs.head(10))\n",
    "tariffs.info()"
   ]
  },
  {
   "cell_type": "markdown",
   "metadata": {},
   "source": [
    "Пропусков нет."
   ]
  },
  {
   "cell_type": "markdown",
   "metadata": {},
   "source": [
    "### Обработка столбцов с указанием дат"
   ]
  },
  {
   "cell_type": "code",
   "execution_count": 11,
   "metadata": {},
   "outputs": [
    {
     "data": {
      "text/plain": [
       "'Информация о пользователях'"
      ]
     },
     "metadata": {},
     "output_type": "display_data"
    },
    {
     "name": "stdout",
     "output_type": "stream",
     "text": [
      "<class 'pandas.core.frame.DataFrame'>\n",
      "RangeIndex: 500 entries, 0 to 499\n",
      "Data columns (total 8 columns):\n",
      " #   Column      Non-Null Count  Dtype         \n",
      "---  ------      --------------  -----         \n",
      " 0   user_id     500 non-null    int64         \n",
      " 1   age         500 non-null    int64         \n",
      " 2   churn_date  38 non-null     datetime64[ns]\n",
      " 3   city        500 non-null    object        \n",
      " 4   first_name  500 non-null    object        \n",
      " 5   last_name   500 non-null    object        \n",
      " 6   reg_date    500 non-null    datetime64[ns]\n",
      " 7   tariff      500 non-null    object        \n",
      "dtypes: datetime64[ns](2), int64(2), object(4)\n",
      "memory usage: 31.4+ KB\n"
     ]
    },
    {
     "data": {
      "text/plain": [
       "None"
      ]
     },
     "metadata": {},
     "output_type": "display_data"
    },
    {
     "data": {
      "text/plain": [
       "'Информация о звонках'"
      ]
     },
     "metadata": {},
     "output_type": "display_data"
    },
    {
     "name": "stdout",
     "output_type": "stream",
     "text": [
      "<class 'pandas.core.frame.DataFrame'>\n",
      "RangeIndex: 202607 entries, 0 to 202606\n",
      "Data columns (total 4 columns):\n",
      " #   Column     Non-Null Count   Dtype         \n",
      "---  ------     --------------   -----         \n",
      " 0   id         202607 non-null  object        \n",
      " 1   call_date  202607 non-null  datetime64[ns]\n",
      " 2   duration   202607 non-null  float64       \n",
      " 3   user_id    202607 non-null  int64         \n",
      "dtypes: datetime64[ns](1), float64(1), int64(1), object(1)\n",
      "memory usage: 6.2+ MB\n"
     ]
    },
    {
     "data": {
      "text/plain": [
       "None"
      ]
     },
     "metadata": {},
     "output_type": "display_data"
    },
    {
     "data": {
      "text/plain": [
       "'Информация о сообщениях'"
      ]
     },
     "metadata": {},
     "output_type": "display_data"
    },
    {
     "name": "stdout",
     "output_type": "stream",
     "text": [
      "<class 'pandas.core.frame.DataFrame'>\n",
      "RangeIndex: 123036 entries, 0 to 123035\n",
      "Data columns (total 3 columns):\n",
      " #   Column        Non-Null Count   Dtype         \n",
      "---  ------        --------------   -----         \n",
      " 0   id            123036 non-null  object        \n",
      " 1   message_date  123036 non-null  datetime64[ns]\n",
      " 2   user_id       123036 non-null  int64         \n",
      "dtypes: datetime64[ns](1), int64(1), object(1)\n",
      "memory usage: 2.8+ MB\n"
     ]
    },
    {
     "data": {
      "text/plain": [
       "None"
      ]
     },
     "metadata": {},
     "output_type": "display_data"
    },
    {
     "data": {
      "text/plain": [
       "'Информация об интернет сессиях'"
      ]
     },
     "metadata": {},
     "output_type": "display_data"
    },
    {
     "name": "stdout",
     "output_type": "stream",
     "text": [
      "<class 'pandas.core.frame.DataFrame'>\n",
      "Int64Index: 149396 entries, 0 to 149395\n",
      "Data columns (total 4 columns):\n",
      " #   Column        Non-Null Count   Dtype         \n",
      "---  ------        --------------   -----         \n",
      " 0   id            149396 non-null  object        \n",
      " 1   mb_used       149396 non-null  float64       \n",
      " 2   session_date  149396 non-null  datetime64[ns]\n",
      " 3   user_id       149396 non-null  int64         \n",
      "dtypes: datetime64[ns](1), float64(1), int64(1), object(1)\n",
      "memory usage: 5.7+ MB\n"
     ]
    },
    {
     "data": {
      "text/plain": [
       "None"
      ]
     },
     "metadata": {},
     "output_type": "display_data"
    }
   ],
   "source": [
    "users['churn_date'] = pd.to_datetime(users['churn_date'], format='%Y-%m-%d')\n",
    "users['reg_date'] = pd.to_datetime(users['reg_date'], format='%Y-%m-%d')\n",
    "calls['call_date'] = pd.to_datetime(calls['call_date'], format='%Y-%m-%d')\n",
    "messages['message_date'] = pd.to_datetime(messages['message_date'], format='%Y-%m-%d')\n",
    "internet['session_date'] = pd.to_datetime(internet['session_date'], format='%Y-%m-%d')\n",
    "\n",
    "display('Информация о пользователях')\n",
    "display(users.info())\n",
    "display('Информация о звонках')\n",
    "display(calls.info())\n",
    "display('Информация о сообщениях')\n",
    "display(messages.info())\n",
    "display('Информация об интернет сессиях')\n",
    "display(internet.info())"
   ]
  },
  {
   "cell_type": "markdown",
   "metadata": {},
   "source": [
    "Тип столбцов с датами изменен. Меня вволновало как будет обработан столбец с пропусками, но и там прошло все как надо - пропуски никуда не делись, тип изменен.\n",
    "\n",
    "Для дальнейшего анализа извлеку месяцы и года в таблицах в отдельные столбцы."
   ]
  },
  {
   "cell_type": "code",
   "execution_count": 12,
   "metadata": {},
   "outputs": [
    {
     "data": {
      "text/html": [
       "<div>\n",
       "<style scoped>\n",
       "    .dataframe tbody tr th:only-of-type {\n",
       "        vertical-align: middle;\n",
       "    }\n",
       "\n",
       "    .dataframe tbody tr th {\n",
       "        vertical-align: top;\n",
       "    }\n",
       "\n",
       "    .dataframe thead th {\n",
       "        text-align: right;\n",
       "    }\n",
       "</style>\n",
       "<table border=\"1\" class=\"dataframe\">\n",
       "  <thead>\n",
       "    <tr style=\"text-align: right;\">\n",
       "      <th></th>\n",
       "      <th>user_id</th>\n",
       "      <th>age</th>\n",
       "      <th>churn_date</th>\n",
       "      <th>city</th>\n",
       "      <th>first_name</th>\n",
       "      <th>last_name</th>\n",
       "      <th>reg_date</th>\n",
       "      <th>tariff</th>\n",
       "      <th>reg_month</th>\n",
       "      <th>reg_year</th>\n",
       "    </tr>\n",
       "  </thead>\n",
       "  <tbody>\n",
       "    <tr>\n",
       "      <th>0</th>\n",
       "      <td>1000</td>\n",
       "      <td>52</td>\n",
       "      <td>NaT</td>\n",
       "      <td>Краснодар</td>\n",
       "      <td>Рафаил</td>\n",
       "      <td>Верещагин</td>\n",
       "      <td>2018-05-25</td>\n",
       "      <td>ultra</td>\n",
       "      <td>5</td>\n",
       "      <td>2018</td>\n",
       "    </tr>\n",
       "    <tr>\n",
       "      <th>1</th>\n",
       "      <td>1001</td>\n",
       "      <td>41</td>\n",
       "      <td>NaT</td>\n",
       "      <td>Москва</td>\n",
       "      <td>Иван</td>\n",
       "      <td>Ежов</td>\n",
       "      <td>2018-11-01</td>\n",
       "      <td>smart</td>\n",
       "      <td>11</td>\n",
       "      <td>2018</td>\n",
       "    </tr>\n",
       "    <tr>\n",
       "      <th>2</th>\n",
       "      <td>1002</td>\n",
       "      <td>59</td>\n",
       "      <td>NaT</td>\n",
       "      <td>Стерлитамак</td>\n",
       "      <td>Евгений</td>\n",
       "      <td>Абрамович</td>\n",
       "      <td>2018-06-17</td>\n",
       "      <td>smart</td>\n",
       "      <td>6</td>\n",
       "      <td>2018</td>\n",
       "    </tr>\n",
       "    <tr>\n",
       "      <th>3</th>\n",
       "      <td>1003</td>\n",
       "      <td>23</td>\n",
       "      <td>NaT</td>\n",
       "      <td>Москва</td>\n",
       "      <td>Белла</td>\n",
       "      <td>Белякова</td>\n",
       "      <td>2018-08-17</td>\n",
       "      <td>ultra</td>\n",
       "      <td>8</td>\n",
       "      <td>2018</td>\n",
       "    </tr>\n",
       "    <tr>\n",
       "      <th>4</th>\n",
       "      <td>1004</td>\n",
       "      <td>68</td>\n",
       "      <td>NaT</td>\n",
       "      <td>Новокузнецк</td>\n",
       "      <td>Татьяна</td>\n",
       "      <td>Авдеенко</td>\n",
       "      <td>2018-05-14</td>\n",
       "      <td>ultra</td>\n",
       "      <td>5</td>\n",
       "      <td>2018</td>\n",
       "    </tr>\n",
       "  </tbody>\n",
       "</table>\n",
       "</div>"
      ],
      "text/plain": [
       "   user_id  age churn_date         city first_name  last_name   reg_date  \\\n",
       "0     1000   52        NaT    Краснодар     Рафаил  Верещагин 2018-05-25   \n",
       "1     1001   41        NaT       Москва       Иван       Ежов 2018-11-01   \n",
       "2     1002   59        NaT  Стерлитамак    Евгений  Абрамович 2018-06-17   \n",
       "3     1003   23        NaT       Москва      Белла   Белякова 2018-08-17   \n",
       "4     1004   68        NaT  Новокузнецк    Татьяна   Авдеенко 2018-05-14   \n",
       "\n",
       "  tariff  reg_month  reg_year  \n",
       "0  ultra          5      2018  \n",
       "1  smart         11      2018  \n",
       "2  smart          6      2018  \n",
       "3  ultra          8      2018  \n",
       "4  ultra          5      2018  "
      ]
     },
     "metadata": {},
     "output_type": "display_data"
    },
    {
     "data": {
      "text/html": [
       "<div>\n",
       "<style scoped>\n",
       "    .dataframe tbody tr th:only-of-type {\n",
       "        vertical-align: middle;\n",
       "    }\n",
       "\n",
       "    .dataframe tbody tr th {\n",
       "        vertical-align: top;\n",
       "    }\n",
       "\n",
       "    .dataframe thead th {\n",
       "        text-align: right;\n",
       "    }\n",
       "</style>\n",
       "<table border=\"1\" class=\"dataframe\">\n",
       "  <thead>\n",
       "    <tr style=\"text-align: right;\">\n",
       "      <th></th>\n",
       "      <th>id</th>\n",
       "      <th>call_date</th>\n",
       "      <th>duration</th>\n",
       "      <th>user_id</th>\n",
       "      <th>month</th>\n",
       "      <th>year</th>\n",
       "    </tr>\n",
       "  </thead>\n",
       "  <tbody>\n",
       "    <tr>\n",
       "      <th>0</th>\n",
       "      <td>1000_0</td>\n",
       "      <td>2018-07-25</td>\n",
       "      <td>0.0</td>\n",
       "      <td>1000</td>\n",
       "      <td>7</td>\n",
       "      <td>2018</td>\n",
       "    </tr>\n",
       "    <tr>\n",
       "      <th>1</th>\n",
       "      <td>1000_1</td>\n",
       "      <td>2018-08-17</td>\n",
       "      <td>0.0</td>\n",
       "      <td>1000</td>\n",
       "      <td>8</td>\n",
       "      <td>2018</td>\n",
       "    </tr>\n",
       "    <tr>\n",
       "      <th>2</th>\n",
       "      <td>1000_2</td>\n",
       "      <td>2018-06-11</td>\n",
       "      <td>3.0</td>\n",
       "      <td>1000</td>\n",
       "      <td>6</td>\n",
       "      <td>2018</td>\n",
       "    </tr>\n",
       "    <tr>\n",
       "      <th>3</th>\n",
       "      <td>1000_3</td>\n",
       "      <td>2018-09-21</td>\n",
       "      <td>14.0</td>\n",
       "      <td>1000</td>\n",
       "      <td>9</td>\n",
       "      <td>2018</td>\n",
       "    </tr>\n",
       "    <tr>\n",
       "      <th>4</th>\n",
       "      <td>1000_4</td>\n",
       "      <td>2018-12-15</td>\n",
       "      <td>6.0</td>\n",
       "      <td>1000</td>\n",
       "      <td>12</td>\n",
       "      <td>2018</td>\n",
       "    </tr>\n",
       "  </tbody>\n",
       "</table>\n",
       "</div>"
      ],
      "text/plain": [
       "       id  call_date  duration  user_id  month  year\n",
       "0  1000_0 2018-07-25       0.0     1000      7  2018\n",
       "1  1000_1 2018-08-17       0.0     1000      8  2018\n",
       "2  1000_2 2018-06-11       3.0     1000      6  2018\n",
       "3  1000_3 2018-09-21      14.0     1000      9  2018\n",
       "4  1000_4 2018-12-15       6.0     1000     12  2018"
      ]
     },
     "metadata": {},
     "output_type": "display_data"
    },
    {
     "data": {
      "text/html": [
       "<div>\n",
       "<style scoped>\n",
       "    .dataframe tbody tr th:only-of-type {\n",
       "        vertical-align: middle;\n",
       "    }\n",
       "\n",
       "    .dataframe tbody tr th {\n",
       "        vertical-align: top;\n",
       "    }\n",
       "\n",
       "    .dataframe thead th {\n",
       "        text-align: right;\n",
       "    }\n",
       "</style>\n",
       "<table border=\"1\" class=\"dataframe\">\n",
       "  <thead>\n",
       "    <tr style=\"text-align: right;\">\n",
       "      <th></th>\n",
       "      <th>id</th>\n",
       "      <th>message_date</th>\n",
       "      <th>user_id</th>\n",
       "      <th>month</th>\n",
       "    </tr>\n",
       "  </thead>\n",
       "  <tbody>\n",
       "    <tr>\n",
       "      <th>0</th>\n",
       "      <td>1000_0</td>\n",
       "      <td>2018-06-27</td>\n",
       "      <td>1000</td>\n",
       "      <td>6</td>\n",
       "    </tr>\n",
       "    <tr>\n",
       "      <th>1</th>\n",
       "      <td>1000_1</td>\n",
       "      <td>2018-10-08</td>\n",
       "      <td>1000</td>\n",
       "      <td>10</td>\n",
       "    </tr>\n",
       "    <tr>\n",
       "      <th>2</th>\n",
       "      <td>1000_2</td>\n",
       "      <td>2018-08-04</td>\n",
       "      <td>1000</td>\n",
       "      <td>8</td>\n",
       "    </tr>\n",
       "    <tr>\n",
       "      <th>3</th>\n",
       "      <td>1000_3</td>\n",
       "      <td>2018-06-16</td>\n",
       "      <td>1000</td>\n",
       "      <td>6</td>\n",
       "    </tr>\n",
       "    <tr>\n",
       "      <th>4</th>\n",
       "      <td>1000_4</td>\n",
       "      <td>2018-12-05</td>\n",
       "      <td>1000</td>\n",
       "      <td>12</td>\n",
       "    </tr>\n",
       "  </tbody>\n",
       "</table>\n",
       "</div>"
      ],
      "text/plain": [
       "       id message_date  user_id  month\n",
       "0  1000_0   2018-06-27     1000      6\n",
       "1  1000_1   2018-10-08     1000     10\n",
       "2  1000_2   2018-08-04     1000      8\n",
       "3  1000_3   2018-06-16     1000      6\n",
       "4  1000_4   2018-12-05     1000     12"
      ]
     },
     "metadata": {},
     "output_type": "display_data"
    },
    {
     "data": {
      "text/html": [
       "<div>\n",
       "<style scoped>\n",
       "    .dataframe tbody tr th:only-of-type {\n",
       "        vertical-align: middle;\n",
       "    }\n",
       "\n",
       "    .dataframe tbody tr th {\n",
       "        vertical-align: top;\n",
       "    }\n",
       "\n",
       "    .dataframe thead th {\n",
       "        text-align: right;\n",
       "    }\n",
       "</style>\n",
       "<table border=\"1\" class=\"dataframe\">\n",
       "  <thead>\n",
       "    <tr style=\"text-align: right;\">\n",
       "      <th></th>\n",
       "      <th>id</th>\n",
       "      <th>mb_used</th>\n",
       "      <th>session_date</th>\n",
       "      <th>user_id</th>\n",
       "      <th>month</th>\n",
       "    </tr>\n",
       "  </thead>\n",
       "  <tbody>\n",
       "    <tr>\n",
       "      <th>0</th>\n",
       "      <td>1000_0</td>\n",
       "      <td>112.95</td>\n",
       "      <td>2018-11-25</td>\n",
       "      <td>1000</td>\n",
       "      <td>11</td>\n",
       "    </tr>\n",
       "    <tr>\n",
       "      <th>1</th>\n",
       "      <td>1000_1</td>\n",
       "      <td>1052.81</td>\n",
       "      <td>2018-09-07</td>\n",
       "      <td>1000</td>\n",
       "      <td>9</td>\n",
       "    </tr>\n",
       "    <tr>\n",
       "      <th>2</th>\n",
       "      <td>1000_2</td>\n",
       "      <td>1197.26</td>\n",
       "      <td>2018-06-25</td>\n",
       "      <td>1000</td>\n",
       "      <td>6</td>\n",
       "    </tr>\n",
       "    <tr>\n",
       "      <th>3</th>\n",
       "      <td>1000_3</td>\n",
       "      <td>550.27</td>\n",
       "      <td>2018-08-22</td>\n",
       "      <td>1000</td>\n",
       "      <td>8</td>\n",
       "    </tr>\n",
       "    <tr>\n",
       "      <th>4</th>\n",
       "      <td>1000_4</td>\n",
       "      <td>302.56</td>\n",
       "      <td>2018-09-24</td>\n",
       "      <td>1000</td>\n",
       "      <td>9</td>\n",
       "    </tr>\n",
       "  </tbody>\n",
       "</table>\n",
       "</div>"
      ],
      "text/plain": [
       "       id  mb_used session_date  user_id  month\n",
       "0  1000_0   112.95   2018-11-25     1000     11\n",
       "1  1000_1  1052.81   2018-09-07     1000      9\n",
       "2  1000_2  1197.26   2018-06-25     1000      6\n",
       "3  1000_3   550.27   2018-08-22     1000      8\n",
       "4  1000_4   302.56   2018-09-24     1000      9"
      ]
     },
     "metadata": {},
     "output_type": "display_data"
    }
   ],
   "source": [
    "users['reg_month'] = users['reg_date'].dt.month\n",
    "users['reg_year'] = users['reg_date'].dt.year\n",
    "calls['month'] = calls['call_date'].dt.month\n",
    "calls['year'] = calls['call_date'].dt.year\n",
    "messages['month'] = messages['message_date'].dt.month\n",
    "internet['month'] = internet['session_date'].dt.month\n",
    "\n",
    "display(users.head())\n",
    "display(calls.head())\n",
    "display(messages.head())\n",
    "display(internet.head())"
   ]
  },
  {
   "cell_type": "markdown",
   "metadata": {},
   "source": [
    "Добавление столбцов прошло удачно. Двигаюсь дальше."
   ]
  },
  {
   "cell_type": "markdown",
   "metadata": {},
   "source": [
    "### Обработка столбцов в таблице с информацией о тарифе\n",
    "\n",
    "Для дальнейшей работы решила сменить столбца с названием о тарифе на название, указанное в остальных датафреймах."
   ]
  },
  {
   "cell_type": "code",
   "execution_count": 13,
   "metadata": {},
   "outputs": [],
   "source": [
    "tariffs = tariffs.rename(columns={'tariff_name': 'tariff'})"
   ]
  },
  {
   "cell_type": "markdown",
   "metadata": {},
   "source": [
    "### Объем минут разговора по месяцам"
   ]
  },
  {
   "cell_type": "markdown",
   "metadata": {},
   "source": [
    "Данную задачу буду решать через сводную таблицц, собранную по месяцам и пользователям, где будут отображена продолжительность звонков. Применяемыми функциями будут сумма значений и их общее число."
   ]
  },
  {
   "cell_type": "code",
   "execution_count": 14,
   "metadata": {},
   "outputs": [
    {
     "data": {
      "text/html": [
       "<div>\n",
       "<style scoped>\n",
       "    .dataframe tbody tr th:only-of-type {\n",
       "        vertical-align: middle;\n",
       "    }\n",
       "\n",
       "    .dataframe tbody tr th {\n",
       "        vertical-align: top;\n",
       "    }\n",
       "\n",
       "    .dataframe thead tr th {\n",
       "        text-align: left;\n",
       "    }\n",
       "</style>\n",
       "<table border=\"1\" class=\"dataframe\">\n",
       "  <thead>\n",
       "    <tr>\n",
       "      <th></th>\n",
       "      <th>user_id</th>\n",
       "      <th>month</th>\n",
       "      <th>sum</th>\n",
       "      <th>count</th>\n",
       "    </tr>\n",
       "    <tr>\n",
       "      <th></th>\n",
       "      <th></th>\n",
       "      <th></th>\n",
       "      <th>duration</th>\n",
       "      <th>duration</th>\n",
       "    </tr>\n",
       "  </thead>\n",
       "  <tbody>\n",
       "    <tr>\n",
       "      <th>0</th>\n",
       "      <td>1000</td>\n",
       "      <td>5</td>\n",
       "      <td>159.0</td>\n",
       "      <td>22</td>\n",
       "    </tr>\n",
       "    <tr>\n",
       "      <th>1</th>\n",
       "      <td>1000</td>\n",
       "      <td>6</td>\n",
       "      <td>172.0</td>\n",
       "      <td>43</td>\n",
       "    </tr>\n",
       "    <tr>\n",
       "      <th>2</th>\n",
       "      <td>1000</td>\n",
       "      <td>7</td>\n",
       "      <td>340.0</td>\n",
       "      <td>47</td>\n",
       "    </tr>\n",
       "    <tr>\n",
       "      <th>3</th>\n",
       "      <td>1000</td>\n",
       "      <td>8</td>\n",
       "      <td>408.0</td>\n",
       "      <td>52</td>\n",
       "    </tr>\n",
       "    <tr>\n",
       "      <th>4</th>\n",
       "      <td>1000</td>\n",
       "      <td>9</td>\n",
       "      <td>466.0</td>\n",
       "      <td>58</td>\n",
       "    </tr>\n",
       "    <tr>\n",
       "      <th>...</th>\n",
       "      <td>...</td>\n",
       "      <td>...</td>\n",
       "      <td>...</td>\n",
       "      <td>...</td>\n",
       "    </tr>\n",
       "    <tr>\n",
       "      <th>3169</th>\n",
       "      <td>1498</td>\n",
       "      <td>10</td>\n",
       "      <td>247.0</td>\n",
       "      <td>41</td>\n",
       "    </tr>\n",
       "    <tr>\n",
       "      <th>3170</th>\n",
       "      <td>1499</td>\n",
       "      <td>9</td>\n",
       "      <td>70.0</td>\n",
       "      <td>9</td>\n",
       "    </tr>\n",
       "    <tr>\n",
       "      <th>3171</th>\n",
       "      <td>1499</td>\n",
       "      <td>10</td>\n",
       "      <td>449.0</td>\n",
       "      <td>68</td>\n",
       "    </tr>\n",
       "    <tr>\n",
       "      <th>3172</th>\n",
       "      <td>1499</td>\n",
       "      <td>11</td>\n",
       "      <td>612.0</td>\n",
       "      <td>74</td>\n",
       "    </tr>\n",
       "    <tr>\n",
       "      <th>3173</th>\n",
       "      <td>1499</td>\n",
       "      <td>12</td>\n",
       "      <td>492.0</td>\n",
       "      <td>69</td>\n",
       "    </tr>\n",
       "  </tbody>\n",
       "</table>\n",
       "<p>3174 rows × 4 columns</p>\n",
       "</div>"
      ],
      "text/plain": [
       "     user_id month      sum    count\n",
       "                   duration duration\n",
       "0       1000     5    159.0       22\n",
       "1       1000     6    172.0       43\n",
       "2       1000     7    340.0       47\n",
       "3       1000     8    408.0       52\n",
       "4       1000     9    466.0       58\n",
       "...      ...   ...      ...      ...\n",
       "3169    1498    10    247.0       41\n",
       "3170    1499     9     70.0        9\n",
       "3171    1499    10    449.0       68\n",
       "3172    1499    11    612.0       74\n",
       "3173    1499    12    492.0       69\n",
       "\n",
       "[3174 rows x 4 columns]"
      ]
     },
     "execution_count": 14,
     "metadata": {},
     "output_type": "execute_result"
    }
   ],
   "source": [
    "calls_pivot = calls.pivot_table(index=['user_id', 'month'], values='duration', aggfunc=['sum', 'count']).reset_index()\n",
    "calls_pivot"
   ]
  },
  {
   "cell_type": "code",
   "execution_count": 15,
   "metadata": {},
   "outputs": [
    {
     "data": {
      "text/plain": [
       "MultiIndex([('user_id',         ''),\n",
       "            (  'month',         ''),\n",
       "            (    'sum', 'duration'),\n",
       "            (  'count', 'duration')],\n",
       "           )"
      ]
     },
     "execution_count": 15,
     "metadata": {},
     "output_type": "execute_result"
    }
   ],
   "source": [
    "calls_pivot.columns"
   ]
  },
  {
   "cell_type": "code",
   "execution_count": 16,
   "metadata": {},
   "outputs": [
    {
     "data": {
      "text/html": [
       "<div>\n",
       "<style scoped>\n",
       "    .dataframe tbody tr th:only-of-type {\n",
       "        vertical-align: middle;\n",
       "    }\n",
       "\n",
       "    .dataframe tbody tr th {\n",
       "        vertical-align: top;\n",
       "    }\n",
       "\n",
       "    .dataframe thead th {\n",
       "        text-align: right;\n",
       "    }\n",
       "</style>\n",
       "<table border=\"1\" class=\"dataframe\">\n",
       "  <thead>\n",
       "    <tr style=\"text-align: right;\">\n",
       "      <th></th>\n",
       "      <th>user_id</th>\n",
       "      <th>month</th>\n",
       "      <th>sum_calls</th>\n",
       "      <th>count_calls</th>\n",
       "    </tr>\n",
       "  </thead>\n",
       "  <tbody>\n",
       "    <tr>\n",
       "      <th>0</th>\n",
       "      <td>1000</td>\n",
       "      <td>5</td>\n",
       "      <td>159.0</td>\n",
       "      <td>22</td>\n",
       "    </tr>\n",
       "    <tr>\n",
       "      <th>1</th>\n",
       "      <td>1000</td>\n",
       "      <td>6</td>\n",
       "      <td>172.0</td>\n",
       "      <td>43</td>\n",
       "    </tr>\n",
       "    <tr>\n",
       "      <th>2</th>\n",
       "      <td>1000</td>\n",
       "      <td>7</td>\n",
       "      <td>340.0</td>\n",
       "      <td>47</td>\n",
       "    </tr>\n",
       "    <tr>\n",
       "      <th>3</th>\n",
       "      <td>1000</td>\n",
       "      <td>8</td>\n",
       "      <td>408.0</td>\n",
       "      <td>52</td>\n",
       "    </tr>\n",
       "    <tr>\n",
       "      <th>4</th>\n",
       "      <td>1000</td>\n",
       "      <td>9</td>\n",
       "      <td>466.0</td>\n",
       "      <td>58</td>\n",
       "    </tr>\n",
       "  </tbody>\n",
       "</table>\n",
       "</div>"
      ],
      "text/plain": [
       "   user_id  month  sum_calls  count_calls\n",
       "0     1000      5      159.0           22\n",
       "1     1000      6      172.0           43\n",
       "2     1000      7      340.0           47\n",
       "3     1000      8      408.0           52\n",
       "4     1000      9      466.0           58"
      ]
     },
     "execution_count": 16,
     "metadata": {},
     "output_type": "execute_result"
    }
   ],
   "source": [
    "calls_pivot.columns = ['user_id', 'month', 'sum_calls', 'count_calls'] \n",
    "calls_pivot.head()"
   ]
  },
  {
   "cell_type": "markdown",
   "metadata": {},
   "source": [
    "### Объем сообщений по месяцам"
   ]
  },
  {
   "cell_type": "markdown",
   "metadata": {},
   "source": [
    "Для определения сообщений буду действовать так же, как и со звонками, но в функции укажу только 'count'. В качестве величины, к которой будет применена функция 'count' выбираю столбец 'id', чтобы получить количество сообщений, отправленных определенным пользователем в определенный месяц."
   ]
  },
  {
   "cell_type": "code",
   "execution_count": 17,
   "metadata": {},
   "outputs": [
    {
     "data": {
      "text/html": [
       "<div>\n",
       "<style scoped>\n",
       "    .dataframe tbody tr th:only-of-type {\n",
       "        vertical-align: middle;\n",
       "    }\n",
       "\n",
       "    .dataframe tbody tr th {\n",
       "        vertical-align: top;\n",
       "    }\n",
       "\n",
       "    .dataframe thead tr th {\n",
       "        text-align: left;\n",
       "    }\n",
       "</style>\n",
       "<table border=\"1\" class=\"dataframe\">\n",
       "  <thead>\n",
       "    <tr>\n",
       "      <th></th>\n",
       "      <th>user_id</th>\n",
       "      <th>month</th>\n",
       "      <th>count</th>\n",
       "    </tr>\n",
       "    <tr>\n",
       "      <th></th>\n",
       "      <th></th>\n",
       "      <th></th>\n",
       "      <th>id</th>\n",
       "    </tr>\n",
       "  </thead>\n",
       "  <tbody>\n",
       "    <tr>\n",
       "      <th>0</th>\n",
       "      <td>1000</td>\n",
       "      <td>5</td>\n",
       "      <td>22</td>\n",
       "    </tr>\n",
       "    <tr>\n",
       "      <th>1</th>\n",
       "      <td>1000</td>\n",
       "      <td>6</td>\n",
       "      <td>60</td>\n",
       "    </tr>\n",
       "    <tr>\n",
       "      <th>2</th>\n",
       "      <td>1000</td>\n",
       "      <td>7</td>\n",
       "      <td>75</td>\n",
       "    </tr>\n",
       "    <tr>\n",
       "      <th>3</th>\n",
       "      <td>1000</td>\n",
       "      <td>8</td>\n",
       "      <td>81</td>\n",
       "    </tr>\n",
       "    <tr>\n",
       "      <th>4</th>\n",
       "      <td>1000</td>\n",
       "      <td>9</td>\n",
       "      <td>57</td>\n",
       "    </tr>\n",
       "  </tbody>\n",
       "</table>\n",
       "</div>"
      ],
      "text/plain": [
       "  user_id month count\n",
       "                   id\n",
       "0    1000     5    22\n",
       "1    1000     6    60\n",
       "2    1000     7    75\n",
       "3    1000     8    81\n",
       "4    1000     9    57"
      ]
     },
     "execution_count": 17,
     "metadata": {},
     "output_type": "execute_result"
    }
   ],
   "source": [
    "messages_pivot = messages.pivot_table(index=['user_id', 'month'], values='id', aggfunc=['count']).reset_index()\n",
    "messages_pivot.head()"
   ]
  },
  {
   "cell_type": "code",
   "execution_count": 18,
   "metadata": {},
   "outputs": [
    {
     "data": {
      "text/plain": [
       "MultiIndex([('user_id',   ''),\n",
       "            (  'month',   ''),\n",
       "            (  'count', 'id')],\n",
       "           )"
      ]
     },
     "execution_count": 18,
     "metadata": {},
     "output_type": "execute_result"
    }
   ],
   "source": [
    "messages_pivot.columns"
   ]
  },
  {
   "cell_type": "code",
   "execution_count": 19,
   "metadata": {},
   "outputs": [
    {
     "data": {
      "text/html": [
       "<div>\n",
       "<style scoped>\n",
       "    .dataframe tbody tr th:only-of-type {\n",
       "        vertical-align: middle;\n",
       "    }\n",
       "\n",
       "    .dataframe tbody tr th {\n",
       "        vertical-align: top;\n",
       "    }\n",
       "\n",
       "    .dataframe thead th {\n",
       "        text-align: right;\n",
       "    }\n",
       "</style>\n",
       "<table border=\"1\" class=\"dataframe\">\n",
       "  <thead>\n",
       "    <tr style=\"text-align: right;\">\n",
       "      <th></th>\n",
       "      <th>user_id</th>\n",
       "      <th>month</th>\n",
       "      <th>count_mess</th>\n",
       "    </tr>\n",
       "  </thead>\n",
       "  <tbody>\n",
       "    <tr>\n",
       "      <th>0</th>\n",
       "      <td>1000</td>\n",
       "      <td>5</td>\n",
       "      <td>22</td>\n",
       "    </tr>\n",
       "    <tr>\n",
       "      <th>1</th>\n",
       "      <td>1000</td>\n",
       "      <td>6</td>\n",
       "      <td>60</td>\n",
       "    </tr>\n",
       "    <tr>\n",
       "      <th>2</th>\n",
       "      <td>1000</td>\n",
       "      <td>7</td>\n",
       "      <td>75</td>\n",
       "    </tr>\n",
       "    <tr>\n",
       "      <th>3</th>\n",
       "      <td>1000</td>\n",
       "      <td>8</td>\n",
       "      <td>81</td>\n",
       "    </tr>\n",
       "    <tr>\n",
       "      <th>4</th>\n",
       "      <td>1000</td>\n",
       "      <td>9</td>\n",
       "      <td>57</td>\n",
       "    </tr>\n",
       "  </tbody>\n",
       "</table>\n",
       "</div>"
      ],
      "text/plain": [
       "   user_id  month  count_mess\n",
       "0     1000      5          22\n",
       "1     1000      6          60\n",
       "2     1000      7          75\n",
       "3     1000      8          81\n",
       "4     1000      9          57"
      ]
     },
     "execution_count": 19,
     "metadata": {},
     "output_type": "execute_result"
    }
   ],
   "source": [
    "messages_pivot.columns = ['user_id', 'month', 'count_mess']\n",
    "messages_pivot.head()"
   ]
  },
  {
   "cell_type": "markdown",
   "metadata": {},
   "source": [
    "### Объем интернет-трафика по месяцам"
   ]
  },
  {
   "cell_type": "markdown",
   "metadata": {},
   "source": [
    "Для создания сводной таблицы проведу группировку, как и ранее, по месяцу и пользователю. В качестве величины выберу объем трафика. В данном случае буду применять только функцию суммы, чтобы посчитать общий объем трафика, используемый пользователем за определенный месяц."
   ]
  },
  {
   "cell_type": "code",
   "execution_count": 20,
   "metadata": {},
   "outputs": [
    {
     "data": {
      "text/html": [
       "<div>\n",
       "<style scoped>\n",
       "    .dataframe tbody tr th:only-of-type {\n",
       "        vertical-align: middle;\n",
       "    }\n",
       "\n",
       "    .dataframe tbody tr th {\n",
       "        vertical-align: top;\n",
       "    }\n",
       "\n",
       "    .dataframe thead tr th {\n",
       "        text-align: left;\n",
       "    }\n",
       "</style>\n",
       "<table border=\"1\" class=\"dataframe\">\n",
       "  <thead>\n",
       "    <tr>\n",
       "      <th></th>\n",
       "      <th>user_id</th>\n",
       "      <th>month</th>\n",
       "      <th>sum</th>\n",
       "    </tr>\n",
       "    <tr>\n",
       "      <th></th>\n",
       "      <th></th>\n",
       "      <th></th>\n",
       "      <th>mb_used</th>\n",
       "    </tr>\n",
       "  </thead>\n",
       "  <tbody>\n",
       "    <tr>\n",
       "      <th>0</th>\n",
       "      <td>1000</td>\n",
       "      <td>5</td>\n",
       "      <td>2253.49</td>\n",
       "    </tr>\n",
       "    <tr>\n",
       "      <th>1</th>\n",
       "      <td>1000</td>\n",
       "      <td>6</td>\n",
       "      <td>23233.77</td>\n",
       "    </tr>\n",
       "    <tr>\n",
       "      <th>2</th>\n",
       "      <td>1000</td>\n",
       "      <td>7</td>\n",
       "      <td>14003.64</td>\n",
       "    </tr>\n",
       "    <tr>\n",
       "      <th>3</th>\n",
       "      <td>1000</td>\n",
       "      <td>8</td>\n",
       "      <td>14055.93</td>\n",
       "    </tr>\n",
       "    <tr>\n",
       "      <th>4</th>\n",
       "      <td>1000</td>\n",
       "      <td>9</td>\n",
       "      <td>14568.91</td>\n",
       "    </tr>\n",
       "  </tbody>\n",
       "</table>\n",
       "</div>"
      ],
      "text/plain": [
       "  user_id month       sum\n",
       "                  mb_used\n",
       "0    1000     5   2253.49\n",
       "1    1000     6  23233.77\n",
       "2    1000     7  14003.64\n",
       "3    1000     8  14055.93\n",
       "4    1000     9  14568.91"
      ]
     },
     "execution_count": 20,
     "metadata": {},
     "output_type": "execute_result"
    }
   ],
   "source": [
    "internet_pivot = internet.pivot_table(index=['user_id', 'month'], values='mb_used', aggfunc=['sum']).reset_index()\n",
    "internet_pivot.head()"
   ]
  },
  {
   "cell_type": "markdown",
   "metadata": {},
   "source": [
    "Известно, что мобильный оператор окгруляет использованный трафик в большую сторону.  Сейчас объем трафика указан в Мб, поэтому в дальнейшем (в итоговой таблице, когда я приведу к порядку все названия столбцов) мне нужно перевести его в Гб (разделив значения за месяц на 1024), а также округлить в большую сторону, чтобы соблюсти зверские требования тарифов:)"
   ]
  },
  {
   "cell_type": "code",
   "execution_count": 21,
   "metadata": {},
   "outputs": [
    {
     "data": {
      "text/plain": [
       "MultiIndex([('user_id',        ''),\n",
       "            (  'month',        ''),\n",
       "            (    'sum', 'mb_used')],\n",
       "           )"
      ]
     },
     "execution_count": 21,
     "metadata": {},
     "output_type": "execute_result"
    }
   ],
   "source": [
    "internet_pivot.columns"
   ]
  },
  {
   "cell_type": "code",
   "execution_count": 22,
   "metadata": {},
   "outputs": [
    {
     "data": {
      "text/html": [
       "<div>\n",
       "<style scoped>\n",
       "    .dataframe tbody tr th:only-of-type {\n",
       "        vertical-align: middle;\n",
       "    }\n",
       "\n",
       "    .dataframe tbody tr th {\n",
       "        vertical-align: top;\n",
       "    }\n",
       "\n",
       "    .dataframe thead th {\n",
       "        text-align: right;\n",
       "    }\n",
       "</style>\n",
       "<table border=\"1\" class=\"dataframe\">\n",
       "  <thead>\n",
       "    <tr style=\"text-align: right;\">\n",
       "      <th></th>\n",
       "      <th>user_id</th>\n",
       "      <th>month</th>\n",
       "      <th>sum_trafic</th>\n",
       "    </tr>\n",
       "  </thead>\n",
       "  <tbody>\n",
       "    <tr>\n",
       "      <th>0</th>\n",
       "      <td>1000</td>\n",
       "      <td>5</td>\n",
       "      <td>2253.49</td>\n",
       "    </tr>\n",
       "    <tr>\n",
       "      <th>1</th>\n",
       "      <td>1000</td>\n",
       "      <td>6</td>\n",
       "      <td>23233.77</td>\n",
       "    </tr>\n",
       "    <tr>\n",
       "      <th>2</th>\n",
       "      <td>1000</td>\n",
       "      <td>7</td>\n",
       "      <td>14003.64</td>\n",
       "    </tr>\n",
       "    <tr>\n",
       "      <th>3</th>\n",
       "      <td>1000</td>\n",
       "      <td>8</td>\n",
       "      <td>14055.93</td>\n",
       "    </tr>\n",
       "    <tr>\n",
       "      <th>4</th>\n",
       "      <td>1000</td>\n",
       "      <td>9</td>\n",
       "      <td>14568.91</td>\n",
       "    </tr>\n",
       "  </tbody>\n",
       "</table>\n",
       "</div>"
      ],
      "text/plain": [
       "   user_id  month  sum_trafic\n",
       "0     1000      5     2253.49\n",
       "1     1000      6    23233.77\n",
       "2     1000      7    14003.64\n",
       "3     1000      8    14055.93\n",
       "4     1000      9    14568.91"
      ]
     },
     "execution_count": 22,
     "metadata": {},
     "output_type": "execute_result"
    }
   ],
   "source": [
    "internet_pivot.columns = ['user_id', 'month', 'sum_trafic']\n",
    "internet_pivot.head()"
   ]
  },
  {
   "cell_type": "markdown",
   "metadata": {},
   "source": [
    "Везде по этапу я использова .reset_index() чтобы:\n",
    "- исключить вероятность потери данных при работе с merge()\n",
    "- упростить переименование столбцов"
   ]
  },
  {
   "cell_type": "markdown",
   "metadata": {},
   "source": [
    "### Объем выручки с пользователя по месяцам"
   ]
  },
  {
   "cell_type": "markdown",
   "metadata": {},
   "source": [
    "Для дальнейшего исследования создаю общий датафрейм, влючающий в себя информацию из исследуемых датасетов."
   ]
  },
  {
   "cell_type": "code",
   "execution_count": 23,
   "metadata": {
    "scrolled": true
   },
   "outputs": [
    {
     "data": {
      "text/html": [
       "<div>\n",
       "<style scoped>\n",
       "    .dataframe tbody tr th:only-of-type {\n",
       "        vertical-align: middle;\n",
       "    }\n",
       "\n",
       "    .dataframe tbody tr th {\n",
       "        vertical-align: top;\n",
       "    }\n",
       "\n",
       "    .dataframe thead th {\n",
       "        text-align: right;\n",
       "    }\n",
       "</style>\n",
       "<table border=\"1\" class=\"dataframe\">\n",
       "  <thead>\n",
       "    <tr style=\"text-align: right;\">\n",
       "      <th></th>\n",
       "      <th>user_id</th>\n",
       "      <th>month</th>\n",
       "      <th>sum_calls</th>\n",
       "      <th>count_calls</th>\n",
       "      <th>count_mess</th>\n",
       "    </tr>\n",
       "  </thead>\n",
       "  <tbody>\n",
       "    <tr>\n",
       "      <th>0</th>\n",
       "      <td>1000</td>\n",
       "      <td>5</td>\n",
       "      <td>159.0</td>\n",
       "      <td>22.0</td>\n",
       "      <td>22.0</td>\n",
       "    </tr>\n",
       "    <tr>\n",
       "      <th>1</th>\n",
       "      <td>1000</td>\n",
       "      <td>6</td>\n",
       "      <td>172.0</td>\n",
       "      <td>43.0</td>\n",
       "      <td>60.0</td>\n",
       "    </tr>\n",
       "    <tr>\n",
       "      <th>2</th>\n",
       "      <td>1000</td>\n",
       "      <td>7</td>\n",
       "      <td>340.0</td>\n",
       "      <td>47.0</td>\n",
       "      <td>75.0</td>\n",
       "    </tr>\n",
       "    <tr>\n",
       "      <th>3</th>\n",
       "      <td>1000</td>\n",
       "      <td>8</td>\n",
       "      <td>408.0</td>\n",
       "      <td>52.0</td>\n",
       "      <td>81.0</td>\n",
       "    </tr>\n",
       "    <tr>\n",
       "      <th>4</th>\n",
       "      <td>1000</td>\n",
       "      <td>9</td>\n",
       "      <td>466.0</td>\n",
       "      <td>58.0</td>\n",
       "      <td>57.0</td>\n",
       "    </tr>\n",
       "    <tr>\n",
       "      <th>...</th>\n",
       "      <td>...</td>\n",
       "      <td>...</td>\n",
       "      <td>...</td>\n",
       "      <td>...</td>\n",
       "      <td>...</td>\n",
       "    </tr>\n",
       "    <tr>\n",
       "      <th>3208</th>\n",
       "      <td>1489</td>\n",
       "      <td>8</td>\n",
       "      <td>NaN</td>\n",
       "      <td>NaN</td>\n",
       "      <td>17.0</td>\n",
       "    </tr>\n",
       "    <tr>\n",
       "      <th>3209</th>\n",
       "      <td>1489</td>\n",
       "      <td>9</td>\n",
       "      <td>NaN</td>\n",
       "      <td>NaN</td>\n",
       "      <td>32.0</td>\n",
       "    </tr>\n",
       "    <tr>\n",
       "      <th>3210</th>\n",
       "      <td>1489</td>\n",
       "      <td>10</td>\n",
       "      <td>NaN</td>\n",
       "      <td>NaN</td>\n",
       "      <td>21.0</td>\n",
       "    </tr>\n",
       "    <tr>\n",
       "      <th>3211</th>\n",
       "      <td>1489</td>\n",
       "      <td>11</td>\n",
       "      <td>NaN</td>\n",
       "      <td>NaN</td>\n",
       "      <td>20.0</td>\n",
       "    </tr>\n",
       "    <tr>\n",
       "      <th>3212</th>\n",
       "      <td>1489</td>\n",
       "      <td>12</td>\n",
       "      <td>NaN</td>\n",
       "      <td>NaN</td>\n",
       "      <td>35.0</td>\n",
       "    </tr>\n",
       "  </tbody>\n",
       "</table>\n",
       "<p>3213 rows × 5 columns</p>\n",
       "</div>"
      ],
      "text/plain": [
       "      user_id  month  sum_calls  count_calls  count_mess\n",
       "0        1000      5      159.0         22.0        22.0\n",
       "1        1000      6      172.0         43.0        60.0\n",
       "2        1000      7      340.0         47.0        75.0\n",
       "3        1000      8      408.0         52.0        81.0\n",
       "4        1000      9      466.0         58.0        57.0\n",
       "...       ...    ...        ...          ...         ...\n",
       "3208     1489      8        NaN          NaN        17.0\n",
       "3209     1489      9        NaN          NaN        32.0\n",
       "3210     1489     10        NaN          NaN        21.0\n",
       "3211     1489     11        NaN          NaN        20.0\n",
       "3212     1489     12        NaN          NaN        35.0\n",
       "\n",
       "[3213 rows x 5 columns]"
      ]
     },
     "execution_count": 23,
     "metadata": {},
     "output_type": "execute_result"
    }
   ],
   "source": [
    "df_mobil = calls_pivot.merge(messages_pivot, how='outer', on=['user_id', 'month'])\n",
    "df_mobil"
   ]
  },
  {
   "cell_type": "code",
   "execution_count": 24,
   "metadata": {
    "scrolled": true
   },
   "outputs": [
    {
     "data": {
      "text/html": [
       "<div>\n",
       "<style scoped>\n",
       "    .dataframe tbody tr th:only-of-type {\n",
       "        vertical-align: middle;\n",
       "    }\n",
       "\n",
       "    .dataframe tbody tr th {\n",
       "        vertical-align: top;\n",
       "    }\n",
       "\n",
       "    .dataframe thead th {\n",
       "        text-align: right;\n",
       "    }\n",
       "</style>\n",
       "<table border=\"1\" class=\"dataframe\">\n",
       "  <thead>\n",
       "    <tr style=\"text-align: right;\">\n",
       "      <th></th>\n",
       "      <th>user_id</th>\n",
       "      <th>month</th>\n",
       "      <th>sum_calls</th>\n",
       "      <th>count_calls</th>\n",
       "      <th>count_mess</th>\n",
       "      <th>sum_trafic</th>\n",
       "    </tr>\n",
       "  </thead>\n",
       "  <tbody>\n",
       "    <tr>\n",
       "      <th>0</th>\n",
       "      <td>1000</td>\n",
       "      <td>5</td>\n",
       "      <td>159.0</td>\n",
       "      <td>22.0</td>\n",
       "      <td>22.0</td>\n",
       "      <td>2253.49</td>\n",
       "    </tr>\n",
       "    <tr>\n",
       "      <th>1</th>\n",
       "      <td>1000</td>\n",
       "      <td>6</td>\n",
       "      <td>172.0</td>\n",
       "      <td>43.0</td>\n",
       "      <td>60.0</td>\n",
       "      <td>23233.77</td>\n",
       "    </tr>\n",
       "    <tr>\n",
       "      <th>2</th>\n",
       "      <td>1000</td>\n",
       "      <td>7</td>\n",
       "      <td>340.0</td>\n",
       "      <td>47.0</td>\n",
       "      <td>75.0</td>\n",
       "      <td>14003.64</td>\n",
       "    </tr>\n",
       "    <tr>\n",
       "      <th>3</th>\n",
       "      <td>1000</td>\n",
       "      <td>8</td>\n",
       "      <td>408.0</td>\n",
       "      <td>52.0</td>\n",
       "      <td>81.0</td>\n",
       "      <td>14055.93</td>\n",
       "    </tr>\n",
       "    <tr>\n",
       "      <th>4</th>\n",
       "      <td>1000</td>\n",
       "      <td>9</td>\n",
       "      <td>466.0</td>\n",
       "      <td>58.0</td>\n",
       "      <td>57.0</td>\n",
       "      <td>14568.91</td>\n",
       "    </tr>\n",
       "    <tr>\n",
       "      <th>...</th>\n",
       "      <td>...</td>\n",
       "      <td>...</td>\n",
       "      <td>...</td>\n",
       "      <td>...</td>\n",
       "      <td>...</td>\n",
       "      <td>...</td>\n",
       "    </tr>\n",
       "    <tr>\n",
       "      <th>3209</th>\n",
       "      <td>1489</td>\n",
       "      <td>9</td>\n",
       "      <td>NaN</td>\n",
       "      <td>NaN</td>\n",
       "      <td>32.0</td>\n",
       "      <td>17206.30</td>\n",
       "    </tr>\n",
       "    <tr>\n",
       "      <th>3210</th>\n",
       "      <td>1489</td>\n",
       "      <td>10</td>\n",
       "      <td>NaN</td>\n",
       "      <td>NaN</td>\n",
       "      <td>21.0</td>\n",
       "      <td>19559.44</td>\n",
       "    </tr>\n",
       "    <tr>\n",
       "      <th>3211</th>\n",
       "      <td>1489</td>\n",
       "      <td>11</td>\n",
       "      <td>NaN</td>\n",
       "      <td>NaN</td>\n",
       "      <td>20.0</td>\n",
       "      <td>17491.56</td>\n",
       "    </tr>\n",
       "    <tr>\n",
       "      <th>3212</th>\n",
       "      <td>1489</td>\n",
       "      <td>12</td>\n",
       "      <td>NaN</td>\n",
       "      <td>NaN</td>\n",
       "      <td>35.0</td>\n",
       "      <td>17322.51</td>\n",
       "    </tr>\n",
       "    <tr>\n",
       "      <th>3213</th>\n",
       "      <td>1476</td>\n",
       "      <td>4</td>\n",
       "      <td>NaN</td>\n",
       "      <td>NaN</td>\n",
       "      <td>NaN</td>\n",
       "      <td>530.78</td>\n",
       "    </tr>\n",
       "  </tbody>\n",
       "</table>\n",
       "<p>3214 rows × 6 columns</p>\n",
       "</div>"
      ],
      "text/plain": [
       "      user_id  month  sum_calls  count_calls  count_mess  sum_trafic\n",
       "0        1000      5      159.0         22.0        22.0     2253.49\n",
       "1        1000      6      172.0         43.0        60.0    23233.77\n",
       "2        1000      7      340.0         47.0        75.0    14003.64\n",
       "3        1000      8      408.0         52.0        81.0    14055.93\n",
       "4        1000      9      466.0         58.0        57.0    14568.91\n",
       "...       ...    ...        ...          ...         ...         ...\n",
       "3209     1489      9        NaN          NaN        32.0    17206.30\n",
       "3210     1489     10        NaN          NaN        21.0    19559.44\n",
       "3211     1489     11        NaN          NaN        20.0    17491.56\n",
       "3212     1489     12        NaN          NaN        35.0    17322.51\n",
       "3213     1476      4        NaN          NaN         NaN      530.78\n",
       "\n",
       "[3214 rows x 6 columns]"
      ]
     },
     "execution_count": 24,
     "metadata": {},
     "output_type": "execute_result"
    }
   ],
   "source": [
    "df_mobil = df_mobil.merge(internet_pivot, how='outer', on=['user_id', 'month'])\n",
    "df_mobil = df_mobil.rename(columns={('sum', 'mb_used') : 'mb_trafic_sum'})\n",
    "df_mobil"
   ]
  },
  {
   "cell_type": "code",
   "execution_count": 25,
   "metadata": {
    "scrolled": true
   },
   "outputs": [
    {
     "data": {
      "text/html": [
       "<div>\n",
       "<style scoped>\n",
       "    .dataframe tbody tr th:only-of-type {\n",
       "        vertical-align: middle;\n",
       "    }\n",
       "\n",
       "    .dataframe tbody tr th {\n",
       "        vertical-align: top;\n",
       "    }\n",
       "\n",
       "    .dataframe thead th {\n",
       "        text-align: right;\n",
       "    }\n",
       "</style>\n",
       "<table border=\"1\" class=\"dataframe\">\n",
       "  <thead>\n",
       "    <tr style=\"text-align: right;\">\n",
       "      <th></th>\n",
       "      <th>user_id</th>\n",
       "      <th>month</th>\n",
       "      <th>sum_calls</th>\n",
       "      <th>count_calls</th>\n",
       "      <th>count_mess</th>\n",
       "      <th>sum_trafic</th>\n",
       "      <th>age</th>\n",
       "      <th>churn_date</th>\n",
       "      <th>city</th>\n",
       "      <th>first_name</th>\n",
       "      <th>last_name</th>\n",
       "      <th>reg_date</th>\n",
       "      <th>tariff</th>\n",
       "      <th>reg_month</th>\n",
       "      <th>reg_year</th>\n",
       "    </tr>\n",
       "  </thead>\n",
       "  <tbody>\n",
       "    <tr>\n",
       "      <th>0</th>\n",
       "      <td>1000</td>\n",
       "      <td>5.0</td>\n",
       "      <td>159.0</td>\n",
       "      <td>22.0</td>\n",
       "      <td>22.0</td>\n",
       "      <td>2253.49</td>\n",
       "      <td>52</td>\n",
       "      <td>NaT</td>\n",
       "      <td>Краснодар</td>\n",
       "      <td>Рафаил</td>\n",
       "      <td>Верещагин</td>\n",
       "      <td>2018-05-25</td>\n",
       "      <td>ultra</td>\n",
       "      <td>5</td>\n",
       "      <td>2018</td>\n",
       "    </tr>\n",
       "    <tr>\n",
       "      <th>1</th>\n",
       "      <td>1000</td>\n",
       "      <td>6.0</td>\n",
       "      <td>172.0</td>\n",
       "      <td>43.0</td>\n",
       "      <td>60.0</td>\n",
       "      <td>23233.77</td>\n",
       "      <td>52</td>\n",
       "      <td>NaT</td>\n",
       "      <td>Краснодар</td>\n",
       "      <td>Рафаил</td>\n",
       "      <td>Верещагин</td>\n",
       "      <td>2018-05-25</td>\n",
       "      <td>ultra</td>\n",
       "      <td>5</td>\n",
       "      <td>2018</td>\n",
       "    </tr>\n",
       "    <tr>\n",
       "      <th>2</th>\n",
       "      <td>1000</td>\n",
       "      <td>7.0</td>\n",
       "      <td>340.0</td>\n",
       "      <td>47.0</td>\n",
       "      <td>75.0</td>\n",
       "      <td>14003.64</td>\n",
       "      <td>52</td>\n",
       "      <td>NaT</td>\n",
       "      <td>Краснодар</td>\n",
       "      <td>Рафаил</td>\n",
       "      <td>Верещагин</td>\n",
       "      <td>2018-05-25</td>\n",
       "      <td>ultra</td>\n",
       "      <td>5</td>\n",
       "      <td>2018</td>\n",
       "    </tr>\n",
       "    <tr>\n",
       "      <th>3</th>\n",
       "      <td>1000</td>\n",
       "      <td>8.0</td>\n",
       "      <td>408.0</td>\n",
       "      <td>52.0</td>\n",
       "      <td>81.0</td>\n",
       "      <td>14055.93</td>\n",
       "      <td>52</td>\n",
       "      <td>NaT</td>\n",
       "      <td>Краснодар</td>\n",
       "      <td>Рафаил</td>\n",
       "      <td>Верещагин</td>\n",
       "      <td>2018-05-25</td>\n",
       "      <td>ultra</td>\n",
       "      <td>5</td>\n",
       "      <td>2018</td>\n",
       "    </tr>\n",
       "    <tr>\n",
       "      <th>4</th>\n",
       "      <td>1000</td>\n",
       "      <td>9.0</td>\n",
       "      <td>466.0</td>\n",
       "      <td>58.0</td>\n",
       "      <td>57.0</td>\n",
       "      <td>14568.91</td>\n",
       "      <td>52</td>\n",
       "      <td>NaT</td>\n",
       "      <td>Краснодар</td>\n",
       "      <td>Рафаил</td>\n",
       "      <td>Верещагин</td>\n",
       "      <td>2018-05-25</td>\n",
       "      <td>ultra</td>\n",
       "      <td>5</td>\n",
       "      <td>2018</td>\n",
       "    </tr>\n",
       "    <tr>\n",
       "      <th>...</th>\n",
       "      <td>...</td>\n",
       "      <td>...</td>\n",
       "      <td>...</td>\n",
       "      <td>...</td>\n",
       "      <td>...</td>\n",
       "      <td>...</td>\n",
       "      <td>...</td>\n",
       "      <td>...</td>\n",
       "      <td>...</td>\n",
       "      <td>...</td>\n",
       "      <td>...</td>\n",
       "      <td>...</td>\n",
       "      <td>...</td>\n",
       "      <td>...</td>\n",
       "      <td>...</td>\n",
       "    </tr>\n",
       "    <tr>\n",
       "      <th>3211</th>\n",
       "      <td>1489</td>\n",
       "      <td>10.0</td>\n",
       "      <td>NaN</td>\n",
       "      <td>NaN</td>\n",
       "      <td>21.0</td>\n",
       "      <td>19559.44</td>\n",
       "      <td>35</td>\n",
       "      <td>NaT</td>\n",
       "      <td>Санкт-Петербург</td>\n",
       "      <td>Павел</td>\n",
       "      <td>Гончаров</td>\n",
       "      <td>2018-08-15</td>\n",
       "      <td>smart</td>\n",
       "      <td>8</td>\n",
       "      <td>2018</td>\n",
       "    </tr>\n",
       "    <tr>\n",
       "      <th>3212</th>\n",
       "      <td>1489</td>\n",
       "      <td>11.0</td>\n",
       "      <td>NaN</td>\n",
       "      <td>NaN</td>\n",
       "      <td>20.0</td>\n",
       "      <td>17491.56</td>\n",
       "      <td>35</td>\n",
       "      <td>NaT</td>\n",
       "      <td>Санкт-Петербург</td>\n",
       "      <td>Павел</td>\n",
       "      <td>Гончаров</td>\n",
       "      <td>2018-08-15</td>\n",
       "      <td>smart</td>\n",
       "      <td>8</td>\n",
       "      <td>2018</td>\n",
       "    </tr>\n",
       "    <tr>\n",
       "      <th>3213</th>\n",
       "      <td>1489</td>\n",
       "      <td>12.0</td>\n",
       "      <td>NaN</td>\n",
       "      <td>NaN</td>\n",
       "      <td>35.0</td>\n",
       "      <td>17322.51</td>\n",
       "      <td>35</td>\n",
       "      <td>NaT</td>\n",
       "      <td>Санкт-Петербург</td>\n",
       "      <td>Павел</td>\n",
       "      <td>Гончаров</td>\n",
       "      <td>2018-08-15</td>\n",
       "      <td>smart</td>\n",
       "      <td>8</td>\n",
       "      <td>2018</td>\n",
       "    </tr>\n",
       "    <tr>\n",
       "      <th>3214</th>\n",
       "      <td>1128</td>\n",
       "      <td>NaN</td>\n",
       "      <td>NaN</td>\n",
       "      <td>NaN</td>\n",
       "      <td>NaN</td>\n",
       "      <td>NaN</td>\n",
       "      <td>51</td>\n",
       "      <td>2018-12-23</td>\n",
       "      <td>Волжский</td>\n",
       "      <td>Ксения</td>\n",
       "      <td>Агаева</td>\n",
       "      <td>2018-12-15</td>\n",
       "      <td>ultra</td>\n",
       "      <td>12</td>\n",
       "      <td>2018</td>\n",
       "    </tr>\n",
       "    <tr>\n",
       "      <th>3215</th>\n",
       "      <td>1371</td>\n",
       "      <td>NaN</td>\n",
       "      <td>NaN</td>\n",
       "      <td>NaN</td>\n",
       "      <td>NaN</td>\n",
       "      <td>NaN</td>\n",
       "      <td>50</td>\n",
       "      <td>2018-12-30</td>\n",
       "      <td>Омск</td>\n",
       "      <td>Ириней</td>\n",
       "      <td>Трофимов</td>\n",
       "      <td>2018-12-25</td>\n",
       "      <td>smart</td>\n",
       "      <td>12</td>\n",
       "      <td>2018</td>\n",
       "    </tr>\n",
       "  </tbody>\n",
       "</table>\n",
       "<p>3216 rows × 15 columns</p>\n",
       "</div>"
      ],
      "text/plain": [
       "      user_id  month  sum_calls  count_calls  count_mess  sum_trafic  age  \\\n",
       "0        1000    5.0      159.0         22.0        22.0     2253.49   52   \n",
       "1        1000    6.0      172.0         43.0        60.0    23233.77   52   \n",
       "2        1000    7.0      340.0         47.0        75.0    14003.64   52   \n",
       "3        1000    8.0      408.0         52.0        81.0    14055.93   52   \n",
       "4        1000    9.0      466.0         58.0        57.0    14568.91   52   \n",
       "...       ...    ...        ...          ...         ...         ...  ...   \n",
       "3211     1489   10.0        NaN          NaN        21.0    19559.44   35   \n",
       "3212     1489   11.0        NaN          NaN        20.0    17491.56   35   \n",
       "3213     1489   12.0        NaN          NaN        35.0    17322.51   35   \n",
       "3214     1128    NaN        NaN          NaN         NaN         NaN   51   \n",
       "3215     1371    NaN        NaN          NaN         NaN         NaN   50   \n",
       "\n",
       "     churn_date             city first_name  last_name   reg_date tariff  \\\n",
       "0           NaT        Краснодар     Рафаил  Верещагин 2018-05-25  ultra   \n",
       "1           NaT        Краснодар     Рафаил  Верещагин 2018-05-25  ultra   \n",
       "2           NaT        Краснодар     Рафаил  Верещагин 2018-05-25  ultra   \n",
       "3           NaT        Краснодар     Рафаил  Верещагин 2018-05-25  ultra   \n",
       "4           NaT        Краснодар     Рафаил  Верещагин 2018-05-25  ultra   \n",
       "...         ...              ...        ...        ...        ...    ...   \n",
       "3211        NaT  Санкт-Петербург      Павел   Гончаров 2018-08-15  smart   \n",
       "3212        NaT  Санкт-Петербург      Павел   Гончаров 2018-08-15  smart   \n",
       "3213        NaT  Санкт-Петербург      Павел   Гончаров 2018-08-15  smart   \n",
       "3214 2018-12-23         Волжский     Ксения     Агаева 2018-12-15  ultra   \n",
       "3215 2018-12-30             Омск     Ириней   Трофимов 2018-12-25  smart   \n",
       "\n",
       "      reg_month  reg_year  \n",
       "0             5      2018  \n",
       "1             5      2018  \n",
       "2             5      2018  \n",
       "3             5      2018  \n",
       "4             5      2018  \n",
       "...         ...       ...  \n",
       "3211          8      2018  \n",
       "3212          8      2018  \n",
       "3213          8      2018  \n",
       "3214         12      2018  \n",
       "3215         12      2018  \n",
       "\n",
       "[3216 rows x 15 columns]"
      ]
     },
     "execution_count": 25,
     "metadata": {},
     "output_type": "execute_result"
    }
   ],
   "source": [
    "df_mobil = df_mobil.merge(users, how='outer', on='user_id')\n",
    "df_mobil\n"
   ]
  },
  {
   "cell_type": "code",
   "execution_count": 26,
   "metadata": {},
   "outputs": [
    {
     "data": {
      "text/html": [
       "<div>\n",
       "<style scoped>\n",
       "    .dataframe tbody tr th:only-of-type {\n",
       "        vertical-align: middle;\n",
       "    }\n",
       "\n",
       "    .dataframe tbody tr th {\n",
       "        vertical-align: top;\n",
       "    }\n",
       "\n",
       "    .dataframe thead th {\n",
       "        text-align: right;\n",
       "    }\n",
       "</style>\n",
       "<table border=\"1\" class=\"dataframe\">\n",
       "  <thead>\n",
       "    <tr style=\"text-align: right;\">\n",
       "      <th></th>\n",
       "      <th>user_id</th>\n",
       "      <th>month</th>\n",
       "      <th>sum_calls</th>\n",
       "      <th>count_calls</th>\n",
       "      <th>count_mess</th>\n",
       "      <th>sum_trafic</th>\n",
       "      <th>age</th>\n",
       "      <th>churn_date</th>\n",
       "      <th>city</th>\n",
       "      <th>first_name</th>\n",
       "      <th>last_name</th>\n",
       "      <th>reg_date</th>\n",
       "      <th>tariff</th>\n",
       "      <th>reg_month</th>\n",
       "      <th>reg_year</th>\n",
       "      <th>messages_included</th>\n",
       "      <th>mb_per_month_included</th>\n",
       "      <th>minutes_included</th>\n",
       "      <th>rub_monthly_fee</th>\n",
       "      <th>rub_per_gb</th>\n",
       "      <th>rub_per_message</th>\n",
       "      <th>rub_per_minute</th>\n",
       "    </tr>\n",
       "  </thead>\n",
       "  <tbody>\n",
       "    <tr>\n",
       "      <th>0</th>\n",
       "      <td>1000</td>\n",
       "      <td>5.0</td>\n",
       "      <td>159.0</td>\n",
       "      <td>22.0</td>\n",
       "      <td>22.0</td>\n",
       "      <td>2253.49</td>\n",
       "      <td>52</td>\n",
       "      <td>NaT</td>\n",
       "      <td>Краснодар</td>\n",
       "      <td>Рафаил</td>\n",
       "      <td>Верещагин</td>\n",
       "      <td>2018-05-25</td>\n",
       "      <td>ultra</td>\n",
       "      <td>5</td>\n",
       "      <td>2018</td>\n",
       "      <td>1000</td>\n",
       "      <td>30720</td>\n",
       "      <td>3000</td>\n",
       "      <td>1950</td>\n",
       "      <td>150</td>\n",
       "      <td>1</td>\n",
       "      <td>1</td>\n",
       "    </tr>\n",
       "    <tr>\n",
       "      <th>1</th>\n",
       "      <td>1000</td>\n",
       "      <td>6.0</td>\n",
       "      <td>172.0</td>\n",
       "      <td>43.0</td>\n",
       "      <td>60.0</td>\n",
       "      <td>23233.77</td>\n",
       "      <td>52</td>\n",
       "      <td>NaT</td>\n",
       "      <td>Краснодар</td>\n",
       "      <td>Рафаил</td>\n",
       "      <td>Верещагин</td>\n",
       "      <td>2018-05-25</td>\n",
       "      <td>ultra</td>\n",
       "      <td>5</td>\n",
       "      <td>2018</td>\n",
       "      <td>1000</td>\n",
       "      <td>30720</td>\n",
       "      <td>3000</td>\n",
       "      <td>1950</td>\n",
       "      <td>150</td>\n",
       "      <td>1</td>\n",
       "      <td>1</td>\n",
       "    </tr>\n",
       "    <tr>\n",
       "      <th>2</th>\n",
       "      <td>1000</td>\n",
       "      <td>7.0</td>\n",
       "      <td>340.0</td>\n",
       "      <td>47.0</td>\n",
       "      <td>75.0</td>\n",
       "      <td>14003.64</td>\n",
       "      <td>52</td>\n",
       "      <td>NaT</td>\n",
       "      <td>Краснодар</td>\n",
       "      <td>Рафаил</td>\n",
       "      <td>Верещагин</td>\n",
       "      <td>2018-05-25</td>\n",
       "      <td>ultra</td>\n",
       "      <td>5</td>\n",
       "      <td>2018</td>\n",
       "      <td>1000</td>\n",
       "      <td>30720</td>\n",
       "      <td>3000</td>\n",
       "      <td>1950</td>\n",
       "      <td>150</td>\n",
       "      <td>1</td>\n",
       "      <td>1</td>\n",
       "    </tr>\n",
       "    <tr>\n",
       "      <th>3</th>\n",
       "      <td>1000</td>\n",
       "      <td>8.0</td>\n",
       "      <td>408.0</td>\n",
       "      <td>52.0</td>\n",
       "      <td>81.0</td>\n",
       "      <td>14055.93</td>\n",
       "      <td>52</td>\n",
       "      <td>NaT</td>\n",
       "      <td>Краснодар</td>\n",
       "      <td>Рафаил</td>\n",
       "      <td>Верещагин</td>\n",
       "      <td>2018-05-25</td>\n",
       "      <td>ultra</td>\n",
       "      <td>5</td>\n",
       "      <td>2018</td>\n",
       "      <td>1000</td>\n",
       "      <td>30720</td>\n",
       "      <td>3000</td>\n",
       "      <td>1950</td>\n",
       "      <td>150</td>\n",
       "      <td>1</td>\n",
       "      <td>1</td>\n",
       "    </tr>\n",
       "    <tr>\n",
       "      <th>4</th>\n",
       "      <td>1000</td>\n",
       "      <td>9.0</td>\n",
       "      <td>466.0</td>\n",
       "      <td>58.0</td>\n",
       "      <td>57.0</td>\n",
       "      <td>14568.91</td>\n",
       "      <td>52</td>\n",
       "      <td>NaT</td>\n",
       "      <td>Краснодар</td>\n",
       "      <td>Рафаил</td>\n",
       "      <td>Верещагин</td>\n",
       "      <td>2018-05-25</td>\n",
       "      <td>ultra</td>\n",
       "      <td>5</td>\n",
       "      <td>2018</td>\n",
       "      <td>1000</td>\n",
       "      <td>30720</td>\n",
       "      <td>3000</td>\n",
       "      <td>1950</td>\n",
       "      <td>150</td>\n",
       "      <td>1</td>\n",
       "      <td>1</td>\n",
       "    </tr>\n",
       "    <tr>\n",
       "      <th>...</th>\n",
       "      <td>...</td>\n",
       "      <td>...</td>\n",
       "      <td>...</td>\n",
       "      <td>...</td>\n",
       "      <td>...</td>\n",
       "      <td>...</td>\n",
       "      <td>...</td>\n",
       "      <td>...</td>\n",
       "      <td>...</td>\n",
       "      <td>...</td>\n",
       "      <td>...</td>\n",
       "      <td>...</td>\n",
       "      <td>...</td>\n",
       "      <td>...</td>\n",
       "      <td>...</td>\n",
       "      <td>...</td>\n",
       "      <td>...</td>\n",
       "      <td>...</td>\n",
       "      <td>...</td>\n",
       "      <td>...</td>\n",
       "      <td>...</td>\n",
       "      <td>...</td>\n",
       "    </tr>\n",
       "    <tr>\n",
       "      <th>3211</th>\n",
       "      <td>1489</td>\n",
       "      <td>9.0</td>\n",
       "      <td>NaN</td>\n",
       "      <td>NaN</td>\n",
       "      <td>32.0</td>\n",
       "      <td>17206.30</td>\n",
       "      <td>35</td>\n",
       "      <td>NaT</td>\n",
       "      <td>Санкт-Петербург</td>\n",
       "      <td>Павел</td>\n",
       "      <td>Гончаров</td>\n",
       "      <td>2018-08-15</td>\n",
       "      <td>smart</td>\n",
       "      <td>8</td>\n",
       "      <td>2018</td>\n",
       "      <td>50</td>\n",
       "      <td>15360</td>\n",
       "      <td>500</td>\n",
       "      <td>550</td>\n",
       "      <td>200</td>\n",
       "      <td>3</td>\n",
       "      <td>3</td>\n",
       "    </tr>\n",
       "    <tr>\n",
       "      <th>3212</th>\n",
       "      <td>1489</td>\n",
       "      <td>10.0</td>\n",
       "      <td>NaN</td>\n",
       "      <td>NaN</td>\n",
       "      <td>21.0</td>\n",
       "      <td>19559.44</td>\n",
       "      <td>35</td>\n",
       "      <td>NaT</td>\n",
       "      <td>Санкт-Петербург</td>\n",
       "      <td>Павел</td>\n",
       "      <td>Гончаров</td>\n",
       "      <td>2018-08-15</td>\n",
       "      <td>smart</td>\n",
       "      <td>8</td>\n",
       "      <td>2018</td>\n",
       "      <td>50</td>\n",
       "      <td>15360</td>\n",
       "      <td>500</td>\n",
       "      <td>550</td>\n",
       "      <td>200</td>\n",
       "      <td>3</td>\n",
       "      <td>3</td>\n",
       "    </tr>\n",
       "    <tr>\n",
       "      <th>3213</th>\n",
       "      <td>1489</td>\n",
       "      <td>11.0</td>\n",
       "      <td>NaN</td>\n",
       "      <td>NaN</td>\n",
       "      <td>20.0</td>\n",
       "      <td>17491.56</td>\n",
       "      <td>35</td>\n",
       "      <td>NaT</td>\n",
       "      <td>Санкт-Петербург</td>\n",
       "      <td>Павел</td>\n",
       "      <td>Гончаров</td>\n",
       "      <td>2018-08-15</td>\n",
       "      <td>smart</td>\n",
       "      <td>8</td>\n",
       "      <td>2018</td>\n",
       "      <td>50</td>\n",
       "      <td>15360</td>\n",
       "      <td>500</td>\n",
       "      <td>550</td>\n",
       "      <td>200</td>\n",
       "      <td>3</td>\n",
       "      <td>3</td>\n",
       "    </tr>\n",
       "    <tr>\n",
       "      <th>3214</th>\n",
       "      <td>1489</td>\n",
       "      <td>12.0</td>\n",
       "      <td>NaN</td>\n",
       "      <td>NaN</td>\n",
       "      <td>35.0</td>\n",
       "      <td>17322.51</td>\n",
       "      <td>35</td>\n",
       "      <td>NaT</td>\n",
       "      <td>Санкт-Петербург</td>\n",
       "      <td>Павел</td>\n",
       "      <td>Гончаров</td>\n",
       "      <td>2018-08-15</td>\n",
       "      <td>smart</td>\n",
       "      <td>8</td>\n",
       "      <td>2018</td>\n",
       "      <td>50</td>\n",
       "      <td>15360</td>\n",
       "      <td>500</td>\n",
       "      <td>550</td>\n",
       "      <td>200</td>\n",
       "      <td>3</td>\n",
       "      <td>3</td>\n",
       "    </tr>\n",
       "    <tr>\n",
       "      <th>3215</th>\n",
       "      <td>1371</td>\n",
       "      <td>NaN</td>\n",
       "      <td>NaN</td>\n",
       "      <td>NaN</td>\n",
       "      <td>NaN</td>\n",
       "      <td>NaN</td>\n",
       "      <td>50</td>\n",
       "      <td>2018-12-30</td>\n",
       "      <td>Омск</td>\n",
       "      <td>Ириней</td>\n",
       "      <td>Трофимов</td>\n",
       "      <td>2018-12-25</td>\n",
       "      <td>smart</td>\n",
       "      <td>12</td>\n",
       "      <td>2018</td>\n",
       "      <td>50</td>\n",
       "      <td>15360</td>\n",
       "      <td>500</td>\n",
       "      <td>550</td>\n",
       "      <td>200</td>\n",
       "      <td>3</td>\n",
       "      <td>3</td>\n",
       "    </tr>\n",
       "  </tbody>\n",
       "</table>\n",
       "<p>3216 rows × 22 columns</p>\n",
       "</div>"
      ],
      "text/plain": [
       "      user_id  month  sum_calls  count_calls  count_mess  sum_trafic  age  \\\n",
       "0        1000    5.0      159.0         22.0        22.0     2253.49   52   \n",
       "1        1000    6.0      172.0         43.0        60.0    23233.77   52   \n",
       "2        1000    7.0      340.0         47.0        75.0    14003.64   52   \n",
       "3        1000    8.0      408.0         52.0        81.0    14055.93   52   \n",
       "4        1000    9.0      466.0         58.0        57.0    14568.91   52   \n",
       "...       ...    ...        ...          ...         ...         ...  ...   \n",
       "3211     1489    9.0        NaN          NaN        32.0    17206.30   35   \n",
       "3212     1489   10.0        NaN          NaN        21.0    19559.44   35   \n",
       "3213     1489   11.0        NaN          NaN        20.0    17491.56   35   \n",
       "3214     1489   12.0        NaN          NaN        35.0    17322.51   35   \n",
       "3215     1371    NaN        NaN          NaN         NaN         NaN   50   \n",
       "\n",
       "     churn_date             city first_name  last_name   reg_date tariff  \\\n",
       "0           NaT        Краснодар     Рафаил  Верещагин 2018-05-25  ultra   \n",
       "1           NaT        Краснодар     Рафаил  Верещагин 2018-05-25  ultra   \n",
       "2           NaT        Краснодар     Рафаил  Верещагин 2018-05-25  ultra   \n",
       "3           NaT        Краснодар     Рафаил  Верещагин 2018-05-25  ultra   \n",
       "4           NaT        Краснодар     Рафаил  Верещагин 2018-05-25  ultra   \n",
       "...         ...              ...        ...        ...        ...    ...   \n",
       "3211        NaT  Санкт-Петербург      Павел   Гончаров 2018-08-15  smart   \n",
       "3212        NaT  Санкт-Петербург      Павел   Гончаров 2018-08-15  smart   \n",
       "3213        NaT  Санкт-Петербург      Павел   Гончаров 2018-08-15  smart   \n",
       "3214        NaT  Санкт-Петербург      Павел   Гончаров 2018-08-15  smart   \n",
       "3215 2018-12-30             Омск     Ириней   Трофимов 2018-12-25  smart   \n",
       "\n",
       "      reg_month  reg_year  messages_included  mb_per_month_included  \\\n",
       "0             5      2018               1000                  30720   \n",
       "1             5      2018               1000                  30720   \n",
       "2             5      2018               1000                  30720   \n",
       "3             5      2018               1000                  30720   \n",
       "4             5      2018               1000                  30720   \n",
       "...         ...       ...                ...                    ...   \n",
       "3211          8      2018                 50                  15360   \n",
       "3212          8      2018                 50                  15360   \n",
       "3213          8      2018                 50                  15360   \n",
       "3214          8      2018                 50                  15360   \n",
       "3215         12      2018                 50                  15360   \n",
       "\n",
       "      minutes_included  rub_monthly_fee  rub_per_gb  rub_per_message  \\\n",
       "0                 3000             1950         150                1   \n",
       "1                 3000             1950         150                1   \n",
       "2                 3000             1950         150                1   \n",
       "3                 3000             1950         150                1   \n",
       "4                 3000             1950         150                1   \n",
       "...                ...              ...         ...              ...   \n",
       "3211               500              550         200                3   \n",
       "3212               500              550         200                3   \n",
       "3213               500              550         200                3   \n",
       "3214               500              550         200                3   \n",
       "3215               500              550         200                3   \n",
       "\n",
       "      rub_per_minute  \n",
       "0                  1  \n",
       "1                  1  \n",
       "2                  1  \n",
       "3                  1  \n",
       "4                  1  \n",
       "...              ...  \n",
       "3211               3  \n",
       "3212               3  \n",
       "3213               3  \n",
       "3214               3  \n",
       "3215               3  \n",
       "\n",
       "[3216 rows x 22 columns]"
      ]
     },
     "execution_count": 26,
     "metadata": {},
     "output_type": "execute_result"
    }
   ],
   "source": [
    "df_mobil = df_mobil.merge(tariffs, how='outer', on='tariff')\n",
    "\n",
    "df_mobil"
   ]
  },
  {
   "cell_type": "code",
   "execution_count": 27,
   "metadata": {
    "scrolled": true
   },
   "outputs": [
    {
     "name": "stdout",
     "output_type": "stream",
     "text": [
      "<class 'pandas.core.frame.DataFrame'>\n",
      "Int64Index: 3216 entries, 0 to 3215\n",
      "Data columns (total 22 columns):\n",
      " #   Column                 Non-Null Count  Dtype         \n",
      "---  ------                 --------------  -----         \n",
      " 0   user_id                3216 non-null   int64         \n",
      " 1   month                  3214 non-null   float64       \n",
      " 2   sum_calls              3174 non-null   float64       \n",
      " 3   count_calls            3174 non-null   float64       \n",
      " 4   count_mess             2717 non-null   float64       \n",
      " 5   sum_trafic             3203 non-null   float64       \n",
      " 6   age                    3216 non-null   int64         \n",
      " 7   churn_date             189 non-null    datetime64[ns]\n",
      " 8   city                   3216 non-null   object        \n",
      " 9   first_name             3216 non-null   object        \n",
      " 10  last_name              3216 non-null   object        \n",
      " 11  reg_date               3216 non-null   datetime64[ns]\n",
      " 12  tariff                 3216 non-null   object        \n",
      " 13  reg_month              3216 non-null   int64         \n",
      " 14  reg_year               3216 non-null   int64         \n",
      " 15  messages_included      3216 non-null   int64         \n",
      " 16  mb_per_month_included  3216 non-null   int64         \n",
      " 17  minutes_included       3216 non-null   int64         \n",
      " 18  rub_monthly_fee        3216 non-null   int64         \n",
      " 19  rub_per_gb             3216 non-null   int64         \n",
      " 20  rub_per_message        3216 non-null   int64         \n",
      " 21  rub_per_minute         3216 non-null   int64         \n",
      "dtypes: datetime64[ns](2), float64(5), int64(11), object(4)\n",
      "memory usage: 577.9+ KB\n"
     ]
    }
   ],
   "source": [
    "df_mobil.info()"
   ]
  },
  {
   "cell_type": "markdown",
   "metadata": {},
   "source": [
    "Так как, согласно тарифным планам, стоимость взымается на Гб-ты, то переведу все столбцы с мегабайтами в гб, разведив их значения на 1024. Столбец с использованным трафиком округлю в большую сторону."
   ]
  },
  {
   "cell_type": "code",
   "execution_count": 28,
   "metadata": {},
   "outputs": [
    {
     "data": {
      "text/html": [
       "<div>\n",
       "<style scoped>\n",
       "    .dataframe tbody tr th:only-of-type {\n",
       "        vertical-align: middle;\n",
       "    }\n",
       "\n",
       "    .dataframe tbody tr th {\n",
       "        vertical-align: top;\n",
       "    }\n",
       "\n",
       "    .dataframe thead th {\n",
       "        text-align: right;\n",
       "    }\n",
       "</style>\n",
       "<table border=\"1\" class=\"dataframe\">\n",
       "  <thead>\n",
       "    <tr style=\"text-align: right;\">\n",
       "      <th></th>\n",
       "      <th>user_id</th>\n",
       "      <th>month</th>\n",
       "      <th>sum_calls</th>\n",
       "      <th>count_calls</th>\n",
       "      <th>count_mess</th>\n",
       "      <th>sum_trafic</th>\n",
       "      <th>age</th>\n",
       "      <th>churn_date</th>\n",
       "      <th>city</th>\n",
       "      <th>first_name</th>\n",
       "      <th>last_name</th>\n",
       "      <th>reg_date</th>\n",
       "      <th>tariff</th>\n",
       "      <th>reg_month</th>\n",
       "      <th>reg_year</th>\n",
       "      <th>messages_included</th>\n",
       "      <th>mb_per_month_included</th>\n",
       "      <th>minutes_included</th>\n",
       "      <th>rub_monthly_fee</th>\n",
       "      <th>rub_per_gb</th>\n",
       "      <th>rub_per_message</th>\n",
       "      <th>rub_per_minute</th>\n",
       "      <th>gb_per_month_included</th>\n",
       "    </tr>\n",
       "  </thead>\n",
       "  <tbody>\n",
       "    <tr>\n",
       "      <th>0</th>\n",
       "      <td>1000</td>\n",
       "      <td>5.0</td>\n",
       "      <td>159.0</td>\n",
       "      <td>22.0</td>\n",
       "      <td>22.0</td>\n",
       "      <td>3.0</td>\n",
       "      <td>52</td>\n",
       "      <td>NaT</td>\n",
       "      <td>Краснодар</td>\n",
       "      <td>Рафаил</td>\n",
       "      <td>Верещагин</td>\n",
       "      <td>2018-05-25</td>\n",
       "      <td>ultra</td>\n",
       "      <td>5</td>\n",
       "      <td>2018</td>\n",
       "      <td>1000</td>\n",
       "      <td>30720</td>\n",
       "      <td>3000</td>\n",
       "      <td>1950</td>\n",
       "      <td>150</td>\n",
       "      <td>1</td>\n",
       "      <td>1</td>\n",
       "      <td>30.0</td>\n",
       "    </tr>\n",
       "    <tr>\n",
       "      <th>1</th>\n",
       "      <td>1000</td>\n",
       "      <td>6.0</td>\n",
       "      <td>172.0</td>\n",
       "      <td>43.0</td>\n",
       "      <td>60.0</td>\n",
       "      <td>23.0</td>\n",
       "      <td>52</td>\n",
       "      <td>NaT</td>\n",
       "      <td>Краснодар</td>\n",
       "      <td>Рафаил</td>\n",
       "      <td>Верещагин</td>\n",
       "      <td>2018-05-25</td>\n",
       "      <td>ultra</td>\n",
       "      <td>5</td>\n",
       "      <td>2018</td>\n",
       "      <td>1000</td>\n",
       "      <td>30720</td>\n",
       "      <td>3000</td>\n",
       "      <td>1950</td>\n",
       "      <td>150</td>\n",
       "      <td>1</td>\n",
       "      <td>1</td>\n",
       "      <td>30.0</td>\n",
       "    </tr>\n",
       "    <tr>\n",
       "      <th>2</th>\n",
       "      <td>1000</td>\n",
       "      <td>7.0</td>\n",
       "      <td>340.0</td>\n",
       "      <td>47.0</td>\n",
       "      <td>75.0</td>\n",
       "      <td>14.0</td>\n",
       "      <td>52</td>\n",
       "      <td>NaT</td>\n",
       "      <td>Краснодар</td>\n",
       "      <td>Рафаил</td>\n",
       "      <td>Верещагин</td>\n",
       "      <td>2018-05-25</td>\n",
       "      <td>ultra</td>\n",
       "      <td>5</td>\n",
       "      <td>2018</td>\n",
       "      <td>1000</td>\n",
       "      <td>30720</td>\n",
       "      <td>3000</td>\n",
       "      <td>1950</td>\n",
       "      <td>150</td>\n",
       "      <td>1</td>\n",
       "      <td>1</td>\n",
       "      <td>30.0</td>\n",
       "    </tr>\n",
       "    <tr>\n",
       "      <th>3</th>\n",
       "      <td>1000</td>\n",
       "      <td>8.0</td>\n",
       "      <td>408.0</td>\n",
       "      <td>52.0</td>\n",
       "      <td>81.0</td>\n",
       "      <td>14.0</td>\n",
       "      <td>52</td>\n",
       "      <td>NaT</td>\n",
       "      <td>Краснодар</td>\n",
       "      <td>Рафаил</td>\n",
       "      <td>Верещагин</td>\n",
       "      <td>2018-05-25</td>\n",
       "      <td>ultra</td>\n",
       "      <td>5</td>\n",
       "      <td>2018</td>\n",
       "      <td>1000</td>\n",
       "      <td>30720</td>\n",
       "      <td>3000</td>\n",
       "      <td>1950</td>\n",
       "      <td>150</td>\n",
       "      <td>1</td>\n",
       "      <td>1</td>\n",
       "      <td>30.0</td>\n",
       "    </tr>\n",
       "    <tr>\n",
       "      <th>4</th>\n",
       "      <td>1000</td>\n",
       "      <td>9.0</td>\n",
       "      <td>466.0</td>\n",
       "      <td>58.0</td>\n",
       "      <td>57.0</td>\n",
       "      <td>15.0</td>\n",
       "      <td>52</td>\n",
       "      <td>NaT</td>\n",
       "      <td>Краснодар</td>\n",
       "      <td>Рафаил</td>\n",
       "      <td>Верещагин</td>\n",
       "      <td>2018-05-25</td>\n",
       "      <td>ultra</td>\n",
       "      <td>5</td>\n",
       "      <td>2018</td>\n",
       "      <td>1000</td>\n",
       "      <td>30720</td>\n",
       "      <td>3000</td>\n",
       "      <td>1950</td>\n",
       "      <td>150</td>\n",
       "      <td>1</td>\n",
       "      <td>1</td>\n",
       "      <td>30.0</td>\n",
       "    </tr>\n",
       "  </tbody>\n",
       "</table>\n",
       "</div>"
      ],
      "text/plain": [
       "   user_id  month  sum_calls  count_calls  count_mess  sum_trafic  age  \\\n",
       "0     1000    5.0      159.0         22.0        22.0         3.0   52   \n",
       "1     1000    6.0      172.0         43.0        60.0        23.0   52   \n",
       "2     1000    7.0      340.0         47.0        75.0        14.0   52   \n",
       "3     1000    8.0      408.0         52.0        81.0        14.0   52   \n",
       "4     1000    9.0      466.0         58.0        57.0        15.0   52   \n",
       "\n",
       "  churn_date       city first_name  last_name   reg_date tariff  reg_month  \\\n",
       "0        NaT  Краснодар     Рафаил  Верещагин 2018-05-25  ultra          5   \n",
       "1        NaT  Краснодар     Рафаил  Верещагин 2018-05-25  ultra          5   \n",
       "2        NaT  Краснодар     Рафаил  Верещагин 2018-05-25  ultra          5   \n",
       "3        NaT  Краснодар     Рафаил  Верещагин 2018-05-25  ultra          5   \n",
       "4        NaT  Краснодар     Рафаил  Верещагин 2018-05-25  ultra          5   \n",
       "\n",
       "   reg_year  messages_included  mb_per_month_included  minutes_included  \\\n",
       "0      2018               1000                  30720              3000   \n",
       "1      2018               1000                  30720              3000   \n",
       "2      2018               1000                  30720              3000   \n",
       "3      2018               1000                  30720              3000   \n",
       "4      2018               1000                  30720              3000   \n",
       "\n",
       "   rub_monthly_fee  rub_per_gb  rub_per_message  rub_per_minute  \\\n",
       "0             1950         150                1               1   \n",
       "1             1950         150                1               1   \n",
       "2             1950         150                1               1   \n",
       "3             1950         150                1               1   \n",
       "4             1950         150                1               1   \n",
       "\n",
       "   gb_per_month_included  \n",
       "0                   30.0  \n",
       "1                   30.0  \n",
       "2                   30.0  \n",
       "3                   30.0  \n",
       "4                   30.0  "
      ]
     },
     "execution_count": 28,
     "metadata": {},
     "output_type": "execute_result"
    }
   ],
   "source": [
    "df_mobil['gb_per_month_included'] = df_mobil['mb_per_month_included'] / 1024\n",
    "df_mobil['sum_trafic'] = np.ceil(df_mobil['sum_trafic'] / 1024)\n",
    "\n",
    "df_mobil.head()"
   ]
  },
  {
   "cell_type": "code",
   "execution_count": 29,
   "metadata": {},
   "outputs": [
    {
     "data": {
      "text/html": [
       "<div>\n",
       "<style scoped>\n",
       "    .dataframe tbody tr th:only-of-type {\n",
       "        vertical-align: middle;\n",
       "    }\n",
       "\n",
       "    .dataframe tbody tr th {\n",
       "        vertical-align: top;\n",
       "    }\n",
       "\n",
       "    .dataframe thead th {\n",
       "        text-align: right;\n",
       "    }\n",
       "</style>\n",
       "<table border=\"1\" class=\"dataframe\">\n",
       "  <thead>\n",
       "    <tr style=\"text-align: right;\">\n",
       "      <th></th>\n",
       "      <th>user_id</th>\n",
       "      <th>month</th>\n",
       "      <th>sum_calls</th>\n",
       "      <th>count_calls</th>\n",
       "      <th>count_mess</th>\n",
       "      <th>sum_trafic</th>\n",
       "      <th>age</th>\n",
       "      <th>churn_date</th>\n",
       "      <th>city</th>\n",
       "      <th>first_name</th>\n",
       "      <th>last_name</th>\n",
       "      <th>reg_date</th>\n",
       "      <th>tariff</th>\n",
       "      <th>reg_month</th>\n",
       "      <th>reg_year</th>\n",
       "      <th>messages_included</th>\n",
       "      <th>minutes_included</th>\n",
       "      <th>rub_monthly_fee</th>\n",
       "      <th>rub_per_gb</th>\n",
       "      <th>rub_per_message</th>\n",
       "      <th>rub_per_minute</th>\n",
       "      <th>gb_per_month_included</th>\n",
       "    </tr>\n",
       "  </thead>\n",
       "  <tbody>\n",
       "    <tr>\n",
       "      <th>0</th>\n",
       "      <td>1000</td>\n",
       "      <td>5.0</td>\n",
       "      <td>159.0</td>\n",
       "      <td>22.0</td>\n",
       "      <td>22.0</td>\n",
       "      <td>3.0</td>\n",
       "      <td>52</td>\n",
       "      <td>NaT</td>\n",
       "      <td>Краснодар</td>\n",
       "      <td>Рафаил</td>\n",
       "      <td>Верещагин</td>\n",
       "      <td>2018-05-25</td>\n",
       "      <td>ultra</td>\n",
       "      <td>5</td>\n",
       "      <td>2018</td>\n",
       "      <td>1000</td>\n",
       "      <td>3000</td>\n",
       "      <td>1950</td>\n",
       "      <td>150</td>\n",
       "      <td>1</td>\n",
       "      <td>1</td>\n",
       "      <td>30.0</td>\n",
       "    </tr>\n",
       "    <tr>\n",
       "      <th>1</th>\n",
       "      <td>1000</td>\n",
       "      <td>6.0</td>\n",
       "      <td>172.0</td>\n",
       "      <td>43.0</td>\n",
       "      <td>60.0</td>\n",
       "      <td>23.0</td>\n",
       "      <td>52</td>\n",
       "      <td>NaT</td>\n",
       "      <td>Краснодар</td>\n",
       "      <td>Рафаил</td>\n",
       "      <td>Верещагин</td>\n",
       "      <td>2018-05-25</td>\n",
       "      <td>ultra</td>\n",
       "      <td>5</td>\n",
       "      <td>2018</td>\n",
       "      <td>1000</td>\n",
       "      <td>3000</td>\n",
       "      <td>1950</td>\n",
       "      <td>150</td>\n",
       "      <td>1</td>\n",
       "      <td>1</td>\n",
       "      <td>30.0</td>\n",
       "    </tr>\n",
       "    <tr>\n",
       "      <th>2</th>\n",
       "      <td>1000</td>\n",
       "      <td>7.0</td>\n",
       "      <td>340.0</td>\n",
       "      <td>47.0</td>\n",
       "      <td>75.0</td>\n",
       "      <td>14.0</td>\n",
       "      <td>52</td>\n",
       "      <td>NaT</td>\n",
       "      <td>Краснодар</td>\n",
       "      <td>Рафаил</td>\n",
       "      <td>Верещагин</td>\n",
       "      <td>2018-05-25</td>\n",
       "      <td>ultra</td>\n",
       "      <td>5</td>\n",
       "      <td>2018</td>\n",
       "      <td>1000</td>\n",
       "      <td>3000</td>\n",
       "      <td>1950</td>\n",
       "      <td>150</td>\n",
       "      <td>1</td>\n",
       "      <td>1</td>\n",
       "      <td>30.0</td>\n",
       "    </tr>\n",
       "    <tr>\n",
       "      <th>3</th>\n",
       "      <td>1000</td>\n",
       "      <td>8.0</td>\n",
       "      <td>408.0</td>\n",
       "      <td>52.0</td>\n",
       "      <td>81.0</td>\n",
       "      <td>14.0</td>\n",
       "      <td>52</td>\n",
       "      <td>NaT</td>\n",
       "      <td>Краснодар</td>\n",
       "      <td>Рафаил</td>\n",
       "      <td>Верещагин</td>\n",
       "      <td>2018-05-25</td>\n",
       "      <td>ultra</td>\n",
       "      <td>5</td>\n",
       "      <td>2018</td>\n",
       "      <td>1000</td>\n",
       "      <td>3000</td>\n",
       "      <td>1950</td>\n",
       "      <td>150</td>\n",
       "      <td>1</td>\n",
       "      <td>1</td>\n",
       "      <td>30.0</td>\n",
       "    </tr>\n",
       "    <tr>\n",
       "      <th>4</th>\n",
       "      <td>1000</td>\n",
       "      <td>9.0</td>\n",
       "      <td>466.0</td>\n",
       "      <td>58.0</td>\n",
       "      <td>57.0</td>\n",
       "      <td>15.0</td>\n",
       "      <td>52</td>\n",
       "      <td>NaT</td>\n",
       "      <td>Краснодар</td>\n",
       "      <td>Рафаил</td>\n",
       "      <td>Верещагин</td>\n",
       "      <td>2018-05-25</td>\n",
       "      <td>ultra</td>\n",
       "      <td>5</td>\n",
       "      <td>2018</td>\n",
       "      <td>1000</td>\n",
       "      <td>3000</td>\n",
       "      <td>1950</td>\n",
       "      <td>150</td>\n",
       "      <td>1</td>\n",
       "      <td>1</td>\n",
       "      <td>30.0</td>\n",
       "    </tr>\n",
       "  </tbody>\n",
       "</table>\n",
       "</div>"
      ],
      "text/plain": [
       "   user_id  month  sum_calls  count_calls  count_mess  sum_trafic  age  \\\n",
       "0     1000    5.0      159.0         22.0        22.0         3.0   52   \n",
       "1     1000    6.0      172.0         43.0        60.0        23.0   52   \n",
       "2     1000    7.0      340.0         47.0        75.0        14.0   52   \n",
       "3     1000    8.0      408.0         52.0        81.0        14.0   52   \n",
       "4     1000    9.0      466.0         58.0        57.0        15.0   52   \n",
       "\n",
       "  churn_date       city first_name  last_name   reg_date tariff  reg_month  \\\n",
       "0        NaT  Краснодар     Рафаил  Верещагин 2018-05-25  ultra          5   \n",
       "1        NaT  Краснодар     Рафаил  Верещагин 2018-05-25  ultra          5   \n",
       "2        NaT  Краснодар     Рафаил  Верещагин 2018-05-25  ultra          5   \n",
       "3        NaT  Краснодар     Рафаил  Верещагин 2018-05-25  ultra          5   \n",
       "4        NaT  Краснодар     Рафаил  Верещагин 2018-05-25  ultra          5   \n",
       "\n",
       "   reg_year  messages_included  minutes_included  rub_monthly_fee  rub_per_gb  \\\n",
       "0      2018               1000              3000             1950         150   \n",
       "1      2018               1000              3000             1950         150   \n",
       "2      2018               1000              3000             1950         150   \n",
       "3      2018               1000              3000             1950         150   \n",
       "4      2018               1000              3000             1950         150   \n",
       "\n",
       "   rub_per_message  rub_per_minute  gb_per_month_included  \n",
       "0                1               1                   30.0  \n",
       "1                1               1                   30.0  \n",
       "2                1               1                   30.0  \n",
       "3                1               1                   30.0  \n",
       "4                1               1                   30.0  "
      ]
     },
     "execution_count": 29,
     "metadata": {},
     "output_type": "execute_result"
    }
   ],
   "source": [
    "df_mobil = df_mobil.drop(['mb_per_month_included'], axis = 1)\n",
    "df_mobil.head()"
   ]
  },
  {
   "cell_type": "markdown",
   "metadata": {},
   "source": [
    "Познакомнюсь с получившимся сфодным датафреймом, в том числе с точки зрения проверки пропусков.\n"
   ]
  },
  {
   "cell_type": "code",
   "execution_count": 31,
   "metadata": {},
   "outputs": [
    {
     "data": {
      "text/plain": [
       "user_id                     0\n",
       "month                       2\n",
       "sum_calls                  42\n",
       "count_calls                42\n",
       "count_mess                499\n",
       "sum_trafic                 13\n",
       "age                         0\n",
       "churn_date               3027\n",
       "city                        0\n",
       "first_name                  0\n",
       "last_name                   0\n",
       "reg_date                    0\n",
       "tariff                      0\n",
       "reg_month                   0\n",
       "reg_year                    0\n",
       "messages_included           0\n",
       "minutes_included            0\n",
       "rub_monthly_fee             0\n",
       "rub_per_gb                  0\n",
       "rub_per_message             0\n",
       "rub_per_minute              0\n",
       "gb_per_month_included       0\n",
       "dtype: int64"
      ]
     },
     "execution_count": 31,
     "metadata": {},
     "output_type": "execute_result"
    }
   ],
   "source": [
    "df_mobil.isna().sum()"
   ]
  },
  {
   "cell_type": "markdown",
   "metadata": {},
   "source": [
    "В датафрейме есть пропущенные значения,которые можно объяснить следующим образом:\n",
    "- sum_calls и count_calls - пользователи не пользовались услугами голосового вызова\n",
    "- count_mess - пользователи не отправляли сообщения\n",
    "- sum_trafic - пользователи не пользовались интернетом\n",
    "- churn_date - пользователи не заканчивали пользоваться тарифом.\n",
    "\n",
    "Так как данными услугами не пользовались, чтобы предотвратить ошибки при расчетах, заполню пропуски в столбцах с информацией о минутах, смс и интернет-трафике 0 (услугой не пользовались)."
   ]
  },
  {
   "cell_type": "code",
   "execution_count": 32,
   "metadata": {},
   "outputs": [
    {
     "data": {
      "text/plain": [
       "user_id                     0\n",
       "month                       2\n",
       "sum_calls                   0\n",
       "count_calls                 0\n",
       "count_mess                  0\n",
       "sum_trafic                  0\n",
       "age                         0\n",
       "churn_date               3027\n",
       "city                        0\n",
       "first_name                  0\n",
       "last_name                   0\n",
       "reg_date                    0\n",
       "tariff                      0\n",
       "reg_month                   0\n",
       "reg_year                    0\n",
       "messages_included           0\n",
       "minutes_included            0\n",
       "rub_monthly_fee             0\n",
       "rub_per_gb                  0\n",
       "rub_per_message             0\n",
       "rub_per_minute              0\n",
       "gb_per_month_included       0\n",
       "dtype: int64"
      ]
     },
     "execution_count": 32,
     "metadata": {},
     "output_type": "execute_result"
    }
   ],
   "source": [
    "df_mobil = df_mobil.fillna({'sum_calls': 0, 'count_calls': 0, 'count_mess': 0, 'sum_trafic': 0})\n",
    "df_mobil.isna().sum()"
   ]
  },
  {
   "cell_type": "code",
   "execution_count": 33,
   "metadata": {},
   "outputs": [
    {
     "name": "stdout",
     "output_type": "stream",
     "text": [
      "<class 'pandas.core.frame.DataFrame'>\n",
      "Int64Index: 3216 entries, 0 to 3215\n",
      "Data columns (total 22 columns):\n",
      " #   Column                 Non-Null Count  Dtype         \n",
      "---  ------                 --------------  -----         \n",
      " 0   user_id                3216 non-null   int64         \n",
      " 1   month                  3214 non-null   float64       \n",
      " 2   sum_calls              3216 non-null   float64       \n",
      " 3   count_calls            3216 non-null   float64       \n",
      " 4   count_mess             3216 non-null   float64       \n",
      " 5   sum_trafic             3216 non-null   float64       \n",
      " 6   age                    3216 non-null   int64         \n",
      " 7   churn_date             189 non-null    datetime64[ns]\n",
      " 8   city                   3216 non-null   object        \n",
      " 9   first_name             3216 non-null   object        \n",
      " 10  last_name              3216 non-null   object        \n",
      " 11  reg_date               3216 non-null   datetime64[ns]\n",
      " 12  tariff                 3216 non-null   object        \n",
      " 13  reg_month              3216 non-null   int64         \n",
      " 14  reg_year               3216 non-null   int64         \n",
      " 15  messages_included      3216 non-null   int64         \n",
      " 16  minutes_included       3216 non-null   int64         \n",
      " 17  rub_monthly_fee        3216 non-null   int64         \n",
      " 18  rub_per_gb             3216 non-null   int64         \n",
      " 19  rub_per_message        3216 non-null   int64         \n",
      " 20  rub_per_minute         3216 non-null   int64         \n",
      " 21  gb_per_month_included  3216 non-null   float64       \n",
      "dtypes: datetime64[ns](2), float64(6), int64(10), object(4)\n",
      "memory usage: 577.9+ KB\n"
     ]
    }
   ],
   "source": [
    "df_mobil.info()"
   ]
  },
  {
   "cell_type": "markdown",
   "metadata": {},
   "source": [
    "Мне не нравится столбец месяцев пользования услугами, переведу его в целочисленый формат. В остальном, мне кажется, что все прекрасно)"
   ]
  },
  {
   "cell_type": "code",
   "execution_count": 34,
   "metadata": {},
   "outputs": [],
   "source": [
    "df_mobil['month'] = df_mobil['month'].astype('Int64')"
   ]
  },
  {
   "cell_type": "markdown",
   "metadata": {},
   "source": [
    "Выручку внесу отдельным столбцом, который будет формироваться по результату работы функции. Функция удовлетворяет условиям, описанным в задачах проекта."
   ]
  },
  {
   "cell_type": "code",
   "execution_count": 35,
   "metadata": {},
   "outputs": [],
   "source": [
    "def month_revenue(row):\n",
    "    \n",
    "    # создам переменные для дальнейших вычислений\n",
    "    total_calls = row['sum_calls']   # информация общем числе использованных минут звонка в месяц\n",
    "    total_massages = row['count_mess']   # информация об общем числе отправленых смс\n",
    "    total_internet =row['sum_trafic']   # информация о потраченном трафике в гб\n",
    "    fee = row['rub_monthly_fee'] # информация о размере абонентской платы\n",
    "    \n",
    "    calls_revenue = 0 # переменная для выполнения расчета выручки за звонки\n",
    "    massages_revenue = 0 # переменная для выполнения расчета выручки за смс\n",
    "    internet_revenue = 0 # переменная для выполнения расчета выручки за трафик\n",
    "    \n",
    "    calls = row['sum_calls'] - row['minutes_included'] # определяю число минут сверх нормы тарифа\n",
    "    if calls > 0:\n",
    "        calls_revenue = calls * row['rub_per_minute'] # определяю сумму за перерасход минут\n",
    "        \n",
    "    \n",
    "    massages = row['count_mess'] - row['messages_included'] # определяю сумму за перерасход, также как это было со звонками\n",
    "    if massages > 0:\n",
    "        massages_revenue = massages * row['rub_per_message']\n",
    "       \n",
    "    \n",
    "    internet = row['sum_trafic'] - row['gb_per_month_included'] # аналагично поступаю с интернетом\n",
    "    if internet > 0: \n",
    "        internet_revenue = internet * row['rub_per_gb']\n",
    "\n",
    "        \n",
    "    # определяем общую сложив суммы за перерасход с абонентской платой\n",
    "    # если перерасхода нет, то складываться будут только 0 и в итоге будет лишь сумма абонентской платы\n",
    "    total_revenue = fee + (calls_revenue + massages_revenue + internet_revenue)\n",
    "    \n",
    "    return total_revenue "
   ]
  },
  {
   "cell_type": "markdown",
   "metadata": {},
   "source": [
    "Применю функцию к исследуемому датафрейму, и добавлю возвращенные значения в создаваемый столбец."
   ]
  },
  {
   "cell_type": "code",
   "execution_count": 36,
   "metadata": {
    "scrolled": true
   },
   "outputs": [
    {
     "data": {
      "text/html": [
       "<div>\n",
       "<style scoped>\n",
       "    .dataframe tbody tr th:only-of-type {\n",
       "        vertical-align: middle;\n",
       "    }\n",
       "\n",
       "    .dataframe tbody tr th {\n",
       "        vertical-align: top;\n",
       "    }\n",
       "\n",
       "    .dataframe thead th {\n",
       "        text-align: right;\n",
       "    }\n",
       "</style>\n",
       "<table border=\"1\" class=\"dataframe\">\n",
       "  <thead>\n",
       "    <tr style=\"text-align: right;\">\n",
       "      <th></th>\n",
       "      <th>user_id</th>\n",
       "      <th>month</th>\n",
       "      <th>sum_calls</th>\n",
       "      <th>count_calls</th>\n",
       "      <th>count_mess</th>\n",
       "      <th>sum_trafic</th>\n",
       "      <th>age</th>\n",
       "      <th>churn_date</th>\n",
       "      <th>city</th>\n",
       "      <th>first_name</th>\n",
       "      <th>last_name</th>\n",
       "      <th>reg_date</th>\n",
       "      <th>tariff</th>\n",
       "      <th>reg_month</th>\n",
       "      <th>reg_year</th>\n",
       "      <th>messages_included</th>\n",
       "      <th>minutes_included</th>\n",
       "      <th>rub_monthly_fee</th>\n",
       "      <th>rub_per_gb</th>\n",
       "      <th>rub_per_message</th>\n",
       "      <th>rub_per_minute</th>\n",
       "      <th>gb_per_month_included</th>\n",
       "      <th>month_revenue</th>\n",
       "    </tr>\n",
       "  </thead>\n",
       "  <tbody>\n",
       "    <tr>\n",
       "      <th>0</th>\n",
       "      <td>1000</td>\n",
       "      <td>5</td>\n",
       "      <td>159.0</td>\n",
       "      <td>22.0</td>\n",
       "      <td>22.0</td>\n",
       "      <td>3.0</td>\n",
       "      <td>52</td>\n",
       "      <td>NaT</td>\n",
       "      <td>Краснодар</td>\n",
       "      <td>Рафаил</td>\n",
       "      <td>Верещагин</td>\n",
       "      <td>2018-05-25</td>\n",
       "      <td>ultra</td>\n",
       "      <td>5</td>\n",
       "      <td>2018</td>\n",
       "      <td>1000</td>\n",
       "      <td>3000</td>\n",
       "      <td>1950</td>\n",
       "      <td>150</td>\n",
       "      <td>1</td>\n",
       "      <td>1</td>\n",
       "      <td>30.0</td>\n",
       "      <td>1950.0</td>\n",
       "    </tr>\n",
       "    <tr>\n",
       "      <th>1</th>\n",
       "      <td>1000</td>\n",
       "      <td>6</td>\n",
       "      <td>172.0</td>\n",
       "      <td>43.0</td>\n",
       "      <td>60.0</td>\n",
       "      <td>23.0</td>\n",
       "      <td>52</td>\n",
       "      <td>NaT</td>\n",
       "      <td>Краснодар</td>\n",
       "      <td>Рафаил</td>\n",
       "      <td>Верещагин</td>\n",
       "      <td>2018-05-25</td>\n",
       "      <td>ultra</td>\n",
       "      <td>5</td>\n",
       "      <td>2018</td>\n",
       "      <td>1000</td>\n",
       "      <td>3000</td>\n",
       "      <td>1950</td>\n",
       "      <td>150</td>\n",
       "      <td>1</td>\n",
       "      <td>1</td>\n",
       "      <td>30.0</td>\n",
       "      <td>1950.0</td>\n",
       "    </tr>\n",
       "    <tr>\n",
       "      <th>2</th>\n",
       "      <td>1000</td>\n",
       "      <td>7</td>\n",
       "      <td>340.0</td>\n",
       "      <td>47.0</td>\n",
       "      <td>75.0</td>\n",
       "      <td>14.0</td>\n",
       "      <td>52</td>\n",
       "      <td>NaT</td>\n",
       "      <td>Краснодар</td>\n",
       "      <td>Рафаил</td>\n",
       "      <td>Верещагин</td>\n",
       "      <td>2018-05-25</td>\n",
       "      <td>ultra</td>\n",
       "      <td>5</td>\n",
       "      <td>2018</td>\n",
       "      <td>1000</td>\n",
       "      <td>3000</td>\n",
       "      <td>1950</td>\n",
       "      <td>150</td>\n",
       "      <td>1</td>\n",
       "      <td>1</td>\n",
       "      <td>30.0</td>\n",
       "      <td>1950.0</td>\n",
       "    </tr>\n",
       "    <tr>\n",
       "      <th>3</th>\n",
       "      <td>1000</td>\n",
       "      <td>8</td>\n",
       "      <td>408.0</td>\n",
       "      <td>52.0</td>\n",
       "      <td>81.0</td>\n",
       "      <td>14.0</td>\n",
       "      <td>52</td>\n",
       "      <td>NaT</td>\n",
       "      <td>Краснодар</td>\n",
       "      <td>Рафаил</td>\n",
       "      <td>Верещагин</td>\n",
       "      <td>2018-05-25</td>\n",
       "      <td>ultra</td>\n",
       "      <td>5</td>\n",
       "      <td>2018</td>\n",
       "      <td>1000</td>\n",
       "      <td>3000</td>\n",
       "      <td>1950</td>\n",
       "      <td>150</td>\n",
       "      <td>1</td>\n",
       "      <td>1</td>\n",
       "      <td>30.0</td>\n",
       "      <td>1950.0</td>\n",
       "    </tr>\n",
       "    <tr>\n",
       "      <th>4</th>\n",
       "      <td>1000</td>\n",
       "      <td>9</td>\n",
       "      <td>466.0</td>\n",
       "      <td>58.0</td>\n",
       "      <td>57.0</td>\n",
       "      <td>15.0</td>\n",
       "      <td>52</td>\n",
       "      <td>NaT</td>\n",
       "      <td>Краснодар</td>\n",
       "      <td>Рафаил</td>\n",
       "      <td>Верещагин</td>\n",
       "      <td>2018-05-25</td>\n",
       "      <td>ultra</td>\n",
       "      <td>5</td>\n",
       "      <td>2018</td>\n",
       "      <td>1000</td>\n",
       "      <td>3000</td>\n",
       "      <td>1950</td>\n",
       "      <td>150</td>\n",
       "      <td>1</td>\n",
       "      <td>1</td>\n",
       "      <td>30.0</td>\n",
       "      <td>1950.0</td>\n",
       "    </tr>\n",
       "    <tr>\n",
       "      <th>5</th>\n",
       "      <td>1000</td>\n",
       "      <td>10</td>\n",
       "      <td>350.0</td>\n",
       "      <td>57.0</td>\n",
       "      <td>73.0</td>\n",
       "      <td>15.0</td>\n",
       "      <td>52</td>\n",
       "      <td>NaT</td>\n",
       "      <td>Краснодар</td>\n",
       "      <td>Рафаил</td>\n",
       "      <td>Верещагин</td>\n",
       "      <td>2018-05-25</td>\n",
       "      <td>ultra</td>\n",
       "      <td>5</td>\n",
       "      <td>2018</td>\n",
       "      <td>1000</td>\n",
       "      <td>3000</td>\n",
       "      <td>1950</td>\n",
       "      <td>150</td>\n",
       "      <td>1</td>\n",
       "      <td>1</td>\n",
       "      <td>30.0</td>\n",
       "      <td>1950.0</td>\n",
       "    </tr>\n",
       "    <tr>\n",
       "      <th>6</th>\n",
       "      <td>1000</td>\n",
       "      <td>11</td>\n",
       "      <td>338.0</td>\n",
       "      <td>43.0</td>\n",
       "      <td>58.0</td>\n",
       "      <td>15.0</td>\n",
       "      <td>52</td>\n",
       "      <td>NaT</td>\n",
       "      <td>Краснодар</td>\n",
       "      <td>Рафаил</td>\n",
       "      <td>Верещагин</td>\n",
       "      <td>2018-05-25</td>\n",
       "      <td>ultra</td>\n",
       "      <td>5</td>\n",
       "      <td>2018</td>\n",
       "      <td>1000</td>\n",
       "      <td>3000</td>\n",
       "      <td>1950</td>\n",
       "      <td>150</td>\n",
       "      <td>1</td>\n",
       "      <td>1</td>\n",
       "      <td>30.0</td>\n",
       "      <td>1950.0</td>\n",
       "    </tr>\n",
       "    <tr>\n",
       "      <th>7</th>\n",
       "      <td>1000</td>\n",
       "      <td>12</td>\n",
       "      <td>333.0</td>\n",
       "      <td>46.0</td>\n",
       "      <td>70.0</td>\n",
       "      <td>10.0</td>\n",
       "      <td>52</td>\n",
       "      <td>NaT</td>\n",
       "      <td>Краснодар</td>\n",
       "      <td>Рафаил</td>\n",
       "      <td>Верещагин</td>\n",
       "      <td>2018-05-25</td>\n",
       "      <td>ultra</td>\n",
       "      <td>5</td>\n",
       "      <td>2018</td>\n",
       "      <td>1000</td>\n",
       "      <td>3000</td>\n",
       "      <td>1950</td>\n",
       "      <td>150</td>\n",
       "      <td>1</td>\n",
       "      <td>1</td>\n",
       "      <td>30.0</td>\n",
       "      <td>1950.0</td>\n",
       "    </tr>\n",
       "    <tr>\n",
       "      <th>8</th>\n",
       "      <td>1003</td>\n",
       "      <td>8</td>\n",
       "      <td>380.0</td>\n",
       "      <td>55.0</td>\n",
       "      <td>37.0</td>\n",
       "      <td>9.0</td>\n",
       "      <td>23</td>\n",
       "      <td>NaT</td>\n",
       "      <td>Москва</td>\n",
       "      <td>Белла</td>\n",
       "      <td>Белякова</td>\n",
       "      <td>2018-08-17</td>\n",
       "      <td>ultra</td>\n",
       "      <td>8</td>\n",
       "      <td>2018</td>\n",
       "      <td>1000</td>\n",
       "      <td>3000</td>\n",
       "      <td>1950</td>\n",
       "      <td>150</td>\n",
       "      <td>1</td>\n",
       "      <td>1</td>\n",
       "      <td>30.0</td>\n",
       "      <td>1950.0</td>\n",
       "    </tr>\n",
       "    <tr>\n",
       "      <th>9</th>\n",
       "      <td>1003</td>\n",
       "      <td>9</td>\n",
       "      <td>961.0</td>\n",
       "      <td>134.0</td>\n",
       "      <td>91.0</td>\n",
       "      <td>13.0</td>\n",
       "      <td>23</td>\n",
       "      <td>NaT</td>\n",
       "      <td>Москва</td>\n",
       "      <td>Белла</td>\n",
       "      <td>Белякова</td>\n",
       "      <td>2018-08-17</td>\n",
       "      <td>ultra</td>\n",
       "      <td>8</td>\n",
       "      <td>2018</td>\n",
       "      <td>1000</td>\n",
       "      <td>3000</td>\n",
       "      <td>1950</td>\n",
       "      <td>150</td>\n",
       "      <td>1</td>\n",
       "      <td>1</td>\n",
       "      <td>30.0</td>\n",
       "      <td>1950.0</td>\n",
       "    </tr>\n",
       "  </tbody>\n",
       "</table>\n",
       "</div>"
      ],
      "text/plain": [
       "   user_id  month  sum_calls  count_calls  count_mess  sum_trafic  age  \\\n",
       "0     1000      5      159.0         22.0        22.0         3.0   52   \n",
       "1     1000      6      172.0         43.0        60.0        23.0   52   \n",
       "2     1000      7      340.0         47.0        75.0        14.0   52   \n",
       "3     1000      8      408.0         52.0        81.0        14.0   52   \n",
       "4     1000      9      466.0         58.0        57.0        15.0   52   \n",
       "5     1000     10      350.0         57.0        73.0        15.0   52   \n",
       "6     1000     11      338.0         43.0        58.0        15.0   52   \n",
       "7     1000     12      333.0         46.0        70.0        10.0   52   \n",
       "8     1003      8      380.0         55.0        37.0         9.0   23   \n",
       "9     1003      9      961.0        134.0        91.0        13.0   23   \n",
       "\n",
       "  churn_date       city first_name  last_name   reg_date tariff  reg_month  \\\n",
       "0        NaT  Краснодар     Рафаил  Верещагин 2018-05-25  ultra          5   \n",
       "1        NaT  Краснодар     Рафаил  Верещагин 2018-05-25  ultra          5   \n",
       "2        NaT  Краснодар     Рафаил  Верещагин 2018-05-25  ultra          5   \n",
       "3        NaT  Краснодар     Рафаил  Верещагин 2018-05-25  ultra          5   \n",
       "4        NaT  Краснодар     Рафаил  Верещагин 2018-05-25  ultra          5   \n",
       "5        NaT  Краснодар     Рафаил  Верещагин 2018-05-25  ultra          5   \n",
       "6        NaT  Краснодар     Рафаил  Верещагин 2018-05-25  ultra          5   \n",
       "7        NaT  Краснодар     Рафаил  Верещагин 2018-05-25  ultra          5   \n",
       "8        NaT     Москва      Белла   Белякова 2018-08-17  ultra          8   \n",
       "9        NaT     Москва      Белла   Белякова 2018-08-17  ultra          8   \n",
       "\n",
       "   reg_year  messages_included  minutes_included  rub_monthly_fee  rub_per_gb  \\\n",
       "0      2018               1000              3000             1950         150   \n",
       "1      2018               1000              3000             1950         150   \n",
       "2      2018               1000              3000             1950         150   \n",
       "3      2018               1000              3000             1950         150   \n",
       "4      2018               1000              3000             1950         150   \n",
       "5      2018               1000              3000             1950         150   \n",
       "6      2018               1000              3000             1950         150   \n",
       "7      2018               1000              3000             1950         150   \n",
       "8      2018               1000              3000             1950         150   \n",
       "9      2018               1000              3000             1950         150   \n",
       "\n",
       "   rub_per_message  rub_per_minute  gb_per_month_included  month_revenue  \n",
       "0                1               1                   30.0         1950.0  \n",
       "1                1               1                   30.0         1950.0  \n",
       "2                1               1                   30.0         1950.0  \n",
       "3                1               1                   30.0         1950.0  \n",
       "4                1               1                   30.0         1950.0  \n",
       "5                1               1                   30.0         1950.0  \n",
       "6                1               1                   30.0         1950.0  \n",
       "7                1               1                   30.0         1950.0  \n",
       "8                1               1                   30.0         1950.0  \n",
       "9                1               1                   30.0         1950.0  "
      ]
     },
     "execution_count": 36,
     "metadata": {},
     "output_type": "execute_result"
    }
   ],
   "source": [
    "df_mobil['month_revenue'] = df_mobil.apply(month_revenue, axis=1)\n",
    "df_mobil.head(10)"
   ]
  },
  {
   "cell_type": "markdown",
   "metadata": {},
   "source": [
    "Вроде сработало, но проверю на как ведут строки с явным перерасходом."
   ]
  },
  {
   "cell_type": "code",
   "execution_count": 37,
   "metadata": {},
   "outputs": [
    {
     "data": {
      "text/html": [
       "<div>\n",
       "<style scoped>\n",
       "    .dataframe tbody tr th:only-of-type {\n",
       "        vertical-align: middle;\n",
       "    }\n",
       "\n",
       "    .dataframe tbody tr th {\n",
       "        vertical-align: top;\n",
       "    }\n",
       "\n",
       "    .dataframe thead th {\n",
       "        text-align: right;\n",
       "    }\n",
       "</style>\n",
       "<table border=\"1\" class=\"dataframe\">\n",
       "  <thead>\n",
       "    <tr style=\"text-align: right;\">\n",
       "      <th></th>\n",
       "      <th>user_id</th>\n",
       "      <th>month</th>\n",
       "      <th>sum_calls</th>\n",
       "      <th>count_calls</th>\n",
       "      <th>count_mess</th>\n",
       "      <th>sum_trafic</th>\n",
       "      <th>age</th>\n",
       "      <th>churn_date</th>\n",
       "      <th>city</th>\n",
       "      <th>first_name</th>\n",
       "      <th>last_name</th>\n",
       "      <th>reg_date</th>\n",
       "      <th>tariff</th>\n",
       "      <th>reg_month</th>\n",
       "      <th>reg_year</th>\n",
       "      <th>messages_included</th>\n",
       "      <th>minutes_included</th>\n",
       "      <th>rub_monthly_fee</th>\n",
       "      <th>rub_per_gb</th>\n",
       "      <th>rub_per_message</th>\n",
       "      <th>rub_per_minute</th>\n",
       "      <th>gb_per_month_included</th>\n",
       "      <th>month_revenue</th>\n",
       "    </tr>\n",
       "  </thead>\n",
       "  <tbody>\n",
       "    <tr>\n",
       "      <th>50</th>\n",
       "      <td>1024</td>\n",
       "      <td>11</td>\n",
       "      <td>1146.0</td>\n",
       "      <td>157.0</td>\n",
       "      <td>0.0</td>\n",
       "      <td>43.0</td>\n",
       "      <td>73</td>\n",
       "      <td>NaT</td>\n",
       "      <td>Санкт-Петербург</td>\n",
       "      <td>Иулиан</td>\n",
       "      <td>Антипов</td>\n",
       "      <td>2018-10-31</td>\n",
       "      <td>ultra</td>\n",
       "      <td>10</td>\n",
       "      <td>2018</td>\n",
       "      <td>1000</td>\n",
       "      <td>3000</td>\n",
       "      <td>1950</td>\n",
       "      <td>150</td>\n",
       "      <td>1</td>\n",
       "      <td>1</td>\n",
       "      <td>30.0</td>\n",
       "      <td>3900.0</td>\n",
       "    </tr>\n",
       "    <tr>\n",
       "      <th>51</th>\n",
       "      <td>1024</td>\n",
       "      <td>12</td>\n",
       "      <td>949.0</td>\n",
       "      <td>136.0</td>\n",
       "      <td>0.0</td>\n",
       "      <td>36.0</td>\n",
       "      <td>73</td>\n",
       "      <td>NaT</td>\n",
       "      <td>Санкт-Петербург</td>\n",
       "      <td>Иулиан</td>\n",
       "      <td>Антипов</td>\n",
       "      <td>2018-10-31</td>\n",
       "      <td>ultra</td>\n",
       "      <td>10</td>\n",
       "      <td>2018</td>\n",
       "      <td>1000</td>\n",
       "      <td>3000</td>\n",
       "      <td>1950</td>\n",
       "      <td>150</td>\n",
       "      <td>1</td>\n",
       "      <td>1</td>\n",
       "      <td>30.0</td>\n",
       "      <td>2850.0</td>\n",
       "    </tr>\n",
       "    <tr>\n",
       "      <th>78</th>\n",
       "      <td>1050</td>\n",
       "      <td>7</td>\n",
       "      <td>209.0</td>\n",
       "      <td>35.0</td>\n",
       "      <td>52.0</td>\n",
       "      <td>35.0</td>\n",
       "      <td>44</td>\n",
       "      <td>2018-10-03</td>\n",
       "      <td>Тюмень</td>\n",
       "      <td>Рузана</td>\n",
       "      <td>Аничкина</td>\n",
       "      <td>2018-06-16</td>\n",
       "      <td>ultra</td>\n",
       "      <td>6</td>\n",
       "      <td>2018</td>\n",
       "      <td>1000</td>\n",
       "      <td>3000</td>\n",
       "      <td>1950</td>\n",
       "      <td>150</td>\n",
       "      <td>1</td>\n",
       "      <td>1</td>\n",
       "      <td>30.0</td>\n",
       "      <td>2700.0</td>\n",
       "    </tr>\n",
       "    <tr>\n",
       "      <th>97</th>\n",
       "      <td>1060</td>\n",
       "      <td>12</td>\n",
       "      <td>1233.0</td>\n",
       "      <td>184.0</td>\n",
       "      <td>52.0</td>\n",
       "      <td>43.0</td>\n",
       "      <td>46</td>\n",
       "      <td>NaT</td>\n",
       "      <td>Калуга</td>\n",
       "      <td>Яков</td>\n",
       "      <td>Рудаков</td>\n",
       "      <td>2018-11-24</td>\n",
       "      <td>ultra</td>\n",
       "      <td>11</td>\n",
       "      <td>2018</td>\n",
       "      <td>1000</td>\n",
       "      <td>3000</td>\n",
       "      <td>1950</td>\n",
       "      <td>150</td>\n",
       "      <td>1</td>\n",
       "      <td>1</td>\n",
       "      <td>30.0</td>\n",
       "      <td>3900.0</td>\n",
       "    </tr>\n",
       "    <tr>\n",
       "      <th>211</th>\n",
       "      <td>1124</td>\n",
       "      <td>10</td>\n",
       "      <td>1225.0</td>\n",
       "      <td>152.0</td>\n",
       "      <td>121.0</td>\n",
       "      <td>49.0</td>\n",
       "      <td>54</td>\n",
       "      <td>NaT</td>\n",
       "      <td>Махачкала</td>\n",
       "      <td>Альбин</td>\n",
       "      <td>Андрианов</td>\n",
       "      <td>2018-09-24</td>\n",
       "      <td>ultra</td>\n",
       "      <td>9</td>\n",
       "      <td>2018</td>\n",
       "      <td>1000</td>\n",
       "      <td>3000</td>\n",
       "      <td>1950</td>\n",
       "      <td>150</td>\n",
       "      <td>1</td>\n",
       "      <td>1</td>\n",
       "      <td>30.0</td>\n",
       "      <td>4800.0</td>\n",
       "    </tr>\n",
       "    <tr>\n",
       "      <th>212</th>\n",
       "      <td>1124</td>\n",
       "      <td>11</td>\n",
       "      <td>1127.0</td>\n",
       "      <td>160.0</td>\n",
       "      <td>95.0</td>\n",
       "      <td>36.0</td>\n",
       "      <td>54</td>\n",
       "      <td>NaT</td>\n",
       "      <td>Махачкала</td>\n",
       "      <td>Альбин</td>\n",
       "      <td>Андрианов</td>\n",
       "      <td>2018-09-24</td>\n",
       "      <td>ultra</td>\n",
       "      <td>9</td>\n",
       "      <td>2018</td>\n",
       "      <td>1000</td>\n",
       "      <td>3000</td>\n",
       "      <td>1950</td>\n",
       "      <td>150</td>\n",
       "      <td>1</td>\n",
       "      <td>1</td>\n",
       "      <td>30.0</td>\n",
       "      <td>2850.0</td>\n",
       "    </tr>\n",
       "    <tr>\n",
       "      <th>213</th>\n",
       "      <td>1124</td>\n",
       "      <td>12</td>\n",
       "      <td>1106.0</td>\n",
       "      <td>146.0</td>\n",
       "      <td>120.0</td>\n",
       "      <td>39.0</td>\n",
       "      <td>54</td>\n",
       "      <td>NaT</td>\n",
       "      <td>Махачкала</td>\n",
       "      <td>Альбин</td>\n",
       "      <td>Андрианов</td>\n",
       "      <td>2018-09-24</td>\n",
       "      <td>ultra</td>\n",
       "      <td>9</td>\n",
       "      <td>2018</td>\n",
       "      <td>1000</td>\n",
       "      <td>3000</td>\n",
       "      <td>1950</td>\n",
       "      <td>150</td>\n",
       "      <td>1</td>\n",
       "      <td>1</td>\n",
       "      <td>30.0</td>\n",
       "      <td>3300.0</td>\n",
       "    </tr>\n",
       "    <tr>\n",
       "      <th>225</th>\n",
       "      <td>1126</td>\n",
       "      <td>12</td>\n",
       "      <td>614.0</td>\n",
       "      <td>84.0</td>\n",
       "      <td>3.0</td>\n",
       "      <td>33.0</td>\n",
       "      <td>71</td>\n",
       "      <td>NaT</td>\n",
       "      <td>Санкт-Петербург</td>\n",
       "      <td>Яна</td>\n",
       "      <td>Арсенкова</td>\n",
       "      <td>2018-01-19</td>\n",
       "      <td>ultra</td>\n",
       "      <td>1</td>\n",
       "      <td>2018</td>\n",
       "      <td>1000</td>\n",
       "      <td>3000</td>\n",
       "      <td>1950</td>\n",
       "      <td>150</td>\n",
       "      <td>1</td>\n",
       "      <td>1</td>\n",
       "      <td>30.0</td>\n",
       "      <td>2400.0</td>\n",
       "    </tr>\n",
       "    <tr>\n",
       "      <th>236</th>\n",
       "      <td>1148</td>\n",
       "      <td>5</td>\n",
       "      <td>870.0</td>\n",
       "      <td>114.0</td>\n",
       "      <td>23.0</td>\n",
       "      <td>34.0</td>\n",
       "      <td>23</td>\n",
       "      <td>NaT</td>\n",
       "      <td>Тольятти</td>\n",
       "      <td>Евдокия</td>\n",
       "      <td>Киреева</td>\n",
       "      <td>2018-04-17</td>\n",
       "      <td>ultra</td>\n",
       "      <td>4</td>\n",
       "      <td>2018</td>\n",
       "      <td>1000</td>\n",
       "      <td>3000</td>\n",
       "      <td>1950</td>\n",
       "      <td>150</td>\n",
       "      <td>1</td>\n",
       "      <td>1</td>\n",
       "      <td>30.0</td>\n",
       "      <td>2550.0</td>\n",
       "    </tr>\n",
       "    <tr>\n",
       "      <th>237</th>\n",
       "      <td>1148</td>\n",
       "      <td>6</td>\n",
       "      <td>747.0</td>\n",
       "      <td>113.0</td>\n",
       "      <td>15.0</td>\n",
       "      <td>32.0</td>\n",
       "      <td>23</td>\n",
       "      <td>NaT</td>\n",
       "      <td>Тольятти</td>\n",
       "      <td>Евдокия</td>\n",
       "      <td>Киреева</td>\n",
       "      <td>2018-04-17</td>\n",
       "      <td>ultra</td>\n",
       "      <td>4</td>\n",
       "      <td>2018</td>\n",
       "      <td>1000</td>\n",
       "      <td>3000</td>\n",
       "      <td>1950</td>\n",
       "      <td>150</td>\n",
       "      <td>1</td>\n",
       "      <td>1</td>\n",
       "      <td>30.0</td>\n",
       "      <td>2250.0</td>\n",
       "    </tr>\n",
       "  </tbody>\n",
       "</table>\n",
       "</div>"
      ],
      "text/plain": [
       "     user_id  month  sum_calls  count_calls  count_mess  sum_trafic  age  \\\n",
       "50      1024     11     1146.0        157.0         0.0        43.0   73   \n",
       "51      1024     12      949.0        136.0         0.0        36.0   73   \n",
       "78      1050      7      209.0         35.0        52.0        35.0   44   \n",
       "97      1060     12     1233.0        184.0        52.0        43.0   46   \n",
       "211     1124     10     1225.0        152.0       121.0        49.0   54   \n",
       "212     1124     11     1127.0        160.0        95.0        36.0   54   \n",
       "213     1124     12     1106.0        146.0       120.0        39.0   54   \n",
       "225     1126     12      614.0         84.0         3.0        33.0   71   \n",
       "236     1148      5      870.0        114.0        23.0        34.0   23   \n",
       "237     1148      6      747.0        113.0        15.0        32.0   23   \n",
       "\n",
       "    churn_date             city first_name  last_name   reg_date tariff  \\\n",
       "50         NaT  Санкт-Петербург     Иулиан    Антипов 2018-10-31  ultra   \n",
       "51         NaT  Санкт-Петербург     Иулиан    Антипов 2018-10-31  ultra   \n",
       "78  2018-10-03           Тюмень     Рузана   Аничкина 2018-06-16  ultra   \n",
       "97         NaT           Калуга       Яков    Рудаков 2018-11-24  ultra   \n",
       "211        NaT        Махачкала     Альбин  Андрианов 2018-09-24  ultra   \n",
       "212        NaT        Махачкала     Альбин  Андрианов 2018-09-24  ultra   \n",
       "213        NaT        Махачкала     Альбин  Андрианов 2018-09-24  ultra   \n",
       "225        NaT  Санкт-Петербург        Яна  Арсенкова 2018-01-19  ultra   \n",
       "236        NaT         Тольятти    Евдокия    Киреева 2018-04-17  ultra   \n",
       "237        NaT         Тольятти    Евдокия    Киреева 2018-04-17  ultra   \n",
       "\n",
       "     reg_month  reg_year  messages_included  minutes_included  \\\n",
       "50          10      2018               1000              3000   \n",
       "51          10      2018               1000              3000   \n",
       "78           6      2018               1000              3000   \n",
       "97          11      2018               1000              3000   \n",
       "211          9      2018               1000              3000   \n",
       "212          9      2018               1000              3000   \n",
       "213          9      2018               1000              3000   \n",
       "225          1      2018               1000              3000   \n",
       "236          4      2018               1000              3000   \n",
       "237          4      2018               1000              3000   \n",
       "\n",
       "     rub_monthly_fee  rub_per_gb  rub_per_message  rub_per_minute  \\\n",
       "50              1950         150                1               1   \n",
       "51              1950         150                1               1   \n",
       "78              1950         150                1               1   \n",
       "97              1950         150                1               1   \n",
       "211             1950         150                1               1   \n",
       "212             1950         150                1               1   \n",
       "213             1950         150                1               1   \n",
       "225             1950         150                1               1   \n",
       "236             1950         150                1               1   \n",
       "237             1950         150                1               1   \n",
       "\n",
       "     gb_per_month_included  month_revenue  \n",
       "50                    30.0         3900.0  \n",
       "51                    30.0         2850.0  \n",
       "78                    30.0         2700.0  \n",
       "97                    30.0         3900.0  \n",
       "211                   30.0         4800.0  \n",
       "212                   30.0         2850.0  \n",
       "213                   30.0         3300.0  \n",
       "225                   30.0         2400.0  \n",
       "236                   30.0         2550.0  \n",
       "237                   30.0         2250.0  "
      ]
     },
     "execution_count": 37,
     "metadata": {},
     "output_type": "execute_result"
    }
   ],
   "source": [
    "df_mobil.query('sum_trafic > gb_per_month_included').head(10)"
   ]
  },
  {
   "cell_type": "markdown",
   "metadata": {},
   "source": [
    "Результаты похожи на правду. \n",
    "Например пользователь Альбин Андрианов (211 строка) в октябре превысил лимит использования интернета на 19 гб, что составляет 2850 рублей. Учитывая абонентсткую плату по тарифу в размере 1950 рублей, Альбин был вынужден заплатить 4800 рублей.\n",
    "\n",
    "Даже по этой информации можно предположить, что пользователи предпочтут сменить мобильного оператора, ведь такие траты непомерны."
   ]
  },
  {
   "cell_type": "markdown",
   "metadata": {},
   "source": [
    "#### Исследование выручки\n",
    "\n",
    "Ради своего собственного любопытства, и в целях повторения материала, посмотри графически, как меняются расходы на связь у пользователей разных тарифных планов."
   ]
  },
  {
   "cell_type": "code",
   "execution_count": 38,
   "metadata": {},
   "outputs": [
    {
     "data": {
      "image/png": "[encoded data removed]",
      "text/plain": [
       "<Figure size 1080x360 with 1 Axes>"
      ]
     },
     "metadata": {
      "needs_background": "light"
     },
     "output_type": "display_data"
    }
   ],
   "source": [
    "ax = df_mobil.query('tariff == \"ultra\"').groupby('month')['month_revenue'].sum().plot(x='month', y='month_revenue',\n",
    "    kind='line', grid=True, color='seagreen', figsize=(15, 5), label='ultra')\n",
    "\n",
    "\n",
    "df_mobil.query('tariff == \"smart\"').groupby('month')['month_revenue'].sum().plot(x='month', y='month_revenue',\n",
    "    kind='line', grid=True, color='darkviolet', figsize=(15, 5), label='smart', ax=ax)\n",
    "\n",
    "plt.ylabel('Выручка')\n",
    "plt.xlabel('Месяц')\n",
    "ax.legend()\n",
    "ax.set_title('Динамика выручки по тарифам Смарт и Ультра')\n",
    "plt.show()"
   ]
  },
  {
   "cell_type": "markdown",
   "metadata": {},
   "source": [
    "Заметно, что в обоих случаях выручка значительно растет к декабрю. При чем несмотря на значительную разницу в абонентскийх платах, выручка по тарифу Смарт к концу года выше.\n",
    "\n",
    "Возможно выручка растет из-за роста числа пользователей.\n",
    "\n",
    "В первую очередь проверю сколько всего уникальных пользователей у каждого тарифа. Мне известно, что в выборке информация о 500 пользователях."
   ]
  },
  {
   "cell_type": "code",
   "execution_count": 39,
   "metadata": {},
   "outputs": [
    {
     "name": "stdout",
     "output_type": "stream",
     "text": [
      "Всего пользователей в выборке: 500\n",
      "Количество пользователей тарифа Ультра составляет: 149\n",
      "Количество пользователей тарифа Смарт составляет: 351\n"
     ]
    }
   ],
   "source": [
    "ultra_users = len(df_mobil[df_mobil['tariff']=='ultra']['user_id'].unique())\n",
    "\n",
    "smart_users = len(df_mobil[df_mobil['tariff']=='smart']['user_id'].unique())\n",
    "\n",
    "print('Всего пользователей в выборке:', ultra_users + smart_users)\n",
    "print('Количество пользователей тарифа Ультра составляет:', ultra_users)\n",
    "print('Количество пользователей тарифа Смарт составляет:', smart_users)"
   ]
  },
  {
   "cell_type": "markdown",
   "metadata": {},
   "source": [
    "В выборке пользователей тарифа Смарт свыше, чем в 2 раза больше, что может объяснять такую разницу в выручке.\n",
    "\n",
    "Проверю как менялось число пользователей тарифа в течение 2018 года по месяцам. Сделаю это также графически."
   ]
  },
  {
   "cell_type": "code",
   "execution_count": 40,
   "metadata": {},
   "outputs": [
    {
     "data": {
      "image/png": "[encoded data removed]",
      "text/plain": [
       "<Figure size 1080x360 with 1 Axes>"
      ]
     },
     "metadata": {
      "needs_background": "light"
     },
     "output_type": "display_data"
    }
   ],
   "source": [
    "ax = df_mobil.query('tariff == \"ultra\"').groupby('month')['user_id'].count().plot(x='month', y='user_id',\n",
    "    kind='bar', grid=True, figsize=(15, 5), label='ultra')\n",
    "\n",
    "df_mobil.query('tariff == \"smart\"').groupby('month')['user_id'].count().plot(x='month', y='user_id',\n",
    "    kind='bar', grid=True, figsize=(15, 5), label='smart', alpha = 0.5, ax=ax)\n",
    "\n",
    "plt.ylabel('Число пользователей')\n",
    "plt.xlabel('Месяц')\n",
    "ax.legend()\n",
    "ax.set_title('Динамика числа пользователей тарифов Смарт и Ультра')\n",
    "plt.show()"
   ]
  },
  {
   "cell_type": "markdown",
   "metadata": {},
   "source": [
    "Как не сложно заметить, число пользователей также растет от месяца к месяцу. При чем на графике видно, что пользователей тарифа Смарт значительно больше."
   ]
  },
  {
   "cell_type": "code",
   "execution_count": 41,
   "metadata": {},
   "outputs": [
    {
     "name": "stdout",
     "output_type": "stream",
     "text": [
      "Всего в таблице есть информация о 3216 месячных платежа в 2018 году\n"
     ]
    },
    {
     "data": {
      "text/plain": [
       "1950.0    906\n",
       "550.0     568\n",
       "950.0      87\n",
       "1150.0     80\n",
       "1350.0     78\n",
       "         ... \n",
       "2480.0      1\n",
       "1073.0      1\n",
       "888.0       1\n",
       "1158.0      1\n",
       "3449.0      1\n",
       "Name: month_revenue, Length: 778, dtype: int64"
      ]
     },
     "execution_count": 41,
     "metadata": {},
     "output_type": "execute_result"
    }
   ],
   "source": [
    "total_payments = len(df_mobil['month_revenue'])\n",
    "print(f'Всего в таблице есть информация о {total_payments} месячных платежа в 2018 году')\n",
    "df_mobil['month_revenue'].value_counts()"
   ]
  },
  {
   "cell_type": "markdown",
   "metadata": {},
   "source": [
    "Я располагаю информацией о 3215 платежах (здорово, ведь ровно столько строк в дф, значит я все делаю правильно), при чем из них:\n",
    "- 912 платежей равны 1950 рублям\n",
    "- 600 платежей равно 550 рублямя\n",
    "\n",
    "Таким образом 1512 пользователям (чуть меньше половины) месячных лимитов достаточно. Такой себе показатель (для пользователей, не для операторов конечно)."
   ]
  },
  {
   "cell_type": "markdown",
   "metadata": {},
   "source": [
    "## Анализ данных"
   ]
  },
  {
   "cell_type": "markdown",
   "metadata": {},
   "source": [
    "### Общие статистические показатели\n",
    "\n",
    "В этом разделе проекта будет представлен анализ данных, в частности:\n",
    "- объем минут\n",
    "- объем сообщений\n",
    "- объем трафика\n",
    "\n",
    "В исследуемом датафрейме на данный момент есть много лишних, с точки зрения анализа, столбцов, например:\n",
    "- фамилия и имя пользователя\n",
    "- информация о суммах за услуги и т.д.\n",
    "\n",
    "Для дальнейшего анализа я составлю сводную таблицу только с нужными на данный момент данными."
   ]
  },
  {
   "cell_type": "code",
   "execution_count": 42,
   "metadata": {},
   "outputs": [
    {
     "data": {
      "text/html": [
       "<div>\n",
       "<style scoped>\n",
       "    .dataframe tbody tr th:only-of-type {\n",
       "        vertical-align: middle;\n",
       "    }\n",
       "\n",
       "    .dataframe tbody tr th {\n",
       "        vertical-align: top;\n",
       "    }\n",
       "\n",
       "    .dataframe thead th {\n",
       "        text-align: right;\n",
       "    }\n",
       "</style>\n",
       "<table border=\"1\" class=\"dataframe\">\n",
       "  <thead>\n",
       "    <tr style=\"text-align: right;\">\n",
       "      <th></th>\n",
       "      <th>user_id</th>\n",
       "      <th>tariff</th>\n",
       "      <th>city</th>\n",
       "      <th>month</th>\n",
       "      <th>sum_calls</th>\n",
       "      <th>count_mess</th>\n",
       "      <th>sum_trafic</th>\n",
       "      <th>age</th>\n",
       "      <th>churn_date</th>\n",
       "      <th>reg_month</th>\n",
       "      <th>reg_year</th>\n",
       "      <th>month_revenue</th>\n",
       "    </tr>\n",
       "  </thead>\n",
       "  <tbody>\n",
       "    <tr>\n",
       "      <th>0</th>\n",
       "      <td>1000</td>\n",
       "      <td>ultra</td>\n",
       "      <td>Краснодар</td>\n",
       "      <td>5</td>\n",
       "      <td>159.0</td>\n",
       "      <td>22.0</td>\n",
       "      <td>3.0</td>\n",
       "      <td>52</td>\n",
       "      <td>NaT</td>\n",
       "      <td>5</td>\n",
       "      <td>2018</td>\n",
       "      <td>1950.0</td>\n",
       "    </tr>\n",
       "    <tr>\n",
       "      <th>1</th>\n",
       "      <td>1000</td>\n",
       "      <td>ultra</td>\n",
       "      <td>Краснодар</td>\n",
       "      <td>6</td>\n",
       "      <td>172.0</td>\n",
       "      <td>60.0</td>\n",
       "      <td>23.0</td>\n",
       "      <td>52</td>\n",
       "      <td>NaT</td>\n",
       "      <td>5</td>\n",
       "      <td>2018</td>\n",
       "      <td>1950.0</td>\n",
       "    </tr>\n",
       "    <tr>\n",
       "      <th>2</th>\n",
       "      <td>1000</td>\n",
       "      <td>ultra</td>\n",
       "      <td>Краснодар</td>\n",
       "      <td>7</td>\n",
       "      <td>340.0</td>\n",
       "      <td>75.0</td>\n",
       "      <td>14.0</td>\n",
       "      <td>52</td>\n",
       "      <td>NaT</td>\n",
       "      <td>5</td>\n",
       "      <td>2018</td>\n",
       "      <td>1950.0</td>\n",
       "    </tr>\n",
       "    <tr>\n",
       "      <th>3</th>\n",
       "      <td>1000</td>\n",
       "      <td>ultra</td>\n",
       "      <td>Краснодар</td>\n",
       "      <td>8</td>\n",
       "      <td>408.0</td>\n",
       "      <td>81.0</td>\n",
       "      <td>14.0</td>\n",
       "      <td>52</td>\n",
       "      <td>NaT</td>\n",
       "      <td>5</td>\n",
       "      <td>2018</td>\n",
       "      <td>1950.0</td>\n",
       "    </tr>\n",
       "    <tr>\n",
       "      <th>4</th>\n",
       "      <td>1000</td>\n",
       "      <td>ultra</td>\n",
       "      <td>Краснодар</td>\n",
       "      <td>9</td>\n",
       "      <td>466.0</td>\n",
       "      <td>57.0</td>\n",
       "      <td>15.0</td>\n",
       "      <td>52</td>\n",
       "      <td>NaT</td>\n",
       "      <td>5</td>\n",
       "      <td>2018</td>\n",
       "      <td>1950.0</td>\n",
       "    </tr>\n",
       "  </tbody>\n",
       "</table>\n",
       "</div>"
      ],
      "text/plain": [
       "   user_id tariff       city  month  sum_calls  count_mess  sum_trafic  age  \\\n",
       "0     1000  ultra  Краснодар      5      159.0        22.0         3.0   52   \n",
       "1     1000  ultra  Краснодар      6      172.0        60.0        23.0   52   \n",
       "2     1000  ultra  Краснодар      7      340.0        75.0        14.0   52   \n",
       "3     1000  ultra  Краснодар      8      408.0        81.0        14.0   52   \n",
       "4     1000  ultra  Краснодар      9      466.0        57.0        15.0   52   \n",
       "\n",
       "  churn_date  reg_month  reg_year  month_revenue  \n",
       "0        NaT          5      2018         1950.0  \n",
       "1        NaT          5      2018         1950.0  \n",
       "2        NaT          5      2018         1950.0  \n",
       "3        NaT          5      2018         1950.0  \n",
       "4        NaT          5      2018         1950.0  "
      ]
     },
     "execution_count": 42,
     "metadata": {},
     "output_type": "execute_result"
    }
   ],
   "source": [
    "df_test = df_mobil[['user_id', 'tariff', 'city', 'month', 'sum_calls', 'count_mess', 'sum_trafic', 'age', 'churn_date',\n",
    "                   'reg_month', 'reg_year', 'month_revenue']]\n",
    "df_test.head()"
   ]
  },
  {
   "cell_type": "code",
   "execution_count": 43,
   "metadata": {},
   "outputs": [
    {
     "name": "stdout",
     "output_type": "stream",
     "text": [
      "Основные статистические показатели тарифа Ультра\n"
     ]
    },
    {
     "data": {
      "text/html": [
       "<div>\n",
       "<style scoped>\n",
       "    .dataframe tbody tr th:only-of-type {\n",
       "        vertical-align: middle;\n",
       "    }\n",
       "\n",
       "    .dataframe tbody tr th {\n",
       "        vertical-align: top;\n",
       "    }\n",
       "\n",
       "    .dataframe thead th {\n",
       "        text-align: right;\n",
       "    }\n",
       "</style>\n",
       "<table border=\"1\" class=\"dataframe\">\n",
       "  <thead>\n",
       "    <tr style=\"text-align: right;\">\n",
       "      <th></th>\n",
       "      <th>count</th>\n",
       "      <th>mean</th>\n",
       "      <th>std</th>\n",
       "      <th>min</th>\n",
       "      <th>25%</th>\n",
       "      <th>50%</th>\n",
       "      <th>75%</th>\n",
       "      <th>max</th>\n",
       "    </tr>\n",
       "  </thead>\n",
       "  <tbody>\n",
       "    <tr>\n",
       "      <th>sum_calls</th>\n",
       "      <td>986.0</td>\n",
       "      <td>526.089249</td>\n",
       "      <td>317.887549</td>\n",
       "      <td>0.0</td>\n",
       "      <td>282.5</td>\n",
       "      <td>518.0</td>\n",
       "      <td>751.75</td>\n",
       "      <td>1673.0</td>\n",
       "    </tr>\n",
       "    <tr>\n",
       "      <th>count_mess</th>\n",
       "      <td>986.0</td>\n",
       "      <td>49.313387</td>\n",
       "      <td>47.806040</td>\n",
       "      <td>0.0</td>\n",
       "      <td>6.0</td>\n",
       "      <td>38.0</td>\n",
       "      <td>78.75</td>\n",
       "      <td>224.0</td>\n",
       "    </tr>\n",
       "    <tr>\n",
       "      <th>sum_trafic</th>\n",
       "      <td>986.0</td>\n",
       "      <td>19.474645</td>\n",
       "      <td>9.868057</td>\n",
       "      <td>0.0</td>\n",
       "      <td>12.0</td>\n",
       "      <td>19.0</td>\n",
       "      <td>27.00</td>\n",
       "      <td>49.0</td>\n",
       "    </tr>\n",
       "    <tr>\n",
       "      <th>month_revenue</th>\n",
       "      <td>986.0</td>\n",
       "      <td>2070.030426</td>\n",
       "      <td>376.015578</td>\n",
       "      <td>1950.0</td>\n",
       "      <td>1950.0</td>\n",
       "      <td>1950.0</td>\n",
       "      <td>1950.00</td>\n",
       "      <td>4800.0</td>\n",
       "    </tr>\n",
       "  </tbody>\n",
       "</table>\n",
       "</div>"
      ],
      "text/plain": [
       "               count         mean         std     min     25%     50%  \\\n",
       "sum_calls      986.0   526.089249  317.887549     0.0   282.5   518.0   \n",
       "count_mess     986.0    49.313387   47.806040     0.0     6.0    38.0   \n",
       "sum_trafic     986.0    19.474645    9.868057     0.0    12.0    19.0   \n",
       "month_revenue  986.0  2070.030426  376.015578  1950.0  1950.0  1950.0   \n",
       "\n",
       "                   75%     max  \n",
       "sum_calls       751.75  1673.0  \n",
       "count_mess       78.75   224.0  \n",
       "sum_trafic       27.00    49.0  \n",
       "month_revenue  1950.00  4800.0  "
      ]
     },
     "execution_count": 43,
     "metadata": {},
     "output_type": "execute_result"
    }
   ],
   "source": [
    "print('Основные статистические показатели тарифа Ультра')\n",
    "df_test.query('tariff == \"ultra\"')[['sum_calls', 'count_mess', 'sum_trafic', 'month_revenue']].describe().T"
   ]
  },
  {
   "cell_type": "markdown",
   "metadata": {},
   "source": [
    "#### Предварительный вывод по тарифу Ультра\n",
    "<div style=\"border:solid black 1px; padding: 20px\">\n",
    "\n",
    "Согласно таблице в среднем пользователи тарифа Ультра в месяц:\n",
    "- говорят 526 минут\n",
    "- отправляют 50 смс\n",
    "- используют почти 20гб интернета\n",
    "- платят немного больше 2000 рублей\n",
    "\n",
    "Медианное значение несколько отличается:\n",
    "- говорят518 минут\n",
    "- отправляют 38 смс\n",
    "- используют 19 гб интеренета (очень близко к среднему показателю)\n",
    "- платят 1950 рублей (логично, учитывая, что половина пользователей не выходит за рамки лимитов)\n"
   ]
  },
  {
   "cell_type": "code",
   "execution_count": 44,
   "metadata": {},
   "outputs": [
    {
     "name": "stdout",
     "output_type": "stream",
     "text": [
      "Основные статистические показатели тарифа Смарт\n"
     ]
    },
    {
     "data": {
      "text/html": [
       "<div>\n",
       "<style scoped>\n",
       "    .dataframe tbody tr th:only-of-type {\n",
       "        vertical-align: middle;\n",
       "    }\n",
       "\n",
       "    .dataframe tbody tr th {\n",
       "        vertical-align: top;\n",
       "    }\n",
       "\n",
       "    .dataframe thead th {\n",
       "        text-align: right;\n",
       "    }\n",
       "</style>\n",
       "<table border=\"1\" class=\"dataframe\">\n",
       "  <thead>\n",
       "    <tr style=\"text-align: right;\">\n",
       "      <th></th>\n",
       "      <th>count</th>\n",
       "      <th>mean</th>\n",
       "      <th>std</th>\n",
       "      <th>min</th>\n",
       "      <th>25%</th>\n",
       "      <th>50%</th>\n",
       "      <th>75%</th>\n",
       "      <th>max</th>\n",
       "    </tr>\n",
       "  </thead>\n",
       "  <tbody>\n",
       "    <tr>\n",
       "      <th>sum_calls</th>\n",
       "      <td>2230.0</td>\n",
       "      <td>417.747534</td>\n",
       "      <td>190.476754</td>\n",
       "      <td>0.0</td>\n",
       "      <td>282.0</td>\n",
       "      <td>421.5</td>\n",
       "      <td>545.0</td>\n",
       "      <td>1435.0</td>\n",
       "    </tr>\n",
       "    <tr>\n",
       "      <th>count_mess</th>\n",
       "      <td>2230.0</td>\n",
       "      <td>33.369058</td>\n",
       "      <td>28.230396</td>\n",
       "      <td>0.0</td>\n",
       "      <td>10.0</td>\n",
       "      <td>28.0</td>\n",
       "      <td>51.0</td>\n",
       "      <td>143.0</td>\n",
       "    </tr>\n",
       "    <tr>\n",
       "      <th>sum_trafic</th>\n",
       "      <td>2230.0</td>\n",
       "      <td>16.321525</td>\n",
       "      <td>5.756167</td>\n",
       "      <td>0.0</td>\n",
       "      <td>13.0</td>\n",
       "      <td>17.0</td>\n",
       "      <td>20.0</td>\n",
       "      <td>38.0</td>\n",
       "    </tr>\n",
       "    <tr>\n",
       "      <th>month_revenue</th>\n",
       "      <td>2230.0</td>\n",
       "      <td>1289.641704</td>\n",
       "      <td>818.370799</td>\n",
       "      <td>550.0</td>\n",
       "      <td>550.0</td>\n",
       "      <td>1021.0</td>\n",
       "      <td>1750.0</td>\n",
       "      <td>6770.0</td>\n",
       "    </tr>\n",
       "  </tbody>\n",
       "</table>\n",
       "</div>"
      ],
      "text/plain": [
       "                count         mean         std    min    25%     50%     75%  \\\n",
       "sum_calls      2230.0   417.747534  190.476754    0.0  282.0   421.5   545.0   \n",
       "count_mess     2230.0    33.369058   28.230396    0.0   10.0    28.0    51.0   \n",
       "sum_trafic     2230.0    16.321525    5.756167    0.0   13.0    17.0    20.0   \n",
       "month_revenue  2230.0  1289.641704  818.370799  550.0  550.0  1021.0  1750.0   \n",
       "\n",
       "                  max  \n",
       "sum_calls      1435.0  \n",
       "count_mess      143.0  \n",
       "sum_trafic       38.0  \n",
       "month_revenue  6770.0  "
      ]
     },
     "execution_count": 44,
     "metadata": {},
     "output_type": "execute_result"
    }
   ],
   "source": [
    "print('Основные статистические показатели тарифа Смарт')\n",
    "df_test.query('tariff == \"smart\"')[['sum_calls', 'count_mess', 'sum_trafic', 'month_revenue']].describe().T"
   ]
  },
  {
   "cell_type": "markdown",
   "metadata": {},
   "source": [
    "#### Предварительный вывод по тарифу Смарт\n",
    "<div style=\"border:solid black 1px; padding: 20px\">\n",
    "\n",
    "Согласно таблице в среднем пользователи тарифа Смарт в месяц:\n",
    "- говорят 418 минут\n",
    "- отправляют 34 смс\n",
    "- используют почти 17 гб интернета\n",
    "- платят немного примерно 1290 рублей\n",
    "\n",
    "Медианное значение отличается, но ближе, чем у тарифа Ультра:\n",
    "- говорят 422 минут\n",
    "- отправляют28 смс\n",
    "- используют 17 гб интеренета \n",
    "- платят 1021 рубль (в два раза больше абонентской платы)\n"
   ]
  },
  {
   "cell_type": "markdown",
   "metadata": {},
   "source": [
    "### Дисперсия и стандартное откроление\n",
    "\n",
    "Так как доподленно известно, что сейчас я имею дело не с генеральной совокупностью, дисперсию я буду искать с приминением параметра ddof=1."
   ]
  },
  {
   "cell_type": "markdown",
   "metadata": {},
   "source": [
    "Прежде чем расчиатть дисперсии и ст. отклонения \"вручную\", воспользуюсь помощью функций. Этой таблицей я буду пользоваться, чтобы проверить все ли верно я делаю."
   ]
  },
  {
   "cell_type": "code",
   "execution_count": 45,
   "metadata": {},
   "outputs": [
    {
     "data": {
      "text/html": [
       "<div>\n",
       "<style scoped>\n",
       "    .dataframe tbody tr th:only-of-type {\n",
       "        vertical-align: middle;\n",
       "    }\n",
       "\n",
       "    .dataframe tbody tr th {\n",
       "        vertical-align: top;\n",
       "    }\n",
       "\n",
       "    .dataframe thead th {\n",
       "        text-align: right;\n",
       "    }\n",
       "</style>\n",
       "<table border=\"1\" class=\"dataframe\">\n",
       "  <thead>\n",
       "    <tr style=\"text-align: right;\">\n",
       "      <th></th>\n",
       "      <th>tariff</th>\n",
       "      <th>smart</th>\n",
       "      <th>ultra</th>\n",
       "    </tr>\n",
       "  </thead>\n",
       "  <tbody>\n",
       "    <tr>\n",
       "      <th rowspan=\"4\" valign=\"top\">var</th>\n",
       "      <th>count_mess</th>\n",
       "      <td>797.0</td>\n",
       "      <td>2285.0</td>\n",
       "    </tr>\n",
       "    <tr>\n",
       "      <th>month_revenue</th>\n",
       "      <td>669731.0</td>\n",
       "      <td>141388.0</td>\n",
       "    </tr>\n",
       "    <tr>\n",
       "      <th>sum_calls</th>\n",
       "      <td>36281.0</td>\n",
       "      <td>101052.0</td>\n",
       "    </tr>\n",
       "    <tr>\n",
       "      <th>sum_trafic</th>\n",
       "      <td>33.0</td>\n",
       "      <td>97.0</td>\n",
       "    </tr>\n",
       "    <tr>\n",
       "      <th rowspan=\"4\" valign=\"top\">std</th>\n",
       "      <th>count_mess</th>\n",
       "      <td>28.0</td>\n",
       "      <td>48.0</td>\n",
       "    </tr>\n",
       "    <tr>\n",
       "      <th>month_revenue</th>\n",
       "      <td>818.0</td>\n",
       "      <td>376.0</td>\n",
       "    </tr>\n",
       "    <tr>\n",
       "      <th>sum_calls</th>\n",
       "      <td>190.0</td>\n",
       "      <td>318.0</td>\n",
       "    </tr>\n",
       "    <tr>\n",
       "      <th>sum_trafic</th>\n",
       "      <td>6.0</td>\n",
       "      <td>10.0</td>\n",
       "    </tr>\n",
       "  </tbody>\n",
       "</table>\n",
       "</div>"
      ],
      "text/plain": [
       "tariff                smart     ultra\n",
       "var count_mess        797.0    2285.0\n",
       "    month_revenue  669731.0  141388.0\n",
       "    sum_calls       36281.0  101052.0\n",
       "    sum_trafic         33.0      97.0\n",
       "std count_mess         28.0      48.0\n",
       "    month_revenue     818.0     376.0\n",
       "    sum_calls         190.0     318.0\n",
       "    sum_trafic          6.0      10.0"
      ]
     },
     "execution_count": 45,
     "metadata": {},
     "output_type": "execute_result"
    }
   ],
   "source": [
    "stat = df_test.pivot_table(index = ['tariff'], values = ['sum_calls', 'count_mess', 'sum_trafic', 'month_revenue'], \n",
    "                                   aggfunc=['var', 'std']).T\n",
    "\n",
    "stat.round(0) #для удобства чтения таблицы откину знаки после запятой"
   ]
  },
  {
   "cell_type": "code",
   "execution_count": 46,
   "metadata": {},
   "outputs": [],
   "source": [
    "ultra_statistic = df_test.query('tariff == \"ultra\"') # таблица с показателями тарифа Ультра"
   ]
  },
  {
   "cell_type": "code",
   "execution_count": 47,
   "metadata": {},
   "outputs": [],
   "source": [
    "smart_statistic = df_test.query('tariff == \"smart\"')  # таблица с показателями тарифа Смарт"
   ]
  },
  {
   "cell_type": "markdown",
   "metadata": {},
   "source": [
    "#### Дисперсия и ср. отклонение телефоной связи"
   ]
  },
  {
   "cell_type": "code",
   "execution_count": 48,
   "metadata": {},
   "outputs": [
    {
     "name": "stdout",
     "output_type": "stream",
     "text": [
      "Дисперсия для телефонной связи в тарифе Ультра составляет: 101052.49354928387\n",
      "Ср. отклонение для телефонной связи в тарифе Ультра составляет: 317.8875485911392\n",
      "\n",
      "Дисперсия для телефонной связи в тарифе Смарт составляет: 36281.39383644458\n",
      "Ср. отклонение для телефонной связи в тарифе Смарт составляет: 190.4767540579285\n"
     ]
    }
   ],
   "source": [
    "# дисперсия для зконков тарифа Ультра\n",
    "variance_ultra_calls = np.var(ultra_statistic['sum_calls'], ddof=1)\n",
    "print(f'Дисперсия для телефонной связи в тарифе Ультра составляет: {variance_ultra_calls}')\n",
    "\n",
    "# ср. отклонение для зконков тарифа Ультра\n",
    "st_ultra_calls = np.sqrt(variance_ultra_calls)\n",
    "print(f'Ср. отклонение для телефонной связи в тарифе Ультра составляет: {st_ultra_calls}')\n",
    "print()\n",
    "\n",
    "# дисперсия для звонков тарифа Смарт\n",
    "variance_smart_calls = np.var(smart_statistic['sum_calls'], ddof=1)\n",
    "print(f'Дисперсия для телефонной связи в тарифе Смарт составляет: {variance_smart_calls}')\n",
    "\n",
    "# ср. отклонение для зконков тарифа Смарт\n",
    "st_smart_calls = np.sqrt(variance_smart_calls)\n",
    "print(f'Ср. отклонение для телефонной связи в тарифе Смарт составляет: {st_smart_calls}')"
   ]
  },
  {
   "cell_type": "markdown",
   "metadata": {},
   "source": [
    "#### Дисперсия и ср. отклонение смс"
   ]
  },
  {
   "cell_type": "code",
   "execution_count": 49,
   "metadata": {},
   "outputs": [
    {
     "name": "stdout",
     "output_type": "stream",
     "text": [
      "Дисперсия для отправленных смс в тарифе Ультра составляет: 2285.4174246558414\n",
      "Ср. отклонение для отправленных смс в тарифе Ультра составляет: 47.80603962530092\n",
      "\n",
      "Дисперсия для отправленных смс в тарифе Смарт составляет: 796.9552557301129\n",
      "Ср. отклонение для отправленных смс в тарифе Смарт составляет: 28.230395954185852\n"
     ]
    }
   ],
   "source": [
    "# дисперсия для отправленных смс тарифа Ультра\n",
    "variance_ultra_mass = np.var(ultra_statistic['count_mess'], ddof=1)\n",
    "print(f'Дисперсия для отправленных смс в тарифе Ультра составляет: {variance_ultra_mass}')\n",
    "\n",
    "# ср. отклонение для отправленных смс тарифа Ультра\n",
    "st_ultra_mass = np.sqrt(variance_ultra_mass)\n",
    "print(f'Ср. отклонение для отправленных смс в тарифе Ультра составляет: {st_ultra_mass}')\n",
    "print()\n",
    "\n",
    "# дисперсия для отправленных смс Смарт\n",
    "variance_smart_mass = np.var(smart_statistic['count_mess'], ddof=1)\n",
    "print(f'Дисперсия для отправленных смс в тарифе Смарт составляет: {variance_smart_mass}')\n",
    "\n",
    "# ср. отклонение для отправленных смс тарифа Смарт\n",
    "st_smart_mass = np.sqrt(variance_smart_mass)\n",
    "print(f'Ср. отклонение для отправленных смс в тарифе Смарт составляет: {st_smart_mass}')"
   ]
  },
  {
   "cell_type": "markdown",
   "metadata": {},
   "source": [
    "#### Дисперсия и ср. отклонение интернет-трафика"
   ]
  },
  {
   "cell_type": "code",
   "execution_count": 50,
   "metadata": {},
   "outputs": [
    {
     "name": "stdout",
     "output_type": "stream",
     "text": [
      "Дисперсия для интернет-трафика в тарифе Ультра составляет: 97.37854429011234\n",
      "Ср. отклонение для интернет-трафика в тарифе Ультра составляет: 47.80603962530092\n",
      "\n",
      "Дисперсия для интернет-трафика в тарифе Смарт составляет: 33.133453035506285\n",
      "Ср. отклонение для интернет-трафика в тарифе Смарт составляет: 28.230395954185852\n"
     ]
    }
   ],
   "source": [
    "# дисперсия для интернет-трафика тарифа Ультра\n",
    "variance_ultra_trafic = np.var(ultra_statistic['sum_trafic'], ddof=1)\n",
    "print(f'Дисперсия для интернет-трафика в тарифе Ультра составляет: {variance_ultra_trafic}')\n",
    "\n",
    "# ср. отклонение для интернет-трафика тарифа Ультра\n",
    "st_ultra_trafic = np.sqrt(variance_ultra_mass)\n",
    "print(f'Ср. отклонение для интернет-трафика в тарифе Ультра составляет: {st_ultra_trafic}')\n",
    "print()\n",
    "\n",
    "# дисперсия для звонков интернет-трафика Смарт\n",
    "variance_smart_trafic = np.var(smart_statistic['sum_trafic'], ddof=1)\n",
    "print(f'Дисперсия для интернет-трафика в тарифе Смарт составляет: {variance_smart_trafic}')\n",
    "\n",
    "# ср. отклонение для интернет-трафика тарифа Смарт\n",
    "st_smart_trafic = np.sqrt(variance_smart_mass)\n",
    "print(f'Ср. отклонение для интернет-трафика в тарифе Смарт составляет: {st_smart_trafic}')"
   ]
  },
  {
   "cell_type": "markdown",
   "metadata": {},
   "source": [
    "Полученные значения полностью соответствуют значениям в таблице, тем, что рассчитаны функцией. Значит все в порядке."
   ]
  },
  {
   "cell_type": "markdown",
   "metadata": {},
   "source": [
    "### Графики распределения тариф Ультра"
   ]
  },
  {
   "cell_type": "code",
   "execution_count": 51,
   "metadata": {},
   "outputs": [
    {
     "data": {
      "image/png": "[encoded data removed]",
      "text/plain": [
       "<Figure size 432x288 with 1 Axes>"
      ]
     },
     "metadata": {
      "needs_background": "light"
     },
     "output_type": "display_data"
    },
    {
     "data": {
      "image/png": "[encoded data removed]",
      "text/plain": [
       "<Figure size 432x288 with 1 Axes>"
      ]
     },
     "metadata": {
      "needs_background": "light"
     },
     "output_type": "display_data"
    },
    {
     "data": {
      "image/png": "[encoded data removed]",
      "text/plain": [
       "<Figure size 432x288 with 1 Axes>"
      ]
     },
     "metadata": {
      "needs_background": "light"
     },
     "output_type": "display_data"
    }
   ],
   "source": [
    "sm.qqplot(ultra_statistic['sum_calls']);\n",
    "plt.title('QQ-plot для звонков тарифа Ультра')\n",
    "plt.show()\n",
    "sm.qqplot(ultra_statistic['count_mess']);\n",
    "plt.title('QQ-plot для сообщений тарифа Ультра')\n",
    "plt.show()\n",
    "sm.qqplot(ultra_statistic['sum_trafic']);\n",
    "plt.title('QQ-plot для трафика в тарифе Ультра')\n",
    "plt.show()\n"
   ]
  },
  {
   "cell_type": "markdown",
   "metadata": {},
   "source": [
    "Изучив вышерасположенные qq-плоты, очевидно и бросается в глаза, что более менее нормальным распределением обладают данные по интернет-трафику."
   ]
  },
  {
   "cell_type": "code",
   "execution_count": 52,
   "metadata": {},
   "outputs": [
    {
     "data": {
      "image/png": "[encoded data removed]",
      "text/plain": [
       "<Figure size 1080x360 with 3 Axes>"
      ]
     },
     "metadata": {
      "needs_background": "light"
     },
     "output_type": "display_data"
    }
   ],
   "source": [
    "fig1, ax1 = plt.subplots(nrows=1, ncols=3, figsize=(15,5))\n",
    "\n",
    "ax1[0].hist(ultra_statistic['sum_calls'], bins=80);\n",
    "ax1[0].set_title('Распределение звонков тарифа Ультра')\n",
    "\n",
    "ax1[1].hist(ultra_statistic['count_mess'], bins=120);\n",
    "ax1[1].set_title('Распределение  сообщений тарифа Ультра')\n",
    "\n",
    "ax1[2].hist(ultra_statistic['sum_trafic'], bins=80);\n",
    "ax1[2].set_title('Распределение трафика тарифа Ультра');\n"
   ]
  },
  {
   "cell_type": "markdown",
   "metadata": {},
   "source": [
    "#### Описание графиков по тарифу Ультра"
   ]
  },
  {
   "cell_type": "markdown",
   "metadata": {},
   "source": [
    "Больше всего пользователи тарифа Ультра:\n",
    "- Или не пользуются телефонной связью или тратят около 500 минут в месяц.\n",
    "- Не отправляю смс.\n",
    "- Используют 20 гб трафика (распределение близится к нормальному)"
   ]
  },
  {
   "cell_type": "markdown",
   "metadata": {},
   "source": [
    "### Графики распределения тариф Смарт"
   ]
  },
  {
   "cell_type": "code",
   "execution_count": 53,
   "metadata": {},
   "outputs": [
    {
     "data": {
      "image/png": "[encoded data removed]",
      "text/plain": [
       "<Figure size 432x288 with 1 Axes>"
      ]
     },
     "metadata": {
      "needs_background": "light"
     },
     "output_type": "display_data"
    },
    {
     "data": {
      "image/png": "[encoded data removed]",
      "text/plain": [
       "<Figure size 432x288 with 1 Axes>"
      ]
     },
     "metadata": {
      "needs_background": "light"
     },
     "output_type": "display_data"
    },
    {
     "data": {
      "image/png": "[encoded data removed]",
      "text/plain": [
       "<Figure size 432x288 with 1 Axes>"
      ]
     },
     "metadata": {
      "needs_background": "light"
     },
     "output_type": "display_data"
    }
   ],
   "source": [
    "sm.qqplot(smart_statistic['sum_calls']);\n",
    "plt.title('QQ-plot для звонков тарифа Смарт')\n",
    "plt.show()\n",
    "sm.qqplot(smart_statistic['count_mess']);\n",
    "plt.title('QQ-plot для сообщений тарифа Смарт')\n",
    "plt.show()\n",
    "sm.qqplot(smart_statistic['sum_trafic']);\n",
    "plt.title('QQ-plot для трафика в тарифе Смарт')\n",
    "plt.show()\n"
   ]
  },
  {
   "cell_type": "markdown",
   "metadata": {},
   "source": [
    "Здесь ситуация такая же, графиком с нормальным распределением можно назвать только тот, что построен по данным интернет трафика."
   ]
  },
  {
   "cell_type": "code",
   "execution_count": 54,
   "metadata": {},
   "outputs": [
    {
     "data": {
      "image/png": "[encoded data removed]",
      "text/plain": [
       "<Figure size 1080x360 with 3 Axes>"
      ]
     },
     "metadata": {
      "needs_background": "light"
     },
     "output_type": "display_data"
    }
   ],
   "source": [
    "fig1, ax1 = plt.subplots(nrows=1, ncols=3, figsize=(15,5))\n",
    "\n",
    "ax1[0].hist(smart_statistic['sum_calls'], bins=80);\n",
    "ax1[0].set_title('Распределение звонков тарифа Смарт')\n",
    "\n",
    "ax1[1].hist(smart_statistic['count_mess'], bins=60);\n",
    "ax1[1].set_title('Распределение  сообщений тарифа Смарт')\n",
    "\n",
    "ax1[2].hist(smart_statistic['sum_trafic'], bins=90);\n",
    "ax1[2].set_title('Распределение трафика тарифа Смарт');\n"
   ]
  },
  {
   "cell_type": "markdown",
   "metadata": {},
   "source": [
    "#### Описание графиков по тарифу Смарт"
   ]
  },
  {
   "cell_type": "markdown",
   "metadata": {},
   "source": [
    "Больше всего пользователи тарифа Смарт:\n",
    "- Используют 400 минут разговора в месяц (скошенность влево)\n",
    "- Не отправляю смс\n",
    "- Используют 17 гб трафика (распределение близится к нормальному)"
   ]
  },
  {
   "cell_type": "markdown",
   "metadata": {},
   "source": [
    "### Изучение выбросов\n",
    "\n",
    "#### Ультра\n",
    "\n",
    "Вышесделанные выводы говорят о том, что в даным есть выбросы. Для того, чтобы более точно ответить на вопрос какой объем услуг необходим пользователям тарифов, посмотрю что там с усами в коробках и, при необходимости, сделаю выводы, избавившишь от выбросов."
   ]
  },
  {
   "cell_type": "code",
   "execution_count": 55,
   "metadata": {},
   "outputs": [
    {
     "data": {
      "image/png": "[encoded data removed]",
      "text/plain": [
       "<Figure size 1224x216 with 1 Axes>"
      ]
     },
     "metadata": {
      "needs_background": "light"
     },
     "output_type": "display_data"
    },
    {
     "data": {
      "image/png": "[encoded data removed]",
      "text/plain": [
       "<Figure size 1224x216 with 1 Axes>"
      ]
     },
     "metadata": {
      "needs_background": "light"
     },
     "output_type": "display_data"
    },
    {
     "data": {
      "image/png": "[encoded data removed]",
      "text/plain": [
       "<Figure size 1224x216 with 1 Axes>"
      ]
     },
     "metadata": {
      "needs_background": "light"
     },
     "output_type": "display_data"
    }
   ],
   "source": [
    "# использованные минуты разговора\n",
    "fig, ax = plt.subplots(figsize = (17,3))\n",
    "ax = ultra_statistic[['sum_calls']].boxplot(vert = False, color='red', ax =ax)\n",
    "ax.set_title('Объем потраченных минут тариф Ультра')\n",
    "plt.show()\n",
    "\n",
    "# отправленные сообщения\n",
    "fig, ax = plt.subplots(figsize = (17,3))\n",
    "ax = ultra_statistic[['count_mess']].boxplot(vert = False, color='green', ax =ax)\n",
    "ax.set_title('Объем отправленных смс тариф Ультра')\n",
    "\n",
    "\n",
    "# суммарный трафик\n",
    "fig, ax = plt.subplots(figsize = (17,3))\n",
    "ax = ultra_statistic[['sum_trafic']].boxplot(vert = False, ax =ax)\n",
    "ax.set_title('Объем использованного трафика тариф Ультра')\n",
    "plt.show()"
   ]
  },
  {
   "cell_type": "markdown",
   "metadata": {},
   "source": [
    "Для составления наиболее четкой картины о потребностях пользователей тарифа Ультра, избавлюсь о некоторых выбросах, а именно:\n",
    "- более 1350 минут разговора (а пользователи этого тарифа любят поболтать)\n",
    "- свыше 200 смс (до этого значения есть нокоторые плотные группы, поэтому буду ориентироваться именно на него)"
   ]
  },
  {
   "cell_type": "code",
   "execution_count": 56,
   "metadata": {},
   "outputs": [
    {
     "data": {
      "text/plain": [
       "Text(0.5, 1.0, 'Распределение  сообщений тарифа Ультра 2')"
      ]
     },
     "execution_count": 56,
     "metadata": {},
     "output_type": "execute_result"
    },
    {
     "data": {
      "image/png": "[encoded data removed]",
      "text/plain": [
       "<Figure size 1080x360 with 2 Axes>"
      ]
     },
     "metadata": {
      "needs_background": "light"
     },
     "output_type": "display_data"
    }
   ],
   "source": [
    "norm_ultra_calls = ultra_statistic.query('sum_calls <= 1350') # не \"режу\" одновременно, чтобы не потерять нужные данные\n",
    "norm_ultra_mass = ultra_statistic.query('count_mess <= 200')\n",
    "\n",
    "fig1, ax1 = plt.subplots(nrows=1, ncols=2, figsize=(15,5))\n",
    "\n",
    "ax1[0].hist(norm_ultra_calls['sum_calls'], bins=80);\n",
    "ax1[0].set_title('Распределение звонков тарифа Ультра 2')\n",
    "\n",
    "ax1[1].hist(norm_ultra_mass['count_mess'], bins=120);\n",
    "ax1[1].set_title('Распределение  сообщений тарифа Ультра 2')\n",
    "\n",
    "# интернет не трогаю, там выбросов нет"
   ]
  },
  {
   "cell_type": "code",
   "execution_count": 57,
   "metadata": {
    "scrolled": true
   },
   "outputs": [
    {
     "name": "stdout",
     "output_type": "stream",
     "text": [
      "Данные о звонках Ультра\n"
     ]
    },
    {
     "data": {
      "text/plain": [
       "count     982.000000\n",
       "mean      522.027495\n",
       "std       311.985582\n",
       "min         0.000000\n",
       "25%       282.000000\n",
       "50%       515.500000\n",
       "75%       750.750000\n",
       "max      1345.000000\n",
       "Name: sum_calls, dtype: float64"
      ]
     },
     "metadata": {},
     "output_type": "display_data"
    },
    {
     "name": "stdout",
     "output_type": "stream",
     "text": [
      "Данные о сообщениях Ультра\n"
     ]
    },
    {
     "data": {
      "text/plain": [
       "count    982.000000\n",
       "mean      48.639511\n",
       "std       46.715313\n",
       "min        0.000000\n",
       "25%        6.000000\n",
       "50%       38.000000\n",
       "75%       78.000000\n",
       "max      197.000000\n",
       "Name: count_mess, dtype: float64"
      ]
     },
     "metadata": {},
     "output_type": "display_data"
    }
   ],
   "source": [
    "print('Данные о звонках Ультра')\n",
    "display(norm_ultra_calls['sum_calls'].describe())\n",
    "print('Данные о сообщениях Ультра')\n",
    "display(norm_ultra_mass['count_mess'].describe())"
   ]
  },
  {
   "cell_type": "markdown",
   "metadata": {},
   "source": [
    "Для удобства визуального восприятия соберу датафрейм со старыми и новыми значениями."
   ]
  },
  {
   "cell_type": "code",
   "execution_count": 58,
   "metadata": {},
   "outputs": [
    {
     "data": {
      "text/html": [
       "<div>\n",
       "<style scoped>\n",
       "    .dataframe tbody tr th:only-of-type {\n",
       "        vertical-align: middle;\n",
       "    }\n",
       "\n",
       "    .dataframe tbody tr th {\n",
       "        vertical-align: top;\n",
       "    }\n",
       "\n",
       "    .dataframe thead th {\n",
       "        text-align: right;\n",
       "    }\n",
       "</style>\n",
       "<table border=\"1\" class=\"dataframe\">\n",
       "  <thead>\n",
       "    <tr style=\"text-align: right;\">\n",
       "      <th></th>\n",
       "      <th>ultra</th>\n",
       "      <th>old_mean</th>\n",
       "      <th>new_mean</th>\n",
       "      <th>old_median</th>\n",
       "      <th>new_median</th>\n",
       "      <th>traffic_includes</th>\n",
       "    </tr>\n",
       "  </thead>\n",
       "  <tbody>\n",
       "    <tr>\n",
       "      <th>0</th>\n",
       "      <td>sum_calls</td>\n",
       "      <td>526</td>\n",
       "      <td>522</td>\n",
       "      <td>518</td>\n",
       "      <td>515</td>\n",
       "      <td>3000</td>\n",
       "    </tr>\n",
       "    <tr>\n",
       "      <th>1</th>\n",
       "      <td>count_mess</td>\n",
       "      <td>50</td>\n",
       "      <td>48</td>\n",
       "      <td>38</td>\n",
       "      <td>38</td>\n",
       "      <td>1000</td>\n",
       "    </tr>\n",
       "    <tr>\n",
       "      <th>2</th>\n",
       "      <td>sum_trafic</td>\n",
       "      <td>20</td>\n",
       "      <td>20</td>\n",
       "      <td>19</td>\n",
       "      <td>19</td>\n",
       "      <td>30</td>\n",
       "    </tr>\n",
       "  </tbody>\n",
       "</table>\n",
       "</div>"
      ],
      "text/plain": [
       "        ultra  old_mean  new_mean  old_median  new_median  traffic_includes\n",
       "0   sum_calls       526       522         518         515              3000\n",
       "1  count_mess        50        48          38          38              1000\n",
       "2  sum_trafic        20        20          19          19                30"
      ]
     },
     "execution_count": 58,
     "metadata": {},
     "output_type": "execute_result"
    }
   ],
   "source": [
    "ultra_users_need = pd.DataFrame({'ultra': ['sum_calls', 'count_mess', 'sum_trafic'],\n",
    "                                'old_mean': [526, 50, 20], \n",
    "                                'new_mean': [522, 48, 20],\n",
    "                                'old_median': [518, 38, 19],\n",
    "                                'new_median': [515, 38, 19],\n",
    "                                'traffic_includes': [3000, 1000, 30]})\n",
    "ultra_users_need"
   ]
  },
  {
   "cell_type": "markdown",
   "metadata": {},
   "source": [
    "#### Рекомендации по тарифу Ультра"
   ]
  },
  {
   "cell_type": "markdown",
   "metadata": {},
   "source": [
    "<div style=\"border:solid black 1px; padding: 20px\">\n",
    "\n",
    "Сразу отмечу, что рассчеты фактически не изменились, значит выбросы не имели особого влияния.\n",
    "\n",
    "Среднестатистическому пользователю тарифа Ультра необходимо:\n",
    "- Около 520 минут разговора в месяц\n",
    "- Около 40-50 отправляемых смс\n",
    "- 20 гб трафика\n",
    "\n",
    "\n",
    "Средние и медианные значения значительно ниже того, что предлагает тариф. \n",
    "\n",
    "Рекомендации такие:\n",
    "- оптимизации издержек оператора, можно сократить объем предоставляемых в тарифе минут и сообщений\n",
    "- можно дать право выбора пользователю и, сохранив размер абонентской платы, перераспределить дефолтные пакеты услуг\n",
    "- снизить абонентскую плату в качестве разовой промо-акции для привлечения новых клиентов, так как, учитывая объем, потребляемых услуг, оператор не должен понести издержки, но возможен клиентский приток."
   ]
  },
  {
   "cell_type": "markdown",
   "metadata": {},
   "source": [
    "#### Смарт"
   ]
  },
  {
   "cell_type": "code",
   "execution_count": 59,
   "metadata": {},
   "outputs": [
    {
     "data": {
      "image/png": "[encoded data removed]",
      "text/plain": [
       "<Figure size 1224x216 with 1 Axes>"
      ]
     },
     "metadata": {
      "needs_background": "light"
     },
     "output_type": "display_data"
    },
    {
     "data": {
      "image/png": "[encoded data removed]",
      "text/plain": [
       "<Figure size 1224x216 with 1 Axes>"
      ]
     },
     "metadata": {
      "needs_background": "light"
     },
     "output_type": "display_data"
    },
    {
     "data": {
      "image/png": "[encoded data removed]",
      "text/plain": [
       "<Figure size 1224x216 with 1 Axes>"
      ]
     },
     "metadata": {
      "needs_background": "light"
     },
     "output_type": "display_data"
    }
   ],
   "source": [
    "# использованные минуты разговора\n",
    "fig, ax = plt.subplots(figsize = (17,3))\n",
    "ax = smart_statistic[['sum_calls']].boxplot(vert = False, color='red',  ax =ax)\n",
    "ax.set_title('Объем потраченных минут тариф Смарт')\n",
    "plt.show()\n",
    "\n",
    "# отправленные сообщения\n",
    "fig, ax = plt.subplots(figsize = (17,3))\n",
    "ax = smart_statistic[['count_mess']].boxplot(vert = False, color='green', ax =ax)\n",
    "ax.set_title('Объем отправленных смс тариф Смарт')\n",
    "\n",
    "\n",
    "# суммарный трафик\n",
    "fig, ax = plt.subplots(figsize = (17,3))\n",
    "ax = smart_statistic[['sum_trafic']].boxplot(vert = False, ax =ax)\n",
    "ax.set_title('Объем использованного трафика тариф Смарт')\n",
    "plt.show()\n"
   ]
  },
  {
   "cell_type": "markdown",
   "metadata": {},
   "source": [
    "Что сразу бросается в глаза так это боксплот по данным о интернет трафике - медианное значение раввноудатено от границ квартилей, что, очевидно, говорит о самом, что ни на есть нормальном распределении.\n",
    "\n",
    "Для определения потребностей пользователей тарифа Смарт я немного \"порежу\" выбросы, а именно:\n",
    "- более 1200 минут разговора (до этого значения еще есть уплотненные группы)\n",
    "- более 140 смс \n",
    "- менее 3 и более 35 гб (35 гб беру интуитивно, все-таки это не так много, если, например, пользователь ежедневно случает музыку в стриминговых сервисах типа Яндекс.музыки, которые активно \"едят\" трафик."
   ]
  },
  {
   "cell_type": "code",
   "execution_count": 60,
   "metadata": {},
   "outputs": [
    {
     "data": {
      "image/png": "[encoded data removed]",
      "text/plain": [
       "<Figure size 1080x360 with 3 Axes>"
      ]
     },
     "metadata": {
      "needs_background": "light"
     },
     "output_type": "display_data"
    }
   ],
   "source": [
    "# не \"режу\" одновременно, чтобы не потерять нужные данные\n",
    "\n",
    "norm_smart_calls = smart_statistic.query('sum_calls <= 1200') \n",
    "norm_smart_mass = smart_statistic.query('count_mess <= 140')\n",
    "norm_smart_trafic = smart_statistic.query('3 <= sum_trafic <= 35')\n",
    "\n",
    "fig1, ax1 = plt.subplots(nrows=1, ncols=3, figsize=(15,5))\n",
    "\n",
    "ax1[0].hist(norm_smart_calls['sum_calls'], bins=80);\n",
    "ax1[0].set_title('Распределение звонков тарифа Смарт 2')\n",
    "\n",
    "ax1[1].hist(norm_smart_mass['count_mess'], bins=120);\n",
    "ax1[1].set_title('Распределение сообщений тарифа Смарт 2')\n",
    "\n",
    "ax1[2].hist(norm_smart_trafic['sum_trafic'], bins=120);\n",
    "ax1[2].set_title('Распределение трафика тарифа Смарт 2');"
   ]
  },
  {
   "cell_type": "markdown",
   "metadata": {},
   "source": [
    "Графики несколько изменились, а график по трафику стал почти эталонно нормально-распределенным. Посмотрю рассчеты и так же как и с ультра соберу датафрейм для более комфортного визуального восприятия."
   ]
  },
  {
   "cell_type": "code",
   "execution_count": 61,
   "metadata": {},
   "outputs": [
    {
     "name": "stdout",
     "output_type": "stream",
     "text": [
      "Данные о звонках Смарт\n"
     ]
    },
    {
     "data": {
      "text/plain": [
       "count    2229.000000\n",
       "mean      417.291162\n",
       "std       189.296107\n",
       "min         0.000000\n",
       "25%       282.000000\n",
       "50%       421.000000\n",
       "75%       545.000000\n",
       "max      1144.000000\n",
       "Name: sum_calls, dtype: float64"
      ]
     },
     "metadata": {},
     "output_type": "display_data"
    },
    {
     "name": "stdout",
     "output_type": "stream",
     "text": [
      "Данные о сообщениях Смарт\n"
     ]
    },
    {
     "data": {
      "text/plain": [
       "count    2229.000000\n",
       "mean       33.319874\n",
       "std        28.141003\n",
       "min         0.000000\n",
       "25%        10.000000\n",
       "50%        28.000000\n",
       "75%        51.000000\n",
       "max       139.000000\n",
       "Name: count_mess, dtype: float64"
      ]
     },
     "metadata": {},
     "output_type": "display_data"
    },
    {
     "name": "stdout",
     "output_type": "stream",
     "text": [
      "Данные о трафике Смарт\n"
     ]
    },
    {
     "data": {
      "text/plain": [
       "count    2190.000000\n",
       "mean       16.530137\n",
       "std         5.407789\n",
       "min         3.000000\n",
       "25%        13.000000\n",
       "50%        17.000000\n",
       "75%        20.000000\n",
       "max        35.000000\n",
       "Name: sum_trafic, dtype: float64"
      ]
     },
     "metadata": {},
     "output_type": "display_data"
    }
   ],
   "source": [
    "print('Данные о звонках Смарт')\n",
    "display(norm_smart_calls['sum_calls'].describe())\n",
    "print('Данные о сообщениях Смарт')\n",
    "display(norm_smart_mass['count_mess'].describe())\n",
    "print('Данные о трафике Смарт')\n",
    "display(norm_smart_trafic['sum_trafic'].describe())"
   ]
  },
  {
   "cell_type": "code",
   "execution_count": 62,
   "metadata": {},
   "outputs": [
    {
     "data": {
      "text/html": [
       "<div>\n",
       "<style scoped>\n",
       "    .dataframe tbody tr th:only-of-type {\n",
       "        vertical-align: middle;\n",
       "    }\n",
       "\n",
       "    .dataframe tbody tr th {\n",
       "        vertical-align: top;\n",
       "    }\n",
       "\n",
       "    .dataframe thead th {\n",
       "        text-align: right;\n",
       "    }\n",
       "</style>\n",
       "<table border=\"1\" class=\"dataframe\">\n",
       "  <thead>\n",
       "    <tr style=\"text-align: right;\">\n",
       "      <th></th>\n",
       "      <th>smart</th>\n",
       "      <th>old_mean</th>\n",
       "      <th>new_mean</th>\n",
       "      <th>old_median</th>\n",
       "      <th>new_median</th>\n",
       "      <th>traffic_includes</th>\n",
       "    </tr>\n",
       "  </thead>\n",
       "  <tbody>\n",
       "    <tr>\n",
       "      <th>0</th>\n",
       "      <td>sum_calls</td>\n",
       "      <td>418</td>\n",
       "      <td>417</td>\n",
       "      <td>422</td>\n",
       "      <td>421</td>\n",
       "      <td>500</td>\n",
       "    </tr>\n",
       "    <tr>\n",
       "      <th>1</th>\n",
       "      <td>count_mess</td>\n",
       "      <td>34</td>\n",
       "      <td>33</td>\n",
       "      <td>28</td>\n",
       "      <td>28</td>\n",
       "      <td>50</td>\n",
       "    </tr>\n",
       "    <tr>\n",
       "      <th>2</th>\n",
       "      <td>sum_trafic</td>\n",
       "      <td>17</td>\n",
       "      <td>17</td>\n",
       "      <td>17</td>\n",
       "      <td>17</td>\n",
       "      <td>15</td>\n",
       "    </tr>\n",
       "  </tbody>\n",
       "</table>\n",
       "</div>"
      ],
      "text/plain": [
       "        smart  old_mean  new_mean  old_median  new_median  traffic_includes\n",
       "0   sum_calls       418       417         422         421               500\n",
       "1  count_mess        34        33          28          28                50\n",
       "2  sum_trafic        17        17          17          17                15"
      ]
     },
     "execution_count": 62,
     "metadata": {},
     "output_type": "execute_result"
    }
   ],
   "source": [
    "smart_users_need = pd.DataFrame({'smart': ['sum_calls', 'count_mess', 'sum_trafic'],\n",
    "                                'old_mean': [418, 34, 17], \n",
    "                                'new_mean': [417, 33, 17],\n",
    "                                'old_median': [422, 28, 17],\n",
    "                                'new_median': [421, 28, 17],\n",
    "                                'traffic_includes': [500, 50, 15]})\n",
    "smart_users_need "
   ]
  },
  {
   "cell_type": "markdown",
   "metadata": {},
   "source": [
    "Избавление от выбросов не повлияло ровным счетом ни на что:)"
   ]
  },
  {
   "cell_type": "markdown",
   "metadata": {},
   "source": [
    "#### Рекомендации по тарифу Смарт\n",
    "<div style=\"border:solid black 1px; padding: 20px\">\n",
    "\n",
    "Среднестатистический пользователь тарифа:\n",
    "- использует около 420 минут разговора\n",
    "- отправляет олоко 30 смс\n",
    "- использует 17 гб трафика ежемесячно (выше предложения тарифа).\n",
    "\n",
    "Вероятнее всего этот тариф выбирался пользователями из-за более низкой стоимости, однако за счет интернета выпадает высокая переплата (часто выше абонетской платы, о чем говорит ранее полученные расчеты по выручке - среднее и медианное значания почти в 2 раза выше абонентской платы), поэтому:\n",
    "- в целях сохранения клиентов необходимо переспотреть объем предлагаемого интернет трафика в тарифном плане или стоимость за превышение."
   ]
  },
  {
   "cell_type": "markdown",
   "metadata": {},
   "source": [
    "## Проверка гипотез"
   ]
  },
  {
   "cell_type": "markdown",
   "metadata": {},
   "source": [
    "### Гипотеза 1 - средняя выручка пользователей тарифов «Ультра» и «Смарт» различаются"
   ]
  },
  {
   "cell_type": "markdown",
   "metadata": {},
   "source": [
    "Нулевая гипотеза обычно формируется от равенства, поэтому гипотезы будут звучать следующим образом:\n",
    "\n",
    "Н₀(*нулевая гипотеза*) - Средние выручки пользователей тарифов «Ультра» и «Смарт» равны.\n",
    "\n",
    "Н₁(*альтернативная гипотеза*) - Средние выручки пользователей тарифов «Ультра» и «Смарт» различаются\n",
    "\n",
    "Я работаю с выборкой, где значительно больше 30 значений, значит распределение Стьюдента будет стремиться к нормальному, поэтому, как было рекомендованно в тренажере, не буду усложнять себе жизнь и использую Т-тест.\n",
    "\n",
    "Помимо этого я работаю с выборками из двух генеральных совокупностей (это явно выборка, так как 500 клиентов маловато для мобильного оператора, работающего по всей стране), я буду работать методом scipy.stats.ttest_ind\n",
    "\n",
    "Критический уровень alpha возьму за 5% (0.05)."
   ]
  },
  {
   "cell_type": "code",
   "execution_count": 63,
   "metadata": {},
   "outputs": [
    {
     "name": "stdout",
     "output_type": "stream",
     "text": [
      "p-значение: 1.927011394420941e-250\n",
      "Отвергаем нулевую гипотезу\n"
     ]
    }
   ],
   "source": [
    "ultra_revenue = ultra_statistic['month_revenue'] # данные о выручке тарифа Ультра\n",
    "smart_revenue = smart_statistic['month_revenue'] # данные о выручке тарифа Смарт\n",
    "\n",
    "alpha = .05 # критические уровень значимости\n",
    "\n",
    "results = st.ttest_ind(\n",
    "    ultra_revenue,\n",
    "    smart_revenue,\n",
    "    equal_var=False) # использую значение equal_var=False, что предполагает неравные дисперсии, как и в моих расчетах\n",
    "                     # помимо этого число клиентов разное, стало быть и выборки не равны\n",
    "\n",
    "print('p-значение:', results.pvalue)\n",
    "\n",
    "if results.pvalue < alpha:\n",
    "    print(\"Отвергаем нулевую гипотезу\")\n",
    "else:\n",
    "    print(\"Не получилось отвергнуть нулевую гипотезу\") "
   ]
  },
  {
   "cell_type": "code",
   "execution_count": 64,
   "metadata": {},
   "outputs": [
    {
     "name": "stdout",
     "output_type": "stream",
     "text": [
      "2070.030425963489\n",
      "1289.6417040358745\n"
     ]
    }
   ],
   "source": [
    "print(ultra_statistic['month_revenue'].mean())\n",
    "print(smart_statistic['month_revenue'].mean())"
   ]
  },
  {
   "cell_type": "markdown",
   "metadata": {},
   "source": [
    "#### Вывод\n",
    "\n",
    "<div style=\"border:solid black 1px; padding: 20px\">\n",
    "\n",
    "Значени числа p-value говорит о том, что с высокой долей вероятности при случайной выборке среднее значение выручки тарифа Ультра будет отличным от средней выручки тарифа Смарт. Это позволяет нам опровергнуть нулевую гипотезу о их равенстве.\n",
    "Средние выручки тарифов Смарт и Ультра различаются."
   ]
  },
  {
   "cell_type": "markdown",
   "metadata": {},
   "source": [
    "### Гипотеза 2 - средняя выручка пользователей из Москвы отличается от выручки пользователей из других регионов."
   ]
  },
  {
   "cell_type": "markdown",
   "metadata": {},
   "source": [
    "Гипотезы выстраиваю отталкиваясь от равенства:\n",
    "\n",
    "Н₀(нулевая гипотеза) - Средняя выручка пользователей из Москвы *равна* средней выручке пользователей из других регионов.\n",
    "\n",
    "Н₁(альтернативная гипотеза) - Средняя выручка пользователей из Москвы *отличается* от выручки пользователей из других регионов.\n",
    "\n",
    "Критический уровень alpha возьму за 5% (0.05).\n",
    "\n",
    "В первую очередь хочу проверить на сколько различаются выборки."
   ]
  },
  {
   "cell_type": "code",
   "execution_count": 65,
   "metadata": {},
   "outputs": [
    {
     "name": "stdout",
     "output_type": "stream",
     "text": [
      "Данных о пользователях из Москвы 611\n",
      "Данных о пользователях из других городов 2605\n",
      "Дисперсия данных о пользователях из Москвы равна 565636.467011886\n",
      "Дисперсия данных о пользователях из других городов равна 654069.574962777\n"
     ]
    }
   ],
   "source": [
    "moscow_users = df_test.query('city == \"Москва\"')\n",
    "other_users = df_test.query('city != \"Москва\"')\n",
    "\n",
    "moscow_var = np.var(moscow_users['month_revenue'], ddof=1)\n",
    "other_var = np.var(other_users['month_revenue'], ddof=1)\n",
    "\n",
    "print(f'Данных о пользователях из Москвы {len(moscow_users)}')\n",
    "print(f'Данных о пользователях из других городов {len(other_users)}')\n",
    "print(f'Дисперсия данных о пользователях из Москвы равна {moscow_var}')\n",
    "print(f'Дисперсия данных о пользователях из других городов равна {other_var}')"
   ]
  },
  {
   "cell_type": "markdown",
   "metadata": {},
   "source": [
    "Число имеющихся значений неравное. Дисперсии неравны. Как и ранее я буду использовать Т-тест с указанием equal_var=False"
   ]
  },
  {
   "cell_type": "code",
   "execution_count": 66,
   "metadata": {},
   "outputs": [
    {
     "name": "stdout",
     "output_type": "stream",
     "text": [
      "p-значение: 0.5216952110000278\n",
      "Не получилось отвергнуть нулевую гипотезу\n"
     ]
    }
   ],
   "source": [
    "moscow_revenue = moscow_users['month_revenue'] # данные о выручке от пользователей из Москвы\n",
    "other_revenue = other_users['month_revenue'] # данные о выручке от пользователей из других городов\n",
    "\n",
    "alpha = .05 # критические уровень значимости\n",
    "\n",
    "results_2 = st.ttest_ind(\n",
    "    moscow_revenue,\n",
    "    other_revenue,\n",
    "    equal_var=False)\n",
    "\n",
    "print('p-значение:', results_2.pvalue)\n",
    "\n",
    "if results_2.pvalue < alpha:\n",
    "    print(\"Отвергаем нулевую гипотезу\")\n",
    "else:\n",
    "    print(\"Не получилось отвергнуть нулевую гипотезу\") "
   ]
  },
  {
   "cell_type": "markdown",
   "metadata": {},
   "source": [
    "#### Вывод\n",
    "\n",
    "<div style=\"border:solid black 1px; padding: 20px\">\n",
    "\n",
    "P-значение говорит о том, что есть вероятност порядка 52%, что средняя выручка пользователей из Москвы отличается от средней выручки пользователей из других городов. Такая вероятность не позволяет наверняка опровергнуть нулевую гипотезу."
   ]
  },
  {
   "cell_type": "markdown",
   "metadata": {},
   "source": [
    "### Гипотеза 3 - средний интернет-трафик пользователей из Москвы отличается от среднего трафика пользователей из других городов"
   ]
  },
  {
   "cell_type": "markdown",
   "metadata": {},
   "source": [
    "\n",
    "Н₀(нулевая гипотеза) - Средний интернет-трафик пользователей из Москвы равен среднему трафику пользователей из других городов.\n",
    "\n",
    "Н₁(альтернативная гипотеза) - Средняя выручка пользователей из Москвы меньше, чем среднего трафика пользователей из других городов.\n",
    "\n",
    "\n",
    "Я уже знаю, что выборки неравы, пользователей из Москвы значительно меньше.\n",
    "\n",
    "Посчитаю дисперсию по интеренет-трафику."
   ]
  },
  {
   "cell_type": "code",
   "execution_count": 67,
   "metadata": {},
   "outputs": [
    {
     "name": "stdout",
     "output_type": "stream",
     "text": [
      "Дисперсия данных о трафике пользователей из Москвы равна 58.458077325534596\n",
      "Дисперсия данных о трафике пользователей из других городов равна 53.94463117424543\n"
     ]
    }
   ],
   "source": [
    "moscow_var_trafic = np.var(moscow_users['sum_trafic'], ddof=1)\n",
    "other_var_trafic = np.var(other_users['sum_trafic'], ddof=1)\n",
    "print(f'Дисперсия данных о трафике пользователей из Москвы равна {moscow_var_trafic}')\n",
    "print(f'Дисперсия данных о трафике пользователей из других городов равна {other_var_trafic}')"
   ]
  },
  {
   "cell_type": "markdown",
   "metadata": {},
   "source": [
    "Дисперсии неравны. Попробую провести односторонний тест влево (с использованием st.ttest_1samp) - среднее значение интернет-трафика пользователей из Москвы выше, чем у пользователей из других городов."
   ]
  },
  {
   "cell_type": "code",
   "execution_count": 68,
   "metadata": {},
   "outputs": [
    {
     "name": "stdout",
     "output_type": "stream",
     "text": [
      "p-значение: 0.0012204423159808664\n",
      "Отвергаем нулевую гипотезу, средний трафик пользователей из Москвы выше, чем трафик пользователей из других городов\n"
     ]
    }
   ],
   "source": [
    "moscow_trafic = moscow_users['sum_trafic'] # данные о трафике пользователей из Москвы\n",
    "other_trafic = other_users['sum_trafic'] # данные о трафике пользователей из других городов\n",
    "\n",
    "alpha = .05 # критические уровень значимости\n",
    "\n",
    "other_trafic_mean = other_trafic.mean() # средний трафик пользователей из других городов\n",
    "\n",
    "results_3 = st.ttest_1samp(moscow_trafic, other_trafic_mean)\n",
    "\n",
    "# тест односторонний: p-value будет в два раза меньше\n",
    "print('p-значение:', results_3.pvalue / 2)\n",
    "\n",
    "# тест односторонний вправо:\n",
    "# отвергаем гипотезу только тогда, когда выборочное среднее значимо меньше предполагаемого значения\n",
    "if ((results_3.pvalue / 2) < alpha) and (moscow_trafic.mean() > other_trafic_mean):\n",
    "    print(\"Отвергаем нулевую гипотезу, средний трафик пользователей из Москвы выше, чем трафик пользователей из других городов\")\n",
    "else:\n",
    "    print(\"Не отвергаем нулевую гипотезу\")  "
   ]
  },
  {
   "cell_type": "code",
   "execution_count": 69,
   "metadata": {},
   "outputs": [
    {
     "data": {
      "text/plain": [
       "18.050736497545007"
      ]
     },
     "metadata": {},
     "output_type": "display_data"
    },
    {
     "data": {
      "text/plain": [
       "17.10940499040307"
      ]
     },
     "execution_count": 69,
     "metadata": {},
     "output_type": "execute_result"
    }
   ],
   "source": [
    "display(moscow_trafic.mean()) # средний трафик москвичей\n",
    "other_trafic_mean "
   ]
  },
  {
   "cell_type": "markdown",
   "metadata": {},
   "source": [
    "И правда, повыше:)"
   ]
  },
  {
   "cell_type": "markdown",
   "metadata": {},
   "source": [
    "#### Вывод\n",
    "<div style=\"border:solid black 1px; padding: 20px\">\n",
    "\n",
    "Шалость с тестами удалась, и получилось опровергнуть гипотезу, что трафик в Москве равен трафику в регионах - разница незначительная, но она, все же, есть."
   ]
  },
  {
   "cell_type": "markdown",
   "metadata": {},
   "source": [
    "## Общие выводы по исследованию"
   ]
  },
  {
   "cell_type": "markdown",
   "metadata": {},
   "source": [
    "<div style=\"border:solid green 2px; padding: 20px\">\n",
    "\n",
    "**Выручка**\n",
    "- оба тарифа имеют одинаковую среднюю выручку\n",
    "- средняя выручка не меняется в зависимости от региона\n",
    "- московские пользователи в среднем используют больше гб трафика\n",
    "\n",
    "**Рекомендации по тарифам**\n",
    "\n",
    "*Ультра*\n",
    "- можно сократить объем предоставляемых в тарифе минут и сообщений\n",
    "- сохранив размер абонентской платы, перераспределить дефолтные пакеты услуг по желанию пользователя в зависимости от индивидуальных нужд\n",
    "- снизить абонентскую плату в качестве разовой промо-акции для привлечения новых клиентов, так как, учитывая объем, потребляемых услуг, оператор не должен понести издержки, но возможен клиентский приток.\n",
    "\n",
    "*Смарт*\n",
    "- *обязательно* пересмотреть размер Гб в пакете услуг в большую сторону, тариф не удовлетворяет нужды пользователей.\n",
    "\n",
    "*Какой тафир рекламировать*\n",
    "- Рекламную компанию направить на тариф \"Ультра\", так как у тарифа \"Смарт\" слишком высокий уровень переплаты, что может снизить клиентскую лояльность. Помимо этого, средняя выручка по тарифу \"Ультра\". "
   ]
  }
 ],
 "metadata": {
  "ExecuteTimeLog": [
   {
    "duration": 1342,
    "start_time": "2022-05-29T16:38:37.766Z"
   },
   {
    "duration": 4,
    "start_time": "2022-05-29T16:46:50.184Z"
   },
   {
    "duration": 639,
    "start_time": "2022-05-29T16:49:40.802Z"
   },
   {
    "duration": 1199,
    "start_time": "2022-05-29T16:52:56.495Z"
   },
   {
    "duration": 3,
    "start_time": "2022-05-29T16:52:57.696Z"
   },
   {
    "duration": 210,
    "start_time": "2022-05-29T16:52:57.700Z"
   },
   {
    "duration": 210,
    "start_time": "2022-05-29T16:52:57.912Z"
   },
   {
    "duration": 210,
    "start_time": "2022-05-29T16:52:58.124Z"
   },
   {
    "duration": 443,
    "start_time": "2022-05-29T16:52:58.336Z"
   },
   {
    "duration": 73,
    "start_time": "2022-05-29T16:52:58.781Z"
   },
   {
    "duration": 1009,
    "start_time": "2022-05-29T16:56:24.418Z"
   },
   {
    "duration": 3,
    "start_time": "2022-05-29T16:56:25.429Z"
   },
   {
    "duration": 117,
    "start_time": "2022-05-29T16:56:25.433Z"
   },
   {
    "duration": 184,
    "start_time": "2022-05-29T16:56:25.552Z"
   },
   {
    "duration": 108,
    "start_time": "2022-05-29T16:56:25.737Z"
   },
   {
    "duration": 166,
    "start_time": "2022-05-29T16:56:25.847Z"
   },
   {
    "duration": 27,
    "start_time": "2022-05-29T16:56:26.015Z"
   },
   {
    "duration": 206,
    "start_time": "2022-05-29T17:16:48.857Z"
   },
   {
    "duration": 128,
    "start_time": "2022-05-29T17:17:01.408Z"
   },
   {
    "duration": 177,
    "start_time": "2022-05-29T17:17:24.025Z"
   },
   {
    "duration": 48,
    "start_time": "2022-05-29T17:17:38.044Z"
   },
   {
    "duration": 81,
    "start_time": "2022-05-29T17:44:55.673Z"
   },
   {
    "duration": 113,
    "start_time": "2022-05-29T17:45:44.424Z"
   },
   {
    "duration": 102,
    "start_time": "2022-05-29T17:47:33.772Z"
   },
   {
    "duration": 95,
    "start_time": "2022-05-29T17:47:51.696Z"
   },
   {
    "duration": 191,
    "start_time": "2022-05-29T17:48:01.593Z"
   },
   {
    "duration": 94,
    "start_time": "2022-05-29T17:48:14.447Z"
   },
   {
    "duration": 14,
    "start_time": "2022-05-29T17:54:47.289Z"
   },
   {
    "duration": 1198,
    "start_time": "2022-05-29T18:03:42.823Z"
   },
   {
    "duration": 3,
    "start_time": "2022-05-29T18:03:44.026Z"
   },
   {
    "duration": 65,
    "start_time": "2022-05-29T18:03:44.031Z"
   },
   {
    "duration": 221,
    "start_time": "2022-05-29T18:03:44.098Z"
   },
   {
    "duration": 131,
    "start_time": "2022-05-29T18:03:44.323Z"
   },
   {
    "duration": 168,
    "start_time": "2022-05-29T18:03:44.460Z"
   },
   {
    "duration": 26,
    "start_time": "2022-05-29T18:03:44.629Z"
   },
   {
    "duration": 143,
    "start_time": "2022-05-29T18:03:44.658Z"
   },
   {
    "duration": 20,
    "start_time": "2022-05-29T18:03:44.803Z"
   },
   {
    "duration": 33,
    "start_time": "2022-05-29T18:10:17.323Z"
   },
   {
    "duration": 156,
    "start_time": "2022-05-29T18:10:25.326Z"
   },
   {
    "duration": 124,
    "start_time": "2022-05-29T18:11:02.781Z"
   },
   {
    "duration": 1193,
    "start_time": "2022-05-29T18:11:54.718Z"
   },
   {
    "duration": 3,
    "start_time": "2022-05-29T18:11:55.913Z"
   },
   {
    "duration": 82,
    "start_time": "2022-05-29T18:11:55.918Z"
   },
   {
    "duration": 184,
    "start_time": "2022-05-29T18:11:56.002Z"
   },
   {
    "duration": 108,
    "start_time": "2022-05-29T18:11:56.188Z"
   },
   {
    "duration": 183,
    "start_time": "2022-05-29T18:11:56.298Z"
   },
   {
    "duration": 31,
    "start_time": "2022-05-29T18:11:56.483Z"
   },
   {
    "duration": 125,
    "start_time": "2022-05-29T18:11:56.516Z"
   },
   {
    "duration": 135,
    "start_time": "2022-05-29T18:11:56.660Z"
   },
   {
    "duration": 28,
    "start_time": "2022-05-29T18:11:56.797Z"
   },
   {
    "duration": 1410,
    "start_time": "2022-05-31T12:26:18.001Z"
   },
   {
    "duration": 2,
    "start_time": "2022-05-31T12:26:19.413Z"
   },
   {
    "duration": 112,
    "start_time": "2022-05-31T12:26:19.417Z"
   },
   {
    "duration": 265,
    "start_time": "2022-05-31T12:26:19.532Z"
   },
   {
    "duration": 301,
    "start_time": "2022-05-31T12:26:19.799Z"
   },
   {
    "duration": 329,
    "start_time": "2022-05-31T12:26:20.102Z"
   },
   {
    "duration": 66,
    "start_time": "2022-05-31T12:26:20.433Z"
   },
   {
    "duration": 163,
    "start_time": "2022-05-31T12:26:20.500Z"
   },
   {
    "duration": 165,
    "start_time": "2022-05-31T12:26:20.664Z"
   },
   {
    "duration": 24,
    "start_time": "2022-05-31T12:26:20.831Z"
   },
   {
    "duration": 157,
    "start_time": "2022-05-31T12:32:12.792Z"
   },
   {
    "duration": 183,
    "start_time": "2022-05-31T12:32:23.672Z"
   },
   {
    "duration": 66,
    "start_time": "2022-05-31T12:33:10.997Z"
   },
   {
    "duration": 298,
    "start_time": "2022-05-31T12:45:36.715Z"
   },
   {
    "duration": 46,
    "start_time": "2022-05-31T12:45:45.631Z"
   },
   {
    "duration": 31,
    "start_time": "2022-05-31T12:58:47.461Z"
   },
   {
    "duration": 27,
    "start_time": "2022-05-31T12:58:59.093Z"
   },
   {
    "duration": 11,
    "start_time": "2022-05-31T14:50:21.117Z"
   },
   {
    "duration": 1155,
    "start_time": "2022-05-31T14:50:32.740Z"
   },
   {
    "duration": 3,
    "start_time": "2022-05-31T14:50:33.897Z"
   },
   {
    "duration": 87,
    "start_time": "2022-05-31T14:50:33.904Z"
   },
   {
    "duration": 276,
    "start_time": "2022-05-31T14:50:33.993Z"
   },
   {
    "duration": 282,
    "start_time": "2022-05-31T14:50:34.271Z"
   },
   {
    "duration": 277,
    "start_time": "2022-05-31T14:50:34.555Z"
   },
   {
    "duration": 28,
    "start_time": "2022-05-31T14:50:34.834Z"
   },
   {
    "duration": 158,
    "start_time": "2022-05-31T14:50:34.864Z"
   },
   {
    "duration": 144,
    "start_time": "2022-05-31T14:50:35.024Z"
   },
   {
    "duration": 24,
    "start_time": "2022-05-31T14:50:35.170Z"
   },
   {
    "duration": 106,
    "start_time": "2022-05-31T14:50:35.196Z"
   },
   {
    "duration": 41,
    "start_time": "2022-05-31T14:50:35.303Z"
   },
   {
    "duration": 33,
    "start_time": "2022-05-31T14:50:35.346Z"
   },
   {
    "duration": 154,
    "start_time": "2022-05-31T14:50:35.381Z"
   },
   {
    "duration": 5,
    "start_time": "2022-05-31T14:52:25.636Z"
   },
   {
    "duration": 1240,
    "start_time": "2022-05-31T14:52:32.008Z"
   },
   {
    "duration": 6,
    "start_time": "2022-05-31T14:52:33.250Z"
   },
   {
    "duration": 87,
    "start_time": "2022-05-31T14:52:33.258Z"
   },
   {
    "duration": 186,
    "start_time": "2022-05-31T14:52:33.347Z"
   },
   {
    "duration": 114,
    "start_time": "2022-05-31T14:52:33.535Z"
   },
   {
    "duration": 182,
    "start_time": "2022-05-31T14:52:33.652Z"
   },
   {
    "duration": 27,
    "start_time": "2022-05-31T14:52:33.835Z"
   },
   {
    "duration": 162,
    "start_time": "2022-05-31T14:52:33.864Z"
   },
   {
    "duration": 130,
    "start_time": "2022-05-31T14:52:34.028Z"
   },
   {
    "duration": 22,
    "start_time": "2022-05-31T14:52:34.160Z"
   },
   {
    "duration": 90,
    "start_time": "2022-05-31T14:52:34.183Z"
   },
   {
    "duration": 30,
    "start_time": "2022-05-31T14:52:34.275Z"
   },
   {
    "duration": 48,
    "start_time": "2022-05-31T14:52:34.307Z"
   },
   {
    "duration": 143,
    "start_time": "2022-05-31T14:52:34.357Z"
   },
   {
    "duration": 25,
    "start_time": "2022-05-31T14:53:17.026Z"
   },
   {
    "duration": 1203,
    "start_time": "2022-05-31T14:53:31.067Z"
   },
   {
    "duration": 2,
    "start_time": "2022-05-31T14:53:32.272Z"
   },
   {
    "duration": 71,
    "start_time": "2022-05-31T14:53:32.276Z"
   },
   {
    "duration": 201,
    "start_time": "2022-05-31T14:53:32.350Z"
   },
   {
    "duration": 130,
    "start_time": "2022-05-31T14:53:32.553Z"
   },
   {
    "duration": 210,
    "start_time": "2022-05-31T14:53:32.685Z"
   },
   {
    "duration": 32,
    "start_time": "2022-05-31T14:53:32.897Z"
   },
   {
    "duration": 156,
    "start_time": "2022-05-31T14:53:32.932Z"
   },
   {
    "duration": 159,
    "start_time": "2022-05-31T14:53:33.090Z"
   },
   {
    "duration": 23,
    "start_time": "2022-05-31T14:53:33.252Z"
   },
   {
    "duration": 100,
    "start_time": "2022-05-31T14:53:33.277Z"
   },
   {
    "duration": 44,
    "start_time": "2022-05-31T14:53:33.379Z"
   },
   {
    "duration": 146,
    "start_time": "2022-05-31T14:53:33.425Z"
   },
   {
    "duration": 0,
    "start_time": "2022-05-31T14:53:33.572Z"
   },
   {
    "duration": 34,
    "start_time": "2022-05-31T14:53:52.742Z"
   },
   {
    "duration": 31,
    "start_time": "2022-05-31T14:54:08.907Z"
   },
   {
    "duration": 29,
    "start_time": "2022-05-31T14:54:28.204Z"
   },
   {
    "duration": 515,
    "start_time": "2022-05-31T14:54:30.430Z"
   },
   {
    "duration": 21,
    "start_time": "2022-05-31T15:09:24.076Z"
   },
   {
    "duration": 15,
    "start_time": "2022-05-31T15:09:37.028Z"
   },
   {
    "duration": 25,
    "start_time": "2022-05-31T15:09:40.549Z"
   },
   {
    "duration": 34,
    "start_time": "2022-05-31T15:13:11.759Z"
   },
   {
    "duration": 9,
    "start_time": "2022-05-31T15:14:42.418Z"
   },
   {
    "duration": 1179,
    "start_time": "2022-05-31T15:14:51.086Z"
   },
   {
    "duration": 3,
    "start_time": "2022-05-31T15:14:52.267Z"
   },
   {
    "duration": 66,
    "start_time": "2022-05-31T15:14:52.271Z"
   },
   {
    "duration": 192,
    "start_time": "2022-05-31T15:14:52.339Z"
   },
   {
    "duration": 114,
    "start_time": "2022-05-31T15:14:52.533Z"
   },
   {
    "duration": 212,
    "start_time": "2022-05-31T15:14:52.649Z"
   },
   {
    "duration": 31,
    "start_time": "2022-05-31T15:14:52.864Z"
   },
   {
    "duration": 183,
    "start_time": "2022-05-31T15:14:52.897Z"
   },
   {
    "duration": 148,
    "start_time": "2022-05-31T15:14:53.082Z"
   },
   {
    "duration": 24,
    "start_time": "2022-05-31T15:14:53.233Z"
   },
   {
    "duration": 87,
    "start_time": "2022-05-31T15:14:53.259Z"
   },
   {
    "duration": 34,
    "start_time": "2022-05-31T15:14:53.348Z"
   },
   {
    "duration": 49,
    "start_time": "2022-05-31T15:14:53.384Z"
   },
   {
    "duration": 37,
    "start_time": "2022-05-31T15:14:53.434Z"
   },
   {
    "duration": 122,
    "start_time": "2022-05-31T15:14:53.473Z"
   },
   {
    "duration": 0,
    "start_time": "2022-05-31T15:14:53.596Z"
   },
   {
    "duration": 1231,
    "start_time": "2022-05-31T15:16:31.809Z"
   },
   {
    "duration": 2,
    "start_time": "2022-05-31T15:16:33.042Z"
   },
   {
    "duration": 88,
    "start_time": "2022-05-31T15:16:33.046Z"
   },
   {
    "duration": 197,
    "start_time": "2022-05-31T15:16:33.137Z"
   },
   {
    "duration": 111,
    "start_time": "2022-05-31T15:16:33.336Z"
   },
   {
    "duration": 156,
    "start_time": "2022-05-31T15:16:33.449Z"
   },
   {
    "duration": 25,
    "start_time": "2022-05-31T15:16:33.607Z"
   },
   {
    "duration": 135,
    "start_time": "2022-05-31T15:16:33.633Z"
   },
   {
    "duration": 155,
    "start_time": "2022-05-31T15:16:33.769Z"
   },
   {
    "duration": 27,
    "start_time": "2022-05-31T15:16:33.927Z"
   },
   {
    "duration": 85,
    "start_time": "2022-05-31T15:16:33.956Z"
   },
   {
    "duration": 34,
    "start_time": "2022-05-31T15:16:34.043Z"
   },
   {
    "duration": 53,
    "start_time": "2022-05-31T15:16:34.078Z"
   },
   {
    "duration": 27,
    "start_time": "2022-05-31T15:16:34.132Z"
   },
   {
    "duration": 118,
    "start_time": "2022-05-31T15:16:34.161Z"
   },
   {
    "duration": 0,
    "start_time": "2022-05-31T15:16:34.281Z"
   },
   {
    "duration": 13,
    "start_time": "2022-05-31T15:16:37.713Z"
   },
   {
    "duration": 4,
    "start_time": "2022-05-31T15:19:15.168Z"
   },
   {
    "duration": 66,
    "start_time": "2022-05-31T15:20:36.062Z"
   },
   {
    "duration": 11,
    "start_time": "2022-05-31T15:20:58.509Z"
   },
   {
    "duration": 5,
    "start_time": "2022-05-31T15:21:11.709Z"
   },
   {
    "duration": 22,
    "start_time": "2022-05-31T15:21:18.712Z"
   },
   {
    "duration": 8,
    "start_time": "2022-05-31T15:21:28.920Z"
   },
   {
    "duration": 28,
    "start_time": "2022-05-31T15:21:38.762Z"
   },
   {
    "duration": 55,
    "start_time": "2022-05-31T15:22:38.831Z"
   },
   {
    "duration": 1283,
    "start_time": "2022-05-31T15:22:46.307Z"
   },
   {
    "duration": 2,
    "start_time": "2022-05-31T15:22:47.592Z"
   },
   {
    "duration": 60,
    "start_time": "2022-05-31T15:22:47.596Z"
   },
   {
    "duration": 181,
    "start_time": "2022-05-31T15:22:47.657Z"
   },
   {
    "duration": 133,
    "start_time": "2022-05-31T15:22:47.841Z"
   },
   {
    "duration": 179,
    "start_time": "2022-05-31T15:22:47.976Z"
   },
   {
    "duration": 27,
    "start_time": "2022-05-31T15:22:48.156Z"
   },
   {
    "duration": 162,
    "start_time": "2022-05-31T15:22:48.184Z"
   },
   {
    "duration": 141,
    "start_time": "2022-05-31T15:22:48.349Z"
   },
   {
    "duration": 39,
    "start_time": "2022-05-31T15:22:48.491Z"
   },
   {
    "duration": 67,
    "start_time": "2022-05-31T15:22:48.532Z"
   },
   {
    "duration": 51,
    "start_time": "2022-05-31T15:22:48.601Z"
   },
   {
    "duration": 32,
    "start_time": "2022-05-31T15:22:48.654Z"
   },
   {
    "duration": 47,
    "start_time": "2022-05-31T15:22:48.689Z"
   },
   {
    "duration": 6,
    "start_time": "2022-05-31T15:22:48.738Z"
   },
   {
    "duration": 13,
    "start_time": "2022-05-31T15:22:48.745Z"
   },
   {
    "duration": 29,
    "start_time": "2022-05-31T15:22:48.759Z"
   },
   {
    "duration": 36,
    "start_time": "2022-05-31T15:25:15.888Z"
   },
   {
    "duration": 83,
    "start_time": "2022-05-31T15:25:27.892Z"
   },
   {
    "duration": 149,
    "start_time": "2022-05-31T15:25:41.229Z"
   },
   {
    "duration": 5,
    "start_time": "2022-05-31T15:32:37.523Z"
   },
   {
    "duration": 26,
    "start_time": "2022-05-31T15:36:23.290Z"
   },
   {
    "duration": 9,
    "start_time": "2022-05-31T15:36:40.849Z"
   },
   {
    "duration": 16,
    "start_time": "2022-05-31T15:36:43.656Z"
   },
   {
    "duration": 1158,
    "start_time": "2022-05-31T15:40:17.518Z"
   },
   {
    "duration": 2,
    "start_time": "2022-05-31T15:40:18.678Z"
   },
   {
    "duration": 62,
    "start_time": "2022-05-31T15:40:18.682Z"
   },
   {
    "duration": 188,
    "start_time": "2022-05-31T15:40:18.745Z"
   },
   {
    "duration": 123,
    "start_time": "2022-05-31T15:40:18.934Z"
   },
   {
    "duration": 163,
    "start_time": "2022-05-31T15:40:19.059Z"
   },
   {
    "duration": 30,
    "start_time": "2022-05-31T15:40:19.223Z"
   },
   {
    "duration": 171,
    "start_time": "2022-05-31T15:40:19.254Z"
   },
   {
    "duration": 138,
    "start_time": "2022-05-31T15:40:19.427Z"
   },
   {
    "duration": 26,
    "start_time": "2022-05-31T15:40:19.568Z"
   },
   {
    "duration": 83,
    "start_time": "2022-05-31T15:40:19.596Z"
   },
   {
    "duration": 43,
    "start_time": "2022-05-31T15:40:19.681Z"
   },
   {
    "duration": 32,
    "start_time": "2022-05-31T15:40:19.726Z"
   },
   {
    "duration": 4,
    "start_time": "2022-05-31T15:40:19.760Z"
   },
   {
    "duration": 19,
    "start_time": "2022-05-31T15:40:19.766Z"
   },
   {
    "duration": 52,
    "start_time": "2022-05-31T15:40:19.787Z"
   },
   {
    "duration": 4,
    "start_time": "2022-05-31T15:40:19.841Z"
   },
   {
    "duration": 9,
    "start_time": "2022-05-31T15:40:19.847Z"
   },
   {
    "duration": 34,
    "start_time": "2022-05-31T15:40:19.858Z"
   },
   {
    "duration": 4,
    "start_time": "2022-05-31T15:41:26.655Z"
   },
   {
    "duration": 5,
    "start_time": "2022-05-31T15:42:10.634Z"
   },
   {
    "duration": 17,
    "start_time": "2022-05-31T15:42:20.330Z"
   },
   {
    "duration": 1154,
    "start_time": "2022-05-31T15:42:55.933Z"
   },
   {
    "duration": 3,
    "start_time": "2022-05-31T15:42:57.089Z"
   },
   {
    "duration": 63,
    "start_time": "2022-05-31T15:42:57.093Z"
   },
   {
    "duration": 185,
    "start_time": "2022-05-31T15:42:57.158Z"
   },
   {
    "duration": 108,
    "start_time": "2022-05-31T15:42:57.344Z"
   },
   {
    "duration": 151,
    "start_time": "2022-05-31T15:42:57.454Z"
   },
   {
    "duration": 26,
    "start_time": "2022-05-31T15:42:57.607Z"
   },
   {
    "duration": 127,
    "start_time": "2022-05-31T15:42:57.634Z"
   },
   {
    "duration": 139,
    "start_time": "2022-05-31T15:42:57.763Z"
   },
   {
    "duration": 36,
    "start_time": "2022-05-31T15:42:57.905Z"
   },
   {
    "duration": 66,
    "start_time": "2022-05-31T15:42:57.943Z"
   },
   {
    "duration": 45,
    "start_time": "2022-05-31T15:42:58.010Z"
   },
   {
    "duration": 27,
    "start_time": "2022-05-31T15:42:58.057Z"
   },
   {
    "duration": 3,
    "start_time": "2022-05-31T15:42:58.086Z"
   },
   {
    "duration": 38,
    "start_time": "2022-05-31T15:42:58.091Z"
   },
   {
    "duration": 26,
    "start_time": "2022-05-31T15:42:58.131Z"
   },
   {
    "duration": 4,
    "start_time": "2022-05-31T15:42:58.159Z"
   },
   {
    "duration": 7,
    "start_time": "2022-05-31T15:42:58.165Z"
   },
   {
    "duration": 50,
    "start_time": "2022-05-31T15:42:58.174Z"
   },
   {
    "duration": 4,
    "start_time": "2022-05-31T15:42:58.226Z"
   },
   {
    "duration": 17,
    "start_time": "2022-05-31T15:42:58.232Z"
   },
   {
    "duration": 31,
    "start_time": "2022-05-31T15:43:55.352Z"
   },
   {
    "duration": 34,
    "start_time": "2022-05-31T15:48:16.502Z"
   },
   {
    "duration": 1072,
    "start_time": "2022-05-31T15:48:33.282Z"
   },
   {
    "duration": 3,
    "start_time": "2022-05-31T15:48:34.356Z"
   },
   {
    "duration": 65,
    "start_time": "2022-05-31T15:48:34.360Z"
   },
   {
    "duration": 169,
    "start_time": "2022-05-31T15:48:34.427Z"
   },
   {
    "duration": 103,
    "start_time": "2022-05-31T15:48:34.598Z"
   },
   {
    "duration": 153,
    "start_time": "2022-05-31T15:48:34.703Z"
   },
   {
    "duration": 30,
    "start_time": "2022-05-31T15:48:34.857Z"
   },
   {
    "duration": 153,
    "start_time": "2022-05-31T15:48:34.888Z"
   },
   {
    "duration": 131,
    "start_time": "2022-05-31T15:48:35.043Z"
   },
   {
    "duration": 23,
    "start_time": "2022-05-31T15:48:35.176Z"
   },
   {
    "duration": 85,
    "start_time": "2022-05-31T15:48:35.201Z"
   },
   {
    "duration": 41,
    "start_time": "2022-05-31T15:48:35.288Z"
   },
   {
    "duration": 28,
    "start_time": "2022-05-31T15:48:35.331Z"
   },
   {
    "duration": 4,
    "start_time": "2022-05-31T15:48:35.361Z"
   },
   {
    "duration": 19,
    "start_time": "2022-05-31T15:48:35.366Z"
   },
   {
    "duration": 58,
    "start_time": "2022-05-31T15:48:35.386Z"
   },
   {
    "duration": 4,
    "start_time": "2022-05-31T15:48:35.446Z"
   },
   {
    "duration": 23,
    "start_time": "2022-05-31T15:48:35.452Z"
   },
   {
    "duration": 33,
    "start_time": "2022-05-31T15:48:35.477Z"
   },
   {
    "duration": 13,
    "start_time": "2022-05-31T15:48:35.512Z"
   },
   {
    "duration": 19,
    "start_time": "2022-05-31T15:48:35.526Z"
   },
   {
    "duration": 32,
    "start_time": "2022-05-31T15:48:35.547Z"
   },
   {
    "duration": 1175,
    "start_time": "2022-05-31T15:49:26.004Z"
   },
   {
    "duration": 4,
    "start_time": "2022-05-31T15:49:27.181Z"
   },
   {
    "duration": 57,
    "start_time": "2022-05-31T15:49:27.187Z"
   },
   {
    "duration": 172,
    "start_time": "2022-05-31T15:49:27.246Z"
   },
   {
    "duration": 104,
    "start_time": "2022-05-31T15:49:27.423Z"
   },
   {
    "duration": 148,
    "start_time": "2022-05-31T15:49:27.529Z"
   },
   {
    "duration": 36,
    "start_time": "2022-05-31T15:49:27.679Z"
   },
   {
    "duration": 133,
    "start_time": "2022-05-31T15:49:27.717Z"
   },
   {
    "duration": 131,
    "start_time": "2022-05-31T15:49:27.852Z"
   },
   {
    "duration": 23,
    "start_time": "2022-05-31T15:49:27.985Z"
   },
   {
    "duration": 61,
    "start_time": "2022-05-31T15:49:28.023Z"
   },
   {
    "duration": 49,
    "start_time": "2022-05-31T15:49:28.086Z"
   },
   {
    "duration": 28,
    "start_time": "2022-05-31T15:49:28.137Z"
   },
   {
    "duration": 3,
    "start_time": "2022-05-31T15:49:28.167Z"
   },
   {
    "duration": 17,
    "start_time": "2022-05-31T15:49:28.172Z"
   },
   {
    "duration": 4,
    "start_time": "2022-05-31T15:49:28.191Z"
   },
   {
    "duration": 120,
    "start_time": "2022-05-31T15:49:28.196Z"
   },
   {
    "duration": 0,
    "start_time": "2022-05-31T15:49:28.317Z"
   },
   {
    "duration": 0,
    "start_time": "2022-05-31T15:49:28.323Z"
   },
   {
    "duration": 0,
    "start_time": "2022-05-31T15:49:28.324Z"
   },
   {
    "duration": 0,
    "start_time": "2022-05-31T15:49:28.326Z"
   },
   {
    "duration": 0,
    "start_time": "2022-05-31T15:49:28.327Z"
   },
   {
    "duration": 35,
    "start_time": "2022-05-31T15:49:56.409Z"
   },
   {
    "duration": 29,
    "start_time": "2022-05-31T15:50:10.705Z"
   },
   {
    "duration": 29,
    "start_time": "2022-05-31T15:51:00.676Z"
   },
   {
    "duration": 5,
    "start_time": "2022-05-31T15:55:53.228Z"
   },
   {
    "duration": 1141,
    "start_time": "2022-05-31T15:56:13.122Z"
   },
   {
    "duration": 3,
    "start_time": "2022-05-31T15:56:14.265Z"
   },
   {
    "duration": 59,
    "start_time": "2022-05-31T15:56:14.269Z"
   },
   {
    "duration": 177,
    "start_time": "2022-05-31T15:56:14.330Z"
   },
   {
    "duration": 106,
    "start_time": "2022-05-31T15:56:14.509Z"
   },
   {
    "duration": 157,
    "start_time": "2022-05-31T15:56:14.616Z"
   },
   {
    "duration": 26,
    "start_time": "2022-05-31T15:56:14.774Z"
   },
   {
    "duration": 144,
    "start_time": "2022-05-31T15:56:14.802Z"
   },
   {
    "duration": 137,
    "start_time": "2022-05-31T15:56:14.947Z"
   },
   {
    "duration": 37,
    "start_time": "2022-05-31T15:56:15.086Z"
   },
   {
    "duration": 3,
    "start_time": "2022-05-31T15:56:15.125Z"
   },
   {
    "duration": 76,
    "start_time": "2022-05-31T15:56:15.130Z"
   },
   {
    "duration": 40,
    "start_time": "2022-05-31T15:56:15.207Z"
   },
   {
    "duration": 28,
    "start_time": "2022-05-31T15:56:15.248Z"
   },
   {
    "duration": 4,
    "start_time": "2022-05-31T15:56:15.277Z"
   },
   {
    "duration": 23,
    "start_time": "2022-05-31T15:56:15.283Z"
   },
   {
    "duration": 16,
    "start_time": "2022-05-31T15:56:15.308Z"
   },
   {
    "duration": 8,
    "start_time": "2022-05-31T15:56:15.325Z"
   },
   {
    "duration": 16,
    "start_time": "2022-05-31T15:56:15.334Z"
   },
   {
    "duration": 41,
    "start_time": "2022-05-31T15:56:15.352Z"
   },
   {
    "duration": 5,
    "start_time": "2022-05-31T15:56:15.394Z"
   },
   {
    "duration": 30,
    "start_time": "2022-05-31T15:56:15.400Z"
   },
   {
    "duration": 42,
    "start_time": "2022-05-31T15:56:15.432Z"
   },
   {
    "duration": 29,
    "start_time": "2022-05-31T15:56:15.475Z"
   },
   {
    "duration": 7,
    "start_time": "2022-05-31T15:56:15.506Z"
   },
   {
    "duration": 33,
    "start_time": "2022-05-31T15:56:25.823Z"
   },
   {
    "duration": 5,
    "start_time": "2022-05-31T15:57:13.385Z"
   },
   {
    "duration": 4,
    "start_time": "2022-05-31T16:02:00.411Z"
   },
   {
    "duration": 32,
    "start_time": "2022-05-31T16:02:12.318Z"
   },
   {
    "duration": 14,
    "start_time": "2022-05-31T16:02:20.776Z"
   },
   {
    "duration": 279,
    "start_time": "2022-05-31T16:04:02.344Z"
   },
   {
    "duration": 158,
    "start_time": "2022-05-31T16:04:23.480Z"
   },
   {
    "duration": 17,
    "start_time": "2022-05-31T16:05:51.008Z"
   },
   {
    "duration": 13,
    "start_time": "2022-05-31T16:32:55.149Z"
   },
   {
    "duration": 29,
    "start_time": "2022-05-31T16:33:08.224Z"
   },
   {
    "duration": 1130,
    "start_time": "2022-05-31T16:33:34.737Z"
   },
   {
    "duration": 2,
    "start_time": "2022-05-31T16:33:35.869Z"
   },
   {
    "duration": 78,
    "start_time": "2022-05-31T16:33:35.873Z"
   },
   {
    "duration": 195,
    "start_time": "2022-05-31T16:33:35.953Z"
   },
   {
    "duration": 118,
    "start_time": "2022-05-31T16:33:36.149Z"
   },
   {
    "duration": 168,
    "start_time": "2022-05-31T16:33:36.269Z"
   },
   {
    "duration": 25,
    "start_time": "2022-05-31T16:33:36.439Z"
   },
   {
    "duration": 158,
    "start_time": "2022-05-31T16:33:36.465Z"
   },
   {
    "duration": 140,
    "start_time": "2022-05-31T16:33:36.625Z"
   },
   {
    "duration": 24,
    "start_time": "2022-05-31T16:33:36.767Z"
   },
   {
    "duration": 3,
    "start_time": "2022-05-31T16:33:36.793Z"
   },
   {
    "duration": 94,
    "start_time": "2022-05-31T16:33:36.797Z"
   },
   {
    "duration": 51,
    "start_time": "2022-05-31T16:33:36.893Z"
   },
   {
    "duration": 28,
    "start_time": "2022-05-31T16:33:36.946Z"
   },
   {
    "duration": 4,
    "start_time": "2022-05-31T16:33:36.976Z"
   },
   {
    "duration": 30,
    "start_time": "2022-05-31T16:33:36.981Z"
   },
   {
    "duration": 20,
    "start_time": "2022-05-31T16:33:37.013Z"
   },
   {
    "duration": 14,
    "start_time": "2022-05-31T16:33:37.036Z"
   },
   {
    "duration": 40,
    "start_time": "2022-05-31T16:33:37.052Z"
   },
   {
    "duration": 41,
    "start_time": "2022-05-31T16:33:37.094Z"
   },
   {
    "duration": 6,
    "start_time": "2022-05-31T16:33:37.137Z"
   },
   {
    "duration": 26,
    "start_time": "2022-05-31T16:33:37.145Z"
   },
   {
    "duration": 50,
    "start_time": "2022-05-31T16:33:37.173Z"
   },
   {
    "duration": 39,
    "start_time": "2022-05-31T16:33:37.225Z"
   },
   {
    "duration": 34,
    "start_time": "2022-05-31T16:33:37.265Z"
   },
   {
    "duration": 23,
    "start_time": "2022-05-31T16:33:37.301Z"
   },
   {
    "duration": 146,
    "start_time": "2022-05-31T16:33:37.326Z"
   },
   {
    "duration": 0,
    "start_time": "2022-05-31T16:33:37.474Z"
   },
   {
    "duration": 28,
    "start_time": "2022-05-31T18:02:39.301Z"
   },
   {
    "duration": 49,
    "start_time": "2022-05-31T18:03:17.711Z"
   },
   {
    "duration": 1172,
    "start_time": "2022-05-31T18:03:26.910Z"
   },
   {
    "duration": 4,
    "start_time": "2022-05-31T18:03:28.084Z"
   },
   {
    "duration": 97,
    "start_time": "2022-05-31T18:03:28.090Z"
   },
   {
    "duration": 226,
    "start_time": "2022-05-31T18:03:28.188Z"
   },
   {
    "duration": 281,
    "start_time": "2022-05-31T18:03:28.415Z"
   },
   {
    "duration": 294,
    "start_time": "2022-05-31T18:03:28.697Z"
   },
   {
    "duration": 68,
    "start_time": "2022-05-31T18:03:28.992Z"
   },
   {
    "duration": 130,
    "start_time": "2022-05-31T18:03:29.062Z"
   },
   {
    "duration": 165,
    "start_time": "2022-05-31T18:03:29.194Z"
   },
   {
    "duration": 21,
    "start_time": "2022-05-31T18:03:29.361Z"
   },
   {
    "duration": 3,
    "start_time": "2022-05-31T18:03:29.384Z"
   },
   {
    "duration": 81,
    "start_time": "2022-05-31T18:03:29.389Z"
   },
   {
    "duration": 34,
    "start_time": "2022-05-31T18:03:29.472Z"
   },
   {
    "duration": 46,
    "start_time": "2022-05-31T18:03:29.508Z"
   },
   {
    "duration": 4,
    "start_time": "2022-05-31T18:03:29.556Z"
   },
   {
    "duration": 27,
    "start_time": "2022-05-31T18:03:29.562Z"
   },
   {
    "duration": 5,
    "start_time": "2022-05-31T18:03:29.591Z"
   },
   {
    "duration": 5,
    "start_time": "2022-05-31T18:03:29.597Z"
   },
   {
    "duration": 6,
    "start_time": "2022-05-31T18:03:29.603Z"
   },
   {
    "duration": 43,
    "start_time": "2022-05-31T18:03:29.610Z"
   },
   {
    "duration": 4,
    "start_time": "2022-05-31T18:03:29.655Z"
   },
   {
    "duration": 16,
    "start_time": "2022-05-31T18:03:29.660Z"
   },
   {
    "duration": 28,
    "start_time": "2022-05-31T18:03:29.678Z"
   },
   {
    "duration": 50,
    "start_time": "2022-05-31T18:03:29.708Z"
   },
   {
    "duration": 30,
    "start_time": "2022-05-31T18:03:29.759Z"
   },
   {
    "duration": 5,
    "start_time": "2022-05-31T18:03:29.790Z"
   },
   {
    "duration": 18,
    "start_time": "2022-05-31T18:03:29.797Z"
   },
   {
    "duration": 145,
    "start_time": "2022-05-31T18:03:29.818Z"
   },
   {
    "duration": 25,
    "start_time": "2022-05-31T18:04:23.314Z"
   },
   {
    "duration": 14,
    "start_time": "2022-05-31T18:04:27.425Z"
   },
   {
    "duration": 1076,
    "start_time": "2022-05-31T18:04:56.623Z"
   },
   {
    "duration": 2,
    "start_time": "2022-05-31T18:04:57.701Z"
   },
   {
    "duration": 62,
    "start_time": "2022-05-31T18:04:57.705Z"
   },
   {
    "duration": 164,
    "start_time": "2022-05-31T18:04:57.770Z"
   },
   {
    "duration": 99,
    "start_time": "2022-05-31T18:04:57.935Z"
   },
   {
    "duration": 147,
    "start_time": "2022-05-31T18:04:58.035Z"
   },
   {
    "duration": 27,
    "start_time": "2022-05-31T18:04:58.184Z"
   },
   {
    "duration": 150,
    "start_time": "2022-05-31T18:04:58.213Z"
   },
   {
    "duration": 144,
    "start_time": "2022-05-31T18:04:58.365Z"
   },
   {
    "duration": 21,
    "start_time": "2022-05-31T18:04:58.511Z"
   },
   {
    "duration": 21,
    "start_time": "2022-05-31T18:04:58.533Z"
   },
   {
    "duration": 64,
    "start_time": "2022-05-31T18:04:58.555Z"
   },
   {
    "duration": 35,
    "start_time": "2022-05-31T18:04:58.621Z"
   },
   {
    "duration": 25,
    "start_time": "2022-05-31T18:04:58.658Z"
   },
   {
    "duration": 4,
    "start_time": "2022-05-31T18:04:58.684Z"
   },
   {
    "duration": 17,
    "start_time": "2022-05-31T18:04:58.689Z"
   },
   {
    "duration": 8,
    "start_time": "2022-05-31T18:04:58.708Z"
   },
   {
    "duration": 7,
    "start_time": "2022-05-31T18:04:58.718Z"
   },
   {
    "duration": 26,
    "start_time": "2022-05-31T18:04:58.726Z"
   },
   {
    "duration": 44,
    "start_time": "2022-05-31T18:04:58.754Z"
   },
   {
    "duration": 4,
    "start_time": "2022-05-31T18:04:58.800Z"
   },
   {
    "duration": 20,
    "start_time": "2022-05-31T18:04:58.805Z"
   },
   {
    "duration": 43,
    "start_time": "2022-05-31T18:04:58.826Z"
   },
   {
    "duration": 31,
    "start_time": "2022-05-31T18:04:58.871Z"
   },
   {
    "duration": 48,
    "start_time": "2022-05-31T18:04:58.904Z"
   },
   {
    "duration": 5,
    "start_time": "2022-05-31T18:04:58.953Z"
   },
   {
    "duration": 18,
    "start_time": "2022-05-31T18:04:58.959Z"
   },
   {
    "duration": 142,
    "start_time": "2022-05-31T18:04:58.980Z"
   },
   {
    "duration": 21,
    "start_time": "2022-05-31T18:16:01.849Z"
   },
   {
    "duration": 23,
    "start_time": "2022-05-31T18:20:15.364Z"
   },
   {
    "duration": 1249,
    "start_time": "2022-06-01T19:18:43.999Z"
   },
   {
    "duration": 3,
    "start_time": "2022-06-01T19:18:45.250Z"
   },
   {
    "duration": 105,
    "start_time": "2022-06-01T19:18:45.254Z"
   },
   {
    "duration": 232,
    "start_time": "2022-06-01T19:18:45.361Z"
   },
   {
    "duration": 316,
    "start_time": "2022-06-01T19:18:45.594Z"
   },
   {
    "duration": 310,
    "start_time": "2022-06-01T19:18:45.911Z"
   },
   {
    "duration": 77,
    "start_time": "2022-06-01T19:18:46.223Z"
   },
   {
    "duration": 159,
    "start_time": "2022-06-01T19:18:46.302Z"
   },
   {
    "duration": 132,
    "start_time": "2022-06-01T19:18:46.463Z"
   },
   {
    "duration": 33,
    "start_time": "2022-06-01T19:18:46.598Z"
   },
   {
    "duration": 2,
    "start_time": "2022-06-01T19:18:46.633Z"
   },
   {
    "duration": 63,
    "start_time": "2022-06-01T19:18:46.637Z"
   },
   {
    "duration": 43,
    "start_time": "2022-06-01T19:18:46.701Z"
   },
   {
    "duration": 26,
    "start_time": "2022-06-01T19:18:46.745Z"
   },
   {
    "duration": 4,
    "start_time": "2022-06-01T19:18:46.772Z"
   },
   {
    "duration": 20,
    "start_time": "2022-06-01T19:18:46.777Z"
   },
   {
    "duration": 6,
    "start_time": "2022-06-01T19:18:46.799Z"
   },
   {
    "duration": 5,
    "start_time": "2022-06-01T19:18:46.806Z"
   },
   {
    "duration": 7,
    "start_time": "2022-06-01T19:18:46.812Z"
   },
   {
    "duration": 32,
    "start_time": "2022-06-01T19:18:46.820Z"
   },
   {
    "duration": 3,
    "start_time": "2022-06-01T19:18:46.853Z"
   },
   {
    "duration": 14,
    "start_time": "2022-06-01T19:18:46.858Z"
   },
   {
    "duration": 28,
    "start_time": "2022-06-01T19:18:46.874Z"
   },
   {
    "duration": 44,
    "start_time": "2022-06-01T19:18:46.904Z"
   },
   {
    "duration": 25,
    "start_time": "2022-06-01T19:18:46.949Z"
   },
   {
    "duration": 4,
    "start_time": "2022-06-01T19:18:46.975Z"
   },
   {
    "duration": 15,
    "start_time": "2022-06-01T19:18:46.980Z"
   },
   {
    "duration": 38,
    "start_time": "2022-06-01T19:18:46.998Z"
   },
   {
    "duration": 1071,
    "start_time": "2022-06-01T19:19:38.073Z"
   },
   {
    "duration": 3,
    "start_time": "2022-06-01T19:19:39.145Z"
   },
   {
    "duration": 71,
    "start_time": "2022-06-01T19:19:39.150Z"
   },
   {
    "duration": 177,
    "start_time": "2022-06-01T19:19:39.223Z"
   },
   {
    "duration": 101,
    "start_time": "2022-06-01T19:19:39.401Z"
   },
   {
    "duration": 141,
    "start_time": "2022-06-01T19:19:39.504Z"
   },
   {
    "duration": 26,
    "start_time": "2022-06-01T19:19:39.646Z"
   },
   {
    "duration": 115,
    "start_time": "2022-06-01T19:19:39.674Z"
   },
   {
    "duration": 148,
    "start_time": "2022-06-01T19:19:39.790Z"
   },
   {
    "duration": 21,
    "start_time": "2022-06-01T19:19:39.940Z"
   },
   {
    "duration": 3,
    "start_time": "2022-06-01T19:19:39.963Z"
   },
   {
    "duration": 99,
    "start_time": "2022-06-01T19:19:39.968Z"
   },
   {
    "duration": 31,
    "start_time": "2022-06-01T19:19:40.069Z"
   },
   {
    "duration": 39,
    "start_time": "2022-06-01T19:19:40.102Z"
   },
   {
    "duration": 4,
    "start_time": "2022-06-01T19:19:40.143Z"
   },
   {
    "duration": 27,
    "start_time": "2022-06-01T19:19:40.148Z"
   },
   {
    "duration": 8,
    "start_time": "2022-06-01T19:19:40.176Z"
   },
   {
    "duration": 6,
    "start_time": "2022-06-01T19:19:40.186Z"
   },
   {
    "duration": 7,
    "start_time": "2022-06-01T19:19:40.193Z"
   },
   {
    "duration": 30,
    "start_time": "2022-06-01T19:19:40.202Z"
   },
   {
    "duration": 4,
    "start_time": "2022-06-01T19:19:40.233Z"
   },
   {
    "duration": 14,
    "start_time": "2022-06-01T19:19:40.239Z"
   },
   {
    "duration": 30,
    "start_time": "2022-06-01T19:19:40.254Z"
   },
   {
    "duration": 53,
    "start_time": "2022-06-01T19:19:40.286Z"
   },
   {
    "duration": 25,
    "start_time": "2022-06-01T19:19:40.341Z"
   },
   {
    "duration": 4,
    "start_time": "2022-06-01T19:19:40.367Z"
   },
   {
    "duration": 18,
    "start_time": "2022-06-01T19:19:40.373Z"
   },
   {
    "duration": 38,
    "start_time": "2022-06-01T19:19:40.394Z"
   },
   {
    "duration": 6,
    "start_time": "2022-06-01T19:21:22.896Z"
   },
   {
    "duration": 104,
    "start_time": "2022-06-01T19:21:30.327Z"
   },
   {
    "duration": 989,
    "start_time": "2022-06-01T19:21:39.763Z"
   },
   {
    "duration": 2,
    "start_time": "2022-06-01T19:21:40.754Z"
   },
   {
    "duration": 62,
    "start_time": "2022-06-01T19:21:40.757Z"
   },
   {
    "duration": 162,
    "start_time": "2022-06-01T19:21:40.821Z"
   },
   {
    "duration": 100,
    "start_time": "2022-06-01T19:21:40.986Z"
   },
   {
    "duration": 140,
    "start_time": "2022-06-01T19:21:41.088Z"
   },
   {
    "duration": 27,
    "start_time": "2022-06-01T19:21:41.229Z"
   },
   {
    "duration": 128,
    "start_time": "2022-06-01T19:21:41.257Z"
   },
   {
    "duration": 142,
    "start_time": "2022-06-01T19:21:41.386Z"
   },
   {
    "duration": 21,
    "start_time": "2022-06-01T19:21:41.530Z"
   },
   {
    "duration": 4,
    "start_time": "2022-06-01T19:21:41.553Z"
   },
   {
    "duration": 80,
    "start_time": "2022-06-01T19:21:41.558Z"
   },
   {
    "duration": 28,
    "start_time": "2022-06-01T19:21:41.640Z"
   },
   {
    "duration": 25,
    "start_time": "2022-06-01T19:21:41.671Z"
   },
   {
    "duration": 4,
    "start_time": "2022-06-01T19:21:41.697Z"
   },
   {
    "duration": 15,
    "start_time": "2022-06-01T19:21:41.727Z"
   },
   {
    "duration": 6,
    "start_time": "2022-06-01T19:21:41.743Z"
   },
   {
    "duration": 5,
    "start_time": "2022-06-01T19:21:41.750Z"
   },
   {
    "duration": 4,
    "start_time": "2022-06-01T19:21:41.756Z"
   },
   {
    "duration": 29,
    "start_time": "2022-06-01T19:21:41.762Z"
   },
   {
    "duration": 4,
    "start_time": "2022-06-01T19:21:41.792Z"
   },
   {
    "duration": 33,
    "start_time": "2022-06-01T19:21:41.798Z"
   },
   {
    "duration": 28,
    "start_time": "2022-06-01T19:21:41.832Z"
   },
   {
    "duration": 29,
    "start_time": "2022-06-01T19:21:41.862Z"
   },
   {
    "duration": 45,
    "start_time": "2022-06-01T19:21:41.892Z"
   },
   {
    "duration": 5,
    "start_time": "2022-06-01T19:21:41.938Z"
   },
   {
    "duration": 18,
    "start_time": "2022-06-01T19:21:41.944Z"
   },
   {
    "duration": 17,
    "start_time": "2022-06-01T19:21:41.963Z"
   },
   {
    "duration": 49,
    "start_time": "2022-06-01T19:21:41.981Z"
   },
   {
    "duration": 1214,
    "start_time": "2022-06-02T13:48:29.462Z"
   },
   {
    "duration": 3,
    "start_time": "2022-06-02T13:48:30.678Z"
   },
   {
    "duration": 149,
    "start_time": "2022-06-02T13:48:30.682Z"
   },
   {
    "duration": 258,
    "start_time": "2022-06-02T13:48:30.832Z"
   },
   {
    "duration": 312,
    "start_time": "2022-06-02T13:48:31.091Z"
   },
   {
    "duration": 322,
    "start_time": "2022-06-02T13:48:31.404Z"
   },
   {
    "duration": 72,
    "start_time": "2022-06-02T13:48:31.728Z"
   },
   {
    "duration": 143,
    "start_time": "2022-06-02T13:48:31.801Z"
   },
   {
    "duration": 138,
    "start_time": "2022-06-02T13:48:31.947Z"
   },
   {
    "duration": 129,
    "start_time": "2022-06-02T13:48:32.089Z"
   },
   {
    "duration": 0,
    "start_time": "2022-06-02T13:48:32.220Z"
   },
   {
    "duration": 0,
    "start_time": "2022-06-02T13:48:32.222Z"
   },
   {
    "duration": 0,
    "start_time": "2022-06-02T13:48:32.223Z"
   },
   {
    "duration": 0,
    "start_time": "2022-06-02T13:48:32.223Z"
   },
   {
    "duration": 0,
    "start_time": "2022-06-02T13:48:32.225Z"
   },
   {
    "duration": 0,
    "start_time": "2022-06-02T13:48:32.226Z"
   },
   {
    "duration": 0,
    "start_time": "2022-06-02T13:48:32.229Z"
   },
   {
    "duration": 0,
    "start_time": "2022-06-02T13:48:32.245Z"
   },
   {
    "duration": 0,
    "start_time": "2022-06-02T13:48:32.247Z"
   },
   {
    "duration": 0,
    "start_time": "2022-06-02T13:48:32.248Z"
   },
   {
    "duration": 0,
    "start_time": "2022-06-02T13:48:32.249Z"
   },
   {
    "duration": 0,
    "start_time": "2022-06-02T13:48:32.250Z"
   },
   {
    "duration": 0,
    "start_time": "2022-06-02T13:48:32.252Z"
   },
   {
    "duration": 0,
    "start_time": "2022-06-02T13:48:32.254Z"
   },
   {
    "duration": 0,
    "start_time": "2022-06-02T13:48:32.256Z"
   },
   {
    "duration": 0,
    "start_time": "2022-06-02T13:48:32.257Z"
   },
   {
    "duration": 0,
    "start_time": "2022-06-02T13:48:32.259Z"
   },
   {
    "duration": 0,
    "start_time": "2022-06-02T13:48:32.260Z"
   },
   {
    "duration": 0,
    "start_time": "2022-06-02T13:48:32.262Z"
   },
   {
    "duration": 1116,
    "start_time": "2022-06-02T13:53:43.659Z"
   },
   {
    "duration": 2,
    "start_time": "2022-06-02T13:53:44.777Z"
   },
   {
    "duration": 76,
    "start_time": "2022-06-02T13:53:44.781Z"
   },
   {
    "duration": 179,
    "start_time": "2022-06-02T13:53:44.859Z"
   },
   {
    "duration": 111,
    "start_time": "2022-06-02T13:53:45.040Z"
   },
   {
    "duration": 175,
    "start_time": "2022-06-02T13:53:45.153Z"
   },
   {
    "duration": 36,
    "start_time": "2022-06-02T13:53:45.330Z"
   },
   {
    "duration": 144,
    "start_time": "2022-06-02T13:53:45.368Z"
   },
   {
    "duration": 161,
    "start_time": "2022-06-02T13:53:45.514Z"
   },
   {
    "duration": 3,
    "start_time": "2022-06-02T13:53:45.678Z"
   },
   {
    "duration": 98,
    "start_time": "2022-06-02T13:53:45.683Z"
   },
   {
    "duration": 29,
    "start_time": "2022-06-02T13:53:45.782Z"
   },
   {
    "duration": 53,
    "start_time": "2022-06-02T13:53:45.812Z"
   },
   {
    "duration": 4,
    "start_time": "2022-06-02T13:53:45.867Z"
   },
   {
    "duration": 49,
    "start_time": "2022-06-02T13:53:45.872Z"
   },
   {
    "duration": 10,
    "start_time": "2022-06-02T13:53:45.923Z"
   },
   {
    "duration": 21,
    "start_time": "2022-06-02T13:53:45.934Z"
   },
   {
    "duration": 21,
    "start_time": "2022-06-02T13:53:45.957Z"
   },
   {
    "duration": 37,
    "start_time": "2022-06-02T13:53:45.979Z"
   },
   {
    "duration": 13,
    "start_time": "2022-06-02T13:53:46.017Z"
   },
   {
    "duration": 50,
    "start_time": "2022-06-02T13:53:46.031Z"
   },
   {
    "duration": 37,
    "start_time": "2022-06-02T13:53:46.082Z"
   },
   {
    "duration": 37,
    "start_time": "2022-06-02T13:53:46.120Z"
   },
   {
    "duration": 31,
    "start_time": "2022-06-02T13:53:46.159Z"
   },
   {
    "duration": 5,
    "start_time": "2022-06-02T13:53:46.191Z"
   },
   {
    "duration": 34,
    "start_time": "2022-06-02T13:53:46.198Z"
   },
   {
    "duration": 45,
    "start_time": "2022-06-02T13:53:46.234Z"
   },
   {
    "duration": 34,
    "start_time": "2022-06-02T13:53:46.281Z"
   },
   {
    "duration": 9,
    "start_time": "2022-06-02T14:11:20.396Z"
   },
   {
    "duration": 8,
    "start_time": "2022-06-02T14:13:31.094Z"
   },
   {
    "duration": 1128,
    "start_time": "2022-06-02T14:13:42.858Z"
   },
   {
    "duration": 3,
    "start_time": "2022-06-02T14:13:43.988Z"
   },
   {
    "duration": 80,
    "start_time": "2022-06-02T14:13:43.992Z"
   },
   {
    "duration": 193,
    "start_time": "2022-06-02T14:13:44.073Z"
   },
   {
    "duration": 109,
    "start_time": "2022-06-02T14:13:44.269Z"
   },
   {
    "duration": 153,
    "start_time": "2022-06-02T14:13:44.379Z"
   },
   {
    "duration": 33,
    "start_time": "2022-06-02T14:13:44.534Z"
   },
   {
    "duration": 133,
    "start_time": "2022-06-02T14:13:44.568Z"
   },
   {
    "duration": 148,
    "start_time": "2022-06-02T14:13:44.702Z"
   },
   {
    "duration": 4,
    "start_time": "2022-06-02T14:13:44.852Z"
   },
   {
    "duration": 70,
    "start_time": "2022-06-02T14:13:44.857Z"
   },
   {
    "duration": 48,
    "start_time": "2022-06-02T14:13:44.929Z"
   },
   {
    "duration": 29,
    "start_time": "2022-06-02T14:13:44.978Z"
   },
   {
    "duration": 5,
    "start_time": "2022-06-02T14:13:45.011Z"
   },
   {
    "duration": 79,
    "start_time": "2022-06-02T14:13:45.018Z"
   },
   {
    "duration": 5,
    "start_time": "2022-06-02T14:13:45.098Z"
   },
   {
    "duration": 8,
    "start_time": "2022-06-02T14:13:45.104Z"
   },
   {
    "duration": 6,
    "start_time": "2022-06-02T14:13:45.113Z"
   },
   {
    "duration": 31,
    "start_time": "2022-06-02T14:13:45.120Z"
   },
   {
    "duration": 5,
    "start_time": "2022-06-02T14:13:45.154Z"
   },
   {
    "duration": 18,
    "start_time": "2022-06-02T14:13:45.161Z"
   },
   {
    "duration": 31,
    "start_time": "2022-06-02T14:13:45.181Z"
   },
   {
    "duration": 52,
    "start_time": "2022-06-02T14:13:45.213Z"
   },
   {
    "duration": 29,
    "start_time": "2022-06-02T14:13:45.266Z"
   },
   {
    "duration": 5,
    "start_time": "2022-06-02T14:13:45.296Z"
   },
   {
    "duration": 22,
    "start_time": "2022-06-02T14:13:45.302Z"
   },
   {
    "duration": 40,
    "start_time": "2022-06-02T14:13:45.325Z"
   },
   {
    "duration": 21,
    "start_time": "2022-06-02T14:13:45.367Z"
   },
   {
    "duration": 8,
    "start_time": "2022-06-02T14:13:45.390Z"
   },
   {
    "duration": 5,
    "start_time": "2022-06-02T14:13:45.399Z"
   },
   {
    "duration": 7,
    "start_time": "2022-06-02T14:14:16.634Z"
   },
   {
    "duration": 4,
    "start_time": "2022-06-02T14:21:31.432Z"
   },
   {
    "duration": 114,
    "start_time": "2022-06-02T14:21:41.241Z"
   },
   {
    "duration": 3,
    "start_time": "2022-06-02T14:21:45.663Z"
   },
   {
    "duration": 1260,
    "start_time": "2022-06-02T14:22:37.457Z"
   },
   {
    "duration": 3,
    "start_time": "2022-06-02T14:22:38.719Z"
   },
   {
    "duration": 18,
    "start_time": "2022-06-02T14:22:38.725Z"
   },
   {
    "duration": 68,
    "start_time": "2022-06-02T14:22:38.745Z"
   },
   {
    "duration": 176,
    "start_time": "2022-06-02T14:22:38.815Z"
   },
   {
    "duration": 106,
    "start_time": "2022-06-02T14:22:38.993Z"
   },
   {
    "duration": 163,
    "start_time": "2022-06-02T14:22:39.101Z"
   },
   {
    "duration": 28,
    "start_time": "2022-06-02T14:22:39.266Z"
   },
   {
    "duration": 152,
    "start_time": "2022-06-02T14:22:39.295Z"
   },
   {
    "duration": 135,
    "start_time": "2022-06-02T14:22:39.449Z"
   },
   {
    "duration": 5,
    "start_time": "2022-06-02T14:22:39.586Z"
   },
   {
    "duration": 83,
    "start_time": "2022-06-02T14:22:39.593Z"
   },
   {
    "duration": 32,
    "start_time": "2022-06-02T14:22:39.678Z"
   },
   {
    "duration": 49,
    "start_time": "2022-06-02T14:22:39.711Z"
   },
   {
    "duration": 5,
    "start_time": "2022-06-02T14:22:39.761Z"
   },
   {
    "duration": 21,
    "start_time": "2022-06-02T14:22:39.768Z"
   },
   {
    "duration": 9,
    "start_time": "2022-06-02T14:22:39.791Z"
   },
   {
    "duration": 19,
    "start_time": "2022-06-02T14:22:39.802Z"
   },
   {
    "duration": 8,
    "start_time": "2022-06-02T14:22:39.823Z"
   },
   {
    "duration": 31,
    "start_time": "2022-06-02T14:22:39.833Z"
   },
   {
    "duration": 5,
    "start_time": "2022-06-02T14:22:39.865Z"
   },
   {
    "duration": 28,
    "start_time": "2022-06-02T14:22:39.871Z"
   },
   {
    "duration": 39,
    "start_time": "2022-06-02T14:22:39.901Z"
   },
   {
    "duration": 29,
    "start_time": "2022-06-02T14:22:39.944Z"
   },
   {
    "duration": 30,
    "start_time": "2022-06-02T14:22:39.975Z"
   },
   {
    "duration": 4,
    "start_time": "2022-06-02T14:22:40.007Z"
   },
   {
    "duration": 15,
    "start_time": "2022-06-02T14:22:40.044Z"
   },
   {
    "duration": 20,
    "start_time": "2022-06-02T14:22:40.062Z"
   },
   {
    "duration": 38,
    "start_time": "2022-06-02T14:22:40.084Z"
   },
   {
    "duration": 7,
    "start_time": "2022-06-02T14:22:40.124Z"
   },
   {
    "duration": 13,
    "start_time": "2022-06-02T14:22:40.132Z"
   },
   {
    "duration": 170,
    "start_time": "2022-06-02T14:26:22.136Z"
   },
   {
    "duration": 13,
    "start_time": "2022-06-02T14:26:27.256Z"
   },
   {
    "duration": 18,
    "start_time": "2022-06-02T14:49:16.354Z"
   },
   {
    "duration": 1173,
    "start_time": "2022-06-02T14:49:30.937Z"
   },
   {
    "duration": 3,
    "start_time": "2022-06-02T14:49:32.116Z"
   },
   {
    "duration": 28,
    "start_time": "2022-06-02T14:49:32.120Z"
   },
   {
    "duration": 77,
    "start_time": "2022-06-02T14:49:32.152Z"
   },
   {
    "duration": 214,
    "start_time": "2022-06-02T14:49:32.232Z"
   },
   {
    "duration": 109,
    "start_time": "2022-06-02T14:49:32.449Z"
   },
   {
    "duration": 169,
    "start_time": "2022-06-02T14:49:32.560Z"
   },
   {
    "duration": 28,
    "start_time": "2022-06-02T14:49:32.731Z"
   },
   {
    "duration": 131,
    "start_time": "2022-06-02T14:49:32.760Z"
   },
   {
    "duration": 150,
    "start_time": "2022-06-02T14:49:32.894Z"
   },
   {
    "duration": 3,
    "start_time": "2022-06-02T14:49:33.046Z"
   },
   {
    "duration": 65,
    "start_time": "2022-06-02T14:49:33.051Z"
   },
   {
    "duration": 65,
    "start_time": "2022-06-02T14:49:33.118Z"
   },
   {
    "duration": 31,
    "start_time": "2022-06-02T14:49:33.185Z"
   },
   {
    "duration": 5,
    "start_time": "2022-06-02T14:49:33.218Z"
   },
   {
    "duration": 33,
    "start_time": "2022-06-02T14:49:33.225Z"
   },
   {
    "duration": 3,
    "start_time": "2022-06-02T14:49:33.260Z"
   },
   {
    "duration": 7,
    "start_time": "2022-06-02T14:49:33.265Z"
   },
   {
    "duration": 5,
    "start_time": "2022-06-02T14:49:33.273Z"
   },
   {
    "duration": 36,
    "start_time": "2022-06-02T14:49:33.279Z"
   },
   {
    "duration": 3,
    "start_time": "2022-06-02T14:49:33.317Z"
   },
   {
    "duration": 38,
    "start_time": "2022-06-02T14:49:33.323Z"
   },
   {
    "duration": 31,
    "start_time": "2022-06-02T14:49:33.363Z"
   },
   {
    "duration": 55,
    "start_time": "2022-06-02T14:49:33.396Z"
   },
   {
    "duration": 35,
    "start_time": "2022-06-02T14:49:33.452Z"
   },
   {
    "duration": 5,
    "start_time": "2022-06-02T14:49:33.489Z"
   },
   {
    "duration": 22,
    "start_time": "2022-06-02T14:49:33.496Z"
   },
   {
    "duration": 19,
    "start_time": "2022-06-02T14:49:33.544Z"
   },
   {
    "duration": 21,
    "start_time": "2022-06-02T14:49:33.565Z"
   },
   {
    "duration": 16,
    "start_time": "2022-06-02T14:49:33.588Z"
   },
   {
    "duration": 10,
    "start_time": "2022-06-02T14:49:33.606Z"
   },
   {
    "duration": 39,
    "start_time": "2022-06-02T14:49:33.618Z"
   },
   {
    "duration": 4,
    "start_time": "2022-06-02T14:49:33.659Z"
   },
   {
    "duration": 4,
    "start_time": "2022-06-02T15:11:11.558Z"
   },
   {
    "duration": 43,
    "start_time": "2022-06-02T15:12:41.593Z"
   },
   {
    "duration": 175,
    "start_time": "2022-06-02T15:14:12.783Z"
   },
   {
    "duration": 119,
    "start_time": "2022-06-02T15:16:01.718Z"
   },
   {
    "duration": 24,
    "start_time": "2022-06-02T15:16:09.002Z"
   },
   {
    "duration": 1102,
    "start_time": "2022-06-02T15:18:57.778Z"
   },
   {
    "duration": 3,
    "start_time": "2022-06-02T15:18:58.882Z"
   },
   {
    "duration": 21,
    "start_time": "2022-06-02T15:18:58.886Z"
   },
   {
    "duration": 116,
    "start_time": "2022-06-02T15:18:58.909Z"
   },
   {
    "duration": 256,
    "start_time": "2022-06-02T15:18:59.027Z"
   },
   {
    "duration": 308,
    "start_time": "2022-06-02T15:18:59.285Z"
   },
   {
    "duration": 316,
    "start_time": "2022-06-02T15:18:59.595Z"
   },
   {
    "duration": 72,
    "start_time": "2022-06-02T15:18:59.913Z"
   },
   {
    "duration": 132,
    "start_time": "2022-06-02T15:18:59.987Z"
   },
   {
    "duration": 147,
    "start_time": "2022-06-02T15:19:00.121Z"
   },
   {
    "duration": 3,
    "start_time": "2022-06-02T15:19:00.270Z"
   },
   {
    "duration": 94,
    "start_time": "2022-06-02T15:19:00.275Z"
   },
   {
    "duration": 30,
    "start_time": "2022-06-02T15:19:00.370Z"
   },
   {
    "duration": 44,
    "start_time": "2022-06-02T15:19:00.402Z"
   },
   {
    "duration": 4,
    "start_time": "2022-06-02T15:19:00.448Z"
   },
   {
    "duration": 29,
    "start_time": "2022-06-02T15:19:00.453Z"
   },
   {
    "duration": 7,
    "start_time": "2022-06-02T15:19:00.483Z"
   },
   {
    "duration": 17,
    "start_time": "2022-06-02T15:19:00.491Z"
   },
   {
    "duration": 12,
    "start_time": "2022-06-02T15:19:00.509Z"
   },
   {
    "duration": 52,
    "start_time": "2022-06-02T15:19:00.523Z"
   },
   {
    "duration": 4,
    "start_time": "2022-06-02T15:19:00.577Z"
   },
   {
    "duration": 51,
    "start_time": "2022-06-02T15:19:00.582Z"
   },
   {
    "duration": 40,
    "start_time": "2022-06-02T15:19:00.635Z"
   },
   {
    "duration": 28,
    "start_time": "2022-06-02T15:19:00.677Z"
   },
   {
    "duration": 28,
    "start_time": "2022-06-02T15:19:00.707Z"
   },
   {
    "duration": 4,
    "start_time": "2022-06-02T15:19:00.745Z"
   },
   {
    "duration": 86,
    "start_time": "2022-06-02T15:19:00.750Z"
   },
   {
    "duration": 178,
    "start_time": "2022-06-02T15:19:00.839Z"
   },
   {
    "duration": 23,
    "start_time": "2022-06-02T15:19:01.020Z"
   },
   {
    "duration": 19,
    "start_time": "2022-06-02T15:19:01.045Z"
   },
   {
    "duration": 26,
    "start_time": "2022-06-02T15:19:01.066Z"
   },
   {
    "duration": 19,
    "start_time": "2022-06-02T15:19:01.094Z"
   },
   {
    "duration": 6,
    "start_time": "2022-06-02T15:19:01.115Z"
   },
   {
    "duration": 173,
    "start_time": "2022-06-02T15:19:01.123Z"
   },
   {
    "duration": 41,
    "start_time": "2022-06-02T15:19:01.297Z"
   },
   {
    "duration": 1105,
    "start_time": "2022-06-02T15:21:39.867Z"
   },
   {
    "duration": 3,
    "start_time": "2022-06-02T15:21:40.974Z"
   },
   {
    "duration": 11,
    "start_time": "2022-06-02T15:21:40.978Z"
   },
   {
    "duration": 95,
    "start_time": "2022-06-02T15:21:40.991Z"
   },
   {
    "duration": 181,
    "start_time": "2022-06-02T15:21:41.088Z"
   },
   {
    "duration": 119,
    "start_time": "2022-06-02T15:21:41.271Z"
   },
   {
    "duration": 169,
    "start_time": "2022-06-02T15:21:41.392Z"
   },
   {
    "duration": 27,
    "start_time": "2022-06-02T15:21:41.562Z"
   },
   {
    "duration": 123,
    "start_time": "2022-06-02T15:21:41.591Z"
   },
   {
    "duration": 147,
    "start_time": "2022-06-02T15:21:41.716Z"
   },
   {
    "duration": 3,
    "start_time": "2022-06-02T15:21:41.865Z"
   },
   {
    "duration": 81,
    "start_time": "2022-06-02T15:21:41.870Z"
   },
   {
    "duration": 34,
    "start_time": "2022-06-02T15:21:41.953Z"
   },
   {
    "duration": 33,
    "start_time": "2022-06-02T15:21:41.989Z"
   },
   {
    "duration": 22,
    "start_time": "2022-06-02T15:21:42.024Z"
   },
   {
    "duration": 21,
    "start_time": "2022-06-02T15:21:42.048Z"
   },
   {
    "duration": 14,
    "start_time": "2022-06-02T15:21:42.072Z"
   },
   {
    "duration": 10,
    "start_time": "2022-06-02T15:21:42.088Z"
   },
   {
    "duration": 29,
    "start_time": "2022-06-02T15:21:42.101Z"
   },
   {
    "duration": 59,
    "start_time": "2022-06-02T15:21:42.132Z"
   },
   {
    "duration": 4,
    "start_time": "2022-06-02T15:21:42.194Z"
   },
   {
    "duration": 22,
    "start_time": "2022-06-02T15:21:42.201Z"
   },
   {
    "duration": 55,
    "start_time": "2022-06-02T15:21:42.225Z"
   },
   {
    "duration": 36,
    "start_time": "2022-06-02T15:21:42.282Z"
   },
   {
    "duration": 55,
    "start_time": "2022-06-02T15:21:42.320Z"
   },
   {
    "duration": 6,
    "start_time": "2022-06-02T15:21:42.377Z"
   },
   {
    "duration": 29,
    "start_time": "2022-06-02T15:21:42.384Z"
   },
   {
    "duration": 29,
    "start_time": "2022-06-02T15:21:42.416Z"
   },
   {
    "duration": 19,
    "start_time": "2022-06-02T15:21:42.447Z"
   },
   {
    "duration": 17,
    "start_time": "2022-06-02T15:21:42.467Z"
   },
   {
    "duration": 17,
    "start_time": "2022-06-02T15:21:42.486Z"
   },
   {
    "duration": 17,
    "start_time": "2022-06-02T15:21:42.505Z"
   },
   {
    "duration": 5,
    "start_time": "2022-06-02T15:21:42.544Z"
   },
   {
    "duration": 126,
    "start_time": "2022-06-02T15:21:42.551Z"
   },
   {
    "duration": 22,
    "start_time": "2022-06-02T15:21:42.679Z"
   },
   {
    "duration": 1286,
    "start_time": "2022-06-02T15:24:24.609Z"
   },
   {
    "duration": 3,
    "start_time": "2022-06-02T15:24:25.897Z"
   },
   {
    "duration": 8,
    "start_time": "2022-06-02T15:24:25.901Z"
   },
   {
    "duration": 94,
    "start_time": "2022-06-02T15:24:25.910Z"
   },
   {
    "duration": 227,
    "start_time": "2022-06-02T15:24:26.006Z"
   },
   {
    "duration": 140,
    "start_time": "2022-06-02T15:24:26.234Z"
   },
   {
    "duration": 260,
    "start_time": "2022-06-02T15:24:26.375Z"
   },
   {
    "duration": 30,
    "start_time": "2022-06-02T15:24:26.637Z"
   },
   {
    "duration": 133,
    "start_time": "2022-06-02T15:24:26.668Z"
   },
   {
    "duration": 144,
    "start_time": "2022-06-02T15:24:26.803Z"
   },
   {
    "duration": 3,
    "start_time": "2022-06-02T15:24:26.948Z"
   },
   {
    "duration": 145,
    "start_time": "2022-06-02T15:24:26.953Z"
   },
   {
    "duration": 46,
    "start_time": "2022-06-02T15:24:27.100Z"
   },
   {
    "duration": 41,
    "start_time": "2022-06-02T15:24:27.148Z"
   },
   {
    "duration": 5,
    "start_time": "2022-06-02T15:24:27.190Z"
   },
   {
    "duration": 31,
    "start_time": "2022-06-02T15:24:27.197Z"
   },
   {
    "duration": 3,
    "start_time": "2022-06-02T15:24:27.245Z"
   },
   {
    "duration": 10,
    "start_time": "2022-06-02T15:24:27.250Z"
   },
   {
    "duration": 7,
    "start_time": "2022-06-02T15:24:27.261Z"
   },
   {
    "duration": 33,
    "start_time": "2022-06-02T15:24:27.270Z"
   },
   {
    "duration": 7,
    "start_time": "2022-06-02T15:24:27.304Z"
   },
   {
    "duration": 32,
    "start_time": "2022-06-02T15:24:27.313Z"
   },
   {
    "duration": 31,
    "start_time": "2022-06-02T15:24:27.347Z"
   },
   {
    "duration": 29,
    "start_time": "2022-06-02T15:24:27.380Z"
   },
   {
    "duration": 49,
    "start_time": "2022-06-02T15:24:27.410Z"
   },
   {
    "duration": 5,
    "start_time": "2022-06-02T15:24:27.461Z"
   },
   {
    "duration": 19,
    "start_time": "2022-06-02T15:24:27.467Z"
   },
   {
    "duration": 19,
    "start_time": "2022-06-02T15:24:27.489Z"
   },
   {
    "duration": 37,
    "start_time": "2022-06-02T15:24:27.510Z"
   },
   {
    "duration": 17,
    "start_time": "2022-06-02T15:24:27.549Z"
   },
   {
    "duration": 16,
    "start_time": "2022-06-02T15:24:27.568Z"
   },
   {
    "duration": 11,
    "start_time": "2022-06-02T15:24:27.586Z"
   },
   {
    "duration": 5,
    "start_time": "2022-06-02T15:24:27.599Z"
   },
   {
    "duration": 151,
    "start_time": "2022-06-02T15:24:27.605Z"
   },
   {
    "duration": 29,
    "start_time": "2022-06-02T15:24:27.757Z"
   },
   {
    "duration": 1562,
    "start_time": "2022-06-02T15:28:02.094Z"
   },
   {
    "duration": 2,
    "start_time": "2022-06-02T15:28:03.658Z"
   },
   {
    "duration": 17,
    "start_time": "2022-06-02T15:28:03.662Z"
   },
   {
    "duration": 113,
    "start_time": "2022-06-02T15:28:03.681Z"
   },
   {
    "duration": 252,
    "start_time": "2022-06-02T15:28:03.797Z"
   },
   {
    "duration": 330,
    "start_time": "2022-06-02T15:28:04.051Z"
   },
   {
    "duration": 335,
    "start_time": "2022-06-02T15:28:04.383Z"
   },
   {
    "duration": 82,
    "start_time": "2022-06-02T15:28:04.720Z"
   },
   {
    "duration": 144,
    "start_time": "2022-06-02T15:28:04.803Z"
   },
   {
    "duration": 131,
    "start_time": "2022-06-02T15:28:04.949Z"
   },
   {
    "duration": 4,
    "start_time": "2022-06-02T15:28:05.082Z"
   },
   {
    "duration": 87,
    "start_time": "2022-06-02T15:28:05.087Z"
   },
   {
    "duration": 33,
    "start_time": "2022-06-02T15:28:05.176Z"
   },
   {
    "duration": 51,
    "start_time": "2022-06-02T15:28:05.211Z"
   },
   {
    "duration": 4,
    "start_time": "2022-06-02T15:28:05.263Z"
   },
   {
    "duration": 19,
    "start_time": "2022-06-02T15:28:05.269Z"
   },
   {
    "duration": 9,
    "start_time": "2022-06-02T15:28:05.289Z"
   },
   {
    "duration": 18,
    "start_time": "2022-06-02T15:28:05.300Z"
   },
   {
    "duration": 19,
    "start_time": "2022-06-02T15:28:05.320Z"
   },
   {
    "duration": 46,
    "start_time": "2022-06-02T15:28:05.342Z"
   },
   {
    "duration": 6,
    "start_time": "2022-06-02T15:28:05.389Z"
   },
   {
    "duration": 19,
    "start_time": "2022-06-02T15:28:05.396Z"
   },
   {
    "duration": 35,
    "start_time": "2022-06-02T15:28:05.416Z"
   },
   {
    "duration": 30,
    "start_time": "2022-06-02T15:28:05.453Z"
   },
   {
    "duration": 29,
    "start_time": "2022-06-02T15:28:05.485Z"
   },
   {
    "duration": 33,
    "start_time": "2022-06-02T15:28:05.516Z"
   },
   {
    "duration": 31,
    "start_time": "2022-06-02T15:28:05.550Z"
   },
   {
    "duration": 19,
    "start_time": "2022-06-02T15:28:05.583Z"
   },
   {
    "duration": 23,
    "start_time": "2022-06-02T15:28:05.603Z"
   },
   {
    "duration": 26,
    "start_time": "2022-06-02T15:28:05.628Z"
   },
   {
    "duration": 10,
    "start_time": "2022-06-02T15:28:05.656Z"
   },
   {
    "duration": 19,
    "start_time": "2022-06-02T15:28:05.667Z"
   },
   {
    "duration": 5,
    "start_time": "2022-06-02T15:28:05.687Z"
   },
   {
    "duration": 144,
    "start_time": "2022-06-02T15:28:05.694Z"
   },
   {
    "duration": 27,
    "start_time": "2022-06-02T15:28:05.839Z"
   },
   {
    "duration": 1185,
    "start_time": "2022-06-02T15:31:21.246Z"
   },
   {
    "duration": 3,
    "start_time": "2022-06-02T15:31:22.433Z"
   },
   {
    "duration": 30,
    "start_time": "2022-06-02T15:31:22.444Z"
   },
   {
    "duration": 83,
    "start_time": "2022-06-02T15:31:22.476Z"
   },
   {
    "duration": 190,
    "start_time": "2022-06-02T15:31:22.561Z"
   },
   {
    "duration": 105,
    "start_time": "2022-06-02T15:31:22.753Z"
   },
   {
    "duration": 162,
    "start_time": "2022-06-02T15:31:22.860Z"
   },
   {
    "duration": 26,
    "start_time": "2022-06-02T15:31:23.023Z"
   },
   {
    "duration": 139,
    "start_time": "2022-06-02T15:31:23.051Z"
   },
   {
    "duration": 154,
    "start_time": "2022-06-02T15:31:23.193Z"
   },
   {
    "duration": 4,
    "start_time": "2022-06-02T15:31:23.349Z"
   },
   {
    "duration": 99,
    "start_time": "2022-06-02T15:31:23.357Z"
   },
   {
    "duration": 31,
    "start_time": "2022-06-02T15:31:23.458Z"
   },
   {
    "duration": 37,
    "start_time": "2022-06-02T15:31:23.491Z"
   },
   {
    "duration": 4,
    "start_time": "2022-06-02T15:31:23.546Z"
   },
   {
    "duration": 43,
    "start_time": "2022-06-02T15:31:23.552Z"
   },
   {
    "duration": 24,
    "start_time": "2022-06-02T15:31:23.597Z"
   },
   {
    "duration": 32,
    "start_time": "2022-06-02T15:31:23.623Z"
   },
   {
    "duration": 22,
    "start_time": "2022-06-02T15:31:23.657Z"
   },
   {
    "duration": 66,
    "start_time": "2022-06-02T15:31:23.681Z"
   },
   {
    "duration": 9,
    "start_time": "2022-06-02T15:31:23.749Z"
   },
   {
    "duration": 54,
    "start_time": "2022-06-02T15:31:23.760Z"
   },
   {
    "duration": 60,
    "start_time": "2022-06-02T15:31:23.816Z"
   },
   {
    "duration": 40,
    "start_time": "2022-06-02T15:31:23.878Z"
   },
   {
    "duration": 52,
    "start_time": "2022-06-02T15:31:23.920Z"
   },
   {
    "duration": 5,
    "start_time": "2022-06-02T15:31:23.974Z"
   },
   {
    "duration": 36,
    "start_time": "2022-06-02T15:31:23.981Z"
   },
   {
    "duration": 29,
    "start_time": "2022-06-02T15:31:24.021Z"
   },
   {
    "duration": 31,
    "start_time": "2022-06-02T15:31:24.052Z"
   },
   {
    "duration": 16,
    "start_time": "2022-06-02T15:31:24.085Z"
   },
   {
    "duration": 12,
    "start_time": "2022-06-02T15:31:24.103Z"
   },
   {
    "duration": 15,
    "start_time": "2022-06-02T15:31:24.117Z"
   },
   {
    "duration": 14,
    "start_time": "2022-06-02T15:31:24.134Z"
   },
   {
    "duration": 153,
    "start_time": "2022-06-02T15:31:24.150Z"
   },
   {
    "duration": 40,
    "start_time": "2022-06-02T15:31:24.305Z"
   },
   {
    "duration": 1142,
    "start_time": "2022-06-02T15:32:26.324Z"
   },
   {
    "duration": 3,
    "start_time": "2022-06-02T15:32:27.468Z"
   },
   {
    "duration": 15,
    "start_time": "2022-06-02T15:32:27.473Z"
   },
   {
    "duration": 74,
    "start_time": "2022-06-02T15:32:27.490Z"
   },
   {
    "duration": 178,
    "start_time": "2022-06-02T15:32:27.566Z"
   },
   {
    "duration": 113,
    "start_time": "2022-06-02T15:32:27.746Z"
   },
   {
    "duration": 171,
    "start_time": "2022-06-02T15:32:27.861Z"
   },
   {
    "duration": 47,
    "start_time": "2022-06-02T15:32:28.035Z"
   },
   {
    "duration": 133,
    "start_time": "2022-06-02T15:32:28.085Z"
   },
   {
    "duration": 169,
    "start_time": "2022-06-02T15:32:28.222Z"
   },
   {
    "duration": 4,
    "start_time": "2022-06-02T15:32:28.393Z"
   },
   {
    "duration": 109,
    "start_time": "2022-06-02T15:32:28.400Z"
   },
   {
    "duration": 56,
    "start_time": "2022-06-02T15:32:28.511Z"
   },
   {
    "duration": 41,
    "start_time": "2022-06-02T15:32:28.569Z"
   },
   {
    "duration": 4,
    "start_time": "2022-06-02T15:32:28.612Z"
   },
   {
    "duration": 49,
    "start_time": "2022-06-02T15:32:28.618Z"
   },
   {
    "duration": 9,
    "start_time": "2022-06-02T15:32:28.669Z"
   },
   {
    "duration": 7,
    "start_time": "2022-06-02T15:32:28.680Z"
   },
   {
    "duration": 16,
    "start_time": "2022-06-02T15:32:28.689Z"
   },
   {
    "duration": 36,
    "start_time": "2022-06-02T15:32:28.707Z"
   },
   {
    "duration": 6,
    "start_time": "2022-06-02T15:32:28.746Z"
   },
   {
    "duration": 32,
    "start_time": "2022-06-02T15:32:28.754Z"
   },
   {
    "duration": 33,
    "start_time": "2022-06-02T15:32:28.788Z"
   },
   {
    "duration": 59,
    "start_time": "2022-06-02T15:32:28.824Z"
   },
   {
    "duration": 31,
    "start_time": "2022-06-02T15:32:28.885Z"
   },
   {
    "duration": 26,
    "start_time": "2022-06-02T15:32:28.918Z"
   },
   {
    "duration": 25,
    "start_time": "2022-06-02T15:32:28.946Z"
   },
   {
    "duration": 19,
    "start_time": "2022-06-02T15:32:28.975Z"
   },
   {
    "duration": 49,
    "start_time": "2022-06-02T15:32:28.997Z"
   },
   {
    "duration": 19,
    "start_time": "2022-06-02T15:32:29.048Z"
   },
   {
    "duration": 13,
    "start_time": "2022-06-02T15:32:29.069Z"
   },
   {
    "duration": 22,
    "start_time": "2022-06-02T15:32:29.084Z"
   },
   {
    "duration": 5,
    "start_time": "2022-06-02T15:32:29.108Z"
   },
   {
    "duration": 191,
    "start_time": "2022-06-02T15:32:29.116Z"
   },
   {
    "duration": 24,
    "start_time": "2022-06-02T15:32:29.308Z"
   },
   {
    "duration": 1149,
    "start_time": "2022-06-02T15:32:59.042Z"
   },
   {
    "duration": 3,
    "start_time": "2022-06-02T15:33:00.194Z"
   },
   {
    "duration": 29,
    "start_time": "2022-06-02T15:33:00.198Z"
   },
   {
    "duration": 79,
    "start_time": "2022-06-02T15:33:00.229Z"
   },
   {
    "duration": 176,
    "start_time": "2022-06-02T15:33:00.310Z"
   },
   {
    "duration": 107,
    "start_time": "2022-06-02T15:33:00.488Z"
   },
   {
    "duration": 162,
    "start_time": "2022-06-02T15:33:00.596Z"
   },
   {
    "duration": 26,
    "start_time": "2022-06-02T15:33:00.760Z"
   },
   {
    "duration": 166,
    "start_time": "2022-06-02T15:33:00.787Z"
   },
   {
    "duration": 141,
    "start_time": "2022-06-02T15:33:00.956Z"
   },
   {
    "duration": 3,
    "start_time": "2022-06-02T15:33:01.099Z"
   },
   {
    "duration": 114,
    "start_time": "2022-06-02T15:33:01.103Z"
   },
   {
    "duration": 34,
    "start_time": "2022-06-02T15:33:01.219Z"
   },
   {
    "duration": 31,
    "start_time": "2022-06-02T15:33:01.255Z"
   },
   {
    "duration": 9,
    "start_time": "2022-06-02T15:33:01.288Z"
   },
   {
    "duration": 73,
    "start_time": "2022-06-02T15:33:01.299Z"
   },
   {
    "duration": 28,
    "start_time": "2022-06-02T15:33:01.374Z"
   },
   {
    "duration": 60,
    "start_time": "2022-06-02T15:33:01.404Z"
   },
   {
    "duration": 54,
    "start_time": "2022-06-02T15:33:01.466Z"
   },
   {
    "duration": 67,
    "start_time": "2022-06-02T15:33:01.522Z"
   },
   {
    "duration": 18,
    "start_time": "2022-06-02T15:33:01.591Z"
   },
   {
    "duration": 41,
    "start_time": "2022-06-02T15:33:01.611Z"
   },
   {
    "duration": 57,
    "start_time": "2022-06-02T15:33:01.654Z"
   },
   {
    "duration": 36,
    "start_time": "2022-06-02T15:33:01.712Z"
   },
   {
    "duration": 29,
    "start_time": "2022-06-02T15:33:01.749Z"
   },
   {
    "duration": 8,
    "start_time": "2022-06-02T15:33:01.779Z"
   },
   {
    "duration": 60,
    "start_time": "2022-06-02T15:33:01.789Z"
   },
   {
    "duration": 32,
    "start_time": "2022-06-02T15:33:01.853Z"
   },
   {
    "duration": 65,
    "start_time": "2022-06-02T15:33:01.887Z"
   },
   {
    "duration": 30,
    "start_time": "2022-06-02T15:33:01.954Z"
   },
   {
    "duration": 65,
    "start_time": "2022-06-02T15:33:01.986Z"
   },
   {
    "duration": 25,
    "start_time": "2022-06-02T15:33:02.053Z"
   },
   {
    "duration": 27,
    "start_time": "2022-06-02T15:33:02.080Z"
   },
   {
    "duration": 221,
    "start_time": "2022-06-02T15:33:02.108Z"
   },
   {
    "duration": 31,
    "start_time": "2022-06-02T15:33:02.331Z"
   },
   {
    "duration": 1098,
    "start_time": "2022-06-02T15:35:03.091Z"
   },
   {
    "duration": 2,
    "start_time": "2022-06-02T15:35:04.191Z"
   },
   {
    "duration": 11,
    "start_time": "2022-06-02T15:35:04.195Z"
   },
   {
    "duration": 80,
    "start_time": "2022-06-02T15:35:04.208Z"
   },
   {
    "duration": 180,
    "start_time": "2022-06-02T15:35:04.290Z"
   },
   {
    "duration": 107,
    "start_time": "2022-06-02T15:35:04.472Z"
   },
   {
    "duration": 156,
    "start_time": "2022-06-02T15:35:04.581Z"
   },
   {
    "duration": 28,
    "start_time": "2022-06-02T15:35:04.744Z"
   },
   {
    "duration": 124,
    "start_time": "2022-06-02T15:35:04.774Z"
   },
   {
    "duration": 150,
    "start_time": "2022-06-02T15:35:04.901Z"
   },
   {
    "duration": 3,
    "start_time": "2022-06-02T15:35:05.053Z"
   },
   {
    "duration": 90,
    "start_time": "2022-06-02T15:35:05.057Z"
   },
   {
    "duration": 34,
    "start_time": "2022-06-02T15:35:05.149Z"
   },
   {
    "duration": 31,
    "start_time": "2022-06-02T15:35:05.185Z"
   },
   {
    "duration": 5,
    "start_time": "2022-06-02T15:35:05.218Z"
   },
   {
    "duration": 19,
    "start_time": "2022-06-02T15:35:05.244Z"
   },
   {
    "duration": 17,
    "start_time": "2022-06-02T15:35:05.265Z"
   },
   {
    "duration": 47,
    "start_time": "2022-06-02T15:35:05.283Z"
   },
   {
    "duration": 26,
    "start_time": "2022-06-02T15:35:05.332Z"
   },
   {
    "duration": 49,
    "start_time": "2022-06-02T15:35:05.360Z"
   },
   {
    "duration": 4,
    "start_time": "2022-06-02T15:35:05.411Z"
   },
   {
    "duration": 18,
    "start_time": "2022-06-02T15:35:05.416Z"
   },
   {
    "duration": 37,
    "start_time": "2022-06-02T15:35:05.436Z"
   },
   {
    "duration": 29,
    "start_time": "2022-06-02T15:35:05.475Z"
   },
   {
    "duration": 49,
    "start_time": "2022-06-02T15:35:05.505Z"
   },
   {
    "duration": 4,
    "start_time": "2022-06-02T15:35:05.555Z"
   },
   {
    "duration": 18,
    "start_time": "2022-06-02T15:35:05.561Z"
   },
   {
    "duration": 19,
    "start_time": "2022-06-02T15:35:05.581Z"
   },
   {
    "duration": 27,
    "start_time": "2022-06-02T15:35:05.601Z"
   },
   {
    "duration": 30,
    "start_time": "2022-06-02T15:35:05.630Z"
   },
   {
    "duration": 7,
    "start_time": "2022-06-02T15:35:05.662Z"
   },
   {
    "duration": 14,
    "start_time": "2022-06-02T15:35:05.670Z"
   },
   {
    "duration": 5,
    "start_time": "2022-06-02T15:35:05.685Z"
   },
   {
    "duration": 144,
    "start_time": "2022-06-02T15:35:05.692Z"
   },
   {
    "duration": 25,
    "start_time": "2022-06-02T15:35:05.843Z"
   },
   {
    "duration": 1154,
    "start_time": "2022-06-02T15:36:57.218Z"
   },
   {
    "duration": 2,
    "start_time": "2022-06-02T15:36:58.374Z"
   },
   {
    "duration": 15,
    "start_time": "2022-06-02T15:36:58.378Z"
   },
   {
    "duration": 60,
    "start_time": "2022-06-02T15:36:58.395Z"
   },
   {
    "duration": 172,
    "start_time": "2022-06-02T15:36:58.456Z"
   },
   {
    "duration": 104,
    "start_time": "2022-06-02T15:36:58.630Z"
   },
   {
    "duration": 164,
    "start_time": "2022-06-02T15:36:58.735Z"
   },
   {
    "duration": 27,
    "start_time": "2022-06-02T15:36:58.900Z"
   },
   {
    "duration": 145,
    "start_time": "2022-06-02T15:36:58.929Z"
   },
   {
    "duration": 133,
    "start_time": "2022-06-02T15:36:59.076Z"
   },
   {
    "duration": 3,
    "start_time": "2022-06-02T15:36:59.210Z"
   },
   {
    "duration": 76,
    "start_time": "2022-06-02T15:36:59.215Z"
   },
   {
    "duration": 38,
    "start_time": "2022-06-02T15:36:59.293Z"
   },
   {
    "duration": 50,
    "start_time": "2022-06-02T15:36:59.333Z"
   },
   {
    "duration": 14,
    "start_time": "2022-06-02T15:36:59.385Z"
   },
   {
    "duration": 44,
    "start_time": "2022-06-02T15:36:59.400Z"
   },
   {
    "duration": 17,
    "start_time": "2022-06-02T15:36:59.445Z"
   },
   {
    "duration": 9,
    "start_time": "2022-06-02T15:36:59.464Z"
   },
   {
    "duration": 23,
    "start_time": "2022-06-02T15:36:59.475Z"
   },
   {
    "duration": 31,
    "start_time": "2022-06-02T15:36:59.500Z"
   },
   {
    "duration": 5,
    "start_time": "2022-06-02T15:36:59.533Z"
   },
   {
    "duration": 43,
    "start_time": "2022-06-02T15:36:59.540Z"
   },
   {
    "duration": 47,
    "start_time": "2022-06-02T15:36:59.585Z"
   },
   {
    "duration": 29,
    "start_time": "2022-06-02T15:36:59.634Z"
   },
   {
    "duration": 31,
    "start_time": "2022-06-02T15:36:59.665Z"
   },
   {
    "duration": 5,
    "start_time": "2022-06-02T15:36:59.698Z"
   },
   {
    "duration": 39,
    "start_time": "2022-06-02T15:36:59.705Z"
   },
   {
    "duration": 21,
    "start_time": "2022-06-02T15:36:59.748Z"
   },
   {
    "duration": 18,
    "start_time": "2022-06-02T15:36:59.770Z"
   },
   {
    "duration": 17,
    "start_time": "2022-06-02T15:36:59.790Z"
   },
   {
    "duration": 28,
    "start_time": "2022-06-02T15:36:59.808Z"
   },
   {
    "duration": 16,
    "start_time": "2022-06-02T15:36:59.838Z"
   },
   {
    "duration": 5,
    "start_time": "2022-06-02T15:36:59.856Z"
   },
   {
    "duration": 134,
    "start_time": "2022-06-02T15:36:59.863Z"
   },
   {
    "duration": 24,
    "start_time": "2022-06-02T15:36:59.999Z"
   },
   {
    "duration": 1148,
    "start_time": "2022-06-02T15:38:02.375Z"
   },
   {
    "duration": 3,
    "start_time": "2022-06-02T15:38:03.525Z"
   },
   {
    "duration": 6,
    "start_time": "2022-06-02T15:38:03.529Z"
   },
   {
    "duration": 64,
    "start_time": "2022-06-02T15:38:03.536Z"
   },
   {
    "duration": 176,
    "start_time": "2022-06-02T15:38:03.602Z"
   },
   {
    "duration": 126,
    "start_time": "2022-06-02T15:38:03.779Z"
   },
   {
    "duration": 162,
    "start_time": "2022-06-02T15:38:03.907Z"
   },
   {
    "duration": 30,
    "start_time": "2022-06-02T15:38:04.071Z"
   },
   {
    "duration": 153,
    "start_time": "2022-06-02T15:38:04.102Z"
   },
   {
    "duration": 135,
    "start_time": "2022-06-02T15:38:04.256Z"
   },
   {
    "duration": 4,
    "start_time": "2022-06-02T15:38:04.393Z"
   },
   {
    "duration": 87,
    "start_time": "2022-06-02T15:38:04.398Z"
   },
   {
    "duration": 30,
    "start_time": "2022-06-02T15:38:04.487Z"
   },
   {
    "duration": 42,
    "start_time": "2022-06-02T15:38:04.519Z"
   },
   {
    "duration": 4,
    "start_time": "2022-06-02T15:38:04.562Z"
   },
   {
    "duration": 33,
    "start_time": "2022-06-02T15:38:04.567Z"
   },
   {
    "duration": 31,
    "start_time": "2022-06-02T15:38:04.601Z"
   },
   {
    "duration": 24,
    "start_time": "2022-06-02T15:38:04.634Z"
   },
   {
    "duration": 20,
    "start_time": "2022-06-02T15:38:04.659Z"
   },
   {
    "duration": 51,
    "start_time": "2022-06-02T15:38:04.681Z"
   },
   {
    "duration": 8,
    "start_time": "2022-06-02T15:38:04.734Z"
   },
   {
    "duration": 41,
    "start_time": "2022-06-02T15:38:04.743Z"
   },
   {
    "duration": 37,
    "start_time": "2022-06-02T15:38:04.786Z"
   },
   {
    "duration": 29,
    "start_time": "2022-06-02T15:38:04.825Z"
   },
   {
    "duration": 29,
    "start_time": "2022-06-02T15:38:04.856Z"
   },
   {
    "duration": 5,
    "start_time": "2022-06-02T15:38:04.886Z"
   },
   {
    "duration": 37,
    "start_time": "2022-06-02T15:38:04.893Z"
   },
   {
    "duration": 24,
    "start_time": "2022-06-02T15:38:04.932Z"
   },
   {
    "duration": 29,
    "start_time": "2022-06-02T15:38:04.957Z"
   },
   {
    "duration": 18,
    "start_time": "2022-06-02T15:38:04.988Z"
   },
   {
    "duration": 24,
    "start_time": "2022-06-02T15:38:05.007Z"
   },
   {
    "duration": 39,
    "start_time": "2022-06-02T15:38:05.033Z"
   },
   {
    "duration": 34,
    "start_time": "2022-06-02T15:38:05.074Z"
   },
   {
    "duration": 0,
    "start_time": "2022-06-02T15:38:05.110Z"
   },
   {
    "duration": 0,
    "start_time": "2022-06-02T15:38:05.110Z"
   },
   {
    "duration": 32,
    "start_time": "2022-06-02T15:38:23.846Z"
   },
   {
    "duration": 5,
    "start_time": "2022-06-02T15:39:13.033Z"
   },
   {
    "duration": 99,
    "start_time": "2022-06-02T15:39:18.013Z"
   },
   {
    "duration": 1148,
    "start_time": "2022-06-02T15:40:23.341Z"
   },
   {
    "duration": 3,
    "start_time": "2022-06-02T15:40:24.491Z"
   },
   {
    "duration": 10,
    "start_time": "2022-06-02T15:40:24.496Z"
   },
   {
    "duration": 70,
    "start_time": "2022-06-02T15:40:24.507Z"
   },
   {
    "duration": 184,
    "start_time": "2022-06-02T15:40:24.579Z"
   },
   {
    "duration": 107,
    "start_time": "2022-06-02T15:40:24.765Z"
   },
   {
    "duration": 174,
    "start_time": "2022-06-02T15:40:24.874Z"
   },
   {
    "duration": 26,
    "start_time": "2022-06-02T15:40:25.050Z"
   },
   {
    "duration": 128,
    "start_time": "2022-06-02T15:40:25.077Z"
   },
   {
    "duration": 149,
    "start_time": "2022-06-02T15:40:25.208Z"
   },
   {
    "duration": 3,
    "start_time": "2022-06-02T15:40:25.359Z"
   },
   {
    "duration": 68,
    "start_time": "2022-06-02T15:40:25.363Z"
   },
   {
    "duration": 41,
    "start_time": "2022-06-02T15:40:25.445Z"
   },
   {
    "duration": 30,
    "start_time": "2022-06-02T15:40:25.488Z"
   },
   {
    "duration": 27,
    "start_time": "2022-06-02T15:40:25.519Z"
   },
   {
    "duration": 21,
    "start_time": "2022-06-02T15:40:25.548Z"
   },
   {
    "duration": 10,
    "start_time": "2022-06-02T15:40:25.572Z"
   },
   {
    "duration": 9,
    "start_time": "2022-06-02T15:40:25.584Z"
   },
   {
    "duration": 15,
    "start_time": "2022-06-02T15:40:25.595Z"
   },
   {
    "duration": 31,
    "start_time": "2022-06-02T15:40:25.612Z"
   },
   {
    "duration": 13,
    "start_time": "2022-06-02T15:40:25.645Z"
   },
   {
    "duration": 19,
    "start_time": "2022-06-02T15:40:25.659Z"
   },
   {
    "duration": 37,
    "start_time": "2022-06-02T15:40:25.679Z"
   },
   {
    "duration": 37,
    "start_time": "2022-06-02T15:40:25.717Z"
   },
   {
    "duration": 30,
    "start_time": "2022-06-02T15:40:25.756Z"
   },
   {
    "duration": 4,
    "start_time": "2022-06-02T15:40:25.787Z"
   },
   {
    "duration": 23,
    "start_time": "2022-06-02T15:40:25.793Z"
   },
   {
    "duration": 40,
    "start_time": "2022-06-02T15:40:25.819Z"
   },
   {
    "duration": 35,
    "start_time": "2022-06-02T15:40:25.861Z"
   },
   {
    "duration": 18,
    "start_time": "2022-06-02T15:40:25.898Z"
   },
   {
    "duration": 7,
    "start_time": "2022-06-02T15:40:25.918Z"
   },
   {
    "duration": 12,
    "start_time": "2022-06-02T15:40:25.945Z"
   },
   {
    "duration": 12,
    "start_time": "2022-06-02T15:40:25.958Z"
   },
   {
    "duration": 0,
    "start_time": "2022-06-02T15:40:25.973Z"
   },
   {
    "duration": 0,
    "start_time": "2022-06-02T15:40:25.974Z"
   },
   {
    "duration": 103,
    "start_time": "2022-06-02T15:40:54.053Z"
   },
   {
    "duration": 6,
    "start_time": "2022-06-02T15:41:01.735Z"
   },
   {
    "duration": 6,
    "start_time": "2022-06-02T15:41:48.590Z"
   },
   {
    "duration": 130,
    "start_time": "2022-06-02T15:41:49.862Z"
   },
   {
    "duration": 22,
    "start_time": "2022-06-02T15:41:51.467Z"
   },
   {
    "duration": 6,
    "start_time": "2022-06-02T15:42:48.312Z"
   },
   {
    "duration": 116,
    "start_time": "2022-06-02T15:42:49.630Z"
   },
   {
    "duration": 23,
    "start_time": "2022-06-02T15:42:53.674Z"
   },
   {
    "duration": 1169,
    "start_time": "2022-06-02T15:43:13.622Z"
   },
   {
    "duration": 3,
    "start_time": "2022-06-02T15:43:14.793Z"
   },
   {
    "duration": 86,
    "start_time": "2022-06-02T15:43:14.798Z"
   },
   {
    "duration": 165,
    "start_time": "2022-06-02T15:43:14.886Z"
   },
   {
    "duration": 203,
    "start_time": "2022-06-02T15:43:15.053Z"
   },
   {
    "duration": 134,
    "start_time": "2022-06-02T15:43:15.258Z"
   },
   {
    "duration": 192,
    "start_time": "2022-06-02T15:43:15.393Z"
   },
   {
    "duration": 29,
    "start_time": "2022-06-02T15:43:15.587Z"
   },
   {
    "duration": 153,
    "start_time": "2022-06-02T15:43:15.617Z"
   },
   {
    "duration": 136,
    "start_time": "2022-06-02T15:43:15.773Z"
   },
   {
    "duration": 3,
    "start_time": "2022-06-02T15:43:15.911Z"
   },
   {
    "duration": 104,
    "start_time": "2022-06-02T15:43:15.916Z"
   },
   {
    "duration": 43,
    "start_time": "2022-06-02T15:43:16.022Z"
   },
   {
    "duration": 57,
    "start_time": "2022-06-02T15:43:16.067Z"
   },
   {
    "duration": 70,
    "start_time": "2022-06-02T15:43:16.127Z"
   },
   {
    "duration": 59,
    "start_time": "2022-06-02T15:43:16.199Z"
   },
   {
    "duration": 32,
    "start_time": "2022-06-02T15:43:16.260Z"
   },
   {
    "duration": 88,
    "start_time": "2022-06-02T15:43:16.293Z"
   },
   {
    "duration": 57,
    "start_time": "2022-06-02T15:43:16.382Z"
   },
   {
    "duration": 54,
    "start_time": "2022-06-02T15:43:16.442Z"
   },
   {
    "duration": 7,
    "start_time": "2022-06-02T15:43:16.497Z"
   },
   {
    "duration": 30,
    "start_time": "2022-06-02T15:43:16.505Z"
   },
   {
    "duration": 46,
    "start_time": "2022-06-02T15:43:16.537Z"
   },
   {
    "duration": 34,
    "start_time": "2022-06-02T15:43:16.585Z"
   },
   {
    "duration": 36,
    "start_time": "2022-06-02T15:43:16.620Z"
   },
   {
    "duration": 8,
    "start_time": "2022-06-02T15:43:16.658Z"
   },
   {
    "duration": 18,
    "start_time": "2022-06-02T15:43:16.667Z"
   },
   {
    "duration": 20,
    "start_time": "2022-06-02T15:43:16.688Z"
   },
   {
    "duration": 40,
    "start_time": "2022-06-02T15:43:16.710Z"
   },
   {
    "duration": 18,
    "start_time": "2022-06-02T15:43:16.752Z"
   },
   {
    "duration": 19,
    "start_time": "2022-06-02T15:43:16.772Z"
   },
   {
    "duration": 42,
    "start_time": "2022-06-02T15:43:16.793Z"
   },
   {
    "duration": 12,
    "start_time": "2022-06-02T15:43:16.837Z"
   },
   {
    "duration": 158,
    "start_time": "2022-06-02T15:43:16.850Z"
   },
   {
    "duration": 27,
    "start_time": "2022-06-02T15:43:17.010Z"
   },
   {
    "duration": 1101,
    "start_time": "2022-06-02T15:47:25.604Z"
   },
   {
    "duration": 3,
    "start_time": "2022-06-02T15:47:26.707Z"
   },
   {
    "duration": 7,
    "start_time": "2022-06-02T15:47:26.713Z"
   },
   {
    "duration": 62,
    "start_time": "2022-06-02T15:47:26.721Z"
   },
   {
    "duration": 185,
    "start_time": "2022-06-02T15:47:26.784Z"
   },
   {
    "duration": 102,
    "start_time": "2022-06-02T15:47:26.971Z"
   },
   {
    "duration": 155,
    "start_time": "2022-06-02T15:47:27.075Z"
   },
   {
    "duration": 26,
    "start_time": "2022-06-02T15:47:27.231Z"
   },
   {
    "duration": 127,
    "start_time": "2022-06-02T15:47:27.260Z"
   },
   {
    "duration": 136,
    "start_time": "2022-06-02T15:47:27.389Z"
   },
   {
    "duration": 18,
    "start_time": "2022-06-02T15:47:27.526Z"
   },
   {
    "duration": 62,
    "start_time": "2022-06-02T15:47:27.545Z"
   },
   {
    "duration": 46,
    "start_time": "2022-06-02T15:47:27.608Z"
   },
   {
    "duration": 28,
    "start_time": "2022-06-02T15:47:27.656Z"
   },
   {
    "duration": 4,
    "start_time": "2022-06-02T15:47:27.685Z"
   },
   {
    "duration": 19,
    "start_time": "2022-06-02T15:47:27.690Z"
   },
   {
    "duration": 17,
    "start_time": "2022-06-02T15:47:27.711Z"
   },
   {
    "duration": 15,
    "start_time": "2022-06-02T15:47:27.730Z"
   },
   {
    "duration": 16,
    "start_time": "2022-06-02T15:47:27.746Z"
   },
   {
    "duration": 31,
    "start_time": "2022-06-02T15:47:27.763Z"
   },
   {
    "duration": 3,
    "start_time": "2022-06-02T15:47:27.796Z"
   },
   {
    "duration": 14,
    "start_time": "2022-06-02T15:47:27.801Z"
   },
   {
    "duration": 36,
    "start_time": "2022-06-02T15:47:27.817Z"
   },
   {
    "duration": 35,
    "start_time": "2022-06-02T15:47:27.855Z"
   },
   {
    "duration": 30,
    "start_time": "2022-06-02T15:47:27.892Z"
   },
   {
    "duration": 24,
    "start_time": "2022-06-02T15:47:27.924Z"
   },
   {
    "duration": 18,
    "start_time": "2022-06-02T15:47:27.952Z"
   },
   {
    "duration": 26,
    "start_time": "2022-06-02T15:47:27.972Z"
   },
   {
    "duration": 22,
    "start_time": "2022-06-02T15:47:28.000Z"
   },
   {
    "duration": 35,
    "start_time": "2022-06-02T15:47:28.024Z"
   },
   {
    "duration": 11,
    "start_time": "2022-06-02T15:47:28.061Z"
   },
   {
    "duration": 15,
    "start_time": "2022-06-02T15:47:28.073Z"
   },
   {
    "duration": 4,
    "start_time": "2022-06-02T15:47:28.090Z"
   },
   {
    "duration": 140,
    "start_time": "2022-06-02T15:47:28.096Z"
   },
   {
    "duration": 0,
    "start_time": "2022-06-02T15:47:28.237Z"
   },
   {
    "duration": 7,
    "start_time": "2022-06-02T15:47:55.911Z"
   },
   {
    "duration": 123,
    "start_time": "2022-06-02T15:47:57.535Z"
   },
   {
    "duration": 1164,
    "start_time": "2022-06-02T15:48:27.507Z"
   },
   {
    "duration": 3,
    "start_time": "2022-06-02T15:48:28.672Z"
   },
   {
    "duration": 22,
    "start_time": "2022-06-02T15:48:28.676Z"
   },
   {
    "duration": 68,
    "start_time": "2022-06-02T15:48:28.700Z"
   },
   {
    "duration": 174,
    "start_time": "2022-06-02T15:48:28.769Z"
   },
   {
    "duration": 113,
    "start_time": "2022-06-02T15:48:28.944Z"
   },
   {
    "duration": 164,
    "start_time": "2022-06-02T15:48:29.058Z"
   },
   {
    "duration": 26,
    "start_time": "2022-06-02T15:48:29.224Z"
   },
   {
    "duration": 132,
    "start_time": "2022-06-02T15:48:29.252Z"
   },
   {
    "duration": 135,
    "start_time": "2022-06-02T15:48:29.386Z"
   },
   {
    "duration": 3,
    "start_time": "2022-06-02T15:48:29.523Z"
   },
   {
    "duration": 86,
    "start_time": "2022-06-02T15:48:29.528Z"
   },
   {
    "duration": 41,
    "start_time": "2022-06-02T15:48:29.616Z"
   },
   {
    "duration": 32,
    "start_time": "2022-06-02T15:48:29.659Z"
   },
   {
    "duration": 5,
    "start_time": "2022-06-02T15:48:29.693Z"
   },
   {
    "duration": 35,
    "start_time": "2022-06-02T15:48:29.700Z"
   },
   {
    "duration": 12,
    "start_time": "2022-06-02T15:48:29.744Z"
   },
   {
    "duration": 23,
    "start_time": "2022-06-02T15:48:29.758Z"
   },
   {
    "duration": 30,
    "start_time": "2022-06-02T15:48:29.783Z"
   },
   {
    "duration": 62,
    "start_time": "2022-06-02T15:48:29.814Z"
   },
   {
    "duration": 4,
    "start_time": "2022-06-02T15:48:29.878Z"
   },
   {
    "duration": 37,
    "start_time": "2022-06-02T15:48:29.884Z"
   },
   {
    "duration": 43,
    "start_time": "2022-06-02T15:48:29.923Z"
   },
   {
    "duration": 26,
    "start_time": "2022-06-02T15:48:29.968Z"
   },
   {
    "duration": 50,
    "start_time": "2022-06-02T15:48:29.996Z"
   },
   {
    "duration": 4,
    "start_time": "2022-06-02T15:48:30.047Z"
   },
   {
    "duration": 40,
    "start_time": "2022-06-02T15:48:30.053Z"
   },
   {
    "duration": 21,
    "start_time": "2022-06-02T15:48:30.097Z"
   },
   {
    "duration": 22,
    "start_time": "2022-06-02T15:48:30.120Z"
   },
   {
    "duration": 19,
    "start_time": "2022-06-02T15:48:30.144Z"
   },
   {
    "duration": 16,
    "start_time": "2022-06-02T15:48:30.164Z"
   },
   {
    "duration": 28,
    "start_time": "2022-06-02T15:48:30.181Z"
   },
   {
    "duration": 36,
    "start_time": "2022-06-02T15:48:30.211Z"
   },
   {
    "duration": 167,
    "start_time": "2022-06-02T15:48:30.249Z"
   },
   {
    "duration": 29,
    "start_time": "2022-06-02T15:48:30.418Z"
   },
   {
    "duration": 1220,
    "start_time": "2022-06-02T15:49:05.449Z"
   },
   {
    "duration": 4,
    "start_time": "2022-06-02T15:49:06.671Z"
   },
   {
    "duration": 18,
    "start_time": "2022-06-02T15:49:06.677Z"
   },
   {
    "duration": 74,
    "start_time": "2022-06-02T15:49:06.698Z"
   },
   {
    "duration": 182,
    "start_time": "2022-06-02T15:49:06.774Z"
   },
   {
    "duration": 109,
    "start_time": "2022-06-02T15:49:06.958Z"
   },
   {
    "duration": 175,
    "start_time": "2022-06-02T15:49:07.068Z"
   },
   {
    "duration": 34,
    "start_time": "2022-06-02T15:49:07.245Z"
   },
   {
    "duration": 192,
    "start_time": "2022-06-02T15:49:07.281Z"
   },
   {
    "duration": 146,
    "start_time": "2022-06-02T15:49:07.476Z"
   },
   {
    "duration": 3,
    "start_time": "2022-06-02T15:49:07.624Z"
   },
   {
    "duration": 80,
    "start_time": "2022-06-02T15:49:07.629Z"
   },
   {
    "duration": 46,
    "start_time": "2022-06-02T15:49:07.711Z"
   },
   {
    "duration": 30,
    "start_time": "2022-06-02T15:49:07.759Z"
   },
   {
    "duration": 5,
    "start_time": "2022-06-02T15:49:07.791Z"
   },
   {
    "duration": 32,
    "start_time": "2022-06-02T15:49:07.797Z"
   },
   {
    "duration": 25,
    "start_time": "2022-06-02T15:49:07.832Z"
   },
   {
    "duration": 14,
    "start_time": "2022-06-02T15:49:07.860Z"
   },
   {
    "duration": 18,
    "start_time": "2022-06-02T15:49:07.876Z"
   },
   {
    "duration": 42,
    "start_time": "2022-06-02T15:49:07.896Z"
   },
   {
    "duration": 5,
    "start_time": "2022-06-02T15:49:07.940Z"
   },
   {
    "duration": 19,
    "start_time": "2022-06-02T15:49:07.946Z"
   },
   {
    "duration": 33,
    "start_time": "2022-06-02T15:49:07.967Z"
   },
   {
    "duration": 45,
    "start_time": "2022-06-02T15:49:08.002Z"
   },
   {
    "duration": 32,
    "start_time": "2022-06-02T15:49:08.049Z"
   },
   {
    "duration": 4,
    "start_time": "2022-06-02T15:49:08.083Z"
   },
   {
    "duration": 21,
    "start_time": "2022-06-02T15:49:08.089Z"
   },
   {
    "duration": 48,
    "start_time": "2022-06-02T15:49:08.113Z"
   },
   {
    "duration": 27,
    "start_time": "2022-06-02T15:49:08.163Z"
   },
   {
    "duration": 18,
    "start_time": "2022-06-02T15:49:08.192Z"
   },
   {
    "duration": 8,
    "start_time": "2022-06-02T15:49:08.212Z"
   },
   {
    "duration": 15,
    "start_time": "2022-06-02T15:49:08.245Z"
   },
   {
    "duration": 6,
    "start_time": "2022-06-02T15:49:08.261Z"
   },
   {
    "duration": 160,
    "start_time": "2022-06-02T15:49:08.269Z"
   },
   {
    "duration": 30,
    "start_time": "2022-06-02T15:49:08.431Z"
   },
   {
    "duration": 44,
    "start_time": "2022-06-02T15:56:39.452Z"
   },
   {
    "duration": 1109,
    "start_time": "2022-06-02T15:59:54.689Z"
   },
   {
    "duration": 3,
    "start_time": "2022-06-02T15:59:55.800Z"
   },
   {
    "duration": 11,
    "start_time": "2022-06-02T15:59:55.805Z"
   },
   {
    "duration": 76,
    "start_time": "2022-06-02T15:59:55.818Z"
   },
   {
    "duration": 216,
    "start_time": "2022-06-02T15:59:55.897Z"
   },
   {
    "duration": 115,
    "start_time": "2022-06-02T15:59:56.115Z"
   },
   {
    "duration": 169,
    "start_time": "2022-06-02T15:59:56.232Z"
   },
   {
    "duration": 29,
    "start_time": "2022-06-02T15:59:56.402Z"
   },
   {
    "duration": 171,
    "start_time": "2022-06-02T15:59:56.433Z"
   },
   {
    "duration": 154,
    "start_time": "2022-06-02T15:59:56.607Z"
   },
   {
    "duration": 4,
    "start_time": "2022-06-02T15:59:56.764Z"
   },
   {
    "duration": 180,
    "start_time": "2022-06-02T15:59:56.770Z"
   },
   {
    "duration": 0,
    "start_time": "2022-06-02T15:59:56.953Z"
   },
   {
    "duration": 0,
    "start_time": "2022-06-02T15:59:56.954Z"
   },
   {
    "duration": 0,
    "start_time": "2022-06-02T15:59:56.956Z"
   },
   {
    "duration": 0,
    "start_time": "2022-06-02T15:59:56.957Z"
   },
   {
    "duration": 0,
    "start_time": "2022-06-02T15:59:56.958Z"
   },
   {
    "duration": 0,
    "start_time": "2022-06-02T15:59:56.965Z"
   },
   {
    "duration": 0,
    "start_time": "2022-06-02T15:59:56.966Z"
   },
   {
    "duration": 0,
    "start_time": "2022-06-02T15:59:56.968Z"
   },
   {
    "duration": 0,
    "start_time": "2022-06-02T15:59:56.970Z"
   },
   {
    "duration": 0,
    "start_time": "2022-06-02T15:59:56.973Z"
   },
   {
    "duration": 0,
    "start_time": "2022-06-02T15:59:56.975Z"
   },
   {
    "duration": 0,
    "start_time": "2022-06-02T15:59:56.976Z"
   },
   {
    "duration": 0,
    "start_time": "2022-06-02T15:59:56.977Z"
   },
   {
    "duration": 0,
    "start_time": "2022-06-02T15:59:56.978Z"
   },
   {
    "duration": 0,
    "start_time": "2022-06-02T15:59:56.979Z"
   },
   {
    "duration": 0,
    "start_time": "2022-06-02T15:59:56.981Z"
   },
   {
    "duration": 0,
    "start_time": "2022-06-02T15:59:56.982Z"
   },
   {
    "duration": 0,
    "start_time": "2022-06-02T15:59:56.984Z"
   },
   {
    "duration": 0,
    "start_time": "2022-06-02T15:59:56.985Z"
   },
   {
    "duration": 0,
    "start_time": "2022-06-02T15:59:56.986Z"
   },
   {
    "duration": 0,
    "start_time": "2022-06-02T15:59:56.988Z"
   },
   {
    "duration": 0,
    "start_time": "2022-06-02T15:59:56.990Z"
   },
   {
    "duration": 0,
    "start_time": "2022-06-02T15:59:56.991Z"
   },
   {
    "duration": 1103,
    "start_time": "2022-06-02T16:00:21.491Z"
   },
   {
    "duration": 3,
    "start_time": "2022-06-02T16:00:22.596Z"
   },
   {
    "duration": 7,
    "start_time": "2022-06-02T16:00:22.601Z"
   },
   {
    "duration": 64,
    "start_time": "2022-06-02T16:00:22.610Z"
   },
   {
    "duration": 180,
    "start_time": "2022-06-02T16:00:22.676Z"
   },
   {
    "duration": 108,
    "start_time": "2022-06-02T16:00:22.858Z"
   },
   {
    "duration": 189,
    "start_time": "2022-06-02T16:00:22.968Z"
   },
   {
    "duration": 29,
    "start_time": "2022-06-02T16:00:23.159Z"
   },
   {
    "duration": 161,
    "start_time": "2022-06-02T16:00:23.190Z"
   },
   {
    "duration": 127,
    "start_time": "2022-06-02T16:00:23.355Z"
   },
   {
    "duration": 4,
    "start_time": "2022-06-02T16:00:23.483Z"
   },
   {
    "duration": 83,
    "start_time": "2022-06-02T16:00:23.488Z"
   },
   {
    "duration": 167,
    "start_time": "2022-06-02T16:00:23.573Z"
   },
   {
    "duration": 0,
    "start_time": "2022-06-02T16:00:23.744Z"
   },
   {
    "duration": 0,
    "start_time": "2022-06-02T16:00:23.746Z"
   },
   {
    "duration": 0,
    "start_time": "2022-06-02T16:00:23.747Z"
   },
   {
    "duration": 0,
    "start_time": "2022-06-02T16:00:23.748Z"
   },
   {
    "duration": 0,
    "start_time": "2022-06-02T16:00:23.750Z"
   },
   {
    "duration": 0,
    "start_time": "2022-06-02T16:00:23.751Z"
   },
   {
    "duration": 0,
    "start_time": "2022-06-02T16:00:23.752Z"
   },
   {
    "duration": 0,
    "start_time": "2022-06-02T16:00:23.753Z"
   },
   {
    "duration": 0,
    "start_time": "2022-06-02T16:00:23.755Z"
   },
   {
    "duration": 0,
    "start_time": "2022-06-02T16:00:23.755Z"
   },
   {
    "duration": 0,
    "start_time": "2022-06-02T16:00:23.757Z"
   },
   {
    "duration": 0,
    "start_time": "2022-06-02T16:00:23.758Z"
   },
   {
    "duration": 1,
    "start_time": "2022-06-02T16:00:23.759Z"
   },
   {
    "duration": 0,
    "start_time": "2022-06-02T16:00:23.761Z"
   },
   {
    "duration": 0,
    "start_time": "2022-06-02T16:00:23.762Z"
   },
   {
    "duration": 0,
    "start_time": "2022-06-02T16:00:23.763Z"
   },
   {
    "duration": 0,
    "start_time": "2022-06-02T16:00:23.764Z"
   },
   {
    "duration": 0,
    "start_time": "2022-06-02T16:00:23.766Z"
   },
   {
    "duration": 0,
    "start_time": "2022-06-02T16:00:23.767Z"
   },
   {
    "duration": 0,
    "start_time": "2022-06-02T16:00:23.768Z"
   },
   {
    "duration": 0,
    "start_time": "2022-06-02T16:00:23.769Z"
   },
   {
    "duration": 0,
    "start_time": "2022-06-02T16:00:23.770Z"
   },
   {
    "duration": 1151,
    "start_time": "2022-06-02T16:01:23.417Z"
   },
   {
    "duration": 3,
    "start_time": "2022-06-02T16:01:24.570Z"
   },
   {
    "duration": 15,
    "start_time": "2022-06-02T16:01:24.575Z"
   },
   {
    "duration": 64,
    "start_time": "2022-06-02T16:01:24.593Z"
   },
   {
    "duration": 175,
    "start_time": "2022-06-02T16:01:24.658Z"
   },
   {
    "duration": 128,
    "start_time": "2022-06-02T16:01:24.835Z"
   },
   {
    "duration": 187,
    "start_time": "2022-06-02T16:01:24.965Z"
   },
   {
    "duration": 33,
    "start_time": "2022-06-02T16:01:25.154Z"
   },
   {
    "duration": 179,
    "start_time": "2022-06-02T16:01:25.189Z"
   },
   {
    "duration": 129,
    "start_time": "2022-06-02T16:01:25.371Z"
   },
   {
    "duration": 4,
    "start_time": "2022-06-02T16:01:25.502Z"
   },
   {
    "duration": 82,
    "start_time": "2022-06-02T16:01:25.508Z"
   },
   {
    "duration": 31,
    "start_time": "2022-06-02T16:01:25.592Z"
   },
   {
    "duration": 42,
    "start_time": "2022-06-02T16:01:25.624Z"
   },
   {
    "duration": 5,
    "start_time": "2022-06-02T16:01:25.668Z"
   },
   {
    "duration": 24,
    "start_time": "2022-06-02T16:01:25.674Z"
   },
   {
    "duration": 11,
    "start_time": "2022-06-02T16:01:25.700Z"
   },
   {
    "duration": 17,
    "start_time": "2022-06-02T16:01:25.713Z"
   },
   {
    "duration": 12,
    "start_time": "2022-06-02T16:01:25.732Z"
   },
   {
    "duration": 26,
    "start_time": "2022-06-02T16:01:25.746Z"
   },
   {
    "duration": 5,
    "start_time": "2022-06-02T16:01:25.773Z"
   },
   {
    "duration": 21,
    "start_time": "2022-06-02T16:01:25.780Z"
   },
   {
    "duration": 63,
    "start_time": "2022-06-02T16:01:25.803Z"
   },
   {
    "duration": 86,
    "start_time": "2022-06-02T16:01:25.868Z"
   },
   {
    "duration": 97,
    "start_time": "2022-06-02T16:01:25.956Z"
   },
   {
    "duration": 5,
    "start_time": "2022-06-02T16:01:26.055Z"
   },
   {
    "duration": 111,
    "start_time": "2022-06-02T16:01:26.062Z"
   },
   {
    "duration": 21,
    "start_time": "2022-06-02T16:01:26.177Z"
   },
   {
    "duration": 107,
    "start_time": "2022-06-02T16:01:26.200Z"
   },
   {
    "duration": 35,
    "start_time": "2022-06-02T16:01:26.310Z"
   },
   {
    "duration": 49,
    "start_time": "2022-06-02T16:01:26.347Z"
   },
   {
    "duration": 91,
    "start_time": "2022-06-02T16:01:26.399Z"
   },
   {
    "duration": 7,
    "start_time": "2022-06-02T16:01:26.493Z"
   },
   {
    "duration": 7867,
    "start_time": "2022-06-02T16:01:26.502Z"
   },
   {
    "duration": 40,
    "start_time": "2022-06-02T16:01:34.371Z"
   },
   {
    "duration": 1184,
    "start_time": "2022-06-02T16:03:36.395Z"
   },
   {
    "duration": 3,
    "start_time": "2022-06-02T16:03:37.581Z"
   },
   {
    "duration": 34,
    "start_time": "2022-06-02T16:03:37.585Z"
   },
   {
    "duration": 96,
    "start_time": "2022-06-02T16:03:37.622Z"
   },
   {
    "duration": 237,
    "start_time": "2022-06-02T16:03:37.720Z"
   },
   {
    "duration": 146,
    "start_time": "2022-06-02T16:03:37.959Z"
   },
   {
    "duration": 187,
    "start_time": "2022-06-02T16:03:38.108Z"
   },
   {
    "duration": 33,
    "start_time": "2022-06-02T16:03:38.297Z"
   },
   {
    "duration": 185,
    "start_time": "2022-06-02T16:03:38.331Z"
   },
   {
    "duration": 137,
    "start_time": "2022-06-02T16:03:38.544Z"
   },
   {
    "duration": 4,
    "start_time": "2022-06-02T16:03:38.683Z"
   },
   {
    "duration": 87,
    "start_time": "2022-06-02T16:03:38.688Z"
   },
   {
    "duration": 43,
    "start_time": "2022-06-02T16:03:38.777Z"
   },
   {
    "duration": 59,
    "start_time": "2022-06-02T16:03:38.822Z"
   },
   {
    "duration": 4,
    "start_time": "2022-06-02T16:03:38.883Z"
   },
   {
    "duration": 28,
    "start_time": "2022-06-02T16:03:38.889Z"
   },
   {
    "duration": 27,
    "start_time": "2022-06-02T16:03:38.918Z"
   },
   {
    "duration": 10,
    "start_time": "2022-06-02T16:03:38.947Z"
   },
   {
    "duration": 10,
    "start_time": "2022-06-02T16:03:38.958Z"
   },
   {
    "duration": 120,
    "start_time": "2022-06-02T16:03:38.970Z"
   },
   {
    "duration": 0,
    "start_time": "2022-06-02T16:03:39.092Z"
   },
   {
    "duration": 0,
    "start_time": "2022-06-02T16:03:39.094Z"
   },
   {
    "duration": 0,
    "start_time": "2022-06-02T16:03:39.095Z"
   },
   {
    "duration": 0,
    "start_time": "2022-06-02T16:03:39.097Z"
   },
   {
    "duration": 0,
    "start_time": "2022-06-02T16:03:39.098Z"
   },
   {
    "duration": 0,
    "start_time": "2022-06-02T16:03:39.100Z"
   },
   {
    "duration": 0,
    "start_time": "2022-06-02T16:03:39.102Z"
   },
   {
    "duration": 0,
    "start_time": "2022-06-02T16:03:39.103Z"
   },
   {
    "duration": 0,
    "start_time": "2022-06-02T16:03:39.104Z"
   },
   {
    "duration": 0,
    "start_time": "2022-06-02T16:03:39.105Z"
   },
   {
    "duration": 0,
    "start_time": "2022-06-02T16:03:39.106Z"
   },
   {
    "duration": 0,
    "start_time": "2022-06-02T16:03:39.108Z"
   },
   {
    "duration": 0,
    "start_time": "2022-06-02T16:03:39.109Z"
   },
   {
    "duration": 0,
    "start_time": "2022-06-02T16:03:39.110Z"
   },
   {
    "duration": 0,
    "start_time": "2022-06-02T16:03:39.112Z"
   },
   {
    "duration": 1218,
    "start_time": "2022-06-02T16:05:19.402Z"
   },
   {
    "duration": 3,
    "start_time": "2022-06-02T16:05:20.622Z"
   },
   {
    "duration": 39,
    "start_time": "2022-06-02T16:05:20.627Z"
   },
   {
    "duration": 113,
    "start_time": "2022-06-02T16:05:20.668Z"
   },
   {
    "duration": 228,
    "start_time": "2022-06-02T16:05:20.783Z"
   },
   {
    "duration": 142,
    "start_time": "2022-06-02T16:05:21.013Z"
   },
   {
    "duration": 180,
    "start_time": "2022-06-02T16:05:21.157Z"
   },
   {
    "duration": 50,
    "start_time": "2022-06-02T16:05:21.344Z"
   },
   {
    "duration": 178,
    "start_time": "2022-06-02T16:05:21.396Z"
   },
   {
    "duration": 167,
    "start_time": "2022-06-02T16:05:21.577Z"
   },
   {
    "duration": 6,
    "start_time": "2022-06-02T16:05:21.747Z"
   },
   {
    "duration": 161,
    "start_time": "2022-06-02T16:05:21.755Z"
   },
   {
    "duration": 0,
    "start_time": "2022-06-02T16:05:21.918Z"
   },
   {
    "duration": 0,
    "start_time": "2022-06-02T16:05:21.920Z"
   },
   {
    "duration": 0,
    "start_time": "2022-06-02T16:05:21.922Z"
   },
   {
    "duration": 0,
    "start_time": "2022-06-02T16:05:21.923Z"
   },
   {
    "duration": 0,
    "start_time": "2022-06-02T16:05:21.925Z"
   },
   {
    "duration": 0,
    "start_time": "2022-06-02T16:05:21.926Z"
   },
   {
    "duration": 0,
    "start_time": "2022-06-02T16:05:21.927Z"
   },
   {
    "duration": 0,
    "start_time": "2022-06-02T16:05:21.928Z"
   },
   {
    "duration": 0,
    "start_time": "2022-06-02T16:05:21.945Z"
   },
   {
    "duration": 0,
    "start_time": "2022-06-02T16:05:21.947Z"
   },
   {
    "duration": 0,
    "start_time": "2022-06-02T16:05:21.948Z"
   },
   {
    "duration": 0,
    "start_time": "2022-06-02T16:05:21.950Z"
   },
   {
    "duration": 0,
    "start_time": "2022-06-02T16:05:21.951Z"
   },
   {
    "duration": 0,
    "start_time": "2022-06-02T16:05:21.952Z"
   },
   {
    "duration": 0,
    "start_time": "2022-06-02T16:05:21.956Z"
   },
   {
    "duration": 0,
    "start_time": "2022-06-02T16:05:21.957Z"
   },
   {
    "duration": 0,
    "start_time": "2022-06-02T16:05:21.958Z"
   },
   {
    "duration": 0,
    "start_time": "2022-06-02T16:05:21.960Z"
   },
   {
    "duration": 0,
    "start_time": "2022-06-02T16:05:21.961Z"
   },
   {
    "duration": 0,
    "start_time": "2022-06-02T16:05:21.962Z"
   },
   {
    "duration": 0,
    "start_time": "2022-06-02T16:05:21.963Z"
   },
   {
    "duration": 0,
    "start_time": "2022-06-02T16:05:21.965Z"
   },
   {
    "duration": 0,
    "start_time": "2022-06-02T16:05:21.966Z"
   },
   {
    "duration": 1256,
    "start_time": "2022-06-02T16:06:26.265Z"
   },
   {
    "duration": 5,
    "start_time": "2022-06-02T16:06:27.523Z"
   },
   {
    "duration": 26,
    "start_time": "2022-06-02T16:06:27.534Z"
   },
   {
    "duration": 108,
    "start_time": "2022-06-02T16:06:27.565Z"
   },
   {
    "duration": 217,
    "start_time": "2022-06-02T16:06:27.675Z"
   },
   {
    "duration": 144,
    "start_time": "2022-06-02T16:06:27.894Z"
   },
   {
    "duration": 193,
    "start_time": "2022-06-02T16:06:28.044Z"
   },
   {
    "duration": 34,
    "start_time": "2022-06-02T16:06:28.239Z"
   },
   {
    "duration": 170,
    "start_time": "2022-06-02T16:06:28.275Z"
   },
   {
    "duration": 162,
    "start_time": "2022-06-02T16:06:28.448Z"
   },
   {
    "duration": 5,
    "start_time": "2022-06-02T16:06:28.612Z"
   },
   {
    "duration": 105,
    "start_time": "2022-06-02T16:06:28.619Z"
   },
   {
    "duration": 178,
    "start_time": "2022-06-02T16:06:28.728Z"
   },
   {
    "duration": 0,
    "start_time": "2022-06-02T16:06:28.908Z"
   },
   {
    "duration": 0,
    "start_time": "2022-06-02T16:06:28.909Z"
   },
   {
    "duration": 0,
    "start_time": "2022-06-02T16:06:28.911Z"
   },
   {
    "duration": 0,
    "start_time": "2022-06-02T16:06:28.912Z"
   },
   {
    "duration": 0,
    "start_time": "2022-06-02T16:06:28.914Z"
   },
   {
    "duration": 0,
    "start_time": "2022-06-02T16:06:28.915Z"
   },
   {
    "duration": 0,
    "start_time": "2022-06-02T16:06:28.917Z"
   },
   {
    "duration": 0,
    "start_time": "2022-06-02T16:06:28.918Z"
   },
   {
    "duration": 0,
    "start_time": "2022-06-02T16:06:28.919Z"
   },
   {
    "duration": 0,
    "start_time": "2022-06-02T16:06:28.921Z"
   },
   {
    "duration": 0,
    "start_time": "2022-06-02T16:06:28.949Z"
   },
   {
    "duration": 0,
    "start_time": "2022-06-02T16:06:28.950Z"
   },
   {
    "duration": 0,
    "start_time": "2022-06-02T16:06:28.951Z"
   },
   {
    "duration": 0,
    "start_time": "2022-06-02T16:06:28.952Z"
   },
   {
    "duration": 0,
    "start_time": "2022-06-02T16:06:28.955Z"
   },
   {
    "duration": 0,
    "start_time": "2022-06-02T16:06:28.956Z"
   },
   {
    "duration": 0,
    "start_time": "2022-06-02T16:06:28.957Z"
   },
   {
    "duration": 0,
    "start_time": "2022-06-02T16:06:28.958Z"
   },
   {
    "duration": 0,
    "start_time": "2022-06-02T16:06:28.959Z"
   },
   {
    "duration": 0,
    "start_time": "2022-06-02T16:06:28.960Z"
   },
   {
    "duration": 0,
    "start_time": "2022-06-02T16:06:28.962Z"
   },
   {
    "duration": 0,
    "start_time": "2022-06-02T16:06:28.963Z"
   },
   {
    "duration": 1229,
    "start_time": "2022-06-02T16:06:43.663Z"
   },
   {
    "duration": 3,
    "start_time": "2022-06-02T16:06:44.894Z"
   },
   {
    "duration": 37,
    "start_time": "2022-06-02T16:06:44.899Z"
   },
   {
    "duration": 116,
    "start_time": "2022-06-02T16:06:44.938Z"
   },
   {
    "duration": 223,
    "start_time": "2022-06-02T16:06:45.058Z"
   },
   {
    "duration": 130,
    "start_time": "2022-06-02T16:06:45.283Z"
   },
   {
    "duration": 190,
    "start_time": "2022-06-02T16:06:45.415Z"
   },
   {
    "duration": 30,
    "start_time": "2022-06-02T16:06:45.606Z"
   },
   {
    "duration": 169,
    "start_time": "2022-06-02T16:06:45.637Z"
   },
   {
    "duration": 168,
    "start_time": "2022-06-02T16:06:45.808Z"
   },
   {
    "duration": 3,
    "start_time": "2022-06-02T16:06:45.978Z"
   },
   {
    "duration": 104,
    "start_time": "2022-06-02T16:06:45.983Z"
   },
   {
    "duration": 36,
    "start_time": "2022-06-02T16:06:46.089Z"
   },
   {
    "duration": 52,
    "start_time": "2022-06-02T16:06:46.129Z"
   },
   {
    "duration": 10,
    "start_time": "2022-06-02T16:06:46.183Z"
   },
   {
    "duration": 47,
    "start_time": "2022-06-02T16:06:46.196Z"
   },
   {
    "duration": 42,
    "start_time": "2022-06-02T16:06:46.246Z"
   },
   {
    "duration": 23,
    "start_time": "2022-06-02T16:06:46.291Z"
   },
   {
    "duration": 46,
    "start_time": "2022-06-02T16:06:46.316Z"
   },
   {
    "duration": 65,
    "start_time": "2022-06-02T16:06:46.364Z"
   },
   {
    "duration": 35,
    "start_time": "2022-06-02T16:06:46.431Z"
   },
   {
    "duration": 46,
    "start_time": "2022-06-02T16:06:46.468Z"
   },
   {
    "duration": 94,
    "start_time": "2022-06-02T16:06:46.516Z"
   },
   {
    "duration": 36,
    "start_time": "2022-06-02T16:06:46.612Z"
   },
   {
    "duration": 58,
    "start_time": "2022-06-02T16:06:46.650Z"
   },
   {
    "duration": 9,
    "start_time": "2022-06-02T16:06:46.710Z"
   },
   {
    "duration": 60,
    "start_time": "2022-06-02T16:06:46.720Z"
   },
   {
    "duration": 40,
    "start_time": "2022-06-02T16:06:46.782Z"
   },
   {
    "duration": 45,
    "start_time": "2022-06-02T16:06:46.824Z"
   },
   {
    "duration": 47,
    "start_time": "2022-06-02T16:06:46.871Z"
   },
   {
    "duration": 52,
    "start_time": "2022-06-02T16:06:46.920Z"
   },
   {
    "duration": 31,
    "start_time": "2022-06-02T16:06:46.973Z"
   },
   {
    "duration": 21,
    "start_time": "2022-06-02T16:06:47.006Z"
   },
   {
    "duration": 183,
    "start_time": "2022-06-02T16:06:47.029Z"
   },
   {
    "duration": 23,
    "start_time": "2022-06-02T16:06:47.213Z"
   },
   {
    "duration": 1128,
    "start_time": "2022-06-02T16:10:17.485Z"
   },
   {
    "duration": 2,
    "start_time": "2022-06-02T16:10:18.615Z"
   },
   {
    "duration": 16,
    "start_time": "2022-06-02T16:10:18.619Z"
   },
   {
    "duration": 65,
    "start_time": "2022-06-02T16:10:18.637Z"
   },
   {
    "duration": 193,
    "start_time": "2022-06-02T16:10:18.704Z"
   },
   {
    "duration": 119,
    "start_time": "2022-06-02T16:10:18.899Z"
   },
   {
    "duration": 165,
    "start_time": "2022-06-02T16:10:19.019Z"
   },
   {
    "duration": 28,
    "start_time": "2022-06-02T16:10:19.185Z"
   },
   {
    "duration": 171,
    "start_time": "2022-06-02T16:10:19.214Z"
   },
   {
    "duration": 143,
    "start_time": "2022-06-02T16:10:19.389Z"
   },
   {
    "duration": 11,
    "start_time": "2022-06-02T16:10:19.534Z"
   },
   {
    "duration": 85,
    "start_time": "2022-06-02T16:10:19.546Z"
   },
   {
    "duration": 50,
    "start_time": "2022-06-02T16:10:19.633Z"
   },
   {
    "duration": 31,
    "start_time": "2022-06-02T16:10:19.686Z"
   },
   {
    "duration": 5,
    "start_time": "2022-06-02T16:10:19.719Z"
   },
   {
    "duration": 24,
    "start_time": "2022-06-02T16:10:19.743Z"
   },
   {
    "duration": 3,
    "start_time": "2022-06-02T16:10:19.768Z"
   },
   {
    "duration": 10,
    "start_time": "2022-06-02T16:10:19.773Z"
   },
   {
    "duration": 18,
    "start_time": "2022-06-02T16:10:19.785Z"
   },
   {
    "duration": 49,
    "start_time": "2022-06-02T16:10:19.805Z"
   },
   {
    "duration": 5,
    "start_time": "2022-06-02T16:10:19.855Z"
   },
   {
    "duration": 15,
    "start_time": "2022-06-02T16:10:19.862Z"
   },
   {
    "duration": 34,
    "start_time": "2022-06-02T16:10:19.879Z"
   },
   {
    "duration": 152,
    "start_time": "2022-06-02T16:10:19.915Z"
   },
   {
    "duration": 0,
    "start_time": "2022-06-02T16:10:20.070Z"
   },
   {
    "duration": 0,
    "start_time": "2022-06-02T16:10:20.071Z"
   },
   {
    "duration": 0,
    "start_time": "2022-06-02T16:10:20.072Z"
   },
   {
    "duration": 0,
    "start_time": "2022-06-02T16:10:20.073Z"
   },
   {
    "duration": 0,
    "start_time": "2022-06-02T16:10:20.076Z"
   },
   {
    "duration": 0,
    "start_time": "2022-06-02T16:10:20.077Z"
   },
   {
    "duration": 0,
    "start_time": "2022-06-02T16:10:20.078Z"
   },
   {
    "duration": 0,
    "start_time": "2022-06-02T16:10:20.080Z"
   },
   {
    "duration": 0,
    "start_time": "2022-06-02T16:10:20.081Z"
   },
   {
    "duration": 0,
    "start_time": "2022-06-02T16:10:20.083Z"
   },
   {
    "duration": 0,
    "start_time": "2022-06-02T16:10:20.084Z"
   },
   {
    "duration": 67,
    "start_time": "2022-06-03T08:57:45.040Z"
   },
   {
    "duration": 1311,
    "start_time": "2022-06-03T08:57:51.830Z"
   },
   {
    "duration": 3,
    "start_time": "2022-06-03T08:57:53.143Z"
   },
   {
    "duration": 10,
    "start_time": "2022-06-03T08:57:53.147Z"
   },
   {
    "duration": 103,
    "start_time": "2022-06-03T08:57:53.158Z"
   },
   {
    "duration": 253,
    "start_time": "2022-06-03T08:57:53.263Z"
   },
   {
    "duration": 327,
    "start_time": "2022-06-03T08:57:53.518Z"
   },
   {
    "duration": 349,
    "start_time": "2022-06-03T08:57:53.847Z"
   },
   {
    "duration": 85,
    "start_time": "2022-06-03T08:57:54.197Z"
   },
   {
    "duration": 171,
    "start_time": "2022-06-03T08:57:54.284Z"
   },
   {
    "duration": 178,
    "start_time": "2022-06-03T08:57:54.459Z"
   },
   {
    "duration": 4,
    "start_time": "2022-06-03T08:57:54.639Z"
   },
   {
    "duration": 88,
    "start_time": "2022-06-03T08:57:54.645Z"
   },
   {
    "duration": 42,
    "start_time": "2022-06-03T08:57:54.735Z"
   },
   {
    "duration": 49,
    "start_time": "2022-06-03T08:57:54.778Z"
   },
   {
    "duration": 5,
    "start_time": "2022-06-03T08:57:54.829Z"
   },
   {
    "duration": 27,
    "start_time": "2022-06-03T08:57:54.835Z"
   },
   {
    "duration": 7,
    "start_time": "2022-06-03T08:57:54.864Z"
   },
   {
    "duration": 12,
    "start_time": "2022-06-03T08:57:54.872Z"
   },
   {
    "duration": 6,
    "start_time": "2022-06-03T08:57:54.886Z"
   },
   {
    "duration": 34,
    "start_time": "2022-06-03T08:57:54.894Z"
   },
   {
    "duration": 4,
    "start_time": "2022-06-03T08:57:54.929Z"
   },
   {
    "duration": 20,
    "start_time": "2022-06-03T08:57:54.934Z"
   },
   {
    "duration": 30,
    "start_time": "2022-06-03T08:57:54.955Z"
   },
   {
    "duration": 134,
    "start_time": "2022-06-03T08:57:54.986Z"
   },
   {
    "duration": 0,
    "start_time": "2022-06-03T08:57:55.121Z"
   },
   {
    "duration": 0,
    "start_time": "2022-06-03T08:57:55.126Z"
   },
   {
    "duration": 0,
    "start_time": "2022-06-03T08:57:55.128Z"
   },
   {
    "duration": 0,
    "start_time": "2022-06-03T08:57:55.129Z"
   },
   {
    "duration": 0,
    "start_time": "2022-06-03T08:57:55.131Z"
   },
   {
    "duration": 0,
    "start_time": "2022-06-03T08:57:55.132Z"
   },
   {
    "duration": 0,
    "start_time": "2022-06-03T08:57:55.133Z"
   },
   {
    "duration": 0,
    "start_time": "2022-06-03T08:57:55.134Z"
   },
   {
    "duration": 1,
    "start_time": "2022-06-03T08:57:55.136Z"
   },
   {
    "duration": 0,
    "start_time": "2022-06-03T08:57:55.138Z"
   },
   {
    "duration": 0,
    "start_time": "2022-06-03T08:57:55.140Z"
   },
   {
    "duration": 32,
    "start_time": "2022-06-03T08:58:05.699Z"
   },
   {
    "duration": 39,
    "start_time": "2022-06-03T08:58:42.794Z"
   },
   {
    "duration": 49,
    "start_time": "2022-06-03T08:59:43.604Z"
   },
   {
    "duration": 1107,
    "start_time": "2022-06-03T09:02:55.571Z"
   },
   {
    "duration": 2,
    "start_time": "2022-06-03T09:02:56.680Z"
   },
   {
    "duration": 11,
    "start_time": "2022-06-03T09:02:56.684Z"
   },
   {
    "duration": 74,
    "start_time": "2022-06-03T09:02:56.696Z"
   },
   {
    "duration": 185,
    "start_time": "2022-06-03T09:02:56.773Z"
   },
   {
    "duration": 117,
    "start_time": "2022-06-03T09:02:56.959Z"
   },
   {
    "duration": 177,
    "start_time": "2022-06-03T09:02:57.078Z"
   },
   {
    "duration": 29,
    "start_time": "2022-06-03T09:02:57.257Z"
   },
   {
    "duration": 166,
    "start_time": "2022-06-03T09:02:57.287Z"
   },
   {
    "duration": 157,
    "start_time": "2022-06-03T09:02:57.455Z"
   },
   {
    "duration": 4,
    "start_time": "2022-06-03T09:02:57.626Z"
   },
   {
    "duration": 72,
    "start_time": "2022-06-03T09:02:57.633Z"
   },
   {
    "duration": 47,
    "start_time": "2022-06-03T09:02:57.707Z"
   },
   {
    "duration": 31,
    "start_time": "2022-06-03T09:02:57.757Z"
   },
   {
    "duration": 4,
    "start_time": "2022-06-03T09:02:57.790Z"
   },
   {
    "duration": 65,
    "start_time": "2022-06-03T09:02:57.795Z"
   },
   {
    "duration": 7,
    "start_time": "2022-06-03T09:02:57.861Z"
   },
   {
    "duration": 8,
    "start_time": "2022-06-03T09:02:57.869Z"
   },
   {
    "duration": 9,
    "start_time": "2022-06-03T09:02:57.878Z"
   },
   {
    "duration": 37,
    "start_time": "2022-06-03T09:02:57.889Z"
   },
   {
    "duration": 4,
    "start_time": "2022-06-03T09:02:57.927Z"
   },
   {
    "duration": 25,
    "start_time": "2022-06-03T09:02:57.932Z"
   },
   {
    "duration": 29,
    "start_time": "2022-06-03T09:02:57.958Z"
   },
   {
    "duration": 10,
    "start_time": "2022-06-03T09:02:57.989Z"
   },
   {
    "duration": 42,
    "start_time": "2022-06-03T09:02:58.000Z"
   },
   {
    "duration": 5,
    "start_time": "2022-06-03T09:02:58.044Z"
   },
   {
    "duration": 27,
    "start_time": "2022-06-03T09:02:58.050Z"
   },
   {
    "duration": 19,
    "start_time": "2022-06-03T09:02:58.079Z"
   },
   {
    "duration": 38,
    "start_time": "2022-06-03T09:02:58.100Z"
   },
   {
    "duration": 21,
    "start_time": "2022-06-03T09:02:58.140Z"
   },
   {
    "duration": 11,
    "start_time": "2022-06-03T09:02:58.163Z"
   },
   {
    "duration": 15,
    "start_time": "2022-06-03T09:02:58.175Z"
   },
   {
    "duration": 4,
    "start_time": "2022-06-03T09:02:58.192Z"
   },
   {
    "duration": 150,
    "start_time": "2022-06-03T09:02:58.198Z"
   },
   {
    "duration": 23,
    "start_time": "2022-06-03T09:02:58.349Z"
   },
   {
    "duration": 3,
    "start_time": "2022-06-03T09:04:07.151Z"
   },
   {
    "duration": 1183,
    "start_time": "2022-06-03T09:05:51.300Z"
   },
   {
    "duration": 3,
    "start_time": "2022-06-03T09:05:52.486Z"
   },
   {
    "duration": 15,
    "start_time": "2022-06-03T09:05:52.490Z"
   },
   {
    "duration": 75,
    "start_time": "2022-06-03T09:05:52.507Z"
   },
   {
    "duration": 187,
    "start_time": "2022-06-03T09:05:52.584Z"
   },
   {
    "duration": 123,
    "start_time": "2022-06-03T09:05:52.773Z"
   },
   {
    "duration": 166,
    "start_time": "2022-06-03T09:05:52.898Z"
   },
   {
    "duration": 30,
    "start_time": "2022-06-03T09:05:53.065Z"
   },
   {
    "duration": 153,
    "start_time": "2022-06-03T09:05:53.097Z"
   },
   {
    "duration": 155,
    "start_time": "2022-06-03T09:05:53.253Z"
   },
   {
    "duration": 16,
    "start_time": "2022-06-03T09:05:53.410Z"
   },
   {
    "duration": 72,
    "start_time": "2022-06-03T09:05:53.428Z"
   },
   {
    "duration": 47,
    "start_time": "2022-06-03T09:05:53.501Z"
   },
   {
    "duration": 35,
    "start_time": "2022-06-03T09:05:53.549Z"
   },
   {
    "duration": 5,
    "start_time": "2022-06-03T09:05:53.586Z"
   },
   {
    "duration": 46,
    "start_time": "2022-06-03T09:05:53.592Z"
   },
   {
    "duration": 3,
    "start_time": "2022-06-03T09:05:53.640Z"
   },
   {
    "duration": 10,
    "start_time": "2022-06-03T09:05:53.644Z"
   },
   {
    "duration": 15,
    "start_time": "2022-06-03T09:05:53.656Z"
   },
   {
    "duration": 40,
    "start_time": "2022-06-03T09:05:53.673Z"
   },
   {
    "duration": 11,
    "start_time": "2022-06-03T09:05:53.716Z"
   },
   {
    "duration": 25,
    "start_time": "2022-06-03T09:05:53.729Z"
   },
   {
    "duration": 36,
    "start_time": "2022-06-03T09:05:53.756Z"
   },
   {
    "duration": 44,
    "start_time": "2022-06-03T09:05:53.794Z"
   },
   {
    "duration": 134,
    "start_time": "2022-06-03T09:05:53.840Z"
   },
   {
    "duration": 0,
    "start_time": "2022-06-03T09:05:53.976Z"
   },
   {
    "duration": 0,
    "start_time": "2022-06-03T09:05:53.977Z"
   },
   {
    "duration": 0,
    "start_time": "2022-06-03T09:05:53.979Z"
   },
   {
    "duration": 0,
    "start_time": "2022-06-03T09:05:53.983Z"
   },
   {
    "duration": 0,
    "start_time": "2022-06-03T09:05:53.985Z"
   },
   {
    "duration": 0,
    "start_time": "2022-06-03T09:05:53.986Z"
   },
   {
    "duration": 0,
    "start_time": "2022-06-03T09:05:53.988Z"
   },
   {
    "duration": 0,
    "start_time": "2022-06-03T09:05:53.989Z"
   },
   {
    "duration": 0,
    "start_time": "2022-06-03T09:05:53.991Z"
   },
   {
    "duration": 0,
    "start_time": "2022-06-03T09:05:53.992Z"
   },
   {
    "duration": 10,
    "start_time": "2022-06-03T09:06:27.143Z"
   },
   {
    "duration": 46,
    "start_time": "2022-06-03T09:06:33.190Z"
   },
   {
    "duration": 13,
    "start_time": "2022-06-03T09:06:42.284Z"
   },
   {
    "duration": 1242,
    "start_time": "2022-06-03T09:07:00.942Z"
   },
   {
    "duration": 3,
    "start_time": "2022-06-03T09:07:02.186Z"
   },
   {
    "duration": 26,
    "start_time": "2022-06-03T09:07:02.190Z"
   },
   {
    "duration": 79,
    "start_time": "2022-06-03T09:07:02.218Z"
   },
   {
    "duration": 190,
    "start_time": "2022-06-03T09:07:02.300Z"
   },
   {
    "duration": 110,
    "start_time": "2022-06-03T09:07:02.492Z"
   },
   {
    "duration": 170,
    "start_time": "2022-06-03T09:07:02.604Z"
   },
   {
    "duration": 31,
    "start_time": "2022-06-03T09:07:02.776Z"
   },
   {
    "duration": 152,
    "start_time": "2022-06-03T09:07:02.809Z"
   },
   {
    "duration": 148,
    "start_time": "2022-06-03T09:07:02.962Z"
   },
   {
    "duration": 15,
    "start_time": "2022-06-03T09:07:03.112Z"
   },
   {
    "duration": 74,
    "start_time": "2022-06-03T09:07:03.128Z"
   },
   {
    "duration": 45,
    "start_time": "2022-06-03T09:07:03.204Z"
   },
   {
    "duration": 33,
    "start_time": "2022-06-03T09:07:03.252Z"
   },
   {
    "duration": 12,
    "start_time": "2022-06-03T09:07:03.287Z"
   },
   {
    "duration": 44,
    "start_time": "2022-06-03T09:07:03.301Z"
   },
   {
    "duration": 8,
    "start_time": "2022-06-03T09:07:03.346Z"
   },
   {
    "duration": 8,
    "start_time": "2022-06-03T09:07:03.355Z"
   },
   {
    "duration": 17,
    "start_time": "2022-06-03T09:07:03.364Z"
   },
   {
    "duration": 42,
    "start_time": "2022-06-03T09:07:03.382Z"
   },
   {
    "duration": 5,
    "start_time": "2022-06-03T09:07:03.425Z"
   },
   {
    "duration": 26,
    "start_time": "2022-06-03T09:07:03.431Z"
   },
   {
    "duration": 42,
    "start_time": "2022-06-03T09:07:03.458Z"
   },
   {
    "duration": 39,
    "start_time": "2022-06-03T09:07:03.502Z"
   },
   {
    "duration": 116,
    "start_time": "2022-06-03T09:07:03.542Z"
   },
   {
    "duration": 0,
    "start_time": "2022-06-03T09:07:03.660Z"
   },
   {
    "duration": 0,
    "start_time": "2022-06-03T09:07:03.661Z"
   },
   {
    "duration": 0,
    "start_time": "2022-06-03T09:07:03.662Z"
   },
   {
    "duration": 0,
    "start_time": "2022-06-03T09:07:03.663Z"
   },
   {
    "duration": 0,
    "start_time": "2022-06-03T09:07:03.664Z"
   },
   {
    "duration": 0,
    "start_time": "2022-06-03T09:07:03.665Z"
   },
   {
    "duration": 0,
    "start_time": "2022-06-03T09:07:03.666Z"
   },
   {
    "duration": 0,
    "start_time": "2022-06-03T09:07:03.667Z"
   },
   {
    "duration": 0,
    "start_time": "2022-06-03T09:07:03.668Z"
   },
   {
    "duration": 0,
    "start_time": "2022-06-03T09:07:03.669Z"
   },
   {
    "duration": 1226,
    "start_time": "2022-06-03T09:08:01.954Z"
   },
   {
    "duration": 2,
    "start_time": "2022-06-03T09:08:03.182Z"
   },
   {
    "duration": 26,
    "start_time": "2022-06-03T09:08:03.186Z"
   },
   {
    "duration": 106,
    "start_time": "2022-06-03T09:08:03.215Z"
   },
   {
    "duration": 194,
    "start_time": "2022-06-03T09:08:03.323Z"
   },
   {
    "duration": 114,
    "start_time": "2022-06-03T09:08:03.519Z"
   },
   {
    "duration": 178,
    "start_time": "2022-06-03T09:08:03.634Z"
   },
   {
    "duration": 30,
    "start_time": "2022-06-03T09:08:03.814Z"
   },
   {
    "duration": 147,
    "start_time": "2022-06-03T09:08:03.846Z"
   },
   {
    "duration": 151,
    "start_time": "2022-06-03T09:08:03.996Z"
   },
   {
    "duration": 4,
    "start_time": "2022-06-03T09:08:04.149Z"
   },
   {
    "duration": 96,
    "start_time": "2022-06-03T09:08:04.155Z"
   },
   {
    "duration": 47,
    "start_time": "2022-06-03T09:08:04.253Z"
   },
   {
    "duration": 55,
    "start_time": "2022-06-03T09:08:04.302Z"
   },
   {
    "duration": 4,
    "start_time": "2022-06-03T09:08:04.359Z"
   },
   {
    "duration": 33,
    "start_time": "2022-06-03T09:08:04.365Z"
   },
   {
    "duration": 3,
    "start_time": "2022-06-03T09:08:04.403Z"
   },
   {
    "duration": 23,
    "start_time": "2022-06-03T09:08:04.408Z"
   },
   {
    "duration": 22,
    "start_time": "2022-06-03T09:08:04.433Z"
   },
   {
    "duration": 61,
    "start_time": "2022-06-03T09:08:04.457Z"
   },
   {
    "duration": 5,
    "start_time": "2022-06-03T09:08:04.520Z"
   },
   {
    "duration": 44,
    "start_time": "2022-06-03T09:08:04.527Z"
   },
   {
    "duration": 51,
    "start_time": "2022-06-03T09:08:04.573Z"
   },
   {
    "duration": 48,
    "start_time": "2022-06-03T09:08:04.628Z"
   },
   {
    "duration": 135,
    "start_time": "2022-06-03T09:08:04.677Z"
   },
   {
    "duration": 0,
    "start_time": "2022-06-03T09:08:04.814Z"
   },
   {
    "duration": 0,
    "start_time": "2022-06-03T09:08:04.817Z"
   },
   {
    "duration": 0,
    "start_time": "2022-06-03T09:08:04.818Z"
   },
   {
    "duration": 0,
    "start_time": "2022-06-03T09:08:04.825Z"
   },
   {
    "duration": 0,
    "start_time": "2022-06-03T09:08:04.827Z"
   },
   {
    "duration": 0,
    "start_time": "2022-06-03T09:08:04.828Z"
   },
   {
    "duration": 0,
    "start_time": "2022-06-03T09:08:04.830Z"
   },
   {
    "duration": 0,
    "start_time": "2022-06-03T09:08:04.832Z"
   },
   {
    "duration": 0,
    "start_time": "2022-06-03T09:08:04.833Z"
   },
   {
    "duration": 0,
    "start_time": "2022-06-03T09:08:04.835Z"
   },
   {
    "duration": 1185,
    "start_time": "2022-06-03T09:09:25.393Z"
   },
   {
    "duration": 2,
    "start_time": "2022-06-03T09:09:26.581Z"
   },
   {
    "duration": 9,
    "start_time": "2022-06-03T09:09:26.585Z"
   },
   {
    "duration": 61,
    "start_time": "2022-06-03T09:09:26.596Z"
   },
   {
    "duration": 179,
    "start_time": "2022-06-03T09:09:26.659Z"
   },
   {
    "duration": 111,
    "start_time": "2022-06-03T09:09:26.839Z"
   },
   {
    "duration": 164,
    "start_time": "2022-06-03T09:09:26.951Z"
   },
   {
    "duration": 28,
    "start_time": "2022-06-03T09:09:27.117Z"
   },
   {
    "duration": 135,
    "start_time": "2022-06-03T09:09:27.146Z"
   },
   {
    "duration": 157,
    "start_time": "2022-06-03T09:09:27.283Z"
   },
   {
    "duration": 3,
    "start_time": "2022-06-03T09:09:27.442Z"
   },
   {
    "duration": 81,
    "start_time": "2022-06-03T09:09:27.446Z"
   },
   {
    "duration": 42,
    "start_time": "2022-06-03T09:09:27.529Z"
   },
   {
    "duration": 64,
    "start_time": "2022-06-03T09:09:27.574Z"
   },
   {
    "duration": 6,
    "start_time": "2022-06-03T09:09:27.640Z"
   },
   {
    "duration": 20,
    "start_time": "2022-06-03T09:09:27.648Z"
   },
   {
    "duration": 2,
    "start_time": "2022-06-03T09:09:27.669Z"
   },
   {
    "duration": 8,
    "start_time": "2022-06-03T09:09:27.673Z"
   },
   {
    "duration": 6,
    "start_time": "2022-06-03T09:09:27.682Z"
   },
   {
    "duration": 43,
    "start_time": "2022-06-03T09:09:27.689Z"
   },
   {
    "duration": 5,
    "start_time": "2022-06-03T09:09:27.733Z"
   },
   {
    "duration": 21,
    "start_time": "2022-06-03T09:09:27.740Z"
   },
   {
    "duration": 45,
    "start_time": "2022-06-03T09:09:27.763Z"
   },
   {
    "duration": 33,
    "start_time": "2022-06-03T09:09:27.810Z"
   },
   {
    "duration": 32,
    "start_time": "2022-06-03T09:09:27.845Z"
   },
   {
    "duration": 5,
    "start_time": "2022-06-03T09:09:27.878Z"
   },
   {
    "duration": 30,
    "start_time": "2022-06-03T09:09:27.885Z"
   },
   {
    "duration": 28,
    "start_time": "2022-06-03T09:09:27.917Z"
   },
   {
    "duration": 25,
    "start_time": "2022-06-03T09:09:27.947Z"
   },
   {
    "duration": 21,
    "start_time": "2022-06-03T09:09:27.974Z"
   },
   {
    "duration": 29,
    "start_time": "2022-06-03T09:09:27.998Z"
   },
   {
    "duration": 18,
    "start_time": "2022-06-03T09:09:28.029Z"
   },
   {
    "duration": 7,
    "start_time": "2022-06-03T09:09:28.049Z"
   },
   {
    "duration": 151,
    "start_time": "2022-06-03T09:09:28.058Z"
   },
   {
    "duration": 35,
    "start_time": "2022-06-03T09:09:28.211Z"
   },
   {
    "duration": 1123,
    "start_time": "2022-06-03T09:11:10.587Z"
   },
   {
    "duration": 2,
    "start_time": "2022-06-03T09:11:11.712Z"
   },
   {
    "duration": 21,
    "start_time": "2022-06-03T09:11:11.716Z"
   },
   {
    "duration": 78,
    "start_time": "2022-06-03T09:11:11.739Z"
   },
   {
    "duration": 176,
    "start_time": "2022-06-03T09:11:11.818Z"
   },
   {
    "duration": 110,
    "start_time": "2022-06-03T09:11:11.996Z"
   },
   {
    "duration": 185,
    "start_time": "2022-06-03T09:11:12.107Z"
   },
   {
    "duration": 28,
    "start_time": "2022-06-03T09:11:12.294Z"
   },
   {
    "duration": 148,
    "start_time": "2022-06-03T09:11:12.324Z"
   },
   {
    "duration": 143,
    "start_time": "2022-06-03T09:11:12.474Z"
   },
   {
    "duration": 4,
    "start_time": "2022-06-03T09:11:12.626Z"
   },
   {
    "duration": 70,
    "start_time": "2022-06-03T09:11:12.631Z"
   },
   {
    "duration": 44,
    "start_time": "2022-06-03T09:11:12.702Z"
   },
   {
    "duration": 34,
    "start_time": "2022-06-03T09:11:12.747Z"
   },
   {
    "duration": 5,
    "start_time": "2022-06-03T09:11:12.784Z"
   },
   {
    "duration": 37,
    "start_time": "2022-06-03T09:11:12.791Z"
   },
   {
    "duration": 2,
    "start_time": "2022-06-03T09:11:12.830Z"
   },
   {
    "duration": 18,
    "start_time": "2022-06-03T09:11:12.834Z"
   },
   {
    "duration": 10,
    "start_time": "2022-06-03T09:11:12.854Z"
   },
   {
    "duration": 43,
    "start_time": "2022-06-03T09:11:12.866Z"
   },
   {
    "duration": 4,
    "start_time": "2022-06-03T09:11:12.911Z"
   },
   {
    "duration": 24,
    "start_time": "2022-06-03T09:11:12.916Z"
   },
   {
    "duration": 39,
    "start_time": "2022-06-03T09:11:12.941Z"
   },
   {
    "duration": 34,
    "start_time": "2022-06-03T09:11:12.982Z"
   },
   {
    "duration": 39,
    "start_time": "2022-06-03T09:11:13.018Z"
   },
   {
    "duration": 5,
    "start_time": "2022-06-03T09:11:13.059Z"
   },
   {
    "duration": 26,
    "start_time": "2022-06-03T09:11:13.065Z"
   },
   {
    "duration": 37,
    "start_time": "2022-06-03T09:11:13.095Z"
   },
   {
    "duration": 22,
    "start_time": "2022-06-03T09:11:13.133Z"
   },
   {
    "duration": 20,
    "start_time": "2022-06-03T09:11:13.157Z"
   },
   {
    "duration": 14,
    "start_time": "2022-06-03T09:11:13.179Z"
   },
   {
    "duration": 32,
    "start_time": "2022-06-03T09:11:13.194Z"
   },
   {
    "duration": 6,
    "start_time": "2022-06-03T09:11:13.228Z"
   },
   {
    "duration": 151,
    "start_time": "2022-06-03T09:11:13.236Z"
   },
   {
    "duration": 39,
    "start_time": "2022-06-03T09:11:13.390Z"
   },
   {
    "duration": 1182,
    "start_time": "2022-06-03T09:12:28.324Z"
   },
   {
    "duration": 2,
    "start_time": "2022-06-03T09:12:29.508Z"
   },
   {
    "duration": 9,
    "start_time": "2022-06-03T09:12:29.512Z"
   },
   {
    "duration": 68,
    "start_time": "2022-06-03T09:12:29.526Z"
   },
   {
    "duration": 195,
    "start_time": "2022-06-03T09:12:29.596Z"
   },
   {
    "duration": 116,
    "start_time": "2022-06-03T09:12:29.793Z"
   },
   {
    "duration": 185,
    "start_time": "2022-06-03T09:12:29.910Z"
   },
   {
    "duration": 38,
    "start_time": "2022-06-03T09:12:30.097Z"
   },
   {
    "duration": 140,
    "start_time": "2022-06-03T09:12:30.137Z"
   },
   {
    "duration": 157,
    "start_time": "2022-06-03T09:12:30.280Z"
   },
   {
    "duration": 4,
    "start_time": "2022-06-03T09:12:30.438Z"
   },
   {
    "duration": 100,
    "start_time": "2022-06-03T09:12:30.443Z"
   },
   {
    "duration": 35,
    "start_time": "2022-06-03T09:12:30.544Z"
   },
   {
    "duration": 33,
    "start_time": "2022-06-03T09:12:30.581Z"
   },
   {
    "duration": 4,
    "start_time": "2022-06-03T09:12:30.627Z"
   },
   {
    "duration": 26,
    "start_time": "2022-06-03T09:12:30.632Z"
   },
   {
    "duration": 9,
    "start_time": "2022-06-03T09:12:30.660Z"
   },
   {
    "duration": 22,
    "start_time": "2022-06-03T09:12:30.671Z"
   },
   {
    "duration": 18,
    "start_time": "2022-06-03T09:12:30.695Z"
   },
   {
    "duration": 60,
    "start_time": "2022-06-03T09:12:30.715Z"
   },
   {
    "duration": 5,
    "start_time": "2022-06-03T09:12:30.777Z"
   },
   {
    "duration": 31,
    "start_time": "2022-06-03T09:12:30.783Z"
   },
   {
    "duration": 51,
    "start_time": "2022-06-03T09:12:30.816Z"
   },
   {
    "duration": 35,
    "start_time": "2022-06-03T09:12:30.868Z"
   },
   {
    "duration": 37,
    "start_time": "2022-06-03T09:12:30.905Z"
   },
   {
    "duration": 23,
    "start_time": "2022-06-03T09:12:30.943Z"
   },
   {
    "duration": 49,
    "start_time": "2022-06-03T09:12:30.967Z"
   },
   {
    "duration": 45,
    "start_time": "2022-06-03T09:12:31.020Z"
   },
   {
    "duration": 39,
    "start_time": "2022-06-03T09:12:31.066Z"
   },
   {
    "duration": 35,
    "start_time": "2022-06-03T09:12:31.107Z"
   },
   {
    "duration": 41,
    "start_time": "2022-06-03T09:12:31.144Z"
   },
   {
    "duration": 49,
    "start_time": "2022-06-03T09:12:31.186Z"
   },
   {
    "duration": 24,
    "start_time": "2022-06-03T09:12:31.237Z"
   },
   {
    "duration": 209,
    "start_time": "2022-06-03T09:12:31.263Z"
   },
   {
    "duration": 27,
    "start_time": "2022-06-03T09:12:31.474Z"
   },
   {
    "duration": 1177,
    "start_time": "2022-06-03T09:39:17.810Z"
   },
   {
    "duration": 3,
    "start_time": "2022-06-03T09:39:18.990Z"
   },
   {
    "duration": 12,
    "start_time": "2022-06-03T09:39:18.995Z"
   },
   {
    "duration": 66,
    "start_time": "2022-06-03T09:39:19.009Z"
   },
   {
    "duration": 187,
    "start_time": "2022-06-03T09:39:19.078Z"
   },
   {
    "duration": 124,
    "start_time": "2022-06-03T09:39:19.267Z"
   },
   {
    "duration": 178,
    "start_time": "2022-06-03T09:39:19.393Z"
   },
   {
    "duration": 29,
    "start_time": "2022-06-03T09:39:19.572Z"
   },
   {
    "duration": 155,
    "start_time": "2022-06-03T09:39:19.603Z"
   },
   {
    "duration": 146,
    "start_time": "2022-06-03T09:39:19.760Z"
   },
   {
    "duration": 4,
    "start_time": "2022-06-03T09:39:19.907Z"
   },
   {
    "duration": 65,
    "start_time": "2022-06-03T09:39:19.926Z"
   },
   {
    "duration": 49,
    "start_time": "2022-06-03T09:39:19.993Z"
   },
   {
    "duration": 5,
    "start_time": "2022-06-03T09:39:20.045Z"
   },
   {
    "duration": 44,
    "start_time": "2022-06-03T09:39:20.051Z"
   },
   {
    "duration": 4,
    "start_time": "2022-06-03T09:39:20.097Z"
   },
   {
    "duration": 128,
    "start_time": "2022-06-03T09:39:20.102Z"
   },
   {
    "duration": 0,
    "start_time": "2022-06-03T09:39:20.231Z"
   },
   {
    "duration": 0,
    "start_time": "2022-06-03T09:39:20.232Z"
   },
   {
    "duration": 0,
    "start_time": "2022-06-03T09:39:20.234Z"
   },
   {
    "duration": 0,
    "start_time": "2022-06-03T09:39:20.235Z"
   },
   {
    "duration": 0,
    "start_time": "2022-06-03T09:39:20.236Z"
   },
   {
    "duration": 0,
    "start_time": "2022-06-03T09:39:20.237Z"
   },
   {
    "duration": 0,
    "start_time": "2022-06-03T09:39:20.238Z"
   },
   {
    "duration": 0,
    "start_time": "2022-06-03T09:39:20.239Z"
   },
   {
    "duration": 0,
    "start_time": "2022-06-03T09:39:20.240Z"
   },
   {
    "duration": 0,
    "start_time": "2022-06-03T09:39:20.242Z"
   },
   {
    "duration": 0,
    "start_time": "2022-06-03T09:39:20.243Z"
   },
   {
    "duration": 0,
    "start_time": "2022-06-03T09:39:20.244Z"
   },
   {
    "duration": 0,
    "start_time": "2022-06-03T09:39:20.244Z"
   },
   {
    "duration": 0,
    "start_time": "2022-06-03T09:39:20.245Z"
   },
   {
    "duration": 0,
    "start_time": "2022-06-03T09:39:20.246Z"
   },
   {
    "duration": 0,
    "start_time": "2022-06-03T09:39:20.247Z"
   },
   {
    "duration": 0,
    "start_time": "2022-06-03T09:39:20.249Z"
   },
   {
    "duration": 0,
    "start_time": "2022-06-03T09:39:20.249Z"
   },
   {
    "duration": 0,
    "start_time": "2022-06-03T09:39:20.250Z"
   },
   {
    "duration": 204,
    "start_time": "2022-06-03T09:41:54.006Z"
   },
   {
    "duration": 8,
    "start_time": "2022-06-03T09:42:02.847Z"
   },
   {
    "duration": 53,
    "start_time": "2022-06-03T09:42:10.550Z"
   },
   {
    "duration": 38,
    "start_time": "2022-06-03T09:42:52.213Z"
   },
   {
    "duration": 8,
    "start_time": "2022-06-03T09:43:25.345Z"
   },
   {
    "duration": 13,
    "start_time": "2022-06-03T09:43:37.871Z"
   },
   {
    "duration": 1269,
    "start_time": "2022-06-03T09:44:10.137Z"
   },
   {
    "duration": 4,
    "start_time": "2022-06-03T09:44:11.408Z"
   },
   {
    "duration": 31,
    "start_time": "2022-06-03T09:44:11.417Z"
   },
   {
    "duration": 87,
    "start_time": "2022-06-03T09:44:11.451Z"
   },
   {
    "duration": 210,
    "start_time": "2022-06-03T09:44:11.540Z"
   },
   {
    "duration": 122,
    "start_time": "2022-06-03T09:44:11.751Z"
   },
   {
    "duration": 226,
    "start_time": "2022-06-03T09:44:11.875Z"
   },
   {
    "duration": 37,
    "start_time": "2022-06-03T09:44:12.103Z"
   },
   {
    "duration": 168,
    "start_time": "2022-06-03T09:44:12.141Z"
   },
   {
    "duration": 144,
    "start_time": "2022-06-03T09:44:12.327Z"
   },
   {
    "duration": 5,
    "start_time": "2022-06-03T09:44:12.473Z"
   },
   {
    "duration": 97,
    "start_time": "2022-06-03T09:44:12.480Z"
   },
   {
    "duration": 49,
    "start_time": "2022-06-03T09:44:12.578Z"
   },
   {
    "duration": 4,
    "start_time": "2022-06-03T09:44:12.629Z"
   },
   {
    "duration": 41,
    "start_time": "2022-06-03T09:44:12.634Z"
   },
   {
    "duration": 4,
    "start_time": "2022-06-03T09:44:12.677Z"
   },
   {
    "duration": 25,
    "start_time": "2022-06-03T09:44:12.682Z"
   },
   {
    "duration": 135,
    "start_time": "2022-06-03T09:44:12.709Z"
   },
   {
    "duration": 0,
    "start_time": "2022-06-03T09:44:12.846Z"
   },
   {
    "duration": 0,
    "start_time": "2022-06-03T09:44:12.847Z"
   },
   {
    "duration": 0,
    "start_time": "2022-06-03T09:44:12.849Z"
   },
   {
    "duration": 0,
    "start_time": "2022-06-03T09:44:12.850Z"
   },
   {
    "duration": 0,
    "start_time": "2022-06-03T09:44:12.851Z"
   },
   {
    "duration": 0,
    "start_time": "2022-06-03T09:44:12.853Z"
   },
   {
    "duration": 0,
    "start_time": "2022-06-03T09:44:12.854Z"
   },
   {
    "duration": 0,
    "start_time": "2022-06-03T09:44:12.856Z"
   },
   {
    "duration": 0,
    "start_time": "2022-06-03T09:44:12.857Z"
   },
   {
    "duration": 0,
    "start_time": "2022-06-03T09:44:12.862Z"
   },
   {
    "duration": 0,
    "start_time": "2022-06-03T09:44:12.863Z"
   },
   {
    "duration": 0,
    "start_time": "2022-06-03T09:44:12.864Z"
   },
   {
    "duration": 0,
    "start_time": "2022-06-03T09:44:12.865Z"
   },
   {
    "duration": 0,
    "start_time": "2022-06-03T09:44:12.866Z"
   },
   {
    "duration": 0,
    "start_time": "2022-06-03T09:44:12.867Z"
   },
   {
    "duration": 0,
    "start_time": "2022-06-03T09:44:12.868Z"
   },
   {
    "duration": 0,
    "start_time": "2022-06-03T09:44:12.870Z"
   },
   {
    "duration": 0,
    "start_time": "2022-06-03T09:44:12.871Z"
   },
   {
    "duration": 0,
    "start_time": "2022-06-03T09:44:12.872Z"
   },
   {
    "duration": 31,
    "start_time": "2022-06-03T09:51:11.308Z"
   },
   {
    "duration": 13,
    "start_time": "2022-06-03T09:51:16.162Z"
   },
   {
    "duration": 1250,
    "start_time": "2022-06-03T09:51:31.128Z"
   },
   {
    "duration": 3,
    "start_time": "2022-06-03T09:51:32.380Z"
   },
   {
    "duration": 65,
    "start_time": "2022-06-03T09:51:32.384Z"
   },
   {
    "duration": 103,
    "start_time": "2022-06-03T09:51:32.451Z"
   },
   {
    "duration": 204,
    "start_time": "2022-06-03T09:51:32.556Z"
   },
   {
    "duration": 134,
    "start_time": "2022-06-03T09:51:32.762Z"
   },
   {
    "duration": 179,
    "start_time": "2022-06-03T09:51:32.898Z"
   },
   {
    "duration": 30,
    "start_time": "2022-06-03T09:51:33.079Z"
   },
   {
    "duration": 151,
    "start_time": "2022-06-03T09:51:33.111Z"
   },
   {
    "duration": 143,
    "start_time": "2022-06-03T09:51:33.264Z"
   },
   {
    "duration": 18,
    "start_time": "2022-06-03T09:51:33.409Z"
   },
   {
    "duration": 85,
    "start_time": "2022-06-03T09:51:33.429Z"
   },
   {
    "duration": 35,
    "start_time": "2022-06-03T09:51:33.516Z"
   },
   {
    "duration": 4,
    "start_time": "2022-06-03T09:51:33.553Z"
   },
   {
    "duration": 57,
    "start_time": "2022-06-03T09:51:33.558Z"
   },
   {
    "duration": 4,
    "start_time": "2022-06-03T09:51:33.617Z"
   },
   {
    "duration": 121,
    "start_time": "2022-06-03T09:51:33.623Z"
   },
   {
    "duration": 0,
    "start_time": "2022-06-03T09:51:33.745Z"
   },
   {
    "duration": 0,
    "start_time": "2022-06-03T09:51:33.747Z"
   },
   {
    "duration": 0,
    "start_time": "2022-06-03T09:51:33.748Z"
   },
   {
    "duration": 0,
    "start_time": "2022-06-03T09:51:33.749Z"
   },
   {
    "duration": 0,
    "start_time": "2022-06-03T09:51:33.750Z"
   },
   {
    "duration": 0,
    "start_time": "2022-06-03T09:51:33.751Z"
   },
   {
    "duration": 0,
    "start_time": "2022-06-03T09:51:33.753Z"
   },
   {
    "duration": 0,
    "start_time": "2022-06-03T09:51:33.753Z"
   },
   {
    "duration": 0,
    "start_time": "2022-06-03T09:51:33.755Z"
   },
   {
    "duration": 0,
    "start_time": "2022-06-03T09:51:33.756Z"
   },
   {
    "duration": 0,
    "start_time": "2022-06-03T09:51:33.757Z"
   },
   {
    "duration": 0,
    "start_time": "2022-06-03T09:51:33.758Z"
   },
   {
    "duration": 0,
    "start_time": "2022-06-03T09:51:33.758Z"
   },
   {
    "duration": 0,
    "start_time": "2022-06-03T09:51:33.760Z"
   },
   {
    "duration": 0,
    "start_time": "2022-06-03T09:51:33.761Z"
   },
   {
    "duration": 0,
    "start_time": "2022-06-03T09:51:33.762Z"
   },
   {
    "duration": 0,
    "start_time": "2022-06-03T09:51:33.764Z"
   },
   {
    "duration": 0,
    "start_time": "2022-06-03T09:51:33.764Z"
   },
   {
    "duration": 0,
    "start_time": "2022-06-03T09:51:33.765Z"
   },
   {
    "duration": 0,
    "start_time": "2022-06-03T09:51:33.767Z"
   },
   {
    "duration": 34,
    "start_time": "2022-06-03T09:52:01.979Z"
   },
   {
    "duration": 11,
    "start_time": "2022-06-03T09:52:10.276Z"
   },
   {
    "duration": 1126,
    "start_time": "2022-06-03T09:52:25.964Z"
   },
   {
    "duration": 3,
    "start_time": "2022-06-03T09:52:27.092Z"
   },
   {
    "duration": 10,
    "start_time": "2022-06-03T09:52:27.098Z"
   },
   {
    "duration": 62,
    "start_time": "2022-06-03T09:52:27.110Z"
   },
   {
    "duration": 190,
    "start_time": "2022-06-03T09:52:27.174Z"
   },
   {
    "duration": 124,
    "start_time": "2022-06-03T09:52:27.366Z"
   },
   {
    "duration": 184,
    "start_time": "2022-06-03T09:52:27.491Z"
   },
   {
    "duration": 29,
    "start_time": "2022-06-03T09:52:27.677Z"
   },
   {
    "duration": 146,
    "start_time": "2022-06-03T09:52:27.708Z"
   },
   {
    "duration": 145,
    "start_time": "2022-06-03T09:52:27.856Z"
   },
   {
    "duration": 4,
    "start_time": "2022-06-03T09:52:28.003Z"
   },
   {
    "duration": 103,
    "start_time": "2022-06-03T09:52:28.008Z"
   },
   {
    "duration": 36,
    "start_time": "2022-06-03T09:52:28.115Z"
   },
   {
    "duration": 4,
    "start_time": "2022-06-03T09:52:28.153Z"
   },
   {
    "duration": 36,
    "start_time": "2022-06-03T09:52:28.158Z"
   },
   {
    "duration": 4,
    "start_time": "2022-06-03T09:52:28.196Z"
   },
   {
    "duration": 31,
    "start_time": "2022-06-03T09:52:28.202Z"
   },
   {
    "duration": 119,
    "start_time": "2022-06-03T09:52:28.236Z"
   },
   {
    "duration": 0,
    "start_time": "2022-06-03T09:52:28.357Z"
   },
   {
    "duration": 0,
    "start_time": "2022-06-03T09:52:28.359Z"
   },
   {
    "duration": 0,
    "start_time": "2022-06-03T09:52:28.361Z"
   },
   {
    "duration": 0,
    "start_time": "2022-06-03T09:52:28.362Z"
   },
   {
    "duration": 0,
    "start_time": "2022-06-03T09:52:28.364Z"
   },
   {
    "duration": 0,
    "start_time": "2022-06-03T09:52:28.365Z"
   },
   {
    "duration": 0,
    "start_time": "2022-06-03T09:52:28.366Z"
   },
   {
    "duration": 0,
    "start_time": "2022-06-03T09:52:28.368Z"
   },
   {
    "duration": 0,
    "start_time": "2022-06-03T09:52:28.370Z"
   },
   {
    "duration": 0,
    "start_time": "2022-06-03T09:52:28.371Z"
   },
   {
    "duration": 0,
    "start_time": "2022-06-03T09:52:28.373Z"
   },
   {
    "duration": 0,
    "start_time": "2022-06-03T09:52:28.374Z"
   },
   {
    "duration": 0,
    "start_time": "2022-06-03T09:52:28.376Z"
   },
   {
    "duration": 1,
    "start_time": "2022-06-03T09:52:28.377Z"
   },
   {
    "duration": 0,
    "start_time": "2022-06-03T09:52:28.379Z"
   },
   {
    "duration": 0,
    "start_time": "2022-06-03T09:52:28.380Z"
   },
   {
    "duration": 0,
    "start_time": "2022-06-03T09:52:28.381Z"
   },
   {
    "duration": 0,
    "start_time": "2022-06-03T09:52:28.382Z"
   },
   {
    "duration": 0,
    "start_time": "2022-06-03T09:52:28.383Z"
   },
   {
    "duration": 21,
    "start_time": "2022-06-03T09:52:59.920Z"
   },
   {
    "duration": 1239,
    "start_time": "2022-06-03T09:54:12.037Z"
   },
   {
    "duration": 3,
    "start_time": "2022-06-03T09:54:13.278Z"
   },
   {
    "duration": 20,
    "start_time": "2022-06-03T09:54:13.282Z"
   },
   {
    "duration": 79,
    "start_time": "2022-06-03T09:54:13.304Z"
   },
   {
    "duration": 201,
    "start_time": "2022-06-03T09:54:13.385Z"
   },
   {
    "duration": 130,
    "start_time": "2022-06-03T09:54:13.587Z"
   },
   {
    "duration": 209,
    "start_time": "2022-06-03T09:54:13.719Z"
   },
   {
    "duration": 36,
    "start_time": "2022-06-03T09:54:13.930Z"
   },
   {
    "duration": 177,
    "start_time": "2022-06-03T09:54:13.967Z"
   },
   {
    "duration": 145,
    "start_time": "2022-06-03T09:54:14.147Z"
   },
   {
    "duration": 4,
    "start_time": "2022-06-03T09:54:14.294Z"
   },
   {
    "duration": 100,
    "start_time": "2022-06-03T09:54:14.300Z"
   },
   {
    "duration": 58,
    "start_time": "2022-06-03T09:54:14.402Z"
   },
   {
    "duration": 6,
    "start_time": "2022-06-03T09:54:14.462Z"
   },
   {
    "duration": 60,
    "start_time": "2022-06-03T09:54:14.470Z"
   },
   {
    "duration": 5,
    "start_time": "2022-06-03T09:54:14.532Z"
   },
   {
    "duration": 23,
    "start_time": "2022-06-03T09:54:14.539Z"
   },
   {
    "duration": 30,
    "start_time": "2022-06-03T09:54:14.564Z"
   },
   {
    "duration": 15,
    "start_time": "2022-06-03T09:54:14.596Z"
   },
   {
    "duration": 26,
    "start_time": "2022-06-03T09:54:14.613Z"
   },
   {
    "duration": 9,
    "start_time": "2022-06-03T09:54:14.641Z"
   },
   {
    "duration": 55,
    "start_time": "2022-06-03T09:54:14.653Z"
   },
   {
    "duration": 5,
    "start_time": "2022-06-03T09:54:14.710Z"
   },
   {
    "duration": 17,
    "start_time": "2022-06-03T09:54:14.717Z"
   },
   {
    "duration": 30,
    "start_time": "2022-06-03T09:54:14.735Z"
   },
   {
    "duration": 34,
    "start_time": "2022-06-03T09:54:14.766Z"
   },
   {
    "duration": 56,
    "start_time": "2022-06-03T09:54:14.802Z"
   },
   {
    "duration": 5,
    "start_time": "2022-06-03T09:54:14.861Z"
   },
   {
    "duration": 30,
    "start_time": "2022-06-03T09:54:14.867Z"
   },
   {
    "duration": 37,
    "start_time": "2022-06-03T09:54:14.898Z"
   },
   {
    "duration": 38,
    "start_time": "2022-06-03T09:54:14.937Z"
   },
   {
    "duration": 24,
    "start_time": "2022-06-03T09:54:14.976Z"
   },
   {
    "duration": 40,
    "start_time": "2022-06-03T09:54:15.001Z"
   },
   {
    "duration": 31,
    "start_time": "2022-06-03T09:54:15.043Z"
   },
   {
    "duration": 5,
    "start_time": "2022-06-03T09:54:15.076Z"
   },
   {
    "duration": 152,
    "start_time": "2022-06-03T09:54:15.083Z"
   },
   {
    "duration": 27,
    "start_time": "2022-06-03T09:54:15.237Z"
   },
   {
    "duration": 1353,
    "start_time": "2022-06-03T10:00:01.570Z"
   },
   {
    "duration": 4,
    "start_time": "2022-06-03T10:00:02.925Z"
   },
   {
    "duration": 54,
    "start_time": "2022-06-03T10:00:02.931Z"
   },
   {
    "duration": 149,
    "start_time": "2022-06-03T10:00:02.987Z"
   },
   {
    "duration": 208,
    "start_time": "2022-06-03T10:00:03.139Z"
   },
   {
    "duration": 129,
    "start_time": "2022-06-03T10:00:03.348Z"
   },
   {
    "duration": 187,
    "start_time": "2022-06-03T10:00:03.478Z"
   },
   {
    "duration": 31,
    "start_time": "2022-06-03T10:00:03.667Z"
   },
   {
    "duration": 171,
    "start_time": "2022-06-03T10:00:03.701Z"
   },
   {
    "duration": 166,
    "start_time": "2022-06-03T10:00:03.874Z"
   },
   {
    "duration": 4,
    "start_time": "2022-06-03T10:00:04.042Z"
   },
   {
    "duration": 98,
    "start_time": "2022-06-03T10:00:04.048Z"
   },
   {
    "duration": 5,
    "start_time": "2022-06-03T10:00:04.148Z"
   },
   {
    "duration": 67,
    "start_time": "2022-06-03T10:00:04.155Z"
   },
   {
    "duration": 5,
    "start_time": "2022-06-03T10:00:04.223Z"
   },
   {
    "duration": 48,
    "start_time": "2022-06-03T10:00:04.230Z"
   },
   {
    "duration": 72,
    "start_time": "2022-06-03T10:00:04.280Z"
   },
   {
    "duration": 9,
    "start_time": "2022-06-03T10:00:04.354Z"
   },
   {
    "duration": 60,
    "start_time": "2022-06-03T10:00:04.366Z"
   },
   {
    "duration": 92,
    "start_time": "2022-06-03T10:00:04.431Z"
   },
   {
    "duration": 37,
    "start_time": "2022-06-03T10:00:04.525Z"
   },
   {
    "duration": 27,
    "start_time": "2022-06-03T10:00:04.565Z"
   },
   {
    "duration": 25,
    "start_time": "2022-06-03T10:00:04.595Z"
   },
   {
    "duration": 65,
    "start_time": "2022-06-03T10:00:04.622Z"
   },
   {
    "duration": 65,
    "start_time": "2022-06-03T10:00:04.692Z"
   },
   {
    "duration": 72,
    "start_time": "2022-06-03T10:00:04.760Z"
   },
   {
    "duration": 74,
    "start_time": "2022-06-03T10:00:04.835Z"
   },
   {
    "duration": 59,
    "start_time": "2022-06-03T10:00:04.912Z"
   },
   {
    "duration": 66,
    "start_time": "2022-06-03T10:00:04.973Z"
   },
   {
    "duration": 6,
    "start_time": "2022-06-03T10:00:05.041Z"
   },
   {
    "duration": 39,
    "start_time": "2022-06-03T10:00:05.049Z"
   },
   {
    "duration": 30,
    "start_time": "2022-06-03T10:00:05.090Z"
   },
   {
    "duration": 41,
    "start_time": "2022-06-03T10:00:05.122Z"
   },
   {
    "duration": 26,
    "start_time": "2022-06-03T10:00:05.165Z"
   },
   {
    "duration": 24,
    "start_time": "2022-06-03T10:00:05.193Z"
   },
   {
    "duration": 17,
    "start_time": "2022-06-03T10:00:05.219Z"
   },
   {
    "duration": 24,
    "start_time": "2022-06-03T10:00:05.238Z"
   },
   {
    "duration": 175,
    "start_time": "2022-06-03T10:00:05.264Z"
   },
   {
    "duration": 28,
    "start_time": "2022-06-03T10:00:05.441Z"
   },
   {
    "duration": 1176,
    "start_time": "2022-06-03T10:00:24.741Z"
   },
   {
    "duration": 2,
    "start_time": "2022-06-03T10:00:25.920Z"
   },
   {
    "duration": 10,
    "start_time": "2022-06-03T10:00:25.928Z"
   },
   {
    "duration": 71,
    "start_time": "2022-06-03T10:00:25.940Z"
   },
   {
    "duration": 194,
    "start_time": "2022-06-03T10:00:26.012Z"
   },
   {
    "duration": 122,
    "start_time": "2022-06-03T10:00:26.207Z"
   },
   {
    "duration": 201,
    "start_time": "2022-06-03T10:00:26.331Z"
   },
   {
    "duration": 31,
    "start_time": "2022-06-03T10:00:26.534Z"
   },
   {
    "duration": 174,
    "start_time": "2022-06-03T10:00:26.567Z"
   },
   {
    "duration": 143,
    "start_time": "2022-06-03T10:00:26.743Z"
   },
   {
    "duration": 4,
    "start_time": "2022-06-03T10:00:26.888Z"
   },
   {
    "duration": 88,
    "start_time": "2022-06-03T10:00:26.894Z"
   },
   {
    "duration": 5,
    "start_time": "2022-06-03T10:00:26.985Z"
   },
   {
    "duration": 68,
    "start_time": "2022-06-03T10:00:26.992Z"
   },
   {
    "duration": 5,
    "start_time": "2022-06-03T10:00:27.062Z"
   },
   {
    "duration": 19,
    "start_time": "2022-06-03T10:00:27.068Z"
   },
   {
    "duration": 57,
    "start_time": "2022-06-03T10:00:27.089Z"
   },
   {
    "duration": 5,
    "start_time": "2022-06-03T10:00:27.149Z"
   },
   {
    "duration": 18,
    "start_time": "2022-06-03T10:00:27.156Z"
   },
   {
    "duration": 34,
    "start_time": "2022-06-03T10:00:27.175Z"
   },
   {
    "duration": 22,
    "start_time": "2022-06-03T10:00:27.210Z"
   },
   {
    "duration": 5,
    "start_time": "2022-06-03T10:00:27.234Z"
   },
   {
    "duration": 8,
    "start_time": "2022-06-03T10:00:27.241Z"
   },
   {
    "duration": 41,
    "start_time": "2022-06-03T10:00:27.251Z"
   },
   {
    "duration": 4,
    "start_time": "2022-06-03T10:00:27.294Z"
   },
   {
    "duration": 37,
    "start_time": "2022-06-03T10:00:27.300Z"
   },
   {
    "duration": 29,
    "start_time": "2022-06-03T10:00:27.339Z"
   },
   {
    "duration": 62,
    "start_time": "2022-06-03T10:00:27.370Z"
   },
   {
    "duration": 42,
    "start_time": "2022-06-03T10:00:27.433Z"
   },
   {
    "duration": 9,
    "start_time": "2022-06-03T10:00:27.478Z"
   },
   {
    "duration": 45,
    "start_time": "2022-06-03T10:00:27.489Z"
   },
   {
    "duration": 23,
    "start_time": "2022-06-03T10:00:27.536Z"
   },
   {
    "duration": 37,
    "start_time": "2022-06-03T10:00:27.560Z"
   },
   {
    "duration": 36,
    "start_time": "2022-06-03T10:00:27.599Z"
   },
   {
    "duration": 11,
    "start_time": "2022-06-03T10:00:27.637Z"
   },
   {
    "duration": 17,
    "start_time": "2022-06-03T10:00:27.650Z"
   },
   {
    "duration": 14,
    "start_time": "2022-06-03T10:00:27.670Z"
   },
   {
    "duration": 156,
    "start_time": "2022-06-03T10:00:27.686Z"
   },
   {
    "duration": 28,
    "start_time": "2022-06-03T10:00:27.844Z"
   },
   {
    "duration": 19,
    "start_time": "2022-06-03T10:01:57.375Z"
   },
   {
    "duration": 3,
    "start_time": "2022-06-03T10:02:51.871Z"
   },
   {
    "duration": 8,
    "start_time": "2022-06-03T10:03:06.121Z"
   },
   {
    "duration": 1186,
    "start_time": "2022-06-03T10:06:40.744Z"
   },
   {
    "duration": 3,
    "start_time": "2022-06-03T10:06:41.933Z"
   },
   {
    "duration": 19,
    "start_time": "2022-06-03T10:06:41.938Z"
   },
   {
    "duration": 68,
    "start_time": "2022-06-03T10:06:41.959Z"
   },
   {
    "duration": 201,
    "start_time": "2022-06-03T10:06:42.030Z"
   },
   {
    "duration": 117,
    "start_time": "2022-06-03T10:06:42.233Z"
   },
   {
    "duration": 181,
    "start_time": "2022-06-03T10:06:42.351Z"
   },
   {
    "duration": 31,
    "start_time": "2022-06-03T10:06:42.533Z"
   },
   {
    "duration": 175,
    "start_time": "2022-06-03T10:06:42.566Z"
   },
   {
    "duration": 158,
    "start_time": "2022-06-03T10:06:42.743Z"
   },
   {
    "duration": 4,
    "start_time": "2022-06-03T10:06:42.903Z"
   },
   {
    "duration": 75,
    "start_time": "2022-06-03T10:06:42.926Z"
   },
   {
    "duration": 5,
    "start_time": "2022-06-03T10:06:43.003Z"
   },
   {
    "duration": 3,
    "start_time": "2022-06-03T10:06:43.026Z"
   },
   {
    "duration": 55,
    "start_time": "2022-06-03T10:06:43.031Z"
   },
   {
    "duration": 5,
    "start_time": "2022-06-03T10:06:43.088Z"
   },
   {
    "duration": 32,
    "start_time": "2022-06-03T10:06:43.095Z"
   },
   {
    "duration": 73,
    "start_time": "2022-06-03T10:06:43.129Z"
   },
   {
    "duration": 4,
    "start_time": "2022-06-03T10:06:43.204Z"
   },
   {
    "duration": 123,
    "start_time": "2022-06-03T10:06:43.210Z"
   },
   {
    "duration": 0,
    "start_time": "2022-06-03T10:06:43.334Z"
   },
   {
    "duration": 0,
    "start_time": "2022-06-03T10:06:43.337Z"
   },
   {
    "duration": 0,
    "start_time": "2022-06-03T10:06:43.338Z"
   },
   {
    "duration": 0,
    "start_time": "2022-06-03T10:06:43.339Z"
   },
   {
    "duration": 0,
    "start_time": "2022-06-03T10:06:43.341Z"
   },
   {
    "duration": 0,
    "start_time": "2022-06-03T10:06:43.342Z"
   },
   {
    "duration": 0,
    "start_time": "2022-06-03T10:06:43.344Z"
   },
   {
    "duration": 0,
    "start_time": "2022-06-03T10:06:43.346Z"
   },
   {
    "duration": 0,
    "start_time": "2022-06-03T10:06:43.347Z"
   },
   {
    "duration": 0,
    "start_time": "2022-06-03T10:06:43.349Z"
   },
   {
    "duration": 0,
    "start_time": "2022-06-03T10:06:43.350Z"
   },
   {
    "duration": 0,
    "start_time": "2022-06-03T10:06:43.352Z"
   },
   {
    "duration": 0,
    "start_time": "2022-06-03T10:06:43.353Z"
   },
   {
    "duration": 0,
    "start_time": "2022-06-03T10:06:43.355Z"
   },
   {
    "duration": 0,
    "start_time": "2022-06-03T10:06:43.357Z"
   },
   {
    "duration": 0,
    "start_time": "2022-06-03T10:06:43.359Z"
   },
   {
    "duration": 0,
    "start_time": "2022-06-03T10:06:43.360Z"
   },
   {
    "duration": 0,
    "start_time": "2022-06-03T10:06:43.361Z"
   },
   {
    "duration": 0,
    "start_time": "2022-06-03T10:06:43.363Z"
   },
   {
    "duration": 1110,
    "start_time": "2022-06-03T10:08:07.069Z"
   },
   {
    "duration": 3,
    "start_time": "2022-06-03T10:08:08.182Z"
   },
   {
    "duration": 30,
    "start_time": "2022-06-03T10:08:08.187Z"
   },
   {
    "duration": 76,
    "start_time": "2022-06-03T10:08:08.218Z"
   },
   {
    "duration": 189,
    "start_time": "2022-06-03T10:08:08.296Z"
   },
   {
    "duration": 117,
    "start_time": "2022-06-03T10:08:08.486Z"
   },
   {
    "duration": 169,
    "start_time": "2022-06-03T10:08:08.604Z"
   },
   {
    "duration": 28,
    "start_time": "2022-06-03T10:08:08.775Z"
   },
   {
    "duration": 153,
    "start_time": "2022-06-03T10:08:08.806Z"
   },
   {
    "duration": 148,
    "start_time": "2022-06-03T10:08:08.962Z"
   },
   {
    "duration": 15,
    "start_time": "2022-06-03T10:08:09.111Z"
   },
   {
    "duration": 77,
    "start_time": "2022-06-03T10:08:09.128Z"
   },
   {
    "duration": 4,
    "start_time": "2022-06-03T10:08:09.207Z"
   },
   {
    "duration": 141,
    "start_time": "2022-06-03T10:08:09.225Z"
   },
   {
    "duration": 0,
    "start_time": "2022-06-03T10:08:09.368Z"
   },
   {
    "duration": 0,
    "start_time": "2022-06-03T10:08:09.369Z"
   },
   {
    "duration": 0,
    "start_time": "2022-06-03T10:08:09.372Z"
   },
   {
    "duration": 0,
    "start_time": "2022-06-03T10:08:09.373Z"
   },
   {
    "duration": 0,
    "start_time": "2022-06-03T10:08:09.374Z"
   },
   {
    "duration": 0,
    "start_time": "2022-06-03T10:08:09.375Z"
   },
   {
    "duration": 0,
    "start_time": "2022-06-03T10:08:09.377Z"
   },
   {
    "duration": 0,
    "start_time": "2022-06-03T10:08:09.379Z"
   },
   {
    "duration": 0,
    "start_time": "2022-06-03T10:08:09.380Z"
   },
   {
    "duration": 0,
    "start_time": "2022-06-03T10:08:09.381Z"
   },
   {
    "duration": 0,
    "start_time": "2022-06-03T10:08:09.382Z"
   },
   {
    "duration": 0,
    "start_time": "2022-06-03T10:08:09.383Z"
   },
   {
    "duration": 0,
    "start_time": "2022-06-03T10:08:09.384Z"
   },
   {
    "duration": 0,
    "start_time": "2022-06-03T10:08:09.385Z"
   },
   {
    "duration": 0,
    "start_time": "2022-06-03T10:08:09.386Z"
   },
   {
    "duration": 0,
    "start_time": "2022-06-03T10:08:09.387Z"
   },
   {
    "duration": 0,
    "start_time": "2022-06-03T10:08:09.388Z"
   },
   {
    "duration": 0,
    "start_time": "2022-06-03T10:08:09.389Z"
   },
   {
    "duration": 0,
    "start_time": "2022-06-03T10:08:09.390Z"
   },
   {
    "duration": 0,
    "start_time": "2022-06-03T10:08:09.392Z"
   },
   {
    "duration": 0,
    "start_time": "2022-06-03T10:08:09.426Z"
   },
   {
    "duration": 0,
    "start_time": "2022-06-03T10:08:09.427Z"
   },
   {
    "duration": 0,
    "start_time": "2022-06-03T10:08:09.428Z"
   },
   {
    "duration": 0,
    "start_time": "2022-06-03T10:08:09.429Z"
   },
   {
    "duration": 0,
    "start_time": "2022-06-03T10:08:09.430Z"
   },
   {
    "duration": 1242,
    "start_time": "2022-06-03T10:09:23.504Z"
   },
   {
    "duration": 2,
    "start_time": "2022-06-03T10:09:24.748Z"
   },
   {
    "duration": 7,
    "start_time": "2022-06-03T10:09:24.752Z"
   },
   {
    "duration": 68,
    "start_time": "2022-06-03T10:09:24.760Z"
   },
   {
    "duration": 198,
    "start_time": "2022-06-03T10:09:24.830Z"
   },
   {
    "duration": 121,
    "start_time": "2022-06-03T10:09:25.030Z"
   },
   {
    "duration": 185,
    "start_time": "2022-06-03T10:09:25.153Z"
   },
   {
    "duration": 34,
    "start_time": "2022-06-03T10:09:25.339Z"
   },
   {
    "duration": 170,
    "start_time": "2022-06-03T10:09:25.376Z"
   },
   {
    "duration": 145,
    "start_time": "2022-06-03T10:09:25.548Z"
   },
   {
    "duration": 3,
    "start_time": "2022-06-03T10:09:25.695Z"
   },
   {
    "duration": 92,
    "start_time": "2022-06-03T10:09:25.699Z"
   },
   {
    "duration": 5,
    "start_time": "2022-06-03T10:09:25.793Z"
   },
   {
    "duration": 10,
    "start_time": "2022-06-03T10:09:25.801Z"
   },
   {
    "duration": 48,
    "start_time": "2022-06-03T10:09:25.812Z"
   },
   {
    "duration": 4,
    "start_time": "2022-06-03T10:09:25.862Z"
   },
   {
    "duration": 27,
    "start_time": "2022-06-03T10:09:25.868Z"
   },
   {
    "duration": 58,
    "start_time": "2022-06-03T10:09:25.897Z"
   },
   {
    "duration": 5,
    "start_time": "2022-06-03T10:09:25.957Z"
   },
   {
    "duration": 13,
    "start_time": "2022-06-03T10:09:25.963Z"
   },
   {
    "duration": 12,
    "start_time": "2022-06-03T10:09:25.978Z"
   },
   {
    "duration": 7,
    "start_time": "2022-06-03T10:09:25.992Z"
   },
   {
    "duration": 6,
    "start_time": "2022-06-03T10:09:26.000Z"
   },
   {
    "duration": 28,
    "start_time": "2022-06-03T10:09:26.007Z"
   },
   {
    "duration": 4,
    "start_time": "2022-06-03T10:09:26.037Z"
   },
   {
    "duration": 14,
    "start_time": "2022-06-03T10:09:26.043Z"
   },
   {
    "duration": 33,
    "start_time": "2022-06-03T10:09:26.059Z"
   },
   {
    "duration": 43,
    "start_time": "2022-06-03T10:09:26.094Z"
   },
   {
    "duration": 33,
    "start_time": "2022-06-03T10:09:26.139Z"
   },
   {
    "duration": 5,
    "start_time": "2022-06-03T10:09:26.174Z"
   },
   {
    "duration": 46,
    "start_time": "2022-06-03T10:09:26.181Z"
   },
   {
    "duration": 22,
    "start_time": "2022-06-03T10:09:26.229Z"
   },
   {
    "duration": 38,
    "start_time": "2022-06-03T10:09:26.253Z"
   },
   {
    "duration": 20,
    "start_time": "2022-06-03T10:09:26.292Z"
   },
   {
    "duration": 7,
    "start_time": "2022-06-03T10:09:26.327Z"
   },
   {
    "duration": 13,
    "start_time": "2022-06-03T10:09:26.335Z"
   },
   {
    "duration": 6,
    "start_time": "2022-06-03T10:09:26.350Z"
   },
   {
    "duration": 169,
    "start_time": "2022-06-03T10:09:26.358Z"
   },
   {
    "duration": 27,
    "start_time": "2022-06-03T10:09:26.529Z"
   },
   {
    "duration": 1252,
    "start_time": "2022-06-03T10:12:17.742Z"
   },
   {
    "duration": 3,
    "start_time": "2022-06-03T10:12:18.996Z"
   },
   {
    "duration": 19,
    "start_time": "2022-06-03T10:12:19.001Z"
   },
   {
    "duration": 108,
    "start_time": "2022-06-03T10:12:19.023Z"
   },
   {
    "duration": 215,
    "start_time": "2022-06-03T10:12:19.132Z"
   },
   {
    "duration": 130,
    "start_time": "2022-06-03T10:12:19.348Z"
   },
   {
    "duration": 194,
    "start_time": "2022-06-03T10:12:19.479Z"
   },
   {
    "duration": 31,
    "start_time": "2022-06-03T10:12:19.675Z"
   },
   {
    "duration": 154,
    "start_time": "2022-06-03T10:12:19.708Z"
   },
   {
    "duration": 163,
    "start_time": "2022-06-03T10:12:19.864Z"
   },
   {
    "duration": 4,
    "start_time": "2022-06-03T10:12:20.029Z"
   },
   {
    "duration": 78,
    "start_time": "2022-06-03T10:12:20.035Z"
   },
   {
    "duration": 16,
    "start_time": "2022-06-03T10:12:20.115Z"
   },
   {
    "duration": 5,
    "start_time": "2022-06-03T10:12:20.133Z"
   },
   {
    "duration": 41,
    "start_time": "2022-06-03T10:12:20.140Z"
   },
   {
    "duration": 5,
    "start_time": "2022-06-03T10:12:20.183Z"
   },
   {
    "duration": 37,
    "start_time": "2022-06-03T10:12:20.190Z"
   },
   {
    "duration": 36,
    "start_time": "2022-06-03T10:12:20.229Z"
   },
   {
    "duration": 5,
    "start_time": "2022-06-03T10:12:20.267Z"
   },
   {
    "duration": 34,
    "start_time": "2022-06-03T10:12:20.273Z"
   },
   {
    "duration": 8,
    "start_time": "2022-06-03T10:12:20.309Z"
   },
   {
    "duration": 11,
    "start_time": "2022-06-03T10:12:20.318Z"
   },
   {
    "duration": 7,
    "start_time": "2022-06-03T10:12:20.331Z"
   },
   {
    "duration": 25,
    "start_time": "2022-06-03T10:12:20.340Z"
   },
   {
    "duration": 20,
    "start_time": "2022-06-03T10:12:20.367Z"
   },
   {
    "duration": 41,
    "start_time": "2022-06-03T10:12:20.389Z"
   },
   {
    "duration": 34,
    "start_time": "2022-06-03T10:12:20.432Z"
   },
   {
    "duration": 14,
    "start_time": "2022-06-03T10:12:20.469Z"
   },
   {
    "duration": 50,
    "start_time": "2022-06-03T10:12:20.485Z"
   },
   {
    "duration": 22,
    "start_time": "2022-06-03T10:12:20.537Z"
   },
   {
    "duration": 20,
    "start_time": "2022-06-03T10:12:20.561Z"
   },
   {
    "duration": 18,
    "start_time": "2022-06-03T10:12:20.582Z"
   },
   {
    "duration": 35,
    "start_time": "2022-06-03T10:12:20.602Z"
   },
   {
    "duration": 6,
    "start_time": "2022-06-03T10:12:20.640Z"
   },
   {
    "duration": 175,
    "start_time": "2022-06-03T10:12:20.648Z"
   },
   {
    "duration": 32,
    "start_time": "2022-06-03T10:12:20.825Z"
   },
   {
    "duration": 5,
    "start_time": "2022-06-03T10:21:32.389Z"
   },
   {
    "duration": 1278,
    "start_time": "2022-06-03T10:21:41.006Z"
   },
   {
    "duration": 3,
    "start_time": "2022-06-03T10:21:42.286Z"
   },
   {
    "duration": 13,
    "start_time": "2022-06-03T10:21:42.290Z"
   },
   {
    "duration": 74,
    "start_time": "2022-06-03T10:21:42.305Z"
   },
   {
    "duration": 220,
    "start_time": "2022-06-03T10:21:42.380Z"
   },
   {
    "duration": 126,
    "start_time": "2022-06-03T10:21:42.602Z"
   },
   {
    "duration": 213,
    "start_time": "2022-06-03T10:21:42.731Z"
   },
   {
    "duration": 32,
    "start_time": "2022-06-03T10:21:42.946Z"
   },
   {
    "duration": 193,
    "start_time": "2022-06-03T10:21:42.980Z"
   },
   {
    "duration": 168,
    "start_time": "2022-06-03T10:21:43.177Z"
   },
   {
    "duration": 6,
    "start_time": "2022-06-03T10:21:43.347Z"
   },
   {
    "duration": 123,
    "start_time": "2022-06-03T10:21:43.355Z"
   },
   {
    "duration": 5,
    "start_time": "2022-06-03T10:21:43.480Z"
   },
   {
    "duration": 23,
    "start_time": "2022-06-03T10:21:43.488Z"
   },
   {
    "duration": 71,
    "start_time": "2022-06-03T10:21:43.513Z"
   },
   {
    "duration": 6,
    "start_time": "2022-06-03T10:21:43.585Z"
   },
   {
    "duration": 24,
    "start_time": "2022-06-03T10:21:43.593Z"
   },
   {
    "duration": 96,
    "start_time": "2022-06-03T10:21:43.618Z"
   },
   {
    "duration": 5,
    "start_time": "2022-06-03T10:21:43.717Z"
   },
   {
    "duration": 45,
    "start_time": "2022-06-03T10:21:43.724Z"
   },
   {
    "duration": 32,
    "start_time": "2022-06-03T10:21:43.771Z"
   },
   {
    "duration": 33,
    "start_time": "2022-06-03T10:21:43.805Z"
   },
   {
    "duration": 57,
    "start_time": "2022-06-03T10:21:43.840Z"
   },
   {
    "duration": 32,
    "start_time": "2022-06-03T10:21:43.899Z"
   },
   {
    "duration": 15,
    "start_time": "2022-06-03T10:21:43.933Z"
   },
   {
    "duration": 22,
    "start_time": "2022-06-03T10:21:43.950Z"
   },
   {
    "duration": 27,
    "start_time": "2022-06-03T10:21:43.973Z"
   },
   {
    "duration": 41,
    "start_time": "2022-06-03T10:21:44.004Z"
   },
   {
    "duration": 8,
    "start_time": "2022-06-03T10:21:44.048Z"
   },
   {
    "duration": 22,
    "start_time": "2022-06-03T10:21:44.058Z"
   },
   {
    "duration": 5,
    "start_time": "2022-06-03T10:21:44.082Z"
   },
   {
    "duration": 12,
    "start_time": "2022-06-03T10:21:44.089Z"
   },
   {
    "duration": 182,
    "start_time": "2022-06-03T10:21:44.103Z"
   },
   {
    "duration": 27,
    "start_time": "2022-06-03T10:21:44.287Z"
   },
   {
    "duration": 1149,
    "start_time": "2022-06-03T10:22:20.818Z"
   },
   {
    "duration": 5,
    "start_time": "2022-06-03T10:22:21.969Z"
   },
   {
    "duration": 22,
    "start_time": "2022-06-03T10:22:21.975Z"
   },
   {
    "duration": 95,
    "start_time": "2022-06-03T10:22:21.999Z"
   },
   {
    "duration": 212,
    "start_time": "2022-06-03T10:22:22.097Z"
   },
   {
    "duration": 111,
    "start_time": "2022-06-03T10:22:22.312Z"
   },
   {
    "duration": 172,
    "start_time": "2022-06-03T10:22:22.426Z"
   },
   {
    "duration": 29,
    "start_time": "2022-06-03T10:22:22.599Z"
   },
   {
    "duration": 152,
    "start_time": "2022-06-03T10:22:22.630Z"
   },
   {
    "duration": 153,
    "start_time": "2022-06-03T10:22:22.785Z"
   },
   {
    "duration": 3,
    "start_time": "2022-06-03T10:22:22.939Z"
   },
   {
    "duration": 114,
    "start_time": "2022-06-03T10:22:22.944Z"
   },
   {
    "duration": 5,
    "start_time": "2022-06-03T10:22:23.060Z"
   },
   {
    "duration": 15,
    "start_time": "2022-06-03T10:22:23.067Z"
   },
   {
    "duration": 52,
    "start_time": "2022-06-03T10:22:23.083Z"
   },
   {
    "duration": 5,
    "start_time": "2022-06-03T10:22:23.137Z"
   },
   {
    "duration": 16,
    "start_time": "2022-06-03T10:22:23.143Z"
   },
   {
    "duration": 41,
    "start_time": "2022-06-03T10:22:23.161Z"
   },
   {
    "duration": 4,
    "start_time": "2022-06-03T10:22:23.204Z"
   },
   {
    "duration": 42,
    "start_time": "2022-06-03T10:22:23.210Z"
   },
   {
    "duration": 37,
    "start_time": "2022-06-03T10:22:23.253Z"
   },
   {
    "duration": 27,
    "start_time": "2022-06-03T10:22:23.292Z"
   },
   {
    "duration": 38,
    "start_time": "2022-06-03T10:22:23.321Z"
   },
   {
    "duration": 32,
    "start_time": "2022-06-03T10:22:23.360Z"
   },
   {
    "duration": 39,
    "start_time": "2022-06-03T10:22:23.394Z"
   },
   {
    "duration": 22,
    "start_time": "2022-06-03T10:22:23.435Z"
   },
   {
    "duration": 30,
    "start_time": "2022-06-03T10:22:23.459Z"
   },
   {
    "duration": 42,
    "start_time": "2022-06-03T10:22:23.493Z"
   },
   {
    "duration": 8,
    "start_time": "2022-06-03T10:22:23.536Z"
   },
   {
    "duration": 23,
    "start_time": "2022-06-03T10:22:23.546Z"
   },
   {
    "duration": 4,
    "start_time": "2022-06-03T10:22:23.572Z"
   },
   {
    "duration": 8,
    "start_time": "2022-06-03T10:22:23.578Z"
   },
   {
    "duration": 178,
    "start_time": "2022-06-03T10:22:23.587Z"
   },
   {
    "duration": 38,
    "start_time": "2022-06-03T10:22:23.767Z"
   },
   {
    "duration": 79,
    "start_time": "2022-06-03T10:45:38.866Z"
   },
   {
    "duration": 9,
    "start_time": "2022-06-03T10:45:46.602Z"
   },
   {
    "duration": 1288,
    "start_time": "2022-06-03T10:46:34.212Z"
   },
   {
    "duration": 3,
    "start_time": "2022-06-03T10:46:35.502Z"
   },
   {
    "duration": 27,
    "start_time": "2022-06-03T10:46:35.506Z"
   },
   {
    "duration": 81,
    "start_time": "2022-06-03T10:46:35.534Z"
   },
   {
    "duration": 195,
    "start_time": "2022-06-03T10:46:35.627Z"
   },
   {
    "duration": 122,
    "start_time": "2022-06-03T10:46:35.824Z"
   },
   {
    "duration": 184,
    "start_time": "2022-06-03T10:46:35.948Z"
   },
   {
    "duration": 29,
    "start_time": "2022-06-03T10:46:36.133Z"
   },
   {
    "duration": 142,
    "start_time": "2022-06-03T10:46:36.164Z"
   },
   {
    "duration": 139,
    "start_time": "2022-06-03T10:46:36.327Z"
   },
   {
    "duration": 4,
    "start_time": "2022-06-03T10:46:36.468Z"
   },
   {
    "duration": 95,
    "start_time": "2022-06-03T10:46:36.474Z"
   },
   {
    "duration": 4,
    "start_time": "2022-06-03T10:46:36.571Z"
   },
   {
    "duration": 21,
    "start_time": "2022-06-03T10:46:36.579Z"
   },
   {
    "duration": 46,
    "start_time": "2022-06-03T10:46:36.602Z"
   },
   {
    "duration": 5,
    "start_time": "2022-06-03T10:46:36.650Z"
   },
   {
    "duration": 10,
    "start_time": "2022-06-03T10:46:36.656Z"
   },
   {
    "duration": 38,
    "start_time": "2022-06-03T10:46:36.668Z"
   },
   {
    "duration": 20,
    "start_time": "2022-06-03T10:46:36.708Z"
   },
   {
    "duration": 23,
    "start_time": "2022-06-03T10:46:36.730Z"
   },
   {
    "duration": 26,
    "start_time": "2022-06-03T10:46:36.755Z"
   },
   {
    "duration": 23,
    "start_time": "2022-06-03T10:46:36.783Z"
   },
   {
    "duration": 44,
    "start_time": "2022-06-03T10:46:36.808Z"
   },
   {
    "duration": 34,
    "start_time": "2022-06-03T10:46:36.853Z"
   },
   {
    "duration": 14,
    "start_time": "2022-06-03T10:46:36.889Z"
   },
   {
    "duration": 23,
    "start_time": "2022-06-03T10:46:36.926Z"
   },
   {
    "duration": 28,
    "start_time": "2022-06-03T10:46:36.950Z"
   },
   {
    "duration": 21,
    "start_time": "2022-06-03T10:46:36.979Z"
   },
   {
    "duration": 29,
    "start_time": "2022-06-03T10:46:37.001Z"
   },
   {
    "duration": 13,
    "start_time": "2022-06-03T10:46:37.032Z"
   },
   {
    "duration": 8,
    "start_time": "2022-06-03T10:46:37.047Z"
   },
   {
    "duration": 6,
    "start_time": "2022-06-03T10:46:37.057Z"
   },
   {
    "duration": 152,
    "start_time": "2022-06-03T10:46:37.065Z"
   },
   {
    "duration": 32,
    "start_time": "2022-06-03T10:46:37.218Z"
   },
   {
    "duration": 135,
    "start_time": "2022-06-03T10:46:37.252Z"
   },
   {
    "duration": 1167,
    "start_time": "2022-06-03T10:47:59.847Z"
   },
   {
    "duration": 3,
    "start_time": "2022-06-03T10:48:01.016Z"
   },
   {
    "duration": 19,
    "start_time": "2022-06-03T10:48:01.026Z"
   },
   {
    "duration": 74,
    "start_time": "2022-06-03T10:48:01.047Z"
   },
   {
    "duration": 212,
    "start_time": "2022-06-03T10:48:01.123Z"
   },
   {
    "duration": 134,
    "start_time": "2022-06-03T10:48:01.338Z"
   },
   {
    "duration": 194,
    "start_time": "2022-06-03T10:48:01.474Z"
   },
   {
    "duration": 29,
    "start_time": "2022-06-03T10:48:01.670Z"
   },
   {
    "duration": 177,
    "start_time": "2022-06-03T10:48:01.701Z"
   },
   {
    "duration": 171,
    "start_time": "2022-06-03T10:48:01.882Z"
   },
   {
    "duration": 52,
    "start_time": "2022-06-03T10:48:02.055Z"
   },
   {
    "duration": 199,
    "start_time": "2022-06-03T10:48:02.109Z"
   },
   {
    "duration": 5,
    "start_time": "2022-06-03T10:48:02.310Z"
   },
   {
    "duration": 30,
    "start_time": "2022-06-03T10:48:02.317Z"
   },
   {
    "duration": 52,
    "start_time": "2022-06-03T10:48:02.348Z"
   },
   {
    "duration": 5,
    "start_time": "2022-06-03T10:48:02.402Z"
   },
   {
    "duration": 18,
    "start_time": "2022-06-03T10:48:02.408Z"
   },
   {
    "duration": 68,
    "start_time": "2022-06-03T10:48:02.428Z"
   },
   {
    "duration": 4,
    "start_time": "2022-06-03T10:48:02.498Z"
   },
   {
    "duration": 28,
    "start_time": "2022-06-03T10:48:02.503Z"
   },
   {
    "duration": 50,
    "start_time": "2022-06-03T10:48:02.533Z"
   },
   {
    "duration": 31,
    "start_time": "2022-06-03T10:48:02.584Z"
   },
   {
    "duration": 49,
    "start_time": "2022-06-03T10:48:02.617Z"
   },
   {
    "duration": 40,
    "start_time": "2022-06-03T10:48:02.668Z"
   },
   {
    "duration": 17,
    "start_time": "2022-06-03T10:48:02.710Z"
   },
   {
    "duration": 23,
    "start_time": "2022-06-03T10:48:02.729Z"
   },
   {
    "duration": 22,
    "start_time": "2022-06-03T10:48:02.754Z"
   },
   {
    "duration": 50,
    "start_time": "2022-06-03T10:48:02.779Z"
   },
   {
    "duration": 22,
    "start_time": "2022-06-03T10:48:02.831Z"
   },
   {
    "duration": 35,
    "start_time": "2022-06-03T10:48:02.855Z"
   },
   {
    "duration": 6,
    "start_time": "2022-06-03T10:48:02.891Z"
   },
   {
    "duration": 20,
    "start_time": "2022-06-03T10:48:02.898Z"
   },
   {
    "duration": 164,
    "start_time": "2022-06-03T10:48:02.920Z"
   },
   {
    "duration": 28,
    "start_time": "2022-06-03T10:48:03.086Z"
   },
   {
    "duration": 148,
    "start_time": "2022-06-03T10:48:03.115Z"
   },
   {
    "duration": 33,
    "start_time": "2022-06-03T10:48:12.307Z"
   },
   {
    "duration": 29,
    "start_time": "2022-06-03T10:48:22.460Z"
   },
   {
    "duration": 1235,
    "start_time": "2022-06-03T10:49:34.296Z"
   },
   {
    "duration": 3,
    "start_time": "2022-06-03T10:49:35.533Z"
   },
   {
    "duration": 7,
    "start_time": "2022-06-03T10:49:35.538Z"
   },
   {
    "duration": 71,
    "start_time": "2022-06-03T10:49:35.547Z"
   },
   {
    "duration": 208,
    "start_time": "2022-06-03T10:49:35.621Z"
   },
   {
    "duration": 121,
    "start_time": "2022-06-03T10:49:35.831Z"
   },
   {
    "duration": 183,
    "start_time": "2022-06-03T10:49:35.953Z"
   },
   {
    "duration": 28,
    "start_time": "2022-06-03T10:49:36.138Z"
   },
   {
    "duration": 168,
    "start_time": "2022-06-03T10:49:36.168Z"
   },
   {
    "duration": 138,
    "start_time": "2022-06-03T10:49:36.339Z"
   },
   {
    "duration": 3,
    "start_time": "2022-06-03T10:49:36.479Z"
   },
   {
    "duration": 107,
    "start_time": "2022-06-03T10:49:36.484Z"
   },
   {
    "duration": 5,
    "start_time": "2022-06-03T10:49:36.593Z"
   },
   {
    "duration": 25,
    "start_time": "2022-06-03T10:49:36.601Z"
   },
   {
    "duration": 53,
    "start_time": "2022-06-03T10:49:36.628Z"
   },
   {
    "duration": 5,
    "start_time": "2022-06-03T10:49:36.683Z"
   },
   {
    "duration": 16,
    "start_time": "2022-06-03T10:49:36.690Z"
   },
   {
    "duration": 47,
    "start_time": "2022-06-03T10:49:36.707Z"
   },
   {
    "duration": 5,
    "start_time": "2022-06-03T10:49:36.756Z"
   },
   {
    "duration": 17,
    "start_time": "2022-06-03T10:49:36.762Z"
   },
   {
    "duration": 26,
    "start_time": "2022-06-03T10:49:36.781Z"
   },
   {
    "duration": 21,
    "start_time": "2022-06-03T10:49:36.826Z"
   },
   {
    "duration": 31,
    "start_time": "2022-06-03T10:49:36.848Z"
   },
   {
    "duration": 58,
    "start_time": "2022-06-03T10:49:36.881Z"
   },
   {
    "duration": 14,
    "start_time": "2022-06-03T10:49:36.941Z"
   },
   {
    "duration": 21,
    "start_time": "2022-06-03T10:49:36.956Z"
   },
   {
    "duration": 48,
    "start_time": "2022-06-03T10:49:36.978Z"
   },
   {
    "duration": 21,
    "start_time": "2022-06-03T10:49:37.028Z"
   },
   {
    "duration": 9,
    "start_time": "2022-06-03T10:49:37.050Z"
   },
   {
    "duration": 16,
    "start_time": "2022-06-03T10:49:37.061Z"
   },
   {
    "duration": 10,
    "start_time": "2022-06-03T10:49:37.079Z"
   },
   {
    "duration": 6,
    "start_time": "2022-06-03T10:49:37.090Z"
   },
   {
    "duration": 172,
    "start_time": "2022-06-03T10:49:37.098Z"
   },
   {
    "duration": 29,
    "start_time": "2022-06-03T10:49:37.272Z"
   },
   {
    "duration": 149,
    "start_time": "2022-06-03T10:49:37.303Z"
   },
   {
    "duration": 36,
    "start_time": "2022-06-03T10:50:15.604Z"
   },
   {
    "duration": 216,
    "start_time": "2022-06-03T10:53:29.554Z"
   },
   {
    "duration": 1224,
    "start_time": "2022-06-03T10:56:17.157Z"
   },
   {
    "duration": 3,
    "start_time": "2022-06-03T10:56:18.383Z"
   },
   {
    "duration": 12,
    "start_time": "2022-06-03T10:56:18.388Z"
   },
   {
    "duration": 69,
    "start_time": "2022-06-03T10:56:18.402Z"
   },
   {
    "duration": 204,
    "start_time": "2022-06-03T10:56:18.472Z"
   },
   {
    "duration": 122,
    "start_time": "2022-06-03T10:56:18.678Z"
   },
   {
    "duration": 186,
    "start_time": "2022-06-03T10:56:18.802Z"
   },
   {
    "duration": 31,
    "start_time": "2022-06-03T10:56:18.991Z"
   },
   {
    "duration": 160,
    "start_time": "2022-06-03T10:56:19.025Z"
   },
   {
    "duration": 146,
    "start_time": "2022-06-03T10:56:19.188Z"
   },
   {
    "duration": 4,
    "start_time": "2022-06-03T10:56:19.336Z"
   },
   {
    "duration": 112,
    "start_time": "2022-06-03T10:56:19.342Z"
   },
   {
    "duration": 5,
    "start_time": "2022-06-03T10:56:19.456Z"
   },
   {
    "duration": 18,
    "start_time": "2022-06-03T10:56:19.464Z"
   },
   {
    "duration": 53,
    "start_time": "2022-06-03T10:56:19.485Z"
   },
   {
    "duration": 4,
    "start_time": "2022-06-03T10:56:19.540Z"
   },
   {
    "duration": 32,
    "start_time": "2022-06-03T10:56:19.545Z"
   },
   {
    "duration": 51,
    "start_time": "2022-06-03T10:56:19.579Z"
   },
   {
    "duration": 4,
    "start_time": "2022-06-03T10:56:19.632Z"
   },
   {
    "duration": 16,
    "start_time": "2022-06-03T10:56:19.638Z"
   },
   {
    "duration": 34,
    "start_time": "2022-06-03T10:56:19.656Z"
   },
   {
    "duration": 22,
    "start_time": "2022-06-03T10:56:19.691Z"
   },
   {
    "duration": 43,
    "start_time": "2022-06-03T10:56:19.715Z"
   },
   {
    "duration": 31,
    "start_time": "2022-06-03T10:56:19.760Z"
   },
   {
    "duration": 39,
    "start_time": "2022-06-03T10:56:19.793Z"
   },
   {
    "duration": 21,
    "start_time": "2022-06-03T10:56:19.834Z"
   },
   {
    "duration": 21,
    "start_time": "2022-06-03T10:56:19.857Z"
   },
   {
    "duration": 45,
    "start_time": "2022-06-03T10:56:19.881Z"
   },
   {
    "duration": 10,
    "start_time": "2022-06-03T10:56:19.928Z"
   },
   {
    "duration": 29,
    "start_time": "2022-06-03T10:56:19.940Z"
   },
   {
    "duration": 19,
    "start_time": "2022-06-03T10:56:19.971Z"
   },
   {
    "duration": 15,
    "start_time": "2022-06-03T10:56:19.992Z"
   },
   {
    "duration": 0,
    "start_time": "2022-06-03T10:56:20.009Z"
   },
   {
    "duration": 0,
    "start_time": "2022-06-03T10:56:20.010Z"
   },
   {
    "duration": 0,
    "start_time": "2022-06-03T10:56:20.011Z"
   },
   {
    "duration": 5,
    "start_time": "2022-06-03T10:56:55.736Z"
   },
   {
    "duration": 1252,
    "start_time": "2022-06-03T10:57:01.552Z"
   },
   {
    "duration": 3,
    "start_time": "2022-06-03T10:57:02.806Z"
   },
   {
    "duration": 24,
    "start_time": "2022-06-03T10:57:02.810Z"
   },
   {
    "duration": 92,
    "start_time": "2022-06-03T10:57:02.836Z"
   },
   {
    "duration": 219,
    "start_time": "2022-06-03T10:57:02.929Z"
   },
   {
    "duration": 127,
    "start_time": "2022-06-03T10:57:03.149Z"
   },
   {
    "duration": 211,
    "start_time": "2022-06-03T10:57:03.277Z"
   },
   {
    "duration": 28,
    "start_time": "2022-06-03T10:57:03.491Z"
   },
   {
    "duration": 168,
    "start_time": "2022-06-03T10:57:03.526Z"
   },
   {
    "duration": 139,
    "start_time": "2022-06-03T10:57:03.696Z"
   },
   {
    "duration": 3,
    "start_time": "2022-06-03T10:57:03.837Z"
   },
   {
    "duration": 90,
    "start_time": "2022-06-03T10:57:03.842Z"
   },
   {
    "duration": 5,
    "start_time": "2022-06-03T10:57:03.934Z"
   },
   {
    "duration": 16,
    "start_time": "2022-06-03T10:57:03.940Z"
   },
   {
    "duration": 42,
    "start_time": "2022-06-03T10:57:03.958Z"
   },
   {
    "duration": 24,
    "start_time": "2022-06-03T10:57:04.002Z"
   },
   {
    "duration": 10,
    "start_time": "2022-06-03T10:57:04.028Z"
   },
   {
    "duration": 49,
    "start_time": "2022-06-03T10:57:04.040Z"
   },
   {
    "duration": 7,
    "start_time": "2022-06-03T10:57:04.091Z"
   },
   {
    "duration": 10,
    "start_time": "2022-06-03T10:57:04.099Z"
   },
   {
    "duration": 35,
    "start_time": "2022-06-03T10:57:04.111Z"
   },
   {
    "duration": 20,
    "start_time": "2022-06-03T10:57:04.149Z"
   },
   {
    "duration": 37,
    "start_time": "2022-06-03T10:57:04.171Z"
   },
   {
    "duration": 49,
    "start_time": "2022-06-03T10:57:04.226Z"
   },
   {
    "duration": 18,
    "start_time": "2022-06-03T10:57:04.277Z"
   },
   {
    "duration": 41,
    "start_time": "2022-06-03T10:57:04.297Z"
   },
   {
    "duration": 42,
    "start_time": "2022-06-03T10:57:04.340Z"
   },
   {
    "duration": 36,
    "start_time": "2022-06-03T10:57:04.387Z"
   },
   {
    "duration": 29,
    "start_time": "2022-06-03T10:57:04.426Z"
   },
   {
    "duration": 26,
    "start_time": "2022-06-03T10:57:04.457Z"
   },
   {
    "duration": 39,
    "start_time": "2022-06-03T10:57:04.485Z"
   },
   {
    "duration": 44,
    "start_time": "2022-06-03T10:57:04.526Z"
   },
   {
    "duration": 223,
    "start_time": "2022-06-03T10:57:04.571Z"
   },
   {
    "duration": 31,
    "start_time": "2022-06-03T10:57:04.796Z"
   },
   {
    "duration": 293,
    "start_time": "2022-06-03T10:57:04.829Z"
   },
   {
    "duration": 342,
    "start_time": "2022-06-03T10:57:58.293Z"
   },
   {
    "duration": 352,
    "start_time": "2022-06-03T10:58:07.632Z"
   },
   {
    "duration": 333,
    "start_time": "2022-06-03T11:04:26.547Z"
   },
   {
    "duration": 43,
    "start_time": "2022-06-03T11:10:59.436Z"
   },
   {
    "duration": 131,
    "start_time": "2022-06-03T11:11:14.637Z"
   },
   {
    "duration": 10,
    "start_time": "2022-06-03T11:12:56.664Z"
   },
   {
    "duration": 7,
    "start_time": "2022-06-03T11:13:18.289Z"
   },
   {
    "duration": 11,
    "start_time": "2022-06-03T11:14:44.459Z"
   },
   {
    "duration": 9,
    "start_time": "2022-06-03T11:15:00.583Z"
   },
   {
    "duration": 9,
    "start_time": "2022-06-03T11:15:50.986Z"
   },
   {
    "duration": 372,
    "start_time": "2022-06-03T11:17:45.054Z"
   },
   {
    "duration": 393,
    "start_time": "2022-06-03T11:19:29.713Z"
   },
   {
    "duration": 64,
    "start_time": "2022-06-03T11:20:48.876Z"
   },
   {
    "duration": 501,
    "start_time": "2022-06-03T11:20:55.682Z"
   },
   {
    "duration": 391,
    "start_time": "2022-06-03T11:21:00.221Z"
   },
   {
    "duration": 482,
    "start_time": "2022-06-03T11:21:07.467Z"
   },
   {
    "duration": 1216,
    "start_time": "2022-06-03T11:21:30.434Z"
   },
   {
    "duration": 2,
    "start_time": "2022-06-03T11:21:31.652Z"
   },
   {
    "duration": 34,
    "start_time": "2022-06-03T11:21:31.656Z"
   },
   {
    "duration": 89,
    "start_time": "2022-06-03T11:21:31.692Z"
   },
   {
    "duration": 210,
    "start_time": "2022-06-03T11:21:31.783Z"
   },
   {
    "duration": 132,
    "start_time": "2022-06-03T11:21:31.994Z"
   },
   {
    "duration": 193,
    "start_time": "2022-06-03T11:21:32.128Z"
   },
   {
    "duration": 30,
    "start_time": "2022-06-03T11:21:32.327Z"
   },
   {
    "duration": 171,
    "start_time": "2022-06-03T11:21:32.358Z"
   },
   {
    "duration": 113,
    "start_time": "2022-06-03T11:21:32.532Z"
   },
   {
    "duration": 3,
    "start_time": "2022-06-03T11:21:32.647Z"
   },
   {
    "duration": 103,
    "start_time": "2022-06-03T11:21:32.652Z"
   },
   {
    "duration": 5,
    "start_time": "2022-06-03T11:21:32.757Z"
   },
   {
    "duration": 21,
    "start_time": "2022-06-03T11:21:32.765Z"
   },
   {
    "duration": 56,
    "start_time": "2022-06-03T11:21:32.788Z"
   },
   {
    "duration": 10,
    "start_time": "2022-06-03T11:21:32.846Z"
   },
   {
    "duration": 21,
    "start_time": "2022-06-03T11:21:32.857Z"
   },
   {
    "duration": 32,
    "start_time": "2022-06-03T11:21:32.880Z"
   },
   {
    "duration": 14,
    "start_time": "2022-06-03T11:21:32.913Z"
   },
   {
    "duration": 15,
    "start_time": "2022-06-03T11:21:32.928Z"
   },
   {
    "duration": 26,
    "start_time": "2022-06-03T11:21:32.945Z"
   },
   {
    "duration": 21,
    "start_time": "2022-06-03T11:21:32.972Z"
   },
   {
    "duration": 43,
    "start_time": "2022-06-03T11:21:32.995Z"
   },
   {
    "duration": 29,
    "start_time": "2022-06-03T11:21:33.040Z"
   },
   {
    "duration": 13,
    "start_time": "2022-06-03T11:21:33.071Z"
   },
   {
    "duration": 42,
    "start_time": "2022-06-03T11:21:33.086Z"
   },
   {
    "duration": 21,
    "start_time": "2022-06-03T11:21:33.130Z"
   },
   {
    "duration": 19,
    "start_time": "2022-06-03T11:21:33.154Z"
   },
   {
    "duration": 7,
    "start_time": "2022-06-03T11:21:33.174Z"
   },
   {
    "duration": 12,
    "start_time": "2022-06-03T11:21:33.182Z"
   },
   {
    "duration": 12,
    "start_time": "2022-06-03T11:21:33.225Z"
   },
   {
    "duration": 15,
    "start_time": "2022-06-03T11:21:33.238Z"
   },
   {
    "duration": 154,
    "start_time": "2022-06-03T11:21:33.255Z"
   },
   {
    "duration": 31,
    "start_time": "2022-06-03T11:21:33.411Z"
   },
   {
    "duration": 465,
    "start_time": "2022-06-03T11:21:33.444Z"
   },
   {
    "duration": 18,
    "start_time": "2022-06-03T11:21:33.911Z"
   },
   {
    "duration": 375,
    "start_time": "2022-06-03T11:21:33.930Z"
   },
   {
    "duration": 1302,
    "start_time": "2022-06-03T11:24:13.973Z"
   },
   {
    "duration": 3,
    "start_time": "2022-06-03T11:24:15.278Z"
   },
   {
    "duration": 42,
    "start_time": "2022-06-03T11:24:15.284Z"
   },
   {
    "duration": 93,
    "start_time": "2022-06-03T11:24:15.329Z"
   },
   {
    "duration": 198,
    "start_time": "2022-06-03T11:24:15.424Z"
   },
   {
    "duration": 125,
    "start_time": "2022-06-03T11:24:15.627Z"
   },
   {
    "duration": 192,
    "start_time": "2022-06-03T11:24:15.754Z"
   },
   {
    "duration": 31,
    "start_time": "2022-06-03T11:24:15.948Z"
   },
   {
    "duration": 177,
    "start_time": "2022-06-03T11:24:15.980Z"
   },
   {
    "duration": 129,
    "start_time": "2022-06-03T11:24:16.160Z"
   },
   {
    "duration": 4,
    "start_time": "2022-06-03T11:24:16.291Z"
   },
   {
    "duration": 120,
    "start_time": "2022-06-03T11:24:16.296Z"
   },
   {
    "duration": 9,
    "start_time": "2022-06-03T11:24:16.418Z"
   },
   {
    "duration": 23,
    "start_time": "2022-06-03T11:24:16.429Z"
   },
   {
    "duration": 35,
    "start_time": "2022-06-03T11:24:16.454Z"
   },
   {
    "duration": 5,
    "start_time": "2022-06-03T11:24:16.491Z"
   },
   {
    "duration": 30,
    "start_time": "2022-06-03T11:24:16.498Z"
   },
   {
    "duration": 73,
    "start_time": "2022-06-03T11:24:16.530Z"
   },
   {
    "duration": 10,
    "start_time": "2022-06-03T11:24:16.605Z"
   },
   {
    "duration": 44,
    "start_time": "2022-06-03T11:24:16.617Z"
   },
   {
    "duration": 32,
    "start_time": "2022-06-03T11:24:16.663Z"
   },
   {
    "duration": 49,
    "start_time": "2022-06-03T11:24:16.697Z"
   },
   {
    "duration": 31,
    "start_time": "2022-06-03T11:24:16.748Z"
   },
   {
    "duration": 46,
    "start_time": "2022-06-03T11:24:16.781Z"
   },
   {
    "duration": 13,
    "start_time": "2022-06-03T11:24:16.829Z"
   },
   {
    "duration": 33,
    "start_time": "2022-06-03T11:24:16.844Z"
   },
   {
    "duration": 36,
    "start_time": "2022-06-03T11:24:16.879Z"
   },
   {
    "duration": 29,
    "start_time": "2022-06-03T11:24:16.918Z"
   },
   {
    "duration": 19,
    "start_time": "2022-06-03T11:24:16.950Z"
   },
   {
    "duration": 28,
    "start_time": "2022-06-03T11:24:16.971Z"
   },
   {
    "duration": 7,
    "start_time": "2022-06-03T11:24:17.001Z"
   },
   {
    "duration": 20,
    "start_time": "2022-06-03T11:24:17.010Z"
   },
   {
    "duration": 182,
    "start_time": "2022-06-03T11:24:17.032Z"
   },
   {
    "duration": 0,
    "start_time": "2022-06-03T11:24:17.216Z"
   },
   {
    "duration": 0,
    "start_time": "2022-06-03T11:24:17.218Z"
   },
   {
    "duration": 0,
    "start_time": "2022-06-03T11:24:17.219Z"
   },
   {
    "duration": 0,
    "start_time": "2022-06-03T11:24:17.229Z"
   },
   {
    "duration": 50,
    "start_time": "2022-06-03T11:25:00.649Z"
   },
   {
    "duration": 4,
    "start_time": "2022-06-03T11:25:17.081Z"
   },
   {
    "duration": 6,
    "start_time": "2022-06-03T11:25:18.390Z"
   },
   {
    "duration": 225,
    "start_time": "2022-06-03T11:25:20.383Z"
   },
   {
    "duration": 17,
    "start_time": "2022-06-03T11:25:54.464Z"
   },
   {
    "duration": 1192,
    "start_time": "2022-06-03T11:26:18.350Z"
   },
   {
    "duration": 3,
    "start_time": "2022-06-03T11:26:19.545Z"
   },
   {
    "duration": 21,
    "start_time": "2022-06-03T11:26:19.549Z"
   },
   {
    "duration": 65,
    "start_time": "2022-06-03T11:26:19.572Z"
   },
   {
    "duration": 196,
    "start_time": "2022-06-03T11:26:19.639Z"
   },
   {
    "duration": 113,
    "start_time": "2022-06-03T11:26:19.837Z"
   },
   {
    "duration": 183,
    "start_time": "2022-06-03T11:26:19.952Z"
   },
   {
    "duration": 28,
    "start_time": "2022-06-03T11:26:20.137Z"
   },
   {
    "duration": 137,
    "start_time": "2022-06-03T11:26:20.167Z"
   },
   {
    "duration": 112,
    "start_time": "2022-06-03T11:26:20.327Z"
   },
   {
    "duration": 4,
    "start_time": "2022-06-03T11:26:20.441Z"
   },
   {
    "duration": 95,
    "start_time": "2022-06-03T11:26:20.449Z"
   },
   {
    "duration": 5,
    "start_time": "2022-06-03T11:26:20.546Z"
   },
   {
    "duration": 13,
    "start_time": "2022-06-03T11:26:20.552Z"
   },
   {
    "duration": 42,
    "start_time": "2022-06-03T11:26:20.566Z"
   },
   {
    "duration": 19,
    "start_time": "2022-06-03T11:26:20.610Z"
   },
   {
    "duration": 14,
    "start_time": "2022-06-03T11:26:20.630Z"
   },
   {
    "duration": 37,
    "start_time": "2022-06-03T11:26:20.645Z"
   },
   {
    "duration": 5,
    "start_time": "2022-06-03T11:26:20.683Z"
   },
   {
    "duration": 18,
    "start_time": "2022-06-03T11:26:20.689Z"
   },
   {
    "duration": 31,
    "start_time": "2022-06-03T11:26:20.709Z"
   },
   {
    "duration": 20,
    "start_time": "2022-06-03T11:26:20.742Z"
   },
   {
    "duration": 39,
    "start_time": "2022-06-03T11:26:20.764Z"
   },
   {
    "duration": 61,
    "start_time": "2022-06-03T11:26:20.804Z"
   },
   {
    "duration": 15,
    "start_time": "2022-06-03T11:26:20.867Z"
   },
   {
    "duration": 43,
    "start_time": "2022-06-03T11:26:20.884Z"
   },
   {
    "duration": 22,
    "start_time": "2022-06-03T11:26:20.929Z"
   },
   {
    "duration": 19,
    "start_time": "2022-06-03T11:26:20.954Z"
   },
   {
    "duration": 11,
    "start_time": "2022-06-03T11:26:20.974Z"
   },
   {
    "duration": 38,
    "start_time": "2022-06-03T11:26:20.987Z"
   },
   {
    "duration": 3,
    "start_time": "2022-06-03T11:26:21.027Z"
   },
   {
    "duration": 9,
    "start_time": "2022-06-03T11:26:21.032Z"
   },
   {
    "duration": 152,
    "start_time": "2022-06-03T11:26:21.043Z"
   },
   {
    "duration": 35,
    "start_time": "2022-06-03T11:26:21.197Z"
   },
   {
    "duration": 486,
    "start_time": "2022-06-03T11:26:21.234Z"
   },
   {
    "duration": 10,
    "start_time": "2022-06-03T11:26:21.721Z"
   },
   {
    "duration": 427,
    "start_time": "2022-06-03T11:26:21.732Z"
   },
   {
    "duration": 39,
    "start_time": "2022-06-03T11:28:38.241Z"
   },
   {
    "duration": 116,
    "start_time": "2022-06-03T11:29:50.274Z"
   },
   {
    "duration": 1167,
    "start_time": "2022-06-03T11:31:05.006Z"
   },
   {
    "duration": 3,
    "start_time": "2022-06-03T11:31:06.175Z"
   },
   {
    "duration": 26,
    "start_time": "2022-06-03T11:31:06.179Z"
   },
   {
    "duration": 101,
    "start_time": "2022-06-03T11:31:06.208Z"
   },
   {
    "duration": 197,
    "start_time": "2022-06-03T11:31:06.311Z"
   },
   {
    "duration": 126,
    "start_time": "2022-06-03T11:31:06.510Z"
   },
   {
    "duration": 194,
    "start_time": "2022-06-03T11:31:06.638Z"
   },
   {
    "duration": 32,
    "start_time": "2022-06-03T11:31:06.834Z"
   },
   {
    "duration": 202,
    "start_time": "2022-06-03T11:31:06.867Z"
   },
   {
    "duration": 130,
    "start_time": "2022-06-03T11:31:07.072Z"
   },
   {
    "duration": 5,
    "start_time": "2022-06-03T11:31:07.204Z"
   },
   {
    "duration": 137,
    "start_time": "2022-06-03T11:31:07.211Z"
   },
   {
    "duration": 7,
    "start_time": "2022-06-03T11:31:07.353Z"
   },
   {
    "duration": 106,
    "start_time": "2022-06-03T11:31:07.362Z"
   },
   {
    "duration": 85,
    "start_time": "2022-06-03T11:31:07.469Z"
   },
   {
    "duration": 15,
    "start_time": "2022-06-03T11:31:07.556Z"
   },
   {
    "duration": 59,
    "start_time": "2022-06-03T11:31:07.574Z"
   },
   {
    "duration": 87,
    "start_time": "2022-06-03T11:31:07.636Z"
   },
   {
    "duration": 16,
    "start_time": "2022-06-03T11:31:07.725Z"
   },
   {
    "duration": 33,
    "start_time": "2022-06-03T11:31:07.743Z"
   },
   {
    "duration": 62,
    "start_time": "2022-06-03T11:31:07.778Z"
   },
   {
    "duration": 45,
    "start_time": "2022-06-03T11:31:07.844Z"
   },
   {
    "duration": 70,
    "start_time": "2022-06-03T11:31:07.893Z"
   },
   {
    "duration": 73,
    "start_time": "2022-06-03T11:31:07.966Z"
   },
   {
    "duration": 34,
    "start_time": "2022-06-03T11:31:08.041Z"
   },
   {
    "duration": 48,
    "start_time": "2022-06-03T11:31:08.078Z"
   },
   {
    "duration": 59,
    "start_time": "2022-06-03T11:31:08.128Z"
   },
   {
    "duration": 43,
    "start_time": "2022-06-03T11:31:08.192Z"
   },
   {
    "duration": 78,
    "start_time": "2022-06-03T11:31:08.237Z"
   },
   {
    "duration": 55,
    "start_time": "2022-06-03T11:31:08.317Z"
   },
   {
    "duration": 57,
    "start_time": "2022-06-03T11:31:08.375Z"
   },
   {
    "duration": 43,
    "start_time": "2022-06-03T11:31:08.434Z"
   },
   {
    "duration": 248,
    "start_time": "2022-06-03T11:31:08.479Z"
   },
   {
    "duration": 40,
    "start_time": "2022-06-03T11:31:08.730Z"
   },
   {
    "duration": 604,
    "start_time": "2022-06-03T11:31:08.772Z"
   },
   {
    "duration": 11,
    "start_time": "2022-06-03T11:31:09.379Z"
   },
   {
    "duration": 462,
    "start_time": "2022-06-03T11:31:09.392Z"
   },
   {
    "duration": 10,
    "start_time": "2022-06-03T11:33:51.645Z"
   },
   {
    "duration": 115,
    "start_time": "2022-06-03T11:34:00.787Z"
   },
   {
    "duration": 8,
    "start_time": "2022-06-03T11:34:10.787Z"
   },
   {
    "duration": 112,
    "start_time": "2022-06-03T11:34:32.646Z"
   },
   {
    "duration": 8,
    "start_time": "2022-06-03T11:34:38.078Z"
   },
   {
    "duration": 31,
    "start_time": "2022-06-03T11:37:20.282Z"
   },
   {
    "duration": 28,
    "start_time": "2022-06-03T11:38:54.975Z"
   },
   {
    "duration": 34,
    "start_time": "2022-06-03T11:39:58.816Z"
   },
   {
    "duration": 23,
    "start_time": "2022-06-03T11:40:20.170Z"
   },
   {
    "duration": 4,
    "start_time": "2022-06-03T11:40:30.159Z"
   },
   {
    "duration": 30,
    "start_time": "2022-06-03T11:40:36.079Z"
   },
   {
    "duration": 11,
    "start_time": "2022-06-03T11:40:56.024Z"
   },
   {
    "duration": 217,
    "start_time": "2022-06-03T11:53:50.027Z"
   },
   {
    "duration": 239,
    "start_time": "2022-06-03T11:55:46.748Z"
   },
   {
    "duration": 253,
    "start_time": "2022-06-03T11:56:16.376Z"
   },
   {
    "duration": 256,
    "start_time": "2022-06-03T11:56:35.333Z"
   },
   {
    "duration": 219,
    "start_time": "2022-06-03T11:57:39.656Z"
   },
   {
    "duration": 243,
    "start_time": "2022-06-03T11:58:11.795Z"
   },
   {
    "duration": 19,
    "start_time": "2022-06-03T11:58:38.238Z"
   },
   {
    "duration": 204,
    "start_time": "2022-06-03T11:58:49.093Z"
   },
   {
    "duration": 211,
    "start_time": "2022-06-03T11:59:01.061Z"
   },
   {
    "duration": 197,
    "start_time": "2022-06-03T12:01:11.312Z"
   },
   {
    "duration": 228,
    "start_time": "2022-06-03T12:02:45.573Z"
   },
   {
    "duration": 234,
    "start_time": "2022-06-03T12:03:01.547Z"
   },
   {
    "duration": 254,
    "start_time": "2022-06-03T12:03:38.620Z"
   },
   {
    "duration": 1219,
    "start_time": "2022-06-03T12:04:23.785Z"
   },
   {
    "duration": 3,
    "start_time": "2022-06-03T12:04:25.006Z"
   },
   {
    "duration": 8,
    "start_time": "2022-06-03T12:04:25.011Z"
   },
   {
    "duration": 69,
    "start_time": "2022-06-03T12:04:25.027Z"
   },
   {
    "duration": 207,
    "start_time": "2022-06-03T12:04:25.097Z"
   },
   {
    "duration": 126,
    "start_time": "2022-06-03T12:04:25.306Z"
   },
   {
    "duration": 185,
    "start_time": "2022-06-03T12:04:25.434Z"
   },
   {
    "duration": 28,
    "start_time": "2022-06-03T12:04:25.626Z"
   },
   {
    "duration": 132,
    "start_time": "2022-06-03T12:04:25.655Z"
   },
   {
    "duration": 137,
    "start_time": "2022-06-03T12:04:25.790Z"
   },
   {
    "duration": 3,
    "start_time": "2022-06-03T12:04:25.929Z"
   },
   {
    "duration": 83,
    "start_time": "2022-06-03T12:04:25.934Z"
   },
   {
    "duration": 6,
    "start_time": "2022-06-03T12:04:26.027Z"
   },
   {
    "duration": 16,
    "start_time": "2022-06-03T12:04:26.035Z"
   },
   {
    "duration": 46,
    "start_time": "2022-06-03T12:04:26.053Z"
   },
   {
    "duration": 4,
    "start_time": "2022-06-03T12:04:26.101Z"
   },
   {
    "duration": 21,
    "start_time": "2022-06-03T12:04:26.106Z"
   },
   {
    "duration": 37,
    "start_time": "2022-06-03T12:04:26.129Z"
   },
   {
    "duration": 4,
    "start_time": "2022-06-03T12:04:26.168Z"
   },
   {
    "duration": 12,
    "start_time": "2022-06-03T12:04:26.174Z"
   },
   {
    "duration": 47,
    "start_time": "2022-06-03T12:04:26.187Z"
   },
   {
    "duration": 22,
    "start_time": "2022-06-03T12:04:26.236Z"
   },
   {
    "duration": 37,
    "start_time": "2022-06-03T12:04:26.260Z"
   },
   {
    "duration": 53,
    "start_time": "2022-06-03T12:04:26.299Z"
   },
   {
    "duration": 13,
    "start_time": "2022-06-03T12:04:26.354Z"
   },
   {
    "duration": 27,
    "start_time": "2022-06-03T12:04:26.369Z"
   },
   {
    "duration": 40,
    "start_time": "2022-06-03T12:04:26.398Z"
   },
   {
    "duration": 19,
    "start_time": "2022-06-03T12:04:26.441Z"
   },
   {
    "duration": 11,
    "start_time": "2022-06-03T12:04:26.461Z"
   },
   {
    "duration": 28,
    "start_time": "2022-06-03T12:04:26.473Z"
   },
   {
    "duration": 11,
    "start_time": "2022-06-03T12:04:26.503Z"
   },
   {
    "duration": 15,
    "start_time": "2022-06-03T12:04:26.516Z"
   },
   {
    "duration": 142,
    "start_time": "2022-06-03T12:04:26.532Z"
   },
   {
    "duration": 26,
    "start_time": "2022-06-03T12:04:26.676Z"
   },
   {
    "duration": 297,
    "start_time": "2022-06-03T12:04:26.704Z"
   },
   {
    "duration": 9,
    "start_time": "2022-06-03T12:04:27.003Z"
   },
   {
    "duration": 272,
    "start_time": "2022-06-03T12:04:27.013Z"
   },
   {
    "duration": 9,
    "start_time": "2022-06-03T12:04:27.287Z"
   },
   {
    "duration": 1225,
    "start_time": "2022-06-03T13:33:10.550Z"
   },
   {
    "duration": 3,
    "start_time": "2022-06-03T13:33:11.778Z"
   },
   {
    "duration": 14,
    "start_time": "2022-06-03T13:33:11.782Z"
   },
   {
    "duration": 68,
    "start_time": "2022-06-03T13:33:11.799Z"
   },
   {
    "duration": 203,
    "start_time": "2022-06-03T13:33:11.869Z"
   },
   {
    "duration": 147,
    "start_time": "2022-06-03T13:33:12.074Z"
   },
   {
    "duration": 205,
    "start_time": "2022-06-03T13:33:12.225Z"
   },
   {
    "duration": 32,
    "start_time": "2022-06-03T13:33:12.432Z"
   },
   {
    "duration": 179,
    "start_time": "2022-06-03T13:33:12.466Z"
   },
   {
    "duration": 155,
    "start_time": "2022-06-03T13:33:12.648Z"
   },
   {
    "duration": 5,
    "start_time": "2022-06-03T13:33:12.805Z"
   },
   {
    "duration": 117,
    "start_time": "2022-06-03T13:33:12.812Z"
   },
   {
    "duration": 5,
    "start_time": "2022-06-03T13:33:12.932Z"
   },
   {
    "duration": 11,
    "start_time": "2022-06-03T13:33:12.939Z"
   },
   {
    "duration": 42,
    "start_time": "2022-06-03T13:33:12.952Z"
   },
   {
    "duration": 4,
    "start_time": "2022-06-03T13:33:12.996Z"
   },
   {
    "duration": 31,
    "start_time": "2022-06-03T13:33:13.002Z"
   },
   {
    "duration": 38,
    "start_time": "2022-06-03T13:33:13.034Z"
   },
   {
    "duration": 4,
    "start_time": "2022-06-03T13:33:13.075Z"
   },
   {
    "duration": 15,
    "start_time": "2022-06-03T13:33:13.080Z"
   },
   {
    "duration": 36,
    "start_time": "2022-06-03T13:33:13.097Z"
   },
   {
    "duration": 20,
    "start_time": "2022-06-03T13:33:13.136Z"
   },
   {
    "duration": 35,
    "start_time": "2022-06-03T13:33:13.158Z"
   },
   {
    "duration": 63,
    "start_time": "2022-06-03T13:33:13.194Z"
   },
   {
    "duration": 17,
    "start_time": "2022-06-03T13:33:13.259Z"
   },
   {
    "duration": 24,
    "start_time": "2022-06-03T13:33:13.278Z"
   },
   {
    "duration": 40,
    "start_time": "2022-06-03T13:33:13.304Z"
   },
   {
    "duration": 25,
    "start_time": "2022-06-03T13:33:13.348Z"
   },
   {
    "duration": 21,
    "start_time": "2022-06-03T13:33:13.376Z"
   },
   {
    "duration": 41,
    "start_time": "2022-06-03T13:33:13.400Z"
   },
   {
    "duration": 13,
    "start_time": "2022-06-03T13:33:13.443Z"
   },
   {
    "duration": 14,
    "start_time": "2022-06-03T13:33:13.458Z"
   },
   {
    "duration": 150,
    "start_time": "2022-06-03T13:33:13.474Z"
   },
   {
    "duration": 28,
    "start_time": "2022-06-03T13:33:13.625Z"
   },
   {
    "duration": 340,
    "start_time": "2022-06-03T13:33:13.656Z"
   },
   {
    "duration": 10,
    "start_time": "2022-06-03T13:33:13.998Z"
   },
   {
    "duration": 319,
    "start_time": "2022-06-03T13:33:14.010Z"
   },
   {
    "duration": 9,
    "start_time": "2022-06-03T13:33:14.331Z"
   },
   {
    "duration": 714,
    "start_time": "2022-06-03T13:42:59.791Z"
   },
   {
    "duration": 15,
    "start_time": "2022-06-03T13:43:40.760Z"
   },
   {
    "duration": 15,
    "start_time": "2022-06-03T13:44:09.720Z"
   },
   {
    "duration": 15,
    "start_time": "2022-06-03T13:44:35.056Z"
   },
   {
    "duration": 14,
    "start_time": "2022-06-03T13:46:49.311Z"
   },
   {
    "duration": 17,
    "start_time": "2022-06-03T13:50:16.209Z"
   },
   {
    "duration": 22,
    "start_time": "2022-06-03T13:51:08.058Z"
   },
   {
    "duration": 25,
    "start_time": "2022-06-03T13:51:15.043Z"
   },
   {
    "duration": 26,
    "start_time": "2022-06-03T13:52:21.515Z"
   },
   {
    "duration": 24,
    "start_time": "2022-06-03T13:55:25.736Z"
   },
   {
    "duration": 30,
    "start_time": "2022-06-03T13:55:47.368Z"
   },
   {
    "duration": 28,
    "start_time": "2022-06-03T13:55:57.732Z"
   },
   {
    "duration": 35,
    "start_time": "2022-06-03T13:56:18.662Z"
   },
   {
    "duration": 1149,
    "start_time": "2022-06-03T13:56:28.825Z"
   },
   {
    "duration": 2,
    "start_time": "2022-06-03T13:56:29.976Z"
   },
   {
    "duration": 7,
    "start_time": "2022-06-03T13:56:29.980Z"
   },
   {
    "duration": 64,
    "start_time": "2022-06-03T13:56:29.989Z"
   },
   {
    "duration": 195,
    "start_time": "2022-06-03T13:56:30.054Z"
   },
   {
    "duration": 120,
    "start_time": "2022-06-03T13:56:30.252Z"
   },
   {
    "duration": 183,
    "start_time": "2022-06-03T13:56:30.374Z"
   },
   {
    "duration": 28,
    "start_time": "2022-06-03T13:56:30.559Z"
   },
   {
    "duration": 153,
    "start_time": "2022-06-03T13:56:30.588Z"
   },
   {
    "duration": 107,
    "start_time": "2022-06-03T13:56:30.744Z"
   },
   {
    "duration": 4,
    "start_time": "2022-06-03T13:56:30.852Z"
   },
   {
    "duration": 113,
    "start_time": "2022-06-03T13:56:30.857Z"
   },
   {
    "duration": 4,
    "start_time": "2022-06-03T13:56:30.972Z"
   },
   {
    "duration": 24,
    "start_time": "2022-06-03T13:56:30.978Z"
   },
   {
    "duration": 69,
    "start_time": "2022-06-03T13:56:31.004Z"
   },
   {
    "duration": 4,
    "start_time": "2022-06-03T13:56:31.075Z"
   },
   {
    "duration": 47,
    "start_time": "2022-06-03T13:56:31.081Z"
   },
   {
    "duration": 49,
    "start_time": "2022-06-03T13:56:31.130Z"
   },
   {
    "duration": 9,
    "start_time": "2022-06-03T13:56:31.181Z"
   },
   {
    "duration": 43,
    "start_time": "2022-06-03T13:56:31.192Z"
   },
   {
    "duration": 54,
    "start_time": "2022-06-03T13:56:31.237Z"
   },
   {
    "duration": 29,
    "start_time": "2022-06-03T13:56:31.293Z"
   },
   {
    "duration": 51,
    "start_time": "2022-06-03T13:56:31.324Z"
   },
   {
    "duration": 39,
    "start_time": "2022-06-03T13:56:31.377Z"
   },
   {
    "duration": 25,
    "start_time": "2022-06-03T13:56:31.418Z"
   },
   {
    "duration": 33,
    "start_time": "2022-06-03T13:56:31.445Z"
   },
   {
    "duration": 38,
    "start_time": "2022-06-03T13:56:31.480Z"
   },
   {
    "duration": 20,
    "start_time": "2022-06-03T13:56:31.522Z"
   },
   {
    "duration": 15,
    "start_time": "2022-06-03T13:56:31.544Z"
   },
   {
    "duration": 21,
    "start_time": "2022-06-03T13:56:31.561Z"
   },
   {
    "duration": 17,
    "start_time": "2022-06-03T13:56:31.584Z"
   },
   {
    "duration": 21,
    "start_time": "2022-06-03T13:56:31.603Z"
   },
   {
    "duration": 156,
    "start_time": "2022-06-03T13:56:31.626Z"
   },
   {
    "duration": 25,
    "start_time": "2022-06-03T13:56:31.783Z"
   },
   {
    "duration": 348,
    "start_time": "2022-06-03T13:56:31.810Z"
   },
   {
    "duration": 12,
    "start_time": "2022-06-03T13:56:32.160Z"
   },
   {
    "duration": 306,
    "start_time": "2022-06-03T13:56:32.174Z"
   },
   {
    "duration": 8,
    "start_time": "2022-06-03T13:56:32.482Z"
   },
   {
    "duration": 34,
    "start_time": "2022-06-03T13:56:32.493Z"
   },
   {
    "duration": 50,
    "start_time": "2022-06-03T13:56:32.529Z"
   },
   {
    "duration": 27,
    "start_time": "2022-06-03T13:56:32.580Z"
   },
   {
    "duration": 33,
    "start_time": "2022-06-03T13:57:08.784Z"
   },
   {
    "duration": 29,
    "start_time": "2022-06-03T13:57:09.642Z"
   },
   {
    "duration": 38,
    "start_time": "2022-06-03T14:04:08.452Z"
   },
   {
    "duration": 28,
    "start_time": "2022-06-03T14:04:24.936Z"
   },
   {
    "duration": 113,
    "start_time": "2022-06-03T14:33:43.907Z"
   },
   {
    "duration": 205,
    "start_time": "2022-06-03T14:39:09.930Z"
   },
   {
    "duration": 254,
    "start_time": "2022-06-03T14:39:28.805Z"
   },
   {
    "duration": 61,
    "start_time": "2022-06-03T14:40:17.879Z"
   },
   {
    "duration": 177,
    "start_time": "2022-06-03T14:40:38.367Z"
   },
   {
    "duration": 19,
    "start_time": "2022-06-03T14:41:39.033Z"
   },
   {
    "duration": 523,
    "start_time": "2022-06-03T14:43:26.905Z"
   },
   {
    "duration": 626,
    "start_time": "2022-06-03T14:43:45.943Z"
   },
   {
    "duration": 21,
    "start_time": "2022-06-03T14:43:56.672Z"
   },
   {
    "duration": 39,
    "start_time": "2022-06-03T14:49:02.803Z"
   },
   {
    "duration": 200,
    "start_time": "2022-06-03T14:57:39.933Z"
   },
   {
    "duration": 171,
    "start_time": "2022-06-03T14:58:38.491Z"
   },
   {
    "duration": 163,
    "start_time": "2022-06-03T14:58:49.231Z"
   },
   {
    "duration": 477,
    "start_time": "2022-06-03T14:59:26.353Z"
   },
   {
    "duration": 328,
    "start_time": "2022-06-03T15:00:48.556Z"
   },
   {
    "duration": 226,
    "start_time": "2022-06-03T15:02:45.772Z"
   },
   {
    "duration": 316,
    "start_time": "2022-06-03T15:03:52.823Z"
   },
   {
    "duration": 438,
    "start_time": "2022-06-03T15:05:48.935Z"
   },
   {
    "duration": 288,
    "start_time": "2022-06-03T15:06:20.480Z"
   },
   {
    "duration": 446,
    "start_time": "2022-06-03T15:08:33.368Z"
   },
   {
    "duration": 219,
    "start_time": "2022-06-03T15:09:46.530Z"
   },
   {
    "duration": 222,
    "start_time": "2022-06-03T15:10:52.896Z"
   },
   {
    "duration": 342,
    "start_time": "2022-06-03T15:11:16.742Z"
   },
   {
    "duration": 330,
    "start_time": "2022-06-03T15:12:24.918Z"
   },
   {
    "duration": 331,
    "start_time": "2022-06-03T15:12:49.667Z"
   },
   {
    "duration": 397,
    "start_time": "2022-06-03T15:14:25.080Z"
   },
   {
    "duration": 1203,
    "start_time": "2022-06-03T15:14:47.589Z"
   },
   {
    "duration": 3,
    "start_time": "2022-06-03T15:14:48.794Z"
   },
   {
    "duration": 15,
    "start_time": "2022-06-03T15:14:48.799Z"
   },
   {
    "duration": 68,
    "start_time": "2022-06-03T15:14:48.816Z"
   },
   {
    "duration": 197,
    "start_time": "2022-06-03T15:14:48.885Z"
   },
   {
    "duration": 115,
    "start_time": "2022-06-03T15:14:49.084Z"
   },
   {
    "duration": 185,
    "start_time": "2022-06-03T15:14:49.201Z"
   },
   {
    "duration": 30,
    "start_time": "2022-06-03T15:14:49.388Z"
   },
   {
    "duration": 152,
    "start_time": "2022-06-03T15:14:49.420Z"
   },
   {
    "duration": 122,
    "start_time": "2022-06-03T15:14:49.574Z"
   },
   {
    "duration": 4,
    "start_time": "2022-06-03T15:14:49.697Z"
   },
   {
    "duration": 93,
    "start_time": "2022-06-03T15:14:49.702Z"
   },
   {
    "duration": 4,
    "start_time": "2022-06-03T15:14:49.797Z"
   },
   {
    "duration": 28,
    "start_time": "2022-06-03T15:14:49.803Z"
   },
   {
    "duration": 46,
    "start_time": "2022-06-03T15:14:49.833Z"
   },
   {
    "duration": 4,
    "start_time": "2022-06-03T15:14:49.881Z"
   },
   {
    "duration": 19,
    "start_time": "2022-06-03T15:14:49.886Z"
   },
   {
    "duration": 40,
    "start_time": "2022-06-03T15:14:49.907Z"
   },
   {
    "duration": 4,
    "start_time": "2022-06-03T15:14:49.949Z"
   },
   {
    "duration": 11,
    "start_time": "2022-06-03T15:14:49.955Z"
   },
   {
    "duration": 21,
    "start_time": "2022-06-03T15:14:49.967Z"
   },
   {
    "duration": 43,
    "start_time": "2022-06-03T15:14:49.990Z"
   },
   {
    "duration": 43,
    "start_time": "2022-06-03T15:14:50.034Z"
   },
   {
    "duration": 51,
    "start_time": "2022-06-03T15:14:50.078Z"
   },
   {
    "duration": 30,
    "start_time": "2022-06-03T15:14:50.131Z"
   },
   {
    "duration": 49,
    "start_time": "2022-06-03T15:14:50.163Z"
   },
   {
    "duration": 44,
    "start_time": "2022-06-03T15:14:50.214Z"
   },
   {
    "duration": 20,
    "start_time": "2022-06-03T15:14:50.262Z"
   },
   {
    "duration": 27,
    "start_time": "2022-06-03T15:14:50.283Z"
   },
   {
    "duration": 53,
    "start_time": "2022-06-03T15:14:50.312Z"
   },
   {
    "duration": 56,
    "start_time": "2022-06-03T15:14:50.367Z"
   },
   {
    "duration": 11,
    "start_time": "2022-06-03T15:14:50.425Z"
   },
   {
    "duration": 160,
    "start_time": "2022-06-03T15:14:50.437Z"
   },
   {
    "duration": 33,
    "start_time": "2022-06-03T15:14:50.600Z"
   },
   {
    "duration": 320,
    "start_time": "2022-06-03T15:14:50.634Z"
   },
   {
    "duration": 11,
    "start_time": "2022-06-03T15:14:50.956Z"
   },
   {
    "duration": 283,
    "start_time": "2022-06-03T15:14:50.969Z"
   },
   {
    "duration": 8,
    "start_time": "2022-06-03T15:14:51.255Z"
   },
   {
    "duration": 39,
    "start_time": "2022-06-03T15:14:51.264Z"
   },
   {
    "duration": 32,
    "start_time": "2022-06-03T15:14:51.305Z"
   },
   {
    "duration": 30,
    "start_time": "2022-06-03T15:14:51.339Z"
   },
   {
    "duration": 390,
    "start_time": "2022-06-03T15:14:51.370Z"
   },
   {
    "duration": 414,
    "start_time": "2022-06-03T15:14:51.762Z"
   },
   {
    "duration": 52,
    "start_time": "2022-06-03T15:16:00.402Z"
   },
   {
    "duration": 362,
    "start_time": "2022-06-03T15:16:08.507Z"
   },
   {
    "duration": 335,
    "start_time": "2022-06-03T15:16:26.561Z"
   },
   {
    "duration": 418,
    "start_time": "2022-06-03T15:16:54.579Z"
   },
   {
    "duration": 421,
    "start_time": "2022-06-03T15:17:14.195Z"
   },
   {
    "duration": 376,
    "start_time": "2022-06-03T15:17:23.758Z"
   },
   {
    "duration": 1117,
    "start_time": "2022-06-03T15:17:34.553Z"
   },
   {
    "duration": 3,
    "start_time": "2022-06-03T15:17:35.672Z"
   },
   {
    "duration": 7,
    "start_time": "2022-06-03T15:17:35.677Z"
   },
   {
    "duration": 79,
    "start_time": "2022-06-03T15:17:35.686Z"
   },
   {
    "duration": 194,
    "start_time": "2022-06-03T15:17:35.766Z"
   },
   {
    "duration": 119,
    "start_time": "2022-06-03T15:17:35.962Z"
   },
   {
    "duration": 189,
    "start_time": "2022-06-03T15:17:36.083Z"
   },
   {
    "duration": 28,
    "start_time": "2022-06-03T15:17:36.273Z"
   },
   {
    "duration": 155,
    "start_time": "2022-06-03T15:17:36.302Z"
   },
   {
    "duration": 120,
    "start_time": "2022-06-03T15:17:36.459Z"
   },
   {
    "duration": 2,
    "start_time": "2022-06-03T15:17:36.581Z"
   },
   {
    "duration": 93,
    "start_time": "2022-06-03T15:17:36.585Z"
   },
   {
    "duration": 4,
    "start_time": "2022-06-03T15:17:36.680Z"
   },
   {
    "duration": 17,
    "start_time": "2022-06-03T15:17:36.685Z"
   },
   {
    "duration": 45,
    "start_time": "2022-06-03T15:17:36.704Z"
   },
   {
    "duration": 5,
    "start_time": "2022-06-03T15:17:36.750Z"
   },
   {
    "duration": 14,
    "start_time": "2022-06-03T15:17:36.757Z"
   },
   {
    "duration": 53,
    "start_time": "2022-06-03T15:17:36.773Z"
   },
   {
    "duration": 4,
    "start_time": "2022-06-03T15:17:36.827Z"
   },
   {
    "duration": 11,
    "start_time": "2022-06-03T15:17:36.833Z"
   },
   {
    "duration": 21,
    "start_time": "2022-06-03T15:17:36.846Z"
   },
   {
    "duration": 19,
    "start_time": "2022-06-03T15:17:36.868Z"
   },
   {
    "duration": 52,
    "start_time": "2022-06-03T15:17:36.889Z"
   },
   {
    "duration": 32,
    "start_time": "2022-06-03T15:17:36.942Z"
   },
   {
    "duration": 14,
    "start_time": "2022-06-03T15:17:36.976Z"
   },
   {
    "duration": 53,
    "start_time": "2022-06-03T15:17:36.992Z"
   },
   {
    "duration": 23,
    "start_time": "2022-06-03T15:17:37.047Z"
   },
   {
    "duration": 17,
    "start_time": "2022-06-03T15:17:37.075Z"
   },
   {
    "duration": 10,
    "start_time": "2022-06-03T15:17:37.094Z"
   },
   {
    "duration": 14,
    "start_time": "2022-06-03T15:17:37.126Z"
   },
   {
    "duration": 20,
    "start_time": "2022-06-03T15:17:37.142Z"
   },
   {
    "duration": 10,
    "start_time": "2022-06-03T15:17:37.164Z"
   },
   {
    "duration": 164,
    "start_time": "2022-06-03T15:17:37.176Z"
   },
   {
    "duration": 36,
    "start_time": "2022-06-03T15:17:37.342Z"
   },
   {
    "duration": 293,
    "start_time": "2022-06-03T15:17:37.380Z"
   },
   {
    "duration": 10,
    "start_time": "2022-06-03T15:17:37.675Z"
   },
   {
    "duration": 291,
    "start_time": "2022-06-03T15:17:37.687Z"
   },
   {
    "duration": 8,
    "start_time": "2022-06-03T15:17:37.980Z"
   },
   {
    "duration": 24,
    "start_time": "2022-06-03T15:17:37.990Z"
   },
   {
    "duration": 38,
    "start_time": "2022-06-03T15:17:38.026Z"
   },
   {
    "duration": 30,
    "start_time": "2022-06-03T15:17:38.065Z"
   },
   {
    "duration": 389,
    "start_time": "2022-06-03T15:17:38.097Z"
   },
   {
    "duration": 374,
    "start_time": "2022-06-03T15:17:38.487Z"
   },
   {
    "duration": 37,
    "start_time": "2022-06-03T15:55:05.475Z"
   },
   {
    "duration": 8,
    "start_time": "2022-06-03T15:55:14.145Z"
   },
   {
    "duration": 1143,
    "start_time": "2022-06-03T15:58:53.151Z"
   },
   {
    "duration": 3,
    "start_time": "2022-06-03T15:58:54.296Z"
   },
   {
    "duration": 15,
    "start_time": "2022-06-03T15:58:54.301Z"
   },
   {
    "duration": 85,
    "start_time": "2022-06-03T15:58:54.318Z"
   },
   {
    "duration": 241,
    "start_time": "2022-06-03T15:58:54.405Z"
   },
   {
    "duration": 123,
    "start_time": "2022-06-03T15:58:54.647Z"
   },
   {
    "duration": 197,
    "start_time": "2022-06-03T15:58:54.772Z"
   },
   {
    "duration": 30,
    "start_time": "2022-06-03T15:58:54.971Z"
   },
   {
    "duration": 173,
    "start_time": "2022-06-03T15:58:55.003Z"
   },
   {
    "duration": 131,
    "start_time": "2022-06-03T15:58:55.181Z"
   },
   {
    "duration": 13,
    "start_time": "2022-06-03T15:58:55.314Z"
   },
   {
    "duration": 88,
    "start_time": "2022-06-03T15:58:55.329Z"
   },
   {
    "duration": 11,
    "start_time": "2022-06-03T15:58:55.419Z"
   },
   {
    "duration": 16,
    "start_time": "2022-06-03T15:58:55.432Z"
   },
   {
    "duration": 43,
    "start_time": "2022-06-03T15:58:55.450Z"
   },
   {
    "duration": 4,
    "start_time": "2022-06-03T15:58:55.495Z"
   },
   {
    "duration": 11,
    "start_time": "2022-06-03T15:58:55.501Z"
   },
   {
    "duration": 28,
    "start_time": "2022-06-03T15:58:55.527Z"
   },
   {
    "duration": 4,
    "start_time": "2022-06-03T15:58:55.557Z"
   },
   {
    "duration": 11,
    "start_time": "2022-06-03T15:58:55.562Z"
   },
   {
    "duration": 18,
    "start_time": "2022-06-03T15:58:55.575Z"
   },
   {
    "duration": 47,
    "start_time": "2022-06-03T15:58:55.594Z"
   },
   {
    "duration": 29,
    "start_time": "2022-06-03T15:58:55.642Z"
   },
   {
    "duration": 31,
    "start_time": "2022-06-03T15:58:55.673Z"
   },
   {
    "duration": 13,
    "start_time": "2022-06-03T15:58:55.727Z"
   },
   {
    "duration": 21,
    "start_time": "2022-06-03T15:58:55.743Z"
   },
   {
    "duration": 21,
    "start_time": "2022-06-03T15:58:55.766Z"
   },
   {
    "duration": 49,
    "start_time": "2022-06-03T15:58:55.790Z"
   },
   {
    "duration": 7,
    "start_time": "2022-06-03T15:58:55.841Z"
   },
   {
    "duration": 17,
    "start_time": "2022-06-03T15:58:55.849Z"
   },
   {
    "duration": 4,
    "start_time": "2022-06-03T15:58:55.868Z"
   },
   {
    "duration": 13,
    "start_time": "2022-06-03T15:58:55.874Z"
   },
   {
    "duration": 159,
    "start_time": "2022-06-03T15:58:55.889Z"
   },
   {
    "duration": 26,
    "start_time": "2022-06-03T15:58:56.049Z"
   },
   {
    "duration": 298,
    "start_time": "2022-06-03T15:58:56.076Z"
   },
   {
    "duration": 11,
    "start_time": "2022-06-03T15:58:56.376Z"
   },
   {
    "duration": 262,
    "start_time": "2022-06-03T15:58:56.388Z"
   },
   {
    "duration": 8,
    "start_time": "2022-06-03T15:58:56.652Z"
   },
   {
    "duration": 26,
    "start_time": "2022-06-03T15:58:56.662Z"
   },
   {
    "duration": 42,
    "start_time": "2022-06-03T15:58:56.690Z"
   },
   {
    "duration": 27,
    "start_time": "2022-06-03T15:58:56.734Z"
   },
   {
    "duration": 6,
    "start_time": "2022-06-03T15:58:56.763Z"
   },
   {
    "duration": 7,
    "start_time": "2022-06-03T15:58:56.770Z"
   },
   {
    "duration": 5,
    "start_time": "2022-06-03T15:58:56.779Z"
   },
   {
    "duration": 11,
    "start_time": "2022-06-03T15:58:56.786Z"
   },
   {
    "duration": 28,
    "start_time": "2022-06-03T15:58:56.799Z"
   },
   {
    "duration": 377,
    "start_time": "2022-06-03T15:58:56.829Z"
   },
   {
    "duration": 384,
    "start_time": "2022-06-03T15:58:57.209Z"
   },
   {
    "duration": 6,
    "start_time": "2022-06-03T16:00:06.173Z"
   },
   {
    "duration": 1427,
    "start_time": "2022-06-05T14:42:08.542Z"
   },
   {
    "duration": 3,
    "start_time": "2022-06-05T14:42:09.972Z"
   },
   {
    "duration": 8,
    "start_time": "2022-06-05T14:42:09.976Z"
   },
   {
    "duration": 139,
    "start_time": "2022-06-05T14:42:09.986Z"
   },
   {
    "duration": 263,
    "start_time": "2022-06-05T14:42:10.127Z"
   },
   {
    "duration": 639,
    "start_time": "2022-06-05T14:42:10.392Z"
   },
   {
    "duration": 520,
    "start_time": "2022-06-05T14:42:11.033Z"
   },
   {
    "duration": 71,
    "start_time": "2022-06-05T14:42:11.555Z"
   },
   {
    "duration": 141,
    "start_time": "2022-06-05T14:42:11.627Z"
   },
   {
    "duration": 117,
    "start_time": "2022-06-05T14:42:11.770Z"
   },
   {
    "duration": 3,
    "start_time": "2022-06-05T14:42:11.888Z"
   },
   {
    "duration": 82,
    "start_time": "2022-06-05T14:42:11.893Z"
   },
   {
    "duration": 4,
    "start_time": "2022-06-05T14:42:11.977Z"
   },
   {
    "duration": 10,
    "start_time": "2022-06-05T14:42:11.983Z"
   },
   {
    "duration": 51,
    "start_time": "2022-06-05T14:42:11.995Z"
   },
   {
    "duration": 5,
    "start_time": "2022-06-05T14:42:12.048Z"
   },
   {
    "duration": 19,
    "start_time": "2022-06-05T14:42:12.055Z"
   },
   {
    "duration": 54,
    "start_time": "2022-06-05T14:42:12.075Z"
   },
   {
    "duration": 4,
    "start_time": "2022-06-05T14:42:12.131Z"
   },
   {
    "duration": 10,
    "start_time": "2022-06-05T14:42:12.137Z"
   },
   {
    "duration": 21,
    "start_time": "2022-06-05T14:42:12.149Z"
   },
   {
    "duration": 19,
    "start_time": "2022-06-05T14:42:12.172Z"
   },
   {
    "duration": 40,
    "start_time": "2022-06-05T14:42:12.222Z"
   },
   {
    "duration": 32,
    "start_time": "2022-06-05T14:42:12.264Z"
   },
   {
    "duration": 38,
    "start_time": "2022-06-05T14:42:12.298Z"
   },
   {
    "duration": 30,
    "start_time": "2022-06-05T14:42:12.338Z"
   },
   {
    "duration": 25,
    "start_time": "2022-06-05T14:42:12.370Z"
   },
   {
    "duration": 45,
    "start_time": "2022-06-05T14:42:12.399Z"
   },
   {
    "duration": 10,
    "start_time": "2022-06-05T14:42:12.446Z"
   },
   {
    "duration": 15,
    "start_time": "2022-06-05T14:42:12.458Z"
   },
   {
    "duration": 4,
    "start_time": "2022-06-05T14:42:12.474Z"
   },
   {
    "duration": 9,
    "start_time": "2022-06-05T14:42:12.480Z"
   },
   {
    "duration": 207,
    "start_time": "2022-06-05T14:42:12.491Z"
   },
   {
    "duration": 40,
    "start_time": "2022-06-05T14:42:12.701Z"
   },
   {
    "duration": 321,
    "start_time": "2022-06-05T14:42:12.744Z"
   },
   {
    "duration": 10,
    "start_time": "2022-06-05T14:42:13.067Z"
   },
   {
    "duration": 283,
    "start_time": "2022-06-05T14:42:13.079Z"
   },
   {
    "duration": 8,
    "start_time": "2022-06-05T14:42:13.364Z"
   },
   {
    "duration": 26,
    "start_time": "2022-06-05T14:42:13.373Z"
   },
   {
    "duration": 58,
    "start_time": "2022-06-05T14:42:13.401Z"
   },
   {
    "duration": 35,
    "start_time": "2022-06-05T14:42:13.461Z"
   },
   {
    "duration": 6,
    "start_time": "2022-06-05T14:42:13.498Z"
   },
   {
    "duration": 13,
    "start_time": "2022-06-05T14:42:13.522Z"
   },
   {
    "duration": 11,
    "start_time": "2022-06-05T14:42:13.537Z"
   },
   {
    "duration": 5,
    "start_time": "2022-06-05T14:42:13.550Z"
   },
   {
    "duration": 13,
    "start_time": "2022-06-05T14:42:13.556Z"
   },
   {
    "duration": 341,
    "start_time": "2022-06-05T14:42:13.571Z"
   },
   {
    "duration": 397,
    "start_time": "2022-06-05T14:42:13.914Z"
   },
   {
    "duration": 112,
    "start_time": "2022-06-05T14:46:23.795Z"
   },
   {
    "duration": 1381,
    "start_time": "2022-06-05T14:47:40.126Z"
   },
   {
    "duration": 3,
    "start_time": "2022-06-05T14:47:41.510Z"
   },
   {
    "duration": 8,
    "start_time": "2022-06-05T14:47:41.515Z"
   },
   {
    "duration": 60,
    "start_time": "2022-06-05T14:47:41.525Z"
   },
   {
    "duration": 177,
    "start_time": "2022-06-05T14:47:41.587Z"
   },
   {
    "duration": 107,
    "start_time": "2022-06-05T14:47:41.765Z"
   },
   {
    "duration": 196,
    "start_time": "2022-06-05T14:47:41.874Z"
   },
   {
    "duration": 33,
    "start_time": "2022-06-05T14:47:42.072Z"
   },
   {
    "duration": 168,
    "start_time": "2022-06-05T14:47:42.107Z"
   },
   {
    "duration": 133,
    "start_time": "2022-06-05T14:47:42.277Z"
   },
   {
    "duration": 13,
    "start_time": "2022-06-05T14:47:42.412Z"
   },
   {
    "duration": 97,
    "start_time": "2022-06-05T14:47:42.427Z"
   },
   {
    "duration": 23,
    "start_time": "2022-06-05T14:47:42.526Z"
   },
   {
    "duration": 26,
    "start_time": "2022-06-05T14:47:42.553Z"
   },
   {
    "duration": 53,
    "start_time": "2022-06-05T14:47:42.581Z"
   },
   {
    "duration": 14,
    "start_time": "2022-06-05T14:47:42.636Z"
   },
   {
    "duration": 22,
    "start_time": "2022-06-05T14:47:42.652Z"
   },
   {
    "duration": 63,
    "start_time": "2022-06-05T14:47:42.677Z"
   },
   {
    "duration": 5,
    "start_time": "2022-06-05T14:47:42.746Z"
   },
   {
    "duration": 17,
    "start_time": "2022-06-05T14:47:42.753Z"
   },
   {
    "duration": 32,
    "start_time": "2022-06-05T14:47:42.772Z"
   },
   {
    "duration": 38,
    "start_time": "2022-06-05T14:47:42.807Z"
   },
   {
    "duration": 43,
    "start_time": "2022-06-05T14:47:42.847Z"
   },
   {
    "duration": 62,
    "start_time": "2022-06-05T14:47:42.892Z"
   },
   {
    "duration": 20,
    "start_time": "2022-06-05T14:47:42.956Z"
   },
   {
    "duration": 45,
    "start_time": "2022-06-05T14:47:42.979Z"
   },
   {
    "duration": 26,
    "start_time": "2022-06-05T14:47:43.026Z"
   },
   {
    "duration": 25,
    "start_time": "2022-06-05T14:47:43.054Z"
   },
   {
    "duration": 15,
    "start_time": "2022-06-05T14:47:43.083Z"
   },
   {
    "duration": 33,
    "start_time": "2022-06-05T14:47:43.099Z"
   },
   {
    "duration": 4,
    "start_time": "2022-06-05T14:47:43.134Z"
   },
   {
    "duration": 7,
    "start_time": "2022-06-05T14:47:43.140Z"
   },
   {
    "duration": 151,
    "start_time": "2022-06-05T14:47:43.149Z"
   },
   {
    "duration": 39,
    "start_time": "2022-06-05T14:47:43.302Z"
   },
   {
    "duration": 209,
    "start_time": "2022-06-05T14:47:43.344Z"
   },
   {
    "duration": 11,
    "start_time": "2022-06-05T14:47:43.556Z"
   },
   {
    "duration": 268,
    "start_time": "2022-06-05T14:47:43.570Z"
   },
   {
    "duration": 9,
    "start_time": "2022-06-05T14:47:43.839Z"
   },
   {
    "duration": 21,
    "start_time": "2022-06-05T14:47:43.849Z"
   },
   {
    "duration": 32,
    "start_time": "2022-06-05T14:47:43.872Z"
   },
   {
    "duration": 35,
    "start_time": "2022-06-05T14:47:43.925Z"
   },
   {
    "duration": 7,
    "start_time": "2022-06-05T14:47:43.962Z"
   },
   {
    "duration": 26,
    "start_time": "2022-06-05T14:47:43.970Z"
   },
   {
    "duration": 14,
    "start_time": "2022-06-05T14:47:43.998Z"
   },
   {
    "duration": 271,
    "start_time": "2022-06-05T14:47:44.015Z"
   },
   {
    "duration": 3,
    "start_time": "2022-06-05T14:47:44.288Z"
   },
   {
    "duration": 8,
    "start_time": "2022-06-05T14:47:44.292Z"
   },
   {
    "duration": 388,
    "start_time": "2022-06-05T14:47:44.304Z"
   },
   {
    "duration": 477,
    "start_time": "2022-06-05T14:47:44.694Z"
   },
   {
    "duration": 199,
    "start_time": "2022-06-05T14:48:25.607Z"
   },
   {
    "duration": 250,
    "start_time": "2022-06-05T14:48:46.324Z"
   },
   {
    "duration": 188,
    "start_time": "2022-06-05T14:48:54.198Z"
   },
   {
    "duration": 367,
    "start_time": "2022-06-05T14:49:55.747Z"
   },
   {
    "duration": 128,
    "start_time": "2022-06-05T14:50:50.496Z"
   },
   {
    "duration": 366,
    "start_time": "2022-06-05T14:51:03.410Z"
   },
   {
    "duration": 424,
    "start_time": "2022-06-05T14:51:18.816Z"
   },
   {
    "duration": 501,
    "start_time": "2022-06-05T14:51:24.250Z"
   },
   {
    "duration": 464,
    "start_time": "2022-06-05T14:51:27.291Z"
   },
   {
    "duration": 803,
    "start_time": "2022-06-05T14:51:39.399Z"
   },
   {
    "duration": 581,
    "start_time": "2022-06-05T14:51:46.893Z"
   },
   {
    "duration": 664,
    "start_time": "2022-06-05T14:51:57.142Z"
   },
   {
    "duration": 536,
    "start_time": "2022-06-05T14:52:06.352Z"
   },
   {
    "duration": 566,
    "start_time": "2022-06-05T14:52:11.242Z"
   },
   {
    "duration": 735,
    "start_time": "2022-06-05T14:52:18.896Z"
   },
   {
    "duration": 636,
    "start_time": "2022-06-05T14:52:23.819Z"
   },
   {
    "duration": 16,
    "start_time": "2022-06-05T14:53:11.246Z"
   },
   {
    "duration": 11,
    "start_time": "2022-06-05T14:53:43.118Z"
   },
   {
    "duration": 12,
    "start_time": "2022-06-05T14:54:58.864Z"
   },
   {
    "duration": 23,
    "start_time": "2022-06-05T14:56:46.157Z"
   },
   {
    "duration": 546,
    "start_time": "2022-06-05T14:56:56.204Z"
   },
   {
    "duration": 553,
    "start_time": "2022-06-05T14:57:39.453Z"
   },
   {
    "duration": 724,
    "start_time": "2022-06-05T14:57:55.965Z"
   },
   {
    "duration": 245,
    "start_time": "2022-06-05T14:59:06.350Z"
   },
   {
    "duration": 243,
    "start_time": "2022-06-05T14:59:15.743Z"
   },
   {
    "duration": 385,
    "start_time": "2022-06-05T15:00:05.254Z"
   },
   {
    "duration": 241,
    "start_time": "2022-06-05T15:00:28.124Z"
   },
   {
    "duration": 731,
    "start_time": "2022-06-05T15:00:38.866Z"
   },
   {
    "duration": 345,
    "start_time": "2022-06-05T15:01:26.101Z"
   },
   {
    "duration": 343,
    "start_time": "2022-06-05T15:04:13.030Z"
   },
   {
    "duration": 349,
    "start_time": "2022-06-05T15:04:51.203Z"
   },
   {
    "duration": 597,
    "start_time": "2022-06-05T15:05:43.035Z"
   },
   {
    "duration": 767,
    "start_time": "2022-06-05T15:06:02.835Z"
   },
   {
    "duration": 384,
    "start_time": "2022-06-05T15:06:41.809Z"
   },
   {
    "duration": 370,
    "start_time": "2022-06-05T15:07:10.266Z"
   },
   {
    "duration": 834,
    "start_time": "2022-06-05T15:07:16.303Z"
   },
   {
    "duration": 1445,
    "start_time": "2022-06-05T15:09:48.000Z"
   },
   {
    "duration": 3,
    "start_time": "2022-06-05T15:09:49.447Z"
   },
   {
    "duration": 8,
    "start_time": "2022-06-05T15:09:49.451Z"
   },
   {
    "duration": 65,
    "start_time": "2022-06-05T15:09:49.461Z"
   },
   {
    "duration": 183,
    "start_time": "2022-06-05T15:09:49.528Z"
   },
   {
    "duration": 116,
    "start_time": "2022-06-05T15:09:49.713Z"
   },
   {
    "duration": 193,
    "start_time": "2022-06-05T15:09:49.831Z"
   },
   {
    "duration": 28,
    "start_time": "2022-06-05T15:09:50.026Z"
   },
   {
    "duration": 132,
    "start_time": "2022-06-05T15:09:50.056Z"
   },
   {
    "duration": 117,
    "start_time": "2022-06-05T15:09:50.190Z"
   },
   {
    "duration": 16,
    "start_time": "2022-06-05T15:09:50.308Z"
   },
   {
    "duration": 78,
    "start_time": "2022-06-05T15:09:50.326Z"
   },
   {
    "duration": 18,
    "start_time": "2022-06-05T15:09:50.406Z"
   },
   {
    "duration": 14,
    "start_time": "2022-06-05T15:09:50.425Z"
   },
   {
    "duration": 34,
    "start_time": "2022-06-05T15:09:50.441Z"
   },
   {
    "duration": 4,
    "start_time": "2022-06-05T15:09:50.476Z"
   },
   {
    "duration": 12,
    "start_time": "2022-06-05T15:09:50.482Z"
   },
   {
    "duration": 58,
    "start_time": "2022-06-05T15:09:50.496Z"
   },
   {
    "duration": 4,
    "start_time": "2022-06-05T15:09:50.556Z"
   },
   {
    "duration": 15,
    "start_time": "2022-06-05T15:09:50.562Z"
   },
   {
    "duration": 26,
    "start_time": "2022-06-05T15:09:50.579Z"
   },
   {
    "duration": 27,
    "start_time": "2022-06-05T15:09:50.607Z"
   },
   {
    "duration": 26,
    "start_time": "2022-06-05T15:09:50.636Z"
   },
   {
    "duration": 28,
    "start_time": "2022-06-05T15:09:50.664Z"
   },
   {
    "duration": 40,
    "start_time": "2022-06-05T15:09:50.694Z"
   },
   {
    "duration": 28,
    "start_time": "2022-06-05T15:09:50.736Z"
   },
   {
    "duration": 26,
    "start_time": "2022-06-05T15:09:50.766Z"
   },
   {
    "duration": 46,
    "start_time": "2022-06-05T15:09:50.795Z"
   },
   {
    "duration": 18,
    "start_time": "2022-06-05T15:09:50.842Z"
   },
   {
    "duration": 15,
    "start_time": "2022-06-05T15:09:50.862Z"
   },
   {
    "duration": 6,
    "start_time": "2022-06-05T15:09:50.879Z"
   },
   {
    "duration": 5,
    "start_time": "2022-06-05T15:09:50.887Z"
   },
   {
    "duration": 142,
    "start_time": "2022-06-05T15:09:50.894Z"
   },
   {
    "duration": 25,
    "start_time": "2022-06-05T15:09:51.037Z"
   },
   {
    "duration": 210,
    "start_time": "2022-06-05T15:09:51.063Z"
   },
   {
    "duration": 8,
    "start_time": "2022-06-05T15:09:51.275Z"
   },
   {
    "duration": 250,
    "start_time": "2022-06-05T15:09:51.285Z"
   },
   {
    "duration": 10,
    "start_time": "2022-06-05T15:09:51.537Z"
   },
   {
    "duration": 22,
    "start_time": "2022-06-05T15:09:51.549Z"
   },
   {
    "duration": 54,
    "start_time": "2022-06-05T15:09:51.573Z"
   },
   {
    "duration": 29,
    "start_time": "2022-06-05T15:09:51.629Z"
   },
   {
    "duration": 7,
    "start_time": "2022-06-05T15:09:51.660Z"
   },
   {
    "duration": 16,
    "start_time": "2022-06-05T15:09:51.668Z"
   },
   {
    "duration": 10,
    "start_time": "2022-06-05T15:09:51.686Z"
   },
   {
    "duration": 10,
    "start_time": "2022-06-05T15:09:51.698Z"
   },
   {
    "duration": 16,
    "start_time": "2022-06-05T15:09:51.710Z"
   },
   {
    "duration": 356,
    "start_time": "2022-06-05T15:09:51.727Z"
   },
   {
    "duration": 443,
    "start_time": "2022-06-05T15:09:52.084Z"
   },
   {
    "duration": 444,
    "start_time": "2022-06-05T15:09:52.529Z"
   },
   {
    "duration": 577,
    "start_time": "2022-06-05T15:09:52.974Z"
   },
   {
    "duration": 790,
    "start_time": "2022-06-05T15:10:06.600Z"
   },
   {
    "duration": 406,
    "start_time": "2022-06-05T15:11:48.309Z"
   },
   {
    "duration": 686,
    "start_time": "2022-06-05T15:11:52.060Z"
   },
   {
    "duration": 703,
    "start_time": "2022-06-05T15:12:03.290Z"
   },
   {
    "duration": 576,
    "start_time": "2022-06-05T15:12:10.252Z"
   },
   {
    "duration": 577,
    "start_time": "2022-06-05T15:12:13.955Z"
   },
   {
    "duration": 803,
    "start_time": "2022-06-05T15:12:18.831Z"
   },
   {
    "duration": 567,
    "start_time": "2022-06-05T15:12:23.798Z"
   },
   {
    "duration": 624,
    "start_time": "2022-06-05T15:12:29.639Z"
   },
   {
    "duration": 778,
    "start_time": "2022-06-05T15:12:34.429Z"
   },
   {
    "duration": 555,
    "start_time": "2022-06-05T15:12:39.665Z"
   },
   {
    "duration": 633,
    "start_time": "2022-06-05T15:12:55.456Z"
   },
   {
    "duration": 905,
    "start_time": "2022-06-05T15:13:22.393Z"
   },
   {
    "duration": 412,
    "start_time": "2022-06-05T15:13:38.805Z"
   },
   {
    "duration": 1431,
    "start_time": "2022-06-05T15:13:47.698Z"
   },
   {
    "duration": 4,
    "start_time": "2022-06-05T15:13:49.131Z"
   },
   {
    "duration": 9,
    "start_time": "2022-06-05T15:13:49.137Z"
   },
   {
    "duration": 70,
    "start_time": "2022-06-05T15:13:49.148Z"
   },
   {
    "duration": 223,
    "start_time": "2022-06-05T15:13:49.219Z"
   },
   {
    "duration": 115,
    "start_time": "2022-06-05T15:13:49.444Z"
   },
   {
    "duration": 170,
    "start_time": "2022-06-05T15:13:49.562Z"
   },
   {
    "duration": 27,
    "start_time": "2022-06-05T15:13:49.734Z"
   },
   {
    "duration": 207,
    "start_time": "2022-06-05T15:13:49.763Z"
   },
   {
    "duration": 141,
    "start_time": "2022-06-05T15:13:49.974Z"
   },
   {
    "duration": 3,
    "start_time": "2022-06-05T15:13:50.122Z"
   },
   {
    "duration": 72,
    "start_time": "2022-06-05T15:13:50.127Z"
   },
   {
    "duration": 4,
    "start_time": "2022-06-05T15:13:50.201Z"
   },
   {
    "duration": 23,
    "start_time": "2022-06-05T15:13:50.206Z"
   },
   {
    "duration": 34,
    "start_time": "2022-06-05T15:13:50.231Z"
   },
   {
    "duration": 4,
    "start_time": "2022-06-05T15:13:50.266Z"
   },
   {
    "duration": 13,
    "start_time": "2022-06-05T15:13:50.271Z"
   },
   {
    "duration": 74,
    "start_time": "2022-06-05T15:13:50.286Z"
   },
   {
    "duration": 4,
    "start_time": "2022-06-05T15:13:50.362Z"
   },
   {
    "duration": 9,
    "start_time": "2022-06-05T15:13:50.368Z"
   },
   {
    "duration": 21,
    "start_time": "2022-06-05T15:13:50.379Z"
   },
   {
    "duration": 26,
    "start_time": "2022-06-05T15:13:50.422Z"
   },
   {
    "duration": 29,
    "start_time": "2022-06-05T15:13:50.449Z"
   },
   {
    "duration": 56,
    "start_time": "2022-06-05T15:13:50.480Z"
   },
   {
    "duration": 14,
    "start_time": "2022-06-05T15:13:50.538Z"
   },
   {
    "duration": 24,
    "start_time": "2022-06-05T15:13:50.553Z"
   },
   {
    "duration": 23,
    "start_time": "2022-06-05T15:13:50.579Z"
   },
   {
    "duration": 20,
    "start_time": "2022-06-05T15:13:50.622Z"
   },
   {
    "duration": 16,
    "start_time": "2022-06-05T15:13:50.644Z"
   },
   {
    "duration": 16,
    "start_time": "2022-06-05T15:13:50.662Z"
   },
   {
    "duration": 5,
    "start_time": "2022-06-05T15:13:50.680Z"
   },
   {
    "duration": 9,
    "start_time": "2022-06-05T15:13:50.687Z"
   },
   {
    "duration": 163,
    "start_time": "2022-06-05T15:13:50.697Z"
   },
   {
    "duration": 26,
    "start_time": "2022-06-05T15:13:50.862Z"
   },
   {
    "duration": 224,
    "start_time": "2022-06-05T15:13:50.889Z"
   },
   {
    "duration": 11,
    "start_time": "2022-06-05T15:13:51.115Z"
   },
   {
    "duration": 254,
    "start_time": "2022-06-05T15:13:51.127Z"
   },
   {
    "duration": 8,
    "start_time": "2022-06-05T15:13:51.382Z"
   },
   {
    "duration": 32,
    "start_time": "2022-06-05T15:13:51.392Z"
   },
   {
    "duration": 32,
    "start_time": "2022-06-05T15:13:51.426Z"
   },
   {
    "duration": 25,
    "start_time": "2022-06-05T15:13:51.460Z"
   },
   {
    "duration": 5,
    "start_time": "2022-06-05T15:13:51.487Z"
   },
   {
    "duration": 6,
    "start_time": "2022-06-05T15:13:51.523Z"
   },
   {
    "duration": 7,
    "start_time": "2022-06-05T15:13:51.531Z"
   },
   {
    "duration": 3,
    "start_time": "2022-06-05T15:13:51.540Z"
   },
   {
    "duration": 7,
    "start_time": "2022-06-05T15:13:51.545Z"
   },
   {
    "duration": 358,
    "start_time": "2022-06-05T15:13:51.554Z"
   },
   {
    "duration": 471,
    "start_time": "2022-06-05T15:13:51.914Z"
   },
   {
    "duration": 428,
    "start_time": "2022-06-05T15:13:52.386Z"
   },
   {
    "duration": 621,
    "start_time": "2022-06-05T15:13:52.816Z"
   },
   {
    "duration": 377,
    "start_time": "2022-06-05T15:13:53.439Z"
   },
   {
    "duration": 743,
    "start_time": "2022-06-05T15:13:53.818Z"
   },
   {
    "duration": 8,
    "start_time": "2022-06-05T15:19:39.930Z"
   },
   {
    "duration": 9,
    "start_time": "2022-06-05T15:20:24.324Z"
   },
   {
    "duration": 7,
    "start_time": "2022-06-05T15:26:43.105Z"
   },
   {
    "duration": 7,
    "start_time": "2022-06-05T15:26:58.532Z"
   },
   {
    "duration": 1462,
    "start_time": "2022-06-05T15:31:33.125Z"
   },
   {
    "duration": 3,
    "start_time": "2022-06-05T15:31:34.589Z"
   },
   {
    "duration": 9,
    "start_time": "2022-06-05T15:31:34.593Z"
   },
   {
    "duration": 60,
    "start_time": "2022-06-05T15:31:34.604Z"
   },
   {
    "duration": 180,
    "start_time": "2022-06-05T15:31:34.666Z"
   },
   {
    "duration": 110,
    "start_time": "2022-06-05T15:31:34.848Z"
   },
   {
    "duration": 165,
    "start_time": "2022-06-05T15:31:34.960Z"
   },
   {
    "duration": 27,
    "start_time": "2022-06-05T15:31:35.126Z"
   },
   {
    "duration": 128,
    "start_time": "2022-06-05T15:31:35.155Z"
   },
   {
    "duration": 119,
    "start_time": "2022-06-05T15:31:35.286Z"
   },
   {
    "duration": 3,
    "start_time": "2022-06-05T15:31:35.406Z"
   },
   {
    "duration": 67,
    "start_time": "2022-06-05T15:31:35.423Z"
   },
   {
    "duration": 4,
    "start_time": "2022-06-05T15:31:35.492Z"
   },
   {
    "duration": 32,
    "start_time": "2022-06-05T15:31:35.497Z"
   },
   {
    "duration": 36,
    "start_time": "2022-06-05T15:31:35.531Z"
   },
   {
    "duration": 4,
    "start_time": "2022-06-05T15:31:35.568Z"
   },
   {
    "duration": 20,
    "start_time": "2022-06-05T15:31:35.573Z"
   },
   {
    "duration": 39,
    "start_time": "2022-06-05T15:31:35.594Z"
   },
   {
    "duration": 4,
    "start_time": "2022-06-05T15:31:35.635Z"
   },
   {
    "duration": 15,
    "start_time": "2022-06-05T15:31:35.640Z"
   },
   {
    "duration": 31,
    "start_time": "2022-06-05T15:31:35.657Z"
   },
   {
    "duration": 16,
    "start_time": "2022-06-05T15:31:35.690Z"
   },
   {
    "duration": 30,
    "start_time": "2022-06-05T15:31:35.708Z"
   },
   {
    "duration": 28,
    "start_time": "2022-06-05T15:31:35.739Z"
   },
   {
    "duration": 13,
    "start_time": "2022-06-05T15:31:35.768Z"
   },
   {
    "duration": 42,
    "start_time": "2022-06-05T15:31:35.782Z"
   },
   {
    "duration": 18,
    "start_time": "2022-06-05T15:31:35.825Z"
   },
   {
    "duration": 17,
    "start_time": "2022-06-05T15:31:35.846Z"
   },
   {
    "duration": 7,
    "start_time": "2022-06-05T15:31:35.864Z"
   },
   {
    "duration": 13,
    "start_time": "2022-06-05T15:31:35.872Z"
   },
   {
    "duration": 11,
    "start_time": "2022-06-05T15:31:35.886Z"
   },
   {
    "duration": 15,
    "start_time": "2022-06-05T15:31:35.923Z"
   },
   {
    "duration": 153,
    "start_time": "2022-06-05T15:31:35.940Z"
   },
   {
    "duration": 29,
    "start_time": "2022-06-05T15:31:36.094Z"
   },
   {
    "duration": 201,
    "start_time": "2022-06-05T15:31:36.124Z"
   },
   {
    "duration": 9,
    "start_time": "2022-06-05T15:31:36.327Z"
   },
   {
    "duration": 256,
    "start_time": "2022-06-05T15:31:36.338Z"
   },
   {
    "duration": 8,
    "start_time": "2022-06-05T15:31:36.595Z"
   },
   {
    "duration": 30,
    "start_time": "2022-06-05T15:31:36.605Z"
   },
   {
    "duration": 26,
    "start_time": "2022-06-05T15:31:36.637Z"
   },
   {
    "duration": 26,
    "start_time": "2022-06-05T15:31:36.665Z"
   },
   {
    "duration": 30,
    "start_time": "2022-06-05T15:31:36.693Z"
   },
   {
    "duration": 12,
    "start_time": "2022-06-05T15:31:36.725Z"
   },
   {
    "duration": 9,
    "start_time": "2022-06-05T15:31:36.739Z"
   },
   {
    "duration": 19,
    "start_time": "2022-06-05T15:31:36.749Z"
   },
   {
    "duration": 17,
    "start_time": "2022-06-05T15:31:36.769Z"
   },
   {
    "duration": 323,
    "start_time": "2022-06-05T15:31:36.788Z"
   },
   {
    "duration": 443,
    "start_time": "2022-06-05T15:31:37.112Z"
   },
   {
    "duration": 358,
    "start_time": "2022-06-05T15:31:37.556Z"
   },
   {
    "duration": 574,
    "start_time": "2022-06-05T15:31:37.915Z"
   },
   {
    "duration": 383,
    "start_time": "2022-06-05T15:31:38.491Z"
   },
   {
    "duration": 752,
    "start_time": "2022-06-05T15:31:38.876Z"
   },
   {
    "duration": 1388,
    "start_time": "2022-06-05T15:36:37.345Z"
   },
   {
    "duration": 3,
    "start_time": "2022-06-05T15:36:38.735Z"
   },
   {
    "duration": 8,
    "start_time": "2022-06-05T15:36:38.739Z"
   },
   {
    "duration": 62,
    "start_time": "2022-06-05T15:36:38.748Z"
   },
   {
    "duration": 189,
    "start_time": "2022-06-05T15:36:38.812Z"
   },
   {
    "duration": 111,
    "start_time": "2022-06-05T15:36:39.003Z"
   },
   {
    "duration": 175,
    "start_time": "2022-06-05T15:36:39.116Z"
   },
   {
    "duration": 27,
    "start_time": "2022-06-05T15:36:39.292Z"
   },
   {
    "duration": 135,
    "start_time": "2022-06-05T15:36:39.321Z"
   },
   {
    "duration": 107,
    "start_time": "2022-06-05T15:36:39.458Z"
   },
   {
    "duration": 3,
    "start_time": "2022-06-05T15:36:39.566Z"
   },
   {
    "duration": 83,
    "start_time": "2022-06-05T15:36:39.570Z"
   },
   {
    "duration": 4,
    "start_time": "2022-06-05T15:36:39.654Z"
   },
   {
    "duration": 16,
    "start_time": "2022-06-05T15:36:39.660Z"
   },
   {
    "duration": 46,
    "start_time": "2022-06-05T15:36:39.678Z"
   },
   {
    "duration": 3,
    "start_time": "2022-06-05T15:36:39.726Z"
   },
   {
    "duration": 9,
    "start_time": "2022-06-05T15:36:39.731Z"
   },
   {
    "duration": 27,
    "start_time": "2022-06-05T15:36:39.741Z"
   },
   {
    "duration": 4,
    "start_time": "2022-06-05T15:36:39.769Z"
   },
   {
    "duration": 8,
    "start_time": "2022-06-05T15:36:39.775Z"
   },
   {
    "duration": 41,
    "start_time": "2022-06-05T15:36:39.785Z"
   },
   {
    "duration": 18,
    "start_time": "2022-06-05T15:36:39.828Z"
   },
   {
    "duration": 26,
    "start_time": "2022-06-05T15:36:39.848Z"
   },
   {
    "duration": 48,
    "start_time": "2022-06-05T15:36:39.876Z"
   },
   {
    "duration": 12,
    "start_time": "2022-06-05T15:36:39.926Z"
   },
   {
    "duration": 20,
    "start_time": "2022-06-05T15:36:39.940Z"
   },
   {
    "duration": 19,
    "start_time": "2022-06-05T15:36:39.962Z"
   },
   {
    "duration": 43,
    "start_time": "2022-06-05T15:36:39.986Z"
   },
   {
    "duration": 11,
    "start_time": "2022-06-05T15:36:40.031Z"
   },
   {
    "duration": 12,
    "start_time": "2022-06-05T15:36:40.044Z"
   },
   {
    "duration": 4,
    "start_time": "2022-06-05T15:36:40.058Z"
   },
   {
    "duration": 10,
    "start_time": "2022-06-05T15:36:40.063Z"
   },
   {
    "duration": 169,
    "start_time": "2022-06-05T15:36:40.075Z"
   },
   {
    "duration": 24,
    "start_time": "2022-06-05T15:36:40.246Z"
   },
   {
    "duration": 201,
    "start_time": "2022-06-05T15:36:40.272Z"
   },
   {
    "duration": 7,
    "start_time": "2022-06-05T15:36:40.475Z"
   },
   {
    "duration": 241,
    "start_time": "2022-06-05T15:36:40.484Z"
   },
   {
    "duration": 8,
    "start_time": "2022-06-05T15:36:40.727Z"
   },
   {
    "duration": 17,
    "start_time": "2022-06-05T15:36:40.736Z"
   },
   {
    "duration": 31,
    "start_time": "2022-06-05T15:36:40.755Z"
   },
   {
    "duration": 45,
    "start_time": "2022-06-05T15:36:40.788Z"
   },
   {
    "duration": 5,
    "start_time": "2022-06-05T15:36:40.835Z"
   },
   {
    "duration": 9,
    "start_time": "2022-06-05T15:36:40.841Z"
   },
   {
    "duration": 5,
    "start_time": "2022-06-05T15:36:40.852Z"
   },
   {
    "duration": 19,
    "start_time": "2022-06-05T15:36:40.859Z"
   },
   {
    "duration": 9,
    "start_time": "2022-06-05T15:36:40.879Z"
   },
   {
    "duration": 322,
    "start_time": "2022-06-05T15:36:40.889Z"
   },
   {
    "duration": 445,
    "start_time": "2022-06-05T15:36:41.212Z"
   },
   {
    "duration": 350,
    "start_time": "2022-06-05T15:36:41.658Z"
   },
   {
    "duration": 641,
    "start_time": "2022-06-05T15:36:42.009Z"
   },
   {
    "duration": 401,
    "start_time": "2022-06-05T15:36:42.652Z"
   },
   {
    "duration": 705,
    "start_time": "2022-06-05T15:36:43.055Z"
   },
   {
    "duration": 27,
    "start_time": "2022-06-05T15:43:10.469Z"
   },
   {
    "duration": 38,
    "start_time": "2022-06-05T15:44:02.089Z"
   },
   {
    "duration": 37,
    "start_time": "2022-06-05T15:44:14.830Z"
   },
   {
    "duration": 22,
    "start_time": "2022-06-05T15:44:19.470Z"
   },
   {
    "duration": 42,
    "start_time": "2022-06-05T15:46:10.962Z"
   },
   {
    "duration": 47,
    "start_time": "2022-06-05T15:46:35.320Z"
   },
   {
    "duration": 36,
    "start_time": "2022-06-05T15:46:43.863Z"
   },
   {
    "duration": 1380,
    "start_time": "2022-06-05T15:47:00.967Z"
   },
   {
    "duration": 3,
    "start_time": "2022-06-05T15:47:02.349Z"
   },
   {
    "duration": 7,
    "start_time": "2022-06-05T15:47:02.354Z"
   },
   {
    "duration": 60,
    "start_time": "2022-06-05T15:47:02.364Z"
   },
   {
    "duration": 207,
    "start_time": "2022-06-05T15:47:02.426Z"
   },
   {
    "duration": 133,
    "start_time": "2022-06-05T15:47:02.635Z"
   },
   {
    "duration": 172,
    "start_time": "2022-06-05T15:47:02.770Z"
   },
   {
    "duration": 27,
    "start_time": "2022-06-05T15:47:02.944Z"
   },
   {
    "duration": 129,
    "start_time": "2022-06-05T15:47:02.972Z"
   },
   {
    "duration": 119,
    "start_time": "2022-06-05T15:47:03.104Z"
   },
   {
    "duration": 3,
    "start_time": "2022-06-05T15:47:03.225Z"
   },
   {
    "duration": 71,
    "start_time": "2022-06-05T15:47:03.230Z"
   },
   {
    "duration": 4,
    "start_time": "2022-06-05T15:47:03.303Z"
   },
   {
    "duration": 12,
    "start_time": "2022-06-05T15:47:03.324Z"
   },
   {
    "duration": 37,
    "start_time": "2022-06-05T15:47:03.343Z"
   },
   {
    "duration": 4,
    "start_time": "2022-06-05T15:47:03.382Z"
   },
   {
    "duration": 10,
    "start_time": "2022-06-05T15:47:03.387Z"
   },
   {
    "duration": 40,
    "start_time": "2022-06-05T15:47:03.398Z"
   },
   {
    "duration": 4,
    "start_time": "2022-06-05T15:47:03.439Z"
   },
   {
    "duration": 14,
    "start_time": "2022-06-05T15:47:03.444Z"
   },
   {
    "duration": 17,
    "start_time": "2022-06-05T15:47:03.460Z"
   },
   {
    "duration": 18,
    "start_time": "2022-06-05T15:47:03.478Z"
   },
   {
    "duration": 45,
    "start_time": "2022-06-05T15:47:03.497Z"
   },
   {
    "duration": 29,
    "start_time": "2022-06-05T15:47:03.543Z"
   },
   {
    "duration": 14,
    "start_time": "2022-06-05T15:47:03.573Z"
   },
   {
    "duration": 45,
    "start_time": "2022-06-05T15:47:03.588Z"
   },
   {
    "duration": 21,
    "start_time": "2022-06-05T15:47:03.635Z"
   },
   {
    "duration": 17,
    "start_time": "2022-06-05T15:47:03.659Z"
   },
   {
    "duration": 9,
    "start_time": "2022-06-05T15:47:03.677Z"
   },
   {
    "duration": 11,
    "start_time": "2022-06-05T15:47:03.687Z"
   },
   {
    "duration": 5,
    "start_time": "2022-06-05T15:47:03.723Z"
   },
   {
    "duration": 5,
    "start_time": "2022-06-05T15:47:03.730Z"
   },
   {
    "duration": 136,
    "start_time": "2022-06-05T15:47:03.737Z"
   },
   {
    "duration": 24,
    "start_time": "2022-06-05T15:47:03.875Z"
   },
   {
    "duration": 215,
    "start_time": "2022-06-05T15:47:03.900Z"
   },
   {
    "duration": 12,
    "start_time": "2022-06-05T15:47:04.117Z"
   },
   {
    "duration": 257,
    "start_time": "2022-06-05T15:47:04.131Z"
   },
   {
    "duration": 8,
    "start_time": "2022-06-05T15:47:04.390Z"
   },
   {
    "duration": 28,
    "start_time": "2022-06-05T15:47:04.400Z"
   },
   {
    "duration": 26,
    "start_time": "2022-06-05T15:47:04.430Z"
   },
   {
    "duration": 34,
    "start_time": "2022-06-05T15:47:04.457Z"
   },
   {
    "duration": 30,
    "start_time": "2022-06-05T15:47:04.493Z"
   },
   {
    "duration": 5,
    "start_time": "2022-06-05T15:47:04.525Z"
   },
   {
    "duration": 13,
    "start_time": "2022-06-05T15:47:04.531Z"
   },
   {
    "duration": 9,
    "start_time": "2022-06-05T15:47:04.546Z"
   },
   {
    "duration": 9,
    "start_time": "2022-06-05T15:47:04.556Z"
   },
   {
    "duration": 339,
    "start_time": "2022-06-05T15:47:04.567Z"
   },
   {
    "duration": 436,
    "start_time": "2022-06-05T15:47:04.908Z"
   },
   {
    "duration": 342,
    "start_time": "2022-06-05T15:47:05.346Z"
   },
   {
    "duration": 559,
    "start_time": "2022-06-05T15:47:05.689Z"
   },
   {
    "duration": 367,
    "start_time": "2022-06-05T15:47:06.250Z"
   },
   {
    "duration": 706,
    "start_time": "2022-06-05T15:47:06.622Z"
   },
   {
    "duration": 28,
    "start_time": "2022-06-05T15:49:42.483Z"
   },
   {
    "duration": 24,
    "start_time": "2022-06-05T15:51:25.581Z"
   },
   {
    "duration": 1415,
    "start_time": "2022-06-05T15:51:39.898Z"
   },
   {
    "duration": 3,
    "start_time": "2022-06-05T15:51:41.315Z"
   },
   {
    "duration": 6,
    "start_time": "2022-06-05T15:51:41.319Z"
   },
   {
    "duration": 59,
    "start_time": "2022-06-05T15:51:41.327Z"
   },
   {
    "duration": 178,
    "start_time": "2022-06-05T15:51:41.388Z"
   },
   {
    "duration": 110,
    "start_time": "2022-06-05T15:51:41.568Z"
   },
   {
    "duration": 163,
    "start_time": "2022-06-05T15:51:41.680Z"
   },
   {
    "duration": 26,
    "start_time": "2022-06-05T15:51:41.845Z"
   },
   {
    "duration": 129,
    "start_time": "2022-06-05T15:51:41.872Z"
   },
   {
    "duration": 122,
    "start_time": "2022-06-05T15:51:42.004Z"
   },
   {
    "duration": 4,
    "start_time": "2022-06-05T15:51:42.127Z"
   },
   {
    "duration": 75,
    "start_time": "2022-06-05T15:51:42.132Z"
   },
   {
    "duration": 16,
    "start_time": "2022-06-05T15:51:42.209Z"
   },
   {
    "duration": 11,
    "start_time": "2022-06-05T15:51:42.226Z"
   },
   {
    "duration": 34,
    "start_time": "2022-06-05T15:51:42.239Z"
   },
   {
    "duration": 3,
    "start_time": "2022-06-05T15:51:42.275Z"
   },
   {
    "duration": 10,
    "start_time": "2022-06-05T15:51:42.280Z"
   },
   {
    "duration": 50,
    "start_time": "2022-06-05T15:51:42.291Z"
   },
   {
    "duration": 5,
    "start_time": "2022-06-05T15:51:42.342Z"
   },
   {
    "duration": 10,
    "start_time": "2022-06-05T15:51:42.348Z"
   },
   {
    "duration": 17,
    "start_time": "2022-06-05T15:51:42.359Z"
   },
   {
    "duration": 17,
    "start_time": "2022-06-05T15:51:42.378Z"
   },
   {
    "duration": 50,
    "start_time": "2022-06-05T15:51:42.396Z"
   },
   {
    "duration": 28,
    "start_time": "2022-06-05T15:51:42.448Z"
   },
   {
    "duration": 12,
    "start_time": "2022-06-05T15:51:42.477Z"
   },
   {
    "duration": 43,
    "start_time": "2022-06-05T15:51:42.491Z"
   },
   {
    "duration": 34,
    "start_time": "2022-06-05T15:51:42.536Z"
   },
   {
    "duration": 22,
    "start_time": "2022-06-05T15:51:42.574Z"
   },
   {
    "duration": 26,
    "start_time": "2022-06-05T15:51:42.598Z"
   },
   {
    "duration": 19,
    "start_time": "2022-06-05T15:51:42.626Z"
   },
   {
    "duration": 15,
    "start_time": "2022-06-05T15:51:42.647Z"
   },
   {
    "duration": 15,
    "start_time": "2022-06-05T15:51:42.663Z"
   },
   {
    "duration": 164,
    "start_time": "2022-06-05T15:51:42.679Z"
   },
   {
    "duration": 30,
    "start_time": "2022-06-05T15:51:42.845Z"
   },
   {
    "duration": 196,
    "start_time": "2022-06-05T15:51:42.877Z"
   },
   {
    "duration": 8,
    "start_time": "2022-06-05T15:51:43.075Z"
   },
   {
    "duration": 240,
    "start_time": "2022-06-05T15:51:43.084Z"
   },
   {
    "duration": 8,
    "start_time": "2022-06-05T15:51:43.325Z"
   },
   {
    "duration": 19,
    "start_time": "2022-06-05T15:51:43.334Z"
   },
   {
    "duration": 29,
    "start_time": "2022-06-05T15:51:43.355Z"
   },
   {
    "duration": 50,
    "start_time": "2022-06-05T15:51:43.386Z"
   },
   {
    "duration": 22,
    "start_time": "2022-06-05T15:51:43.438Z"
   },
   {
    "duration": 5,
    "start_time": "2022-06-05T15:51:43.462Z"
   },
   {
    "duration": 8,
    "start_time": "2022-06-05T15:51:43.469Z"
   },
   {
    "duration": 7,
    "start_time": "2022-06-05T15:51:43.479Z"
   },
   {
    "duration": 36,
    "start_time": "2022-06-05T15:51:43.487Z"
   },
   {
    "duration": 7,
    "start_time": "2022-06-05T15:51:43.524Z"
   },
   {
    "duration": 349,
    "start_time": "2022-06-05T15:51:43.533Z"
   },
   {
    "duration": 471,
    "start_time": "2022-06-05T15:51:43.884Z"
   },
   {
    "duration": 339,
    "start_time": "2022-06-05T15:51:44.356Z"
   },
   {
    "duration": 576,
    "start_time": "2022-06-05T15:51:44.696Z"
   },
   {
    "duration": 355,
    "start_time": "2022-06-05T15:51:45.274Z"
   },
   {
    "duration": 714,
    "start_time": "2022-06-05T15:51:45.631Z"
   },
   {
    "duration": 1517,
    "start_time": "2022-06-05T15:54:11.698Z"
   },
   {
    "duration": 5,
    "start_time": "2022-06-05T15:54:13.218Z"
   },
   {
    "duration": 15,
    "start_time": "2022-06-05T15:54:13.225Z"
   },
   {
    "duration": 69,
    "start_time": "2022-06-05T15:54:13.242Z"
   },
   {
    "duration": 175,
    "start_time": "2022-06-05T15:54:13.314Z"
   },
   {
    "duration": 108,
    "start_time": "2022-06-05T15:54:13.490Z"
   },
   {
    "duration": 161,
    "start_time": "2022-06-05T15:54:13.600Z"
   },
   {
    "duration": 27,
    "start_time": "2022-06-05T15:54:13.763Z"
   },
   {
    "duration": 148,
    "start_time": "2022-06-05T15:54:13.791Z"
   },
   {
    "duration": 109,
    "start_time": "2022-06-05T15:54:13.941Z"
   },
   {
    "duration": 3,
    "start_time": "2022-06-05T15:54:14.052Z"
   },
   {
    "duration": 86,
    "start_time": "2022-06-05T15:54:14.056Z"
   },
   {
    "duration": 5,
    "start_time": "2022-06-05T15:54:14.144Z"
   },
   {
    "duration": 8,
    "start_time": "2022-06-05T15:54:14.153Z"
   },
   {
    "duration": 39,
    "start_time": "2022-06-05T15:54:14.163Z"
   },
   {
    "duration": 21,
    "start_time": "2022-06-05T15:54:14.204Z"
   },
   {
    "duration": 10,
    "start_time": "2022-06-05T15:54:14.226Z"
   },
   {
    "duration": 30,
    "start_time": "2022-06-05T15:54:14.238Z"
   },
   {
    "duration": 5,
    "start_time": "2022-06-05T15:54:14.270Z"
   },
   {
    "duration": 11,
    "start_time": "2022-06-05T15:54:14.276Z"
   },
   {
    "duration": 44,
    "start_time": "2022-06-05T15:54:14.288Z"
   },
   {
    "duration": 18,
    "start_time": "2022-06-05T15:54:14.333Z"
   },
   {
    "duration": 26,
    "start_time": "2022-06-05T15:54:14.352Z"
   },
   {
    "duration": 49,
    "start_time": "2022-06-05T15:54:14.379Z"
   },
   {
    "duration": 13,
    "start_time": "2022-06-05T15:54:14.429Z"
   },
   {
    "duration": 21,
    "start_time": "2022-06-05T15:54:14.444Z"
   },
   {
    "duration": 21,
    "start_time": "2022-06-05T15:54:14.467Z"
   },
   {
    "duration": 42,
    "start_time": "2022-06-05T15:54:14.490Z"
   },
   {
    "duration": 8,
    "start_time": "2022-06-05T15:54:14.534Z"
   },
   {
    "duration": 13,
    "start_time": "2022-06-05T15:54:14.544Z"
   },
   {
    "duration": 4,
    "start_time": "2022-06-05T15:54:14.558Z"
   },
   {
    "duration": 6,
    "start_time": "2022-06-05T15:54:14.564Z"
   },
   {
    "duration": 163,
    "start_time": "2022-06-05T15:54:14.571Z"
   },
   {
    "duration": 23,
    "start_time": "2022-06-05T15:54:14.736Z"
   },
   {
    "duration": 192,
    "start_time": "2022-06-05T15:54:14.760Z"
   },
   {
    "duration": 9,
    "start_time": "2022-06-05T15:54:14.953Z"
   },
   {
    "duration": 240,
    "start_time": "2022-06-05T15:54:14.963Z"
   },
   {
    "duration": 8,
    "start_time": "2022-06-05T15:54:15.204Z"
   },
   {
    "duration": 14,
    "start_time": "2022-06-05T15:54:15.223Z"
   },
   {
    "duration": 49,
    "start_time": "2022-06-05T15:54:15.239Z"
   },
   {
    "duration": 37,
    "start_time": "2022-06-05T15:54:15.293Z"
   },
   {
    "duration": 24,
    "start_time": "2022-06-05T15:54:15.332Z"
   },
   {
    "duration": 5,
    "start_time": "2022-06-05T15:54:15.357Z"
   },
   {
    "duration": 10,
    "start_time": "2022-06-05T15:54:15.364Z"
   },
   {
    "duration": 11,
    "start_time": "2022-06-05T15:54:15.376Z"
   },
   {
    "duration": 10,
    "start_time": "2022-06-05T15:54:15.388Z"
   },
   {
    "duration": 30,
    "start_time": "2022-06-05T15:54:15.400Z"
   },
   {
    "duration": 345,
    "start_time": "2022-06-05T15:54:15.432Z"
   },
   {
    "duration": 500,
    "start_time": "2022-06-05T15:54:15.778Z"
   },
   {
    "duration": 390,
    "start_time": "2022-06-05T15:54:16.279Z"
   },
   {
    "duration": 662,
    "start_time": "2022-06-05T15:54:16.672Z"
   },
   {
    "duration": 420,
    "start_time": "2022-06-05T15:54:17.336Z"
   },
   {
    "duration": 861,
    "start_time": "2022-06-05T15:54:17.758Z"
   },
   {
    "duration": 23,
    "start_time": "2022-06-05T16:01:31.417Z"
   },
   {
    "duration": 1364,
    "start_time": "2022-06-05T16:05:41.083Z"
   },
   {
    "duration": 2,
    "start_time": "2022-06-05T16:05:42.450Z"
   },
   {
    "duration": 5,
    "start_time": "2022-06-05T16:05:42.454Z"
   },
   {
    "duration": 61,
    "start_time": "2022-06-05T16:05:42.461Z"
   },
   {
    "duration": 229,
    "start_time": "2022-06-05T16:05:42.524Z"
   },
   {
    "duration": 123,
    "start_time": "2022-06-05T16:05:42.755Z"
   },
   {
    "duration": 162,
    "start_time": "2022-06-05T16:05:42.879Z"
   },
   {
    "duration": 27,
    "start_time": "2022-06-05T16:05:43.043Z"
   },
   {
    "duration": 125,
    "start_time": "2022-06-05T16:05:43.072Z"
   },
   {
    "duration": 126,
    "start_time": "2022-06-05T16:05:43.199Z"
   },
   {
    "duration": 3,
    "start_time": "2022-06-05T16:05:43.326Z"
   },
   {
    "duration": 74,
    "start_time": "2022-06-05T16:05:43.331Z"
   },
   {
    "duration": 5,
    "start_time": "2022-06-05T16:05:43.423Z"
   },
   {
    "duration": 15,
    "start_time": "2022-06-05T16:05:43.430Z"
   },
   {
    "duration": 36,
    "start_time": "2022-06-05T16:05:43.447Z"
   },
   {
    "duration": 4,
    "start_time": "2022-06-05T16:05:43.485Z"
   },
   {
    "duration": 8,
    "start_time": "2022-06-05T16:05:43.491Z"
   },
   {
    "duration": 44,
    "start_time": "2022-06-05T16:05:43.500Z"
   },
   {
    "duration": 4,
    "start_time": "2022-06-05T16:05:43.546Z"
   },
   {
    "duration": 9,
    "start_time": "2022-06-05T16:05:43.552Z"
   },
   {
    "duration": 25,
    "start_time": "2022-06-05T16:05:43.563Z"
   },
   {
    "duration": 37,
    "start_time": "2022-06-05T16:05:43.590Z"
   },
   {
    "duration": 28,
    "start_time": "2022-06-05T16:05:43.629Z"
   },
   {
    "duration": 32,
    "start_time": "2022-06-05T16:05:43.659Z"
   },
   {
    "duration": 39,
    "start_time": "2022-06-05T16:05:43.693Z"
   },
   {
    "duration": 20,
    "start_time": "2022-06-05T16:05:43.733Z"
   },
   {
    "duration": 21,
    "start_time": "2022-06-05T16:05:43.755Z"
   },
   {
    "duration": 45,
    "start_time": "2022-06-05T16:05:43.779Z"
   },
   {
    "duration": 7,
    "start_time": "2022-06-05T16:05:43.825Z"
   },
   {
    "duration": 17,
    "start_time": "2022-06-05T16:05:43.834Z"
   },
   {
    "duration": 4,
    "start_time": "2022-06-05T16:05:43.853Z"
   },
   {
    "duration": 9,
    "start_time": "2022-06-05T16:05:43.858Z"
   },
   {
    "duration": 153,
    "start_time": "2022-06-05T16:05:43.869Z"
   },
   {
    "duration": 23,
    "start_time": "2022-06-05T16:05:44.023Z"
   },
   {
    "duration": 208,
    "start_time": "2022-06-05T16:05:44.047Z"
   },
   {
    "duration": 8,
    "start_time": "2022-06-05T16:05:44.257Z"
   },
   {
    "duration": 243,
    "start_time": "2022-06-05T16:05:44.267Z"
   },
   {
    "duration": 12,
    "start_time": "2022-06-05T16:05:44.512Z"
   },
   {
    "duration": 15,
    "start_time": "2022-06-05T16:05:44.525Z"
   },
   {
    "duration": 29,
    "start_time": "2022-06-05T16:05:44.542Z"
   },
   {
    "duration": 53,
    "start_time": "2022-06-05T16:05:44.573Z"
   },
   {
    "duration": 22,
    "start_time": "2022-06-05T16:05:44.628Z"
   },
   {
    "duration": 5,
    "start_time": "2022-06-05T16:05:44.652Z"
   },
   {
    "duration": 6,
    "start_time": "2022-06-05T16:05:44.659Z"
   },
   {
    "duration": 7,
    "start_time": "2022-06-05T16:05:44.667Z"
   },
   {
    "duration": 9,
    "start_time": "2022-06-05T16:05:44.675Z"
   },
   {
    "duration": 38,
    "start_time": "2022-06-05T16:05:44.686Z"
   },
   {
    "duration": 340,
    "start_time": "2022-06-05T16:05:44.726Z"
   },
   {
    "duration": 442,
    "start_time": "2022-06-05T16:05:45.068Z"
   },
   {
    "duration": 379,
    "start_time": "2022-06-05T16:05:45.511Z"
   },
   {
    "duration": 605,
    "start_time": "2022-06-05T16:05:45.892Z"
   },
   {
    "duration": 376,
    "start_time": "2022-06-05T16:05:46.498Z"
   },
   {
    "duration": 705,
    "start_time": "2022-06-05T16:05:46.875Z"
   },
   {
    "duration": 1378,
    "start_time": "2022-06-05T16:07:44.648Z"
   },
   {
    "duration": 3,
    "start_time": "2022-06-05T16:07:46.028Z"
   },
   {
    "duration": 6,
    "start_time": "2022-06-05T16:07:46.032Z"
   },
   {
    "duration": 62,
    "start_time": "2022-06-05T16:07:46.039Z"
   },
   {
    "duration": 180,
    "start_time": "2022-06-05T16:07:46.103Z"
   },
   {
    "duration": 111,
    "start_time": "2022-06-05T16:07:46.284Z"
   },
   {
    "duration": 167,
    "start_time": "2022-06-05T16:07:46.397Z"
   },
   {
    "duration": 25,
    "start_time": "2022-06-05T16:07:46.566Z"
   },
   {
    "duration": 146,
    "start_time": "2022-06-05T16:07:46.593Z"
   },
   {
    "duration": 106,
    "start_time": "2022-06-05T16:07:46.741Z"
   },
   {
    "duration": 3,
    "start_time": "2022-06-05T16:07:46.849Z"
   },
   {
    "duration": 92,
    "start_time": "2022-06-05T16:07:46.853Z"
   },
   {
    "duration": 5,
    "start_time": "2022-06-05T16:07:46.947Z"
   },
   {
    "duration": 9,
    "start_time": "2022-06-05T16:07:46.955Z"
   },
   {
    "duration": 35,
    "start_time": "2022-06-05T16:07:46.965Z"
   },
   {
    "duration": 5,
    "start_time": "2022-06-05T16:07:47.022Z"
   },
   {
    "duration": 15,
    "start_time": "2022-06-05T16:07:47.028Z"
   },
   {
    "duration": 35,
    "start_time": "2022-06-05T16:07:47.045Z"
   },
   {
    "duration": 4,
    "start_time": "2022-06-05T16:07:47.082Z"
   },
   {
    "duration": 11,
    "start_time": "2022-06-05T16:07:47.087Z"
   },
   {
    "duration": 38,
    "start_time": "2022-06-05T16:07:47.099Z"
   },
   {
    "duration": 21,
    "start_time": "2022-06-05T16:07:47.139Z"
   },
   {
    "duration": 31,
    "start_time": "2022-06-05T16:07:47.162Z"
   },
   {
    "duration": 53,
    "start_time": "2022-06-05T16:07:47.194Z"
   },
   {
    "duration": 13,
    "start_time": "2022-06-05T16:07:47.249Z"
   },
   {
    "duration": 23,
    "start_time": "2022-06-05T16:07:47.264Z"
   },
   {
    "duration": 44,
    "start_time": "2022-06-05T16:07:47.289Z"
   },
   {
    "duration": 19,
    "start_time": "2022-06-05T16:07:47.335Z"
   },
   {
    "duration": 9,
    "start_time": "2022-06-05T16:07:47.355Z"
   },
   {
    "duration": 16,
    "start_time": "2022-06-05T16:07:47.366Z"
   },
   {
    "duration": 5,
    "start_time": "2022-06-05T16:07:47.384Z"
   },
   {
    "duration": 7,
    "start_time": "2022-06-05T16:07:47.423Z"
   },
   {
    "duration": 142,
    "start_time": "2022-06-05T16:07:47.432Z"
   },
   {
    "duration": 25,
    "start_time": "2022-06-05T16:07:47.575Z"
   },
   {
    "duration": 233,
    "start_time": "2022-06-05T16:07:47.601Z"
   },
   {
    "duration": 11,
    "start_time": "2022-06-05T16:07:47.835Z"
   },
   {
    "duration": 253,
    "start_time": "2022-06-05T16:07:47.847Z"
   },
   {
    "duration": 8,
    "start_time": "2022-06-05T16:07:48.101Z"
   },
   {
    "duration": 15,
    "start_time": "2022-06-05T16:07:48.124Z"
   },
   {
    "duration": 30,
    "start_time": "2022-06-05T16:07:48.141Z"
   },
   {
    "duration": 26,
    "start_time": "2022-06-05T16:07:48.175Z"
   },
   {
    "duration": 41,
    "start_time": "2022-06-05T16:07:48.202Z"
   },
   {
    "duration": 4,
    "start_time": "2022-06-05T16:07:48.245Z"
   },
   {
    "duration": 11,
    "start_time": "2022-06-05T16:07:48.251Z"
   },
   {
    "duration": 10,
    "start_time": "2022-06-05T16:07:48.264Z"
   },
   {
    "duration": 10,
    "start_time": "2022-06-05T16:07:48.275Z"
   },
   {
    "duration": 9,
    "start_time": "2022-06-05T16:07:48.286Z"
   },
   {
    "duration": 406,
    "start_time": "2022-06-05T16:07:48.296Z"
   },
   {
    "duration": 549,
    "start_time": "2022-06-05T16:07:48.704Z"
   },
   {
    "duration": 397,
    "start_time": "2022-06-05T16:07:49.255Z"
   },
   {
    "duration": 673,
    "start_time": "2022-06-05T16:07:49.653Z"
   },
   {
    "duration": 378,
    "start_time": "2022-06-05T16:07:50.328Z"
   },
   {
    "duration": 726,
    "start_time": "2022-06-05T16:07:50.707Z"
   },
   {
    "duration": 1354,
    "start_time": "2022-06-05T16:45:14.870Z"
   },
   {
    "duration": 4,
    "start_time": "2022-06-05T16:45:16.226Z"
   },
   {
    "duration": 3,
    "start_time": "2022-06-05T16:45:16.234Z"
   },
   {
    "duration": 60,
    "start_time": "2022-06-05T16:45:16.239Z"
   },
   {
    "duration": 180,
    "start_time": "2022-06-05T16:45:16.301Z"
   },
   {
    "duration": 107,
    "start_time": "2022-06-05T16:45:16.483Z"
   },
   {
    "duration": 167,
    "start_time": "2022-06-05T16:45:16.591Z"
   },
   {
    "duration": 26,
    "start_time": "2022-06-05T16:45:16.759Z"
   },
   {
    "duration": 144,
    "start_time": "2022-06-05T16:45:16.788Z"
   },
   {
    "duration": 103,
    "start_time": "2022-06-05T16:45:16.934Z"
   },
   {
    "duration": 3,
    "start_time": "2022-06-05T16:45:17.039Z"
   },
   {
    "duration": 83,
    "start_time": "2022-06-05T16:45:17.043Z"
   },
   {
    "duration": 4,
    "start_time": "2022-06-05T16:45:17.128Z"
   },
   {
    "duration": 9,
    "start_time": "2022-06-05T16:45:17.134Z"
   },
   {
    "duration": 36,
    "start_time": "2022-06-05T16:45:17.144Z"
   },
   {
    "duration": 4,
    "start_time": "2022-06-05T16:45:17.182Z"
   },
   {
    "duration": 9,
    "start_time": "2022-06-05T16:45:17.187Z"
   },
   {
    "duration": 52,
    "start_time": "2022-06-05T16:45:17.197Z"
   },
   {
    "duration": 4,
    "start_time": "2022-06-05T16:45:17.250Z"
   },
   {
    "duration": 10,
    "start_time": "2022-06-05T16:45:17.256Z"
   },
   {
    "duration": 18,
    "start_time": "2022-06-05T16:45:17.268Z"
   },
   {
    "duration": 47,
    "start_time": "2022-06-05T16:45:17.288Z"
   },
   {
    "duration": 34,
    "start_time": "2022-06-05T16:45:17.337Z"
   },
   {
    "duration": 29,
    "start_time": "2022-06-05T16:45:17.373Z"
   },
   {
    "duration": 30,
    "start_time": "2022-06-05T16:45:17.404Z"
   },
   {
    "duration": 19,
    "start_time": "2022-06-05T16:45:17.436Z"
   },
   {
    "duration": 23,
    "start_time": "2022-06-05T16:45:17.458Z"
   },
   {
    "duration": 57,
    "start_time": "2022-06-05T16:45:17.483Z"
   },
   {
    "duration": 12,
    "start_time": "2022-06-05T16:45:17.542Z"
   },
   {
    "duration": 13,
    "start_time": "2022-06-05T16:45:17.556Z"
   },
   {
    "duration": 5,
    "start_time": "2022-06-05T16:45:17.570Z"
   },
   {
    "duration": 6,
    "start_time": "2022-06-05T16:45:17.576Z"
   },
   {
    "duration": 154,
    "start_time": "2022-06-05T16:45:17.584Z"
   },
   {
    "duration": 28,
    "start_time": "2022-06-05T16:45:17.740Z"
   },
   {
    "duration": 257,
    "start_time": "2022-06-05T16:45:17.770Z"
   },
   {
    "duration": 9,
    "start_time": "2022-06-05T16:45:18.028Z"
   },
   {
    "duration": 255,
    "start_time": "2022-06-05T16:45:18.039Z"
   },
   {
    "duration": 9,
    "start_time": "2022-06-05T16:45:18.296Z"
   },
   {
    "duration": 31,
    "start_time": "2022-06-05T16:45:18.306Z"
   },
   {
    "duration": 30,
    "start_time": "2022-06-05T16:45:18.339Z"
   },
   {
    "duration": 38,
    "start_time": "2022-06-05T16:45:18.371Z"
   },
   {
    "duration": 23,
    "start_time": "2022-06-05T16:45:18.424Z"
   },
   {
    "duration": 5,
    "start_time": "2022-06-05T16:45:18.448Z"
   },
   {
    "duration": 8,
    "start_time": "2022-06-05T16:45:18.455Z"
   },
   {
    "duration": 6,
    "start_time": "2022-06-05T16:45:18.465Z"
   },
   {
    "duration": 8,
    "start_time": "2022-06-05T16:45:18.473Z"
   },
   {
    "duration": 46,
    "start_time": "2022-06-05T16:45:18.483Z"
   },
   {
    "duration": 451,
    "start_time": "2022-06-05T16:45:18.532Z"
   },
   {
    "duration": 725,
    "start_time": "2022-06-05T16:45:18.985Z"
   },
   {
    "duration": 386,
    "start_time": "2022-06-05T16:45:19.712Z"
   },
   {
    "duration": 614,
    "start_time": "2022-06-05T16:45:20.100Z"
   },
   {
    "duration": 469,
    "start_time": "2022-06-05T16:45:20.717Z"
   },
   {
    "duration": 359,
    "start_time": "2022-06-05T16:45:21.188Z"
   },
   {
    "duration": 1388,
    "start_time": "2022-06-05T16:48:26.453Z"
   },
   {
    "duration": 4,
    "start_time": "2022-06-05T16:48:27.843Z"
   },
   {
    "duration": 9,
    "start_time": "2022-06-05T16:48:27.849Z"
   },
   {
    "duration": 62,
    "start_time": "2022-06-05T16:48:27.860Z"
   },
   {
    "duration": 201,
    "start_time": "2022-06-05T16:48:27.924Z"
   },
   {
    "duration": 121,
    "start_time": "2022-06-05T16:48:28.127Z"
   },
   {
    "duration": 168,
    "start_time": "2022-06-05T16:48:28.250Z"
   },
   {
    "duration": 32,
    "start_time": "2022-06-05T16:48:28.423Z"
   },
   {
    "duration": 131,
    "start_time": "2022-06-05T16:48:28.457Z"
   },
   {
    "duration": 121,
    "start_time": "2022-06-05T16:48:28.592Z"
   },
   {
    "duration": 10,
    "start_time": "2022-06-05T16:48:28.714Z"
   },
   {
    "duration": 100,
    "start_time": "2022-06-05T16:48:28.726Z"
   },
   {
    "duration": 5,
    "start_time": "2022-06-05T16:48:28.827Z"
   },
   {
    "duration": 12,
    "start_time": "2022-06-05T16:48:28.833Z"
   },
   {
    "duration": 35,
    "start_time": "2022-06-05T16:48:28.847Z"
   },
   {
    "duration": 4,
    "start_time": "2022-06-05T16:48:28.883Z"
   },
   {
    "duration": 8,
    "start_time": "2022-06-05T16:48:28.889Z"
   },
   {
    "duration": 32,
    "start_time": "2022-06-05T16:48:28.923Z"
   },
   {
    "duration": 4,
    "start_time": "2022-06-05T16:48:28.957Z"
   },
   {
    "duration": 20,
    "start_time": "2022-06-05T16:48:28.963Z"
   },
   {
    "duration": 40,
    "start_time": "2022-06-05T16:48:28.985Z"
   },
   {
    "duration": 32,
    "start_time": "2022-06-05T16:48:29.027Z"
   },
   {
    "duration": 42,
    "start_time": "2022-06-05T16:48:29.061Z"
   },
   {
    "duration": 46,
    "start_time": "2022-06-05T16:48:29.105Z"
   },
   {
    "duration": 12,
    "start_time": "2022-06-05T16:48:29.153Z"
   },
   {
    "duration": 20,
    "start_time": "2022-06-05T16:48:29.167Z"
   },
   {
    "duration": 57,
    "start_time": "2022-06-05T16:48:29.189Z"
   },
   {
    "duration": 24,
    "start_time": "2022-06-05T16:48:29.252Z"
   },
   {
    "duration": 9,
    "start_time": "2022-06-05T16:48:29.279Z"
   },
   {
    "duration": 40,
    "start_time": "2022-06-05T16:48:29.290Z"
   },
   {
    "duration": 4,
    "start_time": "2022-06-05T16:48:29.332Z"
   },
   {
    "duration": 7,
    "start_time": "2022-06-05T16:48:29.338Z"
   },
   {
    "duration": 151,
    "start_time": "2022-06-05T16:48:29.346Z"
   },
   {
    "duration": 32,
    "start_time": "2022-06-05T16:48:29.499Z"
   },
   {
    "duration": 200,
    "start_time": "2022-06-05T16:48:29.533Z"
   },
   {
    "duration": 11,
    "start_time": "2022-06-05T16:48:29.734Z"
   },
   {
    "duration": 259,
    "start_time": "2022-06-05T16:48:29.746Z"
   },
   {
    "duration": 18,
    "start_time": "2022-06-05T16:48:30.008Z"
   },
   {
    "duration": 22,
    "start_time": "2022-06-05T16:48:30.028Z"
   },
   {
    "duration": 32,
    "start_time": "2022-06-05T16:48:30.052Z"
   },
   {
    "duration": 54,
    "start_time": "2022-06-05T16:48:30.086Z"
   },
   {
    "duration": 25,
    "start_time": "2022-06-05T16:48:30.142Z"
   },
   {
    "duration": 7,
    "start_time": "2022-06-05T16:48:30.169Z"
   },
   {
    "duration": 10,
    "start_time": "2022-06-05T16:48:30.177Z"
   },
   {
    "duration": 17,
    "start_time": "2022-06-05T16:48:30.188Z"
   },
   {
    "duration": 24,
    "start_time": "2022-06-05T16:48:30.207Z"
   },
   {
    "duration": 23,
    "start_time": "2022-06-05T16:48:30.233Z"
   },
   {
    "duration": 375,
    "start_time": "2022-06-05T16:48:30.258Z"
   },
   {
    "duration": 699,
    "start_time": "2022-06-05T16:48:30.635Z"
   },
   {
    "duration": 421,
    "start_time": "2022-06-05T16:48:31.336Z"
   },
   {
    "duration": 714,
    "start_time": "2022-06-05T16:48:31.759Z"
   },
   {
    "duration": 551,
    "start_time": "2022-06-05T16:48:32.475Z"
   },
   {
    "duration": 368,
    "start_time": "2022-06-05T16:48:33.027Z"
   },
   {
    "duration": 6,
    "start_time": "2022-06-05T17:16:13.691Z"
   },
   {
    "duration": 6,
    "start_time": "2022-06-05T17:16:28.660Z"
   },
   {
    "duration": 6,
    "start_time": "2022-06-05T17:18:03.609Z"
   },
   {
    "duration": 6,
    "start_time": "2022-06-05T17:18:11.513Z"
   },
   {
    "duration": 31,
    "start_time": "2022-06-05T17:18:43.882Z"
   },
   {
    "duration": 1377,
    "start_time": "2022-06-05T17:18:55.349Z"
   },
   {
    "duration": 3,
    "start_time": "2022-06-05T17:18:56.728Z"
   },
   {
    "duration": 6,
    "start_time": "2022-06-05T17:18:56.733Z"
   },
   {
    "duration": 61,
    "start_time": "2022-06-05T17:18:56.741Z"
   },
   {
    "duration": 187,
    "start_time": "2022-06-05T17:18:56.804Z"
   },
   {
    "duration": 130,
    "start_time": "2022-06-05T17:18:56.993Z"
   },
   {
    "duration": 187,
    "start_time": "2022-06-05T17:18:57.125Z"
   },
   {
    "duration": 27,
    "start_time": "2022-06-05T17:18:57.314Z"
   },
   {
    "duration": 139,
    "start_time": "2022-06-05T17:18:57.343Z"
   },
   {
    "duration": 124,
    "start_time": "2022-06-05T17:18:57.485Z"
   },
   {
    "duration": 13,
    "start_time": "2022-06-05T17:18:57.611Z"
   },
   {
    "duration": 77,
    "start_time": "2022-06-05T17:18:57.626Z"
   },
   {
    "duration": 19,
    "start_time": "2022-06-05T17:18:57.705Z"
   },
   {
    "duration": 9,
    "start_time": "2022-06-05T17:18:57.726Z"
   },
   {
    "duration": 38,
    "start_time": "2022-06-05T17:18:57.737Z"
   },
   {
    "duration": 5,
    "start_time": "2022-06-05T17:18:57.777Z"
   },
   {
    "duration": 9,
    "start_time": "2022-06-05T17:18:57.783Z"
   },
   {
    "duration": 50,
    "start_time": "2022-06-05T17:18:57.793Z"
   },
   {
    "duration": 4,
    "start_time": "2022-06-05T17:18:57.845Z"
   },
   {
    "duration": 11,
    "start_time": "2022-06-05T17:18:57.850Z"
   },
   {
    "duration": 18,
    "start_time": "2022-06-05T17:18:57.863Z"
   },
   {
    "duration": 18,
    "start_time": "2022-06-05T17:18:57.882Z"
   },
   {
    "duration": 31,
    "start_time": "2022-06-05T17:18:57.923Z"
   },
   {
    "duration": 33,
    "start_time": "2022-06-05T17:18:57.956Z"
   },
   {
    "duration": 39,
    "start_time": "2022-06-05T17:18:57.991Z"
   },
   {
    "duration": 27,
    "start_time": "2022-06-05T17:18:58.032Z"
   },
   {
    "duration": 18,
    "start_time": "2022-06-05T17:18:58.061Z"
   },
   {
    "duration": 17,
    "start_time": "2022-06-05T17:18:58.083Z"
   },
   {
    "duration": 26,
    "start_time": "2022-06-05T17:18:58.102Z"
   },
   {
    "duration": 14,
    "start_time": "2022-06-05T17:18:58.130Z"
   },
   {
    "duration": 4,
    "start_time": "2022-06-05T17:18:58.145Z"
   },
   {
    "duration": 5,
    "start_time": "2022-06-05T17:18:58.151Z"
   },
   {
    "duration": 159,
    "start_time": "2022-06-05T17:18:58.157Z"
   },
   {
    "duration": 25,
    "start_time": "2022-06-05T17:18:58.317Z"
   },
   {
    "duration": 204,
    "start_time": "2022-06-05T17:18:58.343Z"
   },
   {
    "duration": 9,
    "start_time": "2022-06-05T17:18:58.549Z"
   },
   {
    "duration": 250,
    "start_time": "2022-06-05T17:18:58.560Z"
   },
   {
    "duration": 12,
    "start_time": "2022-06-05T17:18:58.812Z"
   },
   {
    "duration": 14,
    "start_time": "2022-06-05T17:18:58.826Z"
   },
   {
    "duration": 27,
    "start_time": "2022-06-05T17:18:58.842Z"
   },
   {
    "duration": 54,
    "start_time": "2022-06-05T17:18:58.871Z"
   },
   {
    "duration": 28,
    "start_time": "2022-06-05T17:18:58.927Z"
   },
   {
    "duration": 7,
    "start_time": "2022-06-05T17:18:58.957Z"
   },
   {
    "duration": 18,
    "start_time": "2022-06-05T17:18:58.966Z"
   },
   {
    "duration": 12,
    "start_time": "2022-06-05T17:18:58.986Z"
   },
   {
    "duration": 27,
    "start_time": "2022-06-05T17:18:59.000Z"
   },
   {
    "duration": 15,
    "start_time": "2022-06-05T17:18:59.030Z"
   },
   {
    "duration": 438,
    "start_time": "2022-06-05T17:18:59.047Z"
   },
   {
    "duration": 746,
    "start_time": "2022-06-05T17:18:59.487Z"
   },
   {
    "duration": 391,
    "start_time": "2022-06-05T17:19:00.234Z"
   },
   {
    "duration": 639,
    "start_time": "2022-06-05T17:19:00.627Z"
   },
   {
    "duration": 487,
    "start_time": "2022-06-05T17:19:01.267Z"
   },
   {
    "duration": 481,
    "start_time": "2022-06-05T17:19:01.755Z"
   },
   {
    "duration": 6,
    "start_time": "2022-06-05T17:19:02.238Z"
   },
   {
    "duration": 1357,
    "start_time": "2022-06-05T17:25:50.573Z"
   },
   {
    "duration": 4,
    "start_time": "2022-06-05T17:25:51.932Z"
   },
   {
    "duration": 8,
    "start_time": "2022-06-05T17:25:51.937Z"
   },
   {
    "duration": 64,
    "start_time": "2022-06-05T17:25:51.946Z"
   },
   {
    "duration": 186,
    "start_time": "2022-06-05T17:25:52.012Z"
   },
   {
    "duration": 109,
    "start_time": "2022-06-05T17:25:52.200Z"
   },
   {
    "duration": 174,
    "start_time": "2022-06-05T17:25:52.311Z"
   },
   {
    "duration": 27,
    "start_time": "2022-06-05T17:25:52.487Z"
   },
   {
    "duration": 170,
    "start_time": "2022-06-05T17:25:52.515Z"
   },
   {
    "duration": 136,
    "start_time": "2022-06-05T17:25:52.688Z"
   },
   {
    "duration": 4,
    "start_time": "2022-06-05T17:25:52.825Z"
   },
   {
    "duration": 76,
    "start_time": "2022-06-05T17:25:52.830Z"
   },
   {
    "duration": 16,
    "start_time": "2022-06-05T17:25:52.908Z"
   },
   {
    "duration": 12,
    "start_time": "2022-06-05T17:25:52.926Z"
   },
   {
    "duration": 46,
    "start_time": "2022-06-05T17:25:52.940Z"
   },
   {
    "duration": 5,
    "start_time": "2022-06-05T17:25:52.988Z"
   },
   {
    "duration": 18,
    "start_time": "2022-06-05T17:25:52.995Z"
   },
   {
    "duration": 27,
    "start_time": "2022-06-05T17:25:53.023Z"
   },
   {
    "duration": 4,
    "start_time": "2022-06-05T17:25:53.051Z"
   },
   {
    "duration": 12,
    "start_time": "2022-06-05T17:25:53.056Z"
   },
   {
    "duration": 20,
    "start_time": "2022-06-05T17:25:53.069Z"
   },
   {
    "duration": 43,
    "start_time": "2022-06-05T17:25:53.091Z"
   },
   {
    "duration": 26,
    "start_time": "2022-06-05T17:25:53.136Z"
   },
   {
    "duration": 27,
    "start_time": "2022-06-05T17:25:53.164Z"
   },
   {
    "duration": 33,
    "start_time": "2022-06-05T17:25:53.192Z"
   },
   {
    "duration": 19,
    "start_time": "2022-06-05T17:25:53.227Z"
   },
   {
    "duration": 21,
    "start_time": "2022-06-05T17:25:53.247Z"
   },
   {
    "duration": 18,
    "start_time": "2022-06-05T17:25:53.272Z"
   },
   {
    "duration": 32,
    "start_time": "2022-06-05T17:25:53.292Z"
   },
   {
    "duration": 11,
    "start_time": "2022-06-05T17:25:53.326Z"
   },
   {
    "duration": 6,
    "start_time": "2022-06-05T17:25:53.339Z"
   },
   {
    "duration": 5,
    "start_time": "2022-06-05T17:25:53.346Z"
   },
   {
    "duration": 139,
    "start_time": "2022-06-05T17:25:53.352Z"
   },
   {
    "duration": 32,
    "start_time": "2022-06-05T17:25:53.492Z"
   },
   {
    "duration": 190,
    "start_time": "2022-06-05T17:25:53.525Z"
   },
   {
    "duration": 13,
    "start_time": "2022-06-05T17:25:53.716Z"
   },
   {
    "duration": 225,
    "start_time": "2022-06-05T17:25:53.730Z"
   },
   {
    "duration": 18,
    "start_time": "2022-06-05T17:25:53.957Z"
   },
   {
    "duration": 20,
    "start_time": "2022-06-05T17:25:53.977Z"
   },
   {
    "duration": 28,
    "start_time": "2022-06-05T17:25:53.999Z"
   },
   {
    "duration": 23,
    "start_time": "2022-06-05T17:25:54.029Z"
   },
   {
    "duration": 24,
    "start_time": "2022-06-05T17:25:54.053Z"
   },
   {
    "duration": 5,
    "start_time": "2022-06-05T17:25:54.078Z"
   },
   {
    "duration": 8,
    "start_time": "2022-06-05T17:25:54.084Z"
   },
   {
    "duration": 34,
    "start_time": "2022-06-05T17:25:54.093Z"
   },
   {
    "duration": 10,
    "start_time": "2022-06-05T17:25:54.129Z"
   },
   {
    "duration": 7,
    "start_time": "2022-06-05T17:25:54.140Z"
   },
   {
    "duration": 375,
    "start_time": "2022-06-05T17:25:54.149Z"
   },
   {
    "duration": 668,
    "start_time": "2022-06-05T17:25:54.526Z"
   },
   {
    "duration": 369,
    "start_time": "2022-06-05T17:25:55.195Z"
   },
   {
    "duration": 596,
    "start_time": "2022-06-05T17:25:55.566Z"
   },
   {
    "duration": 429,
    "start_time": "2022-06-05T17:25:56.163Z"
   },
   {
    "duration": 340,
    "start_time": "2022-06-05T17:25:56.594Z"
   },
   {
    "duration": 5,
    "start_time": "2022-06-05T17:25:56.936Z"
   },
   {
    "duration": 8,
    "start_time": "2022-06-05T17:38:02.588Z"
   },
   {
    "duration": 10,
    "start_time": "2022-06-05T17:38:17.717Z"
   },
   {
    "duration": 35,
    "start_time": "2022-06-05T17:39:28.376Z"
   },
   {
    "duration": 14,
    "start_time": "2022-06-05T17:41:04.483Z"
   },
   {
    "duration": 150,
    "start_time": "2022-06-05T17:45:25.327Z"
   },
   {
    "duration": 4,
    "start_time": "2022-06-05T17:45:37.937Z"
   },
   {
    "duration": 12,
    "start_time": "2022-06-05T17:46:26.300Z"
   },
   {
    "duration": 1398,
    "start_time": "2022-06-05T17:48:22.663Z"
   },
   {
    "duration": 3,
    "start_time": "2022-06-05T17:48:24.063Z"
   },
   {
    "duration": 18,
    "start_time": "2022-06-05T17:48:24.068Z"
   },
   {
    "duration": 79,
    "start_time": "2022-06-05T17:48:24.089Z"
   },
   {
    "duration": 184,
    "start_time": "2022-06-05T17:48:24.170Z"
   },
   {
    "duration": 120,
    "start_time": "2022-06-05T17:48:24.356Z"
   },
   {
    "duration": 181,
    "start_time": "2022-06-05T17:48:24.478Z"
   },
   {
    "duration": 27,
    "start_time": "2022-06-05T17:48:24.660Z"
   },
   {
    "duration": 164,
    "start_time": "2022-06-05T17:48:24.689Z"
   },
   {
    "duration": 112,
    "start_time": "2022-06-05T17:48:24.856Z"
   },
   {
    "duration": 3,
    "start_time": "2022-06-05T17:48:24.970Z"
   },
   {
    "duration": 88,
    "start_time": "2022-06-05T17:48:24.974Z"
   },
   {
    "duration": 3,
    "start_time": "2022-06-05T17:48:25.064Z"
   },
   {
    "duration": 12,
    "start_time": "2022-06-05T17:48:25.069Z"
   },
   {
    "duration": 45,
    "start_time": "2022-06-05T17:48:25.082Z"
   },
   {
    "duration": 4,
    "start_time": "2022-06-05T17:48:25.128Z"
   },
   {
    "duration": 33,
    "start_time": "2022-06-05T17:48:25.134Z"
   },
   {
    "duration": 38,
    "start_time": "2022-06-05T17:48:25.169Z"
   },
   {
    "duration": 4,
    "start_time": "2022-06-05T17:48:25.208Z"
   },
   {
    "duration": 31,
    "start_time": "2022-06-05T17:48:25.213Z"
   },
   {
    "duration": 27,
    "start_time": "2022-06-05T17:48:25.246Z"
   },
   {
    "duration": 24,
    "start_time": "2022-06-05T17:48:25.275Z"
   },
   {
    "duration": 33,
    "start_time": "2022-06-05T17:48:25.301Z"
   },
   {
    "duration": 31,
    "start_time": "2022-06-05T17:48:25.335Z"
   },
   {
    "duration": 11,
    "start_time": "2022-06-05T17:48:25.368Z"
   },
   {
    "duration": 18,
    "start_time": "2022-06-05T17:48:25.381Z"
   },
   {
    "duration": 40,
    "start_time": "2022-06-05T17:48:25.401Z"
   },
   {
    "duration": 19,
    "start_time": "2022-06-05T17:48:25.445Z"
   },
   {
    "duration": 9,
    "start_time": "2022-06-05T17:48:25.465Z"
   },
   {
    "duration": 11,
    "start_time": "2022-06-05T17:48:25.475Z"
   },
   {
    "duration": 4,
    "start_time": "2022-06-05T17:48:25.487Z"
   },
   {
    "duration": 5,
    "start_time": "2022-06-05T17:48:25.492Z"
   },
   {
    "duration": 164,
    "start_time": "2022-06-05T17:48:25.498Z"
   },
   {
    "duration": 24,
    "start_time": "2022-06-05T17:48:25.663Z"
   },
   {
    "duration": 208,
    "start_time": "2022-06-05T17:48:25.688Z"
   },
   {
    "duration": 8,
    "start_time": "2022-06-05T17:48:25.897Z"
   },
   {
    "duration": 274,
    "start_time": "2022-06-05T17:48:25.906Z"
   },
   {
    "duration": 7,
    "start_time": "2022-06-05T17:48:26.182Z"
   },
   {
    "duration": 45,
    "start_time": "2022-06-05T17:48:26.191Z"
   },
   {
    "duration": 30,
    "start_time": "2022-06-05T17:48:26.237Z"
   },
   {
    "duration": 25,
    "start_time": "2022-06-05T17:48:26.268Z"
   },
   {
    "duration": 42,
    "start_time": "2022-06-05T17:48:26.295Z"
   },
   {
    "duration": 6,
    "start_time": "2022-06-05T17:48:26.338Z"
   },
   {
    "duration": 6,
    "start_time": "2022-06-05T17:48:26.345Z"
   },
   {
    "duration": 8,
    "start_time": "2022-06-05T17:48:26.352Z"
   },
   {
    "duration": 6,
    "start_time": "2022-06-05T17:48:26.362Z"
   },
   {
    "duration": 7,
    "start_time": "2022-06-05T17:48:26.369Z"
   },
   {
    "duration": 389,
    "start_time": "2022-06-05T17:48:26.378Z"
   },
   {
    "duration": 712,
    "start_time": "2022-06-05T17:48:26.769Z"
   },
   {
    "duration": 399,
    "start_time": "2022-06-05T17:48:27.482Z"
   },
   {
    "duration": 691,
    "start_time": "2022-06-05T17:48:27.883Z"
   },
   {
    "duration": 473,
    "start_time": "2022-06-05T17:48:28.575Z"
   },
   {
    "duration": 382,
    "start_time": "2022-06-05T17:48:29.050Z"
   },
   {
    "duration": 6,
    "start_time": "2022-06-05T17:48:29.436Z"
   },
   {
    "duration": 15,
    "start_time": "2022-06-05T17:48:29.444Z"
   },
   {
    "duration": 5,
    "start_time": "2022-06-05T17:48:29.460Z"
   },
   {
    "duration": 5,
    "start_time": "2022-06-05T17:48:42.348Z"
   },
   {
    "duration": 1431,
    "start_time": "2022-06-05T17:48:51.565Z"
   },
   {
    "duration": 2,
    "start_time": "2022-06-05T17:48:52.998Z"
   },
   {
    "duration": 5,
    "start_time": "2022-06-05T17:48:53.002Z"
   },
   {
    "duration": 69,
    "start_time": "2022-06-05T17:48:53.009Z"
   },
   {
    "duration": 181,
    "start_time": "2022-06-05T17:48:53.079Z"
   },
   {
    "duration": 110,
    "start_time": "2022-06-05T17:48:53.261Z"
   },
   {
    "duration": 165,
    "start_time": "2022-06-05T17:48:53.372Z"
   },
   {
    "duration": 25,
    "start_time": "2022-06-05T17:48:53.539Z"
   },
   {
    "duration": 131,
    "start_time": "2022-06-05T17:48:53.566Z"
   },
   {
    "duration": 120,
    "start_time": "2022-06-05T17:48:53.700Z"
   },
   {
    "duration": 6,
    "start_time": "2022-06-05T17:48:53.821Z"
   },
   {
    "duration": 79,
    "start_time": "2022-06-05T17:48:53.829Z"
   },
   {
    "duration": 3,
    "start_time": "2022-06-05T17:48:53.910Z"
   },
   {
    "duration": 12,
    "start_time": "2022-06-05T17:48:53.926Z"
   },
   {
    "duration": 40,
    "start_time": "2022-06-05T17:48:53.940Z"
   },
   {
    "duration": 4,
    "start_time": "2022-06-05T17:48:53.983Z"
   },
   {
    "duration": 16,
    "start_time": "2022-06-05T17:48:53.989Z"
   },
   {
    "duration": 38,
    "start_time": "2022-06-05T17:48:54.007Z"
   },
   {
    "duration": 4,
    "start_time": "2022-06-05T17:48:54.046Z"
   },
   {
    "duration": 8,
    "start_time": "2022-06-05T17:48:54.051Z"
   },
   {
    "duration": 17,
    "start_time": "2022-06-05T17:48:54.061Z"
   },
   {
    "duration": 17,
    "start_time": "2022-06-05T17:48:54.079Z"
   },
   {
    "duration": 55,
    "start_time": "2022-06-05T17:48:54.098Z"
   },
   {
    "duration": 28,
    "start_time": "2022-06-05T17:48:54.155Z"
   },
   {
    "duration": 12,
    "start_time": "2022-06-05T17:48:54.184Z"
   },
   {
    "duration": 43,
    "start_time": "2022-06-05T17:48:54.198Z"
   },
   {
    "duration": 20,
    "start_time": "2022-06-05T17:48:54.243Z"
   },
   {
    "duration": 17,
    "start_time": "2022-06-05T17:48:54.266Z"
   },
   {
    "duration": 8,
    "start_time": "2022-06-05T17:48:54.284Z"
   },
   {
    "duration": 41,
    "start_time": "2022-06-05T17:48:54.293Z"
   },
   {
    "duration": 5,
    "start_time": "2022-06-05T17:48:54.337Z"
   },
   {
    "duration": 6,
    "start_time": "2022-06-05T17:48:54.343Z"
   },
   {
    "duration": 142,
    "start_time": "2022-06-05T17:48:54.350Z"
   },
   {
    "duration": 41,
    "start_time": "2022-06-05T17:48:54.493Z"
   },
   {
    "duration": 198,
    "start_time": "2022-06-05T17:48:54.536Z"
   },
   {
    "duration": 9,
    "start_time": "2022-06-05T17:48:54.738Z"
   },
   {
    "duration": 234,
    "start_time": "2022-06-05T17:48:54.748Z"
   },
   {
    "duration": 7,
    "start_time": "2022-06-05T17:48:54.983Z"
   },
   {
    "duration": 14,
    "start_time": "2022-06-05T17:48:54.991Z"
   },
   {
    "duration": 47,
    "start_time": "2022-06-05T17:48:55.006Z"
   },
   {
    "duration": 24,
    "start_time": "2022-06-05T17:48:55.054Z"
   },
   {
    "duration": 22,
    "start_time": "2022-06-05T17:48:55.079Z"
   },
   {
    "duration": 5,
    "start_time": "2022-06-05T17:48:55.135Z"
   },
   {
    "duration": 10,
    "start_time": "2022-06-05T17:48:55.141Z"
   },
   {
    "duration": 11,
    "start_time": "2022-06-05T17:48:55.153Z"
   },
   {
    "duration": 6,
    "start_time": "2022-06-05T17:48:55.165Z"
   },
   {
    "duration": 7,
    "start_time": "2022-06-05T17:48:55.172Z"
   },
   {
    "duration": 365,
    "start_time": "2022-06-05T17:48:55.180Z"
   },
   {
    "duration": 716,
    "start_time": "2022-06-05T17:48:55.546Z"
   },
   {
    "duration": 397,
    "start_time": "2022-06-05T17:48:56.264Z"
   },
   {
    "duration": 671,
    "start_time": "2022-06-05T17:48:56.663Z"
   },
   {
    "duration": 477,
    "start_time": "2022-06-05T17:48:57.337Z"
   },
   {
    "duration": 359,
    "start_time": "2022-06-05T17:48:57.815Z"
   },
   {
    "duration": 5,
    "start_time": "2022-06-05T17:48:58.176Z"
   },
   {
    "duration": 15,
    "start_time": "2022-06-05T17:48:58.183Z"
   },
   {
    "duration": 4,
    "start_time": "2022-06-05T17:48:58.200Z"
   },
   {
    "duration": 9,
    "start_time": "2022-06-05T17:58:03.147Z"
   },
   {
    "duration": 153,
    "start_time": "2022-06-05T18:08:09.716Z"
   },
   {
    "duration": 1363,
    "start_time": "2022-06-05T18:09:55.372Z"
   },
   {
    "duration": 2,
    "start_time": "2022-06-05T18:09:56.737Z"
   },
   {
    "duration": 9,
    "start_time": "2022-06-05T18:09:56.740Z"
   },
   {
    "duration": 67,
    "start_time": "2022-06-05T18:09:56.751Z"
   },
   {
    "duration": 181,
    "start_time": "2022-06-05T18:09:56.820Z"
   },
   {
    "duration": 116,
    "start_time": "2022-06-05T18:09:57.002Z"
   },
   {
    "duration": 169,
    "start_time": "2022-06-05T18:09:57.119Z"
   },
   {
    "duration": 27,
    "start_time": "2022-06-05T18:09:57.289Z"
   },
   {
    "duration": 138,
    "start_time": "2022-06-05T18:09:57.317Z"
   },
   {
    "duration": 117,
    "start_time": "2022-06-05T18:09:57.456Z"
   },
   {
    "duration": 3,
    "start_time": "2022-06-05T18:09:57.575Z"
   },
   {
    "duration": 99,
    "start_time": "2022-06-05T18:09:57.580Z"
   },
   {
    "duration": 5,
    "start_time": "2022-06-05T18:09:57.681Z"
   },
   {
    "duration": 12,
    "start_time": "2022-06-05T18:09:57.689Z"
   },
   {
    "duration": 51,
    "start_time": "2022-06-05T18:09:57.703Z"
   },
   {
    "duration": 4,
    "start_time": "2022-06-05T18:09:57.755Z"
   },
   {
    "duration": 9,
    "start_time": "2022-06-05T18:09:57.761Z"
   },
   {
    "duration": 52,
    "start_time": "2022-06-05T18:09:57.772Z"
   },
   {
    "duration": 5,
    "start_time": "2022-06-05T18:09:57.826Z"
   },
   {
    "duration": 10,
    "start_time": "2022-06-05T18:09:57.832Z"
   },
   {
    "duration": 23,
    "start_time": "2022-06-05T18:09:57.843Z"
   },
   {
    "duration": 19,
    "start_time": "2022-06-05T18:09:57.867Z"
   },
   {
    "duration": 63,
    "start_time": "2022-06-05T18:09:57.888Z"
   },
   {
    "duration": 31,
    "start_time": "2022-06-05T18:09:57.953Z"
   },
   {
    "duration": 41,
    "start_time": "2022-06-05T18:09:57.986Z"
   },
   {
    "duration": 20,
    "start_time": "2022-06-05T18:09:58.029Z"
   },
   {
    "duration": 34,
    "start_time": "2022-06-05T18:09:58.050Z"
   },
   {
    "duration": 22,
    "start_time": "2022-06-05T18:09:58.086Z"
   },
   {
    "duration": 11,
    "start_time": "2022-06-05T18:09:58.123Z"
   },
   {
    "duration": 16,
    "start_time": "2022-06-05T18:09:58.136Z"
   },
   {
    "duration": 9,
    "start_time": "2022-06-05T18:09:58.154Z"
   },
   {
    "duration": 9,
    "start_time": "2022-06-05T18:09:58.165Z"
   },
   {
    "duration": 150,
    "start_time": "2022-06-05T18:09:58.176Z"
   },
   {
    "duration": 25,
    "start_time": "2022-06-05T18:09:58.327Z"
   },
   {
    "duration": 220,
    "start_time": "2022-06-05T18:09:58.353Z"
   },
   {
    "duration": 9,
    "start_time": "2022-06-05T18:09:58.575Z"
   },
   {
    "duration": 258,
    "start_time": "2022-06-05T18:09:58.585Z"
   },
   {
    "duration": 8,
    "start_time": "2022-06-05T18:09:58.845Z"
   },
   {
    "duration": 18,
    "start_time": "2022-06-05T18:09:58.854Z"
   },
   {
    "duration": 50,
    "start_time": "2022-06-05T18:09:58.873Z"
   },
   {
    "duration": 34,
    "start_time": "2022-06-05T18:09:58.927Z"
   },
   {
    "duration": 29,
    "start_time": "2022-06-05T18:09:58.963Z"
   },
   {
    "duration": 32,
    "start_time": "2022-06-05T18:09:58.994Z"
   },
   {
    "duration": 8,
    "start_time": "2022-06-05T18:09:59.028Z"
   },
   {
    "duration": 10,
    "start_time": "2022-06-05T18:09:59.038Z"
   },
   {
    "duration": 12,
    "start_time": "2022-06-05T18:09:59.049Z"
   },
   {
    "duration": 9,
    "start_time": "2022-06-05T18:09:59.063Z"
   },
   {
    "duration": 427,
    "start_time": "2022-06-05T18:09:59.073Z"
   },
   {
    "duration": 751,
    "start_time": "2022-06-05T18:09:59.502Z"
   },
   {
    "duration": 392,
    "start_time": "2022-06-05T18:10:00.255Z"
   },
   {
    "duration": 694,
    "start_time": "2022-06-05T18:10:00.648Z"
   },
   {
    "duration": 511,
    "start_time": "2022-06-05T18:10:01.343Z"
   },
   {
    "duration": 389,
    "start_time": "2022-06-05T18:10:01.856Z"
   },
   {
    "duration": 5,
    "start_time": "2022-06-05T18:10:02.247Z"
   },
   {
    "duration": 25,
    "start_time": "2022-06-05T18:10:02.253Z"
   },
   {
    "duration": 17,
    "start_time": "2022-06-05T18:10:02.279Z"
   },
   {
    "duration": 28,
    "start_time": "2022-06-05T18:10:02.298Z"
   },
   {
    "duration": 152,
    "start_time": "2022-06-05T18:10:02.328Z"
   },
   {
    "duration": 1443,
    "start_time": "2022-06-05T18:11:58.866Z"
   },
   {
    "duration": 2,
    "start_time": "2022-06-05T18:12:00.312Z"
   },
   {
    "duration": 12,
    "start_time": "2022-06-05T18:12:00.316Z"
   },
   {
    "duration": 66,
    "start_time": "2022-06-05T18:12:00.330Z"
   },
   {
    "duration": 192,
    "start_time": "2022-06-05T18:12:00.398Z"
   },
   {
    "duration": 119,
    "start_time": "2022-06-05T18:12:00.592Z"
   },
   {
    "duration": 176,
    "start_time": "2022-06-05T18:12:00.713Z"
   },
   {
    "duration": 29,
    "start_time": "2022-06-05T18:12:00.891Z"
   },
   {
    "duration": 151,
    "start_time": "2022-06-05T18:12:00.922Z"
   },
   {
    "duration": 126,
    "start_time": "2022-06-05T18:12:01.075Z"
   },
   {
    "duration": 4,
    "start_time": "2022-06-05T18:12:01.203Z"
   },
   {
    "duration": 75,
    "start_time": "2022-06-05T18:12:01.223Z"
   },
   {
    "duration": 4,
    "start_time": "2022-06-05T18:12:01.300Z"
   },
   {
    "duration": 21,
    "start_time": "2022-06-05T18:12:01.322Z"
   },
   {
    "duration": 69,
    "start_time": "2022-06-05T18:12:01.345Z"
   },
   {
    "duration": 4,
    "start_time": "2022-06-05T18:12:01.415Z"
   },
   {
    "duration": 25,
    "start_time": "2022-06-05T18:12:01.420Z"
   },
   {
    "duration": 44,
    "start_time": "2022-06-05T18:12:01.447Z"
   },
   {
    "duration": 4,
    "start_time": "2022-06-05T18:12:01.493Z"
   },
   {
    "duration": 19,
    "start_time": "2022-06-05T18:12:01.499Z"
   },
   {
    "duration": 53,
    "start_time": "2022-06-05T18:12:01.519Z"
   },
   {
    "duration": 25,
    "start_time": "2022-06-05T18:12:01.574Z"
   },
   {
    "duration": 34,
    "start_time": "2022-06-05T18:12:01.602Z"
   },
   {
    "duration": 46,
    "start_time": "2022-06-05T18:12:01.638Z"
   },
   {
    "duration": 40,
    "start_time": "2022-06-05T18:12:01.686Z"
   },
   {
    "duration": 30,
    "start_time": "2022-06-05T18:12:01.728Z"
   },
   {
    "duration": 20,
    "start_time": "2022-06-05T18:12:01.760Z"
   },
   {
    "duration": 21,
    "start_time": "2022-06-05T18:12:01.782Z"
   },
   {
    "duration": 10,
    "start_time": "2022-06-05T18:12:01.824Z"
   },
   {
    "duration": 17,
    "start_time": "2022-06-05T18:12:01.836Z"
   },
   {
    "duration": 15,
    "start_time": "2022-06-05T18:12:01.855Z"
   },
   {
    "duration": 59,
    "start_time": "2022-06-05T18:12:01.871Z"
   },
   {
    "duration": 172,
    "start_time": "2022-06-05T18:12:01.931Z"
   },
   {
    "duration": 32,
    "start_time": "2022-06-05T18:12:02.104Z"
   },
   {
    "duration": 219,
    "start_time": "2022-06-05T18:12:02.138Z"
   },
   {
    "duration": 9,
    "start_time": "2022-06-05T18:12:02.358Z"
   },
   {
    "duration": 272,
    "start_time": "2022-06-05T18:12:02.369Z"
   },
   {
    "duration": 11,
    "start_time": "2022-06-05T18:12:02.643Z"
   },
   {
    "duration": 23,
    "start_time": "2022-06-05T18:12:02.655Z"
   },
   {
    "duration": 55,
    "start_time": "2022-06-05T18:12:02.679Z"
   },
   {
    "duration": 39,
    "start_time": "2022-06-05T18:12:02.739Z"
   },
   {
    "duration": 58,
    "start_time": "2022-06-05T18:12:02.780Z"
   },
   {
    "duration": 13,
    "start_time": "2022-06-05T18:12:02.841Z"
   },
   {
    "duration": 19,
    "start_time": "2022-06-05T18:12:02.856Z"
   },
   {
    "duration": 15,
    "start_time": "2022-06-05T18:12:02.878Z"
   },
   {
    "duration": 11,
    "start_time": "2022-06-05T18:12:02.896Z"
   },
   {
    "duration": 14,
    "start_time": "2022-06-05T18:12:02.910Z"
   },
   {
    "duration": 364,
    "start_time": "2022-06-05T18:12:02.926Z"
   },
   {
    "duration": 726,
    "start_time": "2022-06-05T18:12:03.291Z"
   },
   {
    "duration": 382,
    "start_time": "2022-06-05T18:12:04.023Z"
   },
   {
    "duration": 625,
    "start_time": "2022-06-05T18:12:04.406Z"
   },
   {
    "duration": 471,
    "start_time": "2022-06-05T18:12:05.032Z"
   },
   {
    "duration": 362,
    "start_time": "2022-06-05T18:12:05.505Z"
   },
   {
    "duration": 6,
    "start_time": "2022-06-05T18:12:05.868Z"
   },
   {
    "duration": 15,
    "start_time": "2022-06-05T18:12:05.876Z"
   },
   {
    "duration": 5,
    "start_time": "2022-06-05T18:12:05.892Z"
   },
   {
    "duration": 5,
    "start_time": "2022-06-05T18:12:05.923Z"
   },
   {
    "duration": 167,
    "start_time": "2022-06-05T18:12:05.930Z"
   },
   {
    "duration": 19,
    "start_time": "2022-06-05T18:12:35.685Z"
   },
   {
    "duration": 24,
    "start_time": "2022-06-05T18:13:47.907Z"
   },
   {
    "duration": 4,
    "start_time": "2022-06-05T18:13:53.169Z"
   },
   {
    "duration": 31,
    "start_time": "2022-06-05T18:14:01.327Z"
   },
   {
    "duration": 15,
    "start_time": "2022-06-05T18:16:20.627Z"
   },
   {
    "duration": 6,
    "start_time": "2022-06-05T18:16:31.384Z"
   },
   {
    "duration": 7,
    "start_time": "2022-06-05T18:17:27.692Z"
   },
   {
    "duration": 1471,
    "start_time": "2022-06-05T18:20:46.040Z"
   },
   {
    "duration": 3,
    "start_time": "2022-06-05T18:20:47.513Z"
   },
   {
    "duration": 21,
    "start_time": "2022-06-05T18:20:47.517Z"
   },
   {
    "duration": 62,
    "start_time": "2022-06-05T18:20:47.540Z"
   },
   {
    "duration": 210,
    "start_time": "2022-06-05T18:20:47.604Z"
   },
   {
    "duration": 143,
    "start_time": "2022-06-05T18:20:47.816Z"
   },
   {
    "duration": 199,
    "start_time": "2022-06-05T18:20:47.961Z"
   },
   {
    "duration": 26,
    "start_time": "2022-06-05T18:20:48.161Z"
   },
   {
    "duration": 173,
    "start_time": "2022-06-05T18:20:48.189Z"
   },
   {
    "duration": 107,
    "start_time": "2022-06-05T18:20:48.365Z"
   },
   {
    "duration": 3,
    "start_time": "2022-06-05T18:20:48.473Z"
   },
   {
    "duration": 95,
    "start_time": "2022-06-05T18:20:48.478Z"
   },
   {
    "duration": 4,
    "start_time": "2022-06-05T18:20:48.575Z"
   },
   {
    "duration": 10,
    "start_time": "2022-06-05T18:20:48.581Z"
   },
   {
    "duration": 41,
    "start_time": "2022-06-05T18:20:48.592Z"
   },
   {
    "duration": 17,
    "start_time": "2022-06-05T18:20:48.636Z"
   },
   {
    "duration": 14,
    "start_time": "2022-06-05T18:20:48.654Z"
   },
   {
    "duration": 31,
    "start_time": "2022-06-05T18:20:48.670Z"
   },
   {
    "duration": 4,
    "start_time": "2022-06-05T18:20:48.702Z"
   },
   {
    "duration": 24,
    "start_time": "2022-06-05T18:20:48.707Z"
   },
   {
    "duration": 52,
    "start_time": "2022-06-05T18:20:48.733Z"
   },
   {
    "duration": 17,
    "start_time": "2022-06-05T18:20:48.787Z"
   },
   {
    "duration": 32,
    "start_time": "2022-06-05T18:20:48.806Z"
   },
   {
    "duration": 32,
    "start_time": "2022-06-05T18:20:48.840Z"
   },
   {
    "duration": 13,
    "start_time": "2022-06-05T18:20:48.873Z"
   },
   {
    "duration": 39,
    "start_time": "2022-06-05T18:20:48.887Z"
   },
   {
    "duration": 34,
    "start_time": "2022-06-05T18:20:48.929Z"
   },
   {
    "duration": 19,
    "start_time": "2022-06-05T18:20:48.968Z"
   },
   {
    "duration": 8,
    "start_time": "2022-06-05T18:20:48.989Z"
   },
   {
    "duration": 27,
    "start_time": "2022-06-05T18:20:48.999Z"
   },
   {
    "duration": 12,
    "start_time": "2022-06-05T18:20:49.030Z"
   },
   {
    "duration": 16,
    "start_time": "2022-06-05T18:20:49.045Z"
   },
   {
    "duration": 144,
    "start_time": "2022-06-05T18:20:49.062Z"
   },
   {
    "duration": 43,
    "start_time": "2022-06-05T18:20:49.209Z"
   },
   {
    "duration": 218,
    "start_time": "2022-06-05T18:20:49.254Z"
   },
   {
    "duration": 8,
    "start_time": "2022-06-05T18:20:49.473Z"
   },
   {
    "duration": 282,
    "start_time": "2022-06-05T18:20:49.483Z"
   },
   {
    "duration": 8,
    "start_time": "2022-06-05T18:20:49.766Z"
   },
   {
    "duration": 17,
    "start_time": "2022-06-05T18:20:49.775Z"
   },
   {
    "duration": 60,
    "start_time": "2022-06-05T18:20:49.794Z"
   },
   {
    "duration": 24,
    "start_time": "2022-06-05T18:20:49.855Z"
   },
   {
    "duration": 23,
    "start_time": "2022-06-05T18:20:49.881Z"
   },
   {
    "duration": 27,
    "start_time": "2022-06-05T18:20:49.905Z"
   },
   {
    "duration": 24,
    "start_time": "2022-06-05T18:20:49.934Z"
   },
   {
    "duration": 8,
    "start_time": "2022-06-05T18:20:49.960Z"
   },
   {
    "duration": 10,
    "start_time": "2022-06-05T18:20:49.970Z"
   },
   {
    "duration": 7,
    "start_time": "2022-06-05T18:20:49.982Z"
   },
   {
    "duration": 405,
    "start_time": "2022-06-05T18:20:49.990Z"
   },
   {
    "duration": 761,
    "start_time": "2022-06-05T18:20:50.396Z"
   },
   {
    "duration": 418,
    "start_time": "2022-06-05T18:20:51.159Z"
   },
   {
    "duration": 705,
    "start_time": "2022-06-05T18:20:51.579Z"
   },
   {
    "duration": 587,
    "start_time": "2022-06-05T18:20:52.286Z"
   },
   {
    "duration": 421,
    "start_time": "2022-06-05T18:20:52.875Z"
   },
   {
    "duration": 6,
    "start_time": "2022-06-05T18:20:53.298Z"
   },
   {
    "duration": 34,
    "start_time": "2022-06-05T18:20:53.305Z"
   },
   {
    "duration": 16,
    "start_time": "2022-06-05T18:20:53.342Z"
   },
   {
    "duration": 9,
    "start_time": "2022-06-05T18:20:53.360Z"
   },
   {
    "duration": 7,
    "start_time": "2022-06-05T18:20:53.370Z"
   },
   {
    "duration": 9,
    "start_time": "2022-06-05T18:20:53.378Z"
   },
   {
    "duration": 6,
    "start_time": "2022-06-05T18:21:48.972Z"
   },
   {
    "duration": 1431,
    "start_time": "2022-06-05T18:33:02.287Z"
   },
   {
    "duration": 4,
    "start_time": "2022-06-05T18:33:03.720Z"
   },
   {
    "duration": 5,
    "start_time": "2022-06-05T18:33:03.725Z"
   },
   {
    "duration": 61,
    "start_time": "2022-06-05T18:33:03.732Z"
   },
   {
    "duration": 179,
    "start_time": "2022-06-05T18:33:03.794Z"
   },
   {
    "duration": 106,
    "start_time": "2022-06-05T18:33:03.975Z"
   },
   {
    "duration": 161,
    "start_time": "2022-06-05T18:33:04.082Z"
   },
   {
    "duration": 25,
    "start_time": "2022-06-05T18:33:04.245Z"
   },
   {
    "duration": 153,
    "start_time": "2022-06-05T18:33:04.272Z"
   },
   {
    "duration": 106,
    "start_time": "2022-06-05T18:33:04.429Z"
   },
   {
    "duration": 4,
    "start_time": "2022-06-05T18:33:04.536Z"
   },
   {
    "duration": 88,
    "start_time": "2022-06-05T18:33:04.541Z"
   },
   {
    "duration": 4,
    "start_time": "2022-06-05T18:33:04.630Z"
   },
   {
    "duration": 15,
    "start_time": "2022-06-05T18:33:04.635Z"
   },
   {
    "duration": 33,
    "start_time": "2022-06-05T18:33:04.651Z"
   },
   {
    "duration": 3,
    "start_time": "2022-06-05T18:33:04.686Z"
   },
   {
    "duration": 11,
    "start_time": "2022-06-05T18:33:04.691Z"
   },
   {
    "duration": 40,
    "start_time": "2022-06-05T18:33:04.703Z"
   },
   {
    "duration": 3,
    "start_time": "2022-06-05T18:33:04.745Z"
   },
   {
    "duration": 9,
    "start_time": "2022-06-05T18:33:04.749Z"
   },
   {
    "duration": 17,
    "start_time": "2022-06-05T18:33:04.760Z"
   },
   {
    "duration": 18,
    "start_time": "2022-06-05T18:33:04.779Z"
   },
   {
    "duration": 49,
    "start_time": "2022-06-05T18:33:04.798Z"
   },
   {
    "duration": 27,
    "start_time": "2022-06-05T18:33:04.849Z"
   },
   {
    "duration": 12,
    "start_time": "2022-06-05T18:33:04.878Z"
   },
   {
    "duration": 48,
    "start_time": "2022-06-05T18:33:04.892Z"
   },
   {
    "duration": 26,
    "start_time": "2022-06-05T18:33:04.943Z"
   },
   {
    "duration": 18,
    "start_time": "2022-06-05T18:33:04.973Z"
   },
   {
    "duration": 31,
    "start_time": "2022-06-05T18:33:04.993Z"
   },
   {
    "duration": 12,
    "start_time": "2022-06-05T18:33:05.026Z"
   },
   {
    "duration": 3,
    "start_time": "2022-06-05T18:33:05.040Z"
   },
   {
    "duration": 15,
    "start_time": "2022-06-05T18:33:05.045Z"
   },
   {
    "duration": 139,
    "start_time": "2022-06-05T18:33:05.061Z"
   },
   {
    "duration": 32,
    "start_time": "2022-06-05T18:33:05.203Z"
   },
   {
    "duration": 192,
    "start_time": "2022-06-05T18:33:05.237Z"
   },
   {
    "duration": 8,
    "start_time": "2022-06-05T18:33:05.430Z"
   },
   {
    "duration": 243,
    "start_time": "2022-06-05T18:33:05.440Z"
   },
   {
    "duration": 8,
    "start_time": "2022-06-05T18:33:05.684Z"
   },
   {
    "duration": 30,
    "start_time": "2022-06-05T18:33:05.694Z"
   },
   {
    "duration": 41,
    "start_time": "2022-06-05T18:33:05.726Z"
   },
   {
    "duration": 26,
    "start_time": "2022-06-05T18:33:05.769Z"
   },
   {
    "duration": 31,
    "start_time": "2022-06-05T18:33:05.796Z"
   },
   {
    "duration": 5,
    "start_time": "2022-06-05T18:33:05.829Z"
   },
   {
    "duration": 15,
    "start_time": "2022-06-05T18:33:05.835Z"
   },
   {
    "duration": 9,
    "start_time": "2022-06-05T18:33:05.851Z"
   },
   {
    "duration": 11,
    "start_time": "2022-06-05T18:33:05.861Z"
   },
   {
    "duration": 17,
    "start_time": "2022-06-05T18:33:05.874Z"
   },
   {
    "duration": 364,
    "start_time": "2022-06-05T18:33:05.893Z"
   },
   {
    "duration": 652,
    "start_time": "2022-06-05T18:33:06.258Z"
   },
   {
    "duration": 374,
    "start_time": "2022-06-05T18:33:06.912Z"
   },
   {
    "duration": 591,
    "start_time": "2022-06-05T18:33:07.288Z"
   },
   {
    "duration": 498,
    "start_time": "2022-06-05T18:33:07.881Z"
   },
   {
    "duration": 346,
    "start_time": "2022-06-05T18:33:08.381Z"
   },
   {
    "duration": 6,
    "start_time": "2022-06-05T18:33:08.729Z"
   },
   {
    "duration": 15,
    "start_time": "2022-06-05T18:33:08.736Z"
   },
   {
    "duration": 5,
    "start_time": "2022-06-05T18:33:08.752Z"
   },
   {
    "duration": 10,
    "start_time": "2022-06-05T18:33:08.759Z"
   },
   {
    "duration": 6,
    "start_time": "2022-06-05T18:33:08.771Z"
   },
   {
    "duration": 10,
    "start_time": "2022-06-05T18:33:08.779Z"
   },
   {
    "duration": 1400,
    "start_time": "2022-06-05T18:33:49.906Z"
   },
   {
    "duration": 2,
    "start_time": "2022-06-05T18:33:51.308Z"
   },
   {
    "duration": 19,
    "start_time": "2022-06-05T18:33:51.312Z"
   },
   {
    "duration": 67,
    "start_time": "2022-06-05T18:33:51.333Z"
   },
   {
    "duration": 177,
    "start_time": "2022-06-05T18:33:51.401Z"
   },
   {
    "duration": 108,
    "start_time": "2022-06-05T18:33:51.580Z"
   },
   {
    "duration": 179,
    "start_time": "2022-06-05T18:33:51.689Z"
   },
   {
    "duration": 27,
    "start_time": "2022-06-05T18:33:51.870Z"
   },
   {
    "duration": 143,
    "start_time": "2022-06-05T18:33:51.899Z"
   },
   {
    "duration": 122,
    "start_time": "2022-06-05T18:33:52.046Z"
   },
   {
    "duration": 3,
    "start_time": "2022-06-05T18:33:52.169Z"
   },
   {
    "duration": 90,
    "start_time": "2022-06-05T18:33:52.174Z"
   },
   {
    "duration": 5,
    "start_time": "2022-06-05T18:33:52.266Z"
   },
   {
    "duration": 9,
    "start_time": "2022-06-05T18:33:52.273Z"
   },
   {
    "duration": 52,
    "start_time": "2022-06-05T18:33:52.283Z"
   },
   {
    "duration": 5,
    "start_time": "2022-06-05T18:33:52.338Z"
   },
   {
    "duration": 14,
    "start_time": "2022-06-05T18:33:52.344Z"
   },
   {
    "duration": 43,
    "start_time": "2022-06-05T18:33:52.360Z"
   },
   {
    "duration": 20,
    "start_time": "2022-06-05T18:33:52.405Z"
   },
   {
    "duration": 15,
    "start_time": "2022-06-05T18:33:52.427Z"
   },
   {
    "duration": 24,
    "start_time": "2022-06-05T18:33:52.444Z"
   },
   {
    "duration": 20,
    "start_time": "2022-06-05T18:33:52.470Z"
   },
   {
    "duration": 64,
    "start_time": "2022-06-05T18:33:52.491Z"
   },
   {
    "duration": 44,
    "start_time": "2022-06-05T18:33:52.557Z"
   },
   {
    "duration": 34,
    "start_time": "2022-06-05T18:33:52.603Z"
   },
   {
    "duration": 29,
    "start_time": "2022-06-05T18:33:52.639Z"
   },
   {
    "duration": 40,
    "start_time": "2022-06-05T18:33:52.669Z"
   },
   {
    "duration": 31,
    "start_time": "2022-06-05T18:33:52.713Z"
   },
   {
    "duration": 16,
    "start_time": "2022-06-05T18:33:52.745Z"
   },
   {
    "duration": 22,
    "start_time": "2022-06-05T18:33:52.763Z"
   },
   {
    "duration": 4,
    "start_time": "2022-06-05T18:33:52.787Z"
   },
   {
    "duration": 30,
    "start_time": "2022-06-05T18:33:52.793Z"
   },
   {
    "duration": 156,
    "start_time": "2022-06-05T18:33:52.826Z"
   },
   {
    "duration": 24,
    "start_time": "2022-06-05T18:33:52.983Z"
   },
   {
    "duration": 203,
    "start_time": "2022-06-05T18:33:53.008Z"
   },
   {
    "duration": 16,
    "start_time": "2022-06-05T18:33:53.213Z"
   },
   {
    "duration": 235,
    "start_time": "2022-06-05T18:33:53.231Z"
   },
   {
    "duration": 8,
    "start_time": "2022-06-05T18:33:53.467Z"
   },
   {
    "duration": 20,
    "start_time": "2022-06-05T18:33:53.477Z"
   },
   {
    "duration": 45,
    "start_time": "2022-06-05T18:33:53.499Z"
   },
   {
    "duration": 26,
    "start_time": "2022-06-05T18:33:53.546Z"
   },
   {
    "duration": 50,
    "start_time": "2022-06-05T18:33:53.574Z"
   },
   {
    "duration": 7,
    "start_time": "2022-06-05T18:33:53.626Z"
   },
   {
    "duration": 8,
    "start_time": "2022-06-05T18:33:53.634Z"
   },
   {
    "duration": 9,
    "start_time": "2022-06-05T18:33:53.643Z"
   },
   {
    "duration": 7,
    "start_time": "2022-06-05T18:33:53.654Z"
   },
   {
    "duration": 7,
    "start_time": "2022-06-05T18:33:53.663Z"
   },
   {
    "duration": 382,
    "start_time": "2022-06-05T18:33:53.672Z"
   },
   {
    "duration": 697,
    "start_time": "2022-06-05T18:33:54.056Z"
   },
   {
    "duration": 368,
    "start_time": "2022-06-05T18:33:54.755Z"
   },
   {
    "duration": 615,
    "start_time": "2022-06-05T18:33:55.125Z"
   },
   {
    "duration": 451,
    "start_time": "2022-06-05T18:33:55.742Z"
   },
   {
    "duration": 390,
    "start_time": "2022-06-05T18:33:56.195Z"
   },
   {
    "duration": 6,
    "start_time": "2022-06-05T18:33:56.587Z"
   },
   {
    "duration": 29,
    "start_time": "2022-06-05T18:33:56.595Z"
   },
   {
    "duration": 6,
    "start_time": "2022-06-05T18:33:56.626Z"
   },
   {
    "duration": 10,
    "start_time": "2022-06-05T18:33:56.633Z"
   },
   {
    "duration": 7,
    "start_time": "2022-06-05T18:33:56.644Z"
   },
   {
    "duration": 11,
    "start_time": "2022-06-05T18:33:56.652Z"
   },
   {
    "duration": 654,
    "start_time": "2022-06-05T18:47:42.240Z"
   },
   {
    "duration": 789,
    "start_time": "2022-06-05T18:47:58.095Z"
   },
   {
    "duration": 631,
    "start_time": "2022-06-05T18:49:49.498Z"
   },
   {
    "duration": 384,
    "start_time": "2022-06-05T18:52:43.556Z"
   },
   {
    "duration": 246,
    "start_time": "2022-06-05T18:53:05.437Z"
   },
   {
    "duration": 253,
    "start_time": "2022-06-05T18:58:16.044Z"
   },
   {
    "duration": 624,
    "start_time": "2022-06-05T19:01:19.647Z"
   },
   {
    "duration": 751,
    "start_time": "2022-06-05T19:02:05.221Z"
   },
   {
    "duration": 749,
    "start_time": "2022-06-05T19:02:26.571Z"
   },
   {
    "duration": 19,
    "start_time": "2022-06-05T19:03:39.724Z"
   },
   {
    "duration": 23,
    "start_time": "2022-06-05T19:04:16.344Z"
   },
   {
    "duration": 22,
    "start_time": "2022-06-05T19:04:59.763Z"
   },
   {
    "duration": 28,
    "start_time": "2022-06-05T19:05:20.483Z"
   },
   {
    "duration": 12,
    "start_time": "2022-06-05T19:07:20.476Z"
   },
   {
    "duration": 8,
    "start_time": "2022-06-05T19:07:35.293Z"
   },
   {
    "duration": 33,
    "start_time": "2022-06-05T19:08:12.781Z"
   },
   {
    "duration": 4,
    "start_time": "2022-06-05T19:13:12.718Z"
   },
   {
    "duration": 17,
    "start_time": "2022-06-05T19:21:11.717Z"
   },
   {
    "duration": 15,
    "start_time": "2022-06-05T19:21:40.922Z"
   },
   {
    "duration": 593,
    "start_time": "2022-06-05T19:23:18.775Z"
   },
   {
    "duration": 512,
    "start_time": "2022-06-05T19:31:57.185Z"
   },
   {
    "duration": 27,
    "start_time": "2022-06-05T19:32:04.257Z"
   },
   {
    "duration": 14,
    "start_time": "2022-06-05T19:33:20.807Z"
   },
   {
    "duration": 18,
    "start_time": "2022-06-05T19:34:25.294Z"
   },
   {
    "duration": 1595,
    "start_time": "2022-06-05T19:37:15.351Z"
   },
   {
    "duration": 4,
    "start_time": "2022-06-05T19:37:16.952Z"
   },
   {
    "duration": 20,
    "start_time": "2022-06-05T19:37:16.958Z"
   },
   {
    "duration": 74,
    "start_time": "2022-06-05T19:37:16.982Z"
   },
   {
    "duration": 236,
    "start_time": "2022-06-05T19:37:17.068Z"
   },
   {
    "duration": 153,
    "start_time": "2022-06-05T19:37:17.305Z"
   },
   {
    "duration": 291,
    "start_time": "2022-06-05T19:37:17.462Z"
   },
   {
    "duration": 44,
    "start_time": "2022-06-05T19:37:17.755Z"
   },
   {
    "duration": 235,
    "start_time": "2022-06-05T19:37:17.801Z"
   },
   {
    "duration": 139,
    "start_time": "2022-06-05T19:37:18.040Z"
   },
   {
    "duration": 5,
    "start_time": "2022-06-05T19:37:18.181Z"
   },
   {
    "duration": 89,
    "start_time": "2022-06-05T19:37:18.187Z"
   },
   {
    "duration": 6,
    "start_time": "2022-06-05T19:37:18.278Z"
   },
   {
    "duration": 14,
    "start_time": "2022-06-05T19:37:18.285Z"
   },
   {
    "duration": 72,
    "start_time": "2022-06-05T19:37:18.300Z"
   },
   {
    "duration": 5,
    "start_time": "2022-06-05T19:37:18.374Z"
   },
   {
    "duration": 13,
    "start_time": "2022-06-05T19:37:18.380Z"
   },
   {
    "duration": 51,
    "start_time": "2022-06-05T19:37:18.395Z"
   },
   {
    "duration": 6,
    "start_time": "2022-06-05T19:37:18.447Z"
   },
   {
    "duration": 29,
    "start_time": "2022-06-05T19:37:18.454Z"
   },
   {
    "duration": 20,
    "start_time": "2022-06-05T19:37:18.485Z"
   },
   {
    "duration": 28,
    "start_time": "2022-06-05T19:37:18.507Z"
   },
   {
    "duration": 65,
    "start_time": "2022-06-05T19:37:18.537Z"
   },
   {
    "duration": 49,
    "start_time": "2022-06-05T19:37:18.605Z"
   },
   {
    "duration": 16,
    "start_time": "2022-06-05T19:37:18.662Z"
   },
   {
    "duration": 32,
    "start_time": "2022-06-05T19:37:18.680Z"
   },
   {
    "duration": 28,
    "start_time": "2022-06-05T19:37:18.714Z"
   },
   {
    "duration": 63,
    "start_time": "2022-06-05T19:37:18.745Z"
   },
   {
    "duration": 13,
    "start_time": "2022-06-05T19:37:18.811Z"
   },
   {
    "duration": 55,
    "start_time": "2022-06-05T19:37:18.830Z"
   },
   {
    "duration": 7,
    "start_time": "2022-06-05T19:37:18.887Z"
   },
   {
    "duration": 8,
    "start_time": "2022-06-05T19:37:18.896Z"
   },
   {
    "duration": 232,
    "start_time": "2022-06-05T19:37:18.906Z"
   },
   {
    "duration": 40,
    "start_time": "2022-06-05T19:37:19.140Z"
   },
   {
    "duration": 351,
    "start_time": "2022-06-05T19:37:19.182Z"
   },
   {
    "duration": 26,
    "start_time": "2022-06-05T19:37:19.538Z"
   },
   {
    "duration": 308,
    "start_time": "2022-06-05T19:37:19.569Z"
   },
   {
    "duration": 11,
    "start_time": "2022-06-05T19:37:19.883Z"
   },
   {
    "duration": 17,
    "start_time": "2022-06-05T19:37:19.896Z"
   },
   {
    "duration": 37,
    "start_time": "2022-06-05T19:37:19.931Z"
   },
   {
    "duration": 41,
    "start_time": "2022-06-05T19:37:19.973Z"
   },
   {
    "duration": 36,
    "start_time": "2022-06-05T19:37:20.016Z"
   },
   {
    "duration": 38,
    "start_time": "2022-06-05T19:37:20.053Z"
   },
   {
    "duration": 10,
    "start_time": "2022-06-05T19:37:20.092Z"
   },
   {
    "duration": 10,
    "start_time": "2022-06-05T19:37:20.103Z"
   },
   {
    "duration": 50,
    "start_time": "2022-06-05T19:37:20.115Z"
   },
   {
    "duration": 43,
    "start_time": "2022-06-05T19:37:20.169Z"
   },
   {
    "duration": 570,
    "start_time": "2022-06-05T19:37:20.215Z"
   },
   {
    "duration": 908,
    "start_time": "2022-06-05T19:37:20.787Z"
   },
   {
    "duration": 683,
    "start_time": "2022-06-05T19:37:21.698Z"
   },
   {
    "duration": 935,
    "start_time": "2022-06-05T19:37:22.383Z"
   },
   {
    "duration": 439,
    "start_time": "2022-06-05T19:37:23.321Z"
   },
   {
    "duration": 689,
    "start_time": "2022-06-05T19:37:23.765Z"
   },
   {
    "duration": 24,
    "start_time": "2022-06-05T19:37:24.455Z"
   },
   {
    "duration": 13,
    "start_time": "2022-06-05T19:37:24.487Z"
   },
   {
    "duration": 459,
    "start_time": "2022-06-05T19:37:24.502Z"
   },
   {
    "duration": 15,
    "start_time": "2022-06-05T19:37:24.963Z"
   },
   {
    "duration": 11,
    "start_time": "2022-06-05T19:37:24.979Z"
   },
   {
    "duration": 16,
    "start_time": "2022-06-05T19:37:24.993Z"
   },
   {
    "duration": 28,
    "start_time": "2022-06-05T19:37:25.011Z"
   },
   {
    "duration": 45,
    "start_time": "2022-06-05T19:37:25.042Z"
   },
   {
    "duration": 8,
    "start_time": "2022-06-05T19:37:25.089Z"
   },
   {
    "duration": 9,
    "start_time": "2022-06-05T19:37:25.099Z"
   },
   {
    "duration": 962,
    "start_time": "2022-06-05T19:41:18.409Z"
   },
   {
    "duration": 979,
    "start_time": "2022-06-05T19:41:25.530Z"
   },
   {
    "duration": 947,
    "start_time": "2022-06-05T19:44:35.158Z"
   },
   {
    "duration": 23,
    "start_time": "2022-06-05T19:47:11.803Z"
   },
   {
    "duration": 12,
    "start_time": "2022-06-05T19:50:02.201Z"
   },
   {
    "duration": 11,
    "start_time": "2022-06-05T19:50:11.860Z"
   },
   {
    "duration": 1589,
    "start_time": "2022-06-05T20:03:15.350Z"
   },
   {
    "duration": 3,
    "start_time": "2022-06-05T20:03:16.944Z"
   },
   {
    "duration": 15,
    "start_time": "2022-06-05T20:03:16.952Z"
   },
   {
    "duration": 78,
    "start_time": "2022-06-05T20:03:16.968Z"
   },
   {
    "duration": 219,
    "start_time": "2022-06-05T20:03:17.055Z"
   },
   {
    "duration": 132,
    "start_time": "2022-06-05T20:03:17.276Z"
   },
   {
    "duration": 214,
    "start_time": "2022-06-05T20:03:17.410Z"
   },
   {
    "duration": 61,
    "start_time": "2022-06-05T20:03:17.631Z"
   },
   {
    "duration": 186,
    "start_time": "2022-06-05T20:03:17.694Z"
   },
   {
    "duration": 133,
    "start_time": "2022-06-05T20:03:17.881Z"
   },
   {
    "duration": 8,
    "start_time": "2022-06-05T20:03:18.029Z"
   },
   {
    "duration": 119,
    "start_time": "2022-06-05T20:03:18.038Z"
   },
   {
    "duration": 6,
    "start_time": "2022-06-05T20:03:18.160Z"
   },
   {
    "duration": 15,
    "start_time": "2022-06-05T20:03:18.169Z"
   },
   {
    "duration": 61,
    "start_time": "2022-06-05T20:03:18.186Z"
   },
   {
    "duration": 8,
    "start_time": "2022-06-05T20:03:18.255Z"
   },
   {
    "duration": 17,
    "start_time": "2022-06-05T20:03:18.265Z"
   },
   {
    "duration": 50,
    "start_time": "2022-06-05T20:03:18.284Z"
   },
   {
    "duration": 10,
    "start_time": "2022-06-05T20:03:18.337Z"
   },
   {
    "duration": 24,
    "start_time": "2022-06-05T20:03:18.350Z"
   },
   {
    "duration": 22,
    "start_time": "2022-06-05T20:03:18.376Z"
   },
   {
    "duration": 20,
    "start_time": "2022-06-05T20:03:18.400Z"
   },
   {
    "duration": 47,
    "start_time": "2022-06-05T20:03:18.433Z"
   },
   {
    "duration": 31,
    "start_time": "2022-06-05T20:03:18.482Z"
   },
   {
    "duration": 49,
    "start_time": "2022-06-05T20:03:18.515Z"
   },
   {
    "duration": 31,
    "start_time": "2022-06-05T20:03:18.566Z"
   },
   {
    "duration": 21,
    "start_time": "2022-06-05T20:03:18.599Z"
   },
   {
    "duration": 38,
    "start_time": "2022-06-05T20:03:18.621Z"
   },
   {
    "duration": 11,
    "start_time": "2022-06-05T20:03:18.664Z"
   },
   {
    "duration": 25,
    "start_time": "2022-06-05T20:03:18.678Z"
   },
   {
    "duration": 7,
    "start_time": "2022-06-05T20:03:18.706Z"
   },
   {
    "duration": 8,
    "start_time": "2022-06-05T20:03:18.728Z"
   },
   {
    "duration": 238,
    "start_time": "2022-06-05T20:03:18.741Z"
   },
   {
    "duration": 29,
    "start_time": "2022-06-05T20:03:18.980Z"
   },
   {
    "duration": 297,
    "start_time": "2022-06-05T20:03:19.011Z"
   },
   {
    "duration": 32,
    "start_time": "2022-06-05T20:03:19.310Z"
   },
   {
    "duration": 318,
    "start_time": "2022-06-05T20:03:19.344Z"
   },
   {
    "duration": 9,
    "start_time": "2022-06-05T20:03:19.663Z"
   },
   {
    "duration": 18,
    "start_time": "2022-06-05T20:03:19.674Z"
   },
   {
    "duration": 59,
    "start_time": "2022-06-05T20:03:19.694Z"
   },
   {
    "duration": 50,
    "start_time": "2022-06-05T20:03:19.766Z"
   },
   {
    "duration": 45,
    "start_time": "2022-06-05T20:03:19.818Z"
   },
   {
    "duration": 9,
    "start_time": "2022-06-05T20:03:19.865Z"
   },
   {
    "duration": 8,
    "start_time": "2022-06-05T20:03:19.876Z"
   },
   {
    "duration": 10,
    "start_time": "2022-06-05T20:03:19.885Z"
   },
   {
    "duration": 31,
    "start_time": "2022-06-05T20:03:19.896Z"
   },
   {
    "duration": 47,
    "start_time": "2022-06-05T20:03:19.931Z"
   },
   {
    "duration": 529,
    "start_time": "2022-06-05T20:03:19.980Z"
   },
   {
    "duration": 832,
    "start_time": "2022-06-05T20:03:20.511Z"
   },
   {
    "duration": 437,
    "start_time": "2022-06-05T20:03:21.358Z"
   },
   {
    "duration": 881,
    "start_time": "2022-06-05T20:03:21.797Z"
   },
   {
    "duration": 557,
    "start_time": "2022-06-05T20:03:22.680Z"
   },
   {
    "duration": 544,
    "start_time": "2022-06-05T20:03:23.240Z"
   },
   {
    "duration": 18,
    "start_time": "2022-06-05T20:03:23.786Z"
   },
   {
    "duration": 32,
    "start_time": "2022-06-05T20:03:23.807Z"
   },
   {
    "duration": 454,
    "start_time": "2022-06-05T20:03:23.841Z"
   },
   {
    "duration": 971,
    "start_time": "2022-06-05T20:03:24.298Z"
   },
   {
    "duration": 27,
    "start_time": "2022-06-05T20:03:25.272Z"
   },
   {
    "duration": 21,
    "start_time": "2022-06-05T20:03:25.328Z"
   },
   {
    "duration": 50,
    "start_time": "2022-06-05T20:03:25.353Z"
   },
   {
    "duration": 17,
    "start_time": "2022-06-05T20:03:25.406Z"
   },
   {
    "duration": 17,
    "start_time": "2022-06-05T20:03:25.425Z"
   },
   {
    "duration": 18,
    "start_time": "2022-06-05T20:03:25.454Z"
   },
   {
    "duration": 7,
    "start_time": "2022-06-05T20:03:25.474Z"
   },
   {
    "duration": 13,
    "start_time": "2022-06-05T20:03:25.483Z"
   },
   {
    "duration": 1267,
    "start_time": "2022-06-05T21:09:11.478Z"
   },
   {
    "duration": 3,
    "start_time": "2022-06-05T21:09:12.747Z"
   },
   {
    "duration": 8,
    "start_time": "2022-06-05T21:09:12.751Z"
   },
   {
    "duration": 104,
    "start_time": "2022-06-05T21:09:12.760Z"
   },
   {
    "duration": 222,
    "start_time": "2022-06-05T21:09:12.865Z"
   },
   {
    "duration": 282,
    "start_time": "2022-06-05T21:09:13.089Z"
   },
   {
    "duration": 298,
    "start_time": "2022-06-05T21:09:13.373Z"
   },
   {
    "duration": 67,
    "start_time": "2022-06-05T21:09:13.672Z"
   },
   {
    "duration": 119,
    "start_time": "2022-06-05T21:09:13.741Z"
   },
   {
    "duration": 98,
    "start_time": "2022-06-05T21:09:13.861Z"
   },
   {
    "duration": 3,
    "start_time": "2022-06-05T21:09:13.961Z"
   },
   {
    "duration": 72,
    "start_time": "2022-06-05T21:09:13.965Z"
   },
   {
    "duration": 3,
    "start_time": "2022-06-05T21:09:14.039Z"
   },
   {
    "duration": 7,
    "start_time": "2022-06-05T21:09:14.053Z"
   },
   {
    "duration": 35,
    "start_time": "2022-06-05T21:09:14.061Z"
   },
   {
    "duration": 4,
    "start_time": "2022-06-05T21:09:14.097Z"
   },
   {
    "duration": 14,
    "start_time": "2022-06-05T21:09:14.103Z"
   },
   {
    "duration": 44,
    "start_time": "2022-06-05T21:09:14.118Z"
   },
   {
    "duration": 4,
    "start_time": "2022-06-05T21:09:14.163Z"
   },
   {
    "duration": 9,
    "start_time": "2022-06-05T21:09:14.168Z"
   },
   {
    "duration": 16,
    "start_time": "2022-06-05T21:09:14.179Z"
   },
   {
    "duration": 17,
    "start_time": "2022-06-05T21:09:14.197Z"
   },
   {
    "duration": 55,
    "start_time": "2022-06-05T21:09:14.215Z"
   },
   {
    "duration": 27,
    "start_time": "2022-06-05T21:09:14.271Z"
   },
   {
    "duration": 12,
    "start_time": "2022-06-05T21:09:14.300Z"
   },
   {
    "duration": 40,
    "start_time": "2022-06-05T21:09:14.313Z"
   },
   {
    "duration": 17,
    "start_time": "2022-06-05T21:09:14.354Z"
   },
   {
    "duration": 15,
    "start_time": "2022-06-05T21:09:14.373Z"
   },
   {
    "duration": 17,
    "start_time": "2022-06-05T21:09:14.390Z"
   },
   {
    "duration": 13,
    "start_time": "2022-06-05T21:09:14.408Z"
   },
   {
    "duration": 5,
    "start_time": "2022-06-05T21:09:14.422Z"
   },
   {
    "duration": 24,
    "start_time": "2022-06-05T21:09:14.428Z"
   },
   {
    "duration": 130,
    "start_time": "2022-06-05T21:09:14.453Z"
   },
   {
    "duration": 22,
    "start_time": "2022-06-05T21:09:14.585Z"
   },
   {
    "duration": 198,
    "start_time": "2022-06-05T21:09:14.609Z"
   },
   {
    "duration": 8,
    "start_time": "2022-06-05T21:09:14.809Z"
   },
   {
    "duration": 246,
    "start_time": "2022-06-05T21:09:14.818Z"
   },
   {
    "duration": 7,
    "start_time": "2022-06-05T21:09:15.066Z"
   },
   {
    "duration": 18,
    "start_time": "2022-06-05T21:09:15.074Z"
   },
   {
    "duration": 32,
    "start_time": "2022-06-05T21:09:15.094Z"
   },
   {
    "duration": 38,
    "start_time": "2022-06-05T21:09:15.131Z"
   },
   {
    "duration": 23,
    "start_time": "2022-06-05T21:09:15.171Z"
   },
   {
    "duration": 5,
    "start_time": "2022-06-05T21:09:15.196Z"
   },
   {
    "duration": 8,
    "start_time": "2022-06-05T21:09:15.203Z"
   },
   {
    "duration": 26,
    "start_time": "2022-06-05T21:09:15.212Z"
   },
   {
    "duration": 8,
    "start_time": "2022-06-05T21:09:15.253Z"
   },
   {
    "duration": 12,
    "start_time": "2022-06-05T21:09:15.262Z"
   },
   {
    "duration": 408,
    "start_time": "2022-06-05T21:09:15.276Z"
   },
   {
    "duration": 696,
    "start_time": "2022-06-05T21:09:15.685Z"
   },
   {
    "duration": 373,
    "start_time": "2022-06-05T21:09:16.382Z"
   },
   {
    "duration": 643,
    "start_time": "2022-06-05T21:09:16.757Z"
   },
   {
    "duration": 316,
    "start_time": "2022-06-05T21:09:17.401Z"
   },
   {
    "duration": 450,
    "start_time": "2022-06-05T21:09:17.719Z"
   },
   {
    "duration": 13,
    "start_time": "2022-06-05T21:09:18.171Z"
   },
   {
    "duration": 9,
    "start_time": "2022-06-05T21:09:18.186Z"
   },
   {
    "duration": 356,
    "start_time": "2022-06-05T21:09:18.196Z"
   },
   {
    "duration": 796,
    "start_time": "2022-06-05T21:09:18.553Z"
   },
   {
    "duration": 20,
    "start_time": "2022-06-05T21:09:19.351Z"
   },
   {
    "duration": 9,
    "start_time": "2022-06-05T21:09:19.372Z"
   },
   {
    "duration": 13,
    "start_time": "2022-06-05T21:09:19.383Z"
   },
   {
    "duration": 19,
    "start_time": "2022-06-05T21:09:19.397Z"
   },
   {
    "duration": 6,
    "start_time": "2022-06-05T21:09:19.418Z"
   },
   {
    "duration": 32,
    "start_time": "2022-06-05T21:09:19.425Z"
   },
   {
    "duration": 9,
    "start_time": "2022-06-05T21:09:19.459Z"
   },
   {
    "duration": 17,
    "start_time": "2022-06-05T21:09:19.470Z"
   },
   {
    "duration": 1396,
    "start_time": "2022-06-05T21:10:19.942Z"
   },
   {
    "duration": 3,
    "start_time": "2022-06-05T21:10:21.340Z"
   },
   {
    "duration": 8,
    "start_time": "2022-06-05T21:10:21.344Z"
   },
   {
    "duration": 64,
    "start_time": "2022-06-05T21:10:21.354Z"
   },
   {
    "duration": 159,
    "start_time": "2022-06-05T21:10:21.420Z"
   },
   {
    "duration": 96,
    "start_time": "2022-06-05T21:10:21.581Z"
   },
   {
    "duration": 140,
    "start_time": "2022-06-05T21:10:21.678Z"
   },
   {
    "duration": 25,
    "start_time": "2022-06-05T21:10:21.820Z"
   },
   {
    "duration": 127,
    "start_time": "2022-06-05T21:10:21.847Z"
   },
   {
    "duration": 101,
    "start_time": "2022-06-05T21:10:21.976Z"
   },
   {
    "duration": 3,
    "start_time": "2022-06-05T21:10:22.078Z"
   },
   {
    "duration": 74,
    "start_time": "2022-06-05T21:10:22.082Z"
   },
   {
    "duration": 4,
    "start_time": "2022-06-05T21:10:22.158Z"
   },
   {
    "duration": 10,
    "start_time": "2022-06-05T21:10:22.164Z"
   },
   {
    "duration": 31,
    "start_time": "2022-06-05T21:10:22.175Z"
   },
   {
    "duration": 4,
    "start_time": "2022-06-05T21:10:22.207Z"
   },
   {
    "duration": 9,
    "start_time": "2022-06-05T21:10:22.213Z"
   },
   {
    "duration": 26,
    "start_time": "2022-06-05T21:10:22.252Z"
   },
   {
    "duration": 4,
    "start_time": "2022-06-05T21:10:22.280Z"
   },
   {
    "duration": 8,
    "start_time": "2022-06-05T21:10:22.286Z"
   },
   {
    "duration": 17,
    "start_time": "2022-06-05T21:10:22.296Z"
   },
   {
    "duration": 48,
    "start_time": "2022-06-05T21:10:22.315Z"
   },
   {
    "duration": 27,
    "start_time": "2022-06-05T21:10:22.365Z"
   },
   {
    "duration": 27,
    "start_time": "2022-06-05T21:10:22.394Z"
   },
   {
    "duration": 37,
    "start_time": "2022-06-05T21:10:22.422Z"
   },
   {
    "duration": 19,
    "start_time": "2022-06-05T21:10:22.461Z"
   },
   {
    "duration": 22,
    "start_time": "2022-06-05T21:10:22.481Z"
   },
   {
    "duration": 19,
    "start_time": "2022-06-05T21:10:22.506Z"
   },
   {
    "duration": 8,
    "start_time": "2022-06-05T21:10:22.552Z"
   },
   {
    "duration": 17,
    "start_time": "2022-06-05T21:10:22.562Z"
   },
   {
    "duration": 3,
    "start_time": "2022-06-05T21:10:22.581Z"
   },
   {
    "duration": 12,
    "start_time": "2022-06-05T21:10:22.586Z"
   },
   {
    "duration": 150,
    "start_time": "2022-06-05T21:10:22.599Z"
   },
   {
    "duration": 22,
    "start_time": "2022-06-05T21:10:22.752Z"
   },
   {
    "duration": 192,
    "start_time": "2022-06-05T21:10:22.776Z"
   },
   {
    "duration": 8,
    "start_time": "2022-06-05T21:10:22.970Z"
   },
   {
    "duration": 237,
    "start_time": "2022-06-05T21:10:22.979Z"
   },
   {
    "duration": 7,
    "start_time": "2022-06-05T21:10:23.217Z"
   },
   {
    "duration": 28,
    "start_time": "2022-06-05T21:10:23.225Z"
   },
   {
    "duration": 23,
    "start_time": "2022-06-05T21:10:23.254Z"
   },
   {
    "duration": 24,
    "start_time": "2022-06-05T21:10:23.279Z"
   },
   {
    "duration": 21,
    "start_time": "2022-06-05T21:10:23.304Z"
   },
   {
    "duration": 28,
    "start_time": "2022-06-05T21:10:23.326Z"
   },
   {
    "duration": 7,
    "start_time": "2022-06-05T21:10:23.355Z"
   },
   {
    "duration": 6,
    "start_time": "2022-06-05T21:10:23.364Z"
   },
   {
    "duration": 5,
    "start_time": "2022-06-05T21:10:23.372Z"
   },
   {
    "duration": 7,
    "start_time": "2022-06-05T21:10:23.379Z"
   },
   {
    "duration": 358,
    "start_time": "2022-06-05T21:10:23.387Z"
   },
   {
    "duration": 671,
    "start_time": "2022-06-05T21:10:23.747Z"
   },
   {
    "duration": 353,
    "start_time": "2022-06-05T21:10:24.420Z"
   },
   {
    "duration": 704,
    "start_time": "2022-06-05T21:10:24.774Z"
   },
   {
    "duration": 314,
    "start_time": "2022-06-05T21:10:25.480Z"
   },
   {
    "duration": 451,
    "start_time": "2022-06-05T21:10:25.796Z"
   },
   {
    "duration": 14,
    "start_time": "2022-06-05T21:10:26.249Z"
   },
   {
    "duration": 9,
    "start_time": "2022-06-05T21:10:26.264Z"
   },
   {
    "duration": 343,
    "start_time": "2022-06-05T21:10:26.275Z"
   },
   {
    "duration": 737,
    "start_time": "2022-06-05T21:10:26.620Z"
   },
   {
    "duration": 17,
    "start_time": "2022-06-05T21:10:27.359Z"
   },
   {
    "duration": 8,
    "start_time": "2022-06-05T21:10:27.377Z"
   },
   {
    "duration": 6,
    "start_time": "2022-06-05T21:10:27.386Z"
   },
   {
    "duration": 11,
    "start_time": "2022-06-05T21:10:27.394Z"
   },
   {
    "duration": 5,
    "start_time": "2022-06-05T21:10:27.407Z"
   },
   {
    "duration": 9,
    "start_time": "2022-06-05T21:10:27.413Z"
   },
   {
    "duration": 6,
    "start_time": "2022-06-05T21:10:27.452Z"
   },
   {
    "duration": 11,
    "start_time": "2022-06-05T21:10:27.459Z"
   },
   {
    "duration": 242,
    "start_time": "2022-06-05T21:31:46.095Z"
   },
   {
    "duration": 147,
    "start_time": "2022-06-05T21:32:02.475Z"
   },
   {
    "duration": 1317,
    "start_time": "2022-06-05T21:32:08.913Z"
   },
   {
    "duration": 2,
    "start_time": "2022-06-05T21:32:10.232Z"
   },
   {
    "duration": 5,
    "start_time": "2022-06-05T21:32:10.236Z"
   },
   {
    "duration": 67,
    "start_time": "2022-06-05T21:32:10.243Z"
   },
   {
    "duration": 160,
    "start_time": "2022-06-05T21:32:10.312Z"
   },
   {
    "duration": 97,
    "start_time": "2022-06-05T21:32:10.474Z"
   },
   {
    "duration": 147,
    "start_time": "2022-06-05T21:32:10.573Z"
   },
   {
    "duration": 26,
    "start_time": "2022-06-05T21:32:10.722Z"
   },
   {
    "duration": 123,
    "start_time": "2022-06-05T21:32:10.749Z"
   },
   {
    "duration": 106,
    "start_time": "2022-06-05T21:32:10.874Z"
   },
   {
    "duration": 3,
    "start_time": "2022-06-05T21:32:10.982Z"
   },
   {
    "duration": 83,
    "start_time": "2022-06-05T21:32:10.987Z"
   },
   {
    "duration": 4,
    "start_time": "2022-06-05T21:32:11.072Z"
   },
   {
    "duration": 8,
    "start_time": "2022-06-05T21:32:11.079Z"
   },
   {
    "duration": 34,
    "start_time": "2022-06-05T21:32:11.088Z"
   },
   {
    "duration": 4,
    "start_time": "2022-06-05T21:32:11.123Z"
   },
   {
    "duration": 26,
    "start_time": "2022-06-05T21:32:11.128Z"
   },
   {
    "duration": 29,
    "start_time": "2022-06-05T21:32:11.155Z"
   },
   {
    "duration": 4,
    "start_time": "2022-06-05T21:32:11.185Z"
   },
   {
    "duration": 10,
    "start_time": "2022-06-05T21:32:11.190Z"
   },
   {
    "duration": 21,
    "start_time": "2022-06-05T21:32:11.201Z"
   },
   {
    "duration": 40,
    "start_time": "2022-06-05T21:32:11.223Z"
   },
   {
    "duration": 27,
    "start_time": "2022-06-05T21:32:11.265Z"
   },
   {
    "duration": 26,
    "start_time": "2022-06-05T21:32:11.294Z"
   },
   {
    "duration": 33,
    "start_time": "2022-06-05T21:32:11.321Z"
   },
   {
    "duration": 19,
    "start_time": "2022-06-05T21:32:11.355Z"
   },
   {
    "duration": 24,
    "start_time": "2022-06-05T21:32:11.375Z"
   },
   {
    "duration": 16,
    "start_time": "2022-06-05T21:32:11.401Z"
   },
   {
    "duration": 30,
    "start_time": "2022-06-05T21:32:11.419Z"
   },
   {
    "duration": 16,
    "start_time": "2022-06-05T21:32:11.450Z"
   },
   {
    "duration": 5,
    "start_time": "2022-06-05T21:32:11.468Z"
   },
   {
    "duration": 13,
    "start_time": "2022-06-05T21:32:11.474Z"
   },
   {
    "duration": 140,
    "start_time": "2022-06-05T21:32:11.489Z"
   },
   {
    "duration": 28,
    "start_time": "2022-06-05T21:32:11.631Z"
   },
   {
    "duration": 195,
    "start_time": "2022-06-05T21:32:11.660Z"
   },
   {
    "duration": 8,
    "start_time": "2022-06-05T21:32:11.857Z"
   },
   {
    "duration": 224,
    "start_time": "2022-06-05T21:32:11.866Z"
   },
   {
    "duration": 8,
    "start_time": "2022-06-05T21:32:12.092Z"
   },
   {
    "duration": 24,
    "start_time": "2022-06-05T21:32:12.101Z"
   },
   {
    "duration": 38,
    "start_time": "2022-06-05T21:32:12.126Z"
   },
   {
    "duration": 24,
    "start_time": "2022-06-05T21:32:12.168Z"
   },
   {
    "duration": 24,
    "start_time": "2022-06-05T21:32:12.194Z"
   },
   {
    "duration": 5,
    "start_time": "2022-06-05T21:32:12.220Z"
   },
   {
    "duration": 28,
    "start_time": "2022-06-05T21:32:12.227Z"
   },
   {
    "duration": 12,
    "start_time": "2022-06-05T21:32:12.256Z"
   },
   {
    "duration": 9,
    "start_time": "2022-06-05T21:32:12.269Z"
   },
   {
    "duration": 9,
    "start_time": "2022-06-05T21:32:12.279Z"
   },
   {
    "duration": 407,
    "start_time": "2022-06-05T21:32:12.289Z"
   },
   {
    "duration": 660,
    "start_time": "2022-06-05T21:32:12.698Z"
   },
   {
    "duration": 346,
    "start_time": "2022-06-05T21:32:13.360Z"
   },
   {
    "duration": 654,
    "start_time": "2022-06-05T21:32:13.707Z"
   },
   {
    "duration": 309,
    "start_time": "2022-06-05T21:32:14.362Z"
   },
   {
    "duration": 436,
    "start_time": "2022-06-05T21:32:14.672Z"
   },
   {
    "duration": 14,
    "start_time": "2022-06-05T21:32:15.110Z"
   },
   {
    "duration": 26,
    "start_time": "2022-06-05T21:32:15.126Z"
   },
   {
    "duration": 406,
    "start_time": "2022-06-05T21:32:15.154Z"
   },
   {
    "duration": 909,
    "start_time": "2022-06-05T21:32:15.562Z"
   },
   {
    "duration": 17,
    "start_time": "2022-06-05T21:32:16.472Z"
   },
   {
    "duration": 62,
    "start_time": "2022-06-05T21:32:16.491Z"
   },
   {
    "duration": 5,
    "start_time": "2022-06-05T21:32:16.554Z"
   },
   {
    "duration": 22,
    "start_time": "2022-06-05T21:32:16.560Z"
   },
   {
    "duration": 6,
    "start_time": "2022-06-05T21:32:16.583Z"
   },
   {
    "duration": 8,
    "start_time": "2022-06-05T21:32:16.590Z"
   },
   {
    "duration": 54,
    "start_time": "2022-06-05T21:32:16.599Z"
   },
   {
    "duration": 5,
    "start_time": "2022-06-05T21:32:16.655Z"
   },
   {
    "duration": 134,
    "start_time": "2022-06-05T21:32:31.243Z"
   },
   {
    "duration": 1310,
    "start_time": "2022-06-05T21:32:43.798Z"
   },
   {
    "duration": 3,
    "start_time": "2022-06-05T21:32:45.110Z"
   },
   {
    "duration": 7,
    "start_time": "2022-06-05T21:32:45.114Z"
   },
   {
    "duration": 62,
    "start_time": "2022-06-05T21:32:45.123Z"
   },
   {
    "duration": 168,
    "start_time": "2022-06-05T21:32:45.186Z"
   },
   {
    "duration": 129,
    "start_time": "2022-06-05T21:32:45.355Z"
   },
   {
    "duration": 167,
    "start_time": "2022-06-05T21:32:45.486Z"
   },
   {
    "duration": 26,
    "start_time": "2022-06-05T21:32:45.654Z"
   },
   {
    "duration": 120,
    "start_time": "2022-06-05T21:32:45.681Z"
   },
   {
    "duration": 117,
    "start_time": "2022-06-05T21:32:45.803Z"
   },
   {
    "duration": 3,
    "start_time": "2022-06-05T21:32:45.921Z"
   },
   {
    "duration": 86,
    "start_time": "2022-06-05T21:32:45.926Z"
   },
   {
    "duration": 4,
    "start_time": "2022-06-05T21:32:46.013Z"
   },
   {
    "duration": 8,
    "start_time": "2022-06-05T21:32:46.019Z"
   },
   {
    "duration": 60,
    "start_time": "2022-06-05T21:32:46.029Z"
   },
   {
    "duration": 4,
    "start_time": "2022-06-05T21:32:46.090Z"
   },
   {
    "duration": 9,
    "start_time": "2022-06-05T21:32:46.095Z"
   },
   {
    "duration": 48,
    "start_time": "2022-06-05T21:32:46.105Z"
   },
   {
    "duration": 4,
    "start_time": "2022-06-05T21:32:46.154Z"
   },
   {
    "duration": 18,
    "start_time": "2022-06-05T21:32:46.160Z"
   },
   {
    "duration": 21,
    "start_time": "2022-06-05T21:32:46.179Z"
   },
   {
    "duration": 19,
    "start_time": "2022-06-05T21:32:46.201Z"
   },
   {
    "duration": 50,
    "start_time": "2022-06-05T21:32:46.222Z"
   },
   {
    "duration": 26,
    "start_time": "2022-06-05T21:32:46.273Z"
   },
   {
    "duration": 12,
    "start_time": "2022-06-05T21:32:46.301Z"
   },
   {
    "duration": 49,
    "start_time": "2022-06-05T21:32:46.314Z"
   },
   {
    "duration": 19,
    "start_time": "2022-06-05T21:32:46.364Z"
   },
   {
    "duration": 17,
    "start_time": "2022-06-05T21:32:46.384Z"
   },
   {
    "duration": 8,
    "start_time": "2022-06-05T21:32:46.402Z"
   },
   {
    "duration": 42,
    "start_time": "2022-06-05T21:32:46.411Z"
   },
   {
    "duration": 4,
    "start_time": "2022-06-05T21:32:46.454Z"
   },
   {
    "duration": 6,
    "start_time": "2022-06-05T21:32:46.459Z"
   },
   {
    "duration": 143,
    "start_time": "2022-06-05T21:32:46.467Z"
   },
   {
    "duration": 23,
    "start_time": "2022-06-05T21:32:46.612Z"
   },
   {
    "duration": 206,
    "start_time": "2022-06-05T21:32:46.636Z"
   },
   {
    "duration": 8,
    "start_time": "2022-06-05T21:32:46.852Z"
   },
   {
    "duration": 269,
    "start_time": "2022-06-05T21:32:46.861Z"
   },
   {
    "duration": 7,
    "start_time": "2022-06-05T21:32:47.132Z"
   },
   {
    "duration": 22,
    "start_time": "2022-06-05T21:32:47.140Z"
   },
   {
    "duration": 25,
    "start_time": "2022-06-05T21:32:47.164Z"
   },
   {
    "duration": 23,
    "start_time": "2022-06-05T21:32:47.193Z"
   },
   {
    "duration": 43,
    "start_time": "2022-06-05T21:32:47.217Z"
   },
   {
    "duration": 5,
    "start_time": "2022-06-05T21:32:47.261Z"
   },
   {
    "duration": 10,
    "start_time": "2022-06-05T21:32:47.267Z"
   },
   {
    "duration": 10,
    "start_time": "2022-06-05T21:32:47.278Z"
   },
   {
    "duration": 6,
    "start_time": "2022-06-05T21:32:47.289Z"
   },
   {
    "duration": 13,
    "start_time": "2022-06-05T21:32:47.296Z"
   },
   {
    "duration": 388,
    "start_time": "2022-06-05T21:32:47.310Z"
   },
   {
    "duration": 1325,
    "start_time": "2022-06-05T21:32:47.752Z"
   },
   {
    "duration": 434,
    "start_time": "2022-06-05T21:32:49.079Z"
   },
   {
    "duration": 697,
    "start_time": "2022-06-05T21:32:49.514Z"
   },
   {
    "duration": 329,
    "start_time": "2022-06-05T21:32:50.213Z"
   },
   {
    "duration": 456,
    "start_time": "2022-06-05T21:32:50.543Z"
   },
   {
    "duration": 13,
    "start_time": "2022-06-05T21:32:51.000Z"
   },
   {
    "duration": 10,
    "start_time": "2022-06-05T21:32:51.015Z"
   },
   {
    "duration": 356,
    "start_time": "2022-06-05T21:32:51.026Z"
   },
   {
    "duration": 917,
    "start_time": "2022-06-05T21:32:51.383Z"
   },
   {
    "duration": 21,
    "start_time": "2022-06-05T21:32:52.302Z"
   },
   {
    "duration": 9,
    "start_time": "2022-06-05T21:32:52.325Z"
   },
   {
    "duration": 6,
    "start_time": "2022-06-05T21:32:52.352Z"
   },
   {
    "duration": 15,
    "start_time": "2022-06-05T21:32:52.360Z"
   },
   {
    "duration": 10,
    "start_time": "2022-06-05T21:32:52.376Z"
   },
   {
    "duration": 9,
    "start_time": "2022-06-05T21:32:52.388Z"
   },
   {
    "duration": 7,
    "start_time": "2022-06-05T21:32:52.399Z"
   },
   {
    "duration": 12,
    "start_time": "2022-06-05T21:32:52.407Z"
   },
   {
    "duration": 231,
    "start_time": "2022-06-05T21:33:10.265Z"
   },
   {
    "duration": 3,
    "start_time": "2022-06-05T21:33:39.852Z"
   },
   {
    "duration": 5,
    "start_time": "2022-06-05T21:33:39.857Z"
   },
   {
    "duration": 7,
    "start_time": "2022-06-05T21:33:39.863Z"
   },
   {
    "duration": 55,
    "start_time": "2022-06-05T21:33:39.871Z"
   },
   {
    "duration": 161,
    "start_time": "2022-06-05T21:33:39.928Z"
   },
   {
    "duration": 110,
    "start_time": "2022-06-05T21:33:40.090Z"
   },
   {
    "duration": 147,
    "start_time": "2022-06-05T21:33:40.202Z"
   },
   {
    "duration": 25,
    "start_time": "2022-06-05T21:33:40.352Z"
   },
   {
    "duration": 117,
    "start_time": "2022-06-05T21:33:40.379Z"
   },
   {
    "duration": 124,
    "start_time": "2022-06-05T21:33:40.498Z"
   },
   {
    "duration": 3,
    "start_time": "2022-06-05T21:33:40.625Z"
   },
   {
    "duration": 54,
    "start_time": "2022-06-05T21:33:40.630Z"
   },
   {
    "duration": 3,
    "start_time": "2022-06-05T21:33:40.686Z"
   },
   {
    "duration": 12,
    "start_time": "2022-06-05T21:33:40.691Z"
   },
   {
    "duration": 32,
    "start_time": "2022-06-05T21:33:40.704Z"
   },
   {
    "duration": 17,
    "start_time": "2022-06-05T21:33:40.737Z"
   },
   {
    "duration": 14,
    "start_time": "2022-06-05T21:33:40.755Z"
   },
   {
    "duration": 28,
    "start_time": "2022-06-05T21:33:40.770Z"
   },
   {
    "duration": 4,
    "start_time": "2022-06-05T21:33:40.800Z"
   },
   {
    "duration": 14,
    "start_time": "2022-06-05T21:33:40.805Z"
   },
   {
    "duration": 159,
    "start_time": "2022-06-05T21:33:44.875Z"
   },
   {
    "duration": 1275,
    "start_time": "2022-06-05T21:34:22.672Z"
   },
   {
    "duration": 3,
    "start_time": "2022-06-05T21:34:23.949Z"
   },
   {
    "duration": 19,
    "start_time": "2022-06-05T21:34:23.954Z"
   },
   {
    "duration": 60,
    "start_time": "2022-06-05T21:34:23.974Z"
   },
   {
    "duration": 173,
    "start_time": "2022-06-05T21:34:24.035Z"
   },
   {
    "duration": 104,
    "start_time": "2022-06-05T21:34:24.209Z"
   },
   {
    "duration": 175,
    "start_time": "2022-06-05T21:34:24.316Z"
   },
   {
    "duration": 27,
    "start_time": "2022-06-05T21:34:24.493Z"
   },
   {
    "duration": 146,
    "start_time": "2022-06-05T21:34:24.521Z"
   },
   {
    "duration": 110,
    "start_time": "2022-06-05T21:34:24.671Z"
   },
   {
    "duration": 3,
    "start_time": "2022-06-05T21:34:24.783Z"
   },
   {
    "duration": 79,
    "start_time": "2022-06-05T21:34:24.788Z"
   },
   {
    "duration": 4,
    "start_time": "2022-06-05T21:34:24.869Z"
   },
   {
    "duration": 9,
    "start_time": "2022-06-05T21:34:24.875Z"
   },
   {
    "duration": 31,
    "start_time": "2022-06-05T21:34:24.885Z"
   },
   {
    "duration": 4,
    "start_time": "2022-06-05T21:34:24.917Z"
   },
   {
    "duration": 6,
    "start_time": "2022-06-05T21:34:24.952Z"
   },
   {
    "duration": 27,
    "start_time": "2022-06-05T21:34:24.960Z"
   },
   {
    "duration": 5,
    "start_time": "2022-06-05T21:34:24.989Z"
   },
   {
    "duration": 26,
    "start_time": "2022-06-05T21:34:24.995Z"
   },
   {
    "duration": 17,
    "start_time": "2022-06-05T21:34:25.023Z"
   },
   {
    "duration": 18,
    "start_time": "2022-06-05T21:34:25.051Z"
   },
   {
    "duration": 26,
    "start_time": "2022-06-05T21:34:25.071Z"
   },
   {
    "duration": 28,
    "start_time": "2022-06-05T21:34:25.099Z"
   },
   {
    "duration": 36,
    "start_time": "2022-06-05T21:34:25.129Z"
   },
   {
    "duration": 25,
    "start_time": "2022-06-05T21:34:25.167Z"
   },
   {
    "duration": 25,
    "start_time": "2022-06-05T21:34:25.194Z"
   },
   {
    "duration": 50,
    "start_time": "2022-06-05T21:34:25.223Z"
   },
   {
    "duration": 13,
    "start_time": "2022-06-05T21:34:25.276Z"
   },
   {
    "duration": 19,
    "start_time": "2022-06-05T21:34:25.291Z"
   },
   {
    "duration": 9,
    "start_time": "2022-06-05T21:34:25.312Z"
   },
   {
    "duration": 12,
    "start_time": "2022-06-05T21:34:25.323Z"
   },
   {
    "duration": 162,
    "start_time": "2022-06-05T21:34:25.337Z"
   },
   {
    "duration": 23,
    "start_time": "2022-06-05T21:34:25.501Z"
   },
   {
    "duration": 204,
    "start_time": "2022-06-05T21:34:25.526Z"
   },
   {
    "duration": 8,
    "start_time": "2022-06-05T21:34:25.731Z"
   },
   {
    "duration": 244,
    "start_time": "2022-06-05T21:34:25.741Z"
   },
   {
    "duration": 8,
    "start_time": "2022-06-05T21:34:25.987Z"
   },
   {
    "duration": 17,
    "start_time": "2022-06-05T21:34:25.997Z"
   },
   {
    "duration": 44,
    "start_time": "2022-06-05T21:34:26.016Z"
   },
   {
    "duration": 25,
    "start_time": "2022-06-05T21:34:26.062Z"
   },
   {
    "duration": 24,
    "start_time": "2022-06-05T21:34:26.088Z"
   },
   {
    "duration": 5,
    "start_time": "2022-06-05T21:34:26.114Z"
   },
   {
    "duration": 33,
    "start_time": "2022-06-05T21:34:26.121Z"
   },
   {
    "duration": 8,
    "start_time": "2022-06-05T21:34:26.156Z"
   },
   {
    "duration": 24,
    "start_time": "2022-06-05T21:34:26.165Z"
   },
   {
    "duration": 18,
    "start_time": "2022-06-05T21:34:26.191Z"
   },
   {
    "duration": 365,
    "start_time": "2022-06-05T21:34:26.211Z"
   },
   {
    "duration": 672,
    "start_time": "2022-06-05T21:34:26.578Z"
   },
   {
    "duration": 354,
    "start_time": "2022-06-05T21:34:27.252Z"
   },
   {
    "duration": 622,
    "start_time": "2022-06-05T21:34:27.608Z"
   },
   {
    "duration": 324,
    "start_time": "2022-06-05T21:34:28.232Z"
   },
   {
    "duration": 447,
    "start_time": "2022-06-05T21:34:28.558Z"
   },
   {
    "duration": 13,
    "start_time": "2022-06-05T21:34:29.007Z"
   },
   {
    "duration": 8,
    "start_time": "2022-06-05T21:34:29.022Z"
   },
   {
    "duration": 332,
    "start_time": "2022-06-05T21:34:29.052Z"
   },
   {
    "duration": 807,
    "start_time": "2022-06-05T21:34:29.386Z"
   },
   {
    "duration": 18,
    "start_time": "2022-06-05T21:34:30.195Z"
   },
   {
    "duration": 21,
    "start_time": "2022-06-05T21:34:30.215Z"
   },
   {
    "duration": 13,
    "start_time": "2022-06-05T21:34:30.251Z"
   },
   {
    "duration": 30,
    "start_time": "2022-06-05T21:34:30.265Z"
   },
   {
    "duration": 38,
    "start_time": "2022-06-05T21:34:30.296Z"
   },
   {
    "duration": 15,
    "start_time": "2022-06-05T21:34:30.335Z"
   },
   {
    "duration": 18,
    "start_time": "2022-06-05T21:34:30.352Z"
   },
   {
    "duration": 13,
    "start_time": "2022-06-05T21:34:30.372Z"
   },
   {
    "duration": 35,
    "start_time": "2022-06-05T21:44:02.417Z"
   },
   {
    "duration": 99,
    "start_time": "2022-06-05T21:44:50.843Z"
   },
   {
    "duration": 36,
    "start_time": "2022-06-05T21:44:54.213Z"
   },
   {
    "duration": 476,
    "start_time": "2022-06-05T21:45:58.957Z"
   },
   {
    "duration": 21,
    "start_time": "2022-06-05T21:46:20.638Z"
   },
   {
    "duration": 3877,
    "start_time": "2022-06-06T14:24:19.304Z"
   },
   {
    "duration": 4,
    "start_time": "2022-06-06T14:24:23.184Z"
   },
   {
    "duration": 9,
    "start_time": "2022-06-06T14:24:23.190Z"
   },
   {
    "duration": 121,
    "start_time": "2022-06-06T14:24:23.203Z"
   },
   {
    "duration": 596,
    "start_time": "2022-06-06T14:24:23.326Z"
   },
   {
    "duration": 193,
    "start_time": "2022-06-06T14:24:23.924Z"
   },
   {
    "duration": 570,
    "start_time": "2022-06-06T14:24:24.118Z"
   },
   {
    "duration": 84,
    "start_time": "2022-06-06T14:24:24.690Z"
   },
   {
    "duration": 204,
    "start_time": "2022-06-06T14:24:24.777Z"
   },
   {
    "duration": 158,
    "start_time": "2022-06-06T14:24:24.985Z"
   },
   {
    "duration": 7,
    "start_time": "2022-06-06T14:24:25.146Z"
   },
   {
    "duration": 92,
    "start_time": "2022-06-06T14:24:25.155Z"
   },
   {
    "duration": 6,
    "start_time": "2022-06-06T14:24:25.249Z"
   },
   {
    "duration": 14,
    "start_time": "2022-06-06T14:24:25.257Z"
   },
   {
    "duration": 41,
    "start_time": "2022-06-06T14:24:25.272Z"
   },
   {
    "duration": 17,
    "start_time": "2022-06-06T14:24:25.315Z"
   },
   {
    "duration": 35,
    "start_time": "2022-06-06T14:24:25.334Z"
   },
   {
    "duration": 55,
    "start_time": "2022-06-06T14:24:25.371Z"
   },
   {
    "duration": 17,
    "start_time": "2022-06-06T14:24:25.428Z"
   },
   {
    "duration": 23,
    "start_time": "2022-06-06T14:24:25.450Z"
   },
   {
    "duration": 48,
    "start_time": "2022-06-06T14:24:25.475Z"
   },
   {
    "duration": 32,
    "start_time": "2022-06-06T14:24:25.524Z"
   },
   {
    "duration": 49,
    "start_time": "2022-06-06T14:24:25.563Z"
   },
   {
    "duration": 42,
    "start_time": "2022-06-06T14:24:25.614Z"
   },
   {
    "duration": 15,
    "start_time": "2022-06-06T14:24:25.659Z"
   },
   {
    "duration": 22,
    "start_time": "2022-06-06T14:24:25.676Z"
   },
   {
    "duration": 53,
    "start_time": "2022-06-06T14:24:25.700Z"
   },
   {
    "duration": 20,
    "start_time": "2022-06-06T14:24:25.757Z"
   },
   {
    "duration": 12,
    "start_time": "2022-06-06T14:24:25.779Z"
   },
   {
    "duration": 42,
    "start_time": "2022-06-06T14:24:25.793Z"
   },
   {
    "duration": 13,
    "start_time": "2022-06-06T14:24:25.837Z"
   },
   {
    "duration": 7,
    "start_time": "2022-06-06T14:24:25.852Z"
   },
   {
    "duration": 227,
    "start_time": "2022-06-06T14:24:25.861Z"
   },
   {
    "duration": 27,
    "start_time": "2022-06-06T14:24:26.090Z"
   },
   {
    "duration": 269,
    "start_time": "2022-06-06T14:24:26.119Z"
   },
   {
    "duration": 10,
    "start_time": "2022-06-06T14:24:26.391Z"
   },
   {
    "duration": 357,
    "start_time": "2022-06-06T14:24:26.403Z"
   },
   {
    "duration": 10,
    "start_time": "2022-06-06T14:24:26.762Z"
   },
   {
    "duration": 17,
    "start_time": "2022-06-06T14:24:26.774Z"
   },
   {
    "duration": 63,
    "start_time": "2022-06-06T14:24:26.793Z"
   },
   {
    "duration": 31,
    "start_time": "2022-06-06T14:24:26.859Z"
   },
   {
    "duration": 58,
    "start_time": "2022-06-06T14:24:26.892Z"
   },
   {
    "duration": 12,
    "start_time": "2022-06-06T14:24:26.952Z"
   },
   {
    "duration": 10,
    "start_time": "2022-06-06T14:24:26.966Z"
   },
   {
    "duration": 13,
    "start_time": "2022-06-06T14:24:26.978Z"
   },
   {
    "duration": 13,
    "start_time": "2022-06-06T14:24:26.993Z"
   },
   {
    "duration": 23,
    "start_time": "2022-06-06T14:24:27.009Z"
   },
   {
    "duration": 465,
    "start_time": "2022-06-06T14:24:27.035Z"
   },
   {
    "duration": 972,
    "start_time": "2022-06-06T14:24:27.502Z"
   },
   {
    "duration": 500,
    "start_time": "2022-06-06T14:24:28.476Z"
   },
   {
    "duration": 952,
    "start_time": "2022-06-06T14:24:28.978Z"
   },
   {
    "duration": 505,
    "start_time": "2022-06-06T14:24:29.932Z"
   },
   {
    "duration": 629,
    "start_time": "2022-06-06T14:24:30.439Z"
   },
   {
    "duration": 18,
    "start_time": "2022-06-06T14:24:31.070Z"
   },
   {
    "duration": 43,
    "start_time": "2022-06-06T14:24:31.090Z"
   },
   {
    "duration": 542,
    "start_time": "2022-06-06T14:24:31.135Z"
   },
   {
    "duration": 1506,
    "start_time": "2022-06-06T14:24:31.682Z"
   },
   {
    "duration": 47,
    "start_time": "2022-06-06T14:24:33.192Z"
   },
   {
    "duration": 17,
    "start_time": "2022-06-06T14:24:33.241Z"
   },
   {
    "duration": 21,
    "start_time": "2022-06-06T14:24:33.260Z"
   },
   {
    "duration": 35,
    "start_time": "2022-06-06T14:24:33.283Z"
   },
   {
    "duration": 8,
    "start_time": "2022-06-06T14:24:33.320Z"
   },
   {
    "duration": 32,
    "start_time": "2022-06-06T14:24:33.330Z"
   },
   {
    "duration": 20,
    "start_time": "2022-06-06T14:24:33.364Z"
   },
   {
    "duration": 16,
    "start_time": "2022-06-06T14:24:33.390Z"
   },
   {
    "duration": 1850,
    "start_time": "2022-06-06T14:34:40.723Z"
   },
   {
    "duration": 4,
    "start_time": "2022-06-06T14:34:42.577Z"
   },
   {
    "duration": 13,
    "start_time": "2022-06-06T14:34:42.584Z"
   },
   {
    "duration": 104,
    "start_time": "2022-06-06T14:34:42.600Z"
   },
   {
    "duration": 272,
    "start_time": "2022-06-06T14:34:42.707Z"
   },
   {
    "duration": 13,
    "start_time": "2022-06-06T14:34:42.981Z"
   },
   {
    "duration": 213,
    "start_time": "2022-06-06T14:34:42.996Z"
   },
   {
    "duration": 266,
    "start_time": "2022-06-06T14:34:43.212Z"
   },
   {
    "duration": 46,
    "start_time": "2022-06-06T14:34:43.480Z"
   },
   {
    "duration": 234,
    "start_time": "2022-06-06T14:34:43.529Z"
   },
   {
    "duration": 148,
    "start_time": "2022-06-06T14:34:43.765Z"
   },
   {
    "duration": 26,
    "start_time": "2022-06-06T14:34:43.915Z"
   },
   {
    "duration": 123,
    "start_time": "2022-06-06T14:34:43.948Z"
   },
   {
    "duration": 6,
    "start_time": "2022-06-06T14:34:44.073Z"
   },
   {
    "duration": 16,
    "start_time": "2022-06-06T14:34:44.081Z"
   },
   {
    "duration": 73,
    "start_time": "2022-06-06T14:34:44.098Z"
   },
   {
    "duration": 6,
    "start_time": "2022-06-06T14:34:44.174Z"
   },
   {
    "duration": 21,
    "start_time": "2022-06-06T14:34:44.182Z"
   },
   {
    "duration": 64,
    "start_time": "2022-06-06T14:34:44.205Z"
   },
   {
    "duration": 7,
    "start_time": "2022-06-06T14:34:44.271Z"
   },
   {
    "duration": 260,
    "start_time": "2022-06-06T14:34:44.282Z"
   },
   {
    "duration": 0,
    "start_time": "2022-06-06T14:34:44.545Z"
   },
   {
    "duration": 0,
    "start_time": "2022-06-06T14:34:44.546Z"
   },
   {
    "duration": 0,
    "start_time": "2022-06-06T14:34:44.546Z"
   },
   {
    "duration": 0,
    "start_time": "2022-06-06T14:34:44.547Z"
   },
   {
    "duration": 0,
    "start_time": "2022-06-06T14:34:44.547Z"
   },
   {
    "duration": 0,
    "start_time": "2022-06-06T14:34:44.548Z"
   },
   {
    "duration": 0,
    "start_time": "2022-06-06T14:34:44.550Z"
   },
   {
    "duration": 0,
    "start_time": "2022-06-06T14:34:44.551Z"
   },
   {
    "duration": 0,
    "start_time": "2022-06-06T14:34:44.552Z"
   },
   {
    "duration": 0,
    "start_time": "2022-06-06T14:34:44.554Z"
   },
   {
    "duration": 0,
    "start_time": "2022-06-06T14:34:44.555Z"
   },
   {
    "duration": 0,
    "start_time": "2022-06-06T14:34:44.556Z"
   },
   {
    "duration": 0,
    "start_time": "2022-06-06T14:34:44.564Z"
   },
   {
    "duration": 0,
    "start_time": "2022-06-06T14:34:44.565Z"
   },
   {
    "duration": 0,
    "start_time": "2022-06-06T14:34:44.567Z"
   },
   {
    "duration": 0,
    "start_time": "2022-06-06T14:34:44.568Z"
   },
   {
    "duration": 0,
    "start_time": "2022-06-06T14:34:44.570Z"
   },
   {
    "duration": 0,
    "start_time": "2022-06-06T14:34:44.571Z"
   },
   {
    "duration": 1,
    "start_time": "2022-06-06T14:34:44.572Z"
   },
   {
    "duration": 0,
    "start_time": "2022-06-06T14:34:44.574Z"
   },
   {
    "duration": 0,
    "start_time": "2022-06-06T14:34:44.575Z"
   },
   {
    "duration": 0,
    "start_time": "2022-06-06T14:34:44.577Z"
   },
   {
    "duration": 0,
    "start_time": "2022-06-06T14:34:44.581Z"
   },
   {
    "duration": 0,
    "start_time": "2022-06-06T14:34:44.583Z"
   },
   {
    "duration": 0,
    "start_time": "2022-06-06T14:34:44.585Z"
   },
   {
    "duration": 0,
    "start_time": "2022-06-06T14:34:44.586Z"
   },
   {
    "duration": 0,
    "start_time": "2022-06-06T14:34:44.588Z"
   },
   {
    "duration": 0,
    "start_time": "2022-06-06T14:34:44.589Z"
   },
   {
    "duration": 0,
    "start_time": "2022-06-06T14:34:44.591Z"
   },
   {
    "duration": 0,
    "start_time": "2022-06-06T14:34:44.593Z"
   },
   {
    "duration": 0,
    "start_time": "2022-06-06T14:34:44.594Z"
   },
   {
    "duration": 0,
    "start_time": "2022-06-06T14:34:44.596Z"
   },
   {
    "duration": 0,
    "start_time": "2022-06-06T14:34:44.597Z"
   },
   {
    "duration": 0,
    "start_time": "2022-06-06T14:34:44.599Z"
   },
   {
    "duration": 0,
    "start_time": "2022-06-06T14:34:44.600Z"
   },
   {
    "duration": 0,
    "start_time": "2022-06-06T14:34:44.601Z"
   },
   {
    "duration": 0,
    "start_time": "2022-06-06T14:34:44.602Z"
   },
   {
    "duration": 0,
    "start_time": "2022-06-06T14:34:44.603Z"
   },
   {
    "duration": 0,
    "start_time": "2022-06-06T14:34:44.604Z"
   },
   {
    "duration": 0,
    "start_time": "2022-06-06T14:34:44.604Z"
   },
   {
    "duration": 0,
    "start_time": "2022-06-06T14:34:44.631Z"
   },
   {
    "duration": 0,
    "start_time": "2022-06-06T14:34:44.632Z"
   },
   {
    "duration": 0,
    "start_time": "2022-06-06T14:34:44.634Z"
   },
   {
    "duration": 1,
    "start_time": "2022-06-06T14:34:44.635Z"
   },
   {
    "duration": 0,
    "start_time": "2022-06-06T14:34:44.637Z"
   },
   {
    "duration": 1573,
    "start_time": "2022-06-06T14:43:30.748Z"
   },
   {
    "duration": 9,
    "start_time": "2022-06-06T14:43:32.323Z"
   },
   {
    "duration": 26,
    "start_time": "2022-06-06T14:43:32.337Z"
   },
   {
    "duration": 74,
    "start_time": "2022-06-06T14:43:32.366Z"
   },
   {
    "duration": 216,
    "start_time": "2022-06-06T14:43:32.446Z"
   },
   {
    "duration": 14,
    "start_time": "2022-06-06T14:43:32.664Z"
   },
   {
    "duration": 159,
    "start_time": "2022-06-06T14:43:32.680Z"
   },
   {
    "duration": 216,
    "start_time": "2022-06-06T14:43:32.842Z"
   },
   {
    "duration": 29,
    "start_time": "2022-06-06T14:43:33.060Z"
   },
   {
    "duration": 176,
    "start_time": "2022-06-06T14:43:33.093Z"
   },
   {
    "duration": 110,
    "start_time": "2022-06-06T14:43:33.271Z"
   },
   {
    "duration": 4,
    "start_time": "2022-06-06T14:43:33.382Z"
   },
   {
    "duration": 117,
    "start_time": "2022-06-06T14:43:33.388Z"
   },
   {
    "duration": 5,
    "start_time": "2022-06-06T14:43:33.507Z"
   },
   {
    "duration": 24,
    "start_time": "2022-06-06T14:43:33.514Z"
   },
   {
    "duration": 41,
    "start_time": "2022-06-06T14:43:33.546Z"
   },
   {
    "duration": 4,
    "start_time": "2022-06-06T14:43:33.589Z"
   },
   {
    "duration": 8,
    "start_time": "2022-06-06T14:43:33.594Z"
   },
   {
    "duration": 57,
    "start_time": "2022-06-06T14:43:33.604Z"
   },
   {
    "duration": 4,
    "start_time": "2022-06-06T14:43:33.663Z"
   },
   {
    "duration": 16,
    "start_time": "2022-06-06T14:43:33.669Z"
   },
   {
    "duration": 26,
    "start_time": "2022-06-06T14:43:33.686Z"
   },
   {
    "duration": 46,
    "start_time": "2022-06-06T14:43:33.714Z"
   },
   {
    "duration": 35,
    "start_time": "2022-06-06T14:43:33.763Z"
   },
   {
    "duration": 50,
    "start_time": "2022-06-06T14:43:33.800Z"
   },
   {
    "duration": 14,
    "start_time": "2022-06-06T14:43:33.851Z"
   },
   {
    "duration": 18,
    "start_time": "2022-06-06T14:43:33.866Z"
   },
   {
    "duration": 62,
    "start_time": "2022-06-06T14:43:33.888Z"
   },
   {
    "duration": 19,
    "start_time": "2022-06-06T14:43:33.951Z"
   },
   {
    "duration": 19,
    "start_time": "2022-06-06T14:43:33.972Z"
   },
   {
    "duration": 21,
    "start_time": "2022-06-06T14:43:33.992Z"
   },
   {
    "duration": 5,
    "start_time": "2022-06-06T14:43:34.015Z"
   },
   {
    "duration": 36,
    "start_time": "2022-06-06T14:43:34.028Z"
   },
   {
    "duration": 186,
    "start_time": "2022-06-06T14:43:34.066Z"
   },
   {
    "duration": 27,
    "start_time": "2022-06-06T14:43:34.253Z"
   },
   {
    "duration": 271,
    "start_time": "2022-06-06T14:43:34.282Z"
   },
   {
    "duration": 12,
    "start_time": "2022-06-06T14:43:34.556Z"
   },
   {
    "duration": 374,
    "start_time": "2022-06-06T14:43:34.574Z"
   },
   {
    "duration": 9,
    "start_time": "2022-06-06T14:43:34.950Z"
   },
   {
    "duration": 63,
    "start_time": "2022-06-06T14:43:34.960Z"
   },
   {
    "duration": 70,
    "start_time": "2022-06-06T14:43:35.025Z"
   },
   {
    "duration": 30,
    "start_time": "2022-06-06T14:43:35.097Z"
   },
   {
    "duration": 35,
    "start_time": "2022-06-06T14:43:35.130Z"
   },
   {
    "duration": 7,
    "start_time": "2022-06-06T14:43:35.167Z"
   },
   {
    "duration": 45,
    "start_time": "2022-06-06T14:43:35.176Z"
   },
   {
    "duration": 48,
    "start_time": "2022-06-06T14:43:35.223Z"
   },
   {
    "duration": 34,
    "start_time": "2022-06-06T14:43:35.273Z"
   },
   {
    "duration": 67,
    "start_time": "2022-06-06T14:43:35.309Z"
   },
   {
    "duration": 395,
    "start_time": "2022-06-06T14:43:35.379Z"
   },
   {
    "duration": 769,
    "start_time": "2022-06-06T14:43:35.776Z"
   },
   {
    "duration": 423,
    "start_time": "2022-06-06T14:43:36.547Z"
   },
   {
    "duration": 750,
    "start_time": "2022-06-06T14:43:36.972Z"
   },
   {
    "duration": 375,
    "start_time": "2022-06-06T14:43:37.724Z"
   },
   {
    "duration": 514,
    "start_time": "2022-06-06T14:43:38.101Z"
   },
   {
    "duration": 39,
    "start_time": "2022-06-06T14:43:38.618Z"
   },
   {
    "duration": 19,
    "start_time": "2022-06-06T14:43:38.659Z"
   },
   {
    "duration": 381,
    "start_time": "2022-06-06T14:43:38.679Z"
   },
   {
    "duration": 889,
    "start_time": "2022-06-06T14:43:39.061Z"
   },
   {
    "duration": 22,
    "start_time": "2022-06-06T14:43:39.951Z"
   },
   {
    "duration": 13,
    "start_time": "2022-06-06T14:43:39.975Z"
   },
   {
    "duration": 9,
    "start_time": "2022-06-06T14:43:39.990Z"
   },
   {
    "duration": 40,
    "start_time": "2022-06-06T14:43:40.001Z"
   },
   {
    "duration": 49,
    "start_time": "2022-06-06T14:43:40.042Z"
   },
   {
    "duration": 11,
    "start_time": "2022-06-06T14:43:40.093Z"
   },
   {
    "duration": 10,
    "start_time": "2022-06-06T14:43:40.107Z"
   },
   {
    "duration": 60,
    "start_time": "2022-06-06T14:43:40.119Z"
   },
   {
    "duration": 1513,
    "start_time": "2022-06-06T15:10:59.827Z"
   },
   {
    "duration": 3,
    "start_time": "2022-06-06T15:11:01.343Z"
   },
   {
    "duration": 42,
    "start_time": "2022-06-06T15:11:01.348Z"
   },
   {
    "duration": 79,
    "start_time": "2022-06-06T15:11:01.392Z"
   },
   {
    "duration": 230,
    "start_time": "2022-06-06T15:11:01.474Z"
   },
   {
    "duration": 24,
    "start_time": "2022-06-06T15:11:01.705Z"
   },
   {
    "duration": 133,
    "start_time": "2022-06-06T15:11:01.731Z"
   },
   {
    "duration": 236,
    "start_time": "2022-06-06T15:11:01.866Z"
   },
   {
    "duration": 41,
    "start_time": "2022-06-06T15:11:02.104Z"
   },
   {
    "duration": 192,
    "start_time": "2022-06-06T15:11:02.147Z"
   },
   {
    "duration": 117,
    "start_time": "2022-06-06T15:11:02.342Z"
   },
   {
    "duration": 4,
    "start_time": "2022-06-06T15:11:02.461Z"
   },
   {
    "duration": 114,
    "start_time": "2022-06-06T15:11:02.467Z"
   },
   {
    "duration": 6,
    "start_time": "2022-06-06T15:11:02.584Z"
   },
   {
    "duration": 15,
    "start_time": "2022-06-06T15:11:02.592Z"
   },
   {
    "duration": 43,
    "start_time": "2022-06-06T15:11:02.609Z"
   },
   {
    "duration": 5,
    "start_time": "2022-06-06T15:11:02.655Z"
   },
   {
    "duration": 103,
    "start_time": "2022-06-06T15:11:02.662Z"
   },
   {
    "duration": 47,
    "start_time": "2022-06-06T15:11:02.766Z"
   },
   {
    "duration": 5,
    "start_time": "2022-06-06T15:11:02.815Z"
   },
   {
    "duration": 22,
    "start_time": "2022-06-06T15:11:02.822Z"
   },
   {
    "duration": 30,
    "start_time": "2022-06-06T15:11:02.846Z"
   },
   {
    "duration": 27,
    "start_time": "2022-06-06T15:11:02.878Z"
   },
   {
    "duration": 45,
    "start_time": "2022-06-06T15:11:02.907Z"
   },
   {
    "duration": 32,
    "start_time": "2022-06-06T15:11:02.954Z"
   },
   {
    "duration": 18,
    "start_time": "2022-06-06T15:11:02.987Z"
   },
   {
    "duration": 32,
    "start_time": "2022-06-06T15:11:03.028Z"
   },
   {
    "duration": 22,
    "start_time": "2022-06-06T15:11:03.062Z"
   },
   {
    "duration": 3,
    "start_time": "2022-06-06T15:11:03.086Z"
   },
   {
    "duration": 37,
    "start_time": "2022-06-06T15:11:03.095Z"
   },
   {
    "duration": 18,
    "start_time": "2022-06-06T15:11:03.134Z"
   },
   {
    "duration": 4,
    "start_time": "2022-06-06T15:11:03.154Z"
   },
   {
    "duration": 6,
    "start_time": "2022-06-06T15:11:03.160Z"
   },
   {
    "duration": 162,
    "start_time": "2022-06-06T15:11:03.168Z"
   },
   {
    "duration": 38,
    "start_time": "2022-06-06T15:11:03.332Z"
   },
   {
    "duration": 223,
    "start_time": "2022-06-06T15:11:03.372Z"
   },
   {
    "duration": 9,
    "start_time": "2022-06-06T15:11:03.597Z"
   },
   {
    "duration": 318,
    "start_time": "2022-06-06T15:11:03.608Z"
   },
   {
    "duration": 18,
    "start_time": "2022-06-06T15:11:03.927Z"
   },
   {
    "duration": 41,
    "start_time": "2022-06-06T15:11:03.947Z"
   },
   {
    "duration": 87,
    "start_time": "2022-06-06T15:11:03.993Z"
   },
   {
    "duration": 27,
    "start_time": "2022-06-06T15:11:04.083Z"
   },
   {
    "duration": 29,
    "start_time": "2022-06-06T15:11:04.112Z"
   },
   {
    "duration": 6,
    "start_time": "2022-06-06T15:11:04.143Z"
   },
   {
    "duration": 18,
    "start_time": "2022-06-06T15:11:04.151Z"
   },
   {
    "duration": 13,
    "start_time": "2022-06-06T15:11:04.171Z"
   },
   {
    "duration": 21,
    "start_time": "2022-06-06T15:11:04.187Z"
   },
   {
    "duration": 19,
    "start_time": "2022-06-06T15:11:04.211Z"
   },
   {
    "duration": 523,
    "start_time": "2022-06-06T15:11:04.232Z"
   },
   {
    "duration": 774,
    "start_time": "2022-06-06T15:11:04.757Z"
   },
   {
    "duration": 410,
    "start_time": "2022-06-06T15:11:05.533Z"
   },
   {
    "duration": 718,
    "start_time": "2022-06-06T15:11:05.944Z"
   },
   {
    "duration": 389,
    "start_time": "2022-06-06T15:11:06.664Z"
   },
   {
    "duration": 482,
    "start_time": "2022-06-06T15:11:07.056Z"
   },
   {
    "duration": 17,
    "start_time": "2022-06-06T15:11:07.540Z"
   },
   {
    "duration": 14,
    "start_time": "2022-06-06T15:11:07.559Z"
   },
   {
    "duration": 476,
    "start_time": "2022-06-06T15:11:07.575Z"
   },
   {
    "duration": 924,
    "start_time": "2022-06-06T15:11:08.053Z"
   },
   {
    "duration": 27,
    "start_time": "2022-06-06T15:11:08.979Z"
   },
   {
    "duration": 34,
    "start_time": "2022-06-06T15:11:09.008Z"
   },
   {
    "duration": 20,
    "start_time": "2022-06-06T15:11:09.044Z"
   },
   {
    "duration": 24,
    "start_time": "2022-06-06T15:11:09.066Z"
   },
   {
    "duration": 14,
    "start_time": "2022-06-06T15:11:09.092Z"
   },
   {
    "duration": 8,
    "start_time": "2022-06-06T15:11:09.108Z"
   },
   {
    "duration": 15,
    "start_time": "2022-06-06T15:11:09.117Z"
   },
   {
    "duration": 19,
    "start_time": "2022-06-06T15:11:09.133Z"
   },
   {
    "duration": 140,
    "start_time": "2022-06-06T15:25:02.620Z"
   },
   {
    "duration": 11,
    "start_time": "2022-06-06T15:25:07.671Z"
   },
   {
    "duration": 1417,
    "start_time": "2022-06-06T15:25:17.695Z"
   },
   {
    "duration": 3,
    "start_time": "2022-06-06T15:25:19.114Z"
   },
   {
    "duration": 20,
    "start_time": "2022-06-06T15:25:19.119Z"
   },
   {
    "duration": 78,
    "start_time": "2022-06-06T15:25:19.143Z"
   },
   {
    "duration": 205,
    "start_time": "2022-06-06T15:25:19.223Z"
   },
   {
    "duration": 9,
    "start_time": "2022-06-06T15:25:19.430Z"
   },
   {
    "duration": 118,
    "start_time": "2022-06-06T15:25:19.441Z"
   },
   {
    "duration": 168,
    "start_time": "2022-06-06T15:25:19.560Z"
   },
   {
    "duration": 27,
    "start_time": "2022-06-06T15:25:19.730Z"
   },
   {
    "duration": 187,
    "start_time": "2022-06-06T15:25:19.760Z"
   },
   {
    "duration": 108,
    "start_time": "2022-06-06T15:25:19.949Z"
   },
   {
    "duration": 3,
    "start_time": "2022-06-06T15:25:20.059Z"
   },
   {
    "duration": 93,
    "start_time": "2022-06-06T15:25:20.064Z"
   },
   {
    "duration": 4,
    "start_time": "2022-06-06T15:25:20.159Z"
   },
   {
    "duration": 14,
    "start_time": "2022-06-06T15:25:20.165Z"
   },
   {
    "duration": 52,
    "start_time": "2022-06-06T15:25:20.180Z"
   },
   {
    "duration": 4,
    "start_time": "2022-06-06T15:25:20.234Z"
   },
   {
    "duration": 10,
    "start_time": "2022-06-06T15:25:20.240Z"
   },
   {
    "duration": 31,
    "start_time": "2022-06-06T15:25:20.252Z"
   },
   {
    "duration": 4,
    "start_time": "2022-06-06T15:25:20.285Z"
   },
   {
    "duration": 40,
    "start_time": "2022-06-06T15:25:20.291Z"
   },
   {
    "duration": 21,
    "start_time": "2022-06-06T15:25:20.332Z"
   },
   {
    "duration": 21,
    "start_time": "2022-06-06T15:25:20.355Z"
   },
   {
    "duration": 56,
    "start_time": "2022-06-06T15:25:20.378Z"
   },
   {
    "duration": 31,
    "start_time": "2022-06-06T15:25:20.436Z"
   },
   {
    "duration": 14,
    "start_time": "2022-06-06T15:25:20.469Z"
   },
   {
    "duration": 44,
    "start_time": "2022-06-06T15:25:20.485Z"
   },
   {
    "duration": 38,
    "start_time": "2022-06-06T15:25:20.533Z"
   },
   {
    "duration": 3,
    "start_time": "2022-06-06T15:25:20.573Z"
   },
   {
    "duration": 47,
    "start_time": "2022-06-06T15:25:20.577Z"
   },
   {
    "duration": 17,
    "start_time": "2022-06-06T15:25:20.626Z"
   },
   {
    "duration": 15,
    "start_time": "2022-06-06T15:25:20.645Z"
   },
   {
    "duration": 4,
    "start_time": "2022-06-06T15:25:20.663Z"
   },
   {
    "duration": 11,
    "start_time": "2022-06-06T15:25:20.668Z"
   },
   {
    "duration": 149,
    "start_time": "2022-06-06T15:25:20.681Z"
   },
   {
    "duration": 27,
    "start_time": "2022-06-06T15:25:20.832Z"
   },
   {
    "duration": 227,
    "start_time": "2022-06-06T15:25:20.861Z"
   },
   {
    "duration": 9,
    "start_time": "2022-06-06T15:25:21.091Z"
   },
   {
    "duration": 260,
    "start_time": "2022-06-06T15:25:21.102Z"
   },
   {
    "duration": 8,
    "start_time": "2022-06-06T15:25:21.364Z"
   },
   {
    "duration": 29,
    "start_time": "2022-06-06T15:25:21.373Z"
   },
   {
    "duration": 41,
    "start_time": "2022-06-06T15:25:21.404Z"
   },
   {
    "duration": 27,
    "start_time": "2022-06-06T15:25:21.446Z"
   },
   {
    "duration": 24,
    "start_time": "2022-06-06T15:25:21.475Z"
   },
   {
    "duration": 35,
    "start_time": "2022-06-06T15:25:21.500Z"
   },
   {
    "duration": 17,
    "start_time": "2022-06-06T15:25:21.536Z"
   },
   {
    "duration": 12,
    "start_time": "2022-06-06T15:25:21.555Z"
   },
   {
    "duration": 7,
    "start_time": "2022-06-06T15:25:21.569Z"
   },
   {
    "duration": 29,
    "start_time": "2022-06-06T15:25:21.577Z"
   },
   {
    "duration": 394,
    "start_time": "2022-06-06T15:25:21.608Z"
   },
   {
    "duration": 751,
    "start_time": "2022-06-06T15:25:22.005Z"
   },
   {
    "duration": 413,
    "start_time": "2022-06-06T15:25:22.758Z"
   },
   {
    "duration": 741,
    "start_time": "2022-06-06T15:25:23.172Z"
   },
   {
    "duration": 359,
    "start_time": "2022-06-06T15:25:23.916Z"
   },
   {
    "duration": 611,
    "start_time": "2022-06-06T15:25:24.277Z"
   },
   {
    "duration": 17,
    "start_time": "2022-06-06T15:25:24.890Z"
   },
   {
    "duration": 30,
    "start_time": "2022-06-06T15:25:24.909Z"
   },
   {
    "duration": 393,
    "start_time": "2022-06-06T15:25:24.941Z"
   },
   {
    "duration": 834,
    "start_time": "2022-06-06T15:25:25.336Z"
   },
   {
    "duration": 28,
    "start_time": "2022-06-06T15:25:26.173Z"
   },
   {
    "duration": 27,
    "start_time": "2022-06-06T15:25:26.203Z"
   },
   {
    "duration": 7,
    "start_time": "2022-06-06T15:25:26.232Z"
   },
   {
    "duration": 15,
    "start_time": "2022-06-06T15:25:26.241Z"
   },
   {
    "duration": 6,
    "start_time": "2022-06-06T15:25:26.258Z"
   },
   {
    "duration": 10,
    "start_time": "2022-06-06T15:25:26.266Z"
   },
   {
    "duration": 7,
    "start_time": "2022-06-06T15:25:26.278Z"
   },
   {
    "duration": 9,
    "start_time": "2022-06-06T15:25:26.286Z"
   },
   {
    "duration": 15,
    "start_time": "2022-06-06T15:41:56.100Z"
   },
   {
    "duration": 730,
    "start_time": "2022-06-06T15:44:56.259Z"
   },
   {
    "duration": 11,
    "start_time": "2022-06-06T15:46:49.189Z"
   },
   {
    "duration": 5,
    "start_time": "2022-06-06T15:51:09.395Z"
   },
   {
    "duration": 167,
    "start_time": "2022-06-06T16:15:59.476Z"
   },
   {
    "duration": 426,
    "start_time": "2022-06-06T16:16:48.460Z"
   },
   {
    "duration": 463,
    "start_time": "2022-06-06T16:18:01.143Z"
   },
   {
    "duration": 264,
    "start_time": "2022-06-06T16:18:10.435Z"
   },
   {
    "duration": 2085,
    "start_time": "2022-06-06T21:17:45.306Z"
   },
   {
    "duration": 3,
    "start_time": "2022-06-06T21:17:47.394Z"
   },
   {
    "duration": 14,
    "start_time": "2022-06-06T21:17:47.399Z"
   },
   {
    "duration": 129,
    "start_time": "2022-06-06T21:17:47.416Z"
   },
   {
    "duration": 261,
    "start_time": "2022-06-06T21:17:47.547Z"
   },
   {
    "duration": 10,
    "start_time": "2022-06-06T21:17:47.810Z"
   },
   {
    "duration": 233,
    "start_time": "2022-06-06T21:17:47.822Z"
   },
   {
    "duration": 588,
    "start_time": "2022-06-06T21:17:48.057Z"
   },
   {
    "duration": 396,
    "start_time": "2022-06-06T21:17:48.647Z"
   },
   {
    "duration": 68,
    "start_time": "2022-06-06T21:17:49.045Z"
   },
   {
    "duration": 162,
    "start_time": "2022-06-06T21:17:49.115Z"
   },
   {
    "duration": 128,
    "start_time": "2022-06-06T21:17:49.279Z"
   },
   {
    "duration": 18,
    "start_time": "2022-06-06T21:17:49.409Z"
   },
   {
    "duration": 106,
    "start_time": "2022-06-06T21:17:49.431Z"
   },
   {
    "duration": 5,
    "start_time": "2022-06-06T21:17:49.539Z"
   },
   {
    "duration": 15,
    "start_time": "2022-06-06T21:17:49.545Z"
   },
   {
    "duration": 40,
    "start_time": "2022-06-06T21:17:49.562Z"
   },
   {
    "duration": 5,
    "start_time": "2022-06-06T21:17:49.625Z"
   },
   {
    "duration": 16,
    "start_time": "2022-06-06T21:17:49.632Z"
   },
   {
    "duration": 39,
    "start_time": "2022-06-06T21:17:49.649Z"
   },
   {
    "duration": 4,
    "start_time": "2022-06-06T21:17:49.690Z"
   },
   {
    "duration": 37,
    "start_time": "2022-06-06T21:17:49.695Z"
   },
   {
    "duration": 34,
    "start_time": "2022-06-06T21:17:49.734Z"
   },
   {
    "duration": 22,
    "start_time": "2022-06-06T21:17:49.770Z"
   },
   {
    "duration": 47,
    "start_time": "2022-06-06T21:17:49.794Z"
   },
   {
    "duration": 35,
    "start_time": "2022-06-06T21:17:49.842Z"
   },
   {
    "duration": 16,
    "start_time": "2022-06-06T21:17:49.879Z"
   },
   {
    "duration": 23,
    "start_time": "2022-06-06T21:17:49.927Z"
   },
   {
    "duration": 25,
    "start_time": "2022-06-06T21:17:49.952Z"
   },
   {
    "duration": 2,
    "start_time": "2022-06-06T21:17:49.979Z"
   },
   {
    "duration": 15,
    "start_time": "2022-06-06T21:17:49.983Z"
   },
   {
    "duration": 10,
    "start_time": "2022-06-06T21:17:50.025Z"
   },
   {
    "duration": 25,
    "start_time": "2022-06-06T21:17:50.037Z"
   },
   {
    "duration": 9,
    "start_time": "2022-06-06T21:17:50.064Z"
   },
   {
    "duration": 9,
    "start_time": "2022-06-06T21:17:50.075Z"
   },
   {
    "duration": 156,
    "start_time": "2022-06-06T21:17:50.086Z"
   },
   {
    "duration": 28,
    "start_time": "2022-06-06T21:17:50.244Z"
   },
   {
    "duration": 225,
    "start_time": "2022-06-06T21:17:50.275Z"
   },
   {
    "duration": 10,
    "start_time": "2022-06-06T21:17:50.502Z"
   },
   {
    "duration": 290,
    "start_time": "2022-06-06T21:17:50.514Z"
   },
   {
    "duration": 8,
    "start_time": "2022-06-06T21:17:50.809Z"
   },
   {
    "duration": 51,
    "start_time": "2022-06-06T21:17:50.827Z"
   },
   {
    "duration": 41,
    "start_time": "2022-06-06T21:17:50.881Z"
   },
   {
    "duration": 31,
    "start_time": "2022-06-06T21:17:50.924Z"
   },
   {
    "duration": 27,
    "start_time": "2022-06-06T21:17:50.957Z"
   },
   {
    "duration": 5,
    "start_time": "2022-06-06T21:17:50.986Z"
   },
   {
    "duration": 14,
    "start_time": "2022-06-06T21:17:50.992Z"
   },
   {
    "duration": 23,
    "start_time": "2022-06-06T21:17:51.008Z"
   },
   {
    "duration": 15,
    "start_time": "2022-06-06T21:17:51.032Z"
   },
   {
    "duration": 20,
    "start_time": "2022-06-06T21:17:51.049Z"
   },
   {
    "duration": 511,
    "start_time": "2022-06-06T21:17:51.071Z"
   },
   {
    "duration": 706,
    "start_time": "2022-06-06T21:17:51.584Z"
   },
   {
    "duration": 410,
    "start_time": "2022-06-06T21:17:52.292Z"
   },
   {
    "duration": 785,
    "start_time": "2022-06-06T21:17:52.703Z"
   },
   {
    "duration": 391,
    "start_time": "2022-06-06T21:17:53.490Z"
   },
   {
    "duration": 518,
    "start_time": "2022-06-06T21:17:53.883Z"
   },
   {
    "duration": 28,
    "start_time": "2022-06-06T21:17:54.403Z"
   },
   {
    "duration": 14,
    "start_time": "2022-06-06T21:17:54.433Z"
   },
   {
    "duration": 429,
    "start_time": "2022-06-06T21:17:54.449Z"
   },
   {
    "duration": 862,
    "start_time": "2022-06-06T21:17:54.880Z"
   },
   {
    "duration": 22,
    "start_time": "2022-06-06T21:17:55.744Z"
   },
   {
    "duration": 10,
    "start_time": "2022-06-06T21:17:55.767Z"
   },
   {
    "duration": 6,
    "start_time": "2022-06-06T21:17:55.779Z"
   },
   {
    "duration": 38,
    "start_time": "2022-06-06T21:17:55.787Z"
   },
   {
    "duration": 25,
    "start_time": "2022-06-06T21:17:55.827Z"
   },
   {
    "duration": 23,
    "start_time": "2022-06-06T21:17:55.854Z"
   },
   {
    "duration": 6,
    "start_time": "2022-06-06T21:17:55.879Z"
   },
   {
    "duration": 12,
    "start_time": "2022-06-06T21:17:55.887Z"
   },
   {
    "duration": 28,
    "start_time": "2022-06-06T21:17:55.901Z"
   },
   {
    "duration": 1569,
    "start_time": "2022-06-06T21:34:44.198Z"
   },
   {
    "duration": 3,
    "start_time": "2022-06-06T21:34:45.769Z"
   },
   {
    "duration": 8,
    "start_time": "2022-06-06T21:34:45.774Z"
   },
   {
    "duration": 67,
    "start_time": "2022-06-06T21:34:45.784Z"
   },
   {
    "duration": 193,
    "start_time": "2022-06-06T21:34:45.852Z"
   },
   {
    "duration": 9,
    "start_time": "2022-06-06T21:34:46.047Z"
   },
   {
    "duration": 238,
    "start_time": "2022-06-06T21:34:46.058Z"
   },
   {
    "duration": 113,
    "start_time": "2022-06-06T21:34:46.298Z"
   },
   {
    "duration": 176,
    "start_time": "2022-06-06T21:34:46.413Z"
   },
   {
    "duration": 27,
    "start_time": "2022-06-06T21:34:46.591Z"
   },
   {
    "duration": 150,
    "start_time": "2022-06-06T21:34:46.620Z"
   },
   {
    "duration": 111,
    "start_time": "2022-06-06T21:34:46.771Z"
   },
   {
    "duration": 3,
    "start_time": "2022-06-06T21:34:46.884Z"
   },
   {
    "duration": 86,
    "start_time": "2022-06-06T21:34:46.888Z"
   },
   {
    "duration": 4,
    "start_time": "2022-06-06T21:34:46.976Z"
   },
   {
    "duration": 25,
    "start_time": "2022-06-06T21:34:46.981Z"
   },
   {
    "duration": 36,
    "start_time": "2022-06-06T21:34:47.008Z"
   },
   {
    "duration": 4,
    "start_time": "2022-06-06T21:34:47.046Z"
   },
   {
    "duration": 12,
    "start_time": "2022-06-06T21:34:47.051Z"
   },
   {
    "duration": 33,
    "start_time": "2022-06-06T21:34:47.064Z"
   },
   {
    "duration": 4,
    "start_time": "2022-06-06T21:34:47.099Z"
   },
   {
    "duration": 9,
    "start_time": "2022-06-06T21:34:47.126Z"
   },
   {
    "duration": 25,
    "start_time": "2022-06-06T21:34:47.136Z"
   },
   {
    "duration": 20,
    "start_time": "2022-06-06T21:34:47.162Z"
   },
   {
    "duration": 59,
    "start_time": "2022-06-06T21:34:47.183Z"
   },
   {
    "duration": 29,
    "start_time": "2022-06-06T21:34:47.244Z"
   },
   {
    "duration": 14,
    "start_time": "2022-06-06T21:34:47.274Z"
   },
   {
    "duration": 42,
    "start_time": "2022-06-06T21:34:47.291Z"
   },
   {
    "duration": 22,
    "start_time": "2022-06-06T21:34:47.335Z"
   },
   {
    "duration": 2,
    "start_time": "2022-06-06T21:34:47.359Z"
   },
   {
    "duration": 12,
    "start_time": "2022-06-06T21:34:47.362Z"
   },
   {
    "duration": 17,
    "start_time": "2022-06-06T21:34:47.375Z"
   },
   {
    "duration": 39,
    "start_time": "2022-06-06T21:34:47.394Z"
   },
   {
    "duration": 4,
    "start_time": "2022-06-06T21:34:47.435Z"
   },
   {
    "duration": 9,
    "start_time": "2022-06-06T21:34:47.440Z"
   },
   {
    "duration": 146,
    "start_time": "2022-06-06T21:34:47.450Z"
   },
   {
    "duration": 30,
    "start_time": "2022-06-06T21:34:47.597Z"
   },
   {
    "duration": 198,
    "start_time": "2022-06-06T21:34:47.628Z"
   },
   {
    "duration": 7,
    "start_time": "2022-06-06T21:34:47.828Z"
   },
   {
    "duration": 249,
    "start_time": "2022-06-06T21:34:47.837Z"
   },
   {
    "duration": 8,
    "start_time": "2022-06-06T21:34:48.088Z"
   },
   {
    "duration": 35,
    "start_time": "2022-06-06T21:34:48.098Z"
   },
   {
    "duration": 31,
    "start_time": "2022-06-06T21:34:48.134Z"
   },
   {
    "duration": 26,
    "start_time": "2022-06-06T21:34:48.167Z"
   },
   {
    "duration": 49,
    "start_time": "2022-06-06T21:34:48.194Z"
   },
   {
    "duration": 5,
    "start_time": "2022-06-06T21:34:48.244Z"
   },
   {
    "duration": 8,
    "start_time": "2022-06-06T21:34:48.251Z"
   },
   {
    "duration": 12,
    "start_time": "2022-06-06T21:34:48.261Z"
   },
   {
    "duration": 12,
    "start_time": "2022-06-06T21:34:48.275Z"
   },
   {
    "duration": 25,
    "start_time": "2022-06-06T21:34:48.289Z"
   },
   {
    "duration": 505,
    "start_time": "2022-06-06T21:34:48.315Z"
   },
   {
    "duration": 694,
    "start_time": "2022-06-06T21:34:48.821Z"
   },
   {
    "duration": 455,
    "start_time": "2022-06-06T21:34:49.517Z"
   },
   {
    "duration": 802,
    "start_time": "2022-06-06T21:34:49.974Z"
   },
   {
    "duration": 364,
    "start_time": "2022-06-06T21:34:50.777Z"
   },
   {
    "duration": 527,
    "start_time": "2022-06-06T21:34:51.143Z"
   },
   {
    "duration": 18,
    "start_time": "2022-06-06T21:34:51.671Z"
   },
   {
    "duration": 9,
    "start_time": "2022-06-06T21:34:51.691Z"
   },
   {
    "duration": 386,
    "start_time": "2022-06-06T21:34:51.727Z"
   },
   {
    "duration": 887,
    "start_time": "2022-06-06T21:34:52.115Z"
   },
   {
    "duration": 30,
    "start_time": "2022-06-06T21:34:53.004Z"
   },
   {
    "duration": 10,
    "start_time": "2022-06-06T21:34:53.035Z"
   },
   {
    "duration": 12,
    "start_time": "2022-06-06T21:34:53.046Z"
   },
   {
    "duration": 13,
    "start_time": "2022-06-06T21:34:53.060Z"
   },
   {
    "duration": 18,
    "start_time": "2022-06-06T21:34:53.074Z"
   },
   {
    "duration": 12,
    "start_time": "2022-06-06T21:34:53.094Z"
   },
   {
    "duration": 19,
    "start_time": "2022-06-06T21:34:53.108Z"
   },
   {
    "duration": 12,
    "start_time": "2022-06-06T21:34:53.129Z"
   },
   {
    "duration": 14,
    "start_time": "2022-06-06T21:34:53.143Z"
   }
  ],
  "kernelspec": {
   "display_name": "Python 3 (ipykernel)",
   "language": "python",
   "name": "python3"
  },
  "language_info": {
   "codemirror_mode": {
    "name": "ipython",
    "version": 3
   },
   "file_extension": ".py",
   "mimetype": "text/x-python",
   "name": "python",
   "nbconvert_exporter": "python",
   "pygments_lexer": "ipython3",
   "version": "3.9.5"
  },
  "toc": {
   "base_numbering": 1,
   "nav_menu": {},
   "number_sections": true,
   "sideBar": true,
   "skip_h1_title": true,
   "title_cell": "Table of Contents",
   "title_sidebar": "Contents",
   "toc_cell": false,
   "toc_position": {
    "height": "calc(100% - 180px)",
    "left": "10px",
    "top": "150px",
    "width": "290px"
   },
   "toc_section_display": true,
   "toc_window_display": true
  }
 },
 "nbformat": 4,
 "nbformat_minor": 2
}
