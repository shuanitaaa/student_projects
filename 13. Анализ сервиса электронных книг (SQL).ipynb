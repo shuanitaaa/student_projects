{
 "cells": [
  {
   "cell_type": "markdown",
   "metadata": {},
   "source": [
    "# Анализ сервиса электронных книг (SQL)\n",
    "\n",
    "<div style=\"border:solid green 2px; padding: 20px\">\n",
    "\n",
    "**Компания заказчик** - Стартап по предоставлению электронных книг по подписке\n",
    "\n",
    "**Основная цель исследования** - Проанализировать базу данных только что приобретенного крупного сервиса для чтения книг по подписке  с целью формирования целостного предложения для нового продукта.\n",
    "\n",
    "**Задачи исследования:**\n",
    "- проанализировать информацию о книгах, издательствах, авторах\n",
    "- проанализировать пользовательские обзоры книг\n",
    "\n",
    "---\n",
    "\n",
    "**Описание данных**\n",
    "_**Таблица `books`**_ - содержит информацию о книгах\n",
    "\n",
    "- `book_id` — идентификатор книги;\n",
    "- `author_id` — идентификатор автора;\n",
    "- `title` — название книги;\n",
    "- `num_pages` — количество страниц;\n",
    "- `publication_date` — дата публикации книги;\n",
    "- `publisher_id` — идентификатор издателя.\n",
    "\n",
    "_**Таблица `authors`**_ - содержит информацию об авторах\n",
    "\n",
    "- `author_id` — идентификатор автора;\n",
    "- `author` — имя автора.\n",
    "\n",
    "_**Таблица `publishers`**_ - содержит информацию об издательствах\n",
    "\n",
    "- `publisher_id` — идентификатор издательства;\n",
    "- `publisher` — название издательства;\n",
    "\n",
    "_**Таблица `ratings`**_ - содержит информацию о пользовательских оценках\n",
    "\n",
    "- `rating_id` — идентификатор оценки;\n",
    "- `book_id` — идентификатор книги;\n",
    "- `username` — имя пользователя, оставившего оценку;\n",
    "- `rating` — оценка книги.\n",
    "\n",
    "_**Таблица `reviews`**_ - содержит информацию о пользовательских обзорах\n",
    "\n",
    "- `review_id` — идентификатор обзора;\n",
    "- `book_id` — идентификатор книги;\n",
    "- `username` — имя пользователя, написавшего обзор;\n",
    "- `text` — текст обзора."
   ]
  },
  {
   "cell_type": "markdown",
   "metadata": {},
   "source": [
    "## Подготовительный этап"
   ]
  },
  {
   "cell_type": "code",
   "execution_count": 1,
   "metadata": {},
   "outputs": [
    {
     "name": "stdout",
     "output_type": "stream",
     "text": [
      "Requirement already satisfied: psycopg2-binary in /Users/Ksenia/opt/anaconda3/lib/python3.9/site-packages (2.9.3)\r\n"
     ]
    }
   ],
   "source": [
    "# установка необходимой библиотеки\n",
    "!pip install psycopg2-binary"
   ]
  },
  {
   "cell_type": "code",
   "execution_count": 2,
   "metadata": {},
   "outputs": [],
   "source": [
    "# импортируем библиотеки\n",
    "import pandas as pd\n",
    "from sqlalchemy import create_engine\n",
    "# устанавливаем параметры\n",
    "db_config = {'user': 'praktikum_student', # имя пользователя\n",
    "             'pwd': 'Sdf4$2;d-d30pp', # пароль\n",
    "             'host': 'rc1b-wcoijxj3yxfsf3fs.mdb.yandexcloud.net',\n",
    "             'port': 6432, # порт подключения\n",
    "             'db': 'data-analyst-final-project-db'} # название базы данных\n",
    "\n",
    "connection_string = 'postgresql://{}:{}@{}:{}/{}'.format(db_config['user'],\n",
    "                                                         db_config['pwd'],\n",
    "                                                         db_config['host'],\n",
    "                                                         db_config['port'],\n",
    "                                                         db_config['db'])\n",
    "\n",
    "# сохраняем коннектор\n",
    "engine = create_engine(connection_string, connect_args={'sslmode':'require'}) "
   ]
  },
  {
   "cell_type": "markdown",
   "metadata": {},
   "source": [
    "Выведем таблицы для знакомства."
   ]
  },
  {
   "cell_type": "code",
   "execution_count": 3,
   "metadata": {},
   "outputs": [
    {
     "data": {
      "text/html": [
       "<div>\n",
       "<style scoped>\n",
       "    .dataframe tbody tr th:only-of-type {\n",
       "        vertical-align: middle;\n",
       "    }\n",
       "\n",
       "    .dataframe tbody tr th {\n",
       "        vertical-align: top;\n",
       "    }\n",
       "\n",
       "    .dataframe thead th {\n",
       "        text-align: right;\n",
       "    }\n",
       "</style>\n",
       "<table border=\"1\" class=\"dataframe\">\n",
       "  <thead>\n",
       "    <tr style=\"text-align: right;\">\n",
       "      <th></th>\n",
       "      <th>book_id</th>\n",
       "      <th>author_id</th>\n",
       "      <th>title</th>\n",
       "      <th>num_pages</th>\n",
       "      <th>publication_date</th>\n",
       "      <th>publisher_id</th>\n",
       "    </tr>\n",
       "  </thead>\n",
       "  <tbody>\n",
       "    <tr>\n",
       "      <th>0</th>\n",
       "      <td>1</td>\n",
       "      <td>546</td>\n",
       "      <td>'Salem's Lot</td>\n",
       "      <td>594</td>\n",
       "      <td>2005-11-01</td>\n",
       "      <td>93</td>\n",
       "    </tr>\n",
       "  </tbody>\n",
       "</table>\n",
       "</div>"
      ],
      "text/plain": [
       "   book_id  author_id         title  num_pages publication_date  publisher_id\n",
       "0        1        546  'Salem's Lot        594       2005-11-01            93"
      ]
     },
     "execution_count": 3,
     "metadata": {},
     "output_type": "execute_result"
    }
   ],
   "source": [
    "# таблица с информацией о книгах\n",
    "query = '''\n",
    "        SELECT * \n",
    "        FROM books;\n",
    "'''.format('books')\n",
    "    \n",
    "\n",
    "books = pd.io.sql.read_sql(query, con = engine) \n",
    "books.head(1)"
   ]
  },
  {
   "cell_type": "code",
   "execution_count": 4,
   "metadata": {},
   "outputs": [
    {
     "data": {
      "text/html": [
       "<div>\n",
       "<style scoped>\n",
       "    .dataframe tbody tr th:only-of-type {\n",
       "        vertical-align: middle;\n",
       "    }\n",
       "\n",
       "    .dataframe tbody tr th {\n",
       "        vertical-align: top;\n",
       "    }\n",
       "\n",
       "    .dataframe thead th {\n",
       "        text-align: right;\n",
       "    }\n",
       "</style>\n",
       "<table border=\"1\" class=\"dataframe\">\n",
       "  <thead>\n",
       "    <tr style=\"text-align: right;\">\n",
       "      <th></th>\n",
       "      <th>author_id</th>\n",
       "      <th>author</th>\n",
       "    </tr>\n",
       "  </thead>\n",
       "  <tbody>\n",
       "    <tr>\n",
       "      <th>0</th>\n",
       "      <td>1</td>\n",
       "      <td>A.S. Byatt</td>\n",
       "    </tr>\n",
       "  </tbody>\n",
       "</table>\n",
       "</div>"
      ],
      "text/plain": [
       "   author_id      author\n",
       "0          1  A.S. Byatt"
      ]
     },
     "execution_count": 4,
     "metadata": {},
     "output_type": "execute_result"
    }
   ],
   "source": [
    "# таблица с информацией об авторах\n",
    "query = '''\n",
    "        SELECT * \n",
    "        FROM authors;\n",
    "'''.format('authors')\n",
    "    \n",
    "\n",
    "authors = pd.io.sql.read_sql(query, con = engine) \n",
    "authors.head(1)"
   ]
  },
  {
   "cell_type": "code",
   "execution_count": 5,
   "metadata": {},
   "outputs": [
    {
     "data": {
      "text/html": [
       "<div>\n",
       "<style scoped>\n",
       "    .dataframe tbody tr th:only-of-type {\n",
       "        vertical-align: middle;\n",
       "    }\n",
       "\n",
       "    .dataframe tbody tr th {\n",
       "        vertical-align: top;\n",
       "    }\n",
       "\n",
       "    .dataframe thead th {\n",
       "        text-align: right;\n",
       "    }\n",
       "</style>\n",
       "<table border=\"1\" class=\"dataframe\">\n",
       "  <thead>\n",
       "    <tr style=\"text-align: right;\">\n",
       "      <th></th>\n",
       "      <th>publisher_id</th>\n",
       "      <th>publisher</th>\n",
       "    </tr>\n",
       "  </thead>\n",
       "  <tbody>\n",
       "    <tr>\n",
       "      <th>0</th>\n",
       "      <td>1</td>\n",
       "      <td>Ace</td>\n",
       "    </tr>\n",
       "  </tbody>\n",
       "</table>\n",
       "</div>"
      ],
      "text/plain": [
       "   publisher_id publisher\n",
       "0             1       Ace"
      ]
     },
     "execution_count": 5,
     "metadata": {},
     "output_type": "execute_result"
    }
   ],
   "source": [
    "# таблица с информацией об издательствах\n",
    "query = '''\n",
    "        SELECT * \n",
    "        FROM publishers;\n",
    "'''.format('publishers')\n",
    "    \n",
    "\n",
    "publishers = pd.io.sql.read_sql(query, con = engine) \n",
    "publishers.head(1)"
   ]
  },
  {
   "cell_type": "code",
   "execution_count": 6,
   "metadata": {},
   "outputs": [
    {
     "data": {
      "text/html": [
       "<div>\n",
       "<style scoped>\n",
       "    .dataframe tbody tr th:only-of-type {\n",
       "        vertical-align: middle;\n",
       "    }\n",
       "\n",
       "    .dataframe tbody tr th {\n",
       "        vertical-align: top;\n",
       "    }\n",
       "\n",
       "    .dataframe thead th {\n",
       "        text-align: right;\n",
       "    }\n",
       "</style>\n",
       "<table border=\"1\" class=\"dataframe\">\n",
       "  <thead>\n",
       "    <tr style=\"text-align: right;\">\n",
       "      <th></th>\n",
       "      <th>rating_id</th>\n",
       "      <th>book_id</th>\n",
       "      <th>username</th>\n",
       "      <th>rating</th>\n",
       "    </tr>\n",
       "  </thead>\n",
       "  <tbody>\n",
       "    <tr>\n",
       "      <th>0</th>\n",
       "      <td>1</td>\n",
       "      <td>1</td>\n",
       "      <td>ryanfranco</td>\n",
       "      <td>4</td>\n",
       "    </tr>\n",
       "  </tbody>\n",
       "</table>\n",
       "</div>"
      ],
      "text/plain": [
       "   rating_id  book_id    username  rating\n",
       "0          1        1  ryanfranco       4"
      ]
     },
     "execution_count": 6,
     "metadata": {},
     "output_type": "execute_result"
    }
   ],
   "source": [
    "# таблица с информацией об оценках книг\n",
    "query = '''\n",
    "        SELECT * \n",
    "        FROM ratings;\n",
    "'''.format('ratings')\n",
    "    \n",
    "\n",
    "ratings = pd.io.sql.read_sql(query, con = engine) \n",
    "ratings.head(1)"
   ]
  },
  {
   "cell_type": "code",
   "execution_count": 7,
   "metadata": {},
   "outputs": [
    {
     "data": {
      "text/html": [
       "<div>\n",
       "<style scoped>\n",
       "    .dataframe tbody tr th:only-of-type {\n",
       "        vertical-align: middle;\n",
       "    }\n",
       "\n",
       "    .dataframe tbody tr th {\n",
       "        vertical-align: top;\n",
       "    }\n",
       "\n",
       "    .dataframe thead th {\n",
       "        text-align: right;\n",
       "    }\n",
       "</style>\n",
       "<table border=\"1\" class=\"dataframe\">\n",
       "  <thead>\n",
       "    <tr style=\"text-align: right;\">\n",
       "      <th></th>\n",
       "      <th>review_id</th>\n",
       "      <th>book_id</th>\n",
       "      <th>username</th>\n",
       "      <th>text</th>\n",
       "    </tr>\n",
       "  </thead>\n",
       "  <tbody>\n",
       "    <tr>\n",
       "      <th>0</th>\n",
       "      <td>1</td>\n",
       "      <td>1</td>\n",
       "      <td>brandtandrea</td>\n",
       "      <td>Mention society tell send professor analysis. ...</td>\n",
       "    </tr>\n",
       "  </tbody>\n",
       "</table>\n",
       "</div>"
      ],
      "text/plain": [
       "   review_id  book_id      username  \\\n",
       "0          1        1  brandtandrea   \n",
       "\n",
       "                                                text  \n",
       "0  Mention society tell send professor analysis. ...  "
      ]
     },
     "execution_count": 7,
     "metadata": {},
     "output_type": "execute_result"
    }
   ],
   "source": [
    "# таблица с информацией об обзорах\n",
    "query = '''\n",
    "        SELECT * \n",
    "        FROM reviews;\n",
    "'''.format('reviews')\n",
    "    \n",
    "\n",
    "reviews = pd.io.sql.read_sql(query, con = engine) \n",
    "reviews.head(1)"
   ]
  },
  {
   "cell_type": "markdown",
   "metadata": {},
   "source": [
    "## Задача 1\n",
    "\n",
    "<div style=\"border:solid black 0.5px; padding: 20px\">\n",
    "\n",
    "Необходимо подсчитать, сколько книг вышло после 1 января 2000 года."
   ]
  },
  {
   "cell_type": "code",
   "execution_count": 8,
   "metadata": {},
   "outputs": [
    {
     "data": {
      "text/html": [
       "<div>\n",
       "<style scoped>\n",
       "    .dataframe tbody tr th:only-of-type {\n",
       "        vertical-align: middle;\n",
       "    }\n",
       "\n",
       "    .dataframe tbody tr th {\n",
       "        vertical-align: top;\n",
       "    }\n",
       "\n",
       "    .dataframe thead th {\n",
       "        text-align: right;\n",
       "    }\n",
       "</style>\n",
       "<table border=\"1\" class=\"dataframe\">\n",
       "  <thead>\n",
       "    <tr style=\"text-align: right;\">\n",
       "      <th></th>\n",
       "      <th>count</th>\n",
       "    </tr>\n",
       "  </thead>\n",
       "  <tbody>\n",
       "    <tr>\n",
       "      <th>0</th>\n",
       "      <td>819</td>\n",
       "    </tr>\n",
       "  </tbody>\n",
       "</table>\n",
       "</div>"
      ],
      "text/plain": [
       "   count\n",
       "0    819"
      ]
     },
     "execution_count": 8,
     "metadata": {},
     "output_type": "execute_result"
    }
   ],
   "source": [
    "task_1 = '''\n",
    "        SELECT COUNT(book_id)\n",
    "        FROM books\n",
    "        WHERE publication_date > '2000-01-01';\n",
    "'''.format('task_1')\n",
    "    \n",
    "\n",
    "task_1 = pd.io.sql.read_sql(task_1, con = engine) \n",
    "task_1"
   ]
  },
  {
   "cell_type": "markdown",
   "metadata": {},
   "source": [
    "### Вывод\n",
    "\n",
    "- После 1 января 2000 года вышло 819 книг"
   ]
  },
  {
   "cell_type": "markdown",
   "metadata": {},
   "source": [
    "## Задача 2\n",
    "\n",
    "<div style=\"border:solid black 0.5px; padding: 20px\">\n",
    "\n",
    "Необходимо расчитать для каждой книги:\n",
    "- количество обзоров\n",
    "- среднюю оценку"
   ]
  },
  {
   "cell_type": "code",
   "execution_count": 9,
   "metadata": {},
   "outputs": [
    {
     "data": {
      "text/html": [
       "<div>\n",
       "<style scoped>\n",
       "    .dataframe tbody tr th:only-of-type {\n",
       "        vertical-align: middle;\n",
       "    }\n",
       "\n",
       "    .dataframe tbody tr th {\n",
       "        vertical-align: top;\n",
       "    }\n",
       "\n",
       "    .dataframe thead th {\n",
       "        text-align: right;\n",
       "    }\n",
       "</style>\n",
       "<table border=\"1\" class=\"dataframe\">\n",
       "  <thead>\n",
       "    <tr style=\"text-align: right;\">\n",
       "      <th></th>\n",
       "      <th>book_id</th>\n",
       "      <th>title</th>\n",
       "      <th>count_review</th>\n",
       "      <th>avg_ratings</th>\n",
       "    </tr>\n",
       "  </thead>\n",
       "  <tbody>\n",
       "    <tr>\n",
       "      <th>0</th>\n",
       "      <td>948</td>\n",
       "      <td>Twilight (Twilight  #1)</td>\n",
       "      <td>7</td>\n",
       "      <td>3.662500</td>\n",
       "    </tr>\n",
       "    <tr>\n",
       "      <th>1</th>\n",
       "      <td>302</td>\n",
       "      <td>Harry Potter and the Prisoner of Azkaban (Harr...</td>\n",
       "      <td>6</td>\n",
       "      <td>4.414634</td>\n",
       "    </tr>\n",
       "    <tr>\n",
       "      <th>2</th>\n",
       "      <td>299</td>\n",
       "      <td>Harry Potter and the Chamber of Secrets (Harry...</td>\n",
       "      <td>6</td>\n",
       "      <td>4.287500</td>\n",
       "    </tr>\n",
       "    <tr>\n",
       "      <th>3</th>\n",
       "      <td>656</td>\n",
       "      <td>The Book Thief</td>\n",
       "      <td>6</td>\n",
       "      <td>4.264151</td>\n",
       "    </tr>\n",
       "    <tr>\n",
       "      <th>4</th>\n",
       "      <td>734</td>\n",
       "      <td>The Glass Castle</td>\n",
       "      <td>6</td>\n",
       "      <td>4.206897</td>\n",
       "    </tr>\n",
       "    <tr>\n",
       "      <th>...</th>\n",
       "      <td>...</td>\n",
       "      <td>...</td>\n",
       "      <td>...</td>\n",
       "      <td>...</td>\n",
       "    </tr>\n",
       "    <tr>\n",
       "      <th>995</th>\n",
       "      <td>191</td>\n",
       "      <td>Disney's Beauty and the Beast (A Little Golden...</td>\n",
       "      <td>0</td>\n",
       "      <td>4.000000</td>\n",
       "    </tr>\n",
       "    <tr>\n",
       "      <th>996</th>\n",
       "      <td>387</td>\n",
       "      <td>Leonardo's Notebooks</td>\n",
       "      <td>0</td>\n",
       "      <td>4.000000</td>\n",
       "    </tr>\n",
       "    <tr>\n",
       "      <th>997</th>\n",
       "      <td>221</td>\n",
       "      <td>Essential Tales and Poems</td>\n",
       "      <td>0</td>\n",
       "      <td>4.000000</td>\n",
       "    </tr>\n",
       "    <tr>\n",
       "      <th>998</th>\n",
       "      <td>83</td>\n",
       "      <td>Anne Rice's The Vampire Lestat: A Graphic Novel</td>\n",
       "      <td>0</td>\n",
       "      <td>3.666667</td>\n",
       "    </tr>\n",
       "    <tr>\n",
       "      <th>999</th>\n",
       "      <td>808</td>\n",
       "      <td>The Natural Way to Draw</td>\n",
       "      <td>0</td>\n",
       "      <td>3.000000</td>\n",
       "    </tr>\n",
       "  </tbody>\n",
       "</table>\n",
       "<p>1000 rows × 4 columns</p>\n",
       "</div>"
      ],
      "text/plain": [
       "     book_id                                              title  count_review  \\\n",
       "0        948                            Twilight (Twilight  #1)             7   \n",
       "1        302  Harry Potter and the Prisoner of Azkaban (Harr...             6   \n",
       "2        299  Harry Potter and the Chamber of Secrets (Harry...             6   \n",
       "3        656                                     The Book Thief             6   \n",
       "4        734                                   The Glass Castle             6   \n",
       "..       ...                                                ...           ...   \n",
       "995      191  Disney's Beauty and the Beast (A Little Golden...             0   \n",
       "996      387                               Leonardo's Notebooks             0   \n",
       "997      221                          Essential Tales and Poems             0   \n",
       "998       83    Anne Rice's The Vampire Lestat: A Graphic Novel             0   \n",
       "999      808                            The Natural Way to Draw             0   \n",
       "\n",
       "     avg_ratings  \n",
       "0       3.662500  \n",
       "1       4.414634  \n",
       "2       4.287500  \n",
       "3       4.264151  \n",
       "4       4.206897  \n",
       "..           ...  \n",
       "995     4.000000  \n",
       "996     4.000000  \n",
       "997     4.000000  \n",
       "998     3.666667  \n",
       "999     3.000000  \n",
       "\n",
       "[1000 rows x 4 columns]"
      ]
     },
     "execution_count": 9,
     "metadata": {},
     "output_type": "execute_result"
    }
   ],
   "source": [
    "task_2 = '''\n",
    "        SELECT b.book_id,\n",
    "               b.title, \n",
    "               COUNT(DISTINCT rev.review_id) AS count_review,  \n",
    "               AVG(rat.rating) AS avg_ratings         \n",
    "        FROM books AS b\n",
    "        LEFT JOIN ratings AS rat ON rat.book_id = b.book_id \n",
    "        LEFT JOIN reviews AS rev ON rev.book_id = b.book_id \n",
    "        GROUP BY b.book_id\n",
    "        ORDER BY count_review DESC, avg_ratings DESC;\n",
    "'''.format('task_2')\n",
    "    \n",
    "\n",
    "task_2 = pd.io.sql.read_sql(task_2, con = engine) \n",
    "task_2"
   ]
  },
  {
   "cell_type": "markdown",
   "metadata": {},
   "source": [
    "### Вывод\n",
    "\n",
    "- Первое место по числу обзоров занимает первая книга в саге Сумерки (Twilight (Twilight #1)), что абсолютно не удивительно, учитывая популярность данного издания в свое время. Средняя оценка 3,66, что далеко не самый лучший результат оценки читателем.\n",
    "- Одинаковое число обзоров (6) у нескольких произведений:\n",
    ">-  Гарри Поттер и Узник Азкабана (средняя оценка 4,41)\n",
    ">-  Гарри Поттер и Тайная Комната (средняя оценка 4,28)\n",
    ">-  Воровка книг (средняя оценка 4,26)\n",
    ">-  Замок из стекла (средняя оценка 4,2)\n",
    "\n",
    "Проверим какая книга занимает первое место по средней оценке с учетом числа обзоров"
   ]
  },
  {
   "cell_type": "code",
   "execution_count": 10,
   "metadata": {},
   "outputs": [
    {
     "data": {
      "text/html": [
       "<div>\n",
       "<style scoped>\n",
       "    .dataframe tbody tr th:only-of-type {\n",
       "        vertical-align: middle;\n",
       "    }\n",
       "\n",
       "    .dataframe tbody tr th {\n",
       "        vertical-align: top;\n",
       "    }\n",
       "\n",
       "    .dataframe thead th {\n",
       "        text-align: right;\n",
       "    }\n",
       "</style>\n",
       "<table border=\"1\" class=\"dataframe\">\n",
       "  <thead>\n",
       "    <tr style=\"text-align: right;\">\n",
       "      <th></th>\n",
       "      <th>book_id</th>\n",
       "      <th>title</th>\n",
       "      <th>count_review</th>\n",
       "      <th>avg_ratings</th>\n",
       "    </tr>\n",
       "  </thead>\n",
       "  <tbody>\n",
       "    <tr>\n",
       "      <th>0</th>\n",
       "      <td>17</td>\n",
       "      <td>A Dirty Job (Grim Reaper  #1)</td>\n",
       "      <td>4</td>\n",
       "      <td>5.0</td>\n",
       "    </tr>\n",
       "  </tbody>\n",
       "</table>\n",
       "</div>"
      ],
      "text/plain": [
       "   book_id                          title  count_review  avg_ratings\n",
       "0       17  A Dirty Job (Grim Reaper  #1)             4          5.0"
      ]
     },
     "execution_count": 10,
     "metadata": {},
     "output_type": "execute_result"
    }
   ],
   "source": [
    "task_2_2 = '''\n",
    "        SELECT b.book_id,\n",
    "               b.title, \n",
    "               COUNT(DISTINCT rev.review_id) AS count_review,  \n",
    "               AVG(rat.rating) AS avg_ratings         \n",
    "        FROM books AS b\n",
    "        LEFT JOIN ratings AS rat ON rat.book_id = b.book_id \n",
    "        LEFT JOIN reviews AS rev ON rev.book_id = b.book_id \n",
    "        GROUP BY b.book_id\n",
    "        ORDER BY avg_ratings DESC, count_review DESC\n",
    "        LIMIT 1;\n",
    "'''.format('task_2')\n",
    "    \n",
    "\n",
    "task_2_2 = pd.io.sql.read_sql(task_2_2, con = engine) \n",
    "task_2_2"
   ]
  },
  {
   "cell_type": "markdown",
   "metadata": {},
   "source": [
    "- Первое место по числу обзоров, и с максимальной оценкой - 5 - занимает произведение Кристофера Мура \"Грязна работа\""
   ]
  },
  {
   "cell_type": "markdown",
   "metadata": {},
   "source": [
    "## Задача 3\n",
    "\n",
    "<div style=\"border:solid black 0.5px; padding: 20px\">\n",
    "\n",
    "Определить издательство, которое выпустило наибольшее число книг толще 50 страниц (в целях исключения из анализа брошюр)"
   ]
  },
  {
   "cell_type": "code",
   "execution_count": 11,
   "metadata": {},
   "outputs": [
    {
     "data": {
      "text/html": [
       "<div>\n",
       "<style scoped>\n",
       "    .dataframe tbody tr th:only-of-type {\n",
       "        vertical-align: middle;\n",
       "    }\n",
       "\n",
       "    .dataframe tbody tr th {\n",
       "        vertical-align: top;\n",
       "    }\n",
       "\n",
       "    .dataframe thead th {\n",
       "        text-align: right;\n",
       "    }\n",
       "</style>\n",
       "<table border=\"1\" class=\"dataframe\">\n",
       "  <thead>\n",
       "    <tr style=\"text-align: right;\">\n",
       "      <th></th>\n",
       "      <th>publisher</th>\n",
       "      <th>count_books</th>\n",
       "    </tr>\n",
       "  </thead>\n",
       "  <tbody>\n",
       "    <tr>\n",
       "      <th>0</th>\n",
       "      <td>Penguin Books</td>\n",
       "      <td>42</td>\n",
       "    </tr>\n",
       "  </tbody>\n",
       "</table>\n",
       "</div>"
      ],
      "text/plain": [
       "       publisher  count_books\n",
       "0  Penguin Books           42"
      ]
     },
     "execution_count": 11,
     "metadata": {},
     "output_type": "execute_result"
    }
   ],
   "source": [
    "task_3 = '''\n",
    "        SELECT p.publisher,\n",
    "               COUNT(b.book_id) AS count_books\n",
    "        FROM publishers AS p\n",
    "        LEFT JOIN books AS b ON p.publisher_id = b.publisher_id\n",
    "        WHERE num_pages > 50\n",
    "        GROUP BY p.publisher\n",
    "        ORDER BY count_books DESC\n",
    "        LIMIT 1;\n",
    "'''.format('task_3')\n",
    "    \n",
    "\n",
    "task_3 = pd.io.sql.read_sql(task_3, con = engine) \n",
    "task_3"
   ]
  },
  {
   "cell_type": "markdown",
   "metadata": {},
   "source": [
    "### Вывод\n",
    "\n",
    "- Первое место среди издательств по числу выпущенных книг (исключая брошюры толщиной менее 50 страниц), занимает издательство \"Penguin Books\""
   ]
  },
  {
   "cell_type": "markdown",
   "metadata": {},
   "source": [
    "## Задача 4\n",
    "\n",
    "<div style=\"border:solid black 0.5px; padding: 20px\">\n",
    "\n",
    "Определить автора с самой высокой средней оценкой книг (необходимо учитывать только книги с 50 и более оценками)"
   ]
  },
  {
   "cell_type": "code",
   "execution_count": 12,
   "metadata": {
    "scrolled": true
   },
   "outputs": [
    {
     "data": {
      "text/html": [
       "<div>\n",
       "<style scoped>\n",
       "    .dataframe tbody tr th:only-of-type {\n",
       "        vertical-align: middle;\n",
       "    }\n",
       "\n",
       "    .dataframe tbody tr th {\n",
       "        vertical-align: top;\n",
       "    }\n",
       "\n",
       "    .dataframe thead th {\n",
       "        text-align: right;\n",
       "    }\n",
       "</style>\n",
       "<table border=\"1\" class=\"dataframe\">\n",
       "  <thead>\n",
       "    <tr style=\"text-align: right;\">\n",
       "      <th></th>\n",
       "      <th>author</th>\n",
       "      <th>avg_rating</th>\n",
       "    </tr>\n",
       "  </thead>\n",
       "  <tbody>\n",
       "    <tr>\n",
       "      <th>0</th>\n",
       "      <td>J.K. Rowling/Mary GrandPré</td>\n",
       "      <td>4.287097</td>\n",
       "    </tr>\n",
       "  </tbody>\n",
       "</table>\n",
       "</div>"
      ],
      "text/plain": [
       "                       author  avg_rating\n",
       "0  J.K. Rowling/Mary GrandPré    4.287097"
      ]
     },
     "execution_count": 12,
     "metadata": {},
     "output_type": "execute_result"
    }
   ],
   "source": [
    "task_4 = '''\n",
    "        SELECT author,\n",
    "               AVG(second.rating) AS avg_rating\n",
    "        FROM (\n",
    "                SELECT author,\n",
    "                       AVG(rating) AS rating\n",
    "                FROM (\n",
    "                        SELECT *\n",
    "                        FROM books\n",
    "                        WHERE book_id IN (SELECT book_id  \n",
    "                                          FROM ratings\n",
    "                                          GROUP BY book_id\n",
    "                                          HAVING COUNT(rating) >= 50)) AS first\n",
    "                                         \n",
    "                INNER JOIN authors AS a ON first.author_id = a.author_id\n",
    "                INNER JOIN ratings AS rat ON first.book_id = rat.book_id\n",
    "                GROUP BY author\n",
    "                ORDER BY author) AS second\n",
    "                \n",
    "        GROUP BY author\n",
    "        ORDER BY avg_rating DESC\n",
    "        LIMIT 1\n",
    "'''.format('task_4')\n",
    "    \n",
    "\n",
    "task_4 = pd.io.sql.read_sql(task_4, con = engine) \n",
    "task_4"
   ]
  },
  {
   "cell_type": "markdown",
   "metadata": {},
   "source": [
    "### Вывод\n",
    "\n",
    "- Автором с самой высокой средней оценкой книг (на основании более 50 оценок), является несравненная Джоан Роулинг. Речь идет о книгах проиллюстрированных Мэри ГрандПре (американский иллюстратор и писатель) - средняя оценка произведений 4,28. \n",
    "\n"
   ]
  },
  {
   "cell_type": "markdown",
   "metadata": {},
   "source": [
    "## Задача 5\n",
    "\n",
    "<div style=\"border:solid black 0.5px; padding: 20px\">\n",
    "\n",
    "Расчитать среднее количество обзоров от пользователей, которые поставили больше 50 оценок."
   ]
  },
  {
   "cell_type": "code",
   "execution_count": 16,
   "metadata": {},
   "outputs": [
    {
     "data": {
      "text/html": [
       "<div>\n",
       "<style scoped>\n",
       "    .dataframe tbody tr th:only-of-type {\n",
       "        vertical-align: middle;\n",
       "    }\n",
       "\n",
       "    .dataframe tbody tr th {\n",
       "        vertical-align: top;\n",
       "    }\n",
       "\n",
       "    .dataframe thead th {\n",
       "        text-align: right;\n",
       "    }\n",
       "</style>\n",
       "<table border=\"1\" class=\"dataframe\">\n",
       "  <thead>\n",
       "    <tr style=\"text-align: right;\">\n",
       "      <th></th>\n",
       "      <th>avg_reviews</th>\n",
       "    </tr>\n",
       "  </thead>\n",
       "  <tbody>\n",
       "    <tr>\n",
       "      <th>0</th>\n",
       "      <td>24.0</td>\n",
       "    </tr>\n",
       "  </tbody>\n",
       "</table>\n",
       "</div>"
      ],
      "text/plain": [
       "   avg_reviews\n",
       "0         24.0"
      ]
     },
     "execution_count": 16,
     "metadata": {},
     "output_type": "execute_result"
    }
   ],
   "source": [
    "task_5 = '''\n",
    "        SELECT ROUND (AVG(second.count_reviewer)) AS avg_reviews\n",
    "        FROM\n",
    "            (SELECT COUNT(review_id) AS count_reviewer\n",
    "             FROM (\n",
    "                    SELECT r.username\n",
    "                    FROM ratings AS r\n",
    "                    GROUP BY r.username\n",
    "                    HAVING COUNT(rating_id) > 50\n",
    "            ) AS first\n",
    "            \n",
    "        LEFT JOIN reviews AS rev ON first.username = rev.username\n",
    "        GROUP BY rev.username) AS second\n",
    "'''.format('task_5')\n",
    "    \n",
    "\n",
    "task_5 = pd.io.sql.read_sql(task_5, con = engine) \n",
    "task_5"
   ]
  },
  {
   "cell_type": "markdown",
   "metadata": {},
   "source": [
    "### Вывод\n",
    "\n",
    "- В среднем, пользователь, который выставил более 50 оценок, оставляет около 24 обзоров. "
   ]
  },
  {
   "cell_type": "markdown",
   "metadata": {},
   "source": [
    "## Общий вывод по исследованию\n",
    "\n",
    "<div style=\"border:solid green 2px; padding: 20px\">\n",
    "    \n",
    "В результате проведенного иссредования базы данных, приобретенного сервиса предоставления электронных книг по подписке, были сделаны следующие выводы:\n",
    "- После 1 января 2000 года вышло 819 книг\n",
    "- Первое место по числу обзоров занимает первая книга в саге Сумерки (Twilight (Twilight #1)), что абсолютно не удивительно, учитывая популярность данного издания в свое время. На нее оставлено 7 обзоров. Средняя оценка произведения - 3,66.\n",
    "Одинаковое число обзоров (6) у нескольких произведений:\n",
    ">-  Гарри Поттер и Узник Азкабана (средняя оценка 4,41)\n",
    ">-  Гарри Поттер и Тайная Комната (средняя оценка 4,28)\n",
    ">-  Воровка книг (средняя оценка 4,26)\n",
    ">-  Замок из стекла (средняя оценка 4,2)\n",
    "- Первое место по числу обзоров, имея максимальную среднюю оценку (5 из 5 возможных) занимает произведение Кристофера Мура \"Грязна работа\"\n",
    "- Первое место среди издательств по числу выпущенных книг (исключая брошюры толщиной менее 50 страниц), занимает издательство \"Penguin Books\"\n",
    "- Автором с самой высокой средней оценкой книг (на основании более 50 оценок), является несравненная Джоан Роулинг. Речь идет о книгах проиллюстрированных Мэри ГрандПре (американский иллюстратор и писатель) - средняя оценка произведений 4,28. \n",
    "- В среднем, пользователь, который выставил более 50 оценок, оставляет около 24 обзоров. "
   ]
  }
 ],
 "metadata": {
  "ExecuteTimeLog": [
   {
    "duration": 2045,
    "start_time": "2022-10-14T16:08:05.935Z"
   },
   {
    "duration": 9845,
    "start_time": "2022-10-14T16:08:20.816Z"
   },
   {
    "duration": 2046,
    "start_time": "2022-10-14T16:21:10.425Z"
   },
   {
    "duration": 5,
    "start_time": "2022-10-14T16:21:13.207Z"
   }
  ],
  "kernelspec": {
   "display_name": "Python 3 (ipykernel)",
   "language": "python",
   "name": "python3"
  },
  "language_info": {
   "codemirror_mode": {
    "name": "ipython",
    "version": 3
   },
   "file_extension": ".py",
   "mimetype": "text/x-python",
   "name": "python",
   "nbconvert_exporter": "python",
   "pygments_lexer": "ipython3",
   "version": "3.9.5"
  },
  "toc": {
   "base_numbering": 1,
   "nav_menu": {},
   "number_sections": true,
   "sideBar": true,
   "skip_h1_title": true,
   "title_cell": "Table of Contents",
   "title_sidebar": "Contents",
   "toc_cell": false,
   "toc_position": {},
   "toc_section_display": true,
   "toc_window_display": true
  }
 },
 "nbformat": 4,
 "nbformat_minor": 2
}
